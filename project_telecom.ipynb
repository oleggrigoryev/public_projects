{
 "cells": [
  {
   "cell_type": "markdown",
   "id": "c6cba2f2",
   "metadata": {},
   "source": [
    "<font color=\"blue\">Олег привет. Давай смотреть твой план"
   ]
  },
  {
   "cell_type": "markdown",
   "id": "4be405d7",
   "metadata": {},
   "source": [
    "# Оглавление\n",
    "\n",
    "1. [Импорт библиотек](#import)\n",
    "2. [Исследовательский анализ](#research)  \n",
    "доделаю потом"
   ]
  },
  {
   "cell_type": "markdown",
   "id": "9f075886",
   "metadata": {},
   "source": [
    "<a id=\"import\"></a>\n",
    "# Импортирую библиотеки"
   ]
  },
  {
   "cell_type": "code",
   "execution_count": 1,
   "id": "bdc6a5b6",
   "metadata": {},
   "outputs": [],
   "source": [
    "# imports\n",
    "import pandas as pd\n",
    "import numpy as np\n",
    "import matplotlib.pyplot as plt\n",
    "import seaborn as sns\n",
    "from datetime import datetime\n",
    "from sklearn.model_selection import train_test_split\n",
    "from sklearn.ensemble import RandomForestClassifier\n",
    "from sklearn.model_selection import GridSearchCV\n",
    "from sklearn.model_selection import RandomizedSearchCV\n",
    "from sklearn.preprocessing import OrdinalEncoder\n",
    "\n",
    "# metrics\n",
    "from sklearn.metrics import roc_auc_score\n",
    "from sklearn.metrics import roc_curve\n",
    "from sklearn.metrics import accuracy_score\n",
    "from sklearn.metrics import f1_score\n",
    "from sklearn.metrics import precision_recall_curve\n",
    "from scipy.stats import chi2_contingency"
   ]
  },
  {
   "cell_type": "code",
   "execution_count": 2,
   "id": "b72f157b",
   "metadata": {},
   "outputs": [
    {
     "name": "stdout",
     "output_type": "stream",
     "text": [
      "Defaulting to user installation because normal site-packages is not writeable\n",
      "Requirement already up-to-date: catboost in /home/jovyan/.local/lib/python3.7/site-packages (1.0.4)\n",
      "Requirement already satisfied, skipping upgrade: scipy in /opt/conda/lib/python3.7/site-packages (from catboost) (1.4.1)\n",
      "Requirement already satisfied, skipping upgrade: plotly in /opt/conda/lib/python3.7/site-packages (from catboost) (4.1.0)\n",
      "Requirement already satisfied, skipping upgrade: graphviz in /opt/conda/lib/python3.7/site-packages (from catboost) (0.16)\n",
      "Requirement already satisfied, skipping upgrade: pandas>=0.24.0 in /opt/conda/lib/python3.7/site-packages (from catboost) (0.25.1)\n",
      "Requirement already satisfied, skipping upgrade: matplotlib in /opt/conda/lib/python3.7/site-packages (from catboost) (3.1.0)\n",
      "Requirement already satisfied, skipping upgrade: six in /opt/conda/lib/python3.7/site-packages (from catboost) (1.15.0)\n",
      "Requirement already satisfied, skipping upgrade: numpy>=1.16.0 in /opt/conda/lib/python3.7/site-packages (from catboost) (1.19.5)\n",
      "Requirement already satisfied, skipping upgrade: retrying>=1.3.3 in /opt/conda/lib/python3.7/site-packages (from plotly->catboost) (1.3.3)\n",
      "Requirement already satisfied, skipping upgrade: pytz>=2017.2 in /opt/conda/lib/python3.7/site-packages (from pandas>=0.24.0->catboost) (2021.1)\n",
      "Requirement already satisfied, skipping upgrade: python-dateutil>=2.6.1 in /opt/conda/lib/python3.7/site-packages (from pandas>=0.24.0->catboost) (2.8.1)\n",
      "Requirement already satisfied, skipping upgrade: cycler>=0.10 in /opt/conda/lib/python3.7/site-packages (from matplotlib->catboost) (0.10.0)\n",
      "Requirement already satisfied, skipping upgrade: kiwisolver>=1.0.1 in /opt/conda/lib/python3.7/site-packages (from matplotlib->catboost) (1.3.1)\n",
      "Requirement already satisfied, skipping upgrade: pyparsing!=2.0.4,!=2.1.2,!=2.1.6,>=2.0.1 in /opt/conda/lib/python3.7/site-packages (from matplotlib->catboost) (2.4.7)\n",
      "Defaulting to user installation because normal site-packages is not writeable\n",
      "Requirement already satisfied: ipywidgets in /opt/conda/lib/python3.7/site-packages (7.2.0)\n",
      "Requirement already satisfied: widgetsnbextension~=3.2.0 in /opt/conda/lib/python3.7/site-packages (from ipywidgets) (3.2.1)\n",
      "Requirement already satisfied: ipykernel>=4.5.1 in /opt/conda/lib/python3.7/site-packages (from ipywidgets) (5.5.5)\n",
      "Requirement already satisfied: ipython>=4.0.0; python_version >= \"3.3\" in /opt/conda/lib/python3.7/site-packages (from ipywidgets) (7.24.1)\n",
      "Requirement already satisfied: traitlets>=4.3.1 in /opt/conda/lib/python3.7/site-packages (from ipywidgets) (5.0.5)\n",
      "Requirement already satisfied: nbformat>=4.2.0 in /opt/conda/lib/python3.7/site-packages (from ipywidgets) (4.4.0)\n",
      "Requirement already satisfied: notebook>=4.4.1 in /opt/conda/lib/python3.7/site-packages (from widgetsnbextension~=3.2.0->ipywidgets) (6.1.4)\n",
      "Requirement already satisfied: tornado>=4.2 in /opt/conda/lib/python3.7/site-packages (from ipykernel>=4.5.1->ipywidgets) (6.1)\n",
      "Requirement already satisfied: jupyter-client in /opt/conda/lib/python3.7/site-packages (from ipykernel>=4.5.1->ipywidgets) (5.3.4)\n",
      "Requirement already satisfied: jedi>=0.16 in /opt/conda/lib/python3.7/site-packages (from ipython>=4.0.0; python_version >= \"3.3\"->ipywidgets) (0.17.2)\n",
      "Requirement already satisfied: backcall in /opt/conda/lib/python3.7/site-packages (from ipython>=4.0.0; python_version >= \"3.3\"->ipywidgets) (0.2.0)\n",
      "Requirement already satisfied: matplotlib-inline in /opt/conda/lib/python3.7/site-packages (from ipython>=4.0.0; python_version >= \"3.3\"->ipywidgets) (0.1.2)\n",
      "Requirement already satisfied: pickleshare in /opt/conda/lib/python3.7/site-packages (from ipython>=4.0.0; python_version >= \"3.3\"->ipywidgets) (0.7.5)\n",
      "Requirement already satisfied: prompt-toolkit!=3.0.0,!=3.0.1,<3.1.0,>=2.0.0 in /opt/conda/lib/python3.7/site-packages (from ipython>=4.0.0; python_version >= \"3.3\"->ipywidgets) (3.0.8)\n",
      "Requirement already satisfied: decorator in /opt/conda/lib/python3.7/site-packages (from ipython>=4.0.0; python_version >= \"3.3\"->ipywidgets) (4.4.2)\n",
      "Requirement already satisfied: pygments in /opt/conda/lib/python3.7/site-packages (from ipython>=4.0.0; python_version >= \"3.3\"->ipywidgets) (2.7.2)\n",
      "Requirement already satisfied: pexpect>4.3; sys_platform != \"win32\" in /opt/conda/lib/python3.7/site-packages (from ipython>=4.0.0; python_version >= \"3.3\"->ipywidgets) (4.8.0)\n",
      "Requirement already satisfied: setuptools>=18.5 in /opt/conda/lib/python3.7/site-packages (from ipython>=4.0.0; python_version >= \"3.3\"->ipywidgets) (49.6.0.post20210108)\n",
      "Requirement already satisfied: ipython-genutils in /opt/conda/lib/python3.7/site-packages (from traitlets>=4.3.1->ipywidgets) (0.2.0)\n",
      "Requirement already satisfied: jsonschema!=2.5.0,>=2.4 in /opt/conda/lib/python3.7/site-packages (from nbformat>=4.2.0->ipywidgets) (3.2.0)\n",
      "Requirement already satisfied: jupyter-core in /opt/conda/lib/python3.7/site-packages (from nbformat>=4.2.0->ipywidgets) (4.6.2)\n",
      "Requirement already satisfied: Send2Trash in /opt/conda/lib/python3.7/site-packages (from notebook>=4.4.1->widgetsnbextension~=3.2.0->ipywidgets) (1.5.0)\n",
      "Requirement already satisfied: jinja2 in /opt/conda/lib/python3.7/site-packages (from notebook>=4.4.1->widgetsnbextension~=3.2.0->ipywidgets) (2.11.2)\n",
      "Requirement already satisfied: argon2-cffi in /opt/conda/lib/python3.7/site-packages (from notebook>=4.4.1->widgetsnbextension~=3.2.0->ipywidgets) (20.1.0)\n",
      "Requirement already satisfied: terminado>=0.8.3 in /opt/conda/lib/python3.7/site-packages (from notebook>=4.4.1->widgetsnbextension~=3.2.0->ipywidgets) (0.10.0)\n",
      "Requirement already satisfied: prometheus-client in /opt/conda/lib/python3.7/site-packages (from notebook>=4.4.1->widgetsnbextension~=3.2.0->ipywidgets) (0.8.0)\n",
      "Requirement already satisfied: pyzmq>=17 in /opt/conda/lib/python3.7/site-packages (from notebook>=4.4.1->widgetsnbextension~=3.2.0->ipywidgets) (22.0.3)\n",
      "Requirement already satisfied: nbconvert in /opt/conda/lib/python3.7/site-packages (from notebook>=4.4.1->widgetsnbextension~=3.2.0->ipywidgets) (5.5.0)\n",
      "Requirement already satisfied: python-dateutil>=2.1 in /opt/conda/lib/python3.7/site-packages (from jupyter-client->ipykernel>=4.5.1->ipywidgets) (2.8.1)\n",
      "Requirement already satisfied: parso<0.8.0,>=0.7.0 in /opt/conda/lib/python3.7/site-packages (from jedi>=0.16->ipython>=4.0.0; python_version >= \"3.3\"->ipywidgets) (0.7.1)\n",
      "Requirement already satisfied: wcwidth in /opt/conda/lib/python3.7/site-packages (from prompt-toolkit!=3.0.0,!=3.0.1,<3.1.0,>=2.0.0->ipython>=4.0.0; python_version >= \"3.3\"->ipywidgets) (0.2.5)\n",
      "Requirement already satisfied: ptyprocess>=0.5 in /opt/conda/lib/python3.7/site-packages (from pexpect>4.3; sys_platform != \"win32\"->ipython>=4.0.0; python_version >= \"3.3\"->ipywidgets) (0.6.0)\n",
      "Requirement already satisfied: pyrsistent>=0.14.0 in /opt/conda/lib/python3.7/site-packages (from jsonschema!=2.5.0,>=2.4->nbformat>=4.2.0->ipywidgets) (0.17.3)\n",
      "Requirement already satisfied: importlib-metadata; python_version < \"3.8\" in /opt/conda/lib/python3.7/site-packages (from jsonschema!=2.5.0,>=2.4->nbformat>=4.2.0->ipywidgets) (2.0.0)\n",
      "Requirement already satisfied: attrs>=17.4.0 in /opt/conda/lib/python3.7/site-packages (from jsonschema!=2.5.0,>=2.4->nbformat>=4.2.0->ipywidgets) (19.1.0)\n",
      "Requirement already satisfied: six>=1.11.0 in /opt/conda/lib/python3.7/site-packages (from jsonschema!=2.5.0,>=2.4->nbformat>=4.2.0->ipywidgets) (1.15.0)\n",
      "Requirement already satisfied: MarkupSafe>=0.23 in /opt/conda/lib/python3.7/site-packages (from jinja2->notebook>=4.4.1->widgetsnbextension~=3.2.0->ipywidgets) (2.0.1)\n",
      "Requirement already satisfied: cffi>=1.0.0 in /opt/conda/lib/python3.7/site-packages (from argon2-cffi->notebook>=4.4.1->widgetsnbextension~=3.2.0->ipywidgets) (1.14.4)\n",
      "Requirement already satisfied: pandocfilters>=1.4.1 in /opt/conda/lib/python3.7/site-packages (from nbconvert->notebook>=4.4.1->widgetsnbextension~=3.2.0->ipywidgets) (1.4.2)\n",
      "Requirement already satisfied: testpath in /opt/conda/lib/python3.7/site-packages (from nbconvert->notebook>=4.4.1->widgetsnbextension~=3.2.0->ipywidgets) (0.4.4)\n",
      "Requirement already satisfied: entrypoints>=0.2.2 in /opt/conda/lib/python3.7/site-packages (from nbconvert->notebook>=4.4.1->widgetsnbextension~=3.2.0->ipywidgets) (0.3)\n",
      "Requirement already satisfied: defusedxml in /opt/conda/lib/python3.7/site-packages (from nbconvert->notebook>=4.4.1->widgetsnbextension~=3.2.0->ipywidgets) (0.6.0)\n",
      "Requirement already satisfied: bleach in /opt/conda/lib/python3.7/site-packages (from nbconvert->notebook>=4.4.1->widgetsnbextension~=3.2.0->ipywidgets) (3.2.1)\n",
      "Requirement already satisfied: mistune>=0.8.1 in /opt/conda/lib/python3.7/site-packages (from nbconvert->notebook>=4.4.1->widgetsnbextension~=3.2.0->ipywidgets) (0.8.4)\n",
      "Requirement already satisfied: zipp>=0.5 in /opt/conda/lib/python3.7/site-packages (from importlib-metadata; python_version < \"3.8\"->jsonschema!=2.5.0,>=2.4->nbformat>=4.2.0->ipywidgets) (3.4.0)\n",
      "Requirement already satisfied: pycparser in /opt/conda/lib/python3.7/site-packages (from cffi>=1.0.0->argon2-cffi->notebook>=4.4.1->widgetsnbextension~=3.2.0->ipywidgets) (2.20)\n",
      "Requirement already satisfied: webencodings in /opt/conda/lib/python3.7/site-packages (from bleach->nbconvert->notebook>=4.4.1->widgetsnbextension~=3.2.0->ipywidgets) (0.5.1)\n",
      "Requirement already satisfied: packaging in /opt/conda/lib/python3.7/site-packages (from bleach->nbconvert->notebook>=4.4.1->widgetsnbextension~=3.2.0->ipywidgets) (20.4)\n",
      "Requirement already satisfied: pyparsing>=2.0.2 in /opt/conda/lib/python3.7/site-packages (from packaging->bleach->nbconvert->notebook>=4.4.1->widgetsnbextension~=3.2.0->ipywidgets) (2.4.7)\n",
      "Enabling notebook extension jupyter-js-widgets/extension...\n",
      "      - Validating: \u001b[32mOK\u001b[0m\n"
     ]
    }
   ],
   "source": [
    "#install\n",
    "!pip3 install catboost --upgrade\n",
    "from catboost import CatBoostClassifier\n",
    "!pip install ipywidgets\n",
    "!jupyter nbextension enable --py widgetsnbextension"
   ]
  },
  {
   "cell_type": "code",
   "execution_count": 3,
   "id": "eb9190fd",
   "metadata": {},
   "outputs": [],
   "source": [
    "# !pip3 install lightgbm\n",
    "# import lightgbm as lgbm"
   ]
  },
  {
   "cell_type": "code",
   "execution_count": 4,
   "id": "43008607",
   "metadata": {},
   "outputs": [],
   "source": [
    "import warnings # отключу уведомления\n",
    "warnings.filterwarnings(\"ignore\")"
   ]
  },
  {
   "cell_type": "markdown",
   "id": "436e0659",
   "metadata": {},
   "source": [
    "<a id=\"research\"></a>\n",
    "# Исследовательский анализ"
   ]
  },
  {
   "cell_type": "markdown",
   "id": "a69f3919",
   "metadata": {},
   "source": [
    "## Загружу данные"
   ]
  },
  {
   "cell_type": "code",
   "execution_count": 5,
   "id": "4cff399e",
   "metadata": {},
   "outputs": [],
   "source": [
    "df_contract = pd.read_csv('/datasets/final_provider/contract.csv')\n",
    "df_internet = pd.read_csv('/datasets/final_provider/internet.csv')\n",
    "df_personal = pd.read_csv('/datasets/final_provider/personal.csv')\n",
    "df_phone = pd.read_csv('/datasets/final_provider/phone.csv')"
   ]
  },
  {
   "cell_type": "markdown",
   "id": "8306dfe8",
   "metadata": {},
   "source": [
    "df_contract = pd.read_csv('contract.csv')\n",
    "df_internet = pd.read_csv('internet.csv')\n",
    "df_personal = pd.read_csv('personal.csv')\n",
    "df_phone = pd.read_csv('phone.csv')"
   ]
  },
  {
   "cell_type": "markdown",
   "id": "baa4eea1",
   "metadata": {},
   "source": [
    "## Изучу данные"
   ]
  },
  {
   "cell_type": "code",
   "execution_count": 6,
   "id": "37752085",
   "metadata": {},
   "outputs": [
    {
     "name": "stdout",
     "output_type": "stream",
     "text": [
      "df_contract shape: (7043, 8)\n",
      "df_internet shape: (5517, 8)\n",
      "df_personal shape: (7043, 5)\n",
      "df_phone shape: (6361, 2)\n"
     ]
    }
   ],
   "source": [
    "print('df_contract shape:', df_contract.shape)\n",
    "print('df_internet shape:', df_internet.shape)\n",
    "print('df_personal shape:', df_personal.shape)\n",
    "print('df_phone shape:', df_phone.shape)"
   ]
  },
  {
   "cell_type": "markdown",
   "id": "1e421427",
   "metadata": {},
   "source": [
    "Проверю на пропущенные значения:"
   ]
  },
  {
   "cell_type": "code",
   "execution_count": 7,
   "id": "4a480272",
   "metadata": {
    "tags": []
   },
   "outputs": [
    {
     "data": {
      "text/plain": [
       "[customerID          0\n",
       " BeginDate           0\n",
       " EndDate             0\n",
       " Type                0\n",
       " PaperlessBilling    0\n",
       " PaymentMethod       0\n",
       " MonthlyCharges      0\n",
       " TotalCharges        0\n",
       " dtype: int64,\n",
       " customerID          0\n",
       " InternetService     0\n",
       " OnlineSecurity      0\n",
       " OnlineBackup        0\n",
       " DeviceProtection    0\n",
       " TechSupport         0\n",
       " StreamingTV         0\n",
       " StreamingMovies     0\n",
       " dtype: int64,\n",
       " customerID       0\n",
       " gender           0\n",
       " SeniorCitizen    0\n",
       " Partner          0\n",
       " Dependents       0\n",
       " dtype: int64,\n",
       " customerID       0\n",
       " MultipleLines    0\n",
       " dtype: int64]"
      ]
     },
     "execution_count": 7,
     "metadata": {},
     "output_type": "execute_result"
    }
   ],
   "source": [
    "[x.isna().sum() for x in [df_contract, df_internet, df_personal, df_phone]]"
   ]
  },
  {
   "cell_type": "code",
   "execution_count": 8,
   "id": "a445a331",
   "metadata": {
    "tags": []
   },
   "outputs": [
    {
     "data": {
      "text/plain": [
       "[0, 0, 0, 0]"
      ]
     },
     "execution_count": 8,
     "metadata": {},
     "output_type": "execute_result"
    }
   ],
   "source": [
    "[x.duplicated().sum() for x in [df_contract, df_internet, df_personal, df_phone]]"
   ]
  },
  {
   "cell_type": "markdown",
   "id": "56eb7bd0",
   "metadata": {},
   "source": [
    "Дубликатов строк нет"
   ]
  },
  {
   "cell_type": "markdown",
   "id": "02350511",
   "metadata": {},
   "source": [
    "### Contract dataset"
   ]
  },
  {
   "cell_type": "code",
   "execution_count": 9,
   "id": "67480361",
   "metadata": {},
   "outputs": [
    {
     "name": "stdout",
     "output_type": "stream",
     "text": [
      "<class 'pandas.core.frame.DataFrame'>\n",
      "RangeIndex: 7043 entries, 0 to 7042\n",
      "Data columns (total 8 columns):\n",
      "customerID          7043 non-null object\n",
      "BeginDate           7043 non-null object\n",
      "EndDate             7043 non-null object\n",
      "Type                7043 non-null object\n",
      "PaperlessBilling    7043 non-null object\n",
      "PaymentMethod       7043 non-null object\n",
      "MonthlyCharges      7043 non-null float64\n",
      "TotalCharges        7043 non-null object\n",
      "dtypes: float64(1), object(7)\n",
      "memory usage: 440.3+ KB\n"
     ]
    }
   ],
   "source": [
    "df_contract.info()"
   ]
  },
  {
   "cell_type": "code",
   "execution_count": 10,
   "id": "f813c8ac",
   "metadata": {},
   "outputs": [
    {
     "data": {
      "text/html": [
       "<div>\n",
       "<style scoped>\n",
       "    .dataframe tbody tr th:only-of-type {\n",
       "        vertical-align: middle;\n",
       "    }\n",
       "\n",
       "    .dataframe tbody tr th {\n",
       "        vertical-align: top;\n",
       "    }\n",
       "\n",
       "    .dataframe thead th {\n",
       "        text-align: right;\n",
       "    }\n",
       "</style>\n",
       "<table border=\"1\" class=\"dataframe\">\n",
       "  <thead>\n",
       "    <tr style=\"text-align: right;\">\n",
       "      <th></th>\n",
       "      <th>customerID</th>\n",
       "      <th>BeginDate</th>\n",
       "      <th>EndDate</th>\n",
       "      <th>Type</th>\n",
       "      <th>PaperlessBilling</th>\n",
       "      <th>PaymentMethod</th>\n",
       "      <th>MonthlyCharges</th>\n",
       "      <th>TotalCharges</th>\n",
       "    </tr>\n",
       "  </thead>\n",
       "  <tbody>\n",
       "    <tr>\n",
       "      <td>0</td>\n",
       "      <td>7590-VHVEG</td>\n",
       "      <td>2020-01-01</td>\n",
       "      <td>No</td>\n",
       "      <td>Month-to-month</td>\n",
       "      <td>Yes</td>\n",
       "      <td>Electronic check</td>\n",
       "      <td>29.85</td>\n",
       "      <td>29.85</td>\n",
       "    </tr>\n",
       "    <tr>\n",
       "      <td>1</td>\n",
       "      <td>5575-GNVDE</td>\n",
       "      <td>2017-04-01</td>\n",
       "      <td>No</td>\n",
       "      <td>One year</td>\n",
       "      <td>No</td>\n",
       "      <td>Mailed check</td>\n",
       "      <td>56.95</td>\n",
       "      <td>1889.5</td>\n",
       "    </tr>\n",
       "    <tr>\n",
       "      <td>2</td>\n",
       "      <td>3668-QPYBK</td>\n",
       "      <td>2019-10-01</td>\n",
       "      <td>2019-12-01 00:00:00</td>\n",
       "      <td>Month-to-month</td>\n",
       "      <td>Yes</td>\n",
       "      <td>Mailed check</td>\n",
       "      <td>53.85</td>\n",
       "      <td>108.15</td>\n",
       "    </tr>\n",
       "    <tr>\n",
       "      <td>3</td>\n",
       "      <td>7795-CFOCW</td>\n",
       "      <td>2016-05-01</td>\n",
       "      <td>No</td>\n",
       "      <td>One year</td>\n",
       "      <td>No</td>\n",
       "      <td>Bank transfer (automatic)</td>\n",
       "      <td>42.30</td>\n",
       "      <td>1840.75</td>\n",
       "    </tr>\n",
       "    <tr>\n",
       "      <td>4</td>\n",
       "      <td>9237-HQITU</td>\n",
       "      <td>2019-09-01</td>\n",
       "      <td>2019-11-01 00:00:00</td>\n",
       "      <td>Month-to-month</td>\n",
       "      <td>Yes</td>\n",
       "      <td>Electronic check</td>\n",
       "      <td>70.70</td>\n",
       "      <td>151.65</td>\n",
       "    </tr>\n",
       "  </tbody>\n",
       "</table>\n",
       "</div>"
      ],
      "text/plain": [
       "   customerID   BeginDate              EndDate            Type  \\\n",
       "0  7590-VHVEG  2020-01-01                   No  Month-to-month   \n",
       "1  5575-GNVDE  2017-04-01                   No        One year   \n",
       "2  3668-QPYBK  2019-10-01  2019-12-01 00:00:00  Month-to-month   \n",
       "3  7795-CFOCW  2016-05-01                   No        One year   \n",
       "4  9237-HQITU  2019-09-01  2019-11-01 00:00:00  Month-to-month   \n",
       "\n",
       "  PaperlessBilling              PaymentMethod  MonthlyCharges TotalCharges  \n",
       "0              Yes           Electronic check           29.85        29.85  \n",
       "1               No               Mailed check           56.95       1889.5  \n",
       "2              Yes               Mailed check           53.85       108.15  \n",
       "3               No  Bank transfer (automatic)           42.30      1840.75  \n",
       "4              Yes           Electronic check           70.70       151.65  "
      ]
     },
     "execution_count": 10,
     "metadata": {},
     "output_type": "execute_result"
    }
   ],
   "source": [
    "df_contract.head(5)"
   ]
  },
  {
   "cell_type": "markdown",
   "id": "f5a704dc",
   "metadata": {},
   "source": [
    "### Internet dataset"
   ]
  },
  {
   "cell_type": "code",
   "execution_count": 11,
   "id": "733b6a1b",
   "metadata": {},
   "outputs": [
    {
     "name": "stdout",
     "output_type": "stream",
     "text": [
      "<class 'pandas.core.frame.DataFrame'>\n",
      "RangeIndex: 5517 entries, 0 to 5516\n",
      "Data columns (total 8 columns):\n",
      "customerID          5517 non-null object\n",
      "InternetService     5517 non-null object\n",
      "OnlineSecurity      5517 non-null object\n",
      "OnlineBackup        5517 non-null object\n",
      "DeviceProtection    5517 non-null object\n",
      "TechSupport         5517 non-null object\n",
      "StreamingTV         5517 non-null object\n",
      "StreamingMovies     5517 non-null object\n",
      "dtypes: object(8)\n",
      "memory usage: 344.9+ KB\n"
     ]
    }
   ],
   "source": [
    "df_internet.info()"
   ]
  },
  {
   "cell_type": "code",
   "execution_count": 12,
   "id": "3485f112",
   "metadata": {
    "tags": []
   },
   "outputs": [
    {
     "data": {
      "text/html": [
       "<div>\n",
       "<style scoped>\n",
       "    .dataframe tbody tr th:only-of-type {\n",
       "        vertical-align: middle;\n",
       "    }\n",
       "\n",
       "    .dataframe tbody tr th {\n",
       "        vertical-align: top;\n",
       "    }\n",
       "\n",
       "    .dataframe thead th {\n",
       "        text-align: right;\n",
       "    }\n",
       "</style>\n",
       "<table border=\"1\" class=\"dataframe\">\n",
       "  <thead>\n",
       "    <tr style=\"text-align: right;\">\n",
       "      <th></th>\n",
       "      <th>customerID</th>\n",
       "      <th>InternetService</th>\n",
       "      <th>OnlineSecurity</th>\n",
       "      <th>OnlineBackup</th>\n",
       "      <th>DeviceProtection</th>\n",
       "      <th>TechSupport</th>\n",
       "      <th>StreamingTV</th>\n",
       "      <th>StreamingMovies</th>\n",
       "    </tr>\n",
       "  </thead>\n",
       "  <tbody>\n",
       "    <tr>\n",
       "      <td>0</td>\n",
       "      <td>7590-VHVEG</td>\n",
       "      <td>DSL</td>\n",
       "      <td>No</td>\n",
       "      <td>Yes</td>\n",
       "      <td>No</td>\n",
       "      <td>No</td>\n",
       "      <td>No</td>\n",
       "      <td>No</td>\n",
       "    </tr>\n",
       "    <tr>\n",
       "      <td>1</td>\n",
       "      <td>5575-GNVDE</td>\n",
       "      <td>DSL</td>\n",
       "      <td>Yes</td>\n",
       "      <td>No</td>\n",
       "      <td>Yes</td>\n",
       "      <td>No</td>\n",
       "      <td>No</td>\n",
       "      <td>No</td>\n",
       "    </tr>\n",
       "    <tr>\n",
       "      <td>2</td>\n",
       "      <td>3668-QPYBK</td>\n",
       "      <td>DSL</td>\n",
       "      <td>Yes</td>\n",
       "      <td>Yes</td>\n",
       "      <td>No</td>\n",
       "      <td>No</td>\n",
       "      <td>No</td>\n",
       "      <td>No</td>\n",
       "    </tr>\n",
       "    <tr>\n",
       "      <td>3</td>\n",
       "      <td>7795-CFOCW</td>\n",
       "      <td>DSL</td>\n",
       "      <td>Yes</td>\n",
       "      <td>No</td>\n",
       "      <td>Yes</td>\n",
       "      <td>Yes</td>\n",
       "      <td>No</td>\n",
       "      <td>No</td>\n",
       "    </tr>\n",
       "    <tr>\n",
       "      <td>4</td>\n",
       "      <td>9237-HQITU</td>\n",
       "      <td>Fiber optic</td>\n",
       "      <td>No</td>\n",
       "      <td>No</td>\n",
       "      <td>No</td>\n",
       "      <td>No</td>\n",
       "      <td>No</td>\n",
       "      <td>No</td>\n",
       "    </tr>\n",
       "  </tbody>\n",
       "</table>\n",
       "</div>"
      ],
      "text/plain": [
       "   customerID InternetService OnlineSecurity OnlineBackup DeviceProtection  \\\n",
       "0  7590-VHVEG             DSL             No          Yes               No   \n",
       "1  5575-GNVDE             DSL            Yes           No              Yes   \n",
       "2  3668-QPYBK             DSL            Yes          Yes               No   \n",
       "3  7795-CFOCW             DSL            Yes           No              Yes   \n",
       "4  9237-HQITU     Fiber optic             No           No               No   \n",
       "\n",
       "  TechSupport StreamingTV StreamingMovies  \n",
       "0          No          No              No  \n",
       "1          No          No              No  \n",
       "2          No          No              No  \n",
       "3         Yes          No              No  \n",
       "4          No          No              No  "
      ]
     },
     "execution_count": 12,
     "metadata": {},
     "output_type": "execute_result"
    }
   ],
   "source": [
    "df_internet.head(5)"
   ]
  },
  {
   "cell_type": "markdown",
   "id": "6a22d203",
   "metadata": {},
   "source": [
    "### Personal dataset"
   ]
  },
  {
   "cell_type": "code",
   "execution_count": 13,
   "id": "45ffc9db",
   "metadata": {},
   "outputs": [
    {
     "name": "stdout",
     "output_type": "stream",
     "text": [
      "<class 'pandas.core.frame.DataFrame'>\n",
      "RangeIndex: 7043 entries, 0 to 7042\n",
      "Data columns (total 5 columns):\n",
      "customerID       7043 non-null object\n",
      "gender           7043 non-null object\n",
      "SeniorCitizen    7043 non-null int64\n",
      "Partner          7043 non-null object\n",
      "Dependents       7043 non-null object\n",
      "dtypes: int64(1), object(4)\n",
      "memory usage: 275.2+ KB\n"
     ]
    }
   ],
   "source": [
    "df_personal.info()"
   ]
  },
  {
   "cell_type": "code",
   "execution_count": 14,
   "id": "a2a5e507",
   "metadata": {
    "scrolled": true
   },
   "outputs": [
    {
     "data": {
      "text/html": [
       "<div>\n",
       "<style scoped>\n",
       "    .dataframe tbody tr th:only-of-type {\n",
       "        vertical-align: middle;\n",
       "    }\n",
       "\n",
       "    .dataframe tbody tr th {\n",
       "        vertical-align: top;\n",
       "    }\n",
       "\n",
       "    .dataframe thead th {\n",
       "        text-align: right;\n",
       "    }\n",
       "</style>\n",
       "<table border=\"1\" class=\"dataframe\">\n",
       "  <thead>\n",
       "    <tr style=\"text-align: right;\">\n",
       "      <th></th>\n",
       "      <th>customerID</th>\n",
       "      <th>gender</th>\n",
       "      <th>SeniorCitizen</th>\n",
       "      <th>Partner</th>\n",
       "      <th>Dependents</th>\n",
       "    </tr>\n",
       "  </thead>\n",
       "  <tbody>\n",
       "    <tr>\n",
       "      <td>0</td>\n",
       "      <td>7590-VHVEG</td>\n",
       "      <td>Female</td>\n",
       "      <td>0</td>\n",
       "      <td>Yes</td>\n",
       "      <td>No</td>\n",
       "    </tr>\n",
       "    <tr>\n",
       "      <td>1</td>\n",
       "      <td>5575-GNVDE</td>\n",
       "      <td>Male</td>\n",
       "      <td>0</td>\n",
       "      <td>No</td>\n",
       "      <td>No</td>\n",
       "    </tr>\n",
       "    <tr>\n",
       "      <td>2</td>\n",
       "      <td>3668-QPYBK</td>\n",
       "      <td>Male</td>\n",
       "      <td>0</td>\n",
       "      <td>No</td>\n",
       "      <td>No</td>\n",
       "    </tr>\n",
       "    <tr>\n",
       "      <td>3</td>\n",
       "      <td>7795-CFOCW</td>\n",
       "      <td>Male</td>\n",
       "      <td>0</td>\n",
       "      <td>No</td>\n",
       "      <td>No</td>\n",
       "    </tr>\n",
       "    <tr>\n",
       "      <td>4</td>\n",
       "      <td>9237-HQITU</td>\n",
       "      <td>Female</td>\n",
       "      <td>0</td>\n",
       "      <td>No</td>\n",
       "      <td>No</td>\n",
       "    </tr>\n",
       "  </tbody>\n",
       "</table>\n",
       "</div>"
      ],
      "text/plain": [
       "   customerID  gender  SeniorCitizen Partner Dependents\n",
       "0  7590-VHVEG  Female              0     Yes         No\n",
       "1  5575-GNVDE    Male              0      No         No\n",
       "2  3668-QPYBK    Male              0      No         No\n",
       "3  7795-CFOCW    Male              0      No         No\n",
       "4  9237-HQITU  Female              0      No         No"
      ]
     },
     "execution_count": 14,
     "metadata": {},
     "output_type": "execute_result"
    }
   ],
   "source": [
    "df_personal.head(5)"
   ]
  },
  {
   "cell_type": "markdown",
   "id": "41dc76b3",
   "metadata": {},
   "source": [
    "### Phone dataset"
   ]
  },
  {
   "cell_type": "code",
   "execution_count": 15,
   "id": "38b8c2c7",
   "metadata": {
    "scrolled": true,
    "tags": []
   },
   "outputs": [
    {
     "name": "stdout",
     "output_type": "stream",
     "text": [
      "<class 'pandas.core.frame.DataFrame'>\n",
      "RangeIndex: 6361 entries, 0 to 6360\n",
      "Data columns (total 2 columns):\n",
      "customerID       6361 non-null object\n",
      "MultipleLines    6361 non-null object\n",
      "dtypes: object(2)\n",
      "memory usage: 99.5+ KB\n"
     ]
    }
   ],
   "source": [
    "df_phone.info()"
   ]
  },
  {
   "cell_type": "code",
   "execution_count": 16,
   "id": "04a9df53",
   "metadata": {},
   "outputs": [
    {
     "data": {
      "text/html": [
       "<div>\n",
       "<style scoped>\n",
       "    .dataframe tbody tr th:only-of-type {\n",
       "        vertical-align: middle;\n",
       "    }\n",
       "\n",
       "    .dataframe tbody tr th {\n",
       "        vertical-align: top;\n",
       "    }\n",
       "\n",
       "    .dataframe thead th {\n",
       "        text-align: right;\n",
       "    }\n",
       "</style>\n",
       "<table border=\"1\" class=\"dataframe\">\n",
       "  <thead>\n",
       "    <tr style=\"text-align: right;\">\n",
       "      <th></th>\n",
       "      <th>customerID</th>\n",
       "      <th>MultipleLines</th>\n",
       "    </tr>\n",
       "  </thead>\n",
       "  <tbody>\n",
       "    <tr>\n",
       "      <td>0</td>\n",
       "      <td>5575-GNVDE</td>\n",
       "      <td>No</td>\n",
       "    </tr>\n",
       "    <tr>\n",
       "      <td>1</td>\n",
       "      <td>3668-QPYBK</td>\n",
       "      <td>No</td>\n",
       "    </tr>\n",
       "    <tr>\n",
       "      <td>2</td>\n",
       "      <td>9237-HQITU</td>\n",
       "      <td>No</td>\n",
       "    </tr>\n",
       "    <tr>\n",
       "      <td>3</td>\n",
       "      <td>9305-CDSKC</td>\n",
       "      <td>Yes</td>\n",
       "    </tr>\n",
       "    <tr>\n",
       "      <td>4</td>\n",
       "      <td>1452-KIOVK</td>\n",
       "      <td>Yes</td>\n",
       "    </tr>\n",
       "  </tbody>\n",
       "</table>\n",
       "</div>"
      ],
      "text/plain": [
       "   customerID MultipleLines\n",
       "0  5575-GNVDE            No\n",
       "1  3668-QPYBK            No\n",
       "2  9237-HQITU            No\n",
       "3  9305-CDSKC           Yes\n",
       "4  1452-KIOVK           Yes"
      ]
     },
     "execution_count": 16,
     "metadata": {},
     "output_type": "execute_result"
    }
   ],
   "source": [
    "df_phone.head(5)"
   ]
  },
  {
   "cell_type": "markdown",
   "id": "a3bd92df",
   "metadata": {},
   "source": [
    "<div style=\"background: #cceeaa; padding: 5px; border: 1px solid green; border-radius: 5px;\">\n",
    "    <font color='green'> <b><u>КОММЕНТАРИЙ РЕВЬЮЕРА 2</u></b>\n",
    "</font>\n",
    "<font color='green'><br>Супер, данные на базе и есть первичный аналитический осмотр)"
   ]
  },
  {
   "cell_type": "code",
   "execution_count": null,
   "id": "a863b357",
   "metadata": {},
   "outputs": [],
   "source": []
  },
  {
   "cell_type": "markdown",
   "id": "1a103a0b",
   "metadata": {},
   "source": [
    "## Предобработка данных"
   ]
  },
  {
   "cell_type": "markdown",
   "id": "65d4f26d",
   "metadata": {},
   "source": [
    "Напишу функцию для замены бинарных значений \"Yes/No\" на \"1/0\":"
   ]
  },
  {
   "cell_type": "raw",
   "id": "69858d30",
   "metadata": {},
   "source": [
    "def rename(dataframe, list_columns):\n",
    "    [dataframe.replace({column: {'Yes':1, 'No':0}}, inplace=True) for column in list_columns]\n",
    "    [dataframe[column].astype('int64') for column in list_columns]\n",
    "    return dataframe"
   ]
  },
  {
   "cell_type": "markdown",
   "id": "036f2c90",
   "metadata": {
    "tags": []
   },
   "source": [
    "### Датасет `df_contract`"
   ]
  },
  {
   "cell_type": "markdown",
   "id": "b53f8081",
   "metadata": {},
   "source": [
    "Применю функцию замены бинарных значений:"
   ]
  },
  {
   "cell_type": "raw",
   "id": "1c8aa838",
   "metadata": {},
   "source": [
    "rename(df_contract, ['PaperlessBilling'])\n",
    "df_contract['PaperlessBilling'].unique()"
   ]
  },
  {
   "cell_type": "markdown",
   "id": "ff7d929b",
   "metadata": {},
   "source": [
    "Поправлю типы данных в `BeginDate` и в `EndDate` на `datetime64`:"
   ]
  },
  {
   "cell_type": "code",
   "execution_count": 17,
   "id": "cbf99162",
   "metadata": {},
   "outputs": [],
   "source": [
    "df_contract['BeginDate'] = pd.to_datetime(df_contract['BeginDate'])"
   ]
  },
  {
   "cell_type": "code",
   "execution_count": 18,
   "id": "cf53202b",
   "metadata": {},
   "outputs": [],
   "source": [
    "df_contract.loc[df_contract['EndDate'] == \"No\", 'EndDate'] = np.NaN"
   ]
  },
  {
   "cell_type": "code",
   "execution_count": 19,
   "id": "f33307f2",
   "metadata": {},
   "outputs": [],
   "source": [
    "df_contract['EndDate'] = pd.to_datetime(df_contract['EndDate'])"
   ]
  },
  {
   "cell_type": "code",
   "execution_count": 20,
   "id": "c6bc601b",
   "metadata": {},
   "outputs": [
    {
     "name": "stdout",
     "output_type": "stream",
     "text": [
      "<class 'pandas.core.frame.DataFrame'>\n",
      "RangeIndex: 7043 entries, 0 to 7042\n",
      "Data columns (total 8 columns):\n",
      "customerID          7043 non-null object\n",
      "BeginDate           7043 non-null datetime64[ns]\n",
      "EndDate             1869 non-null datetime64[ns]\n",
      "Type                7043 non-null object\n",
      "PaperlessBilling    7043 non-null object\n",
      "PaymentMethod       7043 non-null object\n",
      "MonthlyCharges      7043 non-null float64\n",
      "TotalCharges        7043 non-null object\n",
      "dtypes: datetime64[ns](2), float64(1), object(5)\n",
      "memory usage: 440.3+ KB\n"
     ]
    }
   ],
   "source": [
    "df_contract.info()"
   ]
  },
  {
   "cell_type": "markdown",
   "id": "d90e08f9",
   "metadata": {},
   "source": [
    "<div style=\"background: #cceeaa; padding: 5px; border: 1px solid green; border-radius: 5px;\">\n",
    "    <font color='green'> <b><u>КОММЕНТАРИЙ РЕВЬЮЕРА</u></b>\n",
    "</font>\n",
    "<font color='green'><br>ОК"
   ]
  },
  {
   "cell_type": "markdown",
   "id": "a8a3c8fc",
   "metadata": {},
   "source": [
    "Изменю значения признака `SeniorCitizen`:"
   ]
  },
  {
   "cell_type": "code",
   "execution_count": 21,
   "id": "13755797",
   "metadata": {},
   "outputs": [],
   "source": [
    "def renamer(dataframe, list_columns):\n",
    "    (\n",
    "    [dataframe.replace({column: {1:'Yes', 0:'No'}}, inplace=True)\n",
    "     for column\n",
    "     in list_columns]\n",
    "    )"
   ]
  },
  {
   "cell_type": "code",
   "execution_count": 22,
   "id": "c84ef8cb",
   "metadata": {},
   "outputs": [],
   "source": [
    "renamer(df_personal, ['SeniorCitizen'])"
   ]
  },
  {
   "cell_type": "code",
   "execution_count": 23,
   "id": "5a5c971b",
   "metadata": {},
   "outputs": [
    {
     "data": {
      "text/html": [
       "<div>\n",
       "<style scoped>\n",
       "    .dataframe tbody tr th:only-of-type {\n",
       "        vertical-align: middle;\n",
       "    }\n",
       "\n",
       "    .dataframe tbody tr th {\n",
       "        vertical-align: top;\n",
       "    }\n",
       "\n",
       "    .dataframe thead th {\n",
       "        text-align: right;\n",
       "    }\n",
       "</style>\n",
       "<table border=\"1\" class=\"dataframe\">\n",
       "  <thead>\n",
       "    <tr style=\"text-align: right;\">\n",
       "      <th></th>\n",
       "      <th>customerID</th>\n",
       "      <th>BeginDate</th>\n",
       "      <th>EndDate</th>\n",
       "      <th>Type</th>\n",
       "      <th>PaperlessBilling</th>\n",
       "      <th>PaymentMethod</th>\n",
       "      <th>MonthlyCharges</th>\n",
       "      <th>TotalCharges</th>\n",
       "    </tr>\n",
       "  </thead>\n",
       "  <tbody>\n",
       "    <tr>\n",
       "      <td>488</td>\n",
       "      <td>4472-LVYGI</td>\n",
       "      <td>2020-02-01</td>\n",
       "      <td>NaT</td>\n",
       "      <td>Two year</td>\n",
       "      <td>Yes</td>\n",
       "      <td>Bank transfer (automatic)</td>\n",
       "      <td>52.55</td>\n",
       "      <td></td>\n",
       "    </tr>\n",
       "    <tr>\n",
       "      <td>753</td>\n",
       "      <td>3115-CZMZD</td>\n",
       "      <td>2020-02-01</td>\n",
       "      <td>NaT</td>\n",
       "      <td>Two year</td>\n",
       "      <td>No</td>\n",
       "      <td>Mailed check</td>\n",
       "      <td>20.25</td>\n",
       "      <td></td>\n",
       "    </tr>\n",
       "    <tr>\n",
       "      <td>936</td>\n",
       "      <td>5709-LVOEQ</td>\n",
       "      <td>2020-02-01</td>\n",
       "      <td>NaT</td>\n",
       "      <td>Two year</td>\n",
       "      <td>No</td>\n",
       "      <td>Mailed check</td>\n",
       "      <td>80.85</td>\n",
       "      <td></td>\n",
       "    </tr>\n",
       "    <tr>\n",
       "      <td>1082</td>\n",
       "      <td>4367-NUYAO</td>\n",
       "      <td>2020-02-01</td>\n",
       "      <td>NaT</td>\n",
       "      <td>Two year</td>\n",
       "      <td>No</td>\n",
       "      <td>Mailed check</td>\n",
       "      <td>25.75</td>\n",
       "      <td></td>\n",
       "    </tr>\n",
       "    <tr>\n",
       "      <td>1340</td>\n",
       "      <td>1371-DWPAZ</td>\n",
       "      <td>2020-02-01</td>\n",
       "      <td>NaT</td>\n",
       "      <td>Two year</td>\n",
       "      <td>No</td>\n",
       "      <td>Credit card (automatic)</td>\n",
       "      <td>56.05</td>\n",
       "      <td></td>\n",
       "    </tr>\n",
       "    <tr>\n",
       "      <td>3331</td>\n",
       "      <td>7644-OMVMY</td>\n",
       "      <td>2020-02-01</td>\n",
       "      <td>NaT</td>\n",
       "      <td>Two year</td>\n",
       "      <td>No</td>\n",
       "      <td>Mailed check</td>\n",
       "      <td>19.85</td>\n",
       "      <td></td>\n",
       "    </tr>\n",
       "    <tr>\n",
       "      <td>3826</td>\n",
       "      <td>3213-VVOLG</td>\n",
       "      <td>2020-02-01</td>\n",
       "      <td>NaT</td>\n",
       "      <td>Two year</td>\n",
       "      <td>No</td>\n",
       "      <td>Mailed check</td>\n",
       "      <td>25.35</td>\n",
       "      <td></td>\n",
       "    </tr>\n",
       "    <tr>\n",
       "      <td>4380</td>\n",
       "      <td>2520-SGTTA</td>\n",
       "      <td>2020-02-01</td>\n",
       "      <td>NaT</td>\n",
       "      <td>Two year</td>\n",
       "      <td>No</td>\n",
       "      <td>Mailed check</td>\n",
       "      <td>20.00</td>\n",
       "      <td></td>\n",
       "    </tr>\n",
       "    <tr>\n",
       "      <td>5218</td>\n",
       "      <td>2923-ARZLG</td>\n",
       "      <td>2020-02-01</td>\n",
       "      <td>NaT</td>\n",
       "      <td>One year</td>\n",
       "      <td>Yes</td>\n",
       "      <td>Mailed check</td>\n",
       "      <td>19.70</td>\n",
       "      <td></td>\n",
       "    </tr>\n",
       "    <tr>\n",
       "      <td>6670</td>\n",
       "      <td>4075-WKNIU</td>\n",
       "      <td>2020-02-01</td>\n",
       "      <td>NaT</td>\n",
       "      <td>Two year</td>\n",
       "      <td>No</td>\n",
       "      <td>Mailed check</td>\n",
       "      <td>73.35</td>\n",
       "      <td></td>\n",
       "    </tr>\n",
       "    <tr>\n",
       "      <td>6754</td>\n",
       "      <td>2775-SEFEE</td>\n",
       "      <td>2020-02-01</td>\n",
       "      <td>NaT</td>\n",
       "      <td>Two year</td>\n",
       "      <td>Yes</td>\n",
       "      <td>Bank transfer (automatic)</td>\n",
       "      <td>61.90</td>\n",
       "      <td></td>\n",
       "    </tr>\n",
       "  </tbody>\n",
       "</table>\n",
       "</div>"
      ],
      "text/plain": [
       "      customerID  BeginDate EndDate      Type PaperlessBilling  \\\n",
       "488   4472-LVYGI 2020-02-01     NaT  Two year              Yes   \n",
       "753   3115-CZMZD 2020-02-01     NaT  Two year               No   \n",
       "936   5709-LVOEQ 2020-02-01     NaT  Two year               No   \n",
       "1082  4367-NUYAO 2020-02-01     NaT  Two year               No   \n",
       "1340  1371-DWPAZ 2020-02-01     NaT  Two year               No   \n",
       "3331  7644-OMVMY 2020-02-01     NaT  Two year               No   \n",
       "3826  3213-VVOLG 2020-02-01     NaT  Two year               No   \n",
       "4380  2520-SGTTA 2020-02-01     NaT  Two year               No   \n",
       "5218  2923-ARZLG 2020-02-01     NaT  One year              Yes   \n",
       "6670  4075-WKNIU 2020-02-01     NaT  Two year               No   \n",
       "6754  2775-SEFEE 2020-02-01     NaT  Two year              Yes   \n",
       "\n",
       "                  PaymentMethod  MonthlyCharges TotalCharges  \n",
       "488   Bank transfer (automatic)           52.55               \n",
       "753                Mailed check           20.25               \n",
       "936                Mailed check           80.85               \n",
       "1082               Mailed check           25.75               \n",
       "1340    Credit card (automatic)           56.05               \n",
       "3331               Mailed check           19.85               \n",
       "3826               Mailed check           25.35               \n",
       "4380               Mailed check           20.00               \n",
       "5218               Mailed check           19.70               \n",
       "6670               Mailed check           73.35               \n",
       "6754  Bank transfer (automatic)           61.90               "
      ]
     },
     "execution_count": 23,
     "metadata": {},
     "output_type": "execute_result"
    }
   ],
   "source": [
    "df_contract[df_contract['TotalCharges'] == ' ']"
   ]
  },
  {
   "cell_type": "markdown",
   "id": "df5f4bc7",
   "metadata": {},
   "source": [
    "Удалю строки с новичками в `TotalCharges`, т.к. они бесполезны для нашего исследования и мешают признаку быть полностью с типом `float64`:"
   ]
  },
  {
   "cell_type": "code",
   "execution_count": 24,
   "id": "596d06ea",
   "metadata": {},
   "outputs": [],
   "source": [
    "df_contract = df_contract[df_contract['TotalCharges'] != ' ']"
   ]
  },
  {
   "cell_type": "code",
   "execution_count": 25,
   "id": "5f87b70f",
   "metadata": {},
   "outputs": [],
   "source": [
    "df_contract.dropna(subset=['TotalCharges'], inplace=True)"
   ]
  },
  {
   "cell_type": "markdown",
   "id": "186b55d3",
   "metadata": {},
   "source": [
    "<div style=\"background: #cceeaa; padding: 5px; border: 1px solid green; border-radius: 5px;\">\n",
    "    <font color='green'> <b><u>КОММЕНТАРИЙ РЕВЬЮЕРА</u></b>\n",
    "</font>\n",
    "<font color='green'><br>\n",
    "понятно, 11 строк - не критично ни один тип подстановок: удаление, ноль, медиана... Но если смотреть через призму системного подхода, то прежде, чем принимать решение о подстановке пропусков, лучше изучить самих клиентов. Кто они, какие договора... и тогда уже принимать решение... (надо сказать, что данные клиенты - новички, ну и, соответственно, ещё не успели ничено оплатить)"
   ]
  },
  {
   "cell_type": "markdown",
   "id": "8a3a4b7e",
   "metadata": {},
   "source": [
    "<div style=\"background: #B0E0E6; padding: 5px; border: 1px solid green; border-radius: 5px;\">\n",
    "    <font color='black'> <b><u>Студента 1</u></b>\n",
    "</font>\n",
    "<font color='black'><br>Ты прав, добавил выше просмотр этой подвыборки. Я их удалю вместо замены значений."
   ]
  },
  {
   "cell_type": "markdown",
   "id": "3a785a73",
   "metadata": {},
   "source": [
    "<div style=\"background: #cceeaa; padding: 5px; border: 1px solid green; border-radius: 5px;\">\n",
    "    <font color='green'> <b><u>КОММЕНТАРИЙ РЕВЬЮЕРА 2</u></b>\n",
    "</font>\n",
    "<font color='green'><br>ок)"
   ]
  },
  {
   "cell_type": "code",
   "execution_count": 26,
   "id": "4c5d4772",
   "metadata": {},
   "outputs": [],
   "source": [
    "df_contract['TotalCharges'] = pd.to_numeric(df_contract['TotalCharges'], errors='coerce')"
   ]
  },
  {
   "cell_type": "code",
   "execution_count": 27,
   "id": "91af94e2",
   "metadata": {},
   "outputs": [
    {
     "data": {
      "text/plain": [
       "customerID             0\n",
       "BeginDate              0\n",
       "EndDate             5163\n",
       "Type                   0\n",
       "PaperlessBilling       0\n",
       "PaymentMethod          0\n",
       "MonthlyCharges         0\n",
       "TotalCharges           0\n",
       "dtype: int64"
      ]
     },
     "execution_count": 27,
     "metadata": {},
     "output_type": "execute_result"
    }
   ],
   "source": [
    "df_contract.isna().sum()"
   ]
  },
  {
   "cell_type": "code",
   "execution_count": null,
   "id": "25b3243d",
   "metadata": {},
   "outputs": [],
   "source": []
  },
  {
   "cell_type": "markdown",
   "id": "25339c66",
   "metadata": {},
   "source": [
    "Создам новый признак — время жизни клиента `life_time_na` с учётом пропущенных значений. Если данных в `EndTime` нет, значит клиент ещё не ушёл."
   ]
  },
  {
   "cell_type": "code",
   "execution_count": 28,
   "id": "b211cfc6",
   "metadata": {},
   "outputs": [
    {
     "name": "stdout",
     "output_type": "stream",
     "text": [
      "Кол-во timedelta-значений: 1869 — это закончившиеся контракты.\n",
      "Кол-во пустых значений: 5163 — это действующие контракты.\n"
     ]
    }
   ],
   "source": [
    "df_contract['life_time_na'] = df_contract['EndDate'] - df_contract['BeginDate']\n",
    "print('Кол-во timedelta-значений:',\n",
    "      np.invert(np.isnat(df_contract['life_time_na'])).sum(),\n",
    "      '— это закончившиеся контракты.')\n",
    "print('Кол-во пустых значений:',\n",
    "      np.isnat(df_contract['life_time_na']).sum(),\n",
    "      '— это действующие контракты.')"
   ]
  },
  {
   "cell_type": "markdown",
   "id": "08cd886c",
   "metadata": {},
   "source": [
    "Для абонентов без `EndDate` присвою дату выгрузки (01.02.2020) вместо `NaN`:"
   ]
  },
  {
   "cell_type": "code",
   "execution_count": 29,
   "id": "740353cf",
   "metadata": {},
   "outputs": [],
   "source": [
    "last_date = datetime.strptime('01.02.2020', '%d.%m.%Y')\n"
   ]
  },
  {
   "cell_type": "code",
   "execution_count": 30,
   "id": "c2185ee3",
   "metadata": {},
   "outputs": [],
   "source": [
    "df_contract.loc[df_contract['EndDate'].isna(), ['EndDate']] = last_date"
   ]
  },
  {
   "cell_type": "code",
   "execution_count": 31,
   "id": "19c15fbe",
   "metadata": {
    "scrolled": true
   },
   "outputs": [
    {
     "data": {
      "text/plain": [
       "0      2020-02-01\n",
       "1      2020-02-01\n",
       "2      2019-12-01\n",
       "3      2020-02-01\n",
       "4      2019-11-01\n",
       "          ...    \n",
       "7038   2020-02-01\n",
       "7039   2020-02-01\n",
       "7040   2020-02-01\n",
       "7041   2019-11-01\n",
       "7042   2020-02-01\n",
       "Name: EndDate, Length: 7032, dtype: datetime64[ns]"
      ]
     },
     "execution_count": 31,
     "metadata": {},
     "output_type": "execute_result"
    }
   ],
   "source": [
    "df_contract['EndDate']"
   ]
  },
  {
   "cell_type": "code",
   "execution_count": 32,
   "id": "fff8f1a7",
   "metadata": {},
   "outputs": [
    {
     "name": "stdout",
     "output_type": "stream",
     "text": [
      "<class 'pandas.core.frame.DataFrame'>\n",
      "Int64Index: 7032 entries, 0 to 7042\n",
      "Data columns (total 10 columns):\n",
      "customerID          7032 non-null object\n",
      "BeginDate           7032 non-null datetime64[ns]\n",
      "EndDate             7032 non-null datetime64[ns]\n",
      "Type                7032 non-null object\n",
      "PaperlessBilling    7032 non-null object\n",
      "PaymentMethod       7032 non-null object\n",
      "MonthlyCharges      7032 non-null float64\n",
      "TotalCharges        7032 non-null float64\n",
      "life_time_na        1869 non-null timedelta64[ns]\n",
      "life_time           7032 non-null timedelta64[ns]\n",
      "dtypes: datetime64[ns](2), float64(2), object(4), timedelta64[ns](2)\n",
      "memory usage: 604.3+ KB\n"
     ]
    }
   ],
   "source": [
    "###############\n",
    "df_contract['life_time'] = df_contract['EndDate'] - df_contract['BeginDate']\n",
    "df_contract.info()"
   ]
  },
  {
   "cell_type": "markdown",
   "id": "468bf4f7",
   "metadata": {},
   "source": [
    "#### Добавлю признаки"
   ]
  },
  {
   "cell_type": "markdown",
   "id": "6f509741",
   "metadata": {},
   "source": [
    "Создам признак `LifeTimeMonths`, чтобы оперировать не `timedelta`:"
   ]
  },
  {
   "cell_type": "code",
   "execution_count": 33,
   "id": "70573fd1",
   "metadata": {},
   "outputs": [],
   "source": [
    "df_contract['LifeTimeMonths'] = (12 * \n",
    "                                 (df_contract['EndDate'].map(lambda x: x.year) -\n",
    "                                 df_contract['BeginDate'].map(lambda x: x.year)) +\n",
    "                                 (df_contract['EndDate'].map(lambda x: x.month) -\n",
    "                                 df_contract['BeginDate'].map(lambda x: x.month)))"
   ]
  },
  {
   "cell_type": "code",
   "execution_count": 34,
   "id": "83971ba8",
   "metadata": {},
   "outputs": [
    {
     "data": {
      "text/plain": [
       "0        1\n",
       "1       34\n",
       "2        2\n",
       "3       45\n",
       "4        2\n",
       "        ..\n",
       "7038    24\n",
       "7039    72\n",
       "7040    11\n",
       "7041     4\n",
       "7042    66\n",
       "Name: LifeTimeMonths, Length: 7032, dtype: int64"
      ]
     },
     "execution_count": 34,
     "metadata": {},
     "output_type": "execute_result"
    }
   ],
   "source": [
    "df_contract['LifeTimeMonths']"
   ]
  },
  {
   "cell_type": "markdown",
   "id": "4648857d",
   "metadata": {},
   "source": [
    "<div style=\"background: #cceeaa; padding: 5px; border: 1px solid green; border-radius: 5px;\">\n",
    "    <font color='green'> <b><u>КОММЕНТАРИЙ РЕВЬЮЕРА</u></b>\n",
    "</font>\n",
    "<font color='green'><br>\n",
    "нужный признак, ОК."
   ]
  },
  {
   "cell_type": "code",
   "execution_count": 35,
   "id": "69a79571",
   "metadata": {},
   "outputs": [
    {
     "data": {
      "image/png": "[encoded data removed]",
      "text/plain": [
       "<Figure size 432x288 with 1 Axes>"
      ]
     },
     "metadata": {
      "needs_background": "light"
     },
     "output_type": "display_data"
    }
   ],
   "source": [
    "df_contract['LifeTimeMonths'].hist(bins=40)\n",
    "plt.title('Распределение времени, которое пользователи были абонентами')\n",
    "plt.xlabel('\"Время жизни\", мес.')\n",
    "plt.ylabel('Количество абонентов, чел.')\n",
    "plt.show()"
   ]
  },
  {
   "cell_type": "markdown",
   "id": "c453924e",
   "metadata": {},
   "source": [
    "Видно, что очень много клиентов пользовались услугами менее 2 месяцев или более 70 месяцев."
   ]
  },
  {
   "cell_type": "markdown",
   "id": "8c3a1706",
   "metadata": {},
   "source": [
    "Создам признак времени жизни клиента в днях:"
   ]
  },
  {
   "cell_type": "code",
   "execution_count": 36,
   "id": "89dd1ea4",
   "metadata": {},
   "outputs": [
    {
     "data": {
      "image/png": "[encoded data removed]",
      "text/plain": [
       "<Figure size 432x288 with 1 Axes>"
      ]
     },
     "metadata": {
      "needs_background": "light"
     },
     "output_type": "display_data"
    }
   ],
   "source": [
    "df_contract['LifeTimeDays'] = df_contract['life_time'].map(lambda x: x.days)\n",
    "df_contract['LifeTimeDays'] = [float(x) for x in df_contract['LifeTimeDays']]\n",
    "\n",
    "df_contract['LifeTimeDays'].hist(bins=40)\n",
    "plt.title('Распределение времени, которое пользователи были абонентами')\n",
    "plt.xlabel('\"Время жизни\", дни')\n",
    "plt.ylabel('Количество абонентов, чел.')\n",
    "plt.show()"
   ]
  },
  {
   "cell_type": "code",
   "execution_count": null,
   "id": "94a32466",
   "metadata": {},
   "outputs": [],
   "source": []
  },
  {
   "cell_type": "markdown",
   "id": "94c6ce8b",
   "metadata": {},
   "source": [
    "Чтобы `TotalCharges` не суммировала `MonthlyCharges`, избавлюсь от признака, но выделю новый — `AdditionalCharges`:"
   ]
  },
  {
   "cell_type": "code",
   "execution_count": 37,
   "id": "046740e8",
   "metadata": {},
   "outputs": [
    {
     "data": {
      "text/plain": [
       "<matplotlib.axes._subplots.AxesSubplot at 0x7f5ac1006ad0>"
      ]
     },
     "execution_count": 37,
     "metadata": {},
     "output_type": "execute_result"
    },
    {
     "data": {
      "image/png": "[encoded data removed]",
      "text/plain": [
       "<Figure size 432x288 with 1 Axes>"
      ]
     },
     "metadata": {
      "needs_background": "light"
     },
     "output_type": "display_data"
    }
   ],
   "source": [
    "df_contract['AvMonthCharges'] = df_contract['TotalCharges'] / df_contract['LifeTimeMonths']\n",
    "df_contract['AvMonthCharges'].hist()"
   ]
  },
  {
   "cell_type": "code",
   "execution_count": 38,
   "id": "14eab508",
   "metadata": {},
   "outputs": [
    {
     "data": {
      "text/html": [
       "<div>\n",
       "<style scoped>\n",
       "    .dataframe tbody tr th:only-of-type {\n",
       "        vertical-align: middle;\n",
       "    }\n",
       "\n",
       "    .dataframe tbody tr th {\n",
       "        vertical-align: top;\n",
       "    }\n",
       "\n",
       "    .dataframe thead th {\n",
       "        text-align: right;\n",
       "    }\n",
       "</style>\n",
       "<table border=\"1\" class=\"dataframe\">\n",
       "  <thead>\n",
       "    <tr style=\"text-align: right;\">\n",
       "      <th></th>\n",
       "      <th>MonthlyCharges</th>\n",
       "      <th>AvMonthCharges</th>\n",
       "    </tr>\n",
       "  </thead>\n",
       "  <tbody>\n",
       "    <tr>\n",
       "      <td>0</td>\n",
       "      <td>29.85</td>\n",
       "      <td>29.850000</td>\n",
       "    </tr>\n",
       "    <tr>\n",
       "      <td>1</td>\n",
       "      <td>56.95</td>\n",
       "      <td>55.573529</td>\n",
       "    </tr>\n",
       "    <tr>\n",
       "      <td>2</td>\n",
       "      <td>53.85</td>\n",
       "      <td>54.075000</td>\n",
       "    </tr>\n",
       "    <tr>\n",
       "      <td>3</td>\n",
       "      <td>42.30</td>\n",
       "      <td>40.905556</td>\n",
       "    </tr>\n",
       "    <tr>\n",
       "      <td>4</td>\n",
       "      <td>70.70</td>\n",
       "      <td>75.825000</td>\n",
       "    </tr>\n",
       "  </tbody>\n",
       "</table>\n",
       "</div>"
      ],
      "text/plain": [
       "   MonthlyCharges  AvMonthCharges\n",
       "0           29.85       29.850000\n",
       "1           56.95       55.573529\n",
       "2           53.85       54.075000\n",
       "3           42.30       40.905556\n",
       "4           70.70       75.825000"
      ]
     },
     "execution_count": 38,
     "metadata": {},
     "output_type": "execute_result"
    }
   ],
   "source": [
    "df_contract[['MonthlyCharges', 'AvMonthCharges']].head(5)"
   ]
  },
  {
   "cell_type": "markdown",
   "id": "318d76e5",
   "metadata": {},
   "source": [
    "### Датасет `df_internet`"
   ]
  },
  {
   "cell_type": "raw",
   "id": "7d2230ff",
   "metadata": {
    "tags": []
   },
   "source": [
    "rename(df_internet, ['OnlineSecurity',\n",
    "                     'OnlineBackup',\n",
    "                     'DeviceProtection',\n",
    "                     'TechSupport',\n",
    "                     'StreamingTV',\n",
    "                     'StreamingMovies'])"
   ]
  },
  {
   "cell_type": "markdown",
   "id": "9505225d",
   "metadata": {},
   "source": [
    "### Датасет `df_personal`"
   ]
  },
  {
   "cell_type": "raw",
   "id": "e13c6f19",
   "metadata": {
    "tags": []
   },
   "source": [
    "rename(df_personal, ['Partner', 'Dependents'])"
   ]
  },
  {
   "cell_type": "code",
   "execution_count": null,
   "id": "fe05751e",
   "metadata": {},
   "outputs": [],
   "source": []
  },
  {
   "cell_type": "code",
   "execution_count": 39,
   "id": "39bdb1b4",
   "metadata": {
    "tags": []
   },
   "outputs": [
    {
     "data": {
      "image/png": "[encoded data removed]",
      "text/plain": [
       "<Figure size 432x288 with 1 Axes>"
      ]
     },
     "metadata": {},
     "output_type": "display_data"
    }
   ],
   "source": [
    "male_female = df_personal.groupby(by='gender').count().reset_index().iloc[:,0:2]\n",
    "plt.pie(male_female['customerID'], labels = male_female['gender'], autopct='%.0f%%')\n",
    "plt.title('Доли мужчин и женщих среди абонентов, чел.')\n",
    "plt.show()"
   ]
  },
  {
   "cell_type": "code",
   "execution_count": 40,
   "id": "8c5bed06",
   "metadata": {},
   "outputs": [],
   "source": [
    "df_personal = df_personal.astype('str')"
   ]
  },
  {
   "cell_type": "code",
   "execution_count": 41,
   "id": "42d4bea1",
   "metadata": {},
   "outputs": [
    {
     "name": "stdout",
     "output_type": "stream",
     "text": [
      "<class 'pandas.core.frame.DataFrame'>\n",
      "RangeIndex: 7043 entries, 0 to 7042\n",
      "Data columns (total 5 columns):\n",
      "customerID       7043 non-null object\n",
      "gender           7043 non-null object\n",
      "SeniorCitizen    7043 non-null object\n",
      "Partner          7043 non-null object\n",
      "Dependents       7043 non-null object\n",
      "dtypes: object(5)\n",
      "memory usage: 275.2+ KB\n"
     ]
    }
   ],
   "source": [
    "df_personal.info()"
   ]
  },
  {
   "cell_type": "code",
   "execution_count": 42,
   "id": "89a66358",
   "metadata": {},
   "outputs": [],
   "source": [
    "def object_string(dataframe, list_columns):\n",
    "    [dataframe[column].str(dataframe[list_columns]) for column in list_columns]\n",
    "    return dataframe"
   ]
  },
  {
   "cell_type": "code",
   "execution_count": 43,
   "id": "f6170e62",
   "metadata": {},
   "outputs": [],
   "source": [
    "#object_string(df_personal, df_personal.columns)"
   ]
  },
  {
   "cell_type": "markdown",
   "id": "d7ff33d6",
   "metadata": {},
   "source": [
    "### Датасет `df_phone`"
   ]
  },
  {
   "cell_type": "raw",
   "id": "e7ef3c43",
   "metadata": {
    "tags": []
   },
   "source": [
    "rename(df_phone, ['MultipleLines'])"
   ]
  },
  {
   "cell_type": "code",
   "execution_count": 44,
   "id": "d044458a",
   "metadata": {},
   "outputs": [
    {
     "data": {
      "image/png": "[encoded data removed]",
      "text/plain": [
       "<Figure size 432x288 with 1 Axes>"
      ]
     },
     "metadata": {},
     "output_type": "display_data"
    }
   ],
   "source": [
    "MultipleLinesPie = df_phone.groupby(by='MultipleLines').count().reset_index().iloc[:,0:2]\n",
    "plt.pie(MultipleLinesPie['customerID'],\n",
    "        labels = MultipleLinesPie['MultipleLines'],\n",
    "        autopct='%.0f%%')\n",
    "plt.title('Доли абонентов с многокональными линиями и без них, чел.')\n",
    "plt.show()"
   ]
  },
  {
   "cell_type": "markdown",
   "id": "b6642994",
   "metadata": {},
   "source": [
    "Мужчие и женщин в выборке поровну."
   ]
  },
  {
   "cell_type": "markdown",
   "id": "a6bef896",
   "metadata": {},
   "source": [
    "<div style=\"background: #cceeaa; padding: 5px; border: 1px solid green; border-radius: 5px;\">\n",
    "    <font color='green'> <b><u>КОММЕНТАРИЙ РЕВЬЮЕРА</u></b>\n",
    "</font>\n",
    "<font color='green'><br>\n",
    "Чёткий анализ. Напомню только, что графический анализ - это предположение/гипотеза. И чтобы её подтвердить или опровергнуть также следует применять аналитические методы анализа из области \"проверка гипотез\"."
   ]
  },
  {
   "cell_type": "markdown",
   "id": "f871834e",
   "metadata": {},
   "source": [
    "### Объединение датасетов"
   ]
  },
  {
   "cell_type": "code",
   "execution_count": 45,
   "id": "bb76e0fb",
   "metadata": {},
   "outputs": [],
   "source": [
    "df = df_personal.copy()"
   ]
  },
  {
   "cell_type": "code",
   "execution_count": 46,
   "id": "b91b2e28",
   "metadata": {},
   "outputs": [
    {
     "data": {
      "text/plain": [
       "customerID       0\n",
       "gender           0\n",
       "SeniorCitizen    0\n",
       "Partner          0\n",
       "Dependents       0\n",
       "dtype: int64"
      ]
     },
     "execution_count": 46,
     "metadata": {},
     "output_type": "execute_result"
    }
   ],
   "source": [
    "df.isna().sum()"
   ]
  },
  {
   "cell_type": "code",
   "execution_count": 47,
   "id": "d183f89a",
   "metadata": {},
   "outputs": [],
   "source": [
    "df = df.merge(\n",
    "    df_contract, on='customerID', how='left'\n",
    ").merge(df_internet, on='customerID', how='left').merge(df_phone, on='customerID', how='left')"
   ]
  },
  {
   "cell_type": "code",
   "execution_count": 48,
   "id": "48f65fe4",
   "metadata": {},
   "outputs": [
    {
     "name": "stdout",
     "output_type": "stream",
     "text": [
      "<class 'pandas.core.frame.DataFrame'>\n",
      "Int64Index: 7043 entries, 0 to 7042\n",
      "Data columns (total 25 columns):\n",
      "customerID          7043 non-null object\n",
      "gender              7043 non-null object\n",
      "SeniorCitizen       7043 non-null object\n",
      "Partner             7043 non-null object\n",
      "Dependents          7043 non-null object\n",
      "BeginDate           7032 non-null datetime64[ns]\n",
      "EndDate             7032 non-null datetime64[ns]\n",
      "Type                7032 non-null object\n",
      "PaperlessBilling    7032 non-null object\n",
      "PaymentMethod       7032 non-null object\n",
      "MonthlyCharges      7032 non-null float64\n",
      "TotalCharges        7032 non-null float64\n",
      "life_time_na        1869 non-null timedelta64[ns]\n",
      "life_time           7032 non-null timedelta64[ns]\n",
      "LifeTimeMonths      7032 non-null float64\n",
      "LifeTimeDays        7032 non-null float64\n",
      "AvMonthCharges      7032 non-null float64\n",
      "InternetService     5517 non-null object\n",
      "OnlineSecurity      5517 non-null object\n",
      "OnlineBackup        5517 non-null object\n",
      "DeviceProtection    5517 non-null object\n",
      "TechSupport         5517 non-null object\n",
      "StreamingTV         5517 non-null object\n",
      "StreamingMovies     5517 non-null object\n",
      "MultipleLines       6361 non-null object\n",
      "dtypes: datetime64[ns](2), float64(5), object(16), timedelta64[ns](2)\n",
      "memory usage: 1.4+ MB\n"
     ]
    }
   ],
   "source": [
    "df.info()"
   ]
  },
  {
   "cell_type": "markdown",
   "id": "e2e31351",
   "metadata": {},
   "source": [
    "### Избавлюсь от `NaN`"
   ]
  },
  {
   "cell_type": "code",
   "execution_count": 49,
   "id": "d7027861",
   "metadata": {},
   "outputs": [
    {
     "data": {
      "text/plain": [
       "customerID             0\n",
       "gender                 0\n",
       "SeniorCitizen          0\n",
       "Partner                0\n",
       "Dependents             0\n",
       "BeginDate             11\n",
       "EndDate               11\n",
       "Type                  11\n",
       "PaperlessBilling      11\n",
       "PaymentMethod         11\n",
       "MonthlyCharges        11\n",
       "TotalCharges          11\n",
       "life_time_na        5174\n",
       "life_time             11\n",
       "LifeTimeMonths        11\n",
       "LifeTimeDays          11\n",
       "AvMonthCharges        11\n",
       "InternetService     1526\n",
       "OnlineSecurity      1526\n",
       "OnlineBackup        1526\n",
       "DeviceProtection    1526\n",
       "TechSupport         1526\n",
       "StreamingTV         1526\n",
       "StreamingMovies     1526\n",
       "MultipleLines        682\n",
       "dtype: int64"
      ]
     },
     "execution_count": 49,
     "metadata": {},
     "output_type": "execute_result"
    }
   ],
   "source": [
    "df.isna().sum()"
   ]
  },
  {
   "cell_type": "markdown",
   "id": "0830fadc",
   "metadata": {},
   "source": [
    "Признак `life_time` я далее не буду использовать для фичей.  \n",
    "Пропуски в остальных признаках встречаются там, где абонент не использовал услугу, значит можно заменить пропуски на `0`."
   ]
  },
  {
   "cell_type": "code",
   "execution_count": 50,
   "id": "2189554a",
   "metadata": {},
   "outputs": [
    {
     "data": {
      "text/plain": [
       "customerID             0\n",
       "gender                 0\n",
       "SeniorCitizen          0\n",
       "Partner                0\n",
       "Dependents             0\n",
       "BeginDate             11\n",
       "EndDate               11\n",
       "Type                  11\n",
       "PaperlessBilling      11\n",
       "PaymentMethod         11\n",
       "MonthlyCharges        11\n",
       "TotalCharges          11\n",
       "life_time_na        5174\n",
       "life_time             11\n",
       "LifeTimeMonths        11\n",
       "LifeTimeDays          11\n",
       "AvMonthCharges        11\n",
       "InternetService        0\n",
       "OnlineSecurity         0\n",
       "OnlineBackup           0\n",
       "DeviceProtection       0\n",
       "TechSupport            0\n",
       "StreamingTV            0\n",
       "StreamingMovies        0\n",
       "MultipleLines          0\n",
       "dtype: int64"
      ]
     },
     "execution_count": 50,
     "metadata": {},
     "output_type": "execute_result"
    }
   ],
   "source": [
    "list_for_fillna = ['InternetService', 'OnlineSecurity', 'OnlineBackup', \n",
    "    'DeviceProtection', 'TechSupport', 'StreamingTV',\n",
    "    'StreamingMovies', 'MultipleLines']\n",
    "\n",
    "df[list_for_fillna] = df[list_for_fillna].fillna(0)\n",
    "df.isna().sum()"
   ]
  },
  {
   "cell_type": "markdown",
   "id": "52c8c3f0",
   "metadata": {},
   "source": [
    "<div style=\"background: #cceeaa; padding: 5px; border: 1px solid green; border-radius: 5px;\">\n",
    "    <font color='green'> <b><u>КОММЕНТАРИЙ РЕВЬЮЕРА</u></b>\n",
    "</font>\n",
    "<font color='green'><br>\n",
    "супер! согласен."
   ]
  },
  {
   "cell_type": "markdown",
   "id": "780f077e",
   "metadata": {},
   "source": [
    "## Исследовательский анализ данных"
   ]
  },
  {
   "cell_type": "code",
   "execution_count": 51,
   "id": "beb0610a",
   "metadata": {
    "scrolled": true,
    "tags": []
   },
   "outputs": [],
   "source": [
    "#contract_type = df_contract.groupby(by='Type').count().reset_index().iloc[:,0:2].set_axis(['type', 'count'], axis=1)\n",
    "#sns.barplot(data=contract_type, x='type', y='count', palette=\"Blues_d\")"
   ]
  },
  {
   "cell_type": "markdown",
   "id": "f7674e53",
   "metadata": {},
   "source": [
    "<div style=\"background: #cceeaa; padding: 5px; border: 1px solid green; border-radius: 5px;\">\n",
    "    <font color='green'> <b><u>КОММЕНТАРИЙ РЕВЬЮЕРА 2</u></b>\n",
    "</font>\n",
    "<font color='red'><br>упс( не пошло."
   ]
  },
  {
   "cell_type": "markdown",
   "id": "3a1a857b",
   "metadata": {},
   "source": [
    "<div style=\"background: #B0E0E6; padding: 5px; border: 1px solid green; border-radius: 5px;\">\n",
    "    <font color='black'> <b><u>Студента 1</u></b>\n",
    "</font>\n",
    "<font color='black'><br>Удалил признак и забыл удалить график по нему."
   ]
  },
  {
   "cell_type": "markdown",
   "id": "7d95f939",
   "metadata": {},
   "source": [
    "<div style=\"background: #cceeaa; padding: 5px; border: 1px solid green; border-radius: 5px;\">\n",
    "    <font color='green'> <b><u>КОММЕНТАРИЙ РЕВЬЮЕРА 2</u></b>\n",
    "</font>\n",
    "<font color='green'><br>) у самого бывает такое.."
   ]
  },
  {
   "cell_type": "code",
   "execution_count": 52,
   "id": "03897b25",
   "metadata": {},
   "outputs": [
    {
     "data": {
      "text/plain": [
       "MonthlyCharges    11\n",
       "AvMonthCharges    11\n",
       "TotalCharges      11\n",
       "dtype: int64"
      ]
     },
     "execution_count": 52,
     "metadata": {},
     "output_type": "execute_result"
    }
   ],
   "source": [
    "df[['MonthlyCharges', 'AvMonthCharges', 'TotalCharges']].isna().sum()"
   ]
  },
  {
   "cell_type": "markdown",
   "id": "56d0591d",
   "metadata": {},
   "source": [
    "В созданном признаке `AvMonthCharges` есть 11 пропущенных значений из-за операции деления. Удалю эти строки:"
   ]
  },
  {
   "cell_type": "code",
   "execution_count": 53,
   "id": "8f45aa55",
   "metadata": {},
   "outputs": [
    {
     "data": {
      "text/plain": [
       "customerID             0\n",
       "gender                 0\n",
       "SeniorCitizen          0\n",
       "Partner                0\n",
       "Dependents             0\n",
       "BeginDate             11\n",
       "EndDate               11\n",
       "Type                  11\n",
       "PaperlessBilling      11\n",
       "PaymentMethod         11\n",
       "MonthlyCharges        11\n",
       "TotalCharges          11\n",
       "life_time_na        5174\n",
       "life_time             11\n",
       "LifeTimeMonths        11\n",
       "LifeTimeDays          11\n",
       "AvMonthCharges        11\n",
       "InternetService        0\n",
       "OnlineSecurity         0\n",
       "OnlineBackup           0\n",
       "DeviceProtection       0\n",
       "TechSupport            0\n",
       "StreamingTV            0\n",
       "StreamingMovies        0\n",
       "MultipleLines          0\n",
       "dtype: int64"
      ]
     },
     "execution_count": 53,
     "metadata": {},
     "output_type": "execute_result"
    }
   ],
   "source": [
    "df.isna().sum()"
   ]
  },
  {
   "cell_type": "code",
   "execution_count": 54,
   "id": "bc6061a2",
   "metadata": {},
   "outputs": [],
   "source": [
    "df.dropna(subset=['AvMonthCharges'], inplace=True)"
   ]
  },
  {
   "cell_type": "markdown",
   "id": "5c91be9d",
   "metadata": {},
   "source": [
    "## Выводы по результатам исследовательского анализа"
   ]
  },
  {
   "cell_type": "markdown",
   "id": "645381fb",
   "metadata": {},
   "source": [
    "Нам достатались достаточно чистые данные, распределение категорий довольно репрезентативное."
   ]
  },
  {
   "cell_type": "markdown",
   "id": "a249a1d7",
   "metadata": {},
   "source": [
    "### To Do list для работы, мои заметки.\n",
    "\n",
    "- [ ] Добавить признак life_time, удалить связанные.  \n",
    "- [ ] TotalCharges - посмотреть, что за клиенты  \n",
    "- [ ] Ежемесячная оплата сразу, за услуги по итогу месяца — на что это влияет\n",
    "- [ ] Итоговая метрика ROC-AUC, смотрим на accuracy."
   ]
  },
  {
   "cell_type": "markdown",
   "id": "92f845a5",
   "metadata": {},
   "source": [
    "<div style=\"background: #cceeaa; padding: 5px; border: 1px solid green; border-radius: 5px;\">\n",
    "    <font color='green'> <b><u>КОММЕНТАРИЙ РЕВЬЮЕРА</u></b>\n",
    "</font>\n",
    "<font color='green'><br>\n",
    "👍👍  Хорошо, на самом деле, поработал в этом разделе."
   ]
  },
  {
   "cell_type": "markdown",
   "id": "70601c46",
   "metadata": {},
   "source": [
    "# Модель классификации"
   ]
  },
  {
   "cell_type": "markdown",
   "id": "b176796d",
   "metadata": {},
   "source": [
    "## Подготовка данных"
   ]
  },
  {
   "cell_type": "markdown",
   "id": "950775fd",
   "metadata": {},
   "source": [
    "Создам признаки и целевое значение. Присвою абонентам без `EndDate` значение таргета **`0`, т.е. абонент остаётся**, а с отсутствующим значением признака значение **`1`, т.е. абонент уходит**."
   ]
  },
  {
   "cell_type": "code",
   "execution_count": 55,
   "id": "c6d8c90b",
   "metadata": {},
   "outputs": [],
   "source": [
    "df['GoOut'] = [0 if pd.isnull(x) else 1 for x in df['life_time_na']]"
   ]
  },
  {
   "cell_type": "code",
   "execution_count": 56,
   "id": "6e31e024",
   "metadata": {},
   "outputs": [],
   "source": [
    "df = df.drop(['life_time_na'], axis=1)"
   ]
  },
  {
   "cell_type": "markdown",
   "id": "4022011e",
   "metadata": {},
   "source": [
    "<div style=\"background: #cceeaa; padding: 5px; border: 1px solid green; border-radius: 5px;\">\n",
    "    <font color='green'> <b><u>КОММЕНТАРИЙ РЕВЬЮЕРА</u></b>\n",
    "</font>\n",
    "<font color='green'><br>ок"
   ]
  },
  {
   "cell_type": "code",
   "execution_count": null,
   "id": "7f429032",
   "metadata": {},
   "outputs": [],
   "source": []
  },
  {
   "cell_type": "markdown",
   "id": "198ab181",
   "metadata": {},
   "source": [
    "### Кодирование данных OHE"
   ]
  },
  {
   "cell_type": "code",
   "execution_count": 57,
   "id": "debb0bb9",
   "metadata": {},
   "outputs": [],
   "source": [
    "categorical_features = ['gender', 'SeniorCitizen', 'Partner', 'Dependents', 'Type',\n",
    "                        'PaperlessBilling', 'PaymentMethod','InternetService',\n",
    "                        'OnlineSecurity', 'OnlineBackup', 'DeviceProtection', 'TechSupport',\n",
    "                        'StreamingTV', 'StreamingMovies', 'MultipleLines']"
   ]
  },
  {
   "cell_type": "code",
   "execution_count": 58,
   "id": "22b669ec",
   "metadata": {},
   "outputs": [
    {
     "data": {
      "text/plain": [
       "(7032, 36)"
      ]
     },
     "execution_count": 58,
     "metadata": {},
     "output_type": "execute_result"
    }
   ],
   "source": [
    "dummies = pd.get_dummies(df[categorical_features], drop_first=True, dtype='int64')\n",
    "df_ohe = pd.concat((df, dummies), 1)\n",
    "df_ohe = df_ohe.drop(categorical_features, axis=1)\n",
    "df_ohe.shape"
   ]
  },
  {
   "cell_type": "code",
   "execution_count": 59,
   "id": "e0c31cbc",
   "metadata": {},
   "outputs": [
    {
     "data": {
      "text/plain": [
       "Index(['customerID', 'BeginDate', 'EndDate', 'MonthlyCharges', 'TotalCharges',\n",
       "       'life_time', 'LifeTimeMonths', 'LifeTimeDays', 'AvMonthCharges',\n",
       "       'GoOut', 'gender_Male', 'SeniorCitizen_Yes', 'Partner_Yes',\n",
       "       'Dependents_Yes', 'Type_One year', 'Type_Two year',\n",
       "       'PaperlessBilling_Yes', 'PaymentMethod_Credit card (automatic)',\n",
       "       'PaymentMethod_Electronic check', 'PaymentMethod_Mailed check',\n",
       "       'InternetService_DSL', 'InternetService_Fiber optic',\n",
       "       'OnlineSecurity_No', 'OnlineSecurity_Yes', 'OnlineBackup_No',\n",
       "       'OnlineBackup_Yes', 'DeviceProtection_No', 'DeviceProtection_Yes',\n",
       "       'TechSupport_No', 'TechSupport_Yes', 'StreamingTV_No',\n",
       "       'StreamingTV_Yes', 'StreamingMovies_No', 'StreamingMovies_Yes',\n",
       "       'MultipleLines_No', 'MultipleLines_Yes'],\n",
       "      dtype='object')"
      ]
     },
     "execution_count": 59,
     "metadata": {},
     "output_type": "execute_result"
    }
   ],
   "source": [
    "df_ohe.columns"
   ]
  },
  {
   "cell_type": "markdown",
   "id": "5a30db82",
   "metadata": {},
   "source": [
    "Установлю `customerID` в качестве индекса."
   ]
  },
  {
   "cell_type": "code",
   "execution_count": 60,
   "id": "97160413",
   "metadata": {},
   "outputs": [],
   "source": [
    "df.set_index('customerID', drop=True, inplace=True)\n",
    "df_ohe.set_index('customerID', drop=True, inplace=True)"
   ]
  },
  {
   "cell_type": "markdown",
   "id": "d94de5ee",
   "metadata": {},
   "source": [
    "Вижу сильную связи таргета с `TotalCharges` и `LifeTimeMonths`: "
   ]
  },
  {
   "cell_type": "markdown",
   "id": "7b586b4f",
   "metadata": {},
   "source": [
    "<div style=\"background: #cceeaa; padding: 5px; border: 1px solid green; border-radius: 5px;\">\n",
    "    <font color='green'> <b><u>КОММЕНТАРИЙ РЕВЬЮЕРА</u></b>\n",
    "</font>\n",
    "<font color='green'><br>не увидел("
   ]
  },
  {
   "cell_type": "markdown",
   "id": "0c473d03",
   "metadata": {},
   "source": [
    "<div style=\"background: #B0E0E6; padding: 5px; border: 1px solid green; border-radius: 5px;\">\n",
    "    <font color='black'> <b><u>Студента 1</u></b>\n",
    "</font>\n",
    "<font color='black'><br>Коммент был не в том месте, перетащил после матрицы корреляции. Вижу 0.825880 между `TotalCharges` и `LifeTimeMonths`."
   ]
  },
  {
   "cell_type": "markdown",
   "id": "9a3bea40",
   "metadata": {},
   "source": [
    "<div style=\"background: #cceeaa; padding: 5px; border: 1px solid green; border-radius: 5px;\">\n",
    "    <font color='green'> <b><u>КОММЕНТАРИЙ РЕВЬЮЕРА 2</u></b>\n",
    "</font>\n",
    "<font color='green'><br>понял, спасибо."
   ]
  },
  {
   "cell_type": "code",
   "execution_count": 61,
   "id": "b8ff8db0",
   "metadata": {
    "tags": []
   },
   "outputs": [
    {
     "data": {
      "image/png": "[encoded data removed]",
      "text/plain": [
       "<Figure size 360x360 with 2 Axes>"
      ]
     },
     "metadata": {
      "needs_background": "light"
     },
     "output_type": "display_data"
    }
   ],
   "source": [
    "fig, ax = plt.subplots(figsize=(5,5)) \n",
    "sns.heatmap(df_ohe[['MonthlyCharges', 'TotalCharges', 'LifeTimeDays', 'AvMonthCharges']].corr(),\n",
    "            annot=True,\n",
    "            #.figsize=(10,10),\n",
    "            annot_kws={\"size\":10},\n",
    "            fmt='.1f',\n",
    "            cbar_kws= {'orientation': 'horizontal'})\n",
    "plt.show()"
   ]
  },
  {
   "cell_type": "markdown",
   "id": "57f6b8d1",
   "metadata": {},
   "source": [
    "<div style=\"background: #ffeeaa; padding: 5px; border: 1px solid green; border-radius: 5px;\">\n",
    "    <font color='green'> <b><u>КОММЕНТАРИЙ РЕВЬЮЕРА</u></b>\n",
    "</font>\n",
    "<font color='green'><br>аааа, вот они, теперь понял. Тут такой момент:<br>\n",
    "важный момент по корреляциям: данная корреляция Спирмена/Пирсона - разрабатывался для количественных шкал. Если данные в бинарной шкале (пол, тип услуги....) - техника не подходит, лучше не опираться на данные выводы.<br>\n",
    "    \n",
    "Поэтому выводы можно делать только по количественным данным (в нашем случае - финансы и длительность контракта)\n"
   ]
  },
  {
   "cell_type": "markdown",
   "id": "520dc5ff",
   "metadata": {},
   "source": [
    "<div style=\"background: #B0E0E6; padding: 5px; border: 1px solid green; border-radius: 5px;\">\n",
    "    <font color='black'> <b><u>Студента 1</u></b>\n",
    "</font>\n",
    "<font color='black'><br> Понял, теперь смотрю только на количественные признаки."
   ]
  },
  {
   "cell_type": "markdown",
   "id": "8b8512b2",
   "metadata": {},
   "source": [
    "<div style=\"background: #cceeaa; padding: 5px; border: 1px solid green; border-radius: 5px;\">\n",
    "    <font color='green'> <b><u>КОММЕНТАРИЙ РЕВЬЮЕРА 2</u></b>\n",
    "</font>\n",
    "<font color='green'><br>👍 "
   ]
  },
  {
   "cell_type": "markdown",
   "id": "7061c937",
   "metadata": {},
   "source": [
    "Дополнительное исследование корреляций."
   ]
  },
  {
   "cell_type": "markdown",
   "id": "3dde3246",
   "metadata": {},
   "source": [
    "Возьму гипотезу о том, что пожилые люди не заказывают услугу \"безбумажной отчётности\"."
   ]
  },
  {
   "cell_type": "code",
   "execution_count": 62,
   "id": "301dee93",
   "metadata": {},
   "outputs": [
    {
     "data": {
      "text/html": [
       "<div>\n",
       "<style scoped>\n",
       "    .dataframe tbody tr th:only-of-type {\n",
       "        vertical-align: middle;\n",
       "    }\n",
       "\n",
       "    .dataframe tbody tr th {\n",
       "        vertical-align: top;\n",
       "    }\n",
       "\n",
       "    .dataframe thead th {\n",
       "        text-align: right;\n",
       "    }\n",
       "</style>\n",
       "<table border=\"1\" class=\"dataframe\">\n",
       "  <thead>\n",
       "    <tr style=\"text-align: right;\">\n",
       "      <th>SeniorCitizen</th>\n",
       "      <th>No</th>\n",
       "      <th>Yes</th>\n",
       "    </tr>\n",
       "    <tr>\n",
       "      <th>PaperlessBilling</th>\n",
       "      <th></th>\n",
       "      <th></th>\n",
       "    </tr>\n",
       "  </thead>\n",
       "  <tbody>\n",
       "    <tr>\n",
       "      <td>No</td>\n",
       "      <td>2598</td>\n",
       "      <td>266</td>\n",
       "    </tr>\n",
       "    <tr>\n",
       "      <td>Yes</td>\n",
       "      <td>3292</td>\n",
       "      <td>876</td>\n",
       "    </tr>\n",
       "  </tbody>\n",
       "</table>\n",
       "</div>"
      ],
      "text/plain": [
       "SeniorCitizen       No  Yes\n",
       "PaperlessBilling           \n",
       "No                2598  266\n",
       "Yes               3292  876"
      ]
     },
     "execution_count": 62,
     "metadata": {},
     "output_type": "execute_result"
    }
   ],
   "source": [
    "count_table = pd.crosstab(df['PaperlessBilling'], df['SeniorCitizen'])\n",
    "count_table"
   ]
  },
  {
   "cell_type": "code",
   "execution_count": 63,
   "id": "b16d8646",
   "metadata": {},
   "outputs": [
    {
     "data": {
      "text/plain": [
       "(170.83550268161997,\n",
       " 4.860566886559332e-39,\n",
       " 1,\n",
       " array([[2398.8850967,  465.1149033],\n",
       "        [3491.1149033,  676.8850967]]))"
      ]
     },
     "execution_count": 63,
     "metadata": {},
     "output_type": "execute_result"
    }
   ],
   "source": [
    "chi2_contingency(count_table)"
   ]
  },
  {
   "cell_type": "markdown",
   "id": "440281e2",
   "metadata": {},
   "source": [
    "Полагаю можно заключить, что при вводных:  \n",
    "кол-во степеней свободы df=1  \n",
    "p-value=0.05  \n",
    "x2 (хи-квадрат) = 4.86\n",
    "... можно заключить: признаки `PaperlessBilling` и `SeniorCitizen` независимы."
   ]
  },
  {
   "cell_type": "markdown",
   "id": "c9ccfa0b",
   "metadata": {},
   "source": [
    "<div style=\"background: #B0E0E6; padding: 5px; border: 1px solid green; border-radius: 5px;\">\n",
    "    <font color='black'> <b><u>Студента 1</u></b>\n",
    "</font>\n",
    "<font color='black'><br> Не уверен, что сделал правильный вывод. Как ты считаешь?"
   ]
  },
  {
   "cell_type": "markdown",
   "id": "681f01e3",
   "metadata": {},
   "source": [
    "<div style=\"background: #cceeaa; padding: 5px; border: 1px solid green; border-radius: 5px;\">\n",
    "    <font color='green'> <b><u>КОММЕНТАРИЙ РЕВЬЮЕРА 2</u></b>\n",
    "</font>\n",
    "<font color='green'><br>нулевая гипотеза, что различий нет. р-уровень меньш 5 сотых. Это значит, что нулевую гипотезу отвергаем и принимаем обратную. Что различие по этому фактору у отточников и не отточников статистически значимо."
   ]
  },
  {
   "cell_type": "markdown",
   "id": "54534ade",
   "metadata": {},
   "source": [
    "### Выделю признаки и целевое значение."
   ]
  },
  {
   "cell_type": "code",
   "execution_count": 64,
   "id": "ae8303e7",
   "metadata": {},
   "outputs": [
    {
     "data": {
      "text/plain": [
       "7032"
      ]
     },
     "execution_count": 64,
     "metadata": {},
     "output_type": "execute_result"
    }
   ],
   "source": [
    "target = df[['GoOut']]\n",
    "len(target)"
   ]
  },
  {
   "cell_type": "code",
   "execution_count": 65,
   "id": "5d9667b1",
   "metadata": {},
   "outputs": [
    {
     "data": {
      "text/plain": [
       "Index(['gender', 'SeniorCitizen', 'Partner', 'Dependents', 'BeginDate',\n",
       "       'EndDate', 'Type', 'PaperlessBilling', 'PaymentMethod',\n",
       "       'MonthlyCharges', 'TotalCharges', 'life_time', 'LifeTimeMonths',\n",
       "       'LifeTimeDays', 'AvMonthCharges', 'InternetService', 'OnlineSecurity',\n",
       "       'OnlineBackup', 'DeviceProtection', 'TechSupport', 'StreamingTV',\n",
       "       'StreamingMovies', 'MultipleLines', 'GoOut'],\n",
       "      dtype='object')"
      ]
     },
     "execution_count": 65,
     "metadata": {},
     "output_type": "execute_result"
    }
   ],
   "source": [
    "df.columns"
   ]
  },
  {
   "cell_type": "markdown",
   "id": "86039ed2",
   "metadata": {},
   "source": [
    "Удалю лишние признаки, которые связаны с другими признаками."
   ]
  },
  {
   "cell_type": "code",
   "execution_count": 66,
   "id": "1e256ae3",
   "metadata": {},
   "outputs": [],
   "source": [
    "features = df.drop(['BeginDate', 'life_time', 'EndDate',\n",
    "                    'TotalCharges', 'GoOut', 'MonthlyCharges'], axis=1)\n",
    "features_ohe = df_ohe.drop(['BeginDate', 'life_time', 'EndDate',\n",
    "                            'TotalCharges', 'GoOut', 'MonthlyCharges'], axis=1)"
   ]
  },
  {
   "cell_type": "markdown",
   "id": "9da1da54",
   "metadata": {},
   "source": [
    "<div style=\"background: #cceeaa; padding: 5px; border: 1px solid green; border-radius: 5px;\">\n",
    "    <font color='green'> <b><u>КОММЕНТАРИЙ РЕВЬЮЕРА</u></b>\n",
    "</font>\n",
    "<font color='green'><br>\n",
    "ОТЛИЧНО, что удаляешь факторы-даты!!!!! Если у нас тема НЕ временные ряды, то такие факторы лучше не использовать. Они \"нагонят\" метрики, но бизнес-эффективность модели  - рухнет."
   ]
  },
  {
   "cell_type": "markdown",
   "id": "20c5f93b",
   "metadata": {},
   "source": [
    "Удалю также `LifeTimeMonths`, использую вместо него `LifeTimeDays`:"
   ]
  },
  {
   "cell_type": "code",
   "execution_count": 67,
   "id": "c8eb08c3",
   "metadata": {},
   "outputs": [],
   "source": [
    "features = features.drop(['LifeTimeMonths'], axis=1)\n",
    "features_ohe = features_ohe.drop(['LifeTimeMonths'], axis=1)"
   ]
  },
  {
   "cell_type": "code",
   "execution_count": null,
   "id": "e18500fc",
   "metadata": {},
   "outputs": [],
   "source": []
  },
  {
   "cell_type": "code",
   "execution_count": 68,
   "id": "50c2133e",
   "metadata": {},
   "outputs": [
    {
     "data": {
      "text/plain": [
       "Index(['gender', 'SeniorCitizen', 'Partner', 'Dependents', 'Type',\n",
       "       'PaperlessBilling', 'PaymentMethod', 'LifeTimeDays', 'AvMonthCharges',\n",
       "       'InternetService', 'OnlineSecurity', 'OnlineBackup', 'DeviceProtection',\n",
       "       'TechSupport', 'StreamingTV', 'StreamingMovies', 'MultipleLines'],\n",
       "      dtype='object')"
      ]
     },
     "execution_count": 68,
     "metadata": {},
     "output_type": "execute_result"
    }
   ],
   "source": [
    "features.columns"
   ]
  },
  {
   "cell_type": "markdown",
   "id": "091bc6d5",
   "metadata": {},
   "source": [
    "Проверю зависимости в `features_ohe`:"
   ]
  },
  {
   "cell_type": "code",
   "execution_count": 69,
   "id": "db5600fa",
   "metadata": {},
   "outputs": [
    {
     "data": {
      "image/png": "[encoded data removed]",
      "text/plain": [
       "<Figure size 1080x1080 with 2 Axes>"
      ]
     },
     "metadata": {
      "needs_background": "light"
     },
     "output_type": "display_data"
    }
   ],
   "source": [
    "fig, ax = plt.subplots(figsize=(15,15)) \n",
    "sns.heatmap(features_ohe.corr(),\n",
    "            annot=True,\n",
    "            #.figsize=(10,10),\n",
    "            annot_kws={\"size\":10},\n",
    "            fmt='.1f',\n",
    "            cbar_kws= {'orientation': 'horizontal'})\n",
    "plt.show()"
   ]
  },
  {
   "cell_type": "markdown",
   "id": "6d33b96b",
   "metadata": {},
   "source": [
    "Удалю ещё некоторые признаки, которые врядли влияют на предсказания:"
   ]
  },
  {
   "cell_type": "code",
   "execution_count": 70,
   "id": "a94f6552",
   "metadata": {},
   "outputs": [
    {
     "data": {
      "text/plain": [
       "Index(['LifeTimeDays', 'AvMonthCharges', 'gender_Male', 'SeniorCitizen_Yes',\n",
       "       'Partner_Yes', 'Dependents_Yes', 'Type_One year', 'Type_Two year',\n",
       "       'PaperlessBilling_Yes', 'PaymentMethod_Credit card (automatic)',\n",
       "       'PaymentMethod_Electronic check', 'PaymentMethod_Mailed check',\n",
       "       'InternetService_DSL', 'InternetService_Fiber optic',\n",
       "       'OnlineSecurity_No', 'OnlineSecurity_Yes', 'OnlineBackup_No',\n",
       "       'OnlineBackup_Yes', 'DeviceProtection_No', 'DeviceProtection_Yes',\n",
       "       'TechSupport_No', 'TechSupport_Yes', 'StreamingTV_No',\n",
       "       'StreamingTV_Yes', 'StreamingMovies_No', 'StreamingMovies_Yes',\n",
       "       'MultipleLines_No', 'MultipleLines_Yes'],\n",
       "      dtype='object')"
      ]
     },
     "execution_count": 70,
     "metadata": {},
     "output_type": "execute_result"
    }
   ],
   "source": [
    "features.columns\n",
    "features_ohe.columns"
   ]
  },
  {
   "cell_type": "code",
   "execution_count": 71,
   "id": "2e89a52b",
   "metadata": {},
   "outputs": [],
   "source": [
    "features = features.drop(['gender'], axis=1)\n",
    "features_ohe = features_ohe.drop(['gender_Male'], axis=1)"
   ]
  },
  {
   "cell_type": "markdown",
   "id": "81b31aed",
   "metadata": {},
   "source": [
    "### Разобью выборку на обучающую и тестовую."
   ]
  },
  {
   "cell_type": "code",
   "execution_count": 72,
   "id": "ab0b65c9",
   "metadata": {},
   "outputs": [
    {
     "data": {
      "text/plain": [
       "((5274, 16), (1758, 16))"
      ]
     },
     "execution_count": 72,
     "metadata": {},
     "output_type": "execute_result"
    }
   ],
   "source": [
    "features_train, features_test = train_test_split(features, test_size=0.25, random_state=12345)\n",
    "features_train.shape, features_test.shape"
   ]
  },
  {
   "cell_type": "code",
   "execution_count": 73,
   "id": "7ad225f1",
   "metadata": {},
   "outputs": [
    {
     "data": {
      "text/plain": [
       "((5274, 1), (1758, 1))"
      ]
     },
     "execution_count": 73,
     "metadata": {},
     "output_type": "execute_result"
    }
   ],
   "source": [
    "target_train, target_test = train_test_split(target, test_size=0.25, random_state=12345)\n",
    "target_train.shape, target_test.shape"
   ]
  },
  {
   "cell_type": "code",
   "execution_count": 74,
   "id": "78d71a07",
   "metadata": {},
   "outputs": [],
   "source": [
    "#target_train.value_counts(), target_test.value_counts()"
   ]
  },
  {
   "cell_type": "markdown",
   "id": "180eb917",
   "metadata": {},
   "source": [
    "<div style=\"background: #cceeaa; padding: 5px; border: 1px solid green; border-radius: 5px;\">\n",
    "    <font color='green'> <b><u>КОММЕНТАРИЙ РЕВЬЮЕРА</u></b>\n",
    "</font>\n",
    "<font color='red'><br>\n",
    "упс("
   ]
  },
  {
   "cell_type": "markdown",
   "id": "c5a01167",
   "metadata": {},
   "source": [
    "<div style=\"background: #B0E0E6; padding: 5px; border: 1px solid green; border-radius: 5px;\">\n",
    "    <font color='black'> <b><u>Студента 1</u></b>\n",
    "</font>\n",
    "<font color='black'><br> Поправил. Почему-то локально у меня `value_counts()` отрабатывает на датафрейме."
   ]
  },
  {
   "cell_type": "markdown",
   "id": "60b59a6b",
   "metadata": {},
   "source": [
    "<div style=\"background: #cceeaa; padding: 5px; border: 1px solid green; border-radius: 5px;\">\n",
    "    <font color='green'> <b><u>КОММЕНТАРИЙ РЕВЬЮЕРА 2</u></b>\n",
    "</font>\n",
    "<font color='green'><br>библиотеки..."
   ]
  },
  {
   "cell_type": "code",
   "execution_count": 75,
   "id": "025031e9",
   "metadata": {},
   "outputs": [
    {
     "data": {
      "text/html": [
       "<div>\n",
       "<style scoped>\n",
       "    .dataframe tbody tr th:only-of-type {\n",
       "        vertical-align: middle;\n",
       "    }\n",
       "\n",
       "    .dataframe tbody tr th {\n",
       "        vertical-align: top;\n",
       "    }\n",
       "\n",
       "    .dataframe thead th {\n",
       "        text-align: right;\n",
       "    }\n",
       "</style>\n",
       "<table border=\"1\" class=\"dataframe\">\n",
       "  <thead>\n",
       "    <tr style=\"text-align: right;\">\n",
       "      <th></th>\n",
       "      <th>SeniorCitizen</th>\n",
       "      <th>Partner</th>\n",
       "      <th>Dependents</th>\n",
       "      <th>Type</th>\n",
       "      <th>PaperlessBilling</th>\n",
       "      <th>PaymentMethod</th>\n",
       "      <th>LifeTimeDays</th>\n",
       "      <th>AvMonthCharges</th>\n",
       "      <th>InternetService</th>\n",
       "      <th>OnlineSecurity</th>\n",
       "      <th>OnlineBackup</th>\n",
       "      <th>DeviceProtection</th>\n",
       "      <th>TechSupport</th>\n",
       "      <th>StreamingTV</th>\n",
       "      <th>StreamingMovies</th>\n",
       "      <th>MultipleLines</th>\n",
       "    </tr>\n",
       "    <tr>\n",
       "      <th>customerID</th>\n",
       "      <th></th>\n",
       "      <th></th>\n",
       "      <th></th>\n",
       "      <th></th>\n",
       "      <th></th>\n",
       "      <th></th>\n",
       "      <th></th>\n",
       "      <th></th>\n",
       "      <th></th>\n",
       "      <th></th>\n",
       "      <th></th>\n",
       "      <th></th>\n",
       "      <th></th>\n",
       "      <th></th>\n",
       "      <th></th>\n",
       "      <th></th>\n",
       "    </tr>\n",
       "  </thead>\n",
       "  <tbody>\n",
       "    <tr>\n",
       "      <td>2696-NARTR</td>\n",
       "      <td>No</td>\n",
       "      <td>No</td>\n",
       "      <td>No</td>\n",
       "      <td>Month-to-month</td>\n",
       "      <td>Yes</td>\n",
       "      <td>Electronic check</td>\n",
       "      <td>335.0</td>\n",
       "      <td>84.204545</td>\n",
       "      <td>Fiber optic</td>\n",
       "      <td>No</td>\n",
       "      <td>No</td>\n",
       "      <td>No</td>\n",
       "      <td>Yes</td>\n",
       "      <td>No</td>\n",
       "      <td>No</td>\n",
       "      <td>No</td>\n",
       "    </tr>\n",
       "    <tr>\n",
       "      <td>7639-OPLNG</td>\n",
       "      <td>No</td>\n",
       "      <td>Yes</td>\n",
       "      <td>Yes</td>\n",
       "      <td>Two year</td>\n",
       "      <td>Yes</td>\n",
       "      <td>Bank transfer (automatic)</td>\n",
       "      <td>2132.0</td>\n",
       "      <td>81.883571</td>\n",
       "      <td>DSL</td>\n",
       "      <td>Yes</td>\n",
       "      <td>Yes</td>\n",
       "      <td>Yes</td>\n",
       "      <td>Yes</td>\n",
       "      <td>Yes</td>\n",
       "      <td>No</td>\n",
       "      <td>Yes</td>\n",
       "    </tr>\n",
       "    <tr>\n",
       "      <td>6650-VJONK</td>\n",
       "      <td>No</td>\n",
       "      <td>No</td>\n",
       "      <td>No</td>\n",
       "      <td>Month-to-month</td>\n",
       "      <td>Yes</td>\n",
       "      <td>Bank transfer (automatic)</td>\n",
       "      <td>31.0</td>\n",
       "      <td>43.850000</td>\n",
       "      <td>DSL</td>\n",
       "      <td>No</td>\n",
       "      <td>No</td>\n",
       "      <td>No</td>\n",
       "      <td>No</td>\n",
       "      <td>No</td>\n",
       "      <td>No</td>\n",
       "      <td>No</td>\n",
       "    </tr>\n",
       "    <tr>\n",
       "      <td>9801-GDWGV</td>\n",
       "      <td>No</td>\n",
       "      <td>No</td>\n",
       "      <td>No</td>\n",
       "      <td>Month-to-month</td>\n",
       "      <td>Yes</td>\n",
       "      <td>Electronic check</td>\n",
       "      <td>1187.0</td>\n",
       "      <td>102.421795</td>\n",
       "      <td>Fiber optic</td>\n",
       "      <td>No</td>\n",
       "      <td>Yes</td>\n",
       "      <td>Yes</td>\n",
       "      <td>No</td>\n",
       "      <td>Yes</td>\n",
       "      <td>Yes</td>\n",
       "      <td>Yes</td>\n",
       "    </tr>\n",
       "    <tr>\n",
       "      <td>7033-CLAMM</td>\n",
       "      <td>No</td>\n",
       "      <td>Yes</td>\n",
       "      <td>Yes</td>\n",
       "      <td>Two year</td>\n",
       "      <td>No</td>\n",
       "      <td>Bank transfer (automatic)</td>\n",
       "      <td>1461.0</td>\n",
       "      <td>21.401042</td>\n",
       "      <td>0</td>\n",
       "      <td>0</td>\n",
       "      <td>0</td>\n",
       "      <td>0</td>\n",
       "      <td>0</td>\n",
       "      <td>0</td>\n",
       "      <td>0</td>\n",
       "      <td>No</td>\n",
       "    </tr>\n",
       "  </tbody>\n",
       "</table>\n",
       "</div>"
      ],
      "text/plain": [
       "           SeniorCitizen Partner Dependents            Type PaperlessBilling  \\\n",
       "customerID                                                                     \n",
       "2696-NARTR            No      No         No  Month-to-month              Yes   \n",
       "7639-OPLNG            No     Yes        Yes        Two year              Yes   \n",
       "6650-VJONK            No      No         No  Month-to-month              Yes   \n",
       "9801-GDWGV            No      No         No  Month-to-month              Yes   \n",
       "7033-CLAMM            No     Yes        Yes        Two year               No   \n",
       "\n",
       "                        PaymentMethod  LifeTimeDays  AvMonthCharges  \\\n",
       "customerID                                                            \n",
       "2696-NARTR           Electronic check         335.0       84.204545   \n",
       "7639-OPLNG  Bank transfer (automatic)        2132.0       81.883571   \n",
       "6650-VJONK  Bank transfer (automatic)          31.0       43.850000   \n",
       "9801-GDWGV           Electronic check        1187.0      102.421795   \n",
       "7033-CLAMM  Bank transfer (automatic)        1461.0       21.401042   \n",
       "\n",
       "           InternetService OnlineSecurity OnlineBackup DeviceProtection  \\\n",
       "customerID                                                                \n",
       "2696-NARTR     Fiber optic             No           No               No   \n",
       "7639-OPLNG             DSL            Yes          Yes              Yes   \n",
       "6650-VJONK             DSL             No           No               No   \n",
       "9801-GDWGV     Fiber optic             No          Yes              Yes   \n",
       "7033-CLAMM               0              0            0                0   \n",
       "\n",
       "           TechSupport StreamingTV StreamingMovies MultipleLines  \n",
       "customerID                                                        \n",
       "2696-NARTR         Yes          No              No            No  \n",
       "7639-OPLNG         Yes         Yes              No           Yes  \n",
       "6650-VJONK          No          No              No            No  \n",
       "9801-GDWGV          No         Yes             Yes           Yes  \n",
       "7033-CLAMM           0           0               0            No  "
      ]
     },
     "execution_count": 75,
     "metadata": {},
     "output_type": "execute_result"
    }
   ],
   "source": [
    "# проверка\n",
    "features_train.head()"
   ]
  },
  {
   "cell_type": "code",
   "execution_count": 76,
   "id": "6b3c3613",
   "metadata": {},
   "outputs": [
    {
     "data": {
      "text/plain": [
       "((5274, 27), (1758, 27))"
      ]
     },
     "execution_count": 76,
     "metadata": {},
     "output_type": "execute_result"
    }
   ],
   "source": [
    "# признаки и таргеты после OHE\n",
    "features_ohe_train, features_ohe_test = train_test_split(\n",
    "    features_ohe, test_size=0.25, random_state=12345)\n",
    "features_ohe_train.shape, features_ohe_test.shape"
   ]
  },
  {
   "cell_type": "markdown",
   "id": "376c9f73",
   "metadata": {},
   "source": [
    "## Обучение модели"
   ]
  },
  {
   "cell_type": "code",
   "execution_count": 77,
   "id": "0eb6d570",
   "metadata": {},
   "outputs": [
    {
     "name": "stdout",
     "output_type": "stream",
     "text": [
      "<class 'pandas.core.frame.DataFrame'>\n",
      "Index: 5274 entries, 2696-NARTR to 7569-NMZYQ\n",
      "Data columns (total 27 columns):\n",
      "LifeTimeDays                             5274 non-null float64\n",
      "AvMonthCharges                           5274 non-null float64\n",
      "SeniorCitizen_Yes                        5274 non-null int64\n",
      "Partner_Yes                              5274 non-null int64\n",
      "Dependents_Yes                           5274 non-null int64\n",
      "Type_One year                            5274 non-null int64\n",
      "Type_Two year                            5274 non-null int64\n",
      "PaperlessBilling_Yes                     5274 non-null int64\n",
      "PaymentMethod_Credit card (automatic)    5274 non-null int64\n",
      "PaymentMethod_Electronic check           5274 non-null int64\n",
      "PaymentMethod_Mailed check               5274 non-null int64\n",
      "InternetService_DSL                      5274 non-null int64\n",
      "InternetService_Fiber optic              5274 non-null int64\n",
      "OnlineSecurity_No                        5274 non-null int64\n",
      "OnlineSecurity_Yes                       5274 non-null int64\n",
      "OnlineBackup_No                          5274 non-null int64\n",
      "OnlineBackup_Yes                         5274 non-null int64\n",
      "DeviceProtection_No                      5274 non-null int64\n",
      "DeviceProtection_Yes                     5274 non-null int64\n",
      "TechSupport_No                           5274 non-null int64\n",
      "TechSupport_Yes                          5274 non-null int64\n",
      "StreamingTV_No                           5274 non-null int64\n",
      "StreamingTV_Yes                          5274 non-null int64\n",
      "StreamingMovies_No                       5274 non-null int64\n",
      "StreamingMovies_Yes                      5274 non-null int64\n",
      "MultipleLines_No                         5274 non-null int64\n",
      "MultipleLines_Yes                        5274 non-null int64\n",
      "dtypes: float64(2), int64(25)\n",
      "memory usage: 1.1+ MB\n"
     ]
    }
   ],
   "source": [
    "features_ohe_train.info()"
   ]
  },
  {
   "cell_type": "markdown",
   "id": "f7508dc3",
   "metadata": {},
   "source": [
    "### RandomForest"
   ]
  },
  {
   "cell_type": "code",
   "execution_count": 78,
   "id": "19e74ce6",
   "metadata": {},
   "outputs": [],
   "source": [
    "model_forest = RandomForestClassifier(random_state=12345,\n",
    "                                      n_estimators=100,\n",
    "                                      max_depth=10,\n",
    "                                      class_weight='balanced', #{0:1,1:4},\n",
    "                                      max_features=9,\n",
    "                                      min_samples_leaf=5)"
   ]
  },
  {
   "cell_type": "code",
   "execution_count": 79,
   "id": "ec2de8b9",
   "metadata": {},
   "outputs": [
    {
     "name": "stdout",
     "output_type": "stream",
     "text": [
      "<class 'pandas.core.frame.DataFrame'>\n",
      "Index: 1758 entries, 6322-PJJDJ to 8439-LTUGF\n",
      "Data columns (total 1 columns):\n",
      "GoOut    1758 non-null int64\n",
      "dtypes: int64(1)\n",
      "memory usage: 27.5+ KB\n"
     ]
    }
   ],
   "source": [
    "#features_ohe_train.isna().sum()\n",
    "#features_ohe_train.info()\n",
    "#target_train\n",
    "target_test.info()"
   ]
  },
  {
   "cell_type": "code",
   "execution_count": 80,
   "id": "b27360a2",
   "metadata": {},
   "outputs": [
    {
     "data": {
      "text/plain": [
       "RandomForestClassifier(bootstrap=True, class_weight='balanced',\n",
       "                       criterion='gini', max_depth=10, max_features=9,\n",
       "                       max_leaf_nodes=None, min_impurity_decrease=0.0,\n",
       "                       min_impurity_split=None, min_samples_leaf=5,\n",
       "                       min_samples_split=2, min_weight_fraction_leaf=0.0,\n",
       "                       n_estimators=100, n_jobs=None, oob_score=False,\n",
       "                       random_state=12345, verbose=0, warm_start=False)"
      ]
     },
     "execution_count": 80,
     "metadata": {},
     "output_type": "execute_result"
    }
   ],
   "source": [
    "model_forest.fit(features_ohe_train,\n",
    "                 target_train)"
   ]
  },
  {
   "cell_type": "code",
   "execution_count": 81,
   "id": "6db2e2db",
   "metadata": {},
   "outputs": [],
   "source": [
    "pred_forest = model_forest.predict(features_ohe_test)"
   ]
  },
  {
   "cell_type": "code",
   "execution_count": 82,
   "id": "72a7dbe4",
   "metadata": {},
   "outputs": [
    {
     "name": "stdout",
     "output_type": "stream",
     "text": [
      "ROC-AUC RandomForestClasifier: 0.7751041588703441\n",
      "F1 score RandomForestClasifier: 0.6544754571703562\n"
     ]
    }
   ],
   "source": [
    "print('ROC-AUC RandomForestClasifier:', roc_auc_score(target_test.values, pred_forest))\n",
    "print('F1 score RandomForestClasifier:', f1_score(target_test.values, pred_forest))"
   ]
  },
  {
   "cell_type": "markdown",
   "id": "87931ccd",
   "metadata": {},
   "source": [
    "<div style=\"background: #ffeeaa; padding: 5px; border: 1px solid green; border-radius: 5px;\">\n",
    "    <font color='green'> <b><u>КОММЕНТАРИЙ РЕВЬЮЕРА</u></b>\n",
    "</font>\n",
    "<font color='green'><br>\n",
    "для расчёта аук используется predict(). Попробуй predict_proba()"
   ]
  },
  {
   "cell_type": "code",
   "execution_count": 83,
   "id": "d574eb96",
   "metadata": {},
   "outputs": [],
   "source": [
    "probabilities_forest = model_forest.predict_proba(features_ohe_test)\n",
    "precision, recall, thresholds = precision_recall_curve(target_test, probabilities_forest[:, 1])"
   ]
  },
  {
   "cell_type": "code",
   "execution_count": 84,
   "id": "06948f9f",
   "metadata": {},
   "outputs": [
    {
     "name": "stdout",
     "output_type": "stream",
     "text": [
      "ROC-AUC (predict_proba) RandomForestClasifier: 0.8686117971875026\n"
     ]
    }
   ],
   "source": [
    "print('ROC-AUC (predict_proba) RandomForestClasifier:', roc_auc_score(target_test.values, model_forest.predict_proba(features_ohe_test)[:,1]))"
   ]
  },
  {
   "cell_type": "markdown",
   "id": "1859ecbd",
   "metadata": {},
   "source": [
    "<div style=\"background: #B0E0E6; padding: 5px; border: 1px solid green; border-radius: 5px;\">\n",
    "    <font color='black'> <b><u>Студента 1</u></b>\n",
    "</font>\n",
    "<font color='black'><br> Что-то я не понял, почему получается иная ROC-AUC? Это связано с изменением порога классификации?"
   ]
  },
  {
   "cell_type": "markdown",
   "id": "31918e2b",
   "metadata": {},
   "source": [
    "<div style=\"background: #cceeaa; padding: 5px; border: 1px solid green; border-radius: 5px;\">\n",
    "    <font color='green'> <b><u>КОММЕНТАРИЙ РЕВЬЮЕРА 2</u></b>\n",
    "</font>\n",
    "<font color='green'><br>примерно так, да. Просто predict() - считает на пороге 0.5."
   ]
  },
  {
   "cell_type": "code",
   "execution_count": 85,
   "id": "6e31e803",
   "metadata": {},
   "outputs": [
    {
     "data": {
      "image/png": "[encoded data removed]",
      "text/plain": [
       "<Figure size 288x288 with 1 Axes>"
      ]
     },
     "metadata": {
      "needs_background": "light"
     },
     "output_type": "display_data"
    }
   ],
   "source": [
    "plt.figure(figsize=(4, 4))\n",
    "plt.step(recall, precision, where='post')\n",
    "plt.xlabel('Recall')\n",
    "plt.ylabel('Precision')\n",
    "plt.ylim([0.0, 1.05])\n",
    "plt.xlim([0.0, 1.0])\n",
    "plt.title('Кривая Precision-Recall')\n",
    "plt.show()"
   ]
  },
  {
   "cell_type": "code",
   "execution_count": null,
   "id": "e45cac86",
   "metadata": {},
   "outputs": [],
   "source": []
  },
  {
   "cell_type": "code",
   "execution_count": 86,
   "id": "e0711a01",
   "metadata": {},
   "outputs": [
    {
     "data": {
      "image/png": "[encoded data removed]",
      "text/plain": [
       "<Figure size 288x288 with 1 Axes>"
      ]
     },
     "metadata": {
      "needs_background": "light"
     },
     "output_type": "display_data"
    }
   ],
   "source": [
    "probabilities = model_forest.predict_proba(features_ohe_test.values)\n",
    "fpr, tpr, thresholds = roc_curve(target_test, probabilities[:,1])\n",
    "# построю кривую ROC\n",
    "plt.figure(figsize=(4, 4))\n",
    "plt.step(fpr, tpr, where='post')\n",
    "plt.xlabel('False Positive Rate')\n",
    "plt.ylabel('True positive Rate')\n",
    "plt.ylim([0.0, 1.05])\n",
    "plt.xlim([0.0, 1.0])\n",
    "plt.title('Кривая ROC')\n",
    "plt.show()"
   ]
  },
  {
   "cell_type": "markdown",
   "id": "f29c705f",
   "metadata": {},
   "source": [
    "##### Важность признаков"
   ]
  },
  {
   "cell_type": "code",
   "execution_count": 87,
   "id": "3d25c0e9",
   "metadata": {},
   "outputs": [],
   "source": [
    "importances = model_forest.feature_importances_\n",
    "std = np.std([tree.feature_importances_ for tree in model_forest.estimators_], axis=0)"
   ]
  },
  {
   "cell_type": "markdown",
   "id": "339d1cc4",
   "metadata": {},
   "source": [
    "Построю график важности признаков:"
   ]
  },
  {
   "cell_type": "code",
   "execution_count": 88,
   "id": "49670e07",
   "metadata": {},
   "outputs": [
    {
     "data": {
      "image/png": "[encoded data removed]",
      "text/plain": [
       "<Figure size 1008x576 with 1 Axes>"
      ]
     },
     "metadata": {
      "needs_background": "light"
     },
     "output_type": "display_data"
    }
   ],
   "source": [
    "forest_importances = pd.Series(importances, index=features_ohe_train.columns)\n",
    "\n",
    "fig, ax = plt.subplots()\n",
    "forest_importances.plot.bar(yerr=std, ax=ax, figsize=(14,8))\n",
    "ax.set_title(\"Feature importances using MDI\")\n",
    "ax.set_ylabel(\"Mean decrease in impurity\")\n",
    "fig.tight_layout()"
   ]
  },
  {
   "cell_type": "markdown",
   "id": "284dfa9c",
   "metadata": {},
   "source": [
    "\n",
    "Здесь можно сделать вывод, что некоторые признаки оказывают малое влияние на точность модели. Сохраню их названия в спискок, чтобы проверить, как как будет в других моделях:"
   ]
  },
  {
   "cell_type": "code",
   "execution_count": 89,
   "id": "8601def3",
   "metadata": {},
   "outputs": [],
   "source": [
    "bad_features = ['SeniorCitizen_Yes',\n",
    "                'PaymentMethod_Credit card (automatic)',\n",
    "                'PaymentMethod_Electronic check',\n",
    "                'DeviceProtection_Yes',\n",
    "                'StreamingMovies_No',\n",
    "                'StreamingTV_No',\n",
    "                'StreamingTV_Yes',\n",
    "                'MultipleLines_Yes'\n",
    "               ]"
   ]
  },
  {
   "cell_type": "code",
   "execution_count": 90,
   "id": "da1f6c91",
   "metadata": {},
   "outputs": [
    {
     "data": {
      "text/plain": [
       "Index(['LifeTimeDays', 'AvMonthCharges', 'SeniorCitizen_Yes', 'Partner_Yes',\n",
       "       'Dependents_Yes', 'Type_One year', 'Type_Two year',\n",
       "       'PaperlessBilling_Yes', 'PaymentMethod_Credit card (automatic)',\n",
       "       'PaymentMethod_Electronic check', 'PaymentMethod_Mailed check',\n",
       "       'InternetService_DSL', 'InternetService_Fiber optic',\n",
       "       'OnlineSecurity_No', 'OnlineSecurity_Yes', 'OnlineBackup_No',\n",
       "       'OnlineBackup_Yes', 'DeviceProtection_No', 'DeviceProtection_Yes',\n",
       "       'TechSupport_No', 'TechSupport_Yes', 'StreamingTV_No',\n",
       "       'StreamingTV_Yes', 'StreamingMovies_No', 'StreamingMovies_Yes',\n",
       "       'MultipleLines_No', 'MultipleLines_Yes'],\n",
       "      dtype='object')"
      ]
     },
     "execution_count": 90,
     "metadata": {},
     "output_type": "execute_result"
    }
   ],
   "source": [
    "features_ohe_train.columns"
   ]
  },
  {
   "cell_type": "markdown",
   "id": "130b4373",
   "metadata": {},
   "source": [
    "<a id=\"question1\"></a>\n",
    "Не уверен, что можно отделять закодированные признаки. Например, убрать 'PaymentMethod_Credit card (automatic)', но оставить 'PaymentMethod_Electronic check'. Какие комментарии на этот счёт?"
   ]
  },
  {
   "cell_type": "code",
   "execution_count": null,
   "id": "48cd6677",
   "metadata": {},
   "outputs": [],
   "source": []
  },
  {
   "cell_type": "code",
   "execution_count": 91,
   "id": "45f123bd",
   "metadata": {},
   "outputs": [],
   "source": [
    "features_ohe_good = features_ohe.drop(bad_features, axis=1)"
   ]
  },
  {
   "cell_type": "code",
   "execution_count": 92,
   "id": "aee04c62",
   "metadata": {},
   "outputs": [
    {
     "data": {
      "text/plain": [
       "((5274, 19), (1758, 19))"
      ]
     },
     "execution_count": 92,
     "metadata": {},
     "output_type": "execute_result"
    }
   ],
   "source": [
    "# признаки и таргеты после OHE\n",
    "features_ohe_train_good, features_ohe_test_good = train_test_split(\n",
    "    features_ohe_good, test_size=0.25, random_state=12345)\n",
    "features_ohe_train_good.shape, features_ohe_test_good.shape"
   ]
  },
  {
   "cell_type": "code",
   "execution_count": 93,
   "id": "e82e22ea",
   "metadata": {},
   "outputs": [],
   "source": [
    "model_forest_good = RandomForestClassifier(random_state=12345,\n",
    "                                      n_estimators=100,\n",
    "                                      max_depth=10,\n",
    "                                      class_weight='balanced', #{0:1,1:4},\n",
    "                                      max_features=9,\n",
    "                                      min_samples_leaf=5)"
   ]
  },
  {
   "cell_type": "code",
   "execution_count": 94,
   "id": "6f93fec5",
   "metadata": {},
   "outputs": [
    {
     "data": {
      "text/plain": [
       "RandomForestClassifier(bootstrap=True, class_weight='balanced',\n",
       "                       criterion='gini', max_depth=10, max_features=9,\n",
       "                       max_leaf_nodes=None, min_impurity_decrease=0.0,\n",
       "                       min_impurity_split=None, min_samples_leaf=5,\n",
       "                       min_samples_split=2, min_weight_fraction_leaf=0.0,\n",
       "                       n_estimators=100, n_jobs=None, oob_score=False,\n",
       "                       random_state=12345, verbose=0, warm_start=False)"
      ]
     },
     "execution_count": 94,
     "metadata": {},
     "output_type": "execute_result"
    }
   ],
   "source": [
    "model_forest_good.fit(features_ohe_train_good,\n",
    "                 target_train)"
   ]
  },
  {
   "cell_type": "code",
   "execution_count": 95,
   "id": "2b6aaa73",
   "metadata": {},
   "outputs": [],
   "source": [
    "pred_forest_good = model_forest_good.predict(features_ohe_test_good)"
   ]
  },
  {
   "cell_type": "code",
   "execution_count": 96,
   "id": "fe6c6fad",
   "metadata": {},
   "outputs": [
    {
     "name": "stdout",
     "output_type": "stream",
     "text": [
      "ROC-AUC RandomForestClasifier: 0.7807349749270264 \n",
      "Разница: 0.005630816056682253\n",
      "F1 score RandomForestClasifier: 0.6627906976744187\n"
     ]
    }
   ],
   "source": [
    "print('ROC-AUC RandomForestClasifier:',\n",
    "      roc_auc_score(target_test.values, pred_forest_good),\n",
    "      '\\nРазница:',\n",
    "      roc_auc_score(target_test.values, pred_forest_good)-roc_auc_score(target_test.values, pred_forest))\n",
    "print('F1 score RandomForestClasifier:', f1_score(target_test.values, pred_forest_good))\n"
   ]
  },
  {
   "cell_type": "code",
   "execution_count": 97,
   "id": "47df955c",
   "metadata": {},
   "outputs": [
    {
     "name": "stdout",
     "output_type": "stream",
     "text": [
      "ROC-AUC (predict_proba) RandomForestClasifier: 0.8725311645003285 \n",
      "Разница: 0.003919367312825939\n"
     ]
    }
   ],
   "source": [
    "probabilities_forest_good = model_forest_good.predict_proba(features_ohe_test_good)\n",
    "precision, recall, thresholds = precision_recall_curve(target_test, probabilities_forest_good[:, 1])\n",
    "print('ROC-AUC (predict_proba) RandomForestClasifier:',\n",
    "      roc_auc_score(target_test.values, model_forest_good.predict_proba(features_ohe_test_good)[:,1]),\n",
    "      '\\nРазница:',\n",
    "      roc_auc_score(target_test.values, model_forest_good.predict_proba(features_ohe_test_good)[:,1])-\n",
    "      roc_auc_score(target_test.values, model_forest.predict_proba(features_ohe_test)[:,1])\n",
    "     )"
   ]
  },
  {
   "cell_type": "markdown",
   "id": "b5ef4e20",
   "metadata": {},
   "source": [
    "После удаления фичей немного упала метрика ROC-AUC, подросла метрика, посчитанная на `predict_proba()`."
   ]
  },
  {
   "cell_type": "markdown",
   "id": "16705c68",
   "metadata": {},
   "source": [
    "#### RandomForest с CridSearchCV"
   ]
  },
  {
   "cell_type": "code",
   "execution_count": 98,
   "id": "a82392ec",
   "metadata": {},
   "outputs": [
    {
     "data": {
      "text/html": [
       "<div>\n",
       "<style scoped>\n",
       "    .dataframe tbody tr th:only-of-type {\n",
       "        vertical-align: middle;\n",
       "    }\n",
       "\n",
       "    .dataframe tbody tr th {\n",
       "        vertical-align: top;\n",
       "    }\n",
       "\n",
       "    .dataframe thead th {\n",
       "        text-align: right;\n",
       "    }\n",
       "</style>\n",
       "<table border=\"1\" class=\"dataframe\">\n",
       "  <thead>\n",
       "    <tr style=\"text-align: right;\">\n",
       "      <th></th>\n",
       "      <th>LifeTimeDays</th>\n",
       "      <th>AvMonthCharges</th>\n",
       "      <th>SeniorCitizen_Yes</th>\n",
       "      <th>Partner_Yes</th>\n",
       "      <th>Dependents_Yes</th>\n",
       "      <th>Type_One year</th>\n",
       "      <th>Type_Two year</th>\n",
       "      <th>PaperlessBilling_Yes</th>\n",
       "      <th>PaymentMethod_Credit card (automatic)</th>\n",
       "      <th>PaymentMethod_Electronic check</th>\n",
       "      <th>...</th>\n",
       "      <th>DeviceProtection_No</th>\n",
       "      <th>DeviceProtection_Yes</th>\n",
       "      <th>TechSupport_No</th>\n",
       "      <th>TechSupport_Yes</th>\n",
       "      <th>StreamingTV_No</th>\n",
       "      <th>StreamingTV_Yes</th>\n",
       "      <th>StreamingMovies_No</th>\n",
       "      <th>StreamingMovies_Yes</th>\n",
       "      <th>MultipleLines_No</th>\n",
       "      <th>MultipleLines_Yes</th>\n",
       "    </tr>\n",
       "    <tr>\n",
       "      <th>customerID</th>\n",
       "      <th></th>\n",
       "      <th></th>\n",
       "      <th></th>\n",
       "      <th></th>\n",
       "      <th></th>\n",
       "      <th></th>\n",
       "      <th></th>\n",
       "      <th></th>\n",
       "      <th></th>\n",
       "      <th></th>\n",
       "      <th></th>\n",
       "      <th></th>\n",
       "      <th></th>\n",
       "      <th></th>\n",
       "      <th></th>\n",
       "      <th></th>\n",
       "      <th></th>\n",
       "      <th></th>\n",
       "      <th></th>\n",
       "      <th></th>\n",
       "      <th></th>\n",
       "    </tr>\n",
       "  </thead>\n",
       "  <tbody>\n",
       "    <tr>\n",
       "      <td>7590-VHVEG</td>\n",
       "      <td>31.0</td>\n",
       "      <td>29.850000</td>\n",
       "      <td>0</td>\n",
       "      <td>1</td>\n",
       "      <td>0</td>\n",
       "      <td>0</td>\n",
       "      <td>0</td>\n",
       "      <td>1</td>\n",
       "      <td>0</td>\n",
       "      <td>1</td>\n",
       "      <td>...</td>\n",
       "      <td>1</td>\n",
       "      <td>0</td>\n",
       "      <td>1</td>\n",
       "      <td>0</td>\n",
       "      <td>1</td>\n",
       "      <td>0</td>\n",
       "      <td>1</td>\n",
       "      <td>0</td>\n",
       "      <td>0</td>\n",
       "      <td>0</td>\n",
       "    </tr>\n",
       "    <tr>\n",
       "      <td>5575-GNVDE</td>\n",
       "      <td>1036.0</td>\n",
       "      <td>55.573529</td>\n",
       "      <td>0</td>\n",
       "      <td>0</td>\n",
       "      <td>0</td>\n",
       "      <td>1</td>\n",
       "      <td>0</td>\n",
       "      <td>0</td>\n",
       "      <td>0</td>\n",
       "      <td>0</td>\n",
       "      <td>...</td>\n",
       "      <td>0</td>\n",
       "      <td>1</td>\n",
       "      <td>1</td>\n",
       "      <td>0</td>\n",
       "      <td>1</td>\n",
       "      <td>0</td>\n",
       "      <td>1</td>\n",
       "      <td>0</td>\n",
       "      <td>1</td>\n",
       "      <td>0</td>\n",
       "    </tr>\n",
       "    <tr>\n",
       "      <td>3668-QPYBK</td>\n",
       "      <td>61.0</td>\n",
       "      <td>54.075000</td>\n",
       "      <td>0</td>\n",
       "      <td>0</td>\n",
       "      <td>0</td>\n",
       "      <td>0</td>\n",
       "      <td>0</td>\n",
       "      <td>1</td>\n",
       "      <td>0</td>\n",
       "      <td>0</td>\n",
       "      <td>...</td>\n",
       "      <td>1</td>\n",
       "      <td>0</td>\n",
       "      <td>1</td>\n",
       "      <td>0</td>\n",
       "      <td>1</td>\n",
       "      <td>0</td>\n",
       "      <td>1</td>\n",
       "      <td>0</td>\n",
       "      <td>1</td>\n",
       "      <td>0</td>\n",
       "    </tr>\n",
       "    <tr>\n",
       "      <td>7795-CFOCW</td>\n",
       "      <td>1371.0</td>\n",
       "      <td>40.905556</td>\n",
       "      <td>0</td>\n",
       "      <td>0</td>\n",
       "      <td>0</td>\n",
       "      <td>1</td>\n",
       "      <td>0</td>\n",
       "      <td>0</td>\n",
       "      <td>0</td>\n",
       "      <td>0</td>\n",
       "      <td>...</td>\n",
       "      <td>0</td>\n",
       "      <td>1</td>\n",
       "      <td>0</td>\n",
       "      <td>1</td>\n",
       "      <td>1</td>\n",
       "      <td>0</td>\n",
       "      <td>1</td>\n",
       "      <td>0</td>\n",
       "      <td>0</td>\n",
       "      <td>0</td>\n",
       "    </tr>\n",
       "    <tr>\n",
       "      <td>9237-HQITU</td>\n",
       "      <td>61.0</td>\n",
       "      <td>75.825000</td>\n",
       "      <td>0</td>\n",
       "      <td>0</td>\n",
       "      <td>0</td>\n",
       "      <td>0</td>\n",
       "      <td>0</td>\n",
       "      <td>1</td>\n",
       "      <td>0</td>\n",
       "      <td>1</td>\n",
       "      <td>...</td>\n",
       "      <td>1</td>\n",
       "      <td>0</td>\n",
       "      <td>1</td>\n",
       "      <td>0</td>\n",
       "      <td>1</td>\n",
       "      <td>0</td>\n",
       "      <td>1</td>\n",
       "      <td>0</td>\n",
       "      <td>1</td>\n",
       "      <td>0</td>\n",
       "    </tr>\n",
       "  </tbody>\n",
       "</table>\n",
       "<p>5 rows × 27 columns</p>\n",
       "</div>"
      ],
      "text/plain": [
       "            LifeTimeDays  AvMonthCharges  SeniorCitizen_Yes  Partner_Yes  \\\n",
       "customerID                                                                 \n",
       "7590-VHVEG          31.0       29.850000                  0            1   \n",
       "5575-GNVDE        1036.0       55.573529                  0            0   \n",
       "3668-QPYBK          61.0       54.075000                  0            0   \n",
       "7795-CFOCW        1371.0       40.905556                  0            0   \n",
       "9237-HQITU          61.0       75.825000                  0            0   \n",
       "\n",
       "            Dependents_Yes  Type_One year  Type_Two year  \\\n",
       "customerID                                                 \n",
       "7590-VHVEG               0              0              0   \n",
       "5575-GNVDE               0              1              0   \n",
       "3668-QPYBK               0              0              0   \n",
       "7795-CFOCW               0              1              0   \n",
       "9237-HQITU               0              0              0   \n",
       "\n",
       "            PaperlessBilling_Yes  PaymentMethod_Credit card (automatic)  \\\n",
       "customerID                                                                \n",
       "7590-VHVEG                     1                                      0   \n",
       "5575-GNVDE                     0                                      0   \n",
       "3668-QPYBK                     1                                      0   \n",
       "7795-CFOCW                     0                                      0   \n",
       "9237-HQITU                     1                                      0   \n",
       "\n",
       "            PaymentMethod_Electronic check  ...  DeviceProtection_No  \\\n",
       "customerID                                  ...                        \n",
       "7590-VHVEG                               1  ...                    1   \n",
       "5575-GNVDE                               0  ...                    0   \n",
       "3668-QPYBK                               0  ...                    1   \n",
       "7795-CFOCW                               0  ...                    0   \n",
       "9237-HQITU                               1  ...                    1   \n",
       "\n",
       "            DeviceProtection_Yes  TechSupport_No  TechSupport_Yes  \\\n",
       "customerID                                                          \n",
       "7590-VHVEG                     0               1                0   \n",
       "5575-GNVDE                     1               1                0   \n",
       "3668-QPYBK                     0               1                0   \n",
       "7795-CFOCW                     1               0                1   \n",
       "9237-HQITU                     0               1                0   \n",
       "\n",
       "            StreamingTV_No  StreamingTV_Yes  StreamingMovies_No  \\\n",
       "customerID                                                        \n",
       "7590-VHVEG               1                0                   1   \n",
       "5575-GNVDE               1                0                   1   \n",
       "3668-QPYBK               1                0                   1   \n",
       "7795-CFOCW               1                0                   1   \n",
       "9237-HQITU               1                0                   1   \n",
       "\n",
       "            StreamingMovies_Yes  MultipleLines_No  MultipleLines_Yes  \n",
       "customerID                                                            \n",
       "7590-VHVEG                    0                 0                  0  \n",
       "5575-GNVDE                    0                 1                  0  \n",
       "3668-QPYBK                    0                 1                  0  \n",
       "7795-CFOCW                    0                 0                  0  \n",
       "9237-HQITU                    0                 1                  0  \n",
       "\n",
       "[5 rows x 27 columns]"
      ]
     },
     "execution_count": 98,
     "metadata": {},
     "output_type": "execute_result"
    }
   ],
   "source": [
    "features_ohe.head()"
   ]
  },
  {
   "cell_type": "code",
   "execution_count": 99,
   "id": "5e79fee2",
   "metadata": {
    "tags": []
   },
   "outputs": [
    {
     "name": "stdout",
     "output_type": "stream",
     "text": [
      "Fitting 3 folds for each of 9 candidates, totalling 27 fits\n",
      "[CV] max_depth=11, n_estimators=200 ..................................\n"
     ]
    },
    {
     "name": "stderr",
     "output_type": "stream",
     "text": [
      "[Parallel(n_jobs=1)]: Using backend SequentialBackend with 1 concurrent workers.\n"
     ]
    },
    {
     "name": "stdout",
     "output_type": "stream",
     "text": [
      "[CV] ................... max_depth=11, n_estimators=200, total=   1.3s\n",
      "[CV] max_depth=11, n_estimators=200 ..................................\n"
     ]
    },
    {
     "name": "stderr",
     "output_type": "stream",
     "text": [
      "[Parallel(n_jobs=1)]: Done   1 out of   1 | elapsed:    1.3s remaining:    0.0s\n"
     ]
    },
    {
     "name": "stdout",
     "output_type": "stream",
     "text": [
      "[CV] ................... max_depth=11, n_estimators=200, total=   1.3s\n",
      "[CV] max_depth=11, n_estimators=200 ..................................\n",
      "[CV] ................... max_depth=11, n_estimators=200, total=   1.2s\n",
      "[CV] max_depth=11, n_estimators=300 ..................................\n",
      "[CV] ................... max_depth=11, n_estimators=300, total=   1.9s\n",
      "[CV] max_depth=11, n_estimators=300 ..................................\n",
      "[CV] ................... max_depth=11, n_estimators=300, total=   1.8s\n",
      "[CV] max_depth=11, n_estimators=300 ..................................\n",
      "[CV] ................... max_depth=11, n_estimators=300, total=   1.8s\n",
      "[CV] max_depth=11, n_estimators=400 ..................................\n",
      "[CV] ................... max_depth=11, n_estimators=400, total=   2.4s\n",
      "[CV] max_depth=11, n_estimators=400 ..................................\n",
      "[CV] ................... max_depth=11, n_estimators=400, total=   2.4s\n",
      "[CV] max_depth=11, n_estimators=400 ..................................\n",
      "[CV] ................... max_depth=11, n_estimators=400, total=   2.5s\n",
      "[CV] max_depth=13, n_estimators=200 ..................................\n",
      "[CV] ................... max_depth=13, n_estimators=200, total=   1.2s\n",
      "[CV] max_depth=13, n_estimators=200 ..................................\n",
      "[CV] ................... max_depth=13, n_estimators=200, total=   1.2s\n",
      "[CV] max_depth=13, n_estimators=200 ..................................\n",
      "[CV] ................... max_depth=13, n_estimators=200, total=   1.2s\n",
      "[CV] max_depth=13, n_estimators=300 ..................................\n",
      "[CV] ................... max_depth=13, n_estimators=300, total=   1.8s\n",
      "[CV] max_depth=13, n_estimators=300 ..................................\n",
      "[CV] ................... max_depth=13, n_estimators=300, total=   1.9s\n",
      "[CV] max_depth=13, n_estimators=300 ..................................\n",
      "[CV] ................... max_depth=13, n_estimators=300, total=   1.9s\n",
      "[CV] max_depth=13, n_estimators=400 ..................................\n",
      "[CV] ................... max_depth=13, n_estimators=400, total=   2.6s\n",
      "[CV] max_depth=13, n_estimators=400 ..................................\n",
      "[CV] ................... max_depth=13, n_estimators=400, total=   2.4s\n",
      "[CV] max_depth=13, n_estimators=400 ..................................\n",
      "[CV] ................... max_depth=13, n_estimators=400, total=   2.4s\n",
      "[CV] max_depth=15, n_estimators=200 ..................................\n",
      "[CV] ................... max_depth=15, n_estimators=200, total=   1.2s\n",
      "[CV] max_depth=15, n_estimators=200 ..................................\n",
      "[CV] ................... max_depth=15, n_estimators=200, total=   1.2s\n",
      "[CV] max_depth=15, n_estimators=200 ..................................\n",
      "[CV] ................... max_depth=15, n_estimators=200, total=   1.2s\n",
      "[CV] max_depth=15, n_estimators=300 ..................................\n",
      "[CV] ................... max_depth=15, n_estimators=300, total=   1.8s\n",
      "[CV] max_depth=15, n_estimators=300 ..................................\n",
      "[CV] ................... max_depth=15, n_estimators=300, total=   1.9s\n",
      "[CV] max_depth=15, n_estimators=300 ..................................\n",
      "[CV] ................... max_depth=15, n_estimators=300, total=   1.8s\n",
      "[CV] max_depth=15, n_estimators=400 ..................................\n",
      "[CV] ................... max_depth=15, n_estimators=400, total=   2.5s\n",
      "[CV] max_depth=15, n_estimators=400 ..................................\n",
      "[CV] ................... max_depth=15, n_estimators=400, total=   2.5s\n",
      "[CV] max_depth=15, n_estimators=400 ..................................\n",
      "[CV] ................... max_depth=15, n_estimators=400, total=   2.5s\n"
     ]
    },
    {
     "name": "stderr",
     "output_type": "stream",
     "text": [
      "[Parallel(n_jobs=1)]: Done  27 out of  27 | elapsed:   49.9s finished\n"
     ]
    },
    {
     "name": "stdout",
     "output_type": "stream",
     "text": [
      "best_params_: {'max_depth': 13, 'n_estimators': 300}\n",
      "best_estimator_: RandomForestClassifier(bootstrap=True, class_weight='balanced',\n",
      "                       criterion='gini', max_depth=13, max_features=9,\n",
      "                       max_leaf_nodes=None, min_impurity_decrease=0.0,\n",
      "                       min_impurity_split=None, min_samples_leaf=5,\n",
      "                       min_samples_split=2, min_weight_fraction_leaf=0.0,\n",
      "                       n_estimators=300, n_jobs=None, oob_score=False,\n",
      "                       random_state=12345, verbose=0, warm_start=False)\n",
      "CPU times: user 52 s, sys: 233 ms, total: 52.2 s\n",
      "Wall time: 52.5 s\n"
     ]
    }
   ],
   "source": [
    "%%time\n",
    "model_forest_gs = RandomForestClassifier(random_state=12345,\n",
    "                                         class_weight='balanced',\n",
    "                                         max_features=9,\n",
    "                                         min_samples_leaf=5)\n",
    "forest_parameters = {\n",
    "    'max_depth': range(11, 16, 2),\n",
    "    'n_estimators': range(200, 402, 100)\n",
    "}\n",
    "grid_forest = GridSearchCV(estimator=model_forest_gs,\n",
    "                            param_grid=forest_parameters,\n",
    "                            cv=3,\n",
    "                            scoring='accuracy',\n",
    "                            verbose=2\n",
    "                            )\n",
    "grid_forest.fit(features_ohe_train, target_train)\n",
    "print('best_params_:', grid_forest.best_params_)\n",
    "print('best_estimator_:', grid_forest.best_estimator_)\n",
    "pred_forest_gs = grid_forest.predict(features_ohe_test)"
   ]
  },
  {
   "cell_type": "code",
   "execution_count": 100,
   "id": "14fed76b",
   "metadata": {},
   "outputs": [
    {
     "name": "stdout",
     "output_type": "stream",
     "text": [
      "ROC-AUC RandomForestClasifier with GridSearchCV: 0.7754808771798517\n",
      "F1 score RandomForestClasifier with GridSearchCV: 0.6593625498007968\n"
     ]
    }
   ],
   "source": [
    "print('ROC-AUC RandomForestClasifier with GridSearchCV:', roc_auc_score(target_test.values, pred_forest_gs))\n",
    "print('F1 score RandomForestClasifier with GridSearchCV:', f1_score(target_test.values, pred_forest_gs))"
   ]
  },
  {
   "cell_type": "markdown",
   "id": "9e3b72a7",
   "metadata": {},
   "source": [
    "<div style=\"background: #B0E0E6; padding: 5px; border: 1px solid green; border-radius: 5px;\">\n",
    "<font color='black'><br> Новый код 2 ячейки:"
   ]
  },
  {
   "cell_type": "code",
   "execution_count": 101,
   "id": "c8cc615b",
   "metadata": {},
   "outputs": [],
   "source": [
    "probabilities_forest_gs = grid_forest.predict_proba(features_ohe_test)\n",
    "precision, recall, thresholds = precision_recall_curve(target_test, probabilities_forest_gs[:, 1])"
   ]
  },
  {
   "cell_type": "code",
   "execution_count": 102,
   "id": "712627ca",
   "metadata": {},
   "outputs": [
    {
     "name": "stdout",
     "output_type": "stream",
     "text": [
      "ROC-AUC (predict_proba) RandomForestClasifier: 0.8680928739532138\n"
     ]
    }
   ],
   "source": [
    "print('ROC-AUC (predict_proba) RandomForestClasifier:', roc_auc_score(target_test.values, grid_forest.predict_proba(features_ohe_test)[:,1]))"
   ]
  },
  {
   "cell_type": "markdown",
   "id": "0a835e95",
   "metadata": {},
   "source": [
    "### CatBoost"
   ]
  },
  {
   "cell_type": "code",
   "execution_count": 103,
   "id": "5190a30f",
   "metadata": {},
   "outputs": [],
   "source": [
    "model_cb = CatBoostClassifier(loss_function=\"Logloss\", iterations=10)"
   ]
  },
  {
   "cell_type": "code",
   "execution_count": 104,
   "id": "c06347aa",
   "metadata": {},
   "outputs": [
    {
     "data": {
      "application/vnd.jupyter.widget-view+json": {
       "model_id": "db9a6370a56d49f4ad14abeb41a16548",
       "version_major": 2,
       "version_minor": 0
      },
      "text/plain": [
       "MetricVisualizer(layout=Layout(align_self='stretch', height='500px'))"
      ]
     },
     "metadata": {},
     "output_type": "display_data"
    },
    {
     "name": "stdout",
     "output_type": "stream",
     "text": [
      "Learning rate set to 0.5\n",
      "0:\tlearn: 0.5438399\ttotal: 60.6ms\tremaining: 546ms\n",
      "2:\tlearn: 0.4417929\ttotal: 83ms\tremaining: 194ms\n",
      "4:\tlearn: 0.4120211\ttotal: 106ms\tremaining: 106ms\n",
      "6:\tlearn: 0.4025837\ttotal: 119ms\tremaining: 50.9ms\n",
      "8:\tlearn: 0.3953909\ttotal: 136ms\tremaining: 15.2ms\n",
      "9:\tlearn: 0.3899176\ttotal: 146ms\tremaining: 0us\n",
      "ROC-AUC CatBoost: 0.7241673527430581\n",
      "Accuracy CatBoost: 0.8191126279863481\n"
     ]
    }
   ],
   "source": [
    "cat_features = ['SeniorCitizen', 'Partner', 'Dependents', 'Type',\n",
    "       'PaperlessBilling', 'PaymentMethod','InternetService', 'OnlineSecurity',\n",
    "       'OnlineBackup', 'DeviceProtection', 'TechSupport', 'StreamingTV',\n",
    "       'StreamingMovies', 'MultipleLines']\n",
    "model_cb.fit(features_train, target_train, cat_features=cat_features, verbose=2, plot=True)\n",
    "pred_cb = model_cb.predict(features_test)\n",
    "print('ROC-AUC CatBoost:', roc_auc_score(target_test.values, pred_cb))\n",
    "print('Accuracy CatBoost:', accuracy_score(target_test.values, pred_cb))"
   ]
  },
  {
   "cell_type": "code",
   "execution_count": null,
   "id": "29739d2d",
   "metadata": {},
   "outputs": [],
   "source": []
  },
  {
   "cell_type": "code",
   "execution_count": 105,
   "id": "18e63d8c",
   "metadata": {},
   "outputs": [],
   "source": [
    "model_catboost = CatBoostClassifier(verbose=100,\n",
    "                           iterations=500,\n",
    "                           loss_function='Logloss',\n",
    "                           learning_rate=0.7,\n",
    "                           early_stopping_rounds=200,\n",
    "                           eval_metric='F1',\n",
    "                           auto_class_weights='Balanced',\n",
    "                           random_seed=12345,\n",
    "                           #use_best_model=True,\n",
    "                           depth=8\n",
    "                           )"
   ]
  },
  {
   "cell_type": "code",
   "execution_count": 106,
   "id": "f4c8c643",
   "metadata": {},
   "outputs": [
    {
     "data": {
      "application/vnd.jupyter.widget-view+json": {
       "model_id": "e65589d32b994964b2a59896b0a8a965",
       "version_major": 2,
       "version_minor": 0
      },
      "text/plain": [
       "MetricVisualizer(layout=Layout(align_self='stretch', height='500px'))"
      ]
     },
     "metadata": {},
     "output_type": "display_data"
    },
    {
     "name": "stdout",
     "output_type": "stream",
     "text": [
      "0:\tlearn: 0.7633628\ttotal: 29.5ms\tremaining: 14.7s\n",
      "100:\tlearn: 0.9837208\ttotal: 5.69s\tremaining: 22.5s\n",
      "200:\tlearn: 0.9983232\ttotal: 11.6s\tremaining: 17.2s\n",
      "300:\tlearn: 0.9998708\ttotal: 17.4s\tremaining: 11.5s\n",
      "400:\tlearn: 1.0000000\ttotal: 23.2s\tremaining: 5.72s\n",
      "499:\tlearn: 1.0000000\ttotal: 28.5s\tremaining: 0us\n",
      "ROC-AUC CatBoost: 0.7780630192350872\n",
      "Accuracy CatBoost: 0.8447098976109215\n"
     ]
    }
   ],
   "source": [
    "model_catboost.fit(features_train, target_train, cat_features=cat_features, verbose=100, plot=True)\n",
    "pred_catboost = model_catboost.predict(features_test)\n",
    "print('ROC-AUC CatBoost:', roc_auc_score(target_test.values, pred_catboost))\n",
    "print('Accuracy CatBoost:', accuracy_score(target_test.values, pred_catboost))"
   ]
  },
  {
   "cell_type": "markdown",
   "id": "3519a16a",
   "metadata": {},
   "source": [
    "<div style=\"background: #B0E0E6; padding: 5px; border: 1px solid green; border-radius: 5px;\">\n",
    "<font color='black'><br> Новый код 2 ячейки:"
   ]
  },
  {
   "cell_type": "code",
   "execution_count": 107,
   "id": "d6cec99b",
   "metadata": {},
   "outputs": [],
   "source": [
    "probabilities_catboost = model_catboost.predict_proba(features_test)\n",
    "precision, recall, thresholds = precision_recall_curve(target_test, probabilities_forest[:, 1])"
   ]
  },
  {
   "cell_type": "code",
   "execution_count": 108,
   "id": "dcb96535",
   "metadata": {},
   "outputs": [
    {
     "name": "stdout",
     "output_type": "stream",
     "text": [
      "ROC-AUC (predict_proba) CatBoost: 0.8729636005289027\n"
     ]
    }
   ],
   "source": [
    "print('ROC-AUC (predict_proba) CatBoost:', roc_auc_score(\n",
    "    target_test.values,\n",
    "    model_catboost.predict_proba(features_test)[:,1]))"
   ]
  },
  {
   "cell_type": "markdown",
   "id": "d4676987",
   "metadata": {},
   "source": [
    "### CatBoost with GridSearch"
   ]
  },
  {
   "cell_type": "code",
   "execution_count": 109,
   "id": "e742a26e",
   "metadata": {
    "tags": []
   },
   "outputs": [
    {
     "name": "stdout",
     "output_type": "stream",
     "text": [
      "Fitting 5 folds for each of 16 candidates, totalling 80 fits\n",
      "[CV] depth=1, iterations=5 ...........................................\n"
     ]
    },
    {
     "name": "stderr",
     "output_type": "stream",
     "text": [
      "[Parallel(n_jobs=1)]: Using backend SequentialBackend with 1 concurrent workers.\n"
     ]
    },
    {
     "name": "stdout",
     "output_type": "stream",
     "text": [
      "Learning rate set to 0.5\n",
      "0:\tlearn: 0.6433793\ttotal: 3.29ms\tremaining: 13.2ms\n",
      "3:\tlearn: 0.5420721\ttotal: 10.7ms\tremaining: 2.67ms\n",
      "4:\tlearn: 0.5277181\ttotal: 12.6ms\tremaining: 0us\n",
      "[CV] ............... depth=1, iterations=5, score=0.791, total=   1.7s\n",
      "[CV] depth=1, iterations=5 ...........................................\n"
     ]
    },
    {
     "name": "stderr",
     "output_type": "stream",
     "text": [
      "[Parallel(n_jobs=1)]: Done   1 out of   1 | elapsed:    1.7s remaining:    0.0s\n"
     ]
    },
    {
     "name": "stdout",
     "output_type": "stream",
     "text": [
      "Learning rate set to 0.5\n",
      "0:\tlearn: 0.6453962\ttotal: 3.15ms\tremaining: 12.6ms\n",
      "3:\tlearn: 0.5398586\ttotal: 10.9ms\tremaining: 2.72ms\n",
      "4:\tlearn: 0.5272794\ttotal: 12.9ms\tremaining: 0us\n",
      "[CV] ............... depth=1, iterations=5, score=0.810, total=   1.7s\n",
      "[CV] depth=1, iterations=5 ...........................................\n"
     ]
    },
    {
     "name": "stderr",
     "output_type": "stream",
     "text": [
      "[Parallel(n_jobs=1)]: Done   2 out of   2 | elapsed:    3.4s remaining:    0.0s\n"
     ]
    },
    {
     "name": "stdout",
     "output_type": "stream",
     "text": [
      "Learning rate set to 0.5\n",
      "0:\tlearn: 0.6442421\ttotal: 3.58ms\tremaining: 14.3ms\n",
      "3:\tlearn: 0.5473539\ttotal: 11.2ms\tremaining: 2.8ms\n",
      "4:\tlearn: 0.5344259\ttotal: 13.4ms\tremaining: 0us\n",
      "[CV] ............... depth=1, iterations=5, score=0.817, total=   1.7s\n",
      "[CV] depth=1, iterations=5 ...........................................\n"
     ]
    },
    {
     "name": "stderr",
     "output_type": "stream",
     "text": [
      "[Parallel(n_jobs=1)]: Done   3 out of   3 | elapsed:    5.0s remaining:    0.0s\n"
     ]
    },
    {
     "name": "stdout",
     "output_type": "stream",
     "text": [
      "Learning rate set to 0.5\n",
      "0:\tlearn: 0.6121268\ttotal: 4.39ms\tremaining: 17.6ms\n",
      "3:\tlearn: 0.5653164\ttotal: 13ms\tremaining: 3.26ms\n",
      "4:\tlearn: 0.5463444\ttotal: 15.4ms\tremaining: 0us\n",
      "[CV] ............... depth=1, iterations=5, score=0.818, total=   1.8s\n",
      "[CV] depth=1, iterations=5 ...........................................\n"
     ]
    },
    {
     "name": "stderr",
     "output_type": "stream",
     "text": [
      "[Parallel(n_jobs=1)]: Done   4 out of   4 | elapsed:    6.8s remaining:    0.0s\n"
     ]
    },
    {
     "name": "stdout",
     "output_type": "stream",
     "text": [
      "Learning rate set to 0.5\n",
      "0:\tlearn: 0.6102069\ttotal: 3.37ms\tremaining: 13.5ms\n",
      "3:\tlearn: 0.5501681\ttotal: 10.3ms\tremaining: 2.56ms\n",
      "4:\tlearn: 0.5346879\ttotal: 12.3ms\tremaining: 0us\n",
      "[CV] ............... depth=1, iterations=5, score=0.825, total=   1.7s\n",
      "[CV] depth=1, iterations=25 ..........................................\n"
     ]
    },
    {
     "name": "stderr",
     "output_type": "stream",
     "text": [
      "[Parallel(n_jobs=1)]: Done   5 out of   5 | elapsed:    8.5s remaining:    0.0s\n"
     ]
    },
    {
     "name": "stdout",
     "output_type": "stream",
     "text": [
      "Learning rate set to 0.5\n",
      "0:\tlearn: 0.6433793\ttotal: 3.4ms\tremaining: 81.7ms\n",
      "3:\tlearn: 0.5420721\ttotal: 10.6ms\tremaining: 55.5ms\n",
      "6:\tlearn: 0.5088599\ttotal: 16.4ms\tremaining: 42.1ms\n",
      "9:\tlearn: 0.4942114\ttotal: 22.9ms\tremaining: 34.3ms\n",
      "12:\tlearn: 0.4881289\ttotal: 28.7ms\tremaining: 26.5ms\n",
      "15:\tlearn: 0.4809748\ttotal: 34.5ms\tremaining: 19.4ms\n",
      "18:\tlearn: 0.4769040\ttotal: 40.2ms\tremaining: 12.7ms\n",
      "21:\tlearn: 0.4733893\ttotal: 45.8ms\tremaining: 6.25ms\n",
      "24:\tlearn: 0.4695813\ttotal: 51.8ms\tremaining: 0us\n",
      "[CV] .............. depth=1, iterations=25, score=0.837, total=   1.7s\n",
      "[CV] depth=1, iterations=25 ..........................................\n"
     ]
    },
    {
     "name": "stderr",
     "output_type": "stream",
     "text": [
      "[Parallel(n_jobs=1)]: Done   6 out of   6 | elapsed:   10.2s remaining:    0.0s\n"
     ]
    },
    {
     "name": "stdout",
     "output_type": "stream",
     "text": [
      "Learning rate set to 0.5\n",
      "0:\tlearn: 0.6453962\ttotal: 3.1ms\tremaining: 74.5ms\n",
      "3:\tlearn: 0.5398586\ttotal: 10.2ms\tremaining: 53.5ms\n",
      "6:\tlearn: 0.5071559\ttotal: 16.5ms\tremaining: 42.5ms\n",
      "9:\tlearn: 0.4901323\ttotal: 23.3ms\tremaining: 34.9ms\n",
      "12:\tlearn: 0.4846922\ttotal: 28.9ms\tremaining: 26.6ms\n",
      "15:\tlearn: 0.4729488\ttotal: 34.6ms\tremaining: 19.4ms\n",
      "18:\tlearn: 0.4703932\ttotal: 40.8ms\tremaining: 12.9ms\n",
      "21:\tlearn: 0.4648272\ttotal: 46.6ms\tremaining: 6.36ms\n",
      "24:\tlearn: 0.4603843\ttotal: 52.5ms\tremaining: 0us\n",
      "[CV] .............. depth=1, iterations=25, score=0.842, total=   1.7s\n",
      "[CV] depth=1, iterations=25 ..........................................\n"
     ]
    },
    {
     "name": "stderr",
     "output_type": "stream",
     "text": [
      "[Parallel(n_jobs=1)]: Done   7 out of   7 | elapsed:   11.9s remaining:    0.0s\n"
     ]
    },
    {
     "name": "stdout",
     "output_type": "stream",
     "text": [
      "Learning rate set to 0.5\n",
      "0:\tlearn: 0.6442421\ttotal: 3.34ms\tremaining: 80.3ms\n",
      "3:\tlearn: 0.5473539\ttotal: 10.8ms\tremaining: 56.5ms\n",
      "6:\tlearn: 0.5167144\ttotal: 16.9ms\tremaining: 43.4ms\n",
      "9:\tlearn: 0.4981767\ttotal: 23.9ms\tremaining: 35.8ms\n",
      "12:\tlearn: 0.4910713\ttotal: 30.2ms\tremaining: 27.8ms\n",
      "15:\tlearn: 0.4833381\ttotal: 35.9ms\tremaining: 20.2ms\n",
      "18:\tlearn: 0.4779948\ttotal: 41.8ms\tremaining: 13.2ms\n",
      "21:\tlearn: 0.4742004\ttotal: 47.7ms\tremaining: 6.51ms\n",
      "24:\tlearn: 0.4722347\ttotal: 53.7ms\tremaining: 0us\n",
      "[CV] .............. depth=1, iterations=25, score=0.851, total=   1.7s\n",
      "[CV] depth=1, iterations=25 ..........................................\n"
     ]
    },
    {
     "name": "stderr",
     "output_type": "stream",
     "text": [
      "[Parallel(n_jobs=1)]: Done   8 out of   8 | elapsed:   13.6s remaining:    0.0s\n"
     ]
    },
    {
     "name": "stdout",
     "output_type": "stream",
     "text": [
      "Learning rate set to 0.5\n",
      "0:\tlearn: 0.6121268\ttotal: 4.46ms\tremaining: 107ms\n",
      "3:\tlearn: 0.5653164\ttotal: 11.3ms\tremaining: 59.2ms\n",
      "6:\tlearn: 0.5221754\ttotal: 17.6ms\tremaining: 45.4ms\n",
      "9:\tlearn: 0.5057772\ttotal: 24.7ms\tremaining: 37ms\n",
      "12:\tlearn: 0.4969267\ttotal: 30.5ms\tremaining: 28.2ms\n",
      "15:\tlearn: 0.4895038\ttotal: 36.3ms\tremaining: 20.4ms\n",
      "18:\tlearn: 0.4854871\ttotal: 42.3ms\tremaining: 13.4ms\n",
      "21:\tlearn: 0.4810060\ttotal: 49.7ms\tremaining: 6.77ms\n",
      "24:\tlearn: 0.4775765\ttotal: 55.5ms\tremaining: 0us\n",
      "[CV] .............. depth=1, iterations=25, score=0.866, total=   1.7s\n",
      "[CV] depth=1, iterations=25 ..........................................\n"
     ]
    },
    {
     "name": "stderr",
     "output_type": "stream",
     "text": [
      "[Parallel(n_jobs=1)]: Done   9 out of   9 | elapsed:   15.3s remaining:    0.0s\n"
     ]
    },
    {
     "name": "stdout",
     "output_type": "stream",
     "text": [
      "Learning rate set to 0.5\n",
      "0:\tlearn: 0.6102069\ttotal: 3.77ms\tremaining: 90.5ms\n",
      "3:\tlearn: 0.5501681\ttotal: 10.9ms\tremaining: 57.3ms\n",
      "6:\tlearn: 0.5148081\ttotal: 18.9ms\tremaining: 48.7ms\n",
      "9:\tlearn: 0.5015774\ttotal: 26.3ms\tremaining: 39.5ms\n",
      "12:\tlearn: 0.4942995\ttotal: 32.1ms\tremaining: 29.7ms\n",
      "15:\tlearn: 0.4872544\ttotal: 38ms\tremaining: 21.4ms\n",
      "18:\tlearn: 0.4820442\ttotal: 44ms\tremaining: 13.9ms\n",
      "21:\tlearn: 0.4764141\ttotal: 49.7ms\tremaining: 6.78ms\n",
      "24:\tlearn: 0.4729979\ttotal: 55.3ms\tremaining: 0us\n",
      "[CV] .............. depth=1, iterations=25, score=0.865, total=   1.9s\n",
      "[CV] depth=3, iterations=5 ...........................................\n",
      "Learning rate set to 0.5\n",
      "0:\tlearn: 0.6091615\ttotal: 5.97ms\tremaining: 23.9ms\n",
      "3:\tlearn: 0.5105952\ttotal: 20ms\tremaining: 5.01ms\n",
      "4:\tlearn: 0.5006438\ttotal: 25.3ms\tremaining: 0us\n",
      "[CV] ............... depth=3, iterations=5, score=0.826, total=   2.1s\n",
      "[CV] depth=3, iterations=5 ...........................................\n",
      "Learning rate set to 0.5\n",
      "0:\tlearn: 0.6071758\ttotal: 7.51ms\tremaining: 30ms\n",
      "3:\tlearn: 0.5097408\ttotal: 26.9ms\tremaining: 6.72ms\n",
      "4:\tlearn: 0.4999166\ttotal: 32.4ms\tremaining: 0us\n",
      "[CV] ............... depth=3, iterations=5, score=0.824, total=   3.1s\n",
      "[CV] depth=3, iterations=5 ...........................................\n",
      "Learning rate set to 0.5\n",
      "0:\tlearn: 0.6112576\ttotal: 5.92ms\tremaining: 23.7ms\n",
      "3:\tlearn: 0.5152444\ttotal: 23.8ms\tremaining: 5.94ms\n",
      "4:\tlearn: 0.5025091\ttotal: 29.4ms\tremaining: 0us\n",
      "[CV] ............... depth=3, iterations=5, score=0.840, total=   1.6s\n",
      "[CV] depth=3, iterations=5 ...........................................\n",
      "Learning rate set to 0.5\n",
      "0:\tlearn: 0.5973294\ttotal: 6.42ms\tremaining: 25.7ms\n",
      "3:\tlearn: 0.5169761\ttotal: 22ms\tremaining: 5.5ms\n",
      "4:\tlearn: 0.5004405\ttotal: 26.8ms\tremaining: 0us\n",
      "[CV] ............... depth=3, iterations=5, score=0.848, total=   1.7s\n",
      "[CV] depth=3, iterations=5 ...........................................\n",
      "Learning rate set to 0.5\n",
      "0:\tlearn: 0.5991830\ttotal: 5.92ms\tremaining: 23.7ms\n",
      "3:\tlearn: 0.5196778\ttotal: 19.3ms\tremaining: 4.82ms\n",
      "4:\tlearn: 0.5095703\ttotal: 23.6ms\tremaining: 0us\n",
      "[CV] ............... depth=3, iterations=5, score=0.846, total=   1.6s\n",
      "[CV] depth=3, iterations=25 ..........................................\n",
      "Learning rate set to 0.5\n",
      "0:\tlearn: 0.6091615\ttotal: 5.83ms\tremaining: 140ms\n",
      "3:\tlearn: 0.5105952\ttotal: 19.9ms\tremaining: 104ms\n",
      "6:\tlearn: 0.4772147\ttotal: 37.6ms\tremaining: 96.8ms\n",
      "9:\tlearn: 0.4698516\ttotal: 50.7ms\tremaining: 76.1ms\n",
      "12:\tlearn: 0.4660252\ttotal: 62.9ms\tremaining: 58ms\n",
      "15:\tlearn: 0.4645020\ttotal: 75ms\tremaining: 42.2ms\n",
      "18:\tlearn: 0.4572303\ttotal: 88.4ms\tremaining: 27.9ms\n",
      "21:\tlearn: 0.4498765\ttotal: 101ms\tremaining: 13.8ms\n",
      "24:\tlearn: 0.4467143\ttotal: 115ms\tremaining: 0us\n",
      "[CV] .............. depth=3, iterations=25, score=0.853, total=   2.0s\n",
      "[CV] depth=3, iterations=25 ..........................................\n",
      "Learning rate set to 0.5\n",
      "0:\tlearn: 0.6071758\ttotal: 5.75ms\tremaining: 138ms\n",
      "3:\tlearn: 0.5097408\ttotal: 19.8ms\tremaining: 104ms\n",
      "6:\tlearn: 0.4854814\ttotal: 32.3ms\tremaining: 83.1ms\n",
      "9:\tlearn: 0.4736416\ttotal: 44.2ms\tremaining: 66.3ms\n",
      "12:\tlearn: 0.4597120\ttotal: 58.1ms\tremaining: 53.6ms\n",
      "15:\tlearn: 0.4528142\ttotal: 74.6ms\tremaining: 42ms\n",
      "18:\tlearn: 0.4498948\ttotal: 88.8ms\tremaining: 28ms\n",
      "21:\tlearn: 0.4448107\ttotal: 102ms\tremaining: 13.9ms\n",
      "24:\tlearn: 0.4413896\ttotal: 115ms\tremaining: 0us\n",
      "[CV] .............. depth=3, iterations=25, score=0.851, total=   2.1s\n",
      "[CV] depth=3, iterations=25 ..........................................\n",
      "Learning rate set to 0.5\n",
      "0:\tlearn: 0.6112576\ttotal: 5.81ms\tremaining: 139ms\n",
      "3:\tlearn: 0.5152444\ttotal: 22.4ms\tremaining: 118ms\n",
      "6:\tlearn: 0.4864187\ttotal: 36.8ms\tremaining: 94.5ms\n",
      "9:\tlearn: 0.4797248\ttotal: 49ms\tremaining: 73.4ms\n",
      "12:\tlearn: 0.4716371\ttotal: 61.3ms\tremaining: 56.6ms\n",
      "15:\tlearn: 0.4635150\ttotal: 73.9ms\tremaining: 41.6ms\n",
      "18:\tlearn: 0.4580501\ttotal: 86.8ms\tremaining: 27.4ms\n",
      "21:\tlearn: 0.4509213\ttotal: 99.6ms\tremaining: 13.6ms\n",
      "24:\tlearn: 0.4485414\ttotal: 115ms\tremaining: 0us\n",
      "[CV] .............. depth=3, iterations=25, score=0.855, total=   1.9s\n",
      "[CV] depth=3, iterations=25 ..........................................\n",
      "Learning rate set to 0.5\n",
      "0:\tlearn: 0.5973294\ttotal: 5.88ms\tremaining: 141ms\n",
      "3:\tlearn: 0.5169761\ttotal: 20.4ms\tremaining: 107ms\n",
      "6:\tlearn: 0.4880157\ttotal: 34.8ms\tremaining: 89.4ms\n",
      "9:\tlearn: 0.4803308\ttotal: 48.1ms\tremaining: 72.2ms\n",
      "12:\tlearn: 0.4745915\ttotal: 62.7ms\tremaining: 57.9ms\n",
      "15:\tlearn: 0.4697540\ttotal: 75.6ms\tremaining: 42.5ms\n",
      "18:\tlearn: 0.4608557\ttotal: 89ms\tremaining: 28.1ms\n",
      "21:\tlearn: 0.4548446\ttotal: 103ms\tremaining: 14.1ms\n",
      "24:\tlearn: 0.4538104\ttotal: 117ms\tremaining: 0us\n",
      "[CV] .............. depth=3, iterations=25, score=0.877, total=   1.7s\n",
      "[CV] depth=3, iterations=25 ..........................................\n",
      "Learning rate set to 0.5\n",
      "0:\tlearn: 0.5991830\ttotal: 5.94ms\tremaining: 143ms\n",
      "3:\tlearn: 0.5196778\ttotal: 19.3ms\tremaining: 101ms\n",
      "6:\tlearn: 0.4914666\ttotal: 32.4ms\tremaining: 83.2ms\n",
      "9:\tlearn: 0.4773041\ttotal: 46.3ms\tremaining: 69.5ms\n",
      "12:\tlearn: 0.4696311\ttotal: 59.1ms\tremaining: 54.5ms\n",
      "15:\tlearn: 0.4662375\ttotal: 70.5ms\tremaining: 39.6ms\n",
      "18:\tlearn: 0.4557526\ttotal: 83.9ms\tremaining: 26.5ms\n",
      "21:\tlearn: 0.4482087\ttotal: 96.7ms\tremaining: 13.2ms\n",
      "24:\tlearn: 0.4475196\ttotal: 109ms\tremaining: 0us\n",
      "[CV] .............. depth=3, iterations=25, score=0.874, total=   1.8s\n",
      "[CV] depth=5, iterations=5 ...........................................\n",
      "Learning rate set to 0.5\n",
      "0:\tlearn: 0.5932467\ttotal: 9.18ms\tremaining: 36.7ms\n",
      "3:\tlearn: 0.5023943\ttotal: 31.7ms\tremaining: 7.94ms\n",
      "4:\tlearn: 0.4852714\ttotal: 38.9ms\tremaining: 0us\n",
      "[CV] ............... depth=5, iterations=5, score=0.834, total=   1.7s\n",
      "[CV] depth=5, iterations=5 ...........................................\n",
      "Learning rate set to 0.5\n",
      "0:\tlearn: 0.5956231\ttotal: 8.55ms\tremaining: 34.2ms\n",
      "3:\tlearn: 0.5003233\ttotal: 34.6ms\tremaining: 8.64ms\n",
      "4:\tlearn: 0.4892377\ttotal: 41.4ms\tremaining: 0us\n",
      "[CV] ............... depth=5, iterations=5, score=0.821, total=   1.6s\n",
      "[CV] depth=5, iterations=5 ...........................................\n",
      "Learning rate set to 0.5\n",
      "0:\tlearn: 0.5935770\ttotal: 9.14ms\tremaining: 36.6ms\n",
      "3:\tlearn: 0.5060665\ttotal: 33.3ms\tremaining: 8.32ms\n",
      "4:\tlearn: 0.4858983\ttotal: 42.5ms\tremaining: 0us\n",
      "[CV] ............... depth=5, iterations=5, score=0.845, total=   1.6s\n",
      "[CV] depth=5, iterations=5 ...........................................\n",
      "Learning rate set to 0.5\n",
      "0:\tlearn: 0.5820270\ttotal: 8.63ms\tremaining: 34.5ms\n",
      "3:\tlearn: 0.5007304\ttotal: 31.5ms\tremaining: 7.87ms\n",
      "4:\tlearn: 0.4877649\ttotal: 40.8ms\tremaining: 0us\n",
      "[CV] ............... depth=5, iterations=5, score=0.865, total=   1.6s\n",
      "[CV] depth=5, iterations=5 ...........................................\n",
      "Learning rate set to 0.5\n",
      "0:\tlearn: 0.5809743\ttotal: 11.7ms\tremaining: 46.7ms\n",
      "3:\tlearn: 0.4956469\ttotal: 34.7ms\tremaining: 8.68ms\n",
      "4:\tlearn: 0.4818287\ttotal: 42.3ms\tremaining: 0us\n",
      "[CV] ............... depth=5, iterations=5, score=0.864, total=   1.7s\n",
      "[CV] depth=5, iterations=25 ..........................................\n",
      "Learning rate set to 0.5\n",
      "0:\tlearn: 0.5932467\ttotal: 8.28ms\tremaining: 199ms\n",
      "3:\tlearn: 0.5023943\ttotal: 27.7ms\tremaining: 146ms\n",
      "6:\tlearn: 0.4708284\ttotal: 49.2ms\tremaining: 126ms\n",
      "9:\tlearn: 0.4608960\ttotal: 69.9ms\tremaining: 105ms\n",
      "12:\tlearn: 0.4588835\ttotal: 85.2ms\tremaining: 78.6ms\n",
      "15:\tlearn: 0.4501426\ttotal: 111ms\tremaining: 62.3ms\n",
      "18:\tlearn: 0.4404716\ttotal: 131ms\tremaining: 41.3ms\n",
      "21:\tlearn: 0.4363189\ttotal: 152ms\tremaining: 20.7ms\n",
      "24:\tlearn: 0.4348788\ttotal: 171ms\tremaining: 0us\n",
      "[CV] .............. depth=5, iterations=25, score=0.850, total=   2.4s\n",
      "[CV] depth=5, iterations=25 ..........................................\n",
      "Learning rate set to 0.5\n",
      "0:\tlearn: 0.5956231\ttotal: 8.58ms\tremaining: 206ms\n",
      "3:\tlearn: 0.5003233\ttotal: 31.6ms\tremaining: 166ms\n",
      "6:\tlearn: 0.4752264\ttotal: 49.2ms\tremaining: 126ms\n",
      "9:\tlearn: 0.4617602\ttotal: 63.3ms\tremaining: 95ms\n",
      "12:\tlearn: 0.4532283\ttotal: 86.9ms\tremaining: 80.2ms\n",
      "15:\tlearn: 0.4498917\ttotal: 105ms\tremaining: 59.3ms\n",
      "18:\tlearn: 0.4444736\ttotal: 126ms\tremaining: 39.7ms\n",
      "21:\tlearn: 0.4377551\ttotal: 146ms\tremaining: 19.9ms\n",
      "24:\tlearn: 0.4287081\ttotal: 166ms\tremaining: 0us\n",
      "[CV] .............. depth=5, iterations=25, score=0.850, total=   2.0s\n",
      "[CV] depth=5, iterations=25 ..........................................\n",
      "Learning rate set to 0.5\n",
      "0:\tlearn: 0.5935770\ttotal: 8.97ms\tremaining: 215ms\n",
      "3:\tlearn: 0.5060665\ttotal: 31.7ms\tremaining: 166ms\n",
      "6:\tlearn: 0.4743793\ttotal: 52.4ms\tremaining: 135ms\n",
      "9:\tlearn: 0.4666751\ttotal: 76.4ms\tremaining: 115ms\n",
      "12:\tlearn: 0.4535920\ttotal: 95ms\tremaining: 87.7ms\n",
      "15:\tlearn: 0.4454783\ttotal: 116ms\tremaining: 65.1ms\n",
      "18:\tlearn: 0.4421789\ttotal: 142ms\tremaining: 44.7ms\n",
      "21:\tlearn: 0.4329364\ttotal: 166ms\tremaining: 22.6ms\n",
      "24:\tlearn: 0.4246545\ttotal: 186ms\tremaining: 0us\n",
      "[CV] .............. depth=5, iterations=25, score=0.864, total=   2.1s\n",
      "[CV] depth=5, iterations=25 ..........................................\n",
      "Learning rate set to 0.5\n",
      "0:\tlearn: 0.5820270\ttotal: 8.9ms\tremaining: 214ms\n",
      "3:\tlearn: 0.5007304\ttotal: 34.1ms\tremaining: 179ms\n",
      "6:\tlearn: 0.4757423\ttotal: 55.3ms\tremaining: 142ms\n",
      "9:\tlearn: 0.4683465\ttotal: 75.4ms\tremaining: 113ms\n",
      "12:\tlearn: 0.4643083\ttotal: 101ms\tremaining: 93.2ms\n",
      "15:\tlearn: 0.4564867\ttotal: 126ms\tremaining: 71ms\n",
      "18:\tlearn: 0.4527419\ttotal: 152ms\tremaining: 47.9ms\n",
      "21:\tlearn: 0.4439386\ttotal: 177ms\tremaining: 24.1ms\n",
      "24:\tlearn: 0.4390418\ttotal: 202ms\tremaining: 0us\n",
      "[CV] .............. depth=5, iterations=25, score=0.881, total=   1.8s\n",
      "[CV] depth=5, iterations=25 ..........................................\n",
      "Learning rate set to 0.5\n",
      "0:\tlearn: 0.5809743\ttotal: 8.95ms\tremaining: 215ms\n",
      "3:\tlearn: 0.4956469\ttotal: 31.3ms\tremaining: 164ms\n",
      "6:\tlearn: 0.4728966\ttotal: 49.5ms\tremaining: 127ms\n",
      "9:\tlearn: 0.4651533\ttotal: 71.4ms\tremaining: 107ms\n",
      "12:\tlearn: 0.4590442\ttotal: 90.6ms\tremaining: 83.6ms\n",
      "15:\tlearn: 0.4554866\ttotal: 114ms\tremaining: 63.9ms\n",
      "18:\tlearn: 0.4516478\ttotal: 132ms\tremaining: 41.7ms\n",
      "21:\tlearn: 0.4395563\ttotal: 152ms\tremaining: 20.8ms\n",
      "24:\tlearn: 0.4325006\ttotal: 172ms\tremaining: 0us\n",
      "[CV] .............. depth=5, iterations=25, score=0.877, total=   2.0s\n",
      "[CV] depth=7, iterations=5 ...........................................\n",
      "Learning rate set to 0.5\n",
      "0:\tlearn: 0.5913797\ttotal: 13.8ms\tremaining: 55.2ms\n",
      "3:\tlearn: 0.4859600\ttotal: 44ms\tremaining: 11ms\n",
      "4:\tlearn: 0.4734345\ttotal: 55ms\tremaining: 0us\n",
      "[CV] ............... depth=7, iterations=5, score=0.826, total=   2.0s\n",
      "[CV] depth=7, iterations=5 ...........................................\n",
      "Learning rate set to 0.5\n",
      "0:\tlearn: 0.5866370\ttotal: 11.8ms\tremaining: 47.1ms\n",
      "3:\tlearn: 0.4823803\ttotal: 43.6ms\tremaining: 10.9ms\n",
      "4:\tlearn: 0.4705381\ttotal: 55.6ms\tremaining: 0us\n",
      "[CV] ............... depth=7, iterations=5, score=0.836, total=   2.0s\n",
      "[CV] depth=7, iterations=5 ...........................................\n",
      "Learning rate set to 0.5\n",
      "0:\tlearn: 0.5915995\ttotal: 16.2ms\tremaining: 64.9ms\n",
      "3:\tlearn: 0.4868183\ttotal: 50.3ms\tremaining: 12.6ms\n",
      "4:\tlearn: 0.4741967\ttotal: 61.1ms\tremaining: 0us\n",
      "[CV] ............... depth=7, iterations=5, score=0.846, total=   2.1s\n",
      "[CV] depth=7, iterations=5 ...........................................\n",
      "Learning rate set to 0.5\n",
      "0:\tlearn: 0.5817063\ttotal: 12.7ms\tremaining: 50.8ms\n",
      "3:\tlearn: 0.5001385\ttotal: 49.1ms\tremaining: 12.3ms\n",
      "4:\tlearn: 0.4877554\ttotal: 60.8ms\tremaining: 0us\n",
      "[CV] ............... depth=7, iterations=5, score=0.861, total=   2.0s\n",
      "[CV] depth=7, iterations=5 ...........................................\n",
      "Learning rate set to 0.5\n",
      "0:\tlearn: 0.5828893\ttotal: 12.5ms\tremaining: 50ms\n",
      "3:\tlearn: 0.4889099\ttotal: 45.3ms\tremaining: 11.3ms\n",
      "4:\tlearn: 0.4748201\ttotal: 55.9ms\tremaining: 0us\n",
      "[CV] ............... depth=7, iterations=5, score=0.856, total=   1.8s\n",
      "[CV] depth=7, iterations=25 ..........................................\n",
      "Learning rate set to 0.5\n",
      "0:\tlearn: 0.5913797\ttotal: 12.2ms\tremaining: 292ms\n",
      "3:\tlearn: 0.4859600\ttotal: 47.9ms\tremaining: 251ms\n",
      "6:\tlearn: 0.4587594\ttotal: 73.2ms\tremaining: 188ms\n",
      "9:\tlearn: 0.4443561\ttotal: 92.7ms\tremaining: 139ms\n",
      "12:\tlearn: 0.4351194\ttotal: 124ms\tremaining: 115ms\n",
      "15:\tlearn: 0.4309381\ttotal: 145ms\tremaining: 81.8ms\n",
      "18:\tlearn: 0.4247638\ttotal: 168ms\tremaining: 53.2ms\n",
      "21:\tlearn: 0.4194892\ttotal: 200ms\tremaining: 27.2ms\n",
      "24:\tlearn: 0.4024731\ttotal: 235ms\tremaining: 0us\n",
      "[CV] .............. depth=7, iterations=25, score=0.851, total=   2.0s\n",
      "[CV] depth=7, iterations=25 ..........................................\n",
      "Learning rate set to 0.5\n",
      "0:\tlearn: 0.5866370\ttotal: 12ms\tremaining: 289ms\n",
      "3:\tlearn: 0.4823803\ttotal: 48ms\tremaining: 252ms\n",
      "6:\tlearn: 0.4510850\ttotal: 80.1ms\tremaining: 206ms\n",
      "9:\tlearn: 0.4433626\ttotal: 94.2ms\tremaining: 141ms\n",
      "12:\tlearn: 0.4332637\ttotal: 119ms\tremaining: 110ms\n",
      "15:\tlearn: 0.4240854\ttotal: 153ms\tremaining: 86.3ms\n",
      "18:\tlearn: 0.4202692\ttotal: 170ms\tremaining: 53.6ms\n",
      "21:\tlearn: 0.4113941\ttotal: 200ms\tremaining: 27.3ms\n",
      "24:\tlearn: 0.4001176\ttotal: 233ms\tremaining: 0us\n",
      "[CV] .............. depth=7, iterations=25, score=0.859, total=   2.0s\n",
      "[CV] depth=7, iterations=25 ..........................................\n",
      "Learning rate set to 0.5\n",
      "0:\tlearn: 0.5915995\ttotal: 14.2ms\tremaining: 341ms\n",
      "3:\tlearn: 0.4868183\ttotal: 47.8ms\tremaining: 251ms\n",
      "6:\tlearn: 0.4635277\ttotal: 71.8ms\tremaining: 185ms\n",
      "9:\tlearn: 0.4556267\ttotal: 97.1ms\tremaining: 146ms\n",
      "12:\tlearn: 0.4429021\ttotal: 125ms\tremaining: 116ms\n",
      "15:\tlearn: 0.4391682\ttotal: 153ms\tremaining: 86.3ms\n",
      "18:\tlearn: 0.4301126\ttotal: 178ms\tremaining: 56.3ms\n",
      "21:\tlearn: 0.4187616\ttotal: 214ms\tremaining: 29.2ms\n",
      "24:\tlearn: 0.4060081\ttotal: 245ms\tremaining: 0us\n",
      "[CV] .............. depth=7, iterations=25, score=0.853, total=   2.3s\n",
      "[CV] depth=7, iterations=25 ..........................................\n",
      "Learning rate set to 0.5\n",
      "0:\tlearn: 0.5817063\ttotal: 12.7ms\tremaining: 304ms\n",
      "3:\tlearn: 0.5001385\ttotal: 45.3ms\tremaining: 238ms\n",
      "6:\tlearn: 0.4748677\ttotal: 77.2ms\tremaining: 198ms\n",
      "9:\tlearn: 0.4599827\ttotal: 112ms\tremaining: 169ms\n",
      "12:\tlearn: 0.4477893\ttotal: 146ms\tremaining: 134ms\n",
      "15:\tlearn: 0.4425672\ttotal: 177ms\tremaining: 99.7ms\n",
      "18:\tlearn: 0.4335108\ttotal: 213ms\tremaining: 67.1ms\n",
      "21:\tlearn: 0.4233626\ttotal: 245ms\tremaining: 33.4ms\n",
      "24:\tlearn: 0.4179750\ttotal: 276ms\tremaining: 0us\n",
      "[CV] .............. depth=7, iterations=25, score=0.886, total=   2.0s\n",
      "[CV] depth=7, iterations=25 ..........................................\n",
      "Learning rate set to 0.5\n",
      "0:\tlearn: 0.5828893\ttotal: 15.9ms\tremaining: 383ms\n",
      "3:\tlearn: 0.4889099\ttotal: 61.2ms\tremaining: 321ms\n",
      "6:\tlearn: 0.4623761\ttotal: 86.9ms\tremaining: 223ms\n",
      "9:\tlearn: 0.4464308\ttotal: 128ms\tremaining: 192ms\n",
      "12:\tlearn: 0.4348198\ttotal: 168ms\tremaining: 155ms\n",
      "15:\tlearn: 0.4274226\ttotal: 187ms\tremaining: 105ms\n",
      "18:\tlearn: 0.4198316\ttotal: 219ms\tremaining: 69.3ms\n",
      "21:\tlearn: 0.4155244\ttotal: 250ms\tremaining: 34ms\n",
      "24:\tlearn: 0.4086749\ttotal: 281ms\tremaining: 0us\n",
      "[CV] .............. depth=7, iterations=25, score=0.871, total=   2.0s\n",
      "[CV] depth=9, iterations=5 ...........................................\n",
      "Learning rate set to 0.5\n",
      "0:\tlearn: 0.5888992\ttotal: 26.1ms\tremaining: 104ms\n",
      "3:\tlearn: 0.5032991\ttotal: 62.7ms\tremaining: 15.7ms\n",
      "4:\tlearn: 0.4818061\ttotal: 88.6ms\tremaining: 0us\n",
      "[CV] ............... depth=9, iterations=5, score=0.825, total=   1.7s\n",
      "[CV] depth=9, iterations=5 ...........................................\n",
      "Learning rate set to 0.5\n",
      "0:\tlearn: 0.5869615\ttotal: 25.7ms\tremaining: 103ms\n",
      "3:\tlearn: 0.4859885\ttotal: 83.4ms\tremaining: 20.9ms\n",
      "4:\tlearn: 0.4690641\ttotal: 102ms\tremaining: 0us\n",
      "[CV] ............... depth=9, iterations=5, score=0.831, total=   2.1s\n",
      "[CV] depth=9, iterations=5 ...........................................\n",
      "Learning rate set to 0.5\n",
      "0:\tlearn: 0.5891006\ttotal: 29ms\tremaining: 116ms\n",
      "3:\tlearn: 0.4898300\ttotal: 93.1ms\tremaining: 23.3ms\n",
      "4:\tlearn: 0.4780370\ttotal: 120ms\tremaining: 0us\n",
      "[CV] ............... depth=9, iterations=5, score=0.835, total=   2.2s\n",
      "[CV] depth=9, iterations=5 ...........................................\n",
      "Learning rate set to 0.5\n",
      "0:\tlearn: 0.5817063\ttotal: 18.5ms\tremaining: 73.9ms\n",
      "3:\tlearn: 0.5031845\ttotal: 61.7ms\tremaining: 15.4ms\n",
      "4:\tlearn: 0.4874406\ttotal: 85.5ms\tremaining: 0us\n",
      "[CV] ............... depth=9, iterations=5, score=0.853, total=   1.7s\n",
      "[CV] depth=9, iterations=5 ...........................................\n",
      "Learning rate set to 0.5\n",
      "0:\tlearn: 0.5831421\ttotal: 28.2ms\tremaining: 113ms\n",
      "3:\tlearn: 0.4905390\ttotal: 89.1ms\tremaining: 22.3ms\n",
      "4:\tlearn: 0.4723698\ttotal: 113ms\tremaining: 0us\n",
      "[CV] ............... depth=9, iterations=5, score=0.860, total=   1.8s\n",
      "[CV] depth=9, iterations=25 ..........................................\n",
      "Learning rate set to 0.5\n",
      "0:\tlearn: 0.5888992\ttotal: 26ms\tremaining: 623ms\n",
      "3:\tlearn: 0.5032991\ttotal: 64.2ms\tremaining: 337ms\n",
      "6:\tlearn: 0.4600680\ttotal: 140ms\tremaining: 359ms\n",
      "9:\tlearn: 0.4501572\ttotal: 175ms\tremaining: 262ms\n",
      "12:\tlearn: 0.4376162\ttotal: 228ms\tremaining: 210ms\n",
      "15:\tlearn: 0.4258805\ttotal: 289ms\tremaining: 162ms\n",
      "18:\tlearn: 0.4172056\ttotal: 367ms\tremaining: 116ms\n",
      "21:\tlearn: 0.4041023\ttotal: 448ms\tremaining: 61ms\n",
      "24:\tlearn: 0.3925288\ttotal: 520ms\tremaining: 0us\n",
      "[CV] .............. depth=9, iterations=25, score=0.849, total=   2.1s\n",
      "[CV] depth=9, iterations=25 ..........................................\n",
      "Learning rate set to 0.5\n",
      "0:\tlearn: 0.5869615\ttotal: 25.1ms\tremaining: 602ms\n",
      "3:\tlearn: 0.4859885\ttotal: 87.6ms\tremaining: 460ms\n",
      "6:\tlearn: 0.4489476\ttotal: 131ms\tremaining: 337ms\n",
      "9:\tlearn: 0.4336437\ttotal: 170ms\tremaining: 256ms\n",
      "12:\tlearn: 0.4235299\ttotal: 234ms\tremaining: 216ms\n",
      "15:\tlearn: 0.4146659\ttotal: 285ms\tremaining: 160ms\n",
      "18:\tlearn: 0.4005445\ttotal: 364ms\tremaining: 115ms\n",
      "21:\tlearn: 0.3909573\ttotal: 449ms\tremaining: 61.3ms\n",
      "24:\tlearn: 0.3793079\ttotal: 529ms\tremaining: 0us\n",
      "[CV] .............. depth=9, iterations=25, score=0.848, total=   2.2s\n",
      "[CV] depth=9, iterations=25 ..........................................\n",
      "Learning rate set to 0.5\n",
      "0:\tlearn: 0.5891006\ttotal: 32.1ms\tremaining: 771ms\n",
      "3:\tlearn: 0.4898300\ttotal: 96.3ms\tremaining: 506ms\n",
      "6:\tlearn: 0.4601250\ttotal: 153ms\tremaining: 392ms\n",
      "9:\tlearn: 0.4435552\ttotal: 217ms\tremaining: 325ms\n",
      "12:\tlearn: 0.4327538\ttotal: 283ms\tremaining: 261ms\n",
      "15:\tlearn: 0.4278171\ttotal: 359ms\tremaining: 202ms\n",
      "18:\tlearn: 0.4143487\ttotal: 445ms\tremaining: 140ms\n",
      "21:\tlearn: 0.4023094\ttotal: 523ms\tremaining: 71.3ms\n",
      "24:\tlearn: 0.3924033\ttotal: 602ms\tremaining: 0us\n",
      "[CV] .............. depth=9, iterations=25, score=0.854, total=   2.4s\n",
      "[CV] depth=9, iterations=25 ..........................................\n",
      "Learning rate set to 0.5\n",
      "0:\tlearn: 0.5817063\ttotal: 18.2ms\tremaining: 437ms\n",
      "3:\tlearn: 0.5031845\ttotal: 56.5ms\tremaining: 297ms\n",
      "6:\tlearn: 0.4648936\ttotal: 139ms\tremaining: 358ms\n",
      "9:\tlearn: 0.4537533\ttotal: 202ms\tremaining: 303ms\n",
      "12:\tlearn: 0.4496692\ttotal: 226ms\tremaining: 208ms\n",
      "15:\tlearn: 0.4355137\ttotal: 291ms\tremaining: 164ms\n",
      "18:\tlearn: 0.4168726\ttotal: 361ms\tremaining: 114ms\n",
      "21:\tlearn: 0.4074995\ttotal: 468ms\tremaining: 63.8ms\n",
      "24:\tlearn: 0.4021637\ttotal: 557ms\tremaining: 0us\n",
      "[CV] .............. depth=9, iterations=25, score=0.880, total=   4.1s\n",
      "[CV] depth=9, iterations=25 ..........................................\n",
      "Learning rate set to 0.5\n",
      "0:\tlearn: 0.5831421\ttotal: 28ms\tremaining: 671ms\n",
      "3:\tlearn: 0.4905390\ttotal: 100ms\tremaining: 525ms\n",
      "6:\tlearn: 0.4632584\ttotal: 140ms\tremaining: 359ms\n",
      "9:\tlearn: 0.4504254\ttotal: 178ms\tremaining: 267ms\n",
      "12:\tlearn: 0.4329310\ttotal: 241ms\tremaining: 222ms\n",
      "15:\tlearn: 0.4245957\ttotal: 311ms\tremaining: 175ms\n",
      "18:\tlearn: 0.4086687\ttotal: 400ms\tremaining: 126ms\n",
      "21:\tlearn: 0.3956906\ttotal: 491ms\tremaining: 66.9ms\n",
      "24:\tlearn: 0.3827806\ttotal: 583ms\tremaining: 0us\n",
      "[CV] .............. depth=9, iterations=25, score=0.865, total=   4.7s\n",
      "[CV] depth=11, iterations=5 ..........................................\n",
      "Learning rate set to 0.5\n",
      "0:\tlearn: 0.5893610\ttotal: 44.7ms\tremaining: 179ms\n",
      "3:\tlearn: 0.4868415\ttotal: 85.2ms\tremaining: 21.3ms\n",
      "4:\tlearn: 0.4754795\ttotal: 94.7ms\tremaining: 0us\n",
      "[CV] .............. depth=11, iterations=5, score=0.832, total=   2.2s\n",
      "[CV] depth=11, iterations=5 ..........................................\n",
      "Learning rate set to 0.5\n",
      "0:\tlearn: 0.5870010\ttotal: 39.2ms\tremaining: 157ms\n",
      "3:\tlearn: 0.4886938\ttotal: 99.9ms\tremaining: 25ms\n",
      "4:\tlearn: 0.4814982\ttotal: 110ms\tremaining: 0us\n",
      "[CV] .............. depth=11, iterations=5, score=0.825, total=   1.8s\n",
      "[CV] depth=11, iterations=5 ..........................................\n",
      "Learning rate set to 0.5\n",
      "0:\tlearn: 0.5889458\ttotal: 40.7ms\tremaining: 163ms\n",
      "3:\tlearn: 0.4784767\ttotal: 118ms\tremaining: 29.4ms\n",
      "4:\tlearn: 0.4620125\ttotal: 157ms\tremaining: 0us\n",
      "[CV] .............. depth=11, iterations=5, score=0.849, total=   3.1s\n",
      "[CV] depth=11, iterations=5 ..........................................\n",
      "Learning rate set to 0.5\n",
      "0:\tlearn: 0.5817063\ttotal: 14.7ms\tremaining: 58.9ms\n",
      "3:\tlearn: 0.4944868\ttotal: 62.2ms\tremaining: 15.5ms\n",
      "4:\tlearn: 0.4765658\ttotal: 102ms\tremaining: 0us\n",
      "[CV] .............. depth=11, iterations=5, score=0.856, total=   2.1s\n",
      "[CV] depth=11, iterations=5 ..........................................\n",
      "Learning rate set to 0.5\n",
      "0:\tlearn: 0.5886655\ttotal: 41.8ms\tremaining: 167ms\n",
      "3:\tlearn: 0.4889032\ttotal: 104ms\tremaining: 26ms\n",
      "4:\tlearn: 0.4745330\ttotal: 122ms\tremaining: 0us\n",
      "[CV] .............. depth=11, iterations=5, score=0.853, total=   1.8s\n",
      "[CV] depth=11, iterations=25 .........................................\n",
      "Learning rate set to 0.5\n",
      "0:\tlearn: 0.5893610\ttotal: 42ms\tremaining: 1.01s\n",
      "3:\tlearn: 0.4868415\ttotal: 83ms\tremaining: 436ms\n",
      "6:\tlearn: 0.4585332\ttotal: 138ms\tremaining: 356ms\n",
      "9:\tlearn: 0.4401481\ttotal: 198ms\tremaining: 297ms\n",
      "12:\tlearn: 0.4247969\ttotal: 295ms\tremaining: 272ms\n",
      "15:\tlearn: 0.4178292\ttotal: 350ms\tremaining: 197ms\n",
      "18:\tlearn: 0.3990090\ttotal: 474ms\tremaining: 150ms\n",
      "21:\tlearn: 0.3781980\ttotal: 606ms\tremaining: 82.6ms\n",
      "24:\tlearn: 0.3604476\ttotal: 742ms\tremaining: 0us\n",
      "[CV] ............. depth=11, iterations=25, score=0.843, total=   4.4s\n",
      "[CV] depth=11, iterations=25 .........................................\n",
      "Learning rate set to 0.5\n",
      "0:\tlearn: 0.5870010\ttotal: 41.8ms\tremaining: 1s\n",
      "3:\tlearn: 0.4886938\ttotal: 102ms\tremaining: 534ms\n",
      "6:\tlearn: 0.4602882\ttotal: 164ms\tremaining: 421ms\n",
      "9:\tlearn: 0.4387315\ttotal: 257ms\tremaining: 385ms\n",
      "12:\tlearn: 0.4185805\ttotal: 349ms\tremaining: 322ms\n",
      "15:\tlearn: 0.3981300\ttotal: 464ms\tremaining: 261ms\n",
      "18:\tlearn: 0.3764857\ttotal: 600ms\tremaining: 190ms\n",
      "21:\tlearn: 0.3573730\ttotal: 737ms\tremaining: 100ms\n",
      "24:\tlearn: 0.3376934\ttotal: 859ms\tremaining: 0us\n",
      "[CV] ............. depth=11, iterations=25, score=0.844, total=   4.6s\n",
      "[CV] depth=11, iterations=25 .........................................\n",
      "Learning rate set to 0.5\n",
      "0:\tlearn: 0.5889458\ttotal: 40ms\tremaining: 961ms\n",
      "3:\tlearn: 0.4784767\ttotal: 113ms\tremaining: 595ms\n",
      "6:\tlearn: 0.4581009\ttotal: 159ms\tremaining: 408ms\n",
      "9:\tlearn: 0.4353425\ttotal: 280ms\tremaining: 420ms\n",
      "12:\tlearn: 0.4251047\ttotal: 369ms\tremaining: 340ms\n",
      "15:\tlearn: 0.4184860\ttotal: 436ms\tremaining: 245ms\n",
      "18:\tlearn: 0.4010326\ttotal: 524ms\tremaining: 165ms\n",
      "21:\tlearn: 0.3855722\ttotal: 641ms\tremaining: 87.4ms\n",
      "24:\tlearn: 0.3696102\ttotal: 770ms\tremaining: 0us\n",
      "[CV] ............. depth=11, iterations=25, score=0.863, total=   2.5s\n",
      "[CV] depth=11, iterations=25 .........................................\n",
      "Learning rate set to 0.5\n",
      "0:\tlearn: 0.5817063\ttotal: 14.3ms\tremaining: 342ms\n",
      "3:\tlearn: 0.4944868\ttotal: 55.3ms\tremaining: 290ms\n",
      "6:\tlearn: 0.4688485\ttotal: 104ms\tremaining: 267ms\n",
      "9:\tlearn: 0.4537436\ttotal: 153ms\tremaining: 230ms\n",
      "12:\tlearn: 0.4469798\ttotal: 200ms\tremaining: 184ms\n",
      "15:\tlearn: 0.4260584\ttotal: 287ms\tremaining: 161ms\n",
      "18:\tlearn: 0.3988550\ttotal: 396ms\tremaining: 125ms\n",
      "21:\tlearn: 0.3843596\ttotal: 520ms\tremaining: 70.9ms\n",
      "24:\tlearn: 0.3653700\ttotal: 649ms\tremaining: 0us\n",
      "[CV] ............. depth=11, iterations=25, score=0.872, total=   2.4s\n",
      "[CV] depth=11, iterations=25 .........................................\n",
      "Learning rate set to 0.5\n",
      "0:\tlearn: 0.5886655\ttotal: 41.2ms\tremaining: 990ms\n",
      "3:\tlearn: 0.4889032\ttotal: 108ms\tremaining: 566ms\n",
      "6:\tlearn: 0.4644110\ttotal: 134ms\tremaining: 344ms\n",
      "9:\tlearn: 0.4444765\ttotal: 225ms\tremaining: 337ms\n",
      "12:\tlearn: 0.4264392\ttotal: 274ms\tremaining: 253ms\n",
      "15:\tlearn: 0.4089548\ttotal: 324ms\tremaining: 182ms\n",
      "18:\tlearn: 0.3888889\ttotal: 450ms\tremaining: 142ms\n",
      "21:\tlearn: 0.3562445\ttotal: 574ms\tremaining: 78.2ms\n",
      "24:\tlearn: 0.3437852\ttotal: 695ms\tremaining: 0us\n",
      "[CV] ............. depth=11, iterations=25, score=0.852, total=   2.4s\n",
      "[CV] depth=13, iterations=5 ..........................................\n",
      "Learning rate set to 0.5\n",
      "0:\tlearn: 0.5929751\ttotal: 153ms\tremaining: 611ms\n",
      "3:\tlearn: 0.4766730\ttotal: 353ms\tremaining: 88.4ms\n",
      "4:\tlearn: 0.4684122\ttotal: 359ms\tremaining: 0us\n",
      "[CV] .............. depth=13, iterations=5, score=0.824, total=   3.0s\n",
      "[CV] depth=13, iterations=5 ..........................................\n",
      "Learning rate set to 0.5\n",
      "0:\tlearn: 0.5925324\ttotal: 142ms\tremaining: 567ms\n",
      "3:\tlearn: 0.4784059\ttotal: 419ms\tremaining: 105ms\n",
      "4:\tlearn: 0.4652148\ttotal: 431ms\tremaining: 0us\n",
      "[CV] .............. depth=13, iterations=5, score=0.833, total=   5.4s\n",
      "[CV] depth=13, iterations=5 ..........................................\n",
      "Learning rate set to 0.5\n",
      "0:\tlearn: 0.5920746\ttotal: 130ms\tremaining: 520ms\n",
      "3:\tlearn: 0.4974959\ttotal: 160ms\tremaining: 40ms\n",
      "4:\tlearn: 0.4776390\ttotal: 310ms\tremaining: 0us\n",
      "[CV] .............. depth=13, iterations=5, score=0.834, total=   3.8s\n",
      "[CV] depth=13, iterations=5 ..........................................\n",
      "Learning rate set to 0.5\n",
      "0:\tlearn: 0.5817063\ttotal: 14.4ms\tremaining: 57.5ms\n",
      "3:\tlearn: 0.4944868\ttotal: 52.6ms\tremaining: 13.2ms\n",
      "4:\tlearn: 0.4752576\ttotal: 184ms\tremaining: 0us\n",
      "[CV] .............. depth=13, iterations=5, score=0.855, total=   2.2s\n",
      "[CV] depth=13, iterations=5 ..........................................\n",
      "Learning rate set to 0.5\n",
      "0:\tlearn: 0.5979794\ttotal: 133ms\tremaining: 530ms\n",
      "3:\tlearn: 0.4908040\ttotal: 283ms\tremaining: 70.6ms\n",
      "4:\tlearn: 0.4793010\ttotal: 293ms\tremaining: 0us\n",
      "[CV] .............. depth=13, iterations=5, score=0.851, total=   2.0s\n",
      "[CV] depth=13, iterations=25 .........................................\n",
      "Learning rate set to 0.5\n",
      "0:\tlearn: 0.5929751\ttotal: 125ms\tremaining: 3s\n",
      "3:\tlearn: 0.4766730\ttotal: 318ms\tremaining: 1.67s\n",
      "6:\tlearn: 0.4371585\ttotal: 584ms\tremaining: 1.5s\n",
      "9:\tlearn: 0.4149827\ttotal: 767ms\tremaining: 1.15s\n",
      "12:\tlearn: 0.4062484\ttotal: 824ms\tremaining: 761ms\n",
      "15:\tlearn: 0.3924797\ttotal: 965ms\tremaining: 543ms\n",
      "18:\tlearn: 0.3553330\ttotal: 1.36s\tremaining: 430ms\n",
      "21:\tlearn: 0.3384289\ttotal: 1.77s\tremaining: 242ms\n",
      "24:\tlearn: 0.3224751\ttotal: 2.16s\tremaining: 0us\n",
      "[CV] ............. depth=13, iterations=25, score=0.839, total=   3.9s\n",
      "[CV] depth=13, iterations=25 .........................................\n",
      "Learning rate set to 0.5\n",
      "0:\tlearn: 0.5925324\ttotal: 154ms\tremaining: 3.68s\n",
      "3:\tlearn: 0.4784059\ttotal: 405ms\tremaining: 2.13s\n",
      "6:\tlearn: 0.4363584\ttotal: 703ms\tremaining: 1.81s\n",
      "9:\tlearn: 0.4303471\ttotal: 718ms\tremaining: 1.08s\n",
      "12:\tlearn: 0.4020980\ttotal: 997ms\tremaining: 920ms\n",
      "15:\tlearn: 0.3819225\ttotal: 1.36s\tremaining: 766ms\n",
      "18:\tlearn: 0.3663720\ttotal: 1.69s\tremaining: 533ms\n",
      "21:\tlearn: 0.3479392\ttotal: 2.06s\tremaining: 281ms\n",
      "24:\tlearn: 0.3349567\ttotal: 2.52s\tremaining: 0us\n",
      "[CV] ............. depth=13, iterations=25, score=0.846, total=   4.3s\n",
      "[CV] depth=13, iterations=25 .........................................\n",
      "Learning rate set to 0.5\n",
      "0:\tlearn: 0.5920746\ttotal: 131ms\tremaining: 3.15s\n",
      "3:\tlearn: 0.4974959\ttotal: 158ms\tremaining: 831ms\n",
      "6:\tlearn: 0.4466004\ttotal: 542ms\tremaining: 1.39s\n",
      "9:\tlearn: 0.4092291\ttotal: 830ms\tremaining: 1.25s\n",
      "12:\tlearn: 0.3819605\ttotal: 1.09s\tremaining: 1.01s\n",
      "15:\tlearn: 0.3535788\ttotal: 1.48s\tremaining: 832ms\n",
      "18:\tlearn: 0.3324582\ttotal: 1.86s\tremaining: 586ms\n",
      "21:\tlearn: 0.3140944\ttotal: 2.25s\tremaining: 306ms\n",
      "24:\tlearn: 0.2974684\ttotal: 2.63s\tremaining: 0us\n",
      "[CV] ............. depth=13, iterations=25, score=0.844, total=   4.3s\n",
      "[CV] depth=13, iterations=25 .........................................\n",
      "Learning rate set to 0.5\n",
      "0:\tlearn: 0.5817063\ttotal: 14.7ms\tremaining: 353ms\n",
      "3:\tlearn: 0.4944868\ttotal: 52.8ms\tremaining: 277ms\n",
      "6:\tlearn: 0.4610191\ttotal: 194ms\tremaining: 499ms\n",
      "9:\tlearn: 0.4302702\ttotal: 472ms\tremaining: 708ms\n",
      "12:\tlearn: 0.4059881\ttotal: 731ms\tremaining: 675ms\n",
      "15:\tlearn: 0.4014787\ttotal: 747ms\tremaining: 420ms\n",
      "18:\tlearn: 0.3640859\ttotal: 1.15s\tremaining: 365ms\n",
      "21:\tlearn: 0.3409271\ttotal: 1.56s\tremaining: 213ms\n",
      "24:\tlearn: 0.3245271\ttotal: 1.97s\tremaining: 0us\n",
      "[CV] ............. depth=13, iterations=25, score=0.871, total=   3.7s\n",
      "[CV] depth=13, iterations=25 .........................................\n",
      "Learning rate set to 0.5\n",
      "0:\tlearn: 0.5979794\ttotal: 136ms\tremaining: 3.25s\n",
      "3:\tlearn: 0.4908040\ttotal: 293ms\tremaining: 1.53s\n",
      "6:\tlearn: 0.4455705\ttotal: 563ms\tremaining: 1.45s\n",
      "9:\tlearn: 0.4123845\ttotal: 842ms\tremaining: 1.26s\n",
      "12:\tlearn: 0.3948007\ttotal: 1.01s\tremaining: 932ms\n",
      "15:\tlearn: 0.3774862\ttotal: 1.29s\tremaining: 727ms\n",
      "18:\tlearn: 0.3638124\ttotal: 1.55s\tremaining: 490ms\n",
      "21:\tlearn: 0.3432672\ttotal: 1.96s\tremaining: 267ms\n",
      "24:\tlearn: 0.3291504\ttotal: 2.35s\tremaining: 0us\n",
      "[CV] ............. depth=13, iterations=25, score=0.847, total=   4.0s\n",
      "[CV] depth=15, iterations=5 ..........................................\n",
      "Learning rate set to 0.5\n",
      "0:\tlearn: 0.5929751\ttotal: 299ms\tremaining: 1.2s\n",
      "3:\tlearn: 0.4853632\ttotal: 1.04s\tremaining: 259ms\n",
      "4:\tlearn: 0.4662043\ttotal: 1.72s\tremaining: 0us\n",
      "[CV] .............. depth=15, iterations=5, score=0.825, total=   3.5s\n",
      "[CV] depth=15, iterations=5 ..........................................\n",
      "Learning rate set to 0.5\n",
      "0:\tlearn: 0.5925324\ttotal: 307ms\tremaining: 1.23s\n",
      "3:\tlearn: 0.4827084\ttotal: 1.64s\tremaining: 410ms\n",
      "4:\tlearn: 0.4633306\ttotal: 1.67s\tremaining: 0us\n",
      "[CV] .............. depth=15, iterations=5, score=0.824, total=   3.3s\n",
      "[CV] depth=15, iterations=5 ..........................................\n",
      "Learning rate set to 0.5\n",
      "0:\tlearn: 0.5920746\ttotal: 295ms\tremaining: 1.18s\n",
      "3:\tlearn: 0.4969351\ttotal: 1.01s\tremaining: 253ms\n",
      "4:\tlearn: 0.4771453\ttotal: 1.69s\tremaining: 0us\n",
      "[CV] .............. depth=15, iterations=5, score=0.828, total=   3.3s\n",
      "[CV] depth=15, iterations=5 ..........................................\n",
      "Learning rate set to 0.5\n",
      "0:\tlearn: 0.5817063\ttotal: 14.2ms\tremaining: 56.8ms\n",
      "3:\tlearn: 0.4944868\ttotal: 52.8ms\tremaining: 13.2ms\n",
      "4:\tlearn: 0.4734719\ttotal: 730ms\tremaining: 0us\n",
      "[CV] .............. depth=15, iterations=5, score=0.855, total=   2.7s\n",
      "[CV] depth=15, iterations=5 ..........................................\n",
      "Learning rate set to 0.5\n",
      "0:\tlearn: 0.6002083\ttotal: 724ms\tremaining: 2.9s\n",
      "3:\tlearn: 0.4922076\ttotal: 1.43s\tremaining: 358ms\n",
      "4:\tlearn: 0.4784399\ttotal: 1.44s\tremaining: 0us\n",
      "[CV] .............. depth=15, iterations=5, score=0.843, total=   3.6s\n",
      "[CV] depth=15, iterations=25 .........................................\n",
      "Learning rate set to 0.5\n",
      "0:\tlearn: 0.5929751\ttotal: 292ms\tremaining: 7.01s\n",
      "3:\tlearn: 0.4853632\ttotal: 1.02s\tremaining: 5.34s\n",
      "6:\tlearn: 0.4492416\ttotal: 1.72s\tremaining: 4.42s\n",
      "9:\tlearn: 0.4077159\ttotal: 3.25s\tremaining: 4.87s\n",
      "12:\tlearn: 0.3928222\ttotal: 3.33s\tremaining: 3.07s\n",
      "15:\tlearn: 0.3655917\ttotal: 4.75s\tremaining: 2.67s\n",
      "18:\tlearn: 0.3370659\ttotal: 6.74s\tremaining: 2.13s\n",
      "21:\tlearn: 0.3124016\ttotal: 8.81s\tremaining: 1.2s\n",
      "24:\tlearn: 0.2914051\ttotal: 10.8s\tremaining: 0us\n",
      "[CV] ............. depth=15, iterations=25, score=0.837, total=  12.4s\n",
      "[CV] depth=15, iterations=25 .........................................\n",
      "Learning rate set to 0.5\n",
      "0:\tlearn: 0.5925324\ttotal: 302ms\tremaining: 7.25s\n",
      "3:\tlearn: 0.4827084\ttotal: 1.76s\tremaining: 9.24s\n",
      "6:\tlearn: 0.4247141\ttotal: 3.14s\tremaining: 8.08s\n",
      "9:\tlearn: 0.3879438\ttotal: 4.5s\tremaining: 6.75s\n",
      "12:\tlearn: 0.3661315\ttotal: 5.21s\tremaining: 4.81s\n",
      "15:\tlearn: 0.3437391\ttotal: 6.58s\tremaining: 3.7s\n",
      "18:\tlearn: 0.3115246\ttotal: 8.58s\tremaining: 2.71s\n",
      "21:\tlearn: 0.2861107\ttotal: 10.6s\tremaining: 1.44s\n",
      "24:\tlearn: 0.2689846\ttotal: 12.8s\tremaining: 0us\n",
      "[CV] ............. depth=15, iterations=25, score=0.845, total=  14.6s\n",
      "[CV] depth=15, iterations=25 .........................................\n",
      "Learning rate set to 0.5\n",
      "0:\tlearn: 0.5920746\ttotal: 297ms\tremaining: 7.14s\n",
      "3:\tlearn: 0.4969351\ttotal: 1.01s\tremaining: 5.32s\n",
      "6:\tlearn: 0.4533512\ttotal: 1.76s\tremaining: 4.53s\n",
      "9:\tlearn: 0.4330146\ttotal: 1.84s\tremaining: 2.76s\n",
      "12:\tlearn: 0.4162975\ttotal: 1.99s\tremaining: 1.84s\n",
      "15:\tlearn: 0.4133886\ttotal: 2.01s\tremaining: 1.13s\n",
      "18:\tlearn: 0.3694762\ttotal: 4.05s\tremaining: 1.28s\n",
      "21:\tlearn: 0.3457284\ttotal: 6.08s\tremaining: 829ms\n",
      "24:\tlearn: 0.3264825\ttotal: 8.02s\tremaining: 0us\n",
      "[CV] ............. depth=15, iterations=25, score=0.849, total=   9.6s\n",
      "[CV] depth=15, iterations=25 .........................................\n",
      "Learning rate set to 0.5\n",
      "0:\tlearn: 0.5817063\ttotal: 15.4ms\tremaining: 370ms\n",
      "3:\tlearn: 0.4944868\ttotal: 54.2ms\tremaining: 284ms\n",
      "6:\tlearn: 0.4620884\ttotal: 731ms\tremaining: 1.88s\n",
      "9:\tlearn: 0.4099530\ttotal: 2.71s\tremaining: 4.06s\n",
      "12:\tlearn: 0.3858372\ttotal: 4.13s\tremaining: 3.81s\n",
      "15:\tlearn: 0.3712499\ttotal: 4.87s\tremaining: 2.74s\n",
      "18:\tlearn: 0.3584333\ttotal: 5.56s\tremaining: 1.76s\n",
      "21:\tlearn: 0.3326234\ttotal: 7.58s\tremaining: 1.03s\n",
      "24:\tlearn: 0.3168327\ttotal: 9.74s\tremaining: 0us\n",
      "[CV] ............. depth=15, iterations=25, score=0.869, total=  11.5s\n",
      "[CV] depth=15, iterations=25 .........................................\n",
      "Learning rate set to 0.5\n",
      "0:\tlearn: 0.6002083\ttotal: 662ms\tremaining: 15.9s\n",
      "3:\tlearn: 0.4922076\ttotal: 1.35s\tremaining: 7.07s\n",
      "6:\tlearn: 0.4569275\ttotal: 1.49s\tremaining: 3.83s\n",
      "9:\tlearn: 0.4439891\ttotal: 1.51s\tremaining: 2.26s\n",
      "12:\tlearn: 0.4322886\ttotal: 1.57s\tremaining: 1.45s\n",
      "15:\tlearn: 0.4257598\ttotal: 1.59s\tremaining: 898ms\n",
      "18:\tlearn: 0.3934529\ttotal: 2.95s\tremaining: 931ms\n",
      "21:\tlearn: 0.3631500\ttotal: 4.98s\tremaining: 680ms\n",
      "24:\tlearn: 0.3429832\ttotal: 6.99s\tremaining: 0us\n",
      "[CV] ............. depth=15, iterations=25, score=0.857, total=   8.7s\n"
     ]
    },
    {
     "name": "stderr",
     "output_type": "stream",
     "text": [
      "[Parallel(n_jobs=1)]: Done  80 out of  80 | elapsed:  4.0min finished\n"
     ]
    },
    {
     "name": "stdout",
     "output_type": "stream",
     "text": [
      "Learning rate set to 0.5\n",
      "0:\tlearn: 0.5909437\ttotal: 10.2ms\tremaining: 245ms\n",
      "3:\tlearn: 0.4974094\ttotal: 37.5ms\tremaining: 197ms\n",
      "6:\tlearn: 0.4722087\ttotal: 61.9ms\tremaining: 159ms\n",
      "9:\tlearn: 0.4637054\ttotal: 82.7ms\tremaining: 124ms\n",
      "12:\tlearn: 0.4543489\ttotal: 109ms\tremaining: 100ms\n",
      "15:\tlearn: 0.4492551\ttotal: 134ms\tremaining: 75.2ms\n",
      "18:\tlearn: 0.4429907\ttotal: 158ms\tremaining: 49.9ms\n",
      "21:\tlearn: 0.4330797\ttotal: 185ms\tremaining: 25.3ms\n",
      "24:\tlearn: 0.4262915\ttotal: 210ms\tremaining: 0us\n",
      "ROC-AUC CatBoost with GridSearch: 0.7939600329316667\n",
      "Accuracy CatBoost with GridSearch: 0.7901023890784983\n",
      "CPU times: user 1min 9s, sys: 15.1 s, total: 1min 24s\n",
      "Wall time: 3min 59s\n"
     ]
    }
   ],
   "source": [
    "%%time\n",
    "model_cb_gs = CatBoostClassifier(random_seed=12345,\n",
    "                                 loss_function='Logloss',\n",
    "                                 auto_class_weights='Balanced',\n",
    "                                )\n",
    "cb_parameters = {\n",
    "    'iterations': range(5, 40, 20),\n",
    "    'depth': range(1, 16, 2)\n",
    "}\n",
    "grid_cb_gs = GridSearchCV(estimator=model_cb_gs,\n",
    "                          param_grid=cb_parameters,\n",
    "                          cv=5,\n",
    "                          scoring='roc_auc',\n",
    "                          verbose=10\n",
    "                         )\n",
    "grid_cb_gs.fit(features_train, target_train, cat_features=cat_features, verbose=3)\n",
    "pred_catboost_gs = grid_cb_gs.predict(features_test)\n",
    "print('ROC-AUC CatBoost with GridSearch:', roc_auc_score(target_test.values, pred_catboost_gs))\n",
    "print('Accuracy CatBoost with GridSearch:', accuracy_score(target_test.values, pred_catboost_gs))\n",
    "pred_cb_gs = grid_cb_gs.predict(features_test)"
   ]
  },
  {
   "cell_type": "markdown",
   "id": "b6553ab7",
   "metadata": {},
   "source": [
    "<div style=\"background: #B0E0E6; padding: 5px; border: 1px solid green; border-radius: 5px;\">\n",
    "<font color='black'><br> Новый код 2 ячейки:"
   ]
  },
  {
   "cell_type": "code",
   "execution_count": 110,
   "id": "27164074",
   "metadata": {},
   "outputs": [],
   "source": [
    "probabilities_catboost_gs = grid_cb_gs.predict_proba(features_test)\n",
    "precision, recall, thresholds = precision_recall_curve(target_test, probabilities_catboost_gs[:, 1])"
   ]
  },
  {
   "cell_type": "code",
   "execution_count": 111,
   "id": "5786ce87",
   "metadata": {},
   "outputs": [
    {
     "name": "stdout",
     "output_type": "stream",
     "text": [
      "ROC-AUC (predict_proba) CatBoost с GridSearch: 0.8806534773677952\n"
     ]
    }
   ],
   "source": [
    "print('ROC-AUC (predict_proba) CatBoost с GridSearch:', roc_auc_score(\n",
    "    target_test.values,\n",
    "    grid_cb_gs.predict_proba(features_test)[:,1]))"
   ]
  },
  {
   "cell_type": "markdown",
   "id": "932535bc",
   "metadata": {},
   "source": [
    "### CatBoost with RandomizedSearchCV"
   ]
  },
  {
   "cell_type": "code",
   "execution_count": 112,
   "id": "8abbc1d1",
   "metadata": {
    "tags": []
   },
   "outputs": [
    {
     "name": "stdout",
     "output_type": "stream",
     "text": [
      "Fitting 3 folds for each of 10 candidates, totalling 30 fits\n",
      "[Parallel(n_jobs=1)]: Using backend SequentialBackend with 1 concurrent workers.\n",
      "[CV] rsm=0.4, learning_rate=0.03, iterations=161, depth=15 ...........\n",
      "0:\tlearn: 0.6853630\ttotal: 49.1ms\tremaining: 7.85s\n",
      "100:\tlearn: 0.4478831\ttotal: 7.58s\tremaining: 4.5s\n",
      "160:\tlearn: 0.4034647\ttotal: 16.2s\tremaining: 0us\n",
      "[CV]  rsm=0.4, learning_rate=0.03, iterations=161, depth=15, score=0.835, total=  18.3s\n",
      "[Parallel(n_jobs=1)]: Done   1 out of   1 | elapsed:   18.3s remaining:    0.0s\n",
      "[CV] rsm=0.4, learning_rate=0.03, iterations=161, depth=15 ...........\n",
      "0:\tlearn: 0.6866454\ttotal: 308ms\tremaining: 49.4s\n",
      "100:\tlearn: 0.4490109\ttotal: 11.1s\tremaining: 6.62s\n",
      "160:\tlearn: 0.4010873\ttotal: 21.4s\tremaining: 0us\n",
      "[CV]  rsm=0.4, learning_rate=0.03, iterations=161, depth=15, score=0.840, total=  23.3s\n",
      "[Parallel(n_jobs=1)]: Done   2 out of   2 | elapsed:   41.6s remaining:    0.0s\n",
      "[CV] rsm=0.4, learning_rate=0.03, iterations=161, depth=15 ...........\n",
      "0:\tlearn: 0.6865103\ttotal: 46.4ms\tremaining: 7.42s\n",
      "100:\tlearn: 0.4626455\ttotal: 7.42s\tremaining: 4.41s\n",
      "160:\tlearn: 0.4224640\ttotal: 14s\tremaining: 0us\n",
      "[CV]  rsm=0.4, learning_rate=0.03, iterations=161, depth=15, score=0.865, total=  15.9s\n",
      "[Parallel(n_jobs=1)]: Done   3 out of   3 | elapsed:   57.5s remaining:    0.0s\n",
      "[CV] rsm=0.6, learning_rate=0.06999999999999999, iterations=81, depth=2 \n",
      "0:\tlearn: 0.6769302\ttotal: 3.08ms\tremaining: 246ms\n",
      "80:\tlearn: 0.4696895\ttotal: 162ms\tremaining: 0us\n",
      "[CV]  rsm=0.6, learning_rate=0.06999999999999999, iterations=81, depth=2, score=0.835, total=   1.9s\n",
      "[Parallel(n_jobs=1)]: Done   4 out of   4 | elapsed:   59.3s remaining:    0.0s\n",
      "[CV] rsm=0.6, learning_rate=0.06999999999999999, iterations=81, depth=2 \n",
      "0:\tlearn: 0.6775998\ttotal: 3.35ms\tremaining: 268ms\n",
      "80:\tlearn: 0.4777074\ttotal: 169ms\tremaining: 0us\n",
      "[CV]  rsm=0.6, learning_rate=0.06999999999999999, iterations=81, depth=2, score=0.848, total=   1.8s\n",
      "[Parallel(n_jobs=1)]: Done   5 out of   5 | elapsed:  1.0min remaining:    0.0s\n",
      "[CV] rsm=0.6, learning_rate=0.06999999999999999, iterations=81, depth=2 \n",
      "0:\tlearn: 0.6783079\ttotal: 3.15ms\tremaining: 252ms\n",
      "80:\tlearn: 0.4878150\ttotal: 166ms\tremaining: 0us\n",
      "[CV]  rsm=0.6, learning_rate=0.06999999999999999, iterations=81, depth=2, score=0.868, total=   1.9s\n",
      "[Parallel(n_jobs=1)]: Done   6 out of   6 | elapsed:  1.1min remaining:    0.0s\n",
      "[CV] rsm=0.30000000000000004, learning_rate=0.03, iterations=61, depth=13 \n",
      "0:\tlearn: 0.6853253\ttotal: 7.54ms\tremaining: 453ms\n",
      "60:\tlearn: 0.4824626\ttotal: 1.18s\tremaining: 0us\n",
      "[CV]  rsm=0.30000000000000004, learning_rate=0.03, iterations=61, depth=13, score=0.825, total=   2.9s\n",
      "[Parallel(n_jobs=1)]: Done   7 out of   7 | elapsed:  1.1min remaining:    0.0s\n",
      "[CV] rsm=0.30000000000000004, learning_rate=0.03, iterations=61, depth=13 \n",
      "0:\tlearn: 0.6855854\ttotal: 8.58ms\tremaining: 515ms\n",
      "60:\tlearn: 0.4908236\ttotal: 994ms\tremaining: 0us\n",
      "[CV]  rsm=0.30000000000000004, learning_rate=0.03, iterations=61, depth=13, score=0.836, total=   2.8s\n",
      "[Parallel(n_jobs=1)]: Done   8 out of   8 | elapsed:  1.1min remaining:    0.0s\n",
      "[CV] rsm=0.30000000000000004, learning_rate=0.03, iterations=61, depth=13 \n",
      "0:\tlearn: 0.6862399\ttotal: 6.63ms\tremaining: 398ms\n",
      "60:\tlearn: 0.5017087\ttotal: 973ms\tremaining: 0us\n",
      "[CV]  rsm=0.30000000000000004, learning_rate=0.03, iterations=61, depth=13, score=0.859, total=   3.2s\n",
      "[Parallel(n_jobs=1)]: Done   9 out of   9 | elapsed:  1.2min remaining:    0.0s\n",
      "[CV] rsm=0.1, learning_rate=0.060000000000000005, iterations=141, depth=9 \n",
      "0:\tlearn: 0.6931472\ttotal: 904us\tremaining: 127ms\n",
      "100:\tlearn: 0.4662794\ttotal: 183ms\tremaining: 72.4ms\n",
      "140:\tlearn: 0.4519394\ttotal: 243ms\tremaining: 0us\n",
      "[CV]  rsm=0.1, learning_rate=0.060000000000000005, iterations=141, depth=9, score=0.838, total=   2.1s\n",
      "[Parallel(n_jobs=1)]: Done  10 out of  10 | elapsed:  1.2min remaining:    0.0s\n",
      "[CV] rsm=0.1, learning_rate=0.060000000000000005, iterations=141, depth=9 \n",
      "0:\tlearn: 0.6931472\ttotal: 891us\tremaining: 125ms\n",
      "100:\tlearn: 0.4754463\ttotal: 158ms\tremaining: 62.4ms\n",
      "140:\tlearn: 0.4563868\ttotal: 227ms\tremaining: 0us\n",
      "[CV]  rsm=0.1, learning_rate=0.060000000000000005, iterations=141, depth=9, score=0.847, total=   2.0s\n",
      "[Parallel(n_jobs=1)]: Done  11 out of  11 | elapsed:  1.3min remaining:    0.0s\n",
      "[CV] rsm=0.1, learning_rate=0.060000000000000005, iterations=141, depth=9 \n",
      "0:\tlearn: 0.6931472\ttotal: 855us\tremaining: 120ms\n",
      "100:\tlearn: 0.4829857\ttotal: 151ms\tremaining: 59.8ms\n",
      "140:\tlearn: 0.4721656\ttotal: 214ms\tremaining: 0us\n",
      "[CV]  rsm=0.1, learning_rate=0.060000000000000005, iterations=141, depth=9, score=0.869, total=   2.0s\n",
      "[Parallel(n_jobs=1)]: Done  12 out of  12 | elapsed:  1.3min remaining:    0.0s\n",
      "[CV] rsm=0.1, learning_rate=0.03, iterations=41, depth=13 ............\n",
      "0:\tlearn: 0.6931472\ttotal: 806us\tremaining: 32.3ms\n",
      "40:\tlearn: 0.5557556\ttotal: 67.4ms\tremaining: 0us\n",
      "[CV]  rsm=0.1, learning_rate=0.03, iterations=41, depth=13, score=0.819, total=   1.7s\n",
      "[Parallel(n_jobs=1)]: Done  13 out of  13 | elapsed:  1.3min remaining:    0.0s\n",
      "[CV] rsm=0.1, learning_rate=0.03, iterations=41, depth=13 ............\n",
      "0:\tlearn: 0.6931472\ttotal: 889us\tremaining: 35.6ms\n",
      "40:\tlearn: 0.5623051\ttotal: 71.9ms\tremaining: 0us\n",
      "[CV]  rsm=0.1, learning_rate=0.03, iterations=41, depth=13, score=0.831, total=   2.6s\n",
      "[Parallel(n_jobs=1)]: Done  14 out of  14 | elapsed:  1.4min remaining:    0.0s\n",
      "[CV] rsm=0.1, learning_rate=0.03, iterations=41, depth=13 ............\n",
      "0:\tlearn: 0.6931472\ttotal: 861us\tremaining: 34.5ms\n",
      "40:\tlearn: 0.5663102\ttotal: 94.6ms\tremaining: 0us\n",
      "[CV]  rsm=0.1, learning_rate=0.03, iterations=41, depth=13, score=0.856, total=   1.9s\n",
      "[Parallel(n_jobs=1)]: Done  15 out of  15 | elapsed:  1.4min remaining:    0.0s\n",
      "[CV] rsm=0.2, learning_rate=0.04, iterations=41, depth=9 .............\n",
      "0:\tlearn: 0.6931472\ttotal: 762us\tremaining: 30.5ms\n",
      "40:\tlearn: 0.5095482\ttotal: 141ms\tremaining: 0us\n",
      "[CV]  rsm=0.2, learning_rate=0.04, iterations=41, depth=9, score=0.824, total=   2.2s\n",
      "[Parallel(n_jobs=1)]: Done  16 out of  16 | elapsed:  1.4min remaining:    0.0s\n",
      "[CV] rsm=0.2, learning_rate=0.04, iterations=41, depth=9 .............\n",
      "0:\tlearn: 0.6931472\ttotal: 833us\tremaining: 33.3ms\n",
      "40:\tlearn: 0.5214179\ttotal: 116ms\tremaining: 0us\n",
      "[CV]  rsm=0.2, learning_rate=0.04, iterations=41, depth=9, score=0.832, total=   1.9s\n",
      "[Parallel(n_jobs=1)]: Done  17 out of  17 | elapsed:  1.5min remaining:    0.0s\n",
      "[CV] rsm=0.2, learning_rate=0.04, iterations=41, depth=9 .............\n",
      "0:\tlearn: 0.6931472\ttotal: 832us\tremaining: 33.3ms\n",
      "40:\tlearn: 0.5252940\ttotal: 119ms\tremaining: 0us\n",
      "[CV]  rsm=0.2, learning_rate=0.04, iterations=41, depth=9, score=0.862, total=   2.3s\n",
      "[Parallel(n_jobs=1)]: Done  18 out of  18 | elapsed:  1.5min remaining:    0.0s\n",
      "[CV] rsm=0.2, learning_rate=0.060000000000000005, iterations=81, depth=6 \n",
      "0:\tlearn: 0.6931472\ttotal: 1ms\tremaining: 80.3ms\n",
      "80:\tlearn: 0.4588283\ttotal: 188ms\tremaining: 0us\n",
      "[CV]  rsm=0.2, learning_rate=0.060000000000000005, iterations=81, depth=6, score=0.837, total=   1.9s\n",
      "[Parallel(n_jobs=1)]: Done  19 out of  19 | elapsed:  1.5min remaining:    0.0s\n",
      "[CV] rsm=0.2, learning_rate=0.060000000000000005, iterations=81, depth=6 \n",
      "0:\tlearn: 0.6931472\ttotal: 921us\tremaining: 73.7ms\n",
      "80:\tlearn: 0.4675576\ttotal: 187ms\tremaining: 0us\n",
      "[CV]  rsm=0.2, learning_rate=0.060000000000000005, iterations=81, depth=6, score=0.847, total=   1.9s\n",
      "[Parallel(n_jobs=1)]: Done  20 out of  20 | elapsed:  1.6min remaining:    0.0s\n",
      "[CV] rsm=0.2, learning_rate=0.060000000000000005, iterations=81, depth=6 \n",
      "0:\tlearn: 0.6931472\ttotal: 874us\tremaining: 70ms\n",
      "80:\tlearn: 0.4789511\ttotal: 176ms\tremaining: 0us\n",
      "[CV]  rsm=0.2, learning_rate=0.060000000000000005, iterations=81, depth=6, score=0.866, total=   1.8s\n",
      "[Parallel(n_jobs=1)]: Done  21 out of  21 | elapsed:  1.6min remaining:    0.0s\n",
      "[CV] rsm=0.9, learning_rate=0.060000000000000005, iterations=181, depth=3 \n",
      "0:\tlearn: 0.6790581\ttotal: 6.31ms\tremaining: 1.14s\n",
      "100:\tlearn: 0.4600534\ttotal: 359ms\tremaining: 284ms\n",
      "180:\tlearn: 0.4433744\ttotal: 648ms\tremaining: 0us\n",
      "[CV]  rsm=0.9, learning_rate=0.060000000000000005, iterations=181, depth=3, score=0.849, total=   2.6s\n",
      "[Parallel(n_jobs=1)]: Done  22 out of  22 | elapsed:  1.6min remaining:    0.0s\n",
      "[CV] rsm=0.9, learning_rate=0.060000000000000005, iterations=181, depth=3 \n",
      "0:\tlearn: 0.6802263\ttotal: 4.78ms\tremaining: 861ms\n",
      "100:\tlearn: 0.4672778\ttotal: 351ms\tremaining: 278ms\n",
      "180:\tlearn: 0.4461155\ttotal: 632ms\tremaining: 0us\n",
      "[CV]  rsm=0.9, learning_rate=0.060000000000000005, iterations=181, depth=3, score=0.856, total=   2.4s\n",
      "[Parallel(n_jobs=1)]: Done  23 out of  23 | elapsed:  1.7min remaining:    0.0s\n",
      "[CV] rsm=0.9, learning_rate=0.060000000000000005, iterations=181, depth=3 \n",
      "0:\tlearn: 0.6807593\ttotal: 4.66ms\tremaining: 839ms\n",
      "100:\tlearn: 0.4781856\ttotal: 357ms\tremaining: 283ms\n",
      "180:\tlearn: 0.4623454\ttotal: 629ms\tremaining: 0us\n",
      "[CV]  rsm=0.9, learning_rate=0.060000000000000005, iterations=181, depth=3, score=0.878, total=   2.4s\n",
      "[Parallel(n_jobs=1)]: Done  24 out of  24 | elapsed:  1.7min remaining:    0.0s\n",
      "[CV] rsm=0.6, learning_rate=0.05, iterations=161, depth=4 ............\n",
      "0:\tlearn: 0.6801853\ttotal: 4.7ms\tremaining: 752ms\n",
      "100:\tlearn: 0.4607027\ttotal: 353ms\tremaining: 210ms\n",
      "160:\tlearn: 0.4465938\ttotal: 555ms\tremaining: 0us\n",
      "[CV]  rsm=0.6, learning_rate=0.05, iterations=161, depth=4, score=0.844, total=   2.2s\n",
      "[Parallel(n_jobs=1)]: Done  25 out of  25 | elapsed:  1.8min remaining:    0.0s\n",
      "[CV] rsm=0.6, learning_rate=0.05, iterations=161, depth=4 ............\n",
      "0:\tlearn: 0.6809582\ttotal: 4.83ms\tremaining: 774ms\n",
      "100:\tlearn: 0.4652848\ttotal: 349ms\tremaining: 207ms\n",
      "160:\tlearn: 0.4516433\ttotal: 551ms\tremaining: 0us\n",
      "[CV]  rsm=0.6, learning_rate=0.05, iterations=161, depth=4, score=0.854, total=   2.2s\n",
      "[Parallel(n_jobs=1)]: Done  26 out of  26 | elapsed:  1.8min remaining:    0.0s\n",
      "[CV] rsm=0.6, learning_rate=0.05, iterations=161, depth=4 ............\n",
      "0:\tlearn: 0.6811378\ttotal: 4.74ms\tremaining: 759ms\n",
      "100:\tlearn: 0.4788848\ttotal: 329ms\tremaining: 196ms\n",
      "160:\tlearn: 0.4671357\ttotal: 520ms\tremaining: 0us\n",
      "[CV]  rsm=0.6, learning_rate=0.05, iterations=161, depth=4, score=0.872, total=   2.2s\n",
      "[Parallel(n_jobs=1)]: Done  27 out of  27 | elapsed:  1.8min remaining:    0.0s\n",
      "[CV] rsm=0.9, learning_rate=0.01, iterations=81, depth=5 .............\n",
      "0:\tlearn: 0.6906965\ttotal: 7.15ms\tremaining: 572ms\n",
      "80:\tlearn: 0.5595090\ttotal: 443ms\tremaining: 0us\n",
      "[CV]  rsm=0.9, learning_rate=0.01, iterations=81, depth=5, score=0.816, total=   2.4s\n",
      "[Parallel(n_jobs=1)]: Done  28 out of  28 | elapsed:  1.9min remaining:    0.0s\n",
      "[CV] rsm=0.9, learning_rate=0.01, iterations=81, depth=5 .............\n",
      "0:\tlearn: 0.6908603\ttotal: 8.83ms\tremaining: 707ms\n",
      "80:\tlearn: 0.5658473\ttotal: 450ms\tremaining: 0us\n",
      "[CV]  rsm=0.9, learning_rate=0.01, iterations=81, depth=5, score=0.832, total=   2.2s\n",
      "[Parallel(n_jobs=1)]: Done  29 out of  29 | elapsed:  1.9min remaining:    0.0s\n",
      "[CV] rsm=0.9, learning_rate=0.01, iterations=81, depth=5 .............\n",
      "0:\tlearn: 0.6909065\ttotal: 7.52ms\tremaining: 601ms\n",
      "80:\tlearn: 0.5706007\ttotal: 460ms\tremaining: 0us\n",
      "[CV]  rsm=0.9, learning_rate=0.01, iterations=81, depth=5, score=0.856, total=   2.2s\n",
      "[Parallel(n_jobs=1)]: Done  30 out of  30 | elapsed:  1.9min remaining:    0.0s\n",
      "[Parallel(n_jobs=1)]: Done  30 out of  30 | elapsed:  1.9min finished\n",
      "0:\tlearn: 0.6782879\ttotal: 6.84ms\tremaining: 1.23s\n",
      "100:\tlearn: 0.4655295\ttotal: 486ms\tremaining: 385ms\n",
      "180:\tlearn: 0.4491698\ttotal: 886ms\tremaining: 0us\n",
      "ROC-AUC CatBoost with RandomizedSearchCV: 0.7903575081705461\n",
      "Accuracy CatBoost with RandomizedSearchCV: 0.7787258248009101\n",
      "{'rsm': 0.9, 'learning_rate': 0.060000000000000005, 'iterations': 181, 'depth': 3}\n",
      "CPU times: user 52.4 s, sys: 12.2 s, total: 1min 4s\n",
      "Wall time: 1min 59s\n"
     ]
    }
   ],
   "source": [
    "%%time\n",
    "model_cb_rs = CatBoostClassifier(random_seed=12345,\n",
    "                                 loss_function='Logloss',\n",
    "                                 #learning_rate=0.7\n",
    "                                 auto_class_weights='Balanced',\n",
    "                                )\n",
    "cb_parameters = {\n",
    "    'iterations': range(1, 201, 20),\n",
    "    'depth': range(1, 16, 1),\n",
    "    #'auto_class_weights': ['Balanced', None],\n",
    "    #'penalty': ['l2', 'l1']\n",
    "    'rsm': np.arange(0.1, 1, 0.1),\n",
    "    'learning_rate': np.arange(0.01, 0.08, 0.01)\n",
    "    }\n",
    "grid_cb_rs = RandomizedSearchCV(estimator=model_cb_gs,\n",
    "                          param_distributions=cb_parameters,\n",
    "                          cv=3,\n",
    "                          scoring='roc_auc',\n",
    "                          verbose=50\n",
    "                         )\n",
    "grid_cb_rs.fit(features_train, target_train, cat_features=cat_features, verbose=100)\n",
    "pred_catboost_gs = grid_cb_rs.predict(features_test)\n",
    "print('ROC-AUC CatBoost with RandomizedSearchCV:', roc_auc_score(target_test.values, pred_catboost_gs))\n",
    "print('Accuracy CatBoost with RandomizedSearchCV:', accuracy_score(target_test.values, pred_catboost_gs))\n",
    "print(grid_cb_rs.best_params_)"
   ]
  },
  {
   "cell_type": "markdown",
   "id": "4d24b483",
   "metadata": {},
   "source": [
    "<div style=\"background: #B0E0E6; padding: 5px; border: 1px solid green; border-radius: 5px;\">\n",
    "<font color='black'><br> Новый код 2 ячейки:"
   ]
  },
  {
   "cell_type": "code",
   "execution_count": 113,
   "id": "cedaa9df",
   "metadata": {},
   "outputs": [],
   "source": [
    "probabilities_catboost_rs = grid_cb_rs.predict_proba(features_test)\n",
    "precision, recall, thresholds = precision_recall_curve(target_test, probabilities_catboost_rs[:, 1])"
   ]
  },
  {
   "cell_type": "code",
   "execution_count": 114,
   "id": "c834019c",
   "metadata": {},
   "outputs": [
    {
     "name": "stdout",
     "output_type": "stream",
     "text": [
      "ROC-AUC (predict_proba) Catboost with RandomizedSearchCV: 0.8765095759632097\n"
     ]
    }
   ],
   "source": [
    "print('ROC-AUC (predict_proba) Catboost with RandomizedSearchCV:', roc_auc_score(\n",
    "    target_test.values,\n",
    "    grid_cb_rs.predict_proba(features_test)[:,1]))"
   ]
  },
  {
   "cell_type": "markdown",
   "id": "5141ad9b",
   "metadata": {},
   "source": [
    "# Выводы"
   ]
  },
  {
   "cell_type": "markdown",
   "id": "4e2f57b9",
   "metadata": {},
   "source": [
    "Соберу все метрики:"
   ]
  },
  {
   "cell_type": "code",
   "execution_count": 115,
   "id": "3f39756d",
   "metadata": {},
   "outputs": [
    {
     "name": "stdout",
     "output_type": "stream",
     "text": [
      "ROC-AUC RandomForestClasifier with GridSearchCV: 0.7754808771798517\n",
      "F1 score RandomForestClasifier with GridSearchCV: 0.6593625498007968\n",
      "ROC-AUC (predict_proba) RandomForestClasifier: 0.8680928739532138\n",
      "\n",
      "ROC-AUC CatBoost: 0.7780630192350872\n",
      "Accuracy CatBoost: 0.8447098976109215\n",
      "ROC-AUC (predict_proba) RandomForestClasifier: 0.8729636005289027\n",
      "\n",
      "ROC-AUC CatBoost with GridSearch: 0.7903575081705461\n",
      "Accuracy CatBoost with GridSearch: 0.7787258248009101\n",
      "ROC-AUC (predict_proba) CatBoost с GridSearch: 0.8806534773677952\n",
      "\n",
      "ROC-AUC CatBoost with GridSearch: 0.7903575081705461\n",
      "Accuracy CatBoost with GridSearch: 0.7787258248009101\n",
      "ROC-AUC (predict_proba) RandomForestClasifier: 0.8765095759632097\n"
     ]
    }
   ],
   "source": [
    "print('ROC-AUC RandomForestClasifier with GridSearchCV:', roc_auc_score(target_test.values, pred_forest_gs))\n",
    "print('F1 score RandomForestClasifier with GridSearchCV:', f1_score(target_test.values, pred_forest_gs))\n",
    "print('ROC-AUC (predict_proba) RandomForestClasifier:', roc_auc_score(target_test.values, grid_forest.predict_proba(features_ohe_test)[:,1]))\n",
    "print()\n",
    "print('ROC-AUC CatBoost:', roc_auc_score(target_test.values, pred_catboost))\n",
    "print('Accuracy CatBoost:', accuracy_score(target_test.values, pred_catboost))\n",
    "print('ROC-AUC (predict_proba) RandomForestClasifier:', roc_auc_score(\n",
    "    target_test.values,\n",
    "    model_catboost.predict_proba(features_test)[:,1]))\n",
    "print()\n",
    "print('ROC-AUC CatBoost with GridSearch:', roc_auc_score(target_test.values, pred_catboost_gs))\n",
    "print('Accuracy CatBoost with GridSearch:', accuracy_score(target_test.values, pred_catboost_gs))\n",
    "print('ROC-AUC (predict_proba) CatBoost с GridSearch:', roc_auc_score(\n",
    "    target_test.values,\n",
    "    grid_cb_gs.predict_proba(features_test)[:,1]))\n",
    "print()\n",
    "print('ROC-AUC CatBoost with GridSearch:', roc_auc_score(target_test.values, pred_catboost_gs))\n",
    "print('Accuracy CatBoost with GridSearch:', accuracy_score(target_test.values, pred_catboost_gs))\n",
    "print('ROC-AUC (predict_proba) RandomForestClasifier:', roc_auc_score(\n",
    "    target_test.values,\n",
    "    grid_cb_rs.predict_proba(features_test)[:,1]))"
   ]
  },
  {
   "cell_type": "markdown",
   "id": "2ee8bd4f",
   "metadata": {},
   "source": [
    "Наилучшую метрику AUC-ROC **0.77** показал CatBoost с использованием GridSearchCV.\n",
    "Не понял, почему при использовании `predict_proba` значение ROC-AUC растёт (>**0.85**)?"
   ]
  },
  {
   "cell_type": "markdown",
   "id": "e085efbe",
   "metadata": {},
   "source": [
    "При использовании \"длительности сотрудничества\" абонента метрика ещё больше подросла, лучшие результат до **0.88**"
   ]
  },
  {
   "cell_type": "markdown",
   "id": "efd65e9b",
   "metadata": {},
   "source": [
    "# План действий на проект "
   ]
  },
  {
   "cell_type": "markdown",
   "id": "a4f37395",
   "metadata": {},
   "source": [
    "- **Первичный анализ данных провел.**\n",
    "Выводы: данные рабочие, нужно продолжить анализ.\n",
    "\n",
    "\n",
    "- **Преобразования данных**.\n",
    "Нужно объединить данные в один датафрейм и преобразовать признаки — то есть сгенерировать новые признаки и удалить их дубликаты в плане предоставляемой информации.\n",
    "- **Подробный исследовательский анализ.**\n",
    "На основе преобразованных данные посмотреть на когорты абонентов и оценить взаимосвязи групп пользователей и признаков.\n",
    "- **Выделение обучающей, валидационной и выборке для предсказаний.**\n",
    "Абоненты без `EndDate` являются действующими, для них нужно предсказание времени выхода. Абоненты, закрывшие договоры для нас являются обучающей выборкой — её разделим на `train` и `valid` для тренировки моделей.\n",
    "- **Выбор и обучение моделей.**\n",
    "Так как мы решаем задачу регрессии, нужно подобрать несколько моделей.\n",
    "- **Прогнозирование оттока клиентов на условно тестовой выборке и выводы**\n",
    "Здесь на данных действующих клиентов прогнозирую отток клиентов с наиболее эффективной моделью. Делаю анализ оттока и выводы на его основе."
   ]
  },
  {
   "cell_type": "markdown",
   "id": "bc7ecac3",
   "metadata": {},
   "source": [
    "# Вопросы"
   ]
  },
  {
   "cell_type": "markdown",
   "id": "e8b37e23",
   "metadata": {},
   "source": [
    "## Вопросы: круг 1 (первичный анализ данных)"
   ]
  },
  {
   "cell_type": "markdown",
   "id": "02033c38",
   "metadata": {},
   "source": [
    "**?**  \n",
    "Есть ли смысл присваивать значениям тип `category`, например, для Yes/No или 1/0 в признаке — это даёт какие-то преимущества?"
   ]
  },
  {
   "cell_type": "markdown",
   "id": "b289ff0b",
   "metadata": {},
   "source": [
    "<font color=\"blue\">Равнозначные штуки"
   ]
  },
  {
   "cell_type": "markdown",
   "id": "e5e0283f",
   "metadata": {},
   "source": [
    "**?**  \n",
    "У нас задача регрессии? Я так понял, что нам нужно предсказать, когда абонент собирается уходить — получить дату (`EndDate`) или через какое количество дней после регистрации пользователь уйдёт (`life_time`). Но потом подумал, в может всё-такие нужно просто бинарно разделить на тех, кто уйдёт/останется, и это задача классификации?"
   ]
  },
  {
   "cell_type": "markdown",
   "id": "b0a2953b",
   "metadata": {},
   "source": [
    "<font color=\"blue\"> Нет, у нас задача классификации. Надо понять уйдёт клиент или нет"
   ]
  },
  {
   "cell_type": "markdown",
   "id": "074428b3",
   "metadata": {},
   "source": [
    "**?**  \n",
    "Я предположил, что абоненты без `EndDate` являются действующими, для них нужно предсказание времени выхода — наша тестовая выборка (но без целевых значений). Абоненты, закрывшие договоры для нас являются обучающей выборкой (которую я разделю на обучающую и валидационную). Верна ли моя логика? Если нет, то что для нас целевая метрика?"
   ]
  },
  {
   "cell_type": "markdown",
   "id": "978e208b",
   "metadata": {},
   "source": [
    "<font color=\"blue\">Нет, для действующих важно учитывать время выгрузки. Метрика для нас ROC-AUC"
   ]
  },
  {
   "cell_type": "markdown",
   "id": "26c8b4e7",
   "metadata": {},
   "source": [
    "**?**  \n",
    "Есть ли ограничения по ресурсам и какие? То есть по времени обучения, могу ли использовать удалённые GPU?"
   ]
  },
  {
   "cell_type": "markdown",
   "id": "340714ac",
   "metadata": {},
   "source": [
    "<font color=\"Blue\">Ограничений нету"
   ]
  },
  {
   "cell_type": "markdown",
   "id": "902d642c",
   "metadata": {},
   "source": [
    "**?**  \n",
    "Будет ли проверка моих метрик на какой-то тестовой выборке? Есть ли целевые метрики для нашей тестовой выборки, на которых нас проверят?"
   ]
  },
  {
   "cell_type": "markdown",
   "id": "5cfb42e5",
   "metadata": {},
   "source": [
    "<font color=\"blue\">Приватных данных нету\n",
    "\n",
    "\n",
    "В целом оки - принято"
   ]
  },
  {
   "cell_type": "markdown",
   "id": "6fedb55f",
   "metadata": {},
   "source": [
    "## Вопросы: круг 2 (код)"
   ]
  },
  {
   "cell_type": "markdown",
   "id": "286cbd16",
   "metadata": {},
   "source": [
    "### Код-ревью 1"
   ]
  },
  {
   "cell_type": "markdown",
   "id": "b297fafc",
   "metadata": {},
   "source": [
    "**?**  \n",
    "Что ещё можно использовать, чтобы увеличить метрику ROC-AUC? Что-то у меня идеи закончились"
   ]
  },
  {
   "cell_type": "markdown",
   "id": "df5ff1f4",
   "metadata": {},
   "source": [
    "**?**  \n",
    "Имеет ли смысл импользовать какой-то специфический отбор признаков по корреляции? Какой-то конкретный посоветуешь?"
   ]
  },
  {
   "cell_type": "markdown",
   "id": "8c859a4b",
   "metadata": {},
   "source": [
    "**?**  \n",
    "Даст ли какое-то преимущество перевод категориальных признаков в тип `category`?"
   ]
  },
  {
   "cell_type": "markdown",
   "id": "89ff7114",
   "metadata": {},
   "source": [
    "<div style=\"background: #cceeaa; padding: 5px; border: 1px solid green; border-radius: 5px;\">\n",
    "    <font color='green'> <b><u>КОММЕНТАРИЙ РЕВЬЮЕРА</u></b>\n",
    "</font>\n",
    "<font color='green'><br>\n",
    "ОК, Олег, скажу, что уверенная работа, на мой взгляд)<br>\n",
    "Обработка данных, размышления над факторами, многогранная модельная работа, конечные результаты - многое удалось как надо<br> \n",
    "А что совсем хорошо, так это то, что не стал гнаться за точностью любой ценой, даже ценой наружения бизнес-логики. (это я про даты-признаки)<br>\n",
    "\n",
    "Прежде, чем идти дальше, напомню из прошлых наших общений основные моменты, которые бы мне хотелось зафиксировать, как важные для момделирования (что-то ты и так хорошо используешь):<br>   \n",
    "1) F1, Акураси и AUC - отличные метрики, но нужно держать в голове, что это лишь бобщённые характеристики. А в реальной практике бизнесу часто важно знать детали самой ошибки - из каких ошибок/успехов она складывается. И в этом случае очень кстати будут меры полноты и точности. Рассмотри возможность их использования для своих проектов. Только через них можно выйти на финансовые возможности модели. Ведь перед запуском её в бой, будет сравнение стоимости создания и поддержки модели со стомостью \"оставить как есть\" \n",
    "    \n",
    "2) При анализе факторов влияния (их зависиомть между собой и на целевую) происходит по одному из трёх алгоритмов, исходя из типа шкалы. Могут применять следующие графический и аналитический анализы:<br>\n",
    "- колличественная-колличественная: аналитически методод - корреляции, графический - скатерплот.<br>\n",
    "- колличественная-номинальная: аналитически методод - проверка гипотез (стьюдент, маннауитни), графический - боксплот.<br>\n",
    "- номинальная-номинальная: аналитически методод - Хи-квадрат, графический - круговая диаграмма<br>\n",
    "Это я к тому разделу, который посвящён анализу данных. Там ты сделал интересные предположения и чтобы их доказать, стои проверить аналитически. Вот как раз те методы проверки гипотез, что выше написал.<br>\n",
    "    \n",
    "3) Алгоритм нахождения модели может быть таким:<br>\n",
    "- изучаем проблематику бизнеса и самой темы (в данном случае отток). Пытаемся понять суть явления.<br>\n",
    "- генерируем разные факторы влияния - любые.<br>\n",
    "- дизайнируем (прикидываем модели) какие методы решения есть, чтобы решить проблему.<br>\n",
    "- Смотрим, какие данные и в какой шкале есть. Что нужно ещё, что применить выбранный метод.<br>\n",
    "- Оцениваем мультиколлинеарность.<br>\n",
    "- строим модели и анализируем те фактры, какие сгенерировали ранее.<br>\n",
    "- Думаем над тем, какие причины (факторы) могут ещё влиять на отток.<br>\n",
    "- если после нескольких итераций точность \"замирает\" - значит достигли потолка)<br>\n",
    " \n",
    "4) Проведение анализа важности факторов с помощью команды feature_importances_ (+графический анализ). Отличная вещь намечается: высока я метрика + график рейтинга факторов по силе влияния на целевой признак). Важнейшая часть любого модельного финала. Если видно, что часть факторов - слабозначимые для модели. Т.е. не значительно влияют на целевую переменную, то их смело можно убирать из модели. Ну и для бизнеса доносить: так мол и так - на эти факторы надо обращать внимание, а эти не влияют на уход клиента.\n",
    "\n",
    "<font color='red'>\n",
    "Есть пару-тройку вопросов для дополнений:<br>\n",
    "1)Оставил комментарий по коррелчции.<br>\n",
    "2) predict_proba - должна дать точности. Посомтри, пожалуйста.<br>\n",
    "3) Будет здорово, если построишь график важности факторов.<br>\n",
    "    \n",
    "Такой есть интересный момент: если длительность контракта использовать в днях - будет иной результат)<br>\n",
    "    \n",
    "    \n",
    "На первы 2 вопроса, походу ответил.<br>\n",
    "На третий: для lgb, катбуст модели - да. И тогда можно использовать сырые данные без предварительной категоризации.<br>\n",
    "    \n",
    "<font color='green'>\n",
    "Однозначно видно, что ты технически сделал хорошую работу.<br>\n",
    "Остались детали.<br>\n",
    "\n",
    "Спасибо)<br>\n",
    "БУДУ ЖДАТЬ КОММЕНТАРИЕВ."
   ]
  },
  {
   "cell_type": "markdown",
   "id": "72f4c20f",
   "metadata": {},
   "source": [
    "### Код-ревью 2"
   ]
  },
  {
   "cell_type": "markdown",
   "id": "dbcc3855",
   "metadata": {},
   "source": [
    "**Вопросы**\n",
    "\n",
    "Почему получается иная ROC-AUC? Это связано с изменением порога классификации? (пишу третий раз на всякий случай)"
   ]
  },
  {
   "cell_type": "markdown",
   "id": "75b3c8eb",
   "metadata": {},
   "source": [
    "Можно ли удалять часть из группы закодированных признаков? [ссылка на код](#question1)  "
   ]
  },
  {
   "cell_type": "markdown",
   "id": "85310e4f",
   "metadata": {},
   "source": [
    "<div style=\"background: #cceeaa; padding: 5px; border: 1px solid green; border-radius: 5px;\">\n",
    "    <font color='green'> <b><u>КОММЕНТАРИЙ РЕВЬЮЕРА 2</u></b>\n",
    "</font>\n",
    "<font color='green'><br>\n",
    "В сообществе, это воапрос, пока не решён на 100 процентов. predict() выдаёт классы на уровне отсечки 0,5 - там точно по умолчанию используется.<br>\n",
    "    \n",
    "а просто predict_proba() рассчитывается так, что никакой порог не задействован, получается точность, усредненная по всем возможным порогам. Как то так интерпретируют.\n",
    "https://progi.pro/poluchenie-nizkoy-ocenki-roc-auc-no-visokaya-tochnost-43698 - вот здесь нашёл более-менее ответ на этот вопрос. У этой темы - всё ещё впереди. Будтут дополнительные исслдеования.<br>\n",
    "    \n",
    "По вопросу об удалении:<br>\n",
    "Когда мы провели ohe-кадирование, то теперь этот фактор стал сам по себе. И его можно убрать, на мой взгляд.<br>\n",
    "    \n",
    "Смотри, что ещё есть: Фактор \"длительность сотрудничества\" в модели сейчас в месяцах. А попробуй его же сделать в днях. БУдет время? Результат будет иной."
   ]
  },
  {
   "cell_type": "markdown",
   "id": "44291a94",
   "metadata": {},
   "source": [
    "Метрика подросла после использова \"длительности сотрудничества\" в днях. Спасибо за совет!"
   ]
  },
  {
   "cell_type": "markdown",
   "id": "cd622c89",
   "metadata": {},
   "source": [
    "<div style=\"background: #cceeaa; padding: 5px; border: 1px solid green; border-radius: 5px;\">\n",
    "    <font color='green'> <b><u>КОММЕНТАРИЙ РЕВЬЮЕРА 3</u></b>\n",
    "</font>\n",
    "<font color='green'><br>Привет, Олег!<br>\n",
    "ОК, рад, что смог помочь подразобраться с темой.<br>\n",
    "    \n",
    "Спасибо за этот труд и за совместную работу на других проектах)<br>\n",
    "Искренне желаю покорить ещё не один аналитический Эверест)<br>"
   ]
  },
  {
   "cell_type": "code",
   "execution_count": null,
   "id": "197699e5",
   "metadata": {},
   "outputs": [],
   "source": []
  }
 ],
 "metadata": {
  "ExecuteTimeLog": [
   {
    "duration": 2909,
    "start_time": "2022-01-31T01:09:42.035Z"
   },
   {
    "duration": 4,
    "start_time": "2022-01-31T01:09:49.588Z"
   },
   {
    "duration": 95,
    "start_time": "2022-01-31T01:10:39.625Z"
   },
   {
    "duration": 6,
    "start_time": "2022-01-31T01:10:44.629Z"
   },
   {
    "duration": 20,
    "start_time": "2022-01-31T01:10:45.460Z"
   },
   {
    "duration": 31,
    "start_time": "2022-01-31T01:10:45.745Z"
   },
   {
    "duration": 11,
    "start_time": "2022-01-31T01:10:46.727Z"
   },
   {
    "duration": 17,
    "start_time": "2022-01-31T01:10:46.899Z"
   },
   {
    "duration": 10,
    "start_time": "2022-01-31T01:10:47.307Z"
   },
   {
    "duration": 15,
    "start_time": "2022-01-31T01:10:47.460Z"
   },
   {
    "duration": 12,
    "start_time": "2022-01-31T01:10:48.026Z"
   },
   {
    "duration": 13,
    "start_time": "2022-01-31T01:10:48.408Z"
   },
   {
    "duration": 9,
    "start_time": "2022-01-31T01:10:48.850Z"
   },
   {
    "duration": 10,
    "start_time": "2022-01-31T01:10:49.173Z"
   },
   {
    "duration": 9,
    "start_time": "2022-01-31T01:11:41.986Z"
   },
   {
    "duration": 8,
    "start_time": "2022-01-31T01:11:42.186Z"
   },
   {
    "duration": 8,
    "start_time": "2022-01-31T01:11:42.657Z"
   },
   {
    "duration": 11,
    "start_time": "2022-01-31T01:11:42.870Z"
   },
   {
    "duration": 4,
    "start_time": "2022-01-31T01:11:45.091Z"
   },
   {
    "duration": 9,
    "start_time": "2022-01-31T01:11:45.098Z"
   },
   {
    "duration": 5,
    "start_time": "2022-01-31T01:11:45.554Z"
   },
   {
    "duration": 8,
    "start_time": "2022-01-31T01:11:45.698Z"
   },
   {
    "duration": 11,
    "start_time": "2022-01-31T01:11:45.870Z"
   },
   {
    "duration": 10,
    "start_time": "2022-01-31T01:11:46.314Z"
   },
   {
    "duration": 4,
    "start_time": "2022-01-31T01:11:46.606Z"
   },
   {
    "duration": 7,
    "start_time": "2022-01-31T01:11:46.771Z"
   },
   {
    "duration": 7,
    "start_time": "2022-01-31T01:11:46.926Z"
   },
   {
    "duration": 137,
    "start_time": "2022-01-31T01:11:47.454Z"
   },
   {
    "duration": 6,
    "start_time": "2022-01-31T01:11:47.597Z"
   },
   {
    "duration": 381,
    "start_time": "2022-01-31T01:11:47.765Z"
   },
   {
    "duration": 321,
    "start_time": "2022-01-31T01:11:49.406Z"
   },
   {
    "duration": 14,
    "start_time": "2022-01-31T01:11:49.787Z"
   },
   {
    "duration": 107,
    "start_time": "2022-01-31T01:11:51.419Z"
   },
   {
    "duration": 9,
    "start_time": "2022-01-31T01:11:51.735Z"
   },
   {
    "duration": 10,
    "start_time": "2022-01-31T01:11:51.908Z"
   },
   {
    "duration": 4,
    "start_time": "2022-01-31T01:11:52.096Z"
   },
   {
    "duration": 4,
    "start_time": "2022-01-31T01:11:52.260Z"
   },
   {
    "duration": 111,
    "start_time": "2022-01-31T01:11:53.089Z"
   },
   {
    "duration": 4,
    "start_time": "2022-01-31T01:11:53.635Z"
   },
   {
    "duration": 38,
    "start_time": "2022-01-31T01:11:53.985Z"
   },
   {
    "duration": 22,
    "start_time": "2022-01-31T01:11:54.156Z"
   },
   {
    "duration": 14,
    "start_time": "2022-01-31T01:11:54.644Z"
   },
   {
    "duration": 24,
    "start_time": "2022-01-31T01:11:54.914Z"
   },
   {
    "duration": 515,
    "start_time": "2022-01-31T01:11:55.170Z"
   },
   {
    "duration": 9,
    "start_time": "2022-01-31T01:11:56.456Z"
   },
   {
    "duration": 413,
    "start_time": "2022-01-31T01:11:56.853Z"
   },
   {
    "duration": 609,
    "start_time": "2022-01-31T01:25:18.327Z"
   },
   {
    "duration": 4,
    "start_time": "2022-01-31T01:26:55.625Z"
   },
   {
    "duration": 604,
    "start_time": "2022-01-31T01:26:56.423Z"
   },
   {
    "duration": 6,
    "start_time": "2022-01-31T01:26:57.225Z"
   },
   {
    "duration": 15,
    "start_time": "2022-01-31T01:26:59.524Z"
   },
   {
    "duration": 603,
    "start_time": "2022-01-31T01:27:01.025Z"
   },
   {
    "duration": 46001,
    "start_time": "2022-01-31T01:27:02.525Z"
   },
   {
    "duration": 8,
    "start_time": "2022-01-31T01:28:21.624Z"
   },
   {
    "duration": 8,
    "start_time": "2022-01-31T01:28:27.725Z"
   },
   {
    "duration": 97,
    "start_time": "2022-01-31T01:28:29.425Z"
   },
   {
    "duration": 38706,
    "start_time": "2022-01-31T01:28:31.925Z"
   },
   {
    "duration": 93,
    "start_time": "2022-01-31T01:29:10.633Z"
   },
   {
    "duration": 14,
    "start_time": "2022-01-31T01:29:10.729Z"
   },
   {
    "duration": 107,
    "start_time": "2022-01-31T01:29:10.826Z"
   },
   {
    "duration": 106,
    "start_time": "2022-01-31T01:29:11.124Z"
   },
   {
    "duration": 898,
    "start_time": "2022-01-31T01:29:11.233Z"
   },
   {
    "duration": 1397,
    "start_time": "2022-01-31T01:29:10.738Z"
   },
   {
    "duration": 1471,
    "start_time": "2022-01-31T01:29:10.753Z"
   },
   {
    "duration": 1677,
    "start_time": "2022-01-31T21:20:00.725Z"
   },
   {
    "duration": 10711,
    "start_time": "2022-01-31T21:20:02.404Z"
   },
   {
    "duration": 3,
    "start_time": "2022-01-31T21:20:13.117Z"
   },
   {
    "duration": 5,
    "start_time": "2022-01-31T21:20:13.122Z"
   },
   {
    "duration": 91,
    "start_time": "2022-01-31T21:20:13.128Z"
   },
   {
    "duration": 4,
    "start_time": "2022-01-31T21:20:13.220Z"
   },
   {
    "duration": 14,
    "start_time": "2022-01-31T21:20:13.226Z"
   },
   {
    "duration": 19,
    "start_time": "2022-01-31T21:20:13.242Z"
   },
   {
    "duration": 7,
    "start_time": "2022-01-31T21:20:13.263Z"
   },
   {
    "duration": 11,
    "start_time": "2022-01-31T21:20:13.271Z"
   },
   {
    "duration": 6,
    "start_time": "2022-01-31T21:20:13.283Z"
   },
   {
    "duration": 41,
    "start_time": "2022-01-31T21:20:13.291Z"
   },
   {
    "duration": 5,
    "start_time": "2022-01-31T21:20:13.334Z"
   },
   {
    "duration": 9,
    "start_time": "2022-01-31T21:20:13.340Z"
   },
   {
    "duration": 6,
    "start_time": "2022-01-31T21:20:13.350Z"
   },
   {
    "duration": 12,
    "start_time": "2022-01-31T21:20:13.358Z"
   },
   {
    "duration": 8,
    "start_time": "2022-01-31T21:20:13.372Z"
   },
   {
    "duration": 5,
    "start_time": "2022-01-31T21:20:13.382Z"
   },
   {
    "duration": 8,
    "start_time": "2022-01-31T21:20:13.388Z"
   },
   {
    "duration": 8,
    "start_time": "2022-01-31T21:20:13.398Z"
   },
   {
    "duration": 19,
    "start_time": "2022-01-31T21:20:13.408Z"
   },
   {
    "duration": 11,
    "start_time": "2022-01-31T21:20:13.429Z"
   },
   {
    "duration": 12,
    "start_time": "2022-01-31T21:20:13.443Z"
   },
   {
    "duration": 5,
    "start_time": "2022-01-31T21:20:13.457Z"
   },
   {
    "duration": 7,
    "start_time": "2022-01-31T21:20:13.463Z"
   },
   {
    "duration": 6,
    "start_time": "2022-01-31T21:20:13.471Z"
   },
   {
    "duration": 9,
    "start_time": "2022-01-31T21:20:13.479Z"
   },
   {
    "duration": 6,
    "start_time": "2022-01-31T21:20:13.489Z"
   },
   {
    "duration": 31,
    "start_time": "2022-01-31T21:20:13.496Z"
   },
   {
    "duration": 5,
    "start_time": "2022-01-31T21:20:13.528Z"
   },
   {
    "duration": 7,
    "start_time": "2022-01-31T21:20:13.535Z"
   },
   {
    "duration": 88,
    "start_time": "2022-01-31T21:20:13.543Z"
   },
   {
    "duration": 5,
    "start_time": "2022-01-31T21:20:13.633Z"
   },
   {
    "duration": 238,
    "start_time": "2022-01-31T21:20:13.639Z"
   },
   {
    "duration": 211,
    "start_time": "2022-01-31T21:20:13.879Z"
   },
   {
    "duration": 8,
    "start_time": "2022-01-31T21:20:14.092Z"
   },
   {
    "duration": 78,
    "start_time": "2022-01-31T21:20:14.101Z"
   },
   {
    "duration": 5,
    "start_time": "2022-01-31T21:20:14.181Z"
   },
   {
    "duration": 7,
    "start_time": "2022-01-31T21:20:14.188Z"
   },
   {
    "duration": 4,
    "start_time": "2022-01-31T21:20:14.197Z"
   },
   {
    "duration": 4,
    "start_time": "2022-01-31T21:20:14.203Z"
   },
   {
    "duration": 79,
    "start_time": "2022-01-31T21:20:14.208Z"
   },
   {
    "duration": 3,
    "start_time": "2022-01-31T21:20:14.288Z"
   },
   {
    "duration": 35,
    "start_time": "2022-01-31T21:20:14.292Z"
   },
   {
    "duration": 13,
    "start_time": "2022-01-31T21:20:14.328Z"
   },
   {
    "duration": 7,
    "start_time": "2022-01-31T21:20:14.342Z"
   },
   {
    "duration": 17,
    "start_time": "2022-01-31T21:20:14.351Z"
   },
   {
    "duration": 2,
    "start_time": "2022-01-31T21:20:14.369Z"
   },
   {
    "duration": 9,
    "start_time": "2022-01-31T21:20:14.372Z"
   },
   {
    "duration": 864,
    "start_time": "2022-01-31T21:20:14.382Z"
   },
   {
    "duration": 1,
    "start_time": "2022-01-31T21:20:15.248Z"
   },
   {
    "duration": -1,
    "start_time": "2022-01-31T21:20:15.251Z"
   },
   {
    "duration": -2,
    "start_time": "2022-01-31T21:20:15.253Z"
   },
   {
    "duration": -3,
    "start_time": "2022-01-31T21:20:15.255Z"
   },
   {
    "duration": -5,
    "start_time": "2022-01-31T21:20:15.258Z"
   },
   {
    "duration": -7,
    "start_time": "2022-01-31T21:20:15.260Z"
   },
   {
    "duration": -8,
    "start_time": "2022-01-31T21:20:15.262Z"
   },
   {
    "duration": -9,
    "start_time": "2022-01-31T21:20:15.264Z"
   },
   {
    "duration": -10,
    "start_time": "2022-01-31T21:20:15.266Z"
   },
   {
    "duration": -11,
    "start_time": "2022-01-31T21:20:15.268Z"
   },
   {
    "duration": -12,
    "start_time": "2022-01-31T21:20:15.270Z"
   },
   {
    "duration": -13,
    "start_time": "2022-01-31T21:20:15.272Z"
   },
   {
    "duration": -14,
    "start_time": "2022-01-31T21:20:15.274Z"
   },
   {
    "duration": -20,
    "start_time": "2022-01-31T21:20:15.281Z"
   },
   {
    "duration": -21,
    "start_time": "2022-01-31T21:20:15.283Z"
   },
   {
    "duration": -22,
    "start_time": "2022-01-31T21:20:15.285Z"
   },
   {
    "duration": -23,
    "start_time": "2022-01-31T21:20:15.287Z"
   },
   {
    "duration": -24,
    "start_time": "2022-01-31T21:20:15.289Z"
   },
   {
    "duration": -24,
    "start_time": "2022-01-31T21:20:15.290Z"
   },
   {
    "duration": -25,
    "start_time": "2022-01-31T21:20:15.292Z"
   },
   {
    "duration": -26,
    "start_time": "2022-01-31T21:20:15.294Z"
   },
   {
    "duration": -27,
    "start_time": "2022-01-31T21:20:15.296Z"
   },
   {
    "duration": -28,
    "start_time": "2022-01-31T21:20:15.298Z"
   },
   {
    "duration": -28,
    "start_time": "2022-01-31T21:20:15.299Z"
   },
   {
    "duration": -33,
    "start_time": "2022-01-31T21:20:15.305Z"
   },
   {
    "duration": -35,
    "start_time": "2022-01-31T21:20:15.308Z"
   },
   {
    "duration": -36,
    "start_time": "2022-01-31T21:20:15.310Z"
   },
   {
    "duration": -37,
    "start_time": "2022-01-31T21:20:15.312Z"
   },
   {
    "duration": -37,
    "start_time": "2022-01-31T21:20:15.313Z"
   },
   {
    "duration": -38,
    "start_time": "2022-01-31T21:20:15.315Z"
   },
   {
    "duration": -39,
    "start_time": "2022-01-31T21:20:15.317Z"
   },
   {
    "duration": -40,
    "start_time": "2022-01-31T21:20:15.319Z"
   },
   {
    "duration": -40,
    "start_time": "2022-01-31T21:20:15.320Z"
   },
   {
    "duration": -41,
    "start_time": "2022-01-31T21:20:15.322Z"
   },
   {
    "duration": -42,
    "start_time": "2022-01-31T21:20:15.324Z"
   },
   {
    "duration": -43,
    "start_time": "2022-01-31T21:20:15.326Z"
   },
   {
    "duration": -43,
    "start_time": "2022-01-31T21:20:15.327Z"
   },
   {
    "duration": -44,
    "start_time": "2022-01-31T21:20:15.329Z"
   },
   {
    "duration": -45,
    "start_time": "2022-01-31T21:20:15.331Z"
   },
   {
    "duration": -5,
    "start_time": "2022-01-31T21:20:15.332Z"
   },
   {
    "duration": -6,
    "start_time": "2022-01-31T21:20:15.334Z"
   },
   {
    "duration": -7,
    "start_time": "2022-01-31T21:20:15.336Z"
   },
   {
    "duration": -8,
    "start_time": "2022-01-31T21:20:15.338Z"
   },
   {
    "duration": -8,
    "start_time": "2022-01-31T21:20:15.340Z"
   },
   {
    "duration": -8,
    "start_time": "2022-01-31T21:20:15.341Z"
   },
   {
    "duration": -9,
    "start_time": "2022-01-31T21:20:15.343Z"
   },
   {
    "duration": -10,
    "start_time": "2022-01-31T21:20:15.345Z"
   },
   {
    "duration": -16,
    "start_time": "2022-01-31T21:20:15.352Z"
   },
   {
    "duration": -16,
    "start_time": "2022-01-31T21:20:15.354Z"
   },
   {
    "duration": -17,
    "start_time": "2022-01-31T21:20:15.356Z"
   },
   {
    "duration": -18,
    "start_time": "2022-01-31T21:20:15.358Z"
   },
   {
    "duration": -18,
    "start_time": "2022-01-31T21:20:15.359Z"
   },
   {
    "duration": -19,
    "start_time": "2022-01-31T21:20:15.361Z"
   },
   {
    "duration": -19,
    "start_time": "2022-01-31T21:20:15.363Z"
   },
   {
    "duration": -19,
    "start_time": "2022-01-31T21:20:15.364Z"
   },
   {
    "duration": -20,
    "start_time": "2022-01-31T21:20:15.366Z"
   },
   {
    "duration": -20,
    "start_time": "2022-01-31T21:20:15.367Z"
   },
   {
    "duration": 964,
    "start_time": "2022-01-31T21:21:01.148Z"
   },
   {
    "duration": 8,
    "start_time": "2022-01-31T21:21:38.703Z"
   },
   {
    "duration": 5,
    "start_time": "2022-01-31T21:21:53.409Z"
   },
   {
    "duration": 6,
    "start_time": "2022-01-31T21:22:01.432Z"
   },
   {
    "duration": 386,
    "start_time": "2022-01-31T21:22:08.776Z"
   },
   {
    "duration": 9,
    "start_time": "2022-01-31T21:23:02.259Z"
   },
   {
    "duration": 368,
    "start_time": "2022-01-31T21:23:27.938Z"
   },
   {
    "duration": 7,
    "start_time": "2022-01-31T21:24:32.784Z"
   },
   {
    "duration": 9,
    "start_time": "2022-01-31T21:25:01.943Z"
   },
   {
    "duration": 6,
    "start_time": "2022-01-31T21:25:15.641Z"
   },
   {
    "duration": 6,
    "start_time": "2022-01-31T21:25:24.843Z"
   },
   {
    "duration": 3,
    "start_time": "2022-01-31T21:25:30.330Z"
   },
   {
    "duration": 8,
    "start_time": "2022-01-31T21:25:34.098Z"
   },
   {
    "duration": 21,
    "start_time": "2022-01-31T21:25:40.494Z"
   },
   {
    "duration": 13,
    "start_time": "2022-01-31T21:25:42.605Z"
   },
   {
    "duration": 1130,
    "start_time": "2022-01-31T21:32:11.176Z"
   },
   {
    "duration": 5850,
    "start_time": "2022-01-31T21:32:12.308Z"
   },
   {
    "duration": 2,
    "start_time": "2022-01-31T21:32:18.160Z"
   },
   {
    "duration": 8,
    "start_time": "2022-01-31T21:32:18.164Z"
   },
   {
    "duration": 100,
    "start_time": "2022-01-31T21:32:18.173Z"
   },
   {
    "duration": 3,
    "start_time": "2022-01-31T21:32:18.275Z"
   },
   {
    "duration": 14,
    "start_time": "2022-01-31T21:32:18.280Z"
   },
   {
    "duration": 21,
    "start_time": "2022-01-31T21:32:18.295Z"
   },
   {
    "duration": 7,
    "start_time": "2022-01-31T21:32:18.319Z"
   },
   {
    "duration": 11,
    "start_time": "2022-01-31T21:32:18.328Z"
   },
   {
    "duration": 7,
    "start_time": "2022-01-31T21:32:18.341Z"
   },
   {
    "duration": 12,
    "start_time": "2022-01-31T21:32:18.350Z"
   },
   {
    "duration": 6,
    "start_time": "2022-01-31T21:32:18.363Z"
   },
   {
    "duration": 9,
    "start_time": "2022-01-31T21:32:18.370Z"
   },
   {
    "duration": 8,
    "start_time": "2022-01-31T21:32:18.381Z"
   },
   {
    "duration": 7,
    "start_time": "2022-01-31T21:32:18.390Z"
   },
   {
    "duration": 31,
    "start_time": "2022-01-31T21:32:18.398Z"
   },
   {
    "duration": 5,
    "start_time": "2022-01-31T21:32:18.430Z"
   },
   {
    "duration": 7,
    "start_time": "2022-01-31T21:32:18.436Z"
   },
   {
    "duration": 9,
    "start_time": "2022-01-31T21:32:18.444Z"
   },
   {
    "duration": 2,
    "start_time": "2022-01-31T21:32:18.454Z"
   },
   {
    "duration": 6,
    "start_time": "2022-01-31T21:32:18.457Z"
   },
   {
    "duration": 14,
    "start_time": "2022-01-31T21:32:18.464Z"
   },
   {
    "duration": 4,
    "start_time": "2022-01-31T21:32:18.479Z"
   },
   {
    "duration": 5,
    "start_time": "2022-01-31T21:32:18.485Z"
   },
   {
    "duration": 7,
    "start_time": "2022-01-31T21:32:18.491Z"
   },
   {
    "duration": 30,
    "start_time": "2022-01-31T21:32:18.501Z"
   },
   {
    "duration": 6,
    "start_time": "2022-01-31T21:32:18.533Z"
   },
   {
    "duration": 4,
    "start_time": "2022-01-31T21:32:18.541Z"
   },
   {
    "duration": 8,
    "start_time": "2022-01-31T21:32:18.547Z"
   },
   {
    "duration": 5,
    "start_time": "2022-01-31T21:32:18.557Z"
   },
   {
    "duration": 102,
    "start_time": "2022-01-31T21:32:18.563Z"
   },
   {
    "duration": 4,
    "start_time": "2022-01-31T21:32:18.667Z"
   },
   {
    "duration": 235,
    "start_time": "2022-01-31T21:32:18.672Z"
   },
   {
    "duration": 220,
    "start_time": "2022-01-31T21:32:18.908Z"
   },
   {
    "duration": 9,
    "start_time": "2022-01-31T21:32:19.130Z"
   },
   {
    "duration": 63,
    "start_time": "2022-01-31T21:32:19.141Z"
   },
   {
    "duration": 25,
    "start_time": "2022-01-31T21:32:19.206Z"
   },
   {
    "duration": 8,
    "start_time": "2022-01-31T21:32:19.232Z"
   },
   {
    "duration": 3,
    "start_time": "2022-01-31T21:32:19.242Z"
   },
   {
    "duration": 4,
    "start_time": "2022-01-31T21:32:19.247Z"
   },
   {
    "duration": 76,
    "start_time": "2022-01-31T21:32:19.252Z"
   },
   {
    "duration": 2,
    "start_time": "2022-01-31T21:32:19.330Z"
   },
   {
    "duration": 7,
    "start_time": "2022-01-31T21:32:19.334Z"
   },
   {
    "duration": 22,
    "start_time": "2022-01-31T21:32:19.343Z"
   },
   {
    "duration": 13,
    "start_time": "2022-01-31T21:32:19.367Z"
   },
   {
    "duration": 9,
    "start_time": "2022-01-31T21:32:19.381Z"
   },
   {
    "duration": 45,
    "start_time": "2022-01-31T21:32:19.392Z"
   },
   {
    "duration": 2,
    "start_time": "2022-01-31T21:32:19.439Z"
   },
   {
    "duration": 7,
    "start_time": "2022-01-31T21:32:19.443Z"
   },
   {
    "duration": 9,
    "start_time": "2022-01-31T21:32:19.452Z"
   },
   {
    "duration": 425,
    "start_time": "2022-01-31T21:32:19.463Z"
   },
   {
    "duration": -92,
    "start_time": "2022-01-31T21:32:19.983Z"
   },
   {
    "duration": -112,
    "start_time": "2022-01-31T21:32:20.004Z"
   },
   {
    "duration": -114,
    "start_time": "2022-01-31T21:32:20.007Z"
   },
   {
    "duration": -116,
    "start_time": "2022-01-31T21:32:20.010Z"
   },
   {
    "duration": -117,
    "start_time": "2022-01-31T21:32:20.012Z"
   },
   {
    "duration": -120,
    "start_time": "2022-01-31T21:32:20.015Z"
   },
   {
    "duration": -127,
    "start_time": "2022-01-31T21:32:20.023Z"
   },
   {
    "duration": -130,
    "start_time": "2022-01-31T21:32:20.027Z"
   },
   {
    "duration": -131,
    "start_time": "2022-01-31T21:32:20.029Z"
   },
   {
    "duration": -133,
    "start_time": "2022-01-31T21:32:20.032Z"
   },
   {
    "duration": -139,
    "start_time": "2022-01-31T21:32:20.039Z"
   },
   {
    "duration": -142,
    "start_time": "2022-01-31T21:32:20.042Z"
   },
   {
    "duration": -142,
    "start_time": "2022-01-31T21:32:20.043Z"
   },
   {
    "duration": -144,
    "start_time": "2022-01-31T21:32:20.046Z"
   },
   {
    "duration": -145,
    "start_time": "2022-01-31T21:32:20.048Z"
   },
   {
    "duration": -151,
    "start_time": "2022-01-31T21:32:20.055Z"
   },
   {
    "duration": -152,
    "start_time": "2022-01-31T21:32:20.057Z"
   },
   {
    "duration": -154,
    "start_time": "2022-01-31T21:32:20.059Z"
   },
   {
    "duration": -154,
    "start_time": "2022-01-31T21:32:20.060Z"
   },
   {
    "duration": -156,
    "start_time": "2022-01-31T21:32:20.063Z"
   },
   {
    "duration": -157,
    "start_time": "2022-01-31T21:32:20.065Z"
   },
   {
    "duration": -163,
    "start_time": "2022-01-31T21:32:20.072Z"
   },
   {
    "duration": -164,
    "start_time": "2022-01-31T21:32:20.074Z"
   },
   {
    "duration": -165,
    "start_time": "2022-01-31T21:32:20.076Z"
   },
   {
    "duration": -165,
    "start_time": "2022-01-31T21:32:20.077Z"
   },
   {
    "duration": -167,
    "start_time": "2022-01-31T21:32:20.079Z"
   },
   {
    "duration": -168,
    "start_time": "2022-01-31T21:32:20.081Z"
   },
   {
    "duration": -173,
    "start_time": "2022-01-31T21:32:20.087Z"
   },
   {
    "duration": -174,
    "start_time": "2022-01-31T21:32:20.089Z"
   },
   {
    "duration": -175,
    "start_time": "2022-01-31T21:32:20.091Z"
   },
   {
    "duration": -175,
    "start_time": "2022-01-31T21:32:20.092Z"
   },
   {
    "duration": -177,
    "start_time": "2022-01-31T21:32:20.094Z"
   },
   {
    "duration": -178,
    "start_time": "2022-01-31T21:32:20.096Z"
   },
   {
    "duration": -183,
    "start_time": "2022-01-31T21:32:20.102Z"
   },
   {
    "duration": -183,
    "start_time": "2022-01-31T21:32:20.104Z"
   },
   {
    "duration": -185,
    "start_time": "2022-01-31T21:32:20.106Z"
   },
   {
    "duration": -185,
    "start_time": "2022-01-31T21:32:20.107Z"
   },
   {
    "duration": -186,
    "start_time": "2022-01-31T21:32:20.109Z"
   },
   {
    "duration": -188,
    "start_time": "2022-01-31T21:32:20.111Z"
   },
   {
    "duration": -189,
    "start_time": "2022-01-31T21:32:20.113Z"
   },
   {
    "duration": -190,
    "start_time": "2022-01-31T21:32:20.115Z"
   },
   {
    "duration": -196,
    "start_time": "2022-01-31T21:32:20.121Z"
   },
   {
    "duration": -196,
    "start_time": "2022-01-31T21:32:20.122Z"
   },
   {
    "duration": -197,
    "start_time": "2022-01-31T21:32:20.124Z"
   },
   {
    "duration": -198,
    "start_time": "2022-01-31T21:32:20.126Z"
   },
   {
    "duration": -199,
    "start_time": "2022-01-31T21:32:20.128Z"
   },
   {
    "duration": -200,
    "start_time": "2022-01-31T21:32:20.129Z"
   },
   {
    "duration": -205,
    "start_time": "2022-01-31T21:32:20.135Z"
   },
   {
    "duration": -206,
    "start_time": "2022-01-31T21:32:20.137Z"
   },
   {
    "duration": -207,
    "start_time": "2022-01-31T21:32:20.139Z"
   },
   {
    "duration": -208,
    "start_time": "2022-01-31T21:32:20.141Z"
   },
   {
    "duration": -209,
    "start_time": "2022-01-31T21:32:20.142Z"
   },
   {
    "duration": -210,
    "start_time": "2022-01-31T21:32:20.144Z"
   },
   {
    "duration": -211,
    "start_time": "2022-01-31T21:32:20.146Z"
   },
   {
    "duration": -216,
    "start_time": "2022-01-31T21:32:20.152Z"
   },
   {
    "duration": -218,
    "start_time": "2022-01-31T21:32:20.154Z"
   },
   {
    "duration": -218,
    "start_time": "2022-01-31T21:32:20.155Z"
   },
   {
    "duration": 7,
    "start_time": "2022-01-31T21:34:18.162Z"
   },
   {
    "duration": 1210,
    "start_time": "2022-01-31T21:34:42.401Z"
   },
   {
    "duration": 5491,
    "start_time": "2022-01-31T21:34:43.613Z"
   },
   {
    "duration": 2,
    "start_time": "2022-01-31T21:34:49.106Z"
   },
   {
    "duration": 4,
    "start_time": "2022-01-31T21:34:49.110Z"
   },
   {
    "duration": 91,
    "start_time": "2022-01-31T21:34:49.116Z"
   },
   {
    "duration": 3,
    "start_time": "2022-01-31T21:34:49.209Z"
   },
   {
    "duration": 13,
    "start_time": "2022-01-31T21:34:49.214Z"
   },
   {
    "duration": 18,
    "start_time": "2022-01-31T21:34:49.230Z"
   },
   {
    "duration": 7,
    "start_time": "2022-01-31T21:34:49.250Z"
   },
   {
    "duration": 13,
    "start_time": "2022-01-31T21:34:49.258Z"
   },
   {
    "duration": 5,
    "start_time": "2022-01-31T21:34:49.273Z"
   },
   {
    "duration": 9,
    "start_time": "2022-01-31T21:34:49.280Z"
   },
   {
    "duration": 7,
    "start_time": "2022-01-31T21:34:49.291Z"
   },
   {
    "duration": 35,
    "start_time": "2022-01-31T21:34:49.299Z"
   },
   {
    "duration": 6,
    "start_time": "2022-01-31T21:34:49.336Z"
   },
   {
    "duration": 7,
    "start_time": "2022-01-31T21:34:49.343Z"
   },
   {
    "duration": 6,
    "start_time": "2022-01-31T21:34:49.352Z"
   },
   {
    "duration": 6,
    "start_time": "2022-01-31T21:34:49.360Z"
   },
   {
    "duration": 6,
    "start_time": "2022-01-31T21:34:49.368Z"
   },
   {
    "duration": 8,
    "start_time": "2022-01-31T21:34:49.375Z"
   },
   {
    "duration": 3,
    "start_time": "2022-01-31T21:34:49.384Z"
   },
   {
    "duration": 41,
    "start_time": "2022-01-31T21:34:49.388Z"
   },
   {
    "duration": 11,
    "start_time": "2022-01-31T21:34:49.432Z"
   },
   {
    "duration": 3,
    "start_time": "2022-01-31T21:34:49.446Z"
   },
   {
    "duration": 6,
    "start_time": "2022-01-31T21:34:49.451Z"
   },
   {
    "duration": 6,
    "start_time": "2022-01-31T21:34:49.459Z"
   },
   {
    "duration": 7,
    "start_time": "2022-01-31T21:34:49.466Z"
   },
   {
    "duration": 7,
    "start_time": "2022-01-31T21:34:49.475Z"
   },
   {
    "duration": 3,
    "start_time": "2022-01-31T21:34:49.484Z"
   },
   {
    "duration": 42,
    "start_time": "2022-01-31T21:34:49.489Z"
   },
   {
    "duration": 6,
    "start_time": "2022-01-31T21:34:49.532Z"
   },
   {
    "duration": 101,
    "start_time": "2022-01-31T21:34:49.539Z"
   },
   {
    "duration": 4,
    "start_time": "2022-01-31T21:34:49.642Z"
   },
   {
    "duration": 243,
    "start_time": "2022-01-31T21:34:49.648Z"
   },
   {
    "duration": 219,
    "start_time": "2022-01-31T21:34:49.893Z"
   },
   {
    "duration": 17,
    "start_time": "2022-01-31T21:34:50.114Z"
   },
   {
    "duration": 61,
    "start_time": "2022-01-31T21:34:50.132Z"
   },
   {
    "duration": 5,
    "start_time": "2022-01-31T21:34:50.195Z"
   },
   {
    "duration": 7,
    "start_time": "2022-01-31T21:34:50.202Z"
   },
   {
    "duration": 3,
    "start_time": "2022-01-31T21:34:50.227Z"
   },
   {
    "duration": 7,
    "start_time": "2022-01-31T21:34:50.231Z"
   },
   {
    "duration": 68,
    "start_time": "2022-01-31T21:34:50.239Z"
   },
   {
    "duration": 2,
    "start_time": "2022-01-31T21:34:50.309Z"
   },
   {
    "duration": 16,
    "start_time": "2022-01-31T21:34:50.313Z"
   },
   {
    "duration": 23,
    "start_time": "2022-01-31T21:34:50.330Z"
   },
   {
    "duration": 13,
    "start_time": "2022-01-31T21:34:50.354Z"
   },
   {
    "duration": 8,
    "start_time": "2022-01-31T21:34:50.368Z"
   },
   {
    "duration": 15,
    "start_time": "2022-01-31T21:34:50.377Z"
   },
   {
    "duration": 2,
    "start_time": "2022-01-31T21:34:50.393Z"
   },
   {
    "duration": 37,
    "start_time": "2022-01-31T21:34:50.396Z"
   },
   {
    "duration": 8,
    "start_time": "2022-01-31T21:34:50.435Z"
   },
   {
    "duration": 5,
    "start_time": "2022-01-31T21:34:50.444Z"
   },
   {
    "duration": 37,
    "start_time": "2022-01-31T21:34:50.450Z"
   },
   {
    "duration": 7,
    "start_time": "2022-01-31T21:34:50.488Z"
   },
   {
    "duration": 55,
    "start_time": "2022-01-31T21:34:50.496Z"
   },
   {
    "duration": 3,
    "start_time": "2022-01-31T21:34:50.552Z"
   },
   {
    "duration": 7,
    "start_time": "2022-01-31T21:34:50.557Z"
   },
   {
    "duration": 335,
    "start_time": "2022-01-31T21:34:50.565Z"
   },
   {
    "duration": 17,
    "start_time": "2022-01-31T21:34:50.901Z"
   },
   {
    "duration": 4,
    "start_time": "2022-01-31T21:34:50.927Z"
   },
   {
    "duration": 8,
    "start_time": "2022-01-31T21:34:50.932Z"
   },
   {
    "duration": 8,
    "start_time": "2022-01-31T21:34:50.941Z"
   },
   {
    "duration": 10,
    "start_time": "2022-01-31T21:34:50.950Z"
   },
   {
    "duration": 2680,
    "start_time": "2022-01-31T21:34:50.962Z"
   },
   {
    "duration": 4,
    "start_time": "2022-01-31T21:34:53.643Z"
   },
   {
    "duration": 8,
    "start_time": "2022-01-31T21:34:53.648Z"
   },
   {
    "duration": 8,
    "start_time": "2022-01-31T21:34:53.657Z"
   },
   {
    "duration": 5,
    "start_time": "2022-01-31T21:34:53.670Z"
   },
   {
    "duration": 434,
    "start_time": "2022-01-31T21:34:53.677Z"
   },
   {
    "duration": -95,
    "start_time": "2022-01-31T21:34:54.208Z"
   },
   {
    "duration": -96,
    "start_time": "2022-01-31T21:34:54.210Z"
   },
   {
    "duration": -97,
    "start_time": "2022-01-31T21:34:54.212Z"
   },
   {
    "duration": -98,
    "start_time": "2022-01-31T21:34:54.214Z"
   },
   {
    "duration": -100,
    "start_time": "2022-01-31T21:34:54.216Z"
   },
   {
    "duration": -102,
    "start_time": "2022-01-31T21:34:54.219Z"
   },
   {
    "duration": -103,
    "start_time": "2022-01-31T21:34:54.221Z"
   },
   {
    "duration": -105,
    "start_time": "2022-01-31T21:34:54.224Z"
   },
   {
    "duration": -106,
    "start_time": "2022-01-31T21:34:54.226Z"
   },
   {
    "duration": -107,
    "start_time": "2022-01-31T21:34:54.228Z"
   },
   {
    "duration": -115,
    "start_time": "2022-01-31T21:34:54.237Z"
   },
   {
    "duration": -116,
    "start_time": "2022-01-31T21:34:54.239Z"
   },
   {
    "duration": -118,
    "start_time": "2022-01-31T21:34:54.241Z"
   },
   {
    "duration": -119,
    "start_time": "2022-01-31T21:34:54.243Z"
   },
   {
    "duration": -120,
    "start_time": "2022-01-31T21:34:54.245Z"
   },
   {
    "duration": -121,
    "start_time": "2022-01-31T21:34:54.247Z"
   },
   {
    "duration": -122,
    "start_time": "2022-01-31T21:34:54.249Z"
   },
   {
    "duration": -123,
    "start_time": "2022-01-31T21:34:54.251Z"
   },
   {
    "duration": -126,
    "start_time": "2022-01-31T21:34:54.254Z"
   },
   {
    "duration": -126,
    "start_time": "2022-01-31T21:34:54.255Z"
   },
   {
    "duration": -127,
    "start_time": "2022-01-31T21:34:54.257Z"
   },
   {
    "duration": -128,
    "start_time": "2022-01-31T21:34:54.259Z"
   },
   {
    "duration": -128,
    "start_time": "2022-01-31T21:34:54.260Z"
   },
   {
    "duration": -129,
    "start_time": "2022-01-31T21:34:54.262Z"
   },
   {
    "duration": -131,
    "start_time": "2022-01-31T21:34:54.264Z"
   },
   {
    "duration": -131,
    "start_time": "2022-01-31T21:34:54.265Z"
   },
   {
    "duration": -133,
    "start_time": "2022-01-31T21:34:54.268Z"
   },
   {
    "duration": -135,
    "start_time": "2022-01-31T21:34:54.271Z"
   },
   {
    "duration": -135,
    "start_time": "2022-01-31T21:34:54.272Z"
   },
   {
    "duration": -136,
    "start_time": "2022-01-31T21:34:54.274Z"
   },
   {
    "duration": -138,
    "start_time": "2022-01-31T21:34:54.276Z"
   },
   {
    "duration": -139,
    "start_time": "2022-01-31T21:34:54.278Z"
   },
   {
    "duration": -140,
    "start_time": "2022-01-31T21:34:54.280Z"
   },
   {
    "duration": -140,
    "start_time": "2022-01-31T21:34:54.281Z"
   },
   {
    "duration": -143,
    "start_time": "2022-01-31T21:34:54.284Z"
   },
   {
    "duration": -144,
    "start_time": "2022-01-31T21:34:54.286Z"
   },
   {
    "duration": -145,
    "start_time": "2022-01-31T21:34:54.288Z"
   },
   {
    "duration": -145,
    "start_time": "2022-01-31T21:34:54.289Z"
   },
   {
    "duration": -147,
    "start_time": "2022-01-31T21:34:54.291Z"
   },
   {
    "duration": -148,
    "start_time": "2022-01-31T21:34:54.293Z"
   },
   {
    "duration": 3,
    "start_time": "2022-01-31T21:35:38.493Z"
   },
   {
    "duration": 1165,
    "start_time": "2022-01-31T21:36:34.531Z"
   },
   {
    "duration": 6192,
    "start_time": "2022-01-31T21:36:35.698Z"
   },
   {
    "duration": 3,
    "start_time": "2022-01-31T21:36:41.893Z"
   },
   {
    "duration": 4,
    "start_time": "2022-01-31T21:36:41.898Z"
   },
   {
    "duration": 172,
    "start_time": "2022-01-31T21:36:41.903Z"
   },
   {
    "duration": 5,
    "start_time": "2022-01-31T21:36:42.076Z"
   },
   {
    "duration": 13,
    "start_time": "2022-01-31T21:36:42.082Z"
   },
   {
    "duration": 19,
    "start_time": "2022-01-31T21:36:42.097Z"
   },
   {
    "duration": 7,
    "start_time": "2022-01-31T21:36:42.118Z"
   },
   {
    "duration": 11,
    "start_time": "2022-01-31T21:36:42.127Z"
   },
   {
    "duration": 6,
    "start_time": "2022-01-31T21:36:42.139Z"
   },
   {
    "duration": 10,
    "start_time": "2022-01-31T21:36:42.146Z"
   },
   {
    "duration": 6,
    "start_time": "2022-01-31T21:36:42.158Z"
   },
   {
    "duration": 6,
    "start_time": "2022-01-31T21:36:42.166Z"
   },
   {
    "duration": 7,
    "start_time": "2022-01-31T21:36:42.173Z"
   },
   {
    "duration": 7,
    "start_time": "2022-01-31T21:36:42.181Z"
   },
   {
    "duration": 7,
    "start_time": "2022-01-31T21:36:42.190Z"
   },
   {
    "duration": 31,
    "start_time": "2022-01-31T21:36:42.199Z"
   },
   {
    "duration": 6,
    "start_time": "2022-01-31T21:36:42.231Z"
   },
   {
    "duration": 9,
    "start_time": "2022-01-31T21:36:42.239Z"
   },
   {
    "duration": 3,
    "start_time": "2022-01-31T21:36:42.249Z"
   },
   {
    "duration": 5,
    "start_time": "2022-01-31T21:36:42.253Z"
   },
   {
    "duration": 10,
    "start_time": "2022-01-31T21:36:42.262Z"
   },
   {
    "duration": 5,
    "start_time": "2022-01-31T21:36:42.274Z"
   },
   {
    "duration": 7,
    "start_time": "2022-01-31T21:36:42.280Z"
   },
   {
    "duration": 5,
    "start_time": "2022-01-31T21:36:42.288Z"
   },
   {
    "duration": 34,
    "start_time": "2022-01-31T21:36:42.294Z"
   },
   {
    "duration": 6,
    "start_time": "2022-01-31T21:36:42.329Z"
   },
   {
    "duration": 4,
    "start_time": "2022-01-31T21:36:42.336Z"
   },
   {
    "duration": 10,
    "start_time": "2022-01-31T21:36:42.342Z"
   },
   {
    "duration": 6,
    "start_time": "2022-01-31T21:36:42.354Z"
   },
   {
    "duration": 96,
    "start_time": "2022-01-31T21:36:42.362Z"
   },
   {
    "duration": 5,
    "start_time": "2022-01-31T21:36:42.460Z"
   },
   {
    "duration": 234,
    "start_time": "2022-01-31T21:36:42.467Z"
   },
   {
    "duration": 218,
    "start_time": "2022-01-31T21:36:42.703Z"
   },
   {
    "duration": 10,
    "start_time": "2022-01-31T21:36:42.922Z"
   },
   {
    "duration": 62,
    "start_time": "2022-01-31T21:36:42.933Z"
   },
   {
    "duration": 6,
    "start_time": "2022-01-31T21:36:42.996Z"
   },
   {
    "duration": 25,
    "start_time": "2022-01-31T21:36:43.003Z"
   },
   {
    "duration": 3,
    "start_time": "2022-01-31T21:36:43.030Z"
   },
   {
    "duration": 4,
    "start_time": "2022-01-31T21:36:43.035Z"
   },
   {
    "duration": 66,
    "start_time": "2022-01-31T21:36:43.040Z"
   },
   {
    "duration": 3,
    "start_time": "2022-01-31T21:36:43.107Z"
   },
   {
    "duration": 17,
    "start_time": "2022-01-31T21:36:43.111Z"
   },
   {
    "duration": 24,
    "start_time": "2022-01-31T21:36:43.129Z"
   },
   {
    "duration": 12,
    "start_time": "2022-01-31T21:36:43.154Z"
   },
   {
    "duration": 9,
    "start_time": "2022-01-31T21:36:43.167Z"
   },
   {
    "duration": 15,
    "start_time": "2022-01-31T21:36:43.177Z"
   },
   {
    "duration": 34,
    "start_time": "2022-01-31T21:36:43.193Z"
   },
   {
    "duration": 6,
    "start_time": "2022-01-31T21:36:43.228Z"
   },
   {
    "duration": 9,
    "start_time": "2022-01-31T21:36:43.235Z"
   },
   {
    "duration": 6,
    "start_time": "2022-01-31T21:36:43.246Z"
   },
   {
    "duration": 36,
    "start_time": "2022-01-31T21:36:43.253Z"
   },
   {
    "duration": 5,
    "start_time": "2022-01-31T21:36:43.290Z"
   },
   {
    "duration": 60,
    "start_time": "2022-01-31T21:36:43.296Z"
   },
   {
    "duration": 3,
    "start_time": "2022-01-31T21:36:43.358Z"
   },
   {
    "duration": 5,
    "start_time": "2022-01-31T21:36:43.363Z"
   },
   {
    "duration": 363,
    "start_time": "2022-01-31T21:36:43.370Z"
   },
   {
    "duration": 18,
    "start_time": "2022-01-31T21:36:43.734Z"
   },
   {
    "duration": 4,
    "start_time": "2022-01-31T21:36:43.754Z"
   },
   {
    "duration": 7,
    "start_time": "2022-01-31T21:36:43.759Z"
   },
   {
    "duration": 5,
    "start_time": "2022-01-31T21:36:43.767Z"
   },
   {
    "duration": 7,
    "start_time": "2022-01-31T21:36:43.773Z"
   },
   {
    "duration": 2630,
    "start_time": "2022-01-31T21:36:43.781Z"
   },
   {
    "duration": 4,
    "start_time": "2022-01-31T21:36:46.412Z"
   },
   {
    "duration": 5,
    "start_time": "2022-01-31T21:36:46.427Z"
   },
   {
    "duration": 18,
    "start_time": "2022-01-31T21:36:46.433Z"
   },
   {
    "duration": 18,
    "start_time": "2022-01-31T21:36:46.455Z"
   },
   {
    "duration": 11,
    "start_time": "2022-01-31T21:36:46.474Z"
   },
   {
    "duration": 24,
    "start_time": "2022-01-31T21:36:46.487Z"
   },
   {
    "duration": 19,
    "start_time": "2022-01-31T21:36:46.512Z"
   },
   {
    "duration": 9,
    "start_time": "2022-01-31T21:36:46.533Z"
   },
   {
    "duration": 13,
    "start_time": "2022-01-31T21:36:46.543Z"
   },
   {
    "duration": 514,
    "start_time": "2022-01-31T21:36:46.557Z"
   },
   {
    "duration": 27,
    "start_time": "2022-01-31T21:36:47.073Z"
   },
   {
    "duration": 5,
    "start_time": "2022-01-31T21:36:47.102Z"
   },
   {
    "duration": 45,
    "start_time": "2022-01-31T21:36:47.108Z"
   },
   {
    "duration": 28,
    "start_time": "2022-01-31T21:36:47.154Z"
   },
   {
    "duration": 139,
    "start_time": "2022-01-31T21:36:47.184Z"
   },
   {
    "duration": 160,
    "start_time": "2022-01-31T21:36:47.324Z"
   },
   {
    "duration": 11,
    "start_time": "2022-01-31T21:36:47.485Z"
   },
   {
    "duration": 501,
    "start_time": "2022-01-31T21:36:47.497Z"
   },
   {
    "duration": 3,
    "start_time": "2022-01-31T21:36:47.999Z"
   },
   {
    "duration": 6,
    "start_time": "2022-01-31T21:36:48.003Z"
   },
   {
    "duration": 4,
    "start_time": "2022-01-31T21:36:48.010Z"
   },
   {
    "duration": 16,
    "start_time": "2022-01-31T21:36:48.015Z"
   },
   {
    "duration": 4,
    "start_time": "2022-01-31T21:36:48.032Z"
   },
   {
    "duration": 466,
    "start_time": "2022-01-31T21:36:48.037Z"
   },
   {
    "duration": 35,
    "start_time": "2022-01-31T21:36:48.504Z"
   },
   {
    "duration": 8,
    "start_time": "2022-01-31T21:36:48.540Z"
   },
   {
    "duration": 113,
    "start_time": "2022-01-31T21:36:48.549Z"
   },
   {
    "duration": 12,
    "start_time": "2022-01-31T21:36:48.664Z"
   },
   {
    "duration": 29569,
    "start_time": "2022-01-31T21:36:48.678Z"
   },
   {
    "duration": 8,
    "start_time": "2022-01-31T21:37:18.249Z"
   },
   {
    "duration": 122,
    "start_time": "2022-01-31T21:37:18.258Z"
   },
   {
    "duration": 111,
    "start_time": "2022-01-31T21:37:18.381Z"
   },
   {
    "duration": 3,
    "start_time": "2022-01-31T21:37:18.494Z"
   },
   {
    "duration": 2411,
    "start_time": "2022-01-31T21:37:18.499Z"
   },
   {
    "duration": 501,
    "start_time": "2022-01-31T21:37:20.911Z"
   },
   {
    "duration": 5,
    "start_time": "2022-01-31T21:37:21.409Z"
   },
   {
    "duration": 2,
    "start_time": "2022-01-31T21:37:21.413Z"
   },
   {
    "duration": -3,
    "start_time": "2022-01-31T21:37:21.418Z"
   },
   {
    "duration": -11,
    "start_time": "2022-01-31T21:37:21.427Z"
   },
   {
    "duration": -12,
    "start_time": "2022-01-31T21:37:21.429Z"
   },
   {
    "duration": -14,
    "start_time": "2022-01-31T21:37:21.432Z"
   },
   {
    "duration": -15,
    "start_time": "2022-01-31T21:37:21.434Z"
   },
   {
    "duration": -22,
    "start_time": "2022-01-31T21:37:21.442Z"
   },
   {
    "duration": -23,
    "start_time": "2022-01-31T21:37:21.444Z"
   },
   {
    "duration": -25,
    "start_time": "2022-01-31T21:37:21.447Z"
   },
   {
    "duration": 3,
    "start_time": "2022-01-31T21:38:24.705Z"
   },
   {
    "duration": 2355,
    "start_time": "2022-01-31T21:38:34.696Z"
   },
   {
    "duration": -112,
    "start_time": "2022-01-31T21:38:37.165Z"
   },
   {
    "duration": -114,
    "start_time": "2022-01-31T21:38:37.168Z"
   },
   {
    "duration": -121,
    "start_time": "2022-01-31T21:38:37.177Z"
   },
   {
    "duration": -123,
    "start_time": "2022-01-31T21:38:37.180Z"
   },
   {
    "duration": -124,
    "start_time": "2022-01-31T21:38:37.182Z"
   },
   {
    "duration": -125,
    "start_time": "2022-01-31T21:38:37.185Z"
   },
   {
    "duration": -126,
    "start_time": "2022-01-31T21:38:37.187Z"
   },
   {
    "duration": -133,
    "start_time": "2022-01-31T21:38:37.195Z"
   },
   {
    "duration": -135,
    "start_time": "2022-01-31T21:38:37.198Z"
   },
   {
    "duration": 4,
    "start_time": "2022-01-31T21:38:51.785Z"
   },
   {
    "duration": 2455,
    "start_time": "2022-01-31T21:38:52.118Z"
   },
   {
    "duration": 1322,
    "start_time": "2022-01-31T21:40:05.250Z"
   },
   {
    "duration": 24957,
    "start_time": "2022-01-31T21:40:27.227Z"
   },
   {
    "duration": 337,
    "start_time": "2022-01-31T21:40:59.542Z"
   },
   {
    "duration": 1183,
    "start_time": "2022-01-31T21:43:20.016Z"
   },
   {
    "duration": 6193,
    "start_time": "2022-01-31T21:43:21.201Z"
   },
   {
    "duration": 2,
    "start_time": "2022-01-31T21:43:27.397Z"
   },
   {
    "duration": 4,
    "start_time": "2022-01-31T21:43:27.401Z"
   },
   {
    "duration": 91,
    "start_time": "2022-01-31T21:43:27.407Z"
   },
   {
    "duration": 4,
    "start_time": "2022-01-31T21:43:27.500Z"
   },
   {
    "duration": 14,
    "start_time": "2022-01-31T21:43:27.506Z"
   },
   {
    "duration": 17,
    "start_time": "2022-01-31T21:43:27.523Z"
   },
   {
    "duration": 8,
    "start_time": "2022-01-31T21:43:27.542Z"
   },
   {
    "duration": 11,
    "start_time": "2022-01-31T21:43:27.552Z"
   },
   {
    "duration": 5,
    "start_time": "2022-01-31T21:43:27.565Z"
   },
   {
    "duration": 9,
    "start_time": "2022-01-31T21:43:27.572Z"
   },
   {
    "duration": 6,
    "start_time": "2022-01-31T21:43:27.583Z"
   },
   {
    "duration": 38,
    "start_time": "2022-01-31T21:43:27.590Z"
   },
   {
    "duration": 5,
    "start_time": "2022-01-31T21:43:27.629Z"
   },
   {
    "duration": 7,
    "start_time": "2022-01-31T21:43:27.635Z"
   },
   {
    "duration": 9,
    "start_time": "2022-01-31T21:43:27.644Z"
   },
   {
    "duration": 9,
    "start_time": "2022-01-31T21:43:27.654Z"
   },
   {
    "duration": 7,
    "start_time": "2022-01-31T21:43:27.665Z"
   },
   {
    "duration": 8,
    "start_time": "2022-01-31T21:43:27.674Z"
   },
   {
    "duration": 4,
    "start_time": "2022-01-31T21:43:27.684Z"
   },
   {
    "duration": 6,
    "start_time": "2022-01-31T21:43:27.689Z"
   },
   {
    "duration": 12,
    "start_time": "2022-01-31T21:43:27.727Z"
   },
   {
    "duration": 6,
    "start_time": "2022-01-31T21:43:27.742Z"
   },
   {
    "duration": 7,
    "start_time": "2022-01-31T21:43:27.749Z"
   },
   {
    "duration": 7,
    "start_time": "2022-01-31T21:43:27.758Z"
   },
   {
    "duration": 9,
    "start_time": "2022-01-31T21:43:27.766Z"
   },
   {
    "duration": 7,
    "start_time": "2022-01-31T21:43:27.777Z"
   },
   {
    "duration": 3,
    "start_time": "2022-01-31T21:43:27.786Z"
   },
   {
    "duration": 42,
    "start_time": "2022-01-31T21:43:27.790Z"
   },
   {
    "duration": 7,
    "start_time": "2022-01-31T21:43:27.834Z"
   },
   {
    "duration": 89,
    "start_time": "2022-01-31T21:43:27.843Z"
   },
   {
    "duration": 5,
    "start_time": "2022-01-31T21:43:27.934Z"
   },
   {
    "duration": 232,
    "start_time": "2022-01-31T21:43:27.941Z"
   },
   {
    "duration": 227,
    "start_time": "2022-01-31T21:43:28.175Z"
   },
   {
    "duration": 8,
    "start_time": "2022-01-31T21:43:28.403Z"
   },
   {
    "duration": 80,
    "start_time": "2022-01-31T21:43:28.412Z"
   },
   {
    "duration": 8,
    "start_time": "2022-01-31T21:43:28.494Z"
   },
   {
    "duration": 24,
    "start_time": "2022-01-31T21:43:28.504Z"
   },
   {
    "duration": 12,
    "start_time": "2022-01-31T21:43:28.529Z"
   },
   {
    "duration": 12,
    "start_time": "2022-01-31T21:43:28.543Z"
   },
   {
    "duration": 100,
    "start_time": "2022-01-31T21:43:28.557Z"
   },
   {
    "duration": 4,
    "start_time": "2022-01-31T21:43:28.659Z"
   },
   {
    "duration": 11,
    "start_time": "2022-01-31T21:43:28.665Z"
   },
   {
    "duration": 24,
    "start_time": "2022-01-31T21:43:28.677Z"
   },
   {
    "duration": 34,
    "start_time": "2022-01-31T21:43:28.702Z"
   },
   {
    "duration": 10,
    "start_time": "2022-01-31T21:43:28.738Z"
   },
   {
    "duration": 18,
    "start_time": "2022-01-31T21:43:28.750Z"
   },
   {
    "duration": 4,
    "start_time": "2022-01-31T21:43:28.769Z"
   },
   {
    "duration": 9,
    "start_time": "2022-01-31T21:43:28.775Z"
   },
   {
    "duration": 13,
    "start_time": "2022-01-31T21:43:28.785Z"
   },
   {
    "duration": 6,
    "start_time": "2022-01-31T21:43:28.799Z"
   },
   {
    "duration": 52,
    "start_time": "2022-01-31T21:43:28.806Z"
   },
   {
    "duration": 2,
    "start_time": "2022-01-31T21:43:28.860Z"
   },
   {
    "duration": 38,
    "start_time": "2022-01-31T21:43:28.863Z"
   },
   {
    "duration": 3,
    "start_time": "2022-01-31T21:43:28.902Z"
   },
   {
    "duration": 22,
    "start_time": "2022-01-31T21:43:28.907Z"
   },
   {
    "duration": 344,
    "start_time": "2022-01-31T21:43:28.931Z"
   },
   {
    "duration": 23,
    "start_time": "2022-01-31T21:43:29.277Z"
   },
   {
    "duration": 4,
    "start_time": "2022-01-31T21:43:29.301Z"
   },
   {
    "duration": 5,
    "start_time": "2022-01-31T21:43:29.307Z"
   },
   {
    "duration": 16,
    "start_time": "2022-01-31T21:43:29.313Z"
   },
   {
    "duration": 8,
    "start_time": "2022-01-31T21:43:29.330Z"
   },
   {
    "duration": 2615,
    "start_time": "2022-01-31T21:43:29.340Z"
   },
   {
    "duration": 4,
    "start_time": "2022-01-31T21:43:31.956Z"
   },
   {
    "duration": 9,
    "start_time": "2022-01-31T21:43:31.961Z"
   },
   {
    "duration": 9,
    "start_time": "2022-01-31T21:43:31.971Z"
   },
   {
    "duration": 6,
    "start_time": "2022-01-31T21:43:31.986Z"
   },
   {
    "duration": 2,
    "start_time": "2022-01-31T21:43:32.027Z"
   },
   {
    "duration": 16,
    "start_time": "2022-01-31T21:43:32.031Z"
   },
   {
    "duration": 11,
    "start_time": "2022-01-31T21:43:32.049Z"
   },
   {
    "duration": 9,
    "start_time": "2022-01-31T21:43:32.061Z"
   },
   {
    "duration": 2,
    "start_time": "2022-01-31T21:43:32.072Z"
   },
   {
    "duration": 778,
    "start_time": "2022-01-31T21:43:32.076Z"
   },
   {
    "duration": 39,
    "start_time": "2022-01-31T21:43:32.855Z"
   },
   {
    "duration": 7,
    "start_time": "2022-01-31T21:43:32.896Z"
   },
   {
    "duration": 55,
    "start_time": "2022-01-31T21:43:32.905Z"
   },
   {
    "duration": 41,
    "start_time": "2022-01-31T21:43:32.962Z"
   },
   {
    "duration": 206,
    "start_time": "2022-01-31T21:43:33.005Z"
   },
   {
    "duration": 232,
    "start_time": "2022-01-31T21:43:33.213Z"
   },
   {
    "duration": 15,
    "start_time": "2022-01-31T21:43:33.446Z"
   },
   {
    "duration": 746,
    "start_time": "2022-01-31T21:43:33.462Z"
   },
   {
    "duration": 3,
    "start_time": "2022-01-31T21:43:34.209Z"
   },
   {
    "duration": 16,
    "start_time": "2022-01-31T21:43:34.214Z"
   },
   {
    "duration": 5,
    "start_time": "2022-01-31T21:43:34.231Z"
   },
   {
    "duration": 10,
    "start_time": "2022-01-31T21:43:34.238Z"
   },
   {
    "duration": 2,
    "start_time": "2022-01-31T21:43:34.250Z"
   },
   {
    "duration": 718,
    "start_time": "2022-01-31T21:43:34.254Z"
   },
   {
    "duration": 39,
    "start_time": "2022-01-31T21:43:34.973Z"
   },
   {
    "duration": 21,
    "start_time": "2022-01-31T21:43:35.013Z"
   },
   {
    "duration": 115,
    "start_time": "2022-01-31T21:43:35.035Z"
   },
   {
    "duration": 13,
    "start_time": "2022-01-31T21:43:35.152Z"
   },
   {
    "duration": 31505,
    "start_time": "2022-01-31T21:43:35.166Z"
   },
   {
    "duration": 9,
    "start_time": "2022-01-31T21:44:06.673Z"
   },
   {
    "duration": 190,
    "start_time": "2022-01-31T21:44:06.684Z"
   },
   {
    "duration": 180,
    "start_time": "2022-01-31T21:44:06.876Z"
   },
   {
    "duration": 4,
    "start_time": "2022-01-31T21:44:07.058Z"
   },
   {
    "duration": 1700,
    "start_time": "2022-01-31T21:44:07.063Z"
   },
   {
    "duration": 3,
    "start_time": "2022-01-31T21:44:08.765Z"
   },
   {
    "duration": 17500,
    "start_time": "2022-01-31T21:44:08.770Z"
   },
   {
    "duration": 15,
    "start_time": "2022-01-31T21:44:26.272Z"
   },
   {
    "duration": 16,
    "start_time": "2022-01-31T21:44:26.288Z"
   },
   {
    "duration": 16606,
    "start_time": "2022-01-31T21:44:26.306Z"
   },
   {
    "duration": 360,
    "start_time": "2022-01-31T21:44:42.914Z"
   },
   {
    "duration": -40,
    "start_time": "2022-01-31T21:44:43.316Z"
   },
   {
    "duration": -43,
    "start_time": "2022-01-31T21:44:43.320Z"
   },
   {
    "duration": -69,
    "start_time": "2022-01-31T21:44:43.347Z"
   },
   {
    "duration": -77,
    "start_time": "2022-01-31T21:44:43.356Z"
   },
   {
    "duration": -79,
    "start_time": "2022-01-31T21:44:43.359Z"
   },
   {
    "duration": 167415,
    "start_time": "2022-01-31T21:46:02.380Z"
   },
   {
    "duration": 8,
    "start_time": "2022-01-31T21:49:42.009Z"
   },
   {
    "duration": 8,
    "start_time": "2022-01-31T21:49:46.184Z"
   },
   {
    "duration": 9,
    "start_time": "2022-01-31T21:49:46.194Z"
   },
   {
    "duration": 33810,
    "start_time": "2022-01-31T21:49:46.205Z"
   },
   {
    "duration": 327,
    "start_time": "2022-01-31T21:50:20.016Z"
   },
   {
    "duration": -182,
    "start_time": "2022-01-31T21:50:20.526Z"
   },
   {
    "duration": -186,
    "start_time": "2022-01-31T21:50:20.531Z"
   },
   {
    "duration": 55414,
    "start_time": "2022-01-31T21:51:03.976Z"
   },
   {
    "duration": 8,
    "start_time": "2022-01-31T21:52:48.607Z"
   },
   {
    "duration": 9,
    "start_time": "2022-01-31T21:52:49.544Z"
   },
   {
    "duration": 140,
    "start_time": "2022-01-31T21:52:53.296Z"
   },
   {
    "duration": 1519,
    "start_time": "2022-02-01T07:19:01.502Z"
   },
   {
    "duration": 23781,
    "start_time": "2022-02-01T07:19:03.024Z"
   },
   {
    "duration": 3,
    "start_time": "2022-02-01T07:19:26.808Z"
   },
   {
    "duration": 5,
    "start_time": "2022-02-01T07:19:26.814Z"
   },
   {
    "duration": 266,
    "start_time": "2022-02-01T07:19:26.821Z"
   },
   {
    "duration": 5,
    "start_time": "2022-02-01T07:19:27.090Z"
   },
   {
    "duration": 21,
    "start_time": "2022-02-01T07:19:27.097Z"
   },
   {
    "duration": 41,
    "start_time": "2022-02-01T07:19:27.122Z"
   },
   {
    "duration": 13,
    "start_time": "2022-02-01T07:19:27.167Z"
   },
   {
    "duration": 18,
    "start_time": "2022-02-01T07:19:27.183Z"
   },
   {
    "duration": 10,
    "start_time": "2022-02-01T07:19:27.203Z"
   },
   {
    "duration": 55,
    "start_time": "2022-02-01T07:19:27.216Z"
   },
   {
    "duration": 12,
    "start_time": "2022-02-01T07:19:27.274Z"
   },
   {
    "duration": 13,
    "start_time": "2022-02-01T07:19:27.288Z"
   },
   {
    "duration": 10,
    "start_time": "2022-02-01T07:19:27.304Z"
   },
   {
    "duration": 52,
    "start_time": "2022-02-01T07:19:27.317Z"
   },
   {
    "duration": 11,
    "start_time": "2022-02-01T07:19:27.373Z"
   },
   {
    "duration": 7,
    "start_time": "2022-02-01T07:19:27.386Z"
   },
   {
    "duration": 7,
    "start_time": "2022-02-01T07:19:27.396Z"
   },
   {
    "duration": 13,
    "start_time": "2022-02-01T07:19:27.406Z"
   },
   {
    "duration": 43,
    "start_time": "2022-02-01T07:19:27.421Z"
   },
   {
    "duration": 16,
    "start_time": "2022-02-01T07:19:27.467Z"
   },
   {
    "duration": 19,
    "start_time": "2022-02-01T07:19:27.488Z"
   },
   {
    "duration": 6,
    "start_time": "2022-02-01T07:19:27.510Z"
   },
   {
    "duration": 45,
    "start_time": "2022-02-01T07:19:27.519Z"
   },
   {
    "duration": 10,
    "start_time": "2022-02-01T07:19:27.567Z"
   },
   {
    "duration": 11,
    "start_time": "2022-02-01T07:19:27.580Z"
   },
   {
    "duration": 12,
    "start_time": "2022-02-01T07:19:27.593Z"
   },
   {
    "duration": 5,
    "start_time": "2022-02-01T07:19:27.608Z"
   },
   {
    "duration": 48,
    "start_time": "2022-02-01T07:19:27.615Z"
   },
   {
    "duration": 9,
    "start_time": "2022-02-01T07:19:27.667Z"
   },
   {
    "duration": 210,
    "start_time": "2022-02-01T07:19:27.680Z"
   },
   {
    "duration": 8,
    "start_time": "2022-02-01T07:19:27.894Z"
   },
   {
    "duration": 2673,
    "start_time": "2022-02-01T07:19:27.905Z"
   },
   {
    "duration": 56,
    "start_time": "2022-02-01T07:20:13.186Z"
   },
   {
    "duration": 63,
    "start_time": "2022-02-01T07:20:19.458Z"
   },
   {
    "duration": 73,
    "start_time": "2022-02-01T07:20:31.231Z"
   },
   {
    "duration": 529,
    "start_time": "2022-02-01T07:22:31.665Z"
   },
   {
    "duration": 377,
    "start_time": "2022-02-01T07:28:09.479Z"
   },
   {
    "duration": 1660,
    "start_time": "2022-02-01T07:28:23.975Z"
   },
   {
    "duration": 10031,
    "start_time": "2022-02-01T07:28:25.638Z"
   },
   {
    "duration": 3,
    "start_time": "2022-02-01T07:28:35.673Z"
   },
   {
    "duration": 9,
    "start_time": "2022-02-01T07:28:35.680Z"
   },
   {
    "duration": 121,
    "start_time": "2022-02-01T07:28:35.692Z"
   },
   {
    "duration": 6,
    "start_time": "2022-02-01T07:28:35.816Z"
   },
   {
    "duration": 27,
    "start_time": "2022-02-01T07:28:35.824Z"
   },
   {
    "duration": 39,
    "start_time": "2022-02-01T07:28:35.854Z"
   },
   {
    "duration": 13,
    "start_time": "2022-02-01T07:28:35.897Z"
   },
   {
    "duration": 51,
    "start_time": "2022-02-01T07:28:35.913Z"
   },
   {
    "duration": 13,
    "start_time": "2022-02-01T07:28:35.967Z"
   },
   {
    "duration": 17,
    "start_time": "2022-02-01T07:28:35.983Z"
   },
   {
    "duration": 11,
    "start_time": "2022-02-01T07:28:36.003Z"
   },
   {
    "duration": 20,
    "start_time": "2022-02-01T07:28:36.058Z"
   },
   {
    "duration": 9,
    "start_time": "2022-02-01T07:28:36.081Z"
   },
   {
    "duration": 13,
    "start_time": "2022-02-01T07:28:36.092Z"
   },
   {
    "duration": 10,
    "start_time": "2022-02-01T07:28:36.108Z"
   },
   {
    "duration": 49,
    "start_time": "2022-02-01T07:28:36.121Z"
   },
   {
    "duration": 13,
    "start_time": "2022-02-01T07:28:36.172Z"
   },
   {
    "duration": 14,
    "start_time": "2022-02-01T07:28:36.188Z"
   },
   {
    "duration": 5,
    "start_time": "2022-02-01T07:28:36.204Z"
   },
   {
    "duration": 6,
    "start_time": "2022-02-01T07:28:36.212Z"
   },
   {
    "duration": 60,
    "start_time": "2022-02-01T07:28:36.224Z"
   },
   {
    "duration": 8,
    "start_time": "2022-02-01T07:28:36.290Z"
   },
   {
    "duration": 11,
    "start_time": "2022-02-01T07:28:36.301Z"
   },
   {
    "duration": 49,
    "start_time": "2022-02-01T07:28:36.316Z"
   },
   {
    "duration": 12,
    "start_time": "2022-02-01T07:28:36.369Z"
   },
   {
    "duration": 12,
    "start_time": "2022-02-01T07:28:36.384Z"
   },
   {
    "duration": 4,
    "start_time": "2022-02-01T07:28:36.398Z"
   },
   {
    "duration": 9,
    "start_time": "2022-02-01T07:28:36.405Z"
   },
   {
    "duration": 52,
    "start_time": "2022-02-01T07:28:36.416Z"
   },
   {
    "duration": 166,
    "start_time": "2022-02-01T07:28:36.472Z"
   },
   {
    "duration": 7,
    "start_time": "2022-02-01T07:28:36.640Z"
   },
   {
    "duration": 445,
    "start_time": "2022-02-01T07:28:36.660Z"
   },
   {
    "duration": 539,
    "start_time": "2022-02-01T07:28:37.108Z"
   },
   {
    "duration": 351,
    "start_time": "2022-02-01T07:28:37.649Z"
   },
   {
    "duration": 17,
    "start_time": "2022-02-01T07:28:38.003Z"
   },
   {
    "duration": 143,
    "start_time": "2022-02-01T07:28:38.023Z"
   },
   {
    "duration": 9,
    "start_time": "2022-02-01T07:28:38.171Z"
   },
   {
    "duration": 11,
    "start_time": "2022-02-01T07:28:38.183Z"
   },
   {
    "duration": 4,
    "start_time": "2022-02-01T07:28:38.197Z"
   },
   {
    "duration": 5,
    "start_time": "2022-02-01T07:28:38.203Z"
   },
   {
    "duration": 161,
    "start_time": "2022-02-01T07:28:38.210Z"
   },
   {
    "duration": 4,
    "start_time": "2022-02-01T07:28:38.373Z"
   },
   {
    "duration": 11,
    "start_time": "2022-02-01T07:28:38.379Z"
   },
   {
    "duration": 67,
    "start_time": "2022-02-01T07:28:38.392Z"
   },
   {
    "duration": 21,
    "start_time": "2022-02-01T07:28:38.461Z"
   },
   {
    "duration": 12,
    "start_time": "2022-02-01T07:28:38.485Z"
   },
   {
    "duration": 29,
    "start_time": "2022-02-01T07:28:38.500Z"
   },
   {
    "duration": 5,
    "start_time": "2022-02-01T07:28:38.561Z"
   },
   {
    "duration": 13,
    "start_time": "2022-02-01T07:28:38.570Z"
   },
   {
    "duration": 12,
    "start_time": "2022-02-01T07:28:38.586Z"
   },
   {
    "duration": 9,
    "start_time": "2022-02-01T07:28:38.600Z"
   },
   {
    "duration": 103,
    "start_time": "2022-02-01T07:28:38.612Z"
   },
   {
    "duration": 4,
    "start_time": "2022-02-01T07:28:38.717Z"
   },
   {
    "duration": 93,
    "start_time": "2022-02-01T07:28:38.724Z"
   },
   {
    "duration": 5,
    "start_time": "2022-02-01T07:28:38.819Z"
   },
   {
    "duration": 8,
    "start_time": "2022-02-01T07:28:38.826Z"
   },
   {
    "duration": 496,
    "start_time": "2022-02-01T07:28:38.836Z"
   },
   {
    "duration": 36,
    "start_time": "2022-02-01T07:28:39.335Z"
   },
   {
    "duration": 7,
    "start_time": "2022-02-01T07:28:39.373Z"
   },
   {
    "duration": 7,
    "start_time": "2022-02-01T07:28:39.383Z"
   },
   {
    "duration": 6,
    "start_time": "2022-02-01T07:28:39.392Z"
   },
   {
    "duration": 10,
    "start_time": "2022-02-01T07:28:39.400Z"
   },
   {
    "duration": 55,
    "start_time": "2022-02-01T07:28:39.412Z"
   },
   {
    "duration": 6325,
    "start_time": "2022-02-01T07:28:39.470Z"
   },
   {
    "duration": 7,
    "start_time": "2022-02-01T07:28:45.798Z"
   },
   {
    "duration": 11,
    "start_time": "2022-02-01T07:28:45.818Z"
   },
   {
    "duration": 45,
    "start_time": "2022-02-01T07:28:45.834Z"
   },
   {
    "duration": 9,
    "start_time": "2022-02-01T07:28:45.881Z"
   },
   {
    "duration": 5,
    "start_time": "2022-02-01T07:28:45.893Z"
   },
   {
    "duration": 85,
    "start_time": "2022-02-01T07:28:45.901Z"
   },
   {
    "duration": 13,
    "start_time": "2022-02-01T07:28:45.990Z"
   },
   {
    "duration": 19,
    "start_time": "2022-02-01T07:28:46.007Z"
   },
   {
    "duration": 32,
    "start_time": "2022-02-01T07:28:46.028Z"
   },
   {
    "duration": 738,
    "start_time": "2022-02-01T07:28:46.065Z"
   },
   {
    "duration": 24,
    "start_time": "2022-02-01T07:28:46.782Z"
   },
   {
    "duration": 21,
    "start_time": "2022-02-01T07:28:46.786Z"
   },
   {
    "duration": 19,
    "start_time": "2022-02-01T07:28:46.790Z"
   },
   {
    "duration": 18,
    "start_time": "2022-02-01T07:28:46.793Z"
   },
   {
    "duration": 16,
    "start_time": "2022-02-01T07:28:46.796Z"
   },
   {
    "duration": 15,
    "start_time": "2022-02-01T07:28:46.799Z"
   },
   {
    "duration": 13,
    "start_time": "2022-02-01T07:28:46.802Z"
   },
   {
    "duration": 13,
    "start_time": "2022-02-01T07:28:46.804Z"
   },
   {
    "duration": 13,
    "start_time": "2022-02-01T07:28:46.806Z"
   },
   {
    "duration": 11,
    "start_time": "2022-02-01T07:28:46.809Z"
   },
   {
    "duration": 11,
    "start_time": "2022-02-01T07:28:46.811Z"
   },
   {
    "duration": 11,
    "start_time": "2022-02-01T07:28:46.813Z"
   },
   {
    "duration": 4,
    "start_time": "2022-02-01T07:28:46.821Z"
   },
   {
    "duration": 3,
    "start_time": "2022-02-01T07:28:46.823Z"
   },
   {
    "duration": 2,
    "start_time": "2022-02-01T07:28:46.826Z"
   },
   {
    "duration": 1,
    "start_time": "2022-02-01T07:28:46.828Z"
   },
   {
    "duration": 1,
    "start_time": "2022-02-01T07:28:46.830Z"
   },
   {
    "duration": 0,
    "start_time": "2022-02-01T07:28:46.832Z"
   },
   {
    "duration": -1,
    "start_time": "2022-02-01T07:28:46.834Z"
   },
   {
    "duration": -2,
    "start_time": "2022-02-01T07:28:46.836Z"
   },
   {
    "duration": -2,
    "start_time": "2022-02-01T07:28:46.838Z"
   },
   {
    "duration": -20,
    "start_time": "2022-02-01T07:28:46.857Z"
   },
   {
    "duration": -20,
    "start_time": "2022-02-01T07:28:46.859Z"
   },
   {
    "duration": -22,
    "start_time": "2022-02-01T07:28:46.862Z"
   },
   {
    "duration": -2,
    "start_time": "2022-02-01T07:28:46.864Z"
   },
   {
    "duration": -2,
    "start_time": "2022-02-01T07:28:46.866Z"
   },
   {
    "duration": -3,
    "start_time": "2022-02-01T07:28:46.868Z"
   },
   {
    "duration": -3,
    "start_time": "2022-02-01T07:28:46.870Z"
   },
   {
    "duration": -3,
    "start_time": "2022-02-01T07:28:46.872Z"
   },
   {
    "duration": -3,
    "start_time": "2022-02-01T07:28:46.873Z"
   },
   {
    "duration": -3,
    "start_time": "2022-02-01T07:28:46.876Z"
   },
   {
    "duration": -2,
    "start_time": "2022-02-01T07:28:46.877Z"
   },
   {
    "duration": -2,
    "start_time": "2022-02-01T07:28:46.879Z"
   },
   {
    "duration": -3,
    "start_time": "2022-02-01T07:28:46.881Z"
   },
   {
    "duration": -3,
    "start_time": "2022-02-01T07:28:46.883Z"
   },
   {
    "duration": 11,
    "start_time": "2022-02-01T07:29:41.672Z"
   },
   {
    "duration": 5778,
    "start_time": "2022-02-01T07:29:43.707Z"
   },
   {
    "duration": 6,
    "start_time": "2022-02-01T07:29:49.487Z"
   },
   {
    "duration": 9,
    "start_time": "2022-02-01T07:29:49.497Z"
   },
   {
    "duration": 12,
    "start_time": "2022-02-01T07:29:56.116Z"
   },
   {
    "duration": 8,
    "start_time": "2022-02-01T07:29:56.278Z"
   },
   {
    "duration": 35,
    "start_time": "2022-02-01T07:29:59.062Z"
   },
   {
    "duration": 12,
    "start_time": "2022-02-01T07:30:00.614Z"
   },
   {
    "duration": 13,
    "start_time": "2022-02-01T07:30:02.801Z"
   },
   {
    "duration": 4,
    "start_time": "2022-02-01T07:30:05.531Z"
   },
   {
    "duration": 587,
    "start_time": "2022-02-01T07:30:05.783Z"
   },
   {
    "duration": 8,
    "start_time": "2022-02-01T07:31:09.917Z"
   },
   {
    "duration": 812,
    "start_time": "2022-02-01T07:35:57.463Z"
   },
   {
    "duration": 205,
    "start_time": "2022-02-01T07:36:40.490Z"
   },
   {
    "duration": 489,
    "start_time": "2022-02-01T07:36:46.241Z"
   },
   {
    "duration": 1651,
    "start_time": "2022-02-01T07:36:57.926Z"
   },
   {
    "duration": 10503,
    "start_time": "2022-02-01T07:36:59.580Z"
   },
   {
    "duration": 4,
    "start_time": "2022-02-01T07:37:10.086Z"
   },
   {
    "duration": 6,
    "start_time": "2022-02-01T07:37:10.092Z"
   },
   {
    "duration": 123,
    "start_time": "2022-02-01T07:37:10.100Z"
   },
   {
    "duration": 6,
    "start_time": "2022-02-01T07:37:10.226Z"
   },
   {
    "duration": 22,
    "start_time": "2022-02-01T07:37:10.235Z"
   },
   {
    "duration": 36,
    "start_time": "2022-02-01T07:37:10.263Z"
   },
   {
    "duration": 11,
    "start_time": "2022-02-01T07:37:10.303Z"
   },
   {
    "duration": 46,
    "start_time": "2022-02-01T07:37:10.317Z"
   },
   {
    "duration": 14,
    "start_time": "2022-02-01T07:37:10.366Z"
   },
   {
    "duration": 16,
    "start_time": "2022-02-01T07:37:10.382Z"
   },
   {
    "duration": 9,
    "start_time": "2022-02-01T07:37:10.400Z"
   },
   {
    "duration": 60,
    "start_time": "2022-02-01T07:37:10.412Z"
   },
   {
    "duration": 9,
    "start_time": "2022-02-01T07:37:10.475Z"
   },
   {
    "duration": 14,
    "start_time": "2022-02-01T07:37:10.486Z"
   },
   {
    "duration": 19,
    "start_time": "2022-02-01T07:37:10.502Z"
   },
   {
    "duration": 10,
    "start_time": "2022-02-01T07:37:10.525Z"
   },
   {
    "duration": 13,
    "start_time": "2022-02-01T07:37:10.563Z"
   },
   {
    "duration": 14,
    "start_time": "2022-02-01T07:37:10.578Z"
   },
   {
    "duration": 4,
    "start_time": "2022-02-01T07:37:10.594Z"
   },
   {
    "duration": 7,
    "start_time": "2022-02-01T07:37:10.601Z"
   },
   {
    "duration": 58,
    "start_time": "2022-02-01T07:37:10.614Z"
   },
   {
    "duration": 8,
    "start_time": "2022-02-01T07:37:10.676Z"
   },
   {
    "duration": 9,
    "start_time": "2022-02-01T07:37:10.686Z"
   },
   {
    "duration": 9,
    "start_time": "2022-02-01T07:37:10.697Z"
   },
   {
    "duration": 10,
    "start_time": "2022-02-01T07:37:10.708Z"
   },
   {
    "duration": 12,
    "start_time": "2022-02-01T07:37:10.760Z"
   },
   {
    "duration": 7,
    "start_time": "2022-02-01T07:37:10.775Z"
   },
   {
    "duration": 18,
    "start_time": "2022-02-01T07:37:10.784Z"
   },
   {
    "duration": 9,
    "start_time": "2022-02-01T07:37:10.805Z"
   },
   {
    "duration": 193,
    "start_time": "2022-02-01T07:37:10.816Z"
   },
   {
    "duration": 8,
    "start_time": "2022-02-01T07:37:11.012Z"
   },
   {
    "duration": 490,
    "start_time": "2022-02-01T07:37:11.023Z"
   },
   {
    "duration": 612,
    "start_time": "2022-02-01T07:37:11.516Z"
   },
   {
    "duration": 319,
    "start_time": "2022-02-01T07:37:12.130Z"
   },
   {
    "duration": 22,
    "start_time": "2022-02-01T07:37:12.451Z"
   },
   {
    "duration": 140,
    "start_time": "2022-02-01T07:37:12.476Z"
   },
   {
    "duration": 9,
    "start_time": "2022-02-01T07:37:12.619Z"
   },
   {
    "duration": 11,
    "start_time": "2022-02-01T07:37:12.631Z"
   },
   {
    "duration": 4,
    "start_time": "2022-02-01T07:37:12.660Z"
   },
   {
    "duration": 9,
    "start_time": "2022-02-01T07:37:12.667Z"
   },
   {
    "duration": 143,
    "start_time": "2022-02-01T07:37:12.678Z"
   },
   {
    "duration": 5,
    "start_time": "2022-02-01T07:37:12.824Z"
   },
   {
    "duration": 37,
    "start_time": "2022-02-01T07:37:12.831Z"
   },
   {
    "duration": 56,
    "start_time": "2022-02-01T07:37:12.871Z"
   },
   {
    "duration": 41,
    "start_time": "2022-02-01T07:37:12.930Z"
   },
   {
    "duration": 18,
    "start_time": "2022-02-01T07:37:12.976Z"
   },
   {
    "duration": 33,
    "start_time": "2022-02-01T07:37:12.997Z"
   },
   {
    "duration": 30,
    "start_time": "2022-02-01T07:37:13.033Z"
   },
   {
    "duration": 28,
    "start_time": "2022-02-01T07:37:13.066Z"
   },
   {
    "duration": 13,
    "start_time": "2022-02-01T07:37:13.097Z"
   },
   {
    "duration": 11,
    "start_time": "2022-02-01T07:37:13.113Z"
   },
   {
    "duration": 100,
    "start_time": "2022-02-01T07:37:13.126Z"
   },
   {
    "duration": 4,
    "start_time": "2022-02-01T07:37:13.228Z"
   },
   {
    "duration": 82,
    "start_time": "2022-02-01T07:37:13.234Z"
   },
   {
    "duration": 6,
    "start_time": "2022-02-01T07:37:13.318Z"
   },
   {
    "duration": 8,
    "start_time": "2022-02-01T07:37:13.326Z"
   },
   {
    "duration": 505,
    "start_time": "2022-02-01T07:37:13.361Z"
   },
   {
    "duration": 31,
    "start_time": "2022-02-01T07:37:13.869Z"
   },
   {
    "duration": 8,
    "start_time": "2022-02-01T07:37:13.903Z"
   },
   {
    "duration": 8,
    "start_time": "2022-02-01T07:37:13.914Z"
   },
   {
    "duration": 52,
    "start_time": "2022-02-01T07:37:13.925Z"
   },
   {
    "duration": 10,
    "start_time": "2022-02-01T07:37:13.980Z"
   },
   {
    "duration": 12,
    "start_time": "2022-02-01T07:37:13.993Z"
   },
   {
    "duration": 6,
    "start_time": "2022-02-01T07:37:14.008Z"
   },
   {
    "duration": 5850,
    "start_time": "2022-02-01T07:37:14.018Z"
   },
   {
    "duration": 9,
    "start_time": "2022-02-01T07:37:19.881Z"
   },
   {
    "duration": 11,
    "start_time": "2022-02-01T07:37:19.893Z"
   },
   {
    "duration": 55,
    "start_time": "2022-02-01T07:37:19.907Z"
   },
   {
    "duration": 11,
    "start_time": "2022-02-01T07:37:19.965Z"
   },
   {
    "duration": 3,
    "start_time": "2022-02-01T07:37:19.979Z"
   },
   {
    "duration": 34,
    "start_time": "2022-02-01T07:37:19.984Z"
   },
   {
    "duration": 53,
    "start_time": "2022-02-01T07:37:20.021Z"
   },
   {
    "duration": 14,
    "start_time": "2022-02-01T07:37:20.077Z"
   },
   {
    "duration": 4,
    "start_time": "2022-02-01T07:37:20.093Z"
   },
   {
    "duration": 754,
    "start_time": "2022-02-01T07:37:20.100Z"
   },
   {
    "duration": 32,
    "start_time": "2022-02-01T07:37:20.825Z"
   },
   {
    "duration": 32,
    "start_time": "2022-02-01T07:37:20.828Z"
   },
   {
    "duration": 26,
    "start_time": "2022-02-01T07:37:20.837Z"
   },
   {
    "duration": 27,
    "start_time": "2022-02-01T07:37:20.839Z"
   },
   {
    "duration": 27,
    "start_time": "2022-02-01T07:37:20.841Z"
   },
   {
    "duration": 28,
    "start_time": "2022-02-01T07:37:20.843Z"
   },
   {
    "duration": 28,
    "start_time": "2022-02-01T07:37:20.845Z"
   },
   {
    "duration": 21,
    "start_time": "2022-02-01T07:37:20.854Z"
   },
   {
    "duration": 22,
    "start_time": "2022-02-01T07:37:20.856Z"
   },
   {
    "duration": 22,
    "start_time": "2022-02-01T07:37:20.858Z"
   },
   {
    "duration": 23,
    "start_time": "2022-02-01T07:37:20.860Z"
   },
   {
    "duration": 17,
    "start_time": "2022-02-01T07:37:20.868Z"
   },
   {
    "duration": 17,
    "start_time": "2022-02-01T07:37:20.870Z"
   },
   {
    "duration": 18,
    "start_time": "2022-02-01T07:37:20.872Z"
   },
   {
    "duration": 18,
    "start_time": "2022-02-01T07:37:20.874Z"
   },
   {
    "duration": -11,
    "start_time": "2022-02-01T07:37:20.906Z"
   },
   {
    "duration": -11,
    "start_time": "2022-02-01T07:37:20.908Z"
   },
   {
    "duration": -11,
    "start_time": "2022-02-01T07:37:20.910Z"
   },
   {
    "duration": -11,
    "start_time": "2022-02-01T07:37:20.912Z"
   },
   {
    "duration": -17,
    "start_time": "2022-02-01T07:37:20.921Z"
   },
   {
    "duration": -16,
    "start_time": "2022-02-01T07:37:20.922Z"
   },
   {
    "duration": 40,
    "start_time": "2022-02-01T07:37:20.924Z"
   },
   {
    "duration": 37,
    "start_time": "2022-02-01T07:37:20.930Z"
   },
   {
    "duration": 29,
    "start_time": "2022-02-01T07:37:20.941Z"
   },
   {
    "duration": 28,
    "start_time": "2022-02-01T07:37:20.944Z"
   },
   {
    "duration": -2,
    "start_time": "2022-02-01T07:37:20.977Z"
   },
   {
    "duration": -4,
    "start_time": "2022-02-01T07:37:20.980Z"
   },
   {
    "duration": -10,
    "start_time": "2022-02-01T07:37:20.988Z"
   },
   {
    "duration": -12,
    "start_time": "2022-02-01T07:37:20.991Z"
   },
   {
    "duration": -11,
    "start_time": "2022-02-01T07:37:20.993Z"
   },
   {
    "duration": -10,
    "start_time": "2022-02-01T07:37:20.995Z"
   },
   {
    "duration": -16,
    "start_time": "2022-02-01T07:37:21.003Z"
   },
   {
    "duration": -16,
    "start_time": "2022-02-01T07:37:21.005Z"
   },
   {
    "duration": -17,
    "start_time": "2022-02-01T07:37:21.008Z"
   },
   {
    "duration": -32,
    "start_time": "2022-02-01T07:37:21.026Z"
   },
   {
    "duration": 12,
    "start_time": "2022-02-01T07:37:59.305Z"
   },
   {
    "duration": 6,
    "start_time": "2022-02-01T07:38:41.074Z"
   },
   {
    "duration": 10509,
    "start_time": "2022-02-01T07:38:41.083Z"
   },
   {
    "duration": 4,
    "start_time": "2022-02-01T07:38:51.596Z"
   },
   {
    "duration": 6,
    "start_time": "2022-02-01T07:38:51.604Z"
   },
   {
    "duration": 112,
    "start_time": "2022-02-01T07:38:51.613Z"
   },
   {
    "duration": 6,
    "start_time": "2022-02-01T07:38:51.728Z"
   },
   {
    "duration": 21,
    "start_time": "2022-02-01T07:38:51.737Z"
   },
   {
    "duration": 35,
    "start_time": "2022-02-01T07:38:51.761Z"
   },
   {
    "duration": 13,
    "start_time": "2022-02-01T07:38:51.802Z"
   },
   {
    "duration": 53,
    "start_time": "2022-02-01T07:38:51.819Z"
   },
   {
    "duration": 10,
    "start_time": "2022-02-01T07:38:51.876Z"
   },
   {
    "duration": 19,
    "start_time": "2022-02-01T07:38:51.889Z"
   },
   {
    "duration": 48,
    "start_time": "2022-02-01T07:38:51.911Z"
   },
   {
    "duration": 14,
    "start_time": "2022-02-01T07:38:51.963Z"
   },
   {
    "duration": 10,
    "start_time": "2022-02-01T07:38:51.980Z"
   },
   {
    "duration": 11,
    "start_time": "2022-02-01T07:38:51.993Z"
   },
   {
    "duration": 62,
    "start_time": "2022-02-01T07:38:52.007Z"
   },
   {
    "duration": 11,
    "start_time": "2022-02-01T07:38:52.073Z"
   },
   {
    "duration": 10,
    "start_time": "2022-02-01T07:38:52.087Z"
   },
   {
    "duration": 13,
    "start_time": "2022-02-01T07:38:52.100Z"
   },
   {
    "duration": 6,
    "start_time": "2022-02-01T07:38:52.115Z"
   },
   {
    "duration": 42,
    "start_time": "2022-02-01T07:38:52.123Z"
   },
   {
    "duration": 26,
    "start_time": "2022-02-01T07:38:52.170Z"
   },
   {
    "duration": 7,
    "start_time": "2022-02-01T07:38:52.198Z"
   },
   {
    "duration": 8,
    "start_time": "2022-02-01T07:38:52.208Z"
   },
   {
    "duration": 42,
    "start_time": "2022-02-01T07:38:52.219Z"
   },
   {
    "duration": 15,
    "start_time": "2022-02-01T07:38:52.272Z"
   },
   {
    "duration": 13,
    "start_time": "2022-02-01T07:38:52.293Z"
   },
   {
    "duration": 4,
    "start_time": "2022-02-01T07:38:52.309Z"
   },
   {
    "duration": 9,
    "start_time": "2022-02-01T07:38:52.315Z"
   },
   {
    "duration": 41,
    "start_time": "2022-02-01T07:38:52.327Z"
   },
   {
    "duration": 168,
    "start_time": "2022-02-01T07:38:52.372Z"
   },
   {
    "duration": 6,
    "start_time": "2022-02-01T07:38:52.543Z"
   },
   {
    "duration": 470,
    "start_time": "2022-02-01T07:38:52.552Z"
   },
   {
    "duration": 462,
    "start_time": "2022-02-01T07:38:53.024Z"
   },
   {
    "duration": 419,
    "start_time": "2022-02-01T07:38:53.490Z"
   },
   {
    "duration": 14,
    "start_time": "2022-02-01T07:38:53.912Z"
   },
   {
    "duration": 144,
    "start_time": "2022-02-01T07:38:53.929Z"
   },
   {
    "duration": 10,
    "start_time": "2022-02-01T07:38:54.075Z"
   },
   {
    "duration": 13,
    "start_time": "2022-02-01T07:38:54.087Z"
   },
   {
    "duration": 4,
    "start_time": "2022-02-01T07:38:54.102Z"
   },
   {
    "duration": 4,
    "start_time": "2022-02-01T07:38:54.109Z"
   },
   {
    "duration": 154,
    "start_time": "2022-02-01T07:38:54.115Z"
   },
   {
    "duration": 5,
    "start_time": "2022-02-01T07:38:54.272Z"
   },
   {
    "duration": 10,
    "start_time": "2022-02-01T07:38:54.279Z"
   },
   {
    "duration": 67,
    "start_time": "2022-02-01T07:38:54.292Z"
   },
   {
    "duration": 19,
    "start_time": "2022-02-01T07:38:54.362Z"
   },
   {
    "duration": 18,
    "start_time": "2022-02-01T07:38:54.385Z"
   },
   {
    "duration": 58,
    "start_time": "2022-02-01T07:38:54.405Z"
   },
   {
    "duration": 9,
    "start_time": "2022-02-01T07:38:54.466Z"
   },
   {
    "duration": 10,
    "start_time": "2022-02-01T07:38:54.478Z"
   },
   {
    "duration": 13,
    "start_time": "2022-02-01T07:38:54.490Z"
   },
   {
    "duration": 9,
    "start_time": "2022-02-01T07:38:54.505Z"
   },
   {
    "duration": 104,
    "start_time": "2022-02-01T07:38:54.516Z"
   },
   {
    "duration": 5,
    "start_time": "2022-02-01T07:38:54.623Z"
   },
   {
    "duration": 81,
    "start_time": "2022-02-01T07:38:54.631Z"
   },
   {
    "duration": 7,
    "start_time": "2022-02-01T07:38:54.715Z"
   },
   {
    "duration": 38,
    "start_time": "2022-02-01T07:38:54.725Z"
   },
   {
    "duration": 451,
    "start_time": "2022-02-01T07:38:54.766Z"
   },
   {
    "duration": 43,
    "start_time": "2022-02-01T07:38:55.219Z"
   },
   {
    "duration": 6,
    "start_time": "2022-02-01T07:38:55.265Z"
   },
   {
    "duration": 14,
    "start_time": "2022-02-01T07:38:55.273Z"
   },
   {
    "duration": 6,
    "start_time": "2022-02-01T07:38:55.289Z"
   },
   {
    "duration": 11,
    "start_time": "2022-02-01T07:38:55.298Z"
   },
   {
    "duration": 58,
    "start_time": "2022-02-01T07:38:55.311Z"
   },
   {
    "duration": 7,
    "start_time": "2022-02-01T07:38:55.371Z"
   },
   {
    "duration": 4949,
    "start_time": "2022-02-01T07:38:55.381Z"
   },
   {
    "duration": 6,
    "start_time": "2022-02-01T07:39:00.332Z"
   },
   {
    "duration": 22,
    "start_time": "2022-02-01T07:39:00.341Z"
   },
   {
    "duration": 31,
    "start_time": "2022-02-01T07:39:00.367Z"
   },
   {
    "duration": 13,
    "start_time": "2022-02-01T07:39:00.401Z"
   },
   {
    "duration": 22,
    "start_time": "2022-02-01T07:39:00.416Z"
   },
   {
    "duration": 39,
    "start_time": "2022-02-01T07:39:00.440Z"
   },
   {
    "duration": 12,
    "start_time": "2022-02-01T07:39:00.482Z"
   },
   {
    "duration": 165,
    "start_time": "2022-02-01T07:39:00.496Z"
   },
   {
    "duration": 5,
    "start_time": "2022-02-01T07:39:00.665Z"
   },
   {
    "duration": 18,
    "start_time": "2022-02-01T07:39:00.673Z"
   },
   {
    "duration": 496,
    "start_time": "2022-02-01T07:39:00.693Z"
   },
   {
    "duration": -24,
    "start_time": "2022-02-01T07:39:01.217Z"
   },
   {
    "duration": -27,
    "start_time": "2022-02-01T07:39:01.221Z"
   },
   {
    "duration": -28,
    "start_time": "2022-02-01T07:39:01.224Z"
   },
   {
    "duration": -29,
    "start_time": "2022-02-01T07:39:01.226Z"
   },
   {
    "duration": -31,
    "start_time": "2022-02-01T07:39:01.229Z"
   },
   {
    "duration": -31,
    "start_time": "2022-02-01T07:39:01.231Z"
   },
   {
    "duration": -32,
    "start_time": "2022-02-01T07:39:01.233Z"
   },
   {
    "duration": -33,
    "start_time": "2022-02-01T07:39:01.235Z"
   },
   {
    "duration": -33,
    "start_time": "2022-02-01T07:39:01.237Z"
   },
   {
    "duration": -33,
    "start_time": "2022-02-01T07:39:01.239Z"
   },
   {
    "duration": -34,
    "start_time": "2022-02-01T07:39:01.241Z"
   },
   {
    "duration": -34,
    "start_time": "2022-02-01T07:39:01.243Z"
   },
   {
    "duration": -36,
    "start_time": "2022-02-01T07:39:01.246Z"
   },
   {
    "duration": -36,
    "start_time": "2022-02-01T07:39:01.248Z"
   },
   {
    "duration": -36,
    "start_time": "2022-02-01T07:39:01.249Z"
   },
   {
    "duration": -37,
    "start_time": "2022-02-01T07:39:01.251Z"
   },
   {
    "duration": -37,
    "start_time": "2022-02-01T07:39:01.253Z"
   },
   {
    "duration": -38,
    "start_time": "2022-02-01T07:39:01.255Z"
   },
   {
    "duration": -38,
    "start_time": "2022-02-01T07:39:01.257Z"
   },
   {
    "duration": -38,
    "start_time": "2022-02-01T07:39:01.258Z"
   },
   {
    "duration": -45,
    "start_time": "2022-02-01T07:39:01.266Z"
   },
   {
    "duration": -46,
    "start_time": "2022-02-01T07:39:01.268Z"
   },
   {
    "duration": -46,
    "start_time": "2022-02-01T07:39:01.270Z"
   },
   {
    "duration": -46,
    "start_time": "2022-02-01T07:39:01.271Z"
   },
   {
    "duration": -47,
    "start_time": "2022-02-01T07:39:01.273Z"
   },
   {
    "duration": -48,
    "start_time": "2022-02-01T07:39:01.275Z"
   },
   {
    "duration": -48,
    "start_time": "2022-02-01T07:39:01.277Z"
   },
   {
    "duration": -15,
    "start_time": "2022-02-01T07:39:01.278Z"
   },
   {
    "duration": -16,
    "start_time": "2022-02-01T07:39:01.280Z"
   },
   {
    "duration": -14,
    "start_time": "2022-02-01T07:39:01.282Z"
   },
   {
    "duration": -14,
    "start_time": "2022-02-01T07:39:01.284Z"
   },
   {
    "duration": -12,
    "start_time": "2022-02-01T07:39:01.285Z"
   },
   {
    "duration": -12,
    "start_time": "2022-02-01T07:39:01.287Z"
   },
   {
    "duration": -12,
    "start_time": "2022-02-01T07:39:01.289Z"
   },
   {
    "duration": -12,
    "start_time": "2022-02-01T07:39:01.290Z"
   },
   {
    "duration": 415,
    "start_time": "2022-02-01T07:41:09.686Z"
   },
   {
    "duration": 9,
    "start_time": "2022-02-01T07:42:18.618Z"
   },
   {
    "duration": 7,
    "start_time": "2022-02-01T07:44:42.182Z"
   },
   {
    "duration": 1744,
    "start_time": "2022-02-01T07:44:49.075Z"
   },
   {
    "duration": 10816,
    "start_time": "2022-02-01T07:44:50.822Z"
   },
   {
    "duration": 4,
    "start_time": "2022-02-01T07:45:01.642Z"
   },
   {
    "duration": 11,
    "start_time": "2022-02-01T07:45:01.650Z"
   },
   {
    "duration": 144,
    "start_time": "2022-02-01T07:45:01.665Z"
   },
   {
    "duration": 7,
    "start_time": "2022-02-01T07:45:01.812Z"
   },
   {
    "duration": 55,
    "start_time": "2022-02-01T07:45:01.822Z"
   },
   {
    "duration": 52,
    "start_time": "2022-02-01T07:45:01.880Z"
   },
   {
    "duration": 11,
    "start_time": "2022-02-01T07:45:01.935Z"
   },
   {
    "duration": 36,
    "start_time": "2022-02-01T07:45:01.948Z"
   },
   {
    "duration": 24,
    "start_time": "2022-02-01T07:45:01.986Z"
   },
   {
    "duration": 24,
    "start_time": "2022-02-01T07:45:02.014Z"
   },
   {
    "duration": 30,
    "start_time": "2022-02-01T07:45:02.041Z"
   },
   {
    "duration": 24,
    "start_time": "2022-02-01T07:45:02.075Z"
   },
   {
    "duration": 25,
    "start_time": "2022-02-01T07:45:02.101Z"
   },
   {
    "duration": 14,
    "start_time": "2022-02-01T07:45:02.129Z"
   },
   {
    "duration": 21,
    "start_time": "2022-02-01T07:45:02.145Z"
   },
   {
    "duration": 18,
    "start_time": "2022-02-01T07:45:02.169Z"
   },
   {
    "duration": 14,
    "start_time": "2022-02-01T07:45:02.190Z"
   },
   {
    "duration": 21,
    "start_time": "2022-02-01T07:45:02.207Z"
   },
   {
    "duration": 4,
    "start_time": "2022-02-01T07:45:02.230Z"
   },
   {
    "duration": 30,
    "start_time": "2022-02-01T07:45:02.236Z"
   },
   {
    "duration": 35,
    "start_time": "2022-02-01T07:45:02.276Z"
   },
   {
    "duration": 11,
    "start_time": "2022-02-01T07:45:02.316Z"
   },
   {
    "duration": 39,
    "start_time": "2022-02-01T07:45:02.329Z"
   },
   {
    "duration": 12,
    "start_time": "2022-02-01T07:45:02.371Z"
   },
   {
    "duration": 21,
    "start_time": "2022-02-01T07:45:02.385Z"
   },
   {
    "duration": 11,
    "start_time": "2022-02-01T07:45:02.408Z"
   },
   {
    "duration": 8,
    "start_time": "2022-02-01T07:45:02.422Z"
   },
   {
    "duration": 50,
    "start_time": "2022-02-01T07:45:02.432Z"
   },
   {
    "duration": 15,
    "start_time": "2022-02-01T07:45:02.485Z"
   },
   {
    "duration": 10,
    "start_time": "2022-02-01T07:45:02.503Z"
   },
   {
    "duration": 221,
    "start_time": "2022-02-01T07:45:02.516Z"
   },
   {
    "duration": 9,
    "start_time": "2022-02-01T07:45:02.740Z"
   },
   {
    "duration": 505,
    "start_time": "2022-02-01T07:45:02.762Z"
   },
   {
    "duration": 793,
    "start_time": "2022-02-01T07:45:03.269Z"
   },
   {
    "duration": 317,
    "start_time": "2022-02-01T07:45:04.065Z"
   },
   {
    "duration": 13,
    "start_time": "2022-02-01T07:45:04.384Z"
   },
   {
    "duration": 155,
    "start_time": "2022-02-01T07:45:04.400Z"
   },
   {
    "duration": 16,
    "start_time": "2022-02-01T07:45:04.559Z"
   },
   {
    "duration": 12,
    "start_time": "2022-02-01T07:45:04.578Z"
   },
   {
    "duration": 6,
    "start_time": "2022-02-01T07:45:04.593Z"
   },
   {
    "duration": 5,
    "start_time": "2022-02-01T07:45:04.601Z"
   },
   {
    "duration": 177,
    "start_time": "2022-02-01T07:45:04.609Z"
   },
   {
    "duration": 4,
    "start_time": "2022-02-01T07:45:04.789Z"
   },
   {
    "duration": 12,
    "start_time": "2022-02-01T07:45:04.796Z"
   },
   {
    "duration": 78,
    "start_time": "2022-02-01T07:45:04.810Z"
   },
   {
    "duration": 21,
    "start_time": "2022-02-01T07:45:04.890Z"
   },
   {
    "duration": 13,
    "start_time": "2022-02-01T07:45:04.914Z"
   },
   {
    "duration": 55,
    "start_time": "2022-02-01T07:45:04.929Z"
   },
   {
    "duration": 3,
    "start_time": "2022-02-01T07:45:04.987Z"
   },
   {
    "duration": 11,
    "start_time": "2022-02-01T07:45:04.992Z"
   },
   {
    "duration": 13,
    "start_time": "2022-02-01T07:45:05.005Z"
   },
   {
    "duration": 50,
    "start_time": "2022-02-01T07:45:05.020Z"
   },
   {
    "duration": 115,
    "start_time": "2022-02-01T07:45:05.073Z"
   },
   {
    "duration": 4,
    "start_time": "2022-02-01T07:45:05.190Z"
   },
   {
    "duration": 81,
    "start_time": "2022-02-01T07:45:05.197Z"
   },
   {
    "duration": 6,
    "start_time": "2022-02-01T07:45:05.280Z"
   },
   {
    "duration": 10,
    "start_time": "2022-02-01T07:45:05.289Z"
   },
   {
    "duration": 546,
    "start_time": "2022-02-01T07:45:05.301Z"
   },
   {
    "duration": 37,
    "start_time": "2022-02-01T07:45:05.849Z"
   },
   {
    "duration": 7,
    "start_time": "2022-02-01T07:45:05.888Z"
   },
   {
    "duration": 9,
    "start_time": "2022-02-01T07:45:05.898Z"
   },
   {
    "duration": 16,
    "start_time": "2022-02-01T07:45:05.910Z"
   },
   {
    "duration": 53,
    "start_time": "2022-02-01T07:45:05.929Z"
   },
   {
    "duration": 15,
    "start_time": "2022-02-01T07:45:05.985Z"
   },
   {
    "duration": 11,
    "start_time": "2022-02-01T07:45:06.004Z"
   },
   {
    "duration": 6507,
    "start_time": "2022-02-01T07:45:06.025Z"
   },
   {
    "duration": 23,
    "start_time": "2022-02-01T07:45:12.537Z"
   },
   {
    "duration": 26,
    "start_time": "2022-02-01T07:45:12.563Z"
   },
   {
    "duration": 18,
    "start_time": "2022-02-01T07:45:12.592Z"
   },
   {
    "duration": 9,
    "start_time": "2022-02-01T07:45:12.613Z"
   },
   {
    "duration": 7,
    "start_time": "2022-02-01T07:45:12.625Z"
   },
   {
    "duration": 56,
    "start_time": "2022-02-01T07:45:12.635Z"
   },
   {
    "duration": 10,
    "start_time": "2022-02-01T07:45:12.693Z"
   },
   {
    "duration": 17,
    "start_time": "2022-02-01T07:45:12.706Z"
   },
   {
    "duration": 5,
    "start_time": "2022-02-01T07:45:12.760Z"
   },
   {
    "duration": 25,
    "start_time": "2022-02-01T07:45:12.769Z"
   },
   {
    "duration": 329,
    "start_time": "2022-02-01T07:45:12.797Z"
   },
   {
    "duration": 38,
    "start_time": "2022-02-01T07:45:13.128Z"
   },
   {
    "duration": 713,
    "start_time": "2022-02-01T07:45:13.169Z"
   },
   {
    "duration": 26,
    "start_time": "2022-02-01T07:45:13.859Z"
   },
   {
    "duration": 25,
    "start_time": "2022-02-01T07:45:13.863Z"
   },
   {
    "duration": 24,
    "start_time": "2022-02-01T07:45:13.866Z"
   },
   {
    "duration": 23,
    "start_time": "2022-02-01T07:45:13.869Z"
   },
   {
    "duration": 24,
    "start_time": "2022-02-01T07:45:13.871Z"
   },
   {
    "duration": 21,
    "start_time": "2022-02-01T07:45:13.875Z"
   },
   {
    "duration": 20,
    "start_time": "2022-02-01T07:45:13.877Z"
   },
   {
    "duration": 20,
    "start_time": "2022-02-01T07:45:13.879Z"
   },
   {
    "duration": 18,
    "start_time": "2022-02-01T07:45:13.882Z"
   },
   {
    "duration": 17,
    "start_time": "2022-02-01T07:45:13.884Z"
   },
   {
    "duration": 16,
    "start_time": "2022-02-01T07:45:13.886Z"
   },
   {
    "duration": 14,
    "start_time": "2022-02-01T07:45:13.889Z"
   },
   {
    "duration": 13,
    "start_time": "2022-02-01T07:45:13.891Z"
   },
   {
    "duration": 12,
    "start_time": "2022-02-01T07:45:13.893Z"
   },
   {
    "duration": 5,
    "start_time": "2022-02-01T07:45:13.901Z"
   },
   {
    "duration": 4,
    "start_time": "2022-02-01T07:45:13.903Z"
   },
   {
    "duration": -2,
    "start_time": "2022-02-01T07:45:13.910Z"
   },
   {
    "duration": -4,
    "start_time": "2022-02-01T07:45:13.913Z"
   },
   {
    "duration": -2,
    "start_time": "2022-02-01T07:45:13.915Z"
   },
   {
    "duration": -7,
    "start_time": "2022-02-01T07:45:13.922Z"
   },
   {
    "duration": -7,
    "start_time": "2022-02-01T07:45:13.923Z"
   },
   {
    "duration": -8,
    "start_time": "2022-02-01T07:45:13.926Z"
   },
   {
    "duration": -9,
    "start_time": "2022-02-01T07:45:13.928Z"
   },
   {
    "duration": -9,
    "start_time": "2022-02-01T07:45:13.930Z"
   },
   {
    "duration": -8,
    "start_time": "2022-02-01T07:45:13.931Z"
   },
   {
    "duration": -13,
    "start_time": "2022-02-01T07:45:13.937Z"
   },
   {
    "duration": -14,
    "start_time": "2022-02-01T07:45:13.939Z"
   },
   {
    "duration": 18,
    "start_time": "2022-02-01T07:45:13.941Z"
   },
   {
    "duration": 17,
    "start_time": "2022-02-01T07:45:13.943Z"
   },
   {
    "duration": 17,
    "start_time": "2022-02-01T07:45:13.945Z"
   },
   {
    "duration": 16,
    "start_time": "2022-02-01T07:45:13.947Z"
   },
   {
    "duration": 17,
    "start_time": "2022-02-01T07:45:13.948Z"
   },
   {
    "duration": 13,
    "start_time": "2022-02-01T07:45:13.954Z"
   },
   {
    "duration": 455,
    "start_time": "2022-02-01T07:46:15.273Z"
   },
   {
    "duration": 15,
    "start_time": "2022-02-01T07:46:20.156Z"
   },
   {
    "duration": 7,
    "start_time": "2022-02-01T07:46:25.412Z"
   },
   {
    "duration": 1598,
    "start_time": "2022-02-01T07:47:32.404Z"
   },
   {
    "duration": 10073,
    "start_time": "2022-02-01T07:47:34.005Z"
   },
   {
    "duration": 4,
    "start_time": "2022-02-01T07:47:44.082Z"
   },
   {
    "duration": 5,
    "start_time": "2022-02-01T07:47:44.089Z"
   },
   {
    "duration": 119,
    "start_time": "2022-02-01T07:47:44.097Z"
   },
   {
    "duration": 8,
    "start_time": "2022-02-01T07:47:44.218Z"
   },
   {
    "duration": 23,
    "start_time": "2022-02-01T07:47:44.228Z"
   },
   {
    "duration": 143,
    "start_time": "2022-02-01T07:47:44.255Z"
   },
   {
    "duration": 12,
    "start_time": "2022-02-01T07:47:44.402Z"
   },
   {
    "duration": 52,
    "start_time": "2022-02-01T07:47:44.418Z"
   },
   {
    "duration": 13,
    "start_time": "2022-02-01T07:47:44.473Z"
   },
   {
    "duration": 21,
    "start_time": "2022-02-01T07:47:44.490Z"
   },
   {
    "duration": 48,
    "start_time": "2022-02-01T07:47:44.515Z"
   },
   {
    "duration": 25,
    "start_time": "2022-02-01T07:47:44.566Z"
   },
   {
    "duration": 11,
    "start_time": "2022-02-01T07:47:44.594Z"
   },
   {
    "duration": 11,
    "start_time": "2022-02-01T07:47:44.607Z"
   },
   {
    "duration": 45,
    "start_time": "2022-02-01T07:47:44.621Z"
   },
   {
    "duration": 15,
    "start_time": "2022-02-01T07:47:44.670Z"
   },
   {
    "duration": 11,
    "start_time": "2022-02-01T07:47:44.687Z"
   },
   {
    "duration": 12,
    "start_time": "2022-02-01T07:47:44.700Z"
   },
   {
    "duration": 4,
    "start_time": "2022-02-01T07:47:44.715Z"
   },
   {
    "duration": 15,
    "start_time": "2022-02-01T07:47:44.722Z"
   },
   {
    "duration": 23,
    "start_time": "2022-02-01T07:47:44.765Z"
   },
   {
    "duration": 7,
    "start_time": "2022-02-01T07:47:44.791Z"
   },
   {
    "duration": 11,
    "start_time": "2022-02-01T07:47:44.801Z"
   },
   {
    "duration": 9,
    "start_time": "2022-02-01T07:47:44.814Z"
   },
   {
    "duration": 12,
    "start_time": "2022-02-01T07:47:44.861Z"
   },
   {
    "duration": 13,
    "start_time": "2022-02-01T07:47:44.875Z"
   },
   {
    "duration": 6,
    "start_time": "2022-02-01T07:47:44.891Z"
   },
   {
    "duration": 12,
    "start_time": "2022-02-01T07:47:44.899Z"
   },
   {
    "duration": 11,
    "start_time": "2022-02-01T07:47:44.960Z"
   },
   {
    "duration": 7,
    "start_time": "2022-02-01T07:47:44.974Z"
   },
   {
    "duration": 164,
    "start_time": "2022-02-01T07:47:44.984Z"
   },
   {
    "duration": 9,
    "start_time": "2022-02-01T07:47:45.150Z"
   },
   {
    "duration": 454,
    "start_time": "2022-02-01T07:47:45.162Z"
   },
   {
    "duration": 579,
    "start_time": "2022-02-01T07:47:45.618Z"
   },
   {
    "duration": 330,
    "start_time": "2022-02-01T07:47:46.199Z"
   },
   {
    "duration": 13,
    "start_time": "2022-02-01T07:47:46.532Z"
   },
   {
    "duration": 129,
    "start_time": "2022-02-01T07:47:46.563Z"
   },
   {
    "duration": 8,
    "start_time": "2022-02-01T07:47:46.694Z"
   },
   {
    "duration": 12,
    "start_time": "2022-02-01T07:47:46.705Z"
   },
   {
    "duration": 5,
    "start_time": "2022-02-01T07:47:46.719Z"
   },
   {
    "duration": 5,
    "start_time": "2022-02-01T07:47:46.726Z"
   },
   {
    "duration": 133,
    "start_time": "2022-02-01T07:47:46.760Z"
   },
   {
    "duration": 4,
    "start_time": "2022-02-01T07:47:46.895Z"
   },
   {
    "duration": 14,
    "start_time": "2022-02-01T07:47:46.902Z"
   },
   {
    "duration": 66,
    "start_time": "2022-02-01T07:47:46.919Z"
   },
   {
    "duration": 20,
    "start_time": "2022-02-01T07:47:46.987Z"
   },
   {
    "duration": 13,
    "start_time": "2022-02-01T07:47:47.010Z"
   },
   {
    "duration": 57,
    "start_time": "2022-02-01T07:47:47.025Z"
   },
   {
    "duration": 3,
    "start_time": "2022-02-01T07:47:47.084Z"
   },
   {
    "duration": 9,
    "start_time": "2022-02-01T07:47:47.090Z"
   },
   {
    "duration": 12,
    "start_time": "2022-02-01T07:47:47.101Z"
   },
   {
    "duration": 51,
    "start_time": "2022-02-01T07:47:47.116Z"
   },
   {
    "duration": 65,
    "start_time": "2022-02-01T07:47:47.170Z"
   },
   {
    "duration": 30,
    "start_time": "2022-02-01T07:47:47.237Z"
   },
   {
    "duration": 63,
    "start_time": "2022-02-01T07:47:47.269Z"
   },
   {
    "duration": 5,
    "start_time": "2022-02-01T07:47:47.335Z"
   },
   {
    "duration": 24,
    "start_time": "2022-02-01T07:47:47.343Z"
   },
   {
    "duration": 467,
    "start_time": "2022-02-01T07:47:47.370Z"
   },
   {
    "duration": 39,
    "start_time": "2022-02-01T07:47:47.839Z"
   },
   {
    "duration": 6,
    "start_time": "2022-02-01T07:47:47.881Z"
   },
   {
    "duration": 6,
    "start_time": "2022-02-01T07:47:47.890Z"
   },
   {
    "duration": 6,
    "start_time": "2022-02-01T07:47:47.898Z"
   },
   {
    "duration": 9,
    "start_time": "2022-02-01T07:47:47.906Z"
   },
   {
    "duration": 15,
    "start_time": "2022-02-01T07:47:47.963Z"
   },
   {
    "duration": 6,
    "start_time": "2022-02-01T07:47:47.980Z"
   },
   {
    "duration": 5187,
    "start_time": "2022-02-01T07:47:47.995Z"
   },
   {
    "duration": 6,
    "start_time": "2022-02-01T07:47:53.185Z"
   },
   {
    "duration": 9,
    "start_time": "2022-02-01T07:47:53.194Z"
   },
   {
    "duration": 11,
    "start_time": "2022-02-01T07:47:53.206Z"
   },
   {
    "duration": 53,
    "start_time": "2022-02-01T07:47:53.219Z"
   },
   {
    "duration": 4,
    "start_time": "2022-02-01T07:47:53.275Z"
   },
   {
    "duration": 27,
    "start_time": "2022-02-01T07:47:53.281Z"
   },
   {
    "duration": 10,
    "start_time": "2022-02-01T07:47:53.310Z"
   },
   {
    "duration": 48,
    "start_time": "2022-02-01T07:47:53.322Z"
   },
   {
    "duration": 4,
    "start_time": "2022-02-01T07:47:53.372Z"
   },
   {
    "duration": 10,
    "start_time": "2022-02-01T07:47:53.378Z"
   },
   {
    "duration": 593,
    "start_time": "2022-02-01T07:47:53.390Z"
   },
   {
    "duration": 49,
    "start_time": "2022-02-01T07:47:53.937Z"
   },
   {
    "duration": 43,
    "start_time": "2022-02-01T07:47:53.945Z"
   },
   {
    "duration": 42,
    "start_time": "2022-02-01T07:47:53.947Z"
   },
   {
    "duration": 42,
    "start_time": "2022-02-01T07:47:53.949Z"
   },
   {
    "duration": 41,
    "start_time": "2022-02-01T07:47:53.951Z"
   },
   {
    "duration": 40,
    "start_time": "2022-02-01T07:47:53.953Z"
   },
   {
    "duration": 39,
    "start_time": "2022-02-01T07:47:53.955Z"
   },
   {
    "duration": 39,
    "start_time": "2022-02-01T07:47:53.957Z"
   },
   {
    "duration": 38,
    "start_time": "2022-02-01T07:47:53.959Z"
   },
   {
    "duration": 37,
    "start_time": "2022-02-01T07:47:53.961Z"
   },
   {
    "duration": 36,
    "start_time": "2022-02-01T07:47:53.963Z"
   },
   {
    "duration": 35,
    "start_time": "2022-02-01T07:47:53.965Z"
   },
   {
    "duration": 35,
    "start_time": "2022-02-01T07:47:53.967Z"
   },
   {
    "duration": 34,
    "start_time": "2022-02-01T07:47:53.969Z"
   },
   {
    "duration": 33,
    "start_time": "2022-02-01T07:47:53.971Z"
   },
   {
    "duration": 34,
    "start_time": "2022-02-01T07:47:53.972Z"
   },
   {
    "duration": 28,
    "start_time": "2022-02-01T07:47:53.979Z"
   },
   {
    "duration": 8,
    "start_time": "2022-02-01T07:47:54.000Z"
   },
   {
    "duration": 7,
    "start_time": "2022-02-01T07:47:54.003Z"
   },
   {
    "duration": 7,
    "start_time": "2022-02-01T07:47:54.004Z"
   },
   {
    "duration": 8,
    "start_time": "2022-02-01T07:47:54.007Z"
   },
   {
    "duration": 7,
    "start_time": "2022-02-01T07:47:54.009Z"
   },
   {
    "duration": 7,
    "start_time": "2022-02-01T07:47:54.011Z"
   },
   {
    "duration": 6,
    "start_time": "2022-02-01T07:47:54.013Z"
   },
   {
    "duration": 7,
    "start_time": "2022-02-01T07:47:54.014Z"
   },
   {
    "duration": 2,
    "start_time": "2022-02-01T07:47:54.020Z"
   },
   {
    "duration": 0,
    "start_time": "2022-02-01T07:47:54.023Z"
   },
   {
    "duration": 0,
    "start_time": "2022-02-01T07:47:54.024Z"
   },
   {
    "duration": -1,
    "start_time": "2022-02-01T07:47:54.026Z"
   },
   {
    "duration": -7,
    "start_time": "2022-02-01T07:47:54.033Z"
   },
   {
    "duration": 24,
    "start_time": "2022-02-01T07:47:54.037Z"
   },
   {
    "duration": 24,
    "start_time": "2022-02-01T07:47:54.038Z"
   },
   {
    "duration": 24,
    "start_time": "2022-02-01T07:47:54.040Z"
   },
   {
    "duration": 24,
    "start_time": "2022-02-01T07:47:54.042Z"
   },
   {
    "duration": 30,
    "start_time": "2022-02-01T07:47:54.044Z"
   },
   {
    "duration": 7,
    "start_time": "2022-02-01T07:48:22.707Z"
   },
   {
    "duration": 10,
    "start_time": "2022-02-01T07:48:49.926Z"
   },
   {
    "duration": 456,
    "start_time": "2022-02-01T07:48:54.529Z"
   },
   {
    "duration": 18,
    "start_time": "2022-02-01T07:49:03.055Z"
   },
   {
    "duration": 7,
    "start_time": "2022-02-01T07:50:13.073Z"
   },
   {
    "duration": 1629,
    "start_time": "2022-02-01T07:50:18.594Z"
   },
   {
    "duration": 11748,
    "start_time": "2022-02-01T07:50:20.226Z"
   },
   {
    "duration": 3,
    "start_time": "2022-02-01T07:50:31.978Z"
   },
   {
    "duration": 6,
    "start_time": "2022-02-01T07:50:31.984Z"
   },
   {
    "duration": 115,
    "start_time": "2022-02-01T07:50:31.992Z"
   },
   {
    "duration": 6,
    "start_time": "2022-02-01T07:50:32.110Z"
   },
   {
    "duration": 25,
    "start_time": "2022-02-01T07:50:32.119Z"
   },
   {
    "duration": 38,
    "start_time": "2022-02-01T07:50:32.148Z"
   },
   {
    "duration": 12,
    "start_time": "2022-02-01T07:50:32.189Z"
   },
   {
    "duration": 17,
    "start_time": "2022-02-01T07:50:32.204Z"
   },
   {
    "duration": 40,
    "start_time": "2022-02-01T07:50:32.224Z"
   },
   {
    "duration": 16,
    "start_time": "2022-02-01T07:50:32.266Z"
   },
   {
    "duration": 10,
    "start_time": "2022-02-01T07:50:32.285Z"
   },
   {
    "duration": 12,
    "start_time": "2022-02-01T07:50:32.298Z"
   },
   {
    "duration": 9,
    "start_time": "2022-02-01T07:50:32.312Z"
   },
   {
    "duration": 15,
    "start_time": "2022-02-01T07:50:32.362Z"
   },
   {
    "duration": 9,
    "start_time": "2022-02-01T07:50:32.379Z"
   },
   {
    "duration": 8,
    "start_time": "2022-02-01T07:50:32.390Z"
   },
   {
    "duration": 9,
    "start_time": "2022-02-01T07:50:32.400Z"
   },
   {
    "duration": 63,
    "start_time": "2022-02-01T07:50:32.411Z"
   },
   {
    "duration": 5,
    "start_time": "2022-02-01T07:50:32.477Z"
   },
   {
    "duration": 7,
    "start_time": "2022-02-01T07:50:32.484Z"
   },
   {
    "duration": 19,
    "start_time": "2022-02-01T07:50:32.497Z"
   },
   {
    "duration": 6,
    "start_time": "2022-02-01T07:50:32.520Z"
   },
   {
    "duration": 44,
    "start_time": "2022-02-01T07:50:32.528Z"
   },
   {
    "duration": 8,
    "start_time": "2022-02-01T07:50:32.576Z"
   },
   {
    "duration": 11,
    "start_time": "2022-02-01T07:50:32.587Z"
   },
   {
    "duration": 9,
    "start_time": "2022-02-01T07:50:32.601Z"
   },
   {
    "duration": 4,
    "start_time": "2022-02-01T07:50:32.612Z"
   },
   {
    "duration": 51,
    "start_time": "2022-02-01T07:50:32.618Z"
   },
   {
    "duration": 9,
    "start_time": "2022-02-01T07:50:32.673Z"
   },
   {
    "duration": 14,
    "start_time": "2022-02-01T07:50:32.684Z"
   },
   {
    "duration": 174,
    "start_time": "2022-02-01T07:50:32.700Z"
   },
   {
    "duration": 7,
    "start_time": "2022-02-01T07:50:32.877Z"
   },
   {
    "duration": 465,
    "start_time": "2022-02-01T07:50:32.887Z"
   },
   {
    "duration": 700,
    "start_time": "2022-02-01T07:50:33.355Z"
   },
   {
    "duration": 508,
    "start_time": "2022-02-01T07:50:34.067Z"
   },
   {
    "duration": 18,
    "start_time": "2022-02-01T07:50:34.580Z"
   },
   {
    "duration": 126,
    "start_time": "2022-02-01T07:50:34.601Z"
   },
   {
    "duration": 9,
    "start_time": "2022-02-01T07:50:34.730Z"
   },
   {
    "duration": 21,
    "start_time": "2022-02-01T07:50:34.742Z"
   },
   {
    "duration": 12,
    "start_time": "2022-02-01T07:50:34.767Z"
   },
   {
    "duration": 5,
    "start_time": "2022-02-01T07:50:34.782Z"
   },
   {
    "duration": 150,
    "start_time": "2022-02-01T07:50:34.789Z"
   },
   {
    "duration": 3,
    "start_time": "2022-02-01T07:50:34.942Z"
   },
   {
    "duration": 23,
    "start_time": "2022-02-01T07:50:34.948Z"
   },
   {
    "duration": 41,
    "start_time": "2022-02-01T07:50:34.975Z"
   },
   {
    "duration": 42,
    "start_time": "2022-02-01T07:50:35.018Z"
   },
   {
    "duration": 17,
    "start_time": "2022-02-01T07:50:35.064Z"
   },
   {
    "duration": 24,
    "start_time": "2022-02-01T07:50:35.084Z"
   },
   {
    "duration": 3,
    "start_time": "2022-02-01T07:50:35.111Z"
   },
   {
    "duration": 46,
    "start_time": "2022-02-01T07:50:35.116Z"
   },
   {
    "duration": 15,
    "start_time": "2022-02-01T07:50:35.166Z"
   },
   {
    "duration": 9,
    "start_time": "2022-02-01T07:50:35.184Z"
   },
   {
    "duration": 87,
    "start_time": "2022-02-01T07:50:35.196Z"
   },
   {
    "duration": 8,
    "start_time": "2022-02-01T07:50:35.285Z"
   },
   {
    "duration": 7,
    "start_time": "2022-02-01T07:50:35.295Z"
   },
   {
    "duration": 79,
    "start_time": "2022-02-01T07:50:35.304Z"
   },
   {
    "duration": 5,
    "start_time": "2022-02-01T07:50:35.386Z"
   },
   {
    "duration": 6,
    "start_time": "2022-02-01T07:50:35.394Z"
   },
   {
    "duration": 520,
    "start_time": "2022-02-01T07:50:35.403Z"
   },
   {
    "duration": 47,
    "start_time": "2022-02-01T07:50:35.926Z"
   },
   {
    "duration": 9,
    "start_time": "2022-02-01T07:50:35.976Z"
   },
   {
    "duration": 9,
    "start_time": "2022-02-01T07:50:35.987Z"
   },
   {
    "duration": 9,
    "start_time": "2022-02-01T07:50:35.999Z"
   },
   {
    "duration": 18,
    "start_time": "2022-02-01T07:50:36.011Z"
   },
   {
    "duration": 33,
    "start_time": "2022-02-01T07:50:36.031Z"
   },
   {
    "duration": 9,
    "start_time": "2022-02-01T07:50:36.077Z"
   },
   {
    "duration": 5053,
    "start_time": "2022-02-01T07:50:36.090Z"
   },
   {
    "duration": 6,
    "start_time": "2022-02-01T07:50:41.145Z"
   },
   {
    "duration": 24,
    "start_time": "2022-02-01T07:50:41.161Z"
   },
   {
    "duration": 10,
    "start_time": "2022-02-01T07:50:41.188Z"
   },
   {
    "duration": 8,
    "start_time": "2022-02-01T07:50:41.201Z"
   },
   {
    "duration": 3,
    "start_time": "2022-02-01T07:50:41.212Z"
   },
   {
    "duration": 72,
    "start_time": "2022-02-01T07:50:41.217Z"
   },
   {
    "duration": 12,
    "start_time": "2022-02-01T07:50:41.291Z"
   },
   {
    "duration": 12,
    "start_time": "2022-02-01T07:50:41.306Z"
   },
   {
    "duration": 4,
    "start_time": "2022-02-01T07:50:41.320Z"
   },
   {
    "duration": 45,
    "start_time": "2022-02-01T07:50:41.327Z"
   },
   {
    "duration": 822,
    "start_time": "2022-02-01T07:50:41.376Z"
   },
   {
    "duration": 59,
    "start_time": "2022-02-01T07:50:42.201Z"
   },
   {
    "duration": 13,
    "start_time": "2022-02-01T07:50:42.263Z"
   },
   {
    "duration": 46,
    "start_time": "2022-02-01T07:50:42.279Z"
   },
   {
    "duration": 75,
    "start_time": "2022-02-01T07:50:42.327Z"
   },
   {
    "duration": 316,
    "start_time": "2022-02-01T07:50:42.404Z"
   },
   {
    "duration": 324,
    "start_time": "2022-02-01T07:50:42.722Z"
   },
   {
    "duration": 30,
    "start_time": "2022-02-01T07:50:43.048Z"
   },
   {
    "duration": 920,
    "start_time": "2022-02-01T07:50:43.080Z"
   },
   {
    "duration": 3,
    "start_time": "2022-02-01T07:50:44.002Z"
   },
   {
    "duration": 8,
    "start_time": "2022-02-01T07:50:44.060Z"
   },
   {
    "duration": 14,
    "start_time": "2022-02-01T07:50:44.071Z"
   },
   {
    "duration": 10,
    "start_time": "2022-02-01T07:50:44.087Z"
   },
   {
    "duration": 3,
    "start_time": "2022-02-01T07:50:44.099Z"
   },
   {
    "duration": 1373,
    "start_time": "2022-02-01T07:50:44.105Z"
   },
   {
    "duration": 44,
    "start_time": "2022-02-01T07:50:45.480Z"
   },
   {
    "duration": 34,
    "start_time": "2022-02-01T07:50:45.526Z"
   },
   {
    "duration": 190,
    "start_time": "2022-02-01T07:50:45.564Z"
   },
   {
    "duration": 30,
    "start_time": "2022-02-01T07:50:45.757Z"
   },
   {
    "duration": 52550,
    "start_time": "2022-02-01T07:50:45.789Z"
   },
   {
    "duration": 24,
    "start_time": "2022-02-01T07:51:38.341Z"
   },
   {
    "duration": 145,
    "start_time": "2022-02-01T07:51:38.368Z"
   },
   {
    "duration": 144,
    "start_time": "2022-02-01T07:51:38.515Z"
   },
   {
    "duration": 4,
    "start_time": "2022-02-01T07:51:38.662Z"
   },
   {
    "duration": 2634,
    "start_time": "2022-02-01T07:51:38.669Z"
   },
   {
    "duration": 4,
    "start_time": "2022-02-01T07:51:41.305Z"
   },
   {
    "duration": 31842,
    "start_time": "2022-02-01T07:51:41.312Z"
   },
   {
    "duration": 28,
    "start_time": "2022-02-01T07:52:13.157Z"
   },
   {
    "duration": 25,
    "start_time": "2022-02-01T07:52:13.187Z"
   },
   {
    "duration": 240002,
    "start_time": "2022-02-01T07:52:13.215Z"
   },
   {
    "duration": 12,
    "start_time": "2022-02-01T07:56:13.219Z"
   },
   {
    "duration": 13,
    "start_time": "2022-02-01T07:56:13.233Z"
   },
   {
    "duration": 119350,
    "start_time": "2022-02-01T07:56:13.249Z"
   },
   {
    "duration": 12,
    "start_time": "2022-02-01T07:58:12.601Z"
   },
   {
    "duration": 13,
    "start_time": "2022-02-01T07:58:12.616Z"
   },
   {
    "duration": 228,
    "start_time": "2022-02-01T07:58:12.632Z"
   }
  ],
  "kernelspec": {
   "display_name": "Python 3",
   "language": "python",
   "name": "python3"
  },
  "language_info": {
   "codemirror_mode": {
    "name": "ipython",
    "version": 3
   },
   "file_extension": ".py",
   "mimetype": "text/x-python",
   "name": "python",
   "nbconvert_exporter": "python",
   "pygments_lexer": "ipython3",
   "version": "3.8.8"
  },
  "toc": {
   "base_numbering": 1,
   "nav_menu": {},
   "number_sections": true,
   "sideBar": true,
   "skip_h1_title": true,
   "title_cell": "Table of Contents",
   "title_sidebar": "Contents",
   "toc_cell": false,
   "toc_position": {},
   "toc_section_display": true,
   "toc_window_display": false
  },
  "toc-autonumbering": true,
  "toc-showcode": false,
  "toc-showmarkdowntxt": false,
  "toc-showtags": false
 },
 "nbformat": 4,
 "nbformat_minor": 5
}
