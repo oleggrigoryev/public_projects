{
 "cells": [
  {
   "cell_type": "markdown",
   "metadata": {},
   "source": [
    "## Описание проекта  \n",
    "Проведу исследование рынка комрьютерных игр. Из открытых источников доступны исторические данные о продажах игр, оценки пользователей и экспертов, жанры и платформы (например, Xbox или PlayStation).\n",
    "\n",
    "Передо мной данные до 2016 года, сейчас декабрь 2016 г., и я планирую кампанию на 2017-й. Нужно отработать принцип работы с данными.\n",
    "В наборе данных попадается аббревиатура ESRB (Entertainment Software Rating Board) — это ассоциация, определяющая возрастной рейтинг компьютерных игр. ESRB оценивает игровой контент и присваивает ему подходящую возрастную категорию, например, «Для взрослых», «Для детей младшего возраста» или «Для подростков».  \n",
    "\n",
    "**Мне нужно** выявить определяющие успешность игры закономерности. Это позволит сделать ставку на потенциально популярный продукт и спланировать рекламные кампании."
   ]
  },
  {
   "cell_type": "markdown",
   "metadata": {},
   "source": [
    "## Шаг 1. Открою файл с данными и изучите общую информацию"
   ]
  },
  {
   "cell_type": "markdown",
   "metadata": {},
   "source": [
    "Импортирую необходимые библиотеки"
   ]
  },
  {
   "cell_type": "code",
   "execution_count": 1,
   "metadata": {},
   "outputs": [],
   "source": [
    "import pandas as pd\n",
    "import matplotlib.pyplot as plt\n",
    "import numpy as np\n",
    "import math as mt\n",
    "from matplotlib import pyplot as plt\n",
    "from math import factorial\n",
    "from scipy import stats as st\n",
    "import seaborn as sns"
   ]
  },
  {
   "cell_type": "markdown",
   "metadata": {},
   "source": [
    "Уберу предупреждения питона"
   ]
  },
  {
   "cell_type": "code",
   "execution_count": 2,
   "metadata": {},
   "outputs": [],
   "source": [
    "import warnings\n",
    "warnings.filterwarnings(\"ignore\")"
   ]
  },
  {
   "cell_type": "markdown",
   "metadata": {},
   "source": [
    "Включу вывод всего из ячейки"
   ]
  },
  {
   "cell_type": "code",
   "execution_count": 3,
   "metadata": {},
   "outputs": [],
   "source": [
    "from IPython.core.interactiveshell import InteractiveShell\n",
    "InteractiveShell.ast_node_interactivity = \"all\""
   ]
  },
  {
   "cell_type": "markdown",
   "metadata": {},
   "source": [
    "Прочитаю файл и оценю общие сведения о данных"
   ]
  },
  {
   "cell_type": "code",
   "execution_count": 4,
   "metadata": {},
   "outputs": [],
   "source": [
    "df = pd.read_csv('games.csv')"
   ]
  },
  {
   "cell_type": "code",
   "execution_count": 5,
   "metadata": {},
   "outputs": [
    {
     "data": {
      "text/plain": [
       "(16715, 11)"
      ]
     },
     "execution_count": 5,
     "metadata": {},
     "output_type": "execute_result"
    }
   ],
   "source": [
    "df.shape"
   ]
  },
  {
   "cell_type": "code",
   "execution_count": 6,
   "metadata": {},
   "outputs": [
    {
     "name": "stdout",
     "output_type": "stream",
     "text": [
      "<class 'pandas.core.frame.DataFrame'>\n",
      "RangeIndex: 16715 entries, 0 to 16714\n",
      "Data columns (total 11 columns):\n",
      "Name               16713 non-null object\n",
      "Platform           16715 non-null object\n",
      "Year_of_Release    16446 non-null float64\n",
      "Genre              16713 non-null object\n",
      "NA_sales           16715 non-null float64\n",
      "EU_sales           16715 non-null float64\n",
      "JP_sales           16715 non-null float64\n",
      "Other_sales        16715 non-null float64\n",
      "Critic_Score       8137 non-null float64\n",
      "User_Score         10014 non-null object\n",
      "Rating             9949 non-null object\n",
      "dtypes: float64(6), object(5)\n",
      "memory usage: 1.4+ MB\n"
     ]
    }
   ],
   "source": [
    "df.info()"
   ]
  },
  {
   "cell_type": "code",
   "execution_count": 7,
   "metadata": {},
   "outputs": [
    {
     "data": {
      "text/plain": [
       "Name                  2\n",
       "Platform              0\n",
       "Year_of_Release     269\n",
       "Genre                 2\n",
       "NA_sales              0\n",
       "EU_sales              0\n",
       "JP_sales              0\n",
       "Other_sales           0\n",
       "Critic_Score       8578\n",
       "User_Score         6701\n",
       "Rating             6766\n",
       "dtype: int64"
      ]
     },
     "execution_count": 7,
     "metadata": {},
     "output_type": "execute_result"
    }
   ],
   "source": [
    "df.isna().sum()"
   ]
  },
  {
   "cell_type": "markdown",
   "metadata": {},
   "source": [
    "## Шаг 2. Подготовлю данные"
   ]
  },
  {
   "cell_type": "markdown",
   "metadata": {},
   "source": [
    "### Заменю названия столбцов;"
   ]
  },
  {
   "cell_type": "markdown",
   "metadata": {},
   "source": [
    "Переименую столбцы, чтобы названия были простыми и понятными, содержали только строчные буквы (нужного регистра)"
   ]
  },
  {
   "cell_type": "code",
   "execution_count": 8,
   "metadata": {},
   "outputs": [],
   "source": [
    "column_names = ['name', 'platform', 'year', 'genre', 'na_sales', 'eu_sales', 'jp_sales', 'other_sales', 'critic_score', 'user_score', 'rating']\n",
    "df.set_axis(column_names, axis='columns', inplace=True)"
   ]
  },
  {
   "cell_type": "markdown",
   "metadata": {},
   "source": [
    "### Преобразую данные в нужные типы. Опишу, в каких столбцах заменили тип данных и почему"
   ]
  },
  {
   "cell_type": "markdown",
   "metadata": {},
   "source": [
    "Посмотрю на уникальные значения в столбцах с дискретными данным"
   ]
  },
  {
   "cell_type": "code",
   "execution_count": 9,
   "metadata": {
    "scrolled": true
   },
   "outputs": [
    {
     "name": "stdout",
     "output_type": "stream",
     "text": [
      "Уникальные значения в столбце name \n",
      " ['Wii Sports' 'Super Mario Bros.' 'Mario Kart Wii' ...\n",
      " 'Woody Woodpecker in Crazy Castle 5' 'LMA Manager 2007'\n",
      " 'Haitaka no Psychedelica']\n",
      "Уникальные значения в столбце platform \n",
      " ['Wii' 'NES' 'GB' 'DS' 'X360' 'PS3' 'PS2' 'SNES' 'GBA' 'PS4' '3DS' 'N64'\n",
      " 'PS' 'XB' 'PC' '2600' 'PSP' 'XOne' 'WiiU' 'GC' 'GEN' 'DC' 'PSV' 'SAT'\n",
      " 'SCD' 'WS' 'NG' 'TG16' '3DO' 'GG' 'PCFX']\n",
      "Уникальные значения в столбце year \n",
      " [2006. 1985. 2008. 2009. 1996. 1989. 1984. 2005. 1999. 2007. 2010. 2013.\n",
      " 2004. 1990. 1988. 2002. 2001. 2011. 1998. 2015. 2012. 2014. 1992. 1997.\n",
      " 1993. 1994. 1982. 2016. 2003. 1986. 2000.   nan 1995. 1991. 1981. 1987.\n",
      " 1980. 1983.]\n",
      "Уникальные значения в столбце genre \n",
      " ['Sports' 'Platform' 'Racing' 'Role-Playing' 'Puzzle' 'Misc' 'Shooter'\n",
      " 'Simulation' 'Action' 'Fighting' 'Adventure' 'Strategy' nan]\n"
     ]
    }
   ],
   "source": [
    "for name in ['name', 'platform', 'year', 'genre']:\n",
    "    print('Уникальные значения в столбце',  name, '\\n', df[name].unique())"
   ]
  },
  {
   "cell_type": "markdown",
   "metadata": {},
   "source": [
    "Чтобы преобразовать тип столбца с годом из float в int необходимо заполнить пропуски.  \n",
    "Сгруппирую данные по названиям игр и вычислю медианный год релиза для заполнения пропусков."
   ]
  },
  {
   "cell_type": "code",
   "execution_count": 10,
   "metadata": {},
   "outputs": [],
   "source": [
    "name_year = df.groupby('name')['year'].median().reset_index()"
   ]
  },
  {
   "cell_type": "markdown",
   "metadata": {},
   "source": [
    "Без года релиза немного строк, но мы можем заполнить некоторые данные на основании медианных дианных по другим платформам, т.к. игры выходят примерно одновременно на разных."
   ]
  },
  {
   "cell_type": "code",
   "execution_count": 11,
   "metadata": {
    "scrolled": true
   },
   "outputs": [
    {
     "name": "stdout",
     "output_type": "stream",
     "text": [
      "Без указания года релиза после заполнения по медиане: 0.9% строк\n"
     ]
    }
   ],
   "source": [
    "df['year'] = df['year'].fillna(df.groupby('name')['year'].transform('median'))\n",
    "count_wo_year = df['year'].isna().sum()\n",
    "print('Без указания года релиза после заполнения по медиане: {:.1%} строк'.format(count_wo_year / len(df)))"
   ]
  },
  {
   "cell_type": "markdown",
   "metadata": {
    "scrolled": true
   },
   "source": [
    "Удалю оставшиеся строки без года релиза, т.к. их немного:"
   ]
  },
  {
   "cell_type": "code",
   "execution_count": 12,
   "metadata": {
    "scrolled": true
   },
   "outputs": [
    {
     "data": {
      "text/plain": [
       "0"
      ]
     },
     "execution_count": 12,
     "metadata": {},
     "output_type": "execute_result"
    }
   ],
   "source": [
    "df.dropna(subset = ['year'], inplace = True)\n",
    "df['year'].isna().sum() # оставшиеся значения 'year' с пропусками"
   ]
  },
  {
   "cell_type": "markdown",
   "metadata": {
    "scrolled": true
   },
   "source": [
    "Преобразую годы в тип \"integer\":"
   ]
  },
  {
   "cell_type": "code",
   "execution_count": 13,
   "metadata": {
    "scrolled": true
   },
   "outputs": [],
   "source": [
    "df.loc[df['year'].isna() == False, 'year'] = df.loc[df['year'].isna() == False, 'year'].astype(int)"
   ]
  },
  {
   "cell_type": "markdown",
   "metadata": {},
   "source": [
    "Оба столбца с рейтингами имеют тип \"object\", что выглядит не логичным"
   ]
  },
  {
   "cell_type": "code",
   "execution_count": 14,
   "metadata": {},
   "outputs": [
    {
     "data": {
      "text/html": [
       "<div>\n",
       "<style scoped>\n",
       "    .dataframe tbody tr th:only-of-type {\n",
       "        vertical-align: middle;\n",
       "    }\n",
       "\n",
       "    .dataframe tbody tr th {\n",
       "        vertical-align: top;\n",
       "    }\n",
       "\n",
       "    .dataframe thead th {\n",
       "        text-align: right;\n",
       "    }\n",
       "</style>\n",
       "<table border=\"1\" class=\"dataframe\">\n",
       "  <thead>\n",
       "    <tr style=\"text-align: right;\">\n",
       "      <th></th>\n",
       "      <th>user_score</th>\n",
       "      <th>rating</th>\n",
       "    </tr>\n",
       "  </thead>\n",
       "  <tbody>\n",
       "    <tr>\n",
       "      <td>0</td>\n",
       "      <td>8</td>\n",
       "      <td>E</td>\n",
       "    </tr>\n",
       "    <tr>\n",
       "      <td>1</td>\n",
       "      <td>NaN</td>\n",
       "      <td>NaN</td>\n",
       "    </tr>\n",
       "    <tr>\n",
       "      <td>2</td>\n",
       "      <td>8.3</td>\n",
       "      <td>E</td>\n",
       "    </tr>\n",
       "    <tr>\n",
       "      <td>3</td>\n",
       "      <td>8</td>\n",
       "      <td>E</td>\n",
       "    </tr>\n",
       "    <tr>\n",
       "      <td>4</td>\n",
       "      <td>NaN</td>\n",
       "      <td>NaN</td>\n",
       "    </tr>\n",
       "  </tbody>\n",
       "</table>\n",
       "</div>"
      ],
      "text/plain": [
       "  user_score rating\n",
       "0          8      E\n",
       "1        NaN    NaN\n",
       "2        8.3      E\n",
       "3          8      E\n",
       "4        NaN    NaN"
      ]
     },
     "execution_count": 14,
     "metadata": {},
     "output_type": "execute_result"
    }
   ],
   "source": [
    "df[['user_score', 'rating']].head()"
   ]
  },
  {
   "cell_type": "code",
   "execution_count": 15,
   "metadata": {
    "scrolled": true
   },
   "outputs": [],
   "source": [
    "unique_score = df['user_score'].value_counts().rename_axis('unique_values').reset_index(name='counts')\n",
    "unique_rating = df['rating'].value_counts().rename_axis('unique_values').reset_index(name='counts')"
   ]
  },
  {
   "cell_type": "markdown",
   "metadata": {},
   "source": [
    "Выведу все варианты уникальных значений:"
   ]
  },
  {
   "cell_type": "code",
   "execution_count": 16,
   "metadata": {
    "scrolled": true
   },
   "outputs": [
    {
     "name": "stdout",
     "output_type": "stream",
     "text": [
      "   unique_values  counts\n",
      "0            tbd    2394\n",
      "1            7.8     324\n",
      "2              8     288\n",
      "3            8.2     279\n",
      "4            8.3     253\n",
      "5            8.5     252\n",
      "6            7.5     251\n",
      "7            7.9     249\n",
      "8            8.1     241\n",
      "9            7.7     239\n",
      "10           7.3     236\n",
      "11           8.4     222\n",
      "12             7     219\n",
      "13           7.4     215\n",
      "14           7.6     214\n",
      "15           8.6     209\n",
      "16           6.8     195\n",
      "17           8.7     187\n",
      "18           8.8     182\n",
      "19           7.1     180\n",
      "20           7.2     166\n",
      "21           8.9     151\n",
      "22           6.6     148\n",
      "23           6.9     140\n",
      "24           6.3     136\n",
      "25           6.7     128\n",
      "26             6     127\n",
      "27           6.5     125\n",
      "28             9     119\n",
      "29           6.2     113\n",
      "30           6.4     106\n",
      "31           5.8      97\n",
      "32           9.1      90\n",
      "33           6.1      82\n",
      "34           5.9      77\n",
      "35           5.7      77\n",
      "36           5.4      72\n",
      "37           5.6      72\n",
      "38           5.5      70\n",
      "39           5.3      70\n",
      "40             5      64\n",
      "41           5.2      57\n",
      "42           4.8      49\n",
      "43           5.1      44\n",
      "44           9.2      43\n",
      "45           4.9      40\n",
      "46           4.6      37\n",
      "47           4.3      37\n",
      "48           4.4      33\n",
      "49           4.1      33\n",
      "50           4.5      33\n",
      "51           9.3      31\n",
      "52           3.8      27\n",
      "53           4.2      27\n",
      "54             4      27\n",
      "55           3.5      26\n",
      "56           2.8      24\n",
      "57           4.7      24\n",
      "58           3.1      23\n",
      "59           3.4      23\n",
      "60             3      21\n",
      "61           3.7      19\n",
      "62           3.6      18\n",
      "63           3.3      15\n",
      "64           3.9      13\n",
      "65           2.5      12\n",
      "66           3.2      12\n",
      "67           9.4      11\n",
      "68             2      11\n",
      "69           2.4      11\n",
      "70           2.9       9\n",
      "71           1.7       9\n",
      "72           2.1       9\n",
      "73           2.7       8\n",
      "74           2.2       6\n",
      "75           1.4       5\n",
      "76           1.8       5\n",
      "77           9.5       5\n",
      "78           2.6       4\n",
      "79           1.2       3\n",
      "80           1.6       3\n",
      "81           1.1       2\n",
      "82           1.9       2\n",
      "83           0.6       2\n",
      "84           0.2       2\n",
      "85           1.3       2\n",
      "86           0.5       2\n",
      "87           0.7       2\n",
      "88           2.3       2\n",
      "89           9.6       2\n",
      "90           0.3       2\n",
      "91           1.5       2\n",
      "92           0.9       2\n",
      "93             1       2\n",
      "94             0       1\n",
      "95           9.7       1\n",
      "  unique_values  counts\n",
      "0             E    3958\n",
      "1             T    2930\n",
      "2             M    1554\n",
      "3          E10+    1412\n",
      "4            EC       8\n",
      "5           K-A       3\n",
      "6            RP       2\n",
      "7            AO       1\n"
     ]
    }
   ],
   "source": [
    "with pd.option_context('display.max_rows', None, 'display.max_columns', None):  # more options can be specified also\n",
    "    print(unique_score)\n",
    "    print(unique_rating)"
   ]
  },
  {
   "cell_type": "code",
   "execution_count": 17,
   "metadata": {},
   "outputs": [
    {
     "name": "stdout",
     "output_type": "stream",
     "text": [
      "Пропущенных значений в \"user_score\":6635. Это 40% от всех данных.\n",
      "Пропущенных значений в \"rating\":6701. Это 40% от всех данных.\n"
     ]
    }
   ],
   "source": [
    "print('Пропущенных значений в \"user_score\":{:.0f}. Это {:.0%} от всех данных.'.format(df['user_score'].isna().sum(), df['user_score'].isna().sum() / len(df)))\n",
    "print('Пропущенных значений в \"rating\":{:.0f}. Это {:.0%} от всех данных.'.format(df['rating'].isna().sum(), df['rating'].isna().sum() / len(df)))"
   ]
  },
  {
   "cell_type": "markdown",
   "metadata": {},
   "source": [
    "У нас есть очень много уникальных значений \"tbd\". Предположу, что это \"To Be Determined\". С этим ничего не поделать, видимо.  \n",
    "Кроме этого, есть пропущенные значения в 'user_score' (40%) и 'rating' (40%)."
   ]
  },
  {
   "cell_type": "markdown",
   "metadata": {},
   "source": [
    "Заменю загадочные 'tbd' на пропуски:"
   ]
  },
  {
   "cell_type": "code",
   "execution_count": 18,
   "metadata": {},
   "outputs": [],
   "source": [
    "df['user_score'] = df['user_score'].replace('tbd', None)"
   ]
  },
  {
   "cell_type": "markdown",
   "metadata": {},
   "source": [
    "Переведу 'user_score' в тип 'float'"
   ]
  },
  {
   "cell_type": "code",
   "execution_count": 19,
   "metadata": {
    "scrolled": true
   },
   "outputs": [],
   "source": [
    "df['user_score'] = df['user_score'].astype(float)"
   ]
  },
  {
   "cell_type": "markdown",
   "metadata": {},
   "source": [
    "Заменю значения в старом названии \"K-A\" (\"Kins to Asults\") на актуальное \"E\" (\"Everyone\")"
   ]
  },
  {
   "cell_type": "code",
   "execution_count": 20,
   "metadata": {},
   "outputs": [],
   "source": [
    "df['rating'] = df['rating'].replace('K-A', 'E')"
   ]
  },
  {
   "cell_type": "code",
   "execution_count": 21,
   "metadata": {},
   "outputs": [],
   "source": [
    "df['rating'] = df['rating'].fillna('no_rating')"
   ]
  },
  {
   "cell_type": "markdown",
   "metadata": {},
   "source": [
    "### Обработаю пропуски при необходимости"
   ]
  },
  {
   "cell_type": "markdown",
   "metadata": {},
   "source": [
    "Посмотрю, в каких столбцах есть пропущенные значения"
   ]
  },
  {
   "cell_type": "code",
   "execution_count": 22,
   "metadata": {},
   "outputs": [
    {
     "data": {
      "text/plain": [
       "name               2\n",
       "platform           0\n",
       "year               0\n",
       "genre              2\n",
       "na_sales           0\n",
       "eu_sales           0\n",
       "jp_sales           0\n",
       "other_sales        0\n",
       "critic_score    8494\n",
       "user_score      7871\n",
       "rating             0\n",
       "dtype: int64"
      ]
     },
     "execution_count": 22,
     "metadata": {},
     "output_type": "execute_result"
    }
   ],
   "source": [
    "df.isna().sum()"
   ]
  },
  {
   "cell_type": "code",
   "execution_count": 23,
   "metadata": {},
   "outputs": [
    {
     "data": {
      "text/html": [
       "<div>\n",
       "<style scoped>\n",
       "    .dataframe tbody tr th:only-of-type {\n",
       "        vertical-align: middle;\n",
       "    }\n",
       "\n",
       "    .dataframe tbody tr th {\n",
       "        vertical-align: top;\n",
       "    }\n",
       "\n",
       "    .dataframe thead th {\n",
       "        text-align: right;\n",
       "    }\n",
       "</style>\n",
       "<table border=\"1\" class=\"dataframe\">\n",
       "  <thead>\n",
       "    <tr style=\"text-align: right;\">\n",
       "      <th></th>\n",
       "      <th>name</th>\n",
       "      <th>platform</th>\n",
       "      <th>year</th>\n",
       "      <th>genre</th>\n",
       "      <th>na_sales</th>\n",
       "      <th>eu_sales</th>\n",
       "      <th>jp_sales</th>\n",
       "      <th>other_sales</th>\n",
       "      <th>critic_score</th>\n",
       "      <th>user_score</th>\n",
       "      <th>rating</th>\n",
       "    </tr>\n",
       "  </thead>\n",
       "  <tbody>\n",
       "    <tr>\n",
       "      <td>659</td>\n",
       "      <td>NaN</td>\n",
       "      <td>GEN</td>\n",
       "      <td>1993</td>\n",
       "      <td>NaN</td>\n",
       "      <td>1.78</td>\n",
       "      <td>0.53</td>\n",
       "      <td>0.00</td>\n",
       "      <td>0.08</td>\n",
       "      <td>NaN</td>\n",
       "      <td>NaN</td>\n",
       "      <td>no_rating</td>\n",
       "    </tr>\n",
       "    <tr>\n",
       "      <td>14244</td>\n",
       "      <td>NaN</td>\n",
       "      <td>GEN</td>\n",
       "      <td>1993</td>\n",
       "      <td>NaN</td>\n",
       "      <td>0.00</td>\n",
       "      <td>0.00</td>\n",
       "      <td>0.03</td>\n",
       "      <td>0.00</td>\n",
       "      <td>NaN</td>\n",
       "      <td>NaN</td>\n",
       "      <td>no_rating</td>\n",
       "    </tr>\n",
       "  </tbody>\n",
       "</table>\n",
       "</div>"
      ],
      "text/plain": [
       "      name platform  year genre  na_sales  eu_sales  jp_sales  other_sales  \\\n",
       "659    NaN      GEN  1993   NaN      1.78      0.53      0.00         0.08   \n",
       "14244  NaN      GEN  1993   NaN      0.00      0.00      0.03         0.00   \n",
       "\n",
       "       critic_score  user_score     rating  \n",
       "659             NaN         NaN  no_rating  \n",
       "14244           NaN         NaN  no_rating  "
      ]
     },
     "execution_count": 23,
     "metadata": {},
     "output_type": "execute_result"
    }
   ],
   "source": [
    "df[df['genre'].isna()]"
   ]
  },
  {
   "cell_type": "markdown",
   "metadata": {},
   "source": [
    "Нет данных, по которым можно было бы заполнить пропуски. Удалю строки эти строки."
   ]
  },
  {
   "cell_type": "code",
   "execution_count": 24,
   "metadata": {},
   "outputs": [
    {
     "data": {
      "text/html": [
       "<div>\n",
       "<style scoped>\n",
       "    .dataframe tbody tr th:only-of-type {\n",
       "        vertical-align: middle;\n",
       "    }\n",
       "\n",
       "    .dataframe tbody tr th {\n",
       "        vertical-align: top;\n",
       "    }\n",
       "\n",
       "    .dataframe thead th {\n",
       "        text-align: right;\n",
       "    }\n",
       "</style>\n",
       "<table border=\"1\" class=\"dataframe\">\n",
       "  <thead>\n",
       "    <tr style=\"text-align: right;\">\n",
       "      <th></th>\n",
       "      <th>name</th>\n",
       "      <th>platform</th>\n",
       "      <th>year</th>\n",
       "      <th>genre</th>\n",
       "      <th>na_sales</th>\n",
       "      <th>eu_sales</th>\n",
       "      <th>jp_sales</th>\n",
       "      <th>other_sales</th>\n",
       "      <th>critic_score</th>\n",
       "      <th>user_score</th>\n",
       "      <th>rating</th>\n",
       "    </tr>\n",
       "  </thead>\n",
       "  <tbody>\n",
       "    <tr>\n",
       "      <td>659</td>\n",
       "      <td>NaN</td>\n",
       "      <td>GEN</td>\n",
       "      <td>1993</td>\n",
       "      <td>NaN</td>\n",
       "      <td>1.78</td>\n",
       "      <td>0.53</td>\n",
       "      <td>0.00</td>\n",
       "      <td>0.08</td>\n",
       "      <td>NaN</td>\n",
       "      <td>NaN</td>\n",
       "      <td>no_rating</td>\n",
       "    </tr>\n",
       "    <tr>\n",
       "      <td>14244</td>\n",
       "      <td>NaN</td>\n",
       "      <td>GEN</td>\n",
       "      <td>1993</td>\n",
       "      <td>NaN</td>\n",
       "      <td>0.00</td>\n",
       "      <td>0.00</td>\n",
       "      <td>0.03</td>\n",
       "      <td>0.00</td>\n",
       "      <td>NaN</td>\n",
       "      <td>NaN</td>\n",
       "      <td>no_rating</td>\n",
       "    </tr>\n",
       "  </tbody>\n",
       "</table>\n",
       "</div>"
      ],
      "text/plain": [
       "      name platform  year genre  na_sales  eu_sales  jp_sales  other_sales  \\\n",
       "659    NaN      GEN  1993   NaN      1.78      0.53      0.00         0.08   \n",
       "14244  NaN      GEN  1993   NaN      0.00      0.00      0.03         0.00   \n",
       "\n",
       "       critic_score  user_score     rating  \n",
       "659             NaN         NaN  no_rating  \n",
       "14244           NaN         NaN  no_rating  "
      ]
     },
     "execution_count": 24,
     "metadata": {},
     "output_type": "execute_result"
    }
   ],
   "source": [
    "df[df['name'].isna()]"
   ]
  },
  {
   "cell_type": "markdown",
   "metadata": {},
   "source": [
    "Тоже не достаточно данных для заполнения пропусков. Удаляю."
   ]
  },
  {
   "cell_type": "code",
   "execution_count": 25,
   "metadata": {},
   "outputs": [],
   "source": [
    "df.dropna(subset = ['name', 'genre'], inplace = True)"
   ]
  },
  {
   "cell_type": "markdown",
   "metadata": {},
   "source": [
    "Значение tbd в столбце с рейтингом по консолидированному мнению походе на 'to be determined'. Я обработал их ранее."
   ]
  },
  {
   "cell_type": "markdown",
   "metadata": {},
   "source": [
    "### Посчитаю суммарные продажи во всех регионах и запишу их в отдельный столбец"
   ]
  },
  {
   "cell_type": "code",
   "execution_count": 26,
   "metadata": {},
   "outputs": [
    {
     "data": {
      "text/plain": [
       "Index(['name', 'platform', 'year', 'genre', 'na_sales', 'eu_sales', 'jp_sales',\n",
       "       'other_sales', 'critic_score', 'user_score', 'rating'],\n",
       "      dtype='object')"
      ]
     },
     "execution_count": 26,
     "metadata": {},
     "output_type": "execute_result"
    }
   ],
   "source": [
    "df.columns"
   ]
  },
  {
   "cell_type": "markdown",
   "metadata": {},
   "source": [
    "Запишу суммарные продажи в новый столбец"
   ]
  },
  {
   "cell_type": "code",
   "execution_count": 27,
   "metadata": {},
   "outputs": [],
   "source": [
    "df['ttl_sales'] = df['na_sales'] + df['eu_sales'] + df['jp_sales'] + df['other_sales']"
   ]
  },
  {
   "cell_type": "markdown",
   "metadata": {},
   "source": [
    "## Шаг 3. Проведу исследовательский анализ данных"
   ]
  },
  {
   "cell_type": "markdown",
   "metadata": {},
   "source": [
    "### Посмотрите, сколько игр выпускалось в разные годы. Важны ли данные за все периоды?"
   ]
  },
  {
   "cell_type": "markdown",
   "metadata": {},
   "source": [
    "Сгруппируюю данные по годам и посчитаю кол-во выпущенных игр"
   ]
  },
  {
   "cell_type": "code",
   "execution_count": 28,
   "metadata": {
    "scrolled": false
   },
   "outputs": [
    {
     "data": {
      "text/plain": [
       "Text(0.5, 1.0, 'count of games by years')"
      ]
     },
     "execution_count": 28,
     "metadata": {},
     "output_type": "execute_result"
    },
    {
     "data": {
      "text/plain": [
       "<matplotlib.axes._subplots.AxesSubplot at 0x7f137a3bf410>"
      ]
     },
     "execution_count": 28,
     "metadata": {},
     "output_type": "execute_result"
    },
    {
     "data": {
      "image/png": "[encoded data removed]",
      "text/plain": [
       "<Figure size 432x288 with 1 Axes>"
      ]
     },
     "metadata": {
      "needs_background": "light"
     },
     "output_type": "display_data"
    }
   ],
   "source": [
    "games_years = df.groupby('year')['name'].count()\n",
    "plt.title('count of games by years')\n",
    "games_years.plot.bar()"
   ]
  },
  {
   "cell_type": "markdown",
   "metadata": {},
   "source": [
    "Оценю распределение выпущенных игр по годам на \"ящике с усами\""
   ]
  },
  {
   "cell_type": "code",
   "execution_count": 29,
   "metadata": {},
   "outputs": [
    {
     "data": {
      "text/plain": [
       "<matplotlib.axes._subplots.AxesSubplot at 0x7f1371b94c10>"
      ]
     },
     "execution_count": 29,
     "metadata": {},
     "output_type": "execute_result"
    },
    {
     "data": {
      "image/png": "[encoded data removed]",
      "text/plain": [
       "<Figure size 432x288 with 1 Axes>"
      ]
     },
     "metadata": {
      "needs_background": "light"
     },
     "output_type": "display_data"
    },
    {
     "data": {
      "text/plain": [
       "count    16567.000000\n",
       "mean      2006.490252\n",
       "std          5.862680\n",
       "min       1980.000000\n",
       "25%       2003.000000\n",
       "50%       2007.000000\n",
       "75%       2010.000000\n",
       "max       2016.000000\n",
       "Name: year, dtype: float64"
      ]
     },
     "execution_count": 29,
     "metadata": {},
     "output_type": "execute_result"
    }
   ],
   "source": [
    "df.boxplot(column = 'year')\n",
    "plt.show()\n",
    "df['year'].describe()"
   ]
  },
  {
   "cell_type": "markdown",
   "metadata": {},
   "source": [
    "Похоже, данные до 1993 года оказывают несущественное влияние на общую картину — игры тогда только зарождались в современном понимании.  \n",
    "Удалять не буду, пока это не влияем на анализ. Посмотрю на всякий случай, как распределены продажи по годам."
   ]
  },
  {
   "cell_type": "code",
   "execution_count": 30,
   "metadata": {},
   "outputs": [
    {
     "data": {
      "text/plain": [
       "<matplotlib.axes._subplots.AxesSubplot at 0x7f1371b8b210>"
      ]
     },
     "execution_count": 30,
     "metadata": {},
     "output_type": "execute_result"
    },
    {
     "data": {
      "text/plain": [
       "Text(0.5, 1.0, 'ttl sales value by years')"
      ]
     },
     "execution_count": 30,
     "metadata": {},
     "output_type": "execute_result"
    },
    {
     "data": {
      "image/png": "[encoded data removed]",
      "text/plain": [
       "<Figure size 432x288 with 1 Axes>"
      ]
     },
     "metadata": {
      "needs_background": "light"
     },
     "output_type": "display_data"
    }
   ],
   "source": [
    "df.groupby('year')['ttl_sales'].sum().plot.bar()\n",
    "plt.title('ttl sales value by years')\n",
    "plt.show()"
   ]
  },
  {
   "cell_type": "markdown",
   "metadata": {},
   "source": [
    "Распределение объёмов общих продаж по годам имеет похожее распределение на выпуск игр."
   ]
  },
  {
   "cell_type": "markdown",
   "metadata": {},
   "source": [
    "### Посмотрю, как менялись продажи по платформам. Выберу платформы с наибольшими суммарными продажами и построю распределение по годам. Оценю, за какой характерный срок появляются новые и исчезают старые платформы?"
   ]
  },
  {
   "cell_type": "markdown",
   "metadata": {},
   "source": [
    "Посмотрю на продажи по платформам, отсортированные по возрастанию"
   ]
  },
  {
   "cell_type": "code",
   "execution_count": 31,
   "metadata": {
    "scrolled": true
   },
   "outputs": [
    {
     "data": {
      "text/html": [
       "<div>\n",
       "<style scoped>\n",
       "    .dataframe tbody tr th:only-of-type {\n",
       "        vertical-align: middle;\n",
       "    }\n",
       "\n",
       "    .dataframe tbody tr th {\n",
       "        vertical-align: top;\n",
       "    }\n",
       "\n",
       "    .dataframe thead th {\n",
       "        text-align: right;\n",
       "    }\n",
       "</style>\n",
       "<table border=\"1\" class=\"dataframe\">\n",
       "  <thead>\n",
       "    <tr style=\"text-align: right;\">\n",
       "      <th></th>\n",
       "      <th>platform</th>\n",
       "      <th>ttl_sales</th>\n",
       "    </tr>\n",
       "  </thead>\n",
       "  <tbody>\n",
       "    <tr>\n",
       "      <td>16</td>\n",
       "      <td>PS2</td>\n",
       "      <td>1247.16</td>\n",
       "    </tr>\n",
       "    <tr>\n",
       "      <td>28</td>\n",
       "      <td>X360</td>\n",
       "      <td>966.61</td>\n",
       "    </tr>\n",
       "    <tr>\n",
       "      <td>17</td>\n",
       "      <td>PS3</td>\n",
       "      <td>935.19</td>\n",
       "    </tr>\n",
       "    <tr>\n",
       "      <td>26</td>\n",
       "      <td>Wii</td>\n",
       "      <td>903.31</td>\n",
       "    </tr>\n",
       "    <tr>\n",
       "      <td>4</td>\n",
       "      <td>DS</td>\n",
       "      <td>804.28</td>\n",
       "    </tr>\n",
       "    <tr>\n",
       "      <td>15</td>\n",
       "      <td>PS</td>\n",
       "      <td>727.58</td>\n",
       "    </tr>\n",
       "    <tr>\n",
       "      <td>18</td>\n",
       "      <td>PS4</td>\n",
       "      <td>314.14</td>\n",
       "    </tr>\n",
       "    <tr>\n",
       "      <td>6</td>\n",
       "      <td>GBA</td>\n",
       "      <td>313.73</td>\n",
       "    </tr>\n",
       "    <tr>\n",
       "      <td>19</td>\n",
       "      <td>PSP</td>\n",
       "      <td>293.57</td>\n",
       "    </tr>\n",
       "    <tr>\n",
       "      <td>13</td>\n",
       "      <td>PC</td>\n",
       "      <td>258.86</td>\n",
       "    </tr>\n",
       "    <tr>\n",
       "      <td>2</td>\n",
       "      <td>3DS</td>\n",
       "      <td>258.53</td>\n",
       "    </tr>\n",
       "    <tr>\n",
       "      <td>29</td>\n",
       "      <td>XB</td>\n",
       "      <td>256.69</td>\n",
       "    </tr>\n",
       "    <tr>\n",
       "      <td>5</td>\n",
       "      <td>GB</td>\n",
       "      <td>254.43</td>\n",
       "    </tr>\n",
       "    <tr>\n",
       "      <td>11</td>\n",
       "      <td>NES</td>\n",
       "      <td>251.05</td>\n",
       "    </tr>\n",
       "    <tr>\n",
       "      <td>10</td>\n",
       "      <td>N64</td>\n",
       "      <td>218.48</td>\n",
       "    </tr>\n",
       "    <tr>\n",
       "      <td>23</td>\n",
       "      <td>SNES</td>\n",
       "      <td>200.04</td>\n",
       "    </tr>\n",
       "    <tr>\n",
       "      <td>7</td>\n",
       "      <td>GC</td>\n",
       "      <td>198.66</td>\n",
       "    </tr>\n",
       "    <tr>\n",
       "      <td>30</td>\n",
       "      <td>XOne</td>\n",
       "      <td>159.32</td>\n",
       "    </tr>\n",
       "    <tr>\n",
       "      <td>0</td>\n",
       "      <td>2600</td>\n",
       "      <td>89.01</td>\n",
       "    </tr>\n",
       "    <tr>\n",
       "      <td>27</td>\n",
       "      <td>WiiU</td>\n",
       "      <td>82.19</td>\n",
       "    </tr>\n",
       "    <tr>\n",
       "      <td>20</td>\n",
       "      <td>PSV</td>\n",
       "      <td>53.81</td>\n",
       "    </tr>\n",
       "    <tr>\n",
       "      <td>21</td>\n",
       "      <td>SAT</td>\n",
       "      <td>33.59</td>\n",
       "    </tr>\n",
       "    <tr>\n",
       "      <td>8</td>\n",
       "      <td>GEN</td>\n",
       "      <td>28.35</td>\n",
       "    </tr>\n",
       "    <tr>\n",
       "      <td>3</td>\n",
       "      <td>DC</td>\n",
       "      <td>15.95</td>\n",
       "    </tr>\n",
       "    <tr>\n",
       "      <td>22</td>\n",
       "      <td>SCD</td>\n",
       "      <td>1.86</td>\n",
       "    </tr>\n",
       "    <tr>\n",
       "      <td>12</td>\n",
       "      <td>NG</td>\n",
       "      <td>1.44</td>\n",
       "    </tr>\n",
       "    <tr>\n",
       "      <td>25</td>\n",
       "      <td>WS</td>\n",
       "      <td>1.42</td>\n",
       "    </tr>\n",
       "    <tr>\n",
       "      <td>24</td>\n",
       "      <td>TG16</td>\n",
       "      <td>0.16</td>\n",
       "    </tr>\n",
       "    <tr>\n",
       "      <td>1</td>\n",
       "      <td>3DO</td>\n",
       "      <td>0.10</td>\n",
       "    </tr>\n",
       "    <tr>\n",
       "      <td>9</td>\n",
       "      <td>GG</td>\n",
       "      <td>0.04</td>\n",
       "    </tr>\n",
       "    <tr>\n",
       "      <td>14</td>\n",
       "      <td>PCFX</td>\n",
       "      <td>0.03</td>\n",
       "    </tr>\n",
       "  </tbody>\n",
       "</table>\n",
       "</div>"
      ],
      "text/plain": [
       "   platform  ttl_sales\n",
       "16      PS2    1247.16\n",
       "28     X360     966.61\n",
       "17      PS3     935.19\n",
       "26      Wii     903.31\n",
       "4        DS     804.28\n",
       "15       PS     727.58\n",
       "18      PS4     314.14\n",
       "6       GBA     313.73\n",
       "19      PSP     293.57\n",
       "13       PC     258.86\n",
       "2       3DS     258.53\n",
       "29       XB     256.69\n",
       "5        GB     254.43\n",
       "11      NES     251.05\n",
       "10      N64     218.48\n",
       "23     SNES     200.04\n",
       "7        GC     198.66\n",
       "30     XOne     159.32\n",
       "0      2600      89.01\n",
       "27     WiiU      82.19\n",
       "20      PSV      53.81\n",
       "21      SAT      33.59\n",
       "8       GEN      28.35\n",
       "3        DC      15.95\n",
       "22      SCD       1.86\n",
       "12       NG       1.44\n",
       "25       WS       1.42\n",
       "24     TG16       0.16\n",
       "1       3DO       0.10\n",
       "9        GG       0.04\n",
       "14     PCFX       0.03"
      ]
     },
     "execution_count": 31,
     "metadata": {},
     "output_type": "execute_result"
    }
   ],
   "source": [
    "pl_sales = df.groupby('platform')['ttl_sales'].sum().reset_index().sort_values(by = 'ttl_sales', ascending = False)\n",
    "pl_sales"
   ]
  },
  {
   "cell_type": "markdown",
   "metadata": {},
   "source": [
    "Возьму топ-5 платформ по продажам и построю по ним распределение"
   ]
  },
  {
   "cell_type": "code",
   "execution_count": 32,
   "metadata": {},
   "outputs": [
    {
     "data": {
      "text/plain": [
       "<matplotlib.axes._subplots.AxesSubplot at 0x7f1371a3d990>"
      ]
     },
     "execution_count": 32,
     "metadata": {},
     "output_type": "execute_result"
    },
    {
     "data": {
      "text/plain": [
       "Text(0.5, 1.0, 'PS2')"
      ]
     },
     "execution_count": 32,
     "metadata": {},
     "output_type": "execute_result"
    },
    {
     "data": {
      "image/png": "[encoded data removed]",
      "text/plain": [
       "<Figure size 432x288 with 1 Axes>"
      ]
     },
     "metadata": {
      "needs_background": "light"
     },
     "output_type": "display_data"
    },
    {
     "data": {
      "text/plain": [
       "<matplotlib.axes._subplots.AxesSubplot at 0x7f13719720d0>"
      ]
     },
     "execution_count": 32,
     "metadata": {},
     "output_type": "execute_result"
    },
    {
     "data": {
      "text/plain": [
       "Text(0.5, 1.0, 'X360')"
      ]
     },
     "execution_count": 32,
     "metadata": {},
     "output_type": "execute_result"
    },
    {
     "data": {
      "image/png": "[encoded data removed]",
      "text/plain": [
       "<Figure size 432x288 with 1 Axes>"
      ]
     },
     "metadata": {
      "needs_background": "light"
     },
     "output_type": "display_data"
    },
    {
     "data": {
      "text/plain": [
       "<matplotlib.axes._subplots.AxesSubplot at 0x7f1371938550>"
      ]
     },
     "execution_count": 32,
     "metadata": {},
     "output_type": "execute_result"
    },
    {
     "data": {
      "text/plain": [
       "Text(0.5, 1.0, 'PS3')"
      ]
     },
     "execution_count": 32,
     "metadata": {},
     "output_type": "execute_result"
    },
    {
     "data": {
      "image/png": "[encoded data removed]",
      "text/plain": [
       "<Figure size 432x288 with 1 Axes>"
      ]
     },
     "metadata": {
      "needs_background": "light"
     },
     "output_type": "display_data"
    },
    {
     "data": {
      "text/plain": [
       "<matplotlib.axes._subplots.AxesSubplot at 0x7f13718fbc10>"
      ]
     },
     "execution_count": 32,
     "metadata": {},
     "output_type": "execute_result"
    },
    {
     "data": {
      "text/plain": [
       "Text(0.5, 1.0, 'Wii')"
      ]
     },
     "execution_count": 32,
     "metadata": {},
     "output_type": "execute_result"
    },
    {
     "data": {
      "image/png": "[encoded data removed]",
      "text/plain": [
       "<Figure size 432x288 with 1 Axes>"
      ]
     },
     "metadata": {
      "needs_background": "light"
     },
     "output_type": "display_data"
    },
    {
     "data": {
      "text/plain": [
       "<matplotlib.axes._subplots.AxesSubplot at 0x7f1371866d50>"
      ]
     },
     "execution_count": 32,
     "metadata": {},
     "output_type": "execute_result"
    },
    {
     "data": {
      "text/plain": [
       "Text(0.5, 1.0, 'DS')"
      ]
     },
     "execution_count": 32,
     "metadata": {},
     "output_type": "execute_result"
    },
    {
     "data": {
      "image/png": "[encoded data removed]",
      "text/plain": [
       "<Figure size 432x288 with 1 Axes>"
      ]
     },
     "metadata": {
      "needs_background": "light"
     },
     "output_type": "display_data"
    }
   ],
   "source": [
    "pl_sales_top = pl_sales.head(5)\n",
    "for i in pl_sales_top['platform']:\n",
    "    df[df['platform'] == i].groupby('year')['ttl_sales'].sum().plot.bar()\n",
    "    plt.title(i)\n",
    "    plt.show()"
   ]
  },
  {
   "cell_type": "markdown",
   "metadata": {},
   "source": [
    "Похоже, что проходит около 9 лет, за которые платформа теряет популярность. После этого ей нужна замена, чтобы поддерживать пользовательский интерес к серии."
   ]
  },
  {
   "cell_type": "markdown",
   "metadata": {},
   "source": [
    "### Возьму данные за соответствующий актуальный период. Актуальный период определил в результате исследования предыдущих вопросов. Основной фактор — эти данные помогут построить прогноз на 2017 год.\n",
    "Не учитываю в работе данные за предыдущие годы"
   ]
  },
  {
   "cell_type": "markdown",
   "metadata": {},
   "source": [
    "Возьму данные с 1993 года, по ранним расчётам с этого времени выпущено достаточное кол-во игр, чтобы строит анализ."
   ]
  },
  {
   "cell_type": "code",
   "execution_count": 33,
   "metadata": {},
   "outputs": [],
   "source": [
    "df_new = df[df['year'] >= 2003]"
   ]
  },
  {
   "cell_type": "markdown",
   "metadata": {},
   "source": [
    "Далее буду анализировать датафрейм df_new"
   ]
  },
  {
   "cell_type": "markdown",
   "metadata": {},
   "source": [
    "### Какие платформы лидируют по продажам, растут или падают? Выберите несколько потенциально прибыльных платформ"
   ]
  },
  {
   "cell_type": "markdown",
   "metadata": {},
   "source": [
    "Посчитаю суммарные продажи по платформам"
   ]
  },
  {
   "cell_type": "code",
   "execution_count": 34,
   "metadata": {},
   "outputs": [],
   "source": [
    "high_po = df_new.groupby(['platform', 'year'])['ttl_sales'].sum().reset_index()"
   ]
  },
  {
   "cell_type": "markdown",
   "metadata": {},
   "source": [
    "Выберу топ-5 среди отсортированных платформ"
   ]
  },
  {
   "cell_type": "code",
   "execution_count": 35,
   "metadata": {},
   "outputs": [
    {
     "name": "stdout",
     "output_type": "stream",
     "text": [
      "По продажам лидируют:\n",
      "   index platform  ttl_sales\n",
      "0     15     X360     966.61\n",
      "1      9      PS3     935.19\n",
      "2     13      Wii     903.31\n",
      "3      8      PS2     833.20\n",
      "4      2       DS     804.26\n"
     ]
    }
   ],
   "source": [
    "high_po_top = high_po.groupby('platform')['ttl_sales'].sum().reset_index().sort_values(\n",
    "    by = 'ttl_sales', ascending = False).reset_index().head(5)\n",
    "print('По продажам лидируют:')\n",
    "print(high_po_top)"
   ]
  },
  {
   "cell_type": "code",
   "execution_count": 36,
   "metadata": {
    "scrolled": false
   },
   "outputs": [
    {
     "data": {
      "text/plain": [
       "array(['3DS', 'DC', 'DS', 'GBA', 'GC', 'N64', 'PC', 'PS', 'PS2', 'PS3',\n",
       "       'PS4', 'PSP', 'PSV', 'Wii', 'WiiU', 'X360', 'XB', 'XOne'],\n",
       "      dtype=object)"
      ]
     },
     "execution_count": 36,
     "metadata": {},
     "output_type": "execute_result"
    }
   ],
   "source": [
    "high_po['platform'].unique()"
   ]
  },
  {
   "cell_type": "markdown",
   "metadata": {},
   "source": [
    "Посмотрю на динамику по годам по каждой платформе"
   ]
  },
  {
   "cell_type": "code",
   "execution_count": 37,
   "metadata": {
    "scrolled": true
   },
   "outputs": [
    {
     "data": {
      "text/html": [
       "<div>\n",
       "<style scoped>\n",
       "    .dataframe tbody tr th:only-of-type {\n",
       "        vertical-align: middle;\n",
       "    }\n",
       "\n",
       "    .dataframe tbody tr th {\n",
       "        vertical-align: top;\n",
       "    }\n",
       "\n",
       "    .dataframe thead th {\n",
       "        text-align: right;\n",
       "    }\n",
       "</style>\n",
       "<table border=\"1\" class=\"dataframe\">\n",
       "  <thead>\n",
       "    <tr style=\"text-align: right;\">\n",
       "      <th></th>\n",
       "      <th>platform</th>\n",
       "      <th>year</th>\n",
       "      <th>ttl_sales</th>\n",
       "    </tr>\n",
       "  </thead>\n",
       "  <tbody>\n",
       "    <tr>\n",
       "      <td>0</td>\n",
       "      <td>3DS</td>\n",
       "      <td>2010</td>\n",
       "      <td>0.30</td>\n",
       "    </tr>\n",
       "    <tr>\n",
       "      <td>1</td>\n",
       "      <td>3DS</td>\n",
       "      <td>2011</td>\n",
       "      <td>63.20</td>\n",
       "    </tr>\n",
       "    <tr>\n",
       "      <td>2</td>\n",
       "      <td>3DS</td>\n",
       "      <td>2012</td>\n",
       "      <td>51.76</td>\n",
       "    </tr>\n",
       "    <tr>\n",
       "      <td>3</td>\n",
       "      <td>3DS</td>\n",
       "      <td>2013</td>\n",
       "      <td>56.57</td>\n",
       "    </tr>\n",
       "    <tr>\n",
       "      <td>4</td>\n",
       "      <td>3DS</td>\n",
       "      <td>2014</td>\n",
       "      <td>43.76</td>\n",
       "    </tr>\n",
       "    <tr>\n",
       "      <td>...</td>\n",
       "      <td>...</td>\n",
       "      <td>...</td>\n",
       "      <td>...</td>\n",
       "    </tr>\n",
       "    <tr>\n",
       "      <td>121</td>\n",
       "      <td>XB</td>\n",
       "      <td>2008</td>\n",
       "      <td>0.18</td>\n",
       "    </tr>\n",
       "    <tr>\n",
       "      <td>122</td>\n",
       "      <td>XOne</td>\n",
       "      <td>2013</td>\n",
       "      <td>18.96</td>\n",
       "    </tr>\n",
       "    <tr>\n",
       "      <td>123</td>\n",
       "      <td>XOne</td>\n",
       "      <td>2014</td>\n",
       "      <td>54.07</td>\n",
       "    </tr>\n",
       "    <tr>\n",
       "      <td>124</td>\n",
       "      <td>XOne</td>\n",
       "      <td>2015</td>\n",
       "      <td>60.14</td>\n",
       "    </tr>\n",
       "    <tr>\n",
       "      <td>125</td>\n",
       "      <td>XOne</td>\n",
       "      <td>2016</td>\n",
       "      <td>26.15</td>\n",
       "    </tr>\n",
       "  </tbody>\n",
       "</table>\n",
       "<p>126 rows × 3 columns</p>\n",
       "</div>"
      ],
      "text/plain": [
       "    platform  year  ttl_sales\n",
       "0        3DS  2010       0.30\n",
       "1        3DS  2011      63.20\n",
       "2        3DS  2012      51.76\n",
       "3        3DS  2013      56.57\n",
       "4        3DS  2014      43.76\n",
       "..       ...   ...        ...\n",
       "121       XB  2008       0.18\n",
       "122     XOne  2013      18.96\n",
       "123     XOne  2014      54.07\n",
       "124     XOne  2015      60.14\n",
       "125     XOne  2016      26.15\n",
       "\n",
       "[126 rows x 3 columns]"
      ]
     },
     "execution_count": 37,
     "metadata": {},
     "output_type": "execute_result"
    }
   ],
   "source": [
    "high_po"
   ]
  },
  {
   "cell_type": "markdown",
   "metadata": {},
   "source": [
    "Отключу вывод всего из ячеек"
   ]
  },
  {
   "cell_type": "code",
   "execution_count": 38,
   "metadata": {},
   "outputs": [],
   "source": [
    "InteractiveShell.ast_node_interactivity = \"last_expr\""
   ]
  },
  {
   "cell_type": "markdown",
   "metadata": {},
   "source": [
    "Построю диаграммы продаж по каждой платформе и по годам"
   ]
  },
  {
   "cell_type": "code",
   "execution_count": 39,
   "metadata": {
    "scrolled": true
   },
   "outputs": [
    {
     "data": {
      "image/png": "[encoded data removed]",
      "text/plain": [
       "<Figure size 432x288 with 1 Axes>"
      ]
     },
     "metadata": {
      "needs_background": "light"
     },
     "output_type": "display_data"
    },
    {
     "data": {
      "image/png": "[encoded data removed]",
      "text/plain": [
       "<Figure size 432x288 with 1 Axes>"
      ]
     },
     "metadata": {
      "needs_background": "light"
     },
     "output_type": "display_data"
    },
    {
     "data": {
      "image/png": "[encoded data removed]",
      "text/plain": [
       "<Figure size 432x288 with 1 Axes>"
      ]
     },
     "metadata": {
      "needs_background": "light"
     },
     "output_type": "display_data"
    },
    {
     "data": {
      "image/png": "[encoded data removed]",
      "text/plain": [
       "<Figure size 432x288 with 1 Axes>"
      ]
     },
     "metadata": {
      "needs_background": "light"
     },
     "output_type": "display_data"
    },
    {
     "data": {
      "image/png": "[encoded data removed]",
      "text/plain": [
       "<Figure size 432x288 with 1 Axes>"
      ]
     },
     "metadata": {
      "needs_background": "light"
     },
     "output_type": "display_data"
    },
    {
     "data": {
      "image/png": "[encoded data removed]",
      "text/plain": [
       "<Figure size 432x288 with 1 Axes>"
      ]
     },
     "metadata": {
      "needs_background": "light"
     },
     "output_type": "display_data"
    },
    {
     "data": {
      "image/png": "[encoded data removed]",
      "text/plain": [
       "<Figure size 432x288 with 1 Axes>"
      ]
     },
     "metadata": {
      "needs_background": "light"
     },
     "output_type": "display_data"
    },
    {
     "data": {
      "image/png": "[encoded data removed]",
      "text/plain": [
       "<Figure size 432x288 with 1 Axes>"
      ]
     },
     "metadata": {
      "needs_background": "light"
     },
     "output_type": "display_data"
    },
    {
     "data": {
      "image/png": "[encoded data removed]",
      "text/plain": [
       "<Figure size 432x288 with 1 Axes>"
      ]
     },
     "metadata": {
      "needs_background": "light"
     },
     "output_type": "display_data"
    },
    {
     "data": {
      "image/png": "[encoded data removed]",
      "text/plain": [
       "<Figure size 432x288 with 1 Axes>"
      ]
     },
     "metadata": {
      "needs_background": "light"
     },
     "output_type": "display_data"
    },
    {
     "data": {
      "image/png": "[encoded data removed]",
      "text/plain": [
       "<Figure size 432x288 with 1 Axes>"
      ]
     },
     "metadata": {
      "needs_background": "light"
     },
     "output_type": "display_data"
    },
    {
     "data": {
      "image/png": "[encoded data removed]",
      "text/plain": [
       "<Figure size 432x288 with 1 Axes>"
      ]
     },
     "metadata": {
      "needs_background": "light"
     },
     "output_type": "display_data"
    },
    {
     "data": {
      "image/png": "[encoded data removed]",
      "text/plain": [
       "<Figure size 432x288 with 1 Axes>"
      ]
     },
     "metadata": {
      "needs_background": "light"
     },
     "output_type": "display_data"
    },
    {
     "data": {
      "image/png": "[encoded data removed]",
      "text/plain": [
       "<Figure size 432x288 with 1 Axes>"
      ]
     },
     "metadata": {
      "needs_background": "light"
     },
     "output_type": "display_data"
    },
    {
     "data": {
      "image/png": "[encoded data removed]",
      "text/plain": [
       "<Figure size 432x288 with 1 Axes>"
      ]
     },
     "metadata": {
      "needs_background": "light"
     },
     "output_type": "display_data"
    },
    {
     "data": {
      "image/png": "[encoded data removed]",
      "text/plain": [
       "<Figure size 432x288 with 1 Axes>"
      ]
     },
     "metadata": {
      "needs_background": "light"
     },
     "output_type": "display_data"
    },
    {
     "data": {
      "image/png": "[encoded data removed]",
      "text/plain": [
       "<Figure size 432x288 with 1 Axes>"
      ]
     },
     "metadata": {
      "needs_background": "light"
     },
     "output_type": "display_data"
    },
    {
     "data": {
      "image/png": "[encoded data removed]",
      "text/plain": [
       "<Figure size 432x288 with 1 Axes>"
      ]
     },
     "metadata": {
      "needs_background": "light"
     },
     "output_type": "display_data"
    }
   ],
   "source": [
    "for i in high_po['platform'].unique():\n",
    "    high_po[high_po['platform'] == i].plot(kind='bar', x='year', y='ttl_sales', color='green')\n",
    "    plt.title(i)\n",
    "    plt.ylabel('sales, mln copies')"
   ]
  },
  {
   "cell_type": "markdown",
   "metadata": {},
   "source": [
    "Судя по динамике, надежда на рост есть у платформы РС и PS4. При этом очевидно, что PS4 в течение нескольких лет будет заменены на обновлённую консоль."
   ]
  },
  {
   "cell_type": "markdown",
   "metadata": {},
   "source": [
    "### Построю график «ящик с усами» по глобальным продажам игр в разбивке по платформам."
   ]
  },
  {
   "cell_type": "code",
   "execution_count": 40,
   "metadata": {
    "scrolled": true
   },
   "outputs": [
    {
     "name": "stdout",
     "output_type": "stream",
     "text": [
      "Всего в df 31 платформ.\n",
      "Всего в df_new 18 отобранных платформ.\n",
      "В списке hifh_po 18 платформ.\n"
     ]
    }
   ],
   "source": [
    "print('Всего в df {:.0f} платформ.'.format(len(df['platform'].unique())))\n",
    "print('Всего в df_new {:.0f} отобранных платформ.'.format(len(df_new['platform'].unique())))\n",
    "print('В списке hifh_po {:.0f} платформ.'.format(len(high_po['platform'].unique())))"
   ]
  },
  {
   "cell_type": "code",
   "execution_count": 41,
   "metadata": {},
   "outputs": [
    {
     "data": {
      "text/plain": [
       "<matplotlib.axes._subplots.AxesSubplot at 0x7f13717c3890>"
      ]
     },
     "execution_count": 41,
     "metadata": {},
     "output_type": "execute_result"
    },
    {
     "data": {
      "image/png": "[encoded data removed]",
      "text/plain": [
       "<Figure size 1080x720 with 1 Axes>"
      ]
     },
     "metadata": {
      "needs_background": "light"
     },
     "output_type": "display_data"
    }
   ],
   "source": [
    "plt.figure(figsize=(15,10))\n",
    "plt.title('Глобальные продажи игр в разбивке по платформам')\n",
    "sns.boxplot(x='platform', y='ttl_sales', data=high_po)"
   ]
  },
  {
   "cell_type": "markdown",
   "metadata": {},
   "source": [
    "Очевидно, что если платформы с несопоставимо маленькими продажами.  \n",
    "В целом, в объёмах продаж практически нет выбросов, все они распределены довольно равномерно и пападают в разброс в 3 сигмы."
   ]
  },
  {
   "cell_type": "markdown",
   "metadata": {},
   "source": [
    "### Посмотрю, как влияют на продажи внутри одной популярной платформы отзывы пользователей и критиков. Построю диаграмму рассеяния и посчитаю корреляцию между отзывами и продажами."
   ]
  },
  {
   "cell_type": "markdown",
   "metadata": {},
   "source": [
    "Cтоит учитывать, что отзывов в выборке может быть недостаточно, чтобы делать достаточно точные выводы."
   ]
  },
  {
   "cell_type": "code",
   "execution_count": 42,
   "metadata": {
    "scrolled": false
   },
   "outputs": [
    {
     "name": "stdout",
     "output_type": "stream",
     "text": [
      "62.5% строк имеют оценку критиков\n",
      "128.3% строк имеют рейтинг\n"
     ]
    }
   ],
   "source": [
    "print('{:.1%} строк имеют оценку критиков'.format(len(df[df['critic_score'].notna()]) / len(df_new)))\n",
    "print('{:.1%} строк имеют рейтинг'.format(len(df[df['rating'].notna()]) / len(df_new)))"
   ]
  },
  {
   "cell_type": "markdown",
   "metadata": {},
   "source": [
    "Выделю данные по топ-5 платформам"
   ]
  },
  {
   "cell_type": "code",
   "execution_count": 43,
   "metadata": {
    "scrolled": false
   },
   "outputs": [],
   "source": [
    "high_top_sales = df_new[df_new['platform'].isin(high_po_top['platform'].values)]"
   ]
  },
  {
   "cell_type": "code",
   "execution_count": 44,
   "metadata": {
    "scrolled": true
   },
   "outputs": [
    {
     "data": {
      "text/plain": [
       "<matplotlib.axes._subplots.AxesSubplot at 0x7f1370eba110>"
      ]
     },
     "execution_count": 44,
     "metadata": {},
     "output_type": "execute_result"
    },
    {
     "data": {
      "image/png": "[encoded data removed]",
      "text/plain": [
       "<Figure size 432x288 with 1 Axes>"
      ]
     },
     "metadata": {
      "needs_background": "light"
     },
     "output_type": "display_data"
    }
   ],
   "source": [
    "high_top_sales.plot(x='critic_score', y='ttl_sales', kind='scatter')"
   ]
  },
  {
   "cell_type": "code",
   "execution_count": 45,
   "metadata": {},
   "outputs": [
    {
     "data": {
      "text/plain": [
       "array(['X360', 'PS3', 'Wii', 'PS2', 'DS'], dtype=object)"
      ]
     },
     "execution_count": 45,
     "metadata": {},
     "output_type": "execute_result"
    }
   ],
   "source": [
    "high_po_top['platform'].values"
   ]
  },
  {
   "cell_type": "code",
   "execution_count": 46,
   "metadata": {
    "scrolled": true
   },
   "outputs": [
    {
     "name": "stdout",
     "output_type": "stream",
     "text": [
      "Коэф. корреляции Пирсона между оценками критиков и глобальными продажами: 0.2654165423369925\n"
     ]
    }
   ],
   "source": [
    "print('Коэф. корреляции Пирсона между оценками критиков и глобальными продажами:',\n",
    "    high_top_sales['ttl_sales'].corr(high_top_sales['critic_score']))"
   ]
  },
  {
   "cell_type": "markdown",
   "metadata": {},
   "source": [
    "Между оценкой критиков и глобальными продажами есть слабая, но всё-таки прямая зависимоть — игры с хорошими оценками критиков продавались лучше. При этом были игры с очень хорошими оценками, но и крайне низкими продажами."
   ]
  },
  {
   "cell_type": "code",
   "execution_count": 47,
   "metadata": {},
   "outputs": [
    {
     "data": {
      "text/plain": [
       "Index(['name', 'platform', 'year', 'genre', 'na_sales', 'eu_sales', 'jp_sales',\n",
       "       'other_sales', 'critic_score', 'user_score', 'rating', 'ttl_sales'],\n",
       "      dtype='object')"
      ]
     },
     "execution_count": 47,
     "metadata": {},
     "output_type": "execute_result"
    }
   ],
   "source": [
    "df_new.columns"
   ]
  },
  {
   "cell_type": "code",
   "execution_count": 48,
   "metadata": {
    "scrolled": true
   },
   "outputs": [
    {
     "data": {
      "text/plain": [
       "<matplotlib.axes._subplots.AxesSubplot at 0x7f1370e132d0>"
      ]
     },
     "execution_count": 48,
     "metadata": {},
     "output_type": "execute_result"
    },
    {
     "data": {
      "image/png": "[encoded data removed]",
      "text/plain": [
       "<Figure size 432x288 with 1 Axes>"
      ]
     },
     "metadata": {
      "needs_background": "light"
     },
     "output_type": "display_data"
    }
   ],
   "source": [
    "high_top_sales.plot(x='user_score', y='ttl_sales', kind='scatter')"
   ]
  },
  {
   "cell_type": "code",
   "execution_count": 49,
   "metadata": {},
   "outputs": [
    {
     "name": "stdout",
     "output_type": "stream",
     "text": [
      "Коэф. корреляции Пирсона между оценками пользователей и глобальными продажами: 0.09129211733875053\n"
     ]
    }
   ],
   "source": [
    "print('Коэф. корреляции Пирсона между оценками пользователей и глобальными продажами:',\n",
    "high_top_sales['ttl_sales'].corr(high_top_sales['user_score']))"
   ]
  },
  {
   "cell_type": "markdown",
   "metadata": {},
   "source": [
    "На диаграмме рассеяния можно заметить лёгкую прямую зависимость, но коэффициент корреляции Пирсона подсказывает нам, что она близка к нулю. Можно утверждать, что зависимости нет — игра могла хорошо продаваться даже при среднем невысоком рейтинге. "
   ]
  },
  {
   "cell_type": "markdown",
   "metadata": {},
   "source": [
    "### Соотнесу выводы с продажами игр на других платформах."
   ]
  },
  {
   "cell_type": "markdown",
   "metadata": {},
   "source": [
    "Выделю данные по платформам за исключением топ-5"
   ]
  },
  {
   "cell_type": "code",
   "execution_count": 50,
   "metadata": {},
   "outputs": [],
   "source": [
    "not_high_top_sales = df_new[~df_new['platform'].isin(high_po_top['platform'].values)]"
   ]
  },
  {
   "cell_type": "markdown",
   "metadata": {},
   "source": [
    "Построю диаграмму рассеяния"
   ]
  },
  {
   "cell_type": "code",
   "execution_count": 51,
   "metadata": {
    "scrolled": true
   },
   "outputs": [
    {
     "data": {
      "text/plain": [
       "<matplotlib.axes._subplots.AxesSubplot at 0x7f1370d96150>"
      ]
     },
     "execution_count": 51,
     "metadata": {},
     "output_type": "execute_result"
    },
    {
     "data": {
      "image/png": "[encoded data removed]",
      "text/plain": [
       "<Figure size 432x288 with 1 Axes>"
      ]
     },
     "metadata": {
      "needs_background": "light"
     },
     "output_type": "display_data"
    }
   ],
   "source": [
    "not_high_top_sales.plot(x='critic_score', y='ttl_sales', kind='scatter')"
   ]
  },
  {
   "cell_type": "code",
   "execution_count": 52,
   "metadata": {},
   "outputs": [
    {
     "data": {
      "text/plain": [
       "array(['PS4', '3DS', '3DS', ..., 'PSV', 'GBA', 'PSV'], dtype=object)"
      ]
     },
     "execution_count": 52,
     "metadata": {},
     "output_type": "execute_result"
    }
   ],
   "source": [
    "not_high_top_sales['platform'].values"
   ]
  },
  {
   "cell_type": "code",
   "execution_count": 53,
   "metadata": {
    "scrolled": false
   },
   "outputs": [],
   "source": [
    "not_high_top_sales = df_new[df_new['platform'].isin(not_high_top_sales['platform'].values)]"
   ]
  },
  {
   "cell_type": "code",
   "execution_count": 54,
   "metadata": {
    "scrolled": true
   },
   "outputs": [
    {
     "name": "stdout",
     "output_type": "stream",
     "text": [
      "Коэф. корреляции Пирсона между оценками критиков и глобальными продажами: 0.27206599952910476\n"
     ]
    }
   ],
   "source": [
    "print('Коэф. корреляции Пирсона между оценками критиков и глобальными продажами:',\n",
    "    not_high_top_sales['ttl_sales'].corr(not_high_top_sales['critic_score']))"
   ]
  },
  {
   "cell_type": "markdown",
   "metadata": {},
   "source": [
    "Среди **не топ-5 платформ** между оценкой критиков и глобальными продажами есть аналогичная несильная корреляция."
   ]
  },
  {
   "cell_type": "code",
   "execution_count": 55,
   "metadata": {
    "scrolled": true
   },
   "outputs": [
    {
     "data": {
      "text/plain": [
       "<matplotlib.axes._subplots.AxesSubplot at 0x7f1370df8ed0>"
      ]
     },
     "execution_count": 55,
     "metadata": {},
     "output_type": "execute_result"
    },
    {
     "data": {
      "image/png": "[encoded data removed]",
      "text/plain": [
       "<Figure size 432x288 with 1 Axes>"
      ]
     },
     "metadata": {
      "needs_background": "light"
     },
     "output_type": "display_data"
    }
   ],
   "source": [
    "not_high_top_sales.plot(x='user_score', y='ttl_sales', kind='scatter')"
   ]
  },
  {
   "cell_type": "code",
   "execution_count": 56,
   "metadata": {},
   "outputs": [
    {
     "name": "stdout",
     "output_type": "stream",
     "text": [
      "Коэф. корреляции Пирсона между оценками пользователей и глобальными продажами: 0.05571824498801956\n"
     ]
    }
   ],
   "source": [
    "print('Коэф. корреляции Пирсона между оценками пользователей и глобальными продажами:',\n",
    "not_high_top_sales['ttl_sales'].corr(not_high_top_sales['user_score']))"
   ]
  },
  {
   "cell_type": "markdown",
   "metadata": {},
   "source": [
    "У не топ-5 платформ на диаграмме рассеяния можно заметить немного более сильную прямую зависимость, чем у топ-5. Но коэффициент корреляции Пирсона по-прежнему допольно слабый. Есть игры с высокой оценкой, но низкими продажами."
   ]
  },
  {
   "cell_type": "markdown",
   "metadata": {},
   "source": [
    "### Посмотрю на общее распределение игр по жанрам.\n",
    "* Что можно сказать о самых прибыльных жанрах?\n",
    "* Выделяются ли жанры с высокими и низкими продажами?"
   ]
  },
  {
   "cell_type": "markdown",
   "metadata": {},
   "source": [
    "Посмотрю на распределение кол-ва игр и продаж по жанрам, отсортирую по возрастанию глобальных продаж"
   ]
  },
  {
   "cell_type": "code",
   "execution_count": 57,
   "metadata": {},
   "outputs": [],
   "source": [
    "by_genres = df_new.groupby('genre')['ttl_sales'].agg(['sum', 'count']).reset_index().sort_values(by='sum')"
   ]
  },
  {
   "cell_type": "code",
   "execution_count": 58,
   "metadata": {
    "scrolled": true
   },
   "outputs": [
    {
     "data": {
      "image/png": "[encoded data removed]",
      "text/plain": [
       "<Figure size 720x360 with 2 Axes>"
      ]
     },
     "metadata": {
      "needs_background": "light"
     },
     "output_type": "display_data"
    }
   ],
   "source": [
    "# !!! тут я не понял, как центровать подписи значений оси X (жанры), т.к. название жанры Action выходит за рамки графика\n",
    "fig = plt.figure(figsize=(10,5))\n",
    "ax1 = fig.add_subplot(111)\n",
    "ax2 = ax1.twinx()\n",
    "by_genres.plot(kind = 'bar', color = 'green', x = 'genre', y = 'sum', ax = ax1, position = 1, width = 0.3)\n",
    "by_genres.plot(kind = 'bar', color = 'blue', x = 'genre', y = 'count', ax = ax2, position = 2, width = 0.3)\n",
    "ax1.set_ylabel('amount')\n",
    "ax2.set_ylabel('ttl_sales')\n",
    "plt.show()"
   ]
  },
  {
   "cell_type": "markdown",
   "metadata": {},
   "source": [
    "Построю график продаж по жанрам"
   ]
  },
  {
   "cell_type": "code",
   "execution_count": 59,
   "metadata": {},
   "outputs": [
    {
     "data": {
      "text/plain": [
       "<matplotlib.axes._subplots.AxesSubplot at 0x7f1370ce0c10>"
      ]
     },
     "execution_count": 59,
     "metadata": {},
     "output_type": "execute_result"
    },
    {
     "data": {
      "image/png": "[encoded data removed]",
      "text/plain": [
       "<Figure size 432x288 with 1 Axes>"
      ]
     },
     "metadata": {
      "needs_background": "light"
     },
     "output_type": "display_data"
    }
   ],
   "source": [
    "by_genres.plot(kind = 'bar', x = 'genre', y = 'sum')"
   ]
  },
  {
   "cell_type": "markdown",
   "metadata": {},
   "source": [
    "Добавлю на график с продажами кол-во игр по жанрам"
   ]
  },
  {
   "cell_type": "code",
   "execution_count": 60,
   "metadata": {
    "scrolled": true
   },
   "outputs": [
    {
     "data": {
      "text/plain": [
       "<matplotlib.axes._subplots.AxesSubplot at 0x7f13708a6650>"
      ]
     },
     "execution_count": 60,
     "metadata": {},
     "output_type": "execute_result"
    },
    {
     "data": {
      "image/png": "[encoded data removed]",
      "text/plain": [
       "<Figure size 432x288 with 2 Axes>"
      ]
     },
     "metadata": {
      "needs_background": "light"
     },
     "output_type": "display_data"
    }
   ],
   "source": [
    "by_genres.plot(kind = 'bar', x = 'genre', secondary_y = 'count')"
   ]
  },
  {
   "cell_type": "markdown",
   "metadata": {},
   "source": [
    "Некоторых жанры с большим количеством игра дают относительно большой объём глобальных продаж: Strategy, Adventure.  \n",
    "В то время как есть жанры с большим кол-вом игр, но непропорционально меньшим объёмом продаж: Platform, Role_Playing, Shooter.  \n",
    "Жанры-лидеры Sports и Action имеют большой общиё объём продаж и много игр.  "
   ]
  },
  {
   "cell_type": "markdown",
   "metadata": {},
   "source": [
    "Посчитаю долю в продажах топ-3 жанра"
   ]
  },
  {
   "cell_type": "code",
   "execution_count": 61,
   "metadata": {
    "scrolled": true
   },
   "outputs": [
    {
     "name": "stdout",
     "output_type": "stream",
     "text": [
      "Топ-3 жанра составляют 103.3% общих продаж.\n"
     ]
    }
   ],
   "source": [
    "print('Топ-3 жанра составляют {:.1%} общих продаж.'.format(\n",
    "    by_genres['sum'].tail(3).sum() / by_genres['sum'].head(9).sum()))"
   ]
  },
  {
   "cell_type": "markdown",
   "metadata": {},
   "source": [
    "Посчитаю средние глобальные продажи на каждую игру по жанрам и выведу график"
   ]
  },
  {
   "cell_type": "code",
   "execution_count": 62,
   "metadata": {},
   "outputs": [
    {
     "data": {
      "image/png": "[encoded data removed]",
      "text/plain": [
       "<Figure size 432x288 with 1 Axes>"
      ]
     },
     "metadata": {
      "needs_background": "light"
     },
     "output_type": "display_data"
    }
   ],
   "source": [
    "by_genres['average'] = by_genres['sum'] / by_genres['count']\n",
    "\n",
    "by_genres.plot(kind = 'bar', x = 'genre', y = 'average')\n",
    "plt.title('Средние продажи на игру по платформам')\n",
    "plt.ylabel('average sales')\n",
    "plt.show()"
   ]
  },
  {
   "cell_type": "markdown",
   "metadata": {},
   "source": [
    "Наибольшие средние продажи на игру в жанрах Platform, Shooter, Role-Playing, так это очевидно.  \n",
    "Но возможно на среднюю влияет небольшое кол-во очень успешных игр?"
   ]
  },
  {
   "cell_type": "code",
   "execution_count": 63,
   "metadata": {},
   "outputs": [
    {
     "data": {
      "text/html": [
       "<div>\n",
       "<style scoped>\n",
       "    .dataframe tbody tr th:only-of-type {\n",
       "        vertical-align: middle;\n",
       "    }\n",
       "\n",
       "    .dataframe tbody tr th {\n",
       "        vertical-align: top;\n",
       "    }\n",
       "\n",
       "    .dataframe thead th {\n",
       "        text-align: right;\n",
       "    }\n",
       "</style>\n",
       "<table border=\"1\" class=\"dataframe\">\n",
       "  <thead>\n",
       "    <tr style=\"text-align: right;\">\n",
       "      <th></th>\n",
       "      <th>platform</th>\n",
       "      <th>year</th>\n",
       "      <th>ttl_sales</th>\n",
       "    </tr>\n",
       "  </thead>\n",
       "  <tbody>\n",
       "    <tr>\n",
       "      <td>0</td>\n",
       "      <td>3DS</td>\n",
       "      <td>2010</td>\n",
       "      <td>0.30</td>\n",
       "    </tr>\n",
       "    <tr>\n",
       "      <td>1</td>\n",
       "      <td>3DS</td>\n",
       "      <td>2011</td>\n",
       "      <td>63.20</td>\n",
       "    </tr>\n",
       "    <tr>\n",
       "      <td>2</td>\n",
       "      <td>3DS</td>\n",
       "      <td>2012</td>\n",
       "      <td>51.76</td>\n",
       "    </tr>\n",
       "    <tr>\n",
       "      <td>3</td>\n",
       "      <td>3DS</td>\n",
       "      <td>2013</td>\n",
       "      <td>56.57</td>\n",
       "    </tr>\n",
       "    <tr>\n",
       "      <td>4</td>\n",
       "      <td>3DS</td>\n",
       "      <td>2014</td>\n",
       "      <td>43.76</td>\n",
       "    </tr>\n",
       "    <tr>\n",
       "      <td>...</td>\n",
       "      <td>...</td>\n",
       "      <td>...</td>\n",
       "      <td>...</td>\n",
       "    </tr>\n",
       "    <tr>\n",
       "      <td>121</td>\n",
       "      <td>XB</td>\n",
       "      <td>2008</td>\n",
       "      <td>0.18</td>\n",
       "    </tr>\n",
       "    <tr>\n",
       "      <td>122</td>\n",
       "      <td>XOne</td>\n",
       "      <td>2013</td>\n",
       "      <td>18.96</td>\n",
       "    </tr>\n",
       "    <tr>\n",
       "      <td>123</td>\n",
       "      <td>XOne</td>\n",
       "      <td>2014</td>\n",
       "      <td>54.07</td>\n",
       "    </tr>\n",
       "    <tr>\n",
       "      <td>124</td>\n",
       "      <td>XOne</td>\n",
       "      <td>2015</td>\n",
       "      <td>60.14</td>\n",
       "    </tr>\n",
       "    <tr>\n",
       "      <td>125</td>\n",
       "      <td>XOne</td>\n",
       "      <td>2016</td>\n",
       "      <td>26.15</td>\n",
       "    </tr>\n",
       "  </tbody>\n",
       "</table>\n",
       "<p>126 rows × 3 columns</p>\n",
       "</div>"
      ],
      "text/plain": [
       "    platform  year  ttl_sales\n",
       "0        3DS  2010       0.30\n",
       "1        3DS  2011      63.20\n",
       "2        3DS  2012      51.76\n",
       "3        3DS  2013      56.57\n",
       "4        3DS  2014      43.76\n",
       "..       ...   ...        ...\n",
       "121       XB  2008       0.18\n",
       "122     XOne  2013      18.96\n",
       "123     XOne  2014      54.07\n",
       "124     XOne  2015      60.14\n",
       "125     XOne  2016      26.15\n",
       "\n",
       "[126 rows x 3 columns]"
      ]
     },
     "execution_count": 63,
     "metadata": {},
     "output_type": "execute_result"
    }
   ],
   "source": [
    "high_po"
   ]
  },
  {
   "cell_type": "code",
   "execution_count": 64,
   "metadata": {
    "scrolled": false
   },
   "outputs": [
    {
     "data": {
      "text/plain": [
       "<matplotlib.axes._subplots.AxesSubplot at 0x7f1371bab750>"
      ]
     },
     "execution_count": 64,
     "metadata": {},
     "output_type": "execute_result"
    },
    {
     "data": {
      "image/png": "[encoded data removed]",
      "text/plain": [
       "<Figure size 1080x360 with 1 Axes>"
      ]
     },
     "metadata": {
      "needs_background": "light"
     },
     "output_type": "display_data"
    }
   ],
   "source": [
    "plt.figure(figsize=(15,5))\n",
    "plt.title('Глобальные продажи игр в разбивке по жанрам')\n",
    "sns.boxplot(x='genre', y='ttl_sales', data=df_new)"
   ]
  },
  {
   "cell_type": "code",
   "execution_count": 65,
   "metadata": {
    "scrolled": false
   },
   "outputs": [
    {
     "data": {
      "text/plain": [
       "[(0, 1.5)]"
      ]
     },
     "execution_count": 65,
     "metadata": {},
     "output_type": "execute_result"
    },
    {
     "data": {
      "image/png": "[encoded data removed]",
      "text/plain": [
       "<Figure size 1080x360 with 1 Axes>"
      ]
     },
     "metadata": {
      "needs_background": "light"
     },
     "output_type": "display_data"
    }
   ],
   "source": [
    "# посмотрю поближе\n",
    "plt.figure(figsize=(15,5))\n",
    "plt.title('Глобальные продажи игр в разбивке по жанрам')\n",
    "sns.boxplot(x='genre', y='ttl_sales', data=df_new).set(ylim=(0, 1.5))"
   ]
  },
  {
   "cell_type": "markdown",
   "metadata": {},
   "source": [
    "Похоже, что на средние продажи действительно повлияло некоторое кол-во очень успешных игра. Медиана же у разных жанров очень похожая — около 0.2 на игру."
   ]
  },
  {
   "cell_type": "markdown",
   "metadata": {},
   "source": [
    "## Шаг 4. Составлю портрет пользователя каждого региона\n",
    "Определю для пользователя каждого региона (NA, EU, JP):"
   ]
  },
  {
   "cell_type": "code",
   "execution_count": 66,
   "metadata": {},
   "outputs": [
    {
     "data": {
      "text/plain": [
       "Index(['name', 'platform', 'year', 'genre', 'na_sales', 'eu_sales', 'jp_sales',\n",
       "       'other_sales', 'critic_score', 'user_score', 'rating', 'ttl_sales'],\n",
       "      dtype='object')"
      ]
     },
     "execution_count": 66,
     "metadata": {},
     "output_type": "execute_result"
    }
   ],
   "source": [
    "df_new.columns"
   ]
  },
  {
   "cell_type": "markdown",
   "metadata": {},
   "source": [
    "### Самые популярные платформы (топ-5). Опишите различия в долях продаж."
   ]
  },
  {
   "cell_type": "markdown",
   "metadata": {},
   "source": [
    "Посмотрю на глобальный уровень"
   ]
  },
  {
   "cell_type": "code",
   "execution_count": 67,
   "metadata": {
    "scrolled": true
   },
   "outputs": [
    {
     "data": {
      "text/html": [
       "<div>\n",
       "<style scoped>\n",
       "    .dataframe tbody tr th:only-of-type {\n",
       "        vertical-align: middle;\n",
       "    }\n",
       "\n",
       "    .dataframe tbody tr th {\n",
       "        vertical-align: top;\n",
       "    }\n",
       "\n",
       "    .dataframe thead th {\n",
       "        text-align: right;\n",
       "    }\n",
       "</style>\n",
       "<table border=\"1\" class=\"dataframe\">\n",
       "  <thead>\n",
       "    <tr style=\"text-align: right;\">\n",
       "      <th></th>\n",
       "      <th>platform</th>\n",
       "      <th>ttl_sales</th>\n",
       "    </tr>\n",
       "  </thead>\n",
       "  <tbody>\n",
       "    <tr>\n",
       "      <td>0</td>\n",
       "      <td>X360</td>\n",
       "      <td>966.61</td>\n",
       "    </tr>\n",
       "    <tr>\n",
       "      <td>1</td>\n",
       "      <td>PS3</td>\n",
       "      <td>935.19</td>\n",
       "    </tr>\n",
       "    <tr>\n",
       "      <td>2</td>\n",
       "      <td>Wii</td>\n",
       "      <td>903.31</td>\n",
       "    </tr>\n",
       "    <tr>\n",
       "      <td>3</td>\n",
       "      <td>PS2</td>\n",
       "      <td>833.20</td>\n",
       "    </tr>\n",
       "    <tr>\n",
       "      <td>4</td>\n",
       "      <td>DS</td>\n",
       "      <td>804.26</td>\n",
       "    </tr>\n",
       "  </tbody>\n",
       "</table>\n",
       "</div>"
      ],
      "text/plain": [
       "  platform  ttl_sales\n",
       "0     X360     966.61\n",
       "1      PS3     935.19\n",
       "2      Wii     903.31\n",
       "3      PS2     833.20\n",
       "4       DS     804.26"
      ]
     },
     "execution_count": 67,
     "metadata": {},
     "output_type": "execute_result"
    }
   ],
   "source": [
    "top_platform = df_new.groupby('platform')['ttl_sales'].sum().reset_index().sort_values(\n",
    "    by = 'ttl_sales', ascending = False).reset_index(drop=True)\n",
    "top_platform = top_platform.head(5)\n",
    "top_platform"
   ]
  },
  {
   "cell_type": "code",
   "execution_count": 68,
   "metadata": {
    "scrolled": true
   },
   "outputs": [
    {
     "data": {
      "text/html": [
       "<div>\n",
       "<style scoped>\n",
       "    .dataframe tbody tr th:only-of-type {\n",
       "        vertical-align: middle;\n",
       "    }\n",
       "\n",
       "    .dataframe tbody tr th {\n",
       "        vertical-align: top;\n",
       "    }\n",
       "\n",
       "    .dataframe thead th {\n",
       "        text-align: right;\n",
       "    }\n",
       "</style>\n",
       "<table border=\"1\" class=\"dataframe\">\n",
       "  <thead>\n",
       "    <tr style=\"text-align: right;\">\n",
       "      <th></th>\n",
       "      <th>platform</th>\n",
       "      <th>na_sales</th>\n",
       "      <th>eu_sales</th>\n",
       "      <th>jp_sales</th>\n",
       "      <th>other_sales</th>\n",
       "    </tr>\n",
       "  </thead>\n",
       "  <tbody>\n",
       "    <tr>\n",
       "      <td>0</td>\n",
       "      <td>3DS</td>\n",
       "      <td>83.11</td>\n",
       "      <td>61.46</td>\n",
       "      <td>100.62</td>\n",
       "      <td>13.32</td>\n",
       "    </tr>\n",
       "    <tr>\n",
       "      <td>1</td>\n",
       "      <td>DC</td>\n",
       "      <td>0.00</td>\n",
       "      <td>0.00</td>\n",
       "      <td>0.06</td>\n",
       "      <td>0.00</td>\n",
       "    </tr>\n",
       "    <tr>\n",
       "      <td>2</td>\n",
       "      <td>DS</td>\n",
       "      <td>381.38</td>\n",
       "      <td>188.72</td>\n",
       "      <td>175.00</td>\n",
       "      <td>59.16</td>\n",
       "    </tr>\n",
       "    <tr>\n",
       "      <td>3</td>\n",
       "      <td>GBA</td>\n",
       "      <td>105.42</td>\n",
       "      <td>41.76</td>\n",
       "      <td>26.89</td>\n",
       "      <td>3.90</td>\n",
       "    </tr>\n",
       "    <tr>\n",
       "      <td>4</td>\n",
       "      <td>GC</td>\n",
       "      <td>81.28</td>\n",
       "      <td>23.28</td>\n",
       "      <td>12.21</td>\n",
       "      <td>3.05</td>\n",
       "    </tr>\n",
       "    <tr>\n",
       "      <td>5</td>\n",
       "      <td>N64</td>\n",
       "      <td>0.00</td>\n",
       "      <td>0.00</td>\n",
       "      <td>0.29</td>\n",
       "      <td>0.04</td>\n",
       "    </tr>\n",
       "    <tr>\n",
       "      <td>6</td>\n",
       "      <td>PC</td>\n",
       "      <td>52.68</td>\n",
       "      <td>117.26</td>\n",
       "      <td>0.08</td>\n",
       "      <td>20.10</td>\n",
       "    </tr>\n",
       "    <tr>\n",
       "      <td>7</td>\n",
       "      <td>PS</td>\n",
       "      <td>1.15</td>\n",
       "      <td>0.78</td>\n",
       "      <td>0.00</td>\n",
       "      <td>0.14</td>\n",
       "    </tr>\n",
       "    <tr>\n",
       "      <td>8</td>\n",
       "      <td>PS2</td>\n",
       "      <td>386.52</td>\n",
       "      <td>207.63</td>\n",
       "      <td>89.23</td>\n",
       "      <td>149.82</td>\n",
       "    </tr>\n",
       "    <tr>\n",
       "      <td>9</td>\n",
       "      <td>PS3</td>\n",
       "      <td>391.60</td>\n",
       "      <td>328.97</td>\n",
       "      <td>79.52</td>\n",
       "      <td>135.10</td>\n",
       "    </tr>\n",
       "    <tr>\n",
       "      <td>10</td>\n",
       "      <td>PS4</td>\n",
       "      <td>108.74</td>\n",
       "      <td>141.09</td>\n",
       "      <td>15.96</td>\n",
       "      <td>48.35</td>\n",
       "    </tr>\n",
       "    <tr>\n",
       "      <td>11</td>\n",
       "      <td>PSP</td>\n",
       "      <td>109.09</td>\n",
       "      <td>66.68</td>\n",
       "      <td>76.38</td>\n",
       "      <td>41.42</td>\n",
       "    </tr>\n",
       "    <tr>\n",
       "      <td>12</td>\n",
       "      <td>PSV</td>\n",
       "      <td>12.47</td>\n",
       "      <td>13.07</td>\n",
       "      <td>21.84</td>\n",
       "      <td>6.43</td>\n",
       "    </tr>\n",
       "    <tr>\n",
       "      <td>13</td>\n",
       "      <td>Wii</td>\n",
       "      <td>494.01</td>\n",
       "      <td>261.48</td>\n",
       "      <td>69.05</td>\n",
       "      <td>78.77</td>\n",
       "    </tr>\n",
       "    <tr>\n",
       "      <td>14</td>\n",
       "      <td>WiiU</td>\n",
       "      <td>38.10</td>\n",
       "      <td>25.13</td>\n",
       "      <td>13.01</td>\n",
       "      <td>5.95</td>\n",
       "    </tr>\n",
       "    <tr>\n",
       "      <td>15</td>\n",
       "      <td>X360</td>\n",
       "      <td>599.15</td>\n",
       "      <td>269.79</td>\n",
       "      <td>12.33</td>\n",
       "      <td>85.34</td>\n",
       "    </tr>\n",
       "    <tr>\n",
       "      <td>16</td>\n",
       "      <td>XB</td>\n",
       "      <td>131.11</td>\n",
       "      <td>43.11</td>\n",
       "      <td>0.52</td>\n",
       "      <td>6.14</td>\n",
       "    </tr>\n",
       "    <tr>\n",
       "      <td>17</td>\n",
       "      <td>XOne</td>\n",
       "      <td>93.12</td>\n",
       "      <td>51.59</td>\n",
       "      <td>0.34</td>\n",
       "      <td>14.27</td>\n",
       "    </tr>\n",
       "  </tbody>\n",
       "</table>\n",
       "</div>"
      ],
      "text/plain": [
       "   platform  na_sales  eu_sales  jp_sales  other_sales\n",
       "0       3DS     83.11     61.46    100.62        13.32\n",
       "1        DC      0.00      0.00      0.06         0.00\n",
       "2        DS    381.38    188.72    175.00        59.16\n",
       "3       GBA    105.42     41.76     26.89         3.90\n",
       "4        GC     81.28     23.28     12.21         3.05\n",
       "5       N64      0.00      0.00      0.29         0.04\n",
       "6        PC     52.68    117.26      0.08        20.10\n",
       "7        PS      1.15      0.78      0.00         0.14\n",
       "8       PS2    386.52    207.63     89.23       149.82\n",
       "9       PS3    391.60    328.97     79.52       135.10\n",
       "10      PS4    108.74    141.09     15.96        48.35\n",
       "11      PSP    109.09     66.68     76.38        41.42\n",
       "12      PSV     12.47     13.07     21.84         6.43\n",
       "13      Wii    494.01    261.48     69.05        78.77\n",
       "14     WiiU     38.10     25.13     13.01         5.95\n",
       "15     X360    599.15    269.79     12.33        85.34\n",
       "16       XB    131.11     43.11      0.52         6.14\n",
       "17     XOne     93.12     51.59      0.34        14.27"
      ]
     },
     "execution_count": 68,
     "metadata": {},
     "output_type": "execute_result"
    }
   ],
   "source": [
    "sales = df_new.groupby('platform')[['na_sales', 'eu_sales', 'jp_sales', 'other_sales']].sum().reset_index()\n",
    "sales"
   ]
  },
  {
   "cell_type": "code",
   "execution_count": 69,
   "metadata": {
    "scrolled": true
   },
   "outputs": [
    {
     "data": {
      "image/png": "[encoded data removed]",
      "text/plain": [
       "<Figure size 432x288 with 1 Axes>"
      ]
     },
     "metadata": {
      "needs_background": "light"
     },
     "output_type": "display_data"
    },
    {
     "name": "stdout",
     "output_type": "stream",
     "text": [
      "\n"
     ]
    },
    {
     "data": {
      "image/png": "[encoded data removed]",
      "text/plain": [
       "<Figure size 432x288 with 1 Axes>"
      ]
     },
     "metadata": {
      "needs_background": "light"
     },
     "output_type": "display_data"
    },
    {
     "name": "stdout",
     "output_type": "stream",
     "text": [
      "\n"
     ]
    },
    {
     "data": {
      "image/png": "[encoded data removed]",
      "text/plain": [
       "<Figure size 432x288 with 1 Axes>"
      ]
     },
     "metadata": {
      "needs_background": "light"
     },
     "output_type": "display_data"
    },
    {
     "name": "stdout",
     "output_type": "stream",
     "text": [
      "\n"
     ]
    },
    {
     "data": {
      "image/png": "[encoded data removed]",
      "text/plain": [
       "<Figure size 432x288 with 1 Axes>"
      ]
     },
     "metadata": {
      "needs_background": "light"
     },
     "output_type": "display_data"
    },
    {
     "name": "stdout",
     "output_type": "stream",
     "text": [
      "\n"
     ]
    }
   ],
   "source": [
    "sales['na_share'] = sales['na_sales'] / sales['na_sales'].sum()\n",
    "sales['eu_share'] = sales['eu_sales'] / sales['eu_sales'].sum()\n",
    "sales['jp_share'] = sales['jp_sales'] / sales['jp_sales'].sum()\n",
    "sales['other_share'] = sales['other_sales'] / sales['other_sales'].sum()\n",
    "na_top = sales[['platform', 'na_share']].sort_values(\n",
    "    by = 'na_share', ascending = False).head(5)\n",
    "eu_top = sales[['platform', 'eu_share']].sort_values(\n",
    "    by = 'eu_share', ascending = False).head(5)\n",
    "jp_top = sales[['platform', 'jp_share']].sort_values(\n",
    "    by = 'jp_share', ascending = False).head(5)\n",
    "other_top = sales[['platform', 'other_share']].sort_values(\n",
    "    by = 'other_share', ascending = False).head(5)\n",
    "for reg in [na_top, eu_top, jp_top, other_top]:\n",
    "    reg.plot(kind = 'bar', x = 'platform')\n",
    "    plt.ylabel('share')\n",
    "    plt.show()\n",
    "    print()"
   ]
  },
  {
   "cell_type": "code",
   "execution_count": 70,
   "metadata": {},
   "outputs": [],
   "source": [
    "# хотел автоматизировать, но не могу понять, что не так с нехешируемым списком: TypeError: unhashable type: 'list'\n",
    "#for i in [['eu_sales', 'jp_sales', 'other_sales']]:\n",
    "#    for j in [['eu_share', 'jp_share', 'other_share']]:\n",
    "#        sales[j] = sales[i] / sales[i].sum()\n",
    "#        top_na.insert(loc = 0, column = j, value = sales[['platform', j]].sort_values(by = j, ascending = False).head(5))\n",
    "#na_top"
   ]
  },
  {
   "cell_type": "markdown",
   "metadata": {},
   "source": [
    "Лидеры на каждом рынке занимают значительную долю от 10% до 15%. Но имеет место специфика рынка — платформы на своей родине имеют более прочные позиции, чем на \"чужой территории\". Например, платформы Sony занимают бОльшую долю на рынке Японии, в то время как в Северной Америке наибольшая популярность за продуктом MS."
   ]
  },
  {
   "cell_type": "markdown",
   "metadata": {},
   "source": [
    "### Самые популярные жанры (топ-5)."
   ]
  },
  {
   "cell_type": "markdown",
   "metadata": {},
   "source": [
    "Сгруппирую по жанрам и суммирую глобальные продажи"
   ]
  },
  {
   "cell_type": "code",
   "execution_count": 71,
   "metadata": {},
   "outputs": [
    {
     "data": {
      "text/html": [
       "<div>\n",
       "<style scoped>\n",
       "    .dataframe tbody tr th:only-of-type {\n",
       "        vertical-align: middle;\n",
       "    }\n",
       "\n",
       "    .dataframe tbody tr th {\n",
       "        vertical-align: top;\n",
       "    }\n",
       "\n",
       "    .dataframe thead th {\n",
       "        text-align: right;\n",
       "    }\n",
       "</style>\n",
       "<table border=\"1\" class=\"dataframe\">\n",
       "  <thead>\n",
       "    <tr style=\"text-align: right;\">\n",
       "      <th></th>\n",
       "      <th>genre</th>\n",
       "      <th>ttl_sales</th>\n",
       "    </tr>\n",
       "  </thead>\n",
       "  <tbody>\n",
       "    <tr>\n",
       "      <td>0</td>\n",
       "      <td>Action</td>\n",
       "      <td>1363.13</td>\n",
       "    </tr>\n",
       "    <tr>\n",
       "      <td>1</td>\n",
       "      <td>Sports</td>\n",
       "      <td>987.43</td>\n",
       "    </tr>\n",
       "    <tr>\n",
       "      <td>2</td>\n",
       "      <td>Shooter</td>\n",
       "      <td>838.19</td>\n",
       "    </tr>\n",
       "    <tr>\n",
       "      <td>3</td>\n",
       "      <td>Misc</td>\n",
       "      <td>673.70</td>\n",
       "    </tr>\n",
       "    <tr>\n",
       "      <td>4</td>\n",
       "      <td>Role-Playing</td>\n",
       "      <td>635.71</td>\n",
       "    </tr>\n",
       "  </tbody>\n",
       "</table>\n",
       "</div>"
      ],
      "text/plain": [
       "          genre  ttl_sales\n",
       "0        Action    1363.13\n",
       "1        Sports     987.43\n",
       "2       Shooter     838.19\n",
       "3          Misc     673.70\n",
       "4  Role-Playing     635.71"
      ]
     },
     "execution_count": 71,
     "metadata": {},
     "output_type": "execute_result"
    }
   ],
   "source": [
    "top_genre = df_new.groupby('genre')['ttl_sales'].sum().reset_index().sort_values(\n",
    "    by = 'ttl_sales', ascending = False).reset_index(drop=True)\n",
    "top_genre = top_genre.head(5)\n",
    "top_genre"
   ]
  },
  {
   "cell_type": "code",
   "execution_count": 72,
   "metadata": {
    "scrolled": false
   },
   "outputs": [
    {
     "data": {
      "text/html": [
       "<div>\n",
       "<style scoped>\n",
       "    .dataframe tbody tr th:only-of-type {\n",
       "        vertical-align: middle;\n",
       "    }\n",
       "\n",
       "    .dataframe tbody tr th {\n",
       "        vertical-align: top;\n",
       "    }\n",
       "\n",
       "    .dataframe thead th {\n",
       "        text-align: right;\n",
       "    }\n",
       "</style>\n",
       "<table border=\"1\" class=\"dataframe\">\n",
       "  <thead>\n",
       "    <tr style=\"text-align: right;\">\n",
       "      <th></th>\n",
       "      <th>genre</th>\n",
       "      <th>na_sales</th>\n",
       "      <th>eu_sales</th>\n",
       "      <th>jp_sales</th>\n",
       "      <th>other_sales</th>\n",
       "    </tr>\n",
       "  </thead>\n",
       "  <tbody>\n",
       "    <tr>\n",
       "      <td>0</td>\n",
       "      <td>Action</td>\n",
       "      <td>666.06</td>\n",
       "      <td>415.37</td>\n",
       "      <td>117.41</td>\n",
       "      <td>164.29</td>\n",
       "    </tr>\n",
       "    <tr>\n",
       "      <td>1</td>\n",
       "      <td>Adventure</td>\n",
       "      <td>72.48</td>\n",
       "      <td>42.65</td>\n",
       "      <td>31.93</td>\n",
       "      <td>13.51</td>\n",
       "    </tr>\n",
       "    <tr>\n",
       "      <td>2</td>\n",
       "      <td>Fighting</td>\n",
       "      <td>128.47</td>\n",
       "      <td>57.14</td>\n",
       "      <td>35.97</td>\n",
       "      <td>27.82</td>\n",
       "    </tr>\n",
       "    <tr>\n",
       "      <td>3</td>\n",
       "      <td>Misc</td>\n",
       "      <td>340.82</td>\n",
       "      <td>184.54</td>\n",
       "      <td>79.52</td>\n",
       "      <td>68.82</td>\n",
       "    </tr>\n",
       "    <tr>\n",
       "      <td>4</td>\n",
       "      <td>Platform</td>\n",
       "      <td>201.34</td>\n",
       "      <td>111.92</td>\n",
       "      <td>44.65</td>\n",
       "      <td>35.66</td>\n",
       "    </tr>\n",
       "    <tr>\n",
       "      <td>5</td>\n",
       "      <td>Puzzle</td>\n",
       "      <td>54.35</td>\n",
       "      <td>35.61</td>\n",
       "      <td>22.33</td>\n",
       "      <td>9.46</td>\n",
       "    </tr>\n",
       "    <tr>\n",
       "      <td>6</td>\n",
       "      <td>Racing</td>\n",
       "      <td>213.53</td>\n",
       "      <td>159.03</td>\n",
       "      <td>22.40</td>\n",
       "      <td>60.60</td>\n",
       "    </tr>\n",
       "    <tr>\n",
       "      <td>7</td>\n",
       "      <td>Role-Playing</td>\n",
       "      <td>247.29</td>\n",
       "      <td>138.01</td>\n",
       "      <td>203.21</td>\n",
       "      <td>47.20</td>\n",
       "    </tr>\n",
       "    <tr>\n",
       "      <td>8</td>\n",
       "      <td>Shooter</td>\n",
       "      <td>450.20</td>\n",
       "      <td>271.55</td>\n",
       "      <td>21.55</td>\n",
       "      <td>94.89</td>\n",
       "    </tr>\n",
       "    <tr>\n",
       "      <td>9</td>\n",
       "      <td>Simulation</td>\n",
       "      <td>145.20</td>\n",
       "      <td>96.07</td>\n",
       "      <td>34.37</td>\n",
       "      <td>26.54</td>\n",
       "    </tr>\n",
       "    <tr>\n",
       "      <td>10</td>\n",
       "      <td>Sports</td>\n",
       "      <td>511.40</td>\n",
       "      <td>300.14</td>\n",
       "      <td>61.25</td>\n",
       "      <td>114.64</td>\n",
       "    </tr>\n",
       "    <tr>\n",
       "      <td>11</td>\n",
       "      <td>Strategy</td>\n",
       "      <td>37.79</td>\n",
       "      <td>29.77</td>\n",
       "      <td>18.74</td>\n",
       "      <td>7.87</td>\n",
       "    </tr>\n",
       "  </tbody>\n",
       "</table>\n",
       "</div>"
      ],
      "text/plain": [
       "           genre  na_sales  eu_sales  jp_sales  other_sales\n",
       "0         Action    666.06    415.37    117.41       164.29\n",
       "1      Adventure     72.48     42.65     31.93        13.51\n",
       "2       Fighting    128.47     57.14     35.97        27.82\n",
       "3           Misc    340.82    184.54     79.52        68.82\n",
       "4       Platform    201.34    111.92     44.65        35.66\n",
       "5         Puzzle     54.35     35.61     22.33         9.46\n",
       "6         Racing    213.53    159.03     22.40        60.60\n",
       "7   Role-Playing    247.29    138.01    203.21        47.20\n",
       "8        Shooter    450.20    271.55     21.55        94.89\n",
       "9     Simulation    145.20     96.07     34.37        26.54\n",
       "10        Sports    511.40    300.14     61.25       114.64\n",
       "11      Strategy     37.79     29.77     18.74         7.87"
      ]
     },
     "execution_count": 72,
     "metadata": {},
     "output_type": "execute_result"
    }
   ],
   "source": [
    "sales2 = df_new.groupby('genre')[['na_sales', 'eu_sales', 'jp_sales', 'other_sales']].sum().reset_index()\n",
    "sales2"
   ]
  },
  {
   "cell_type": "code",
   "execution_count": 73,
   "metadata": {
    "scrolled": true
   },
   "outputs": [
    {
     "data": {
      "image/png": "[encoded data removed]",
      "text/plain": [
       "<Figure size 432x288 with 1 Axes>"
      ]
     },
     "metadata": {
      "needs_background": "light"
     },
     "output_type": "display_data"
    },
    {
     "name": "stdout",
     "output_type": "stream",
     "text": [
      "\n"
     ]
    },
    {
     "data": {
      "image/png": "[encoded data removed]",
      "text/plain": [
       "<Figure size 432x288 with 1 Axes>"
      ]
     },
     "metadata": {
      "needs_background": "light"
     },
     "output_type": "display_data"
    },
    {
     "name": "stdout",
     "output_type": "stream",
     "text": [
      "\n"
     ]
    },
    {
     "data": {
      "image/png": "[encoded data removed]",
      "text/plain": [
       "<Figure size 432x288 with 1 Axes>"
      ]
     },
     "metadata": {
      "needs_background": "light"
     },
     "output_type": "display_data"
    },
    {
     "name": "stdout",
     "output_type": "stream",
     "text": [
      "\n"
     ]
    },
    {
     "data": {
      "image/png": "[encoded data removed]",
      "text/plain": [
       "<Figure size 432x288 with 1 Axes>"
      ]
     },
     "metadata": {
      "needs_background": "light"
     },
     "output_type": "display_data"
    },
    {
     "name": "stdout",
     "output_type": "stream",
     "text": [
      "\n"
     ]
    }
   ],
   "source": [
    "sales2['na_share'] = sales2['na_sales'] / sales2['na_sales'].sum()\n",
    "sales2['eu_share'] = sales2['eu_sales'] / sales2['eu_sales'].sum()\n",
    "sales2['jp_share'] = sales2['jp_sales'] / sales2['jp_sales'].sum()\n",
    "sales2['other_share'] = sales2['other_sales'] / sales2['other_sales'].sum()\n",
    "na_top = sales2[['genre', 'na_share']].sort_values(\n",
    "    by = 'na_share', ascending = False).head(5)\n",
    "eu_top = sales2[['genre', 'eu_share']].sort_values(\n",
    "    by = 'eu_share', ascending = False).head(5)\n",
    "jp_top = sales2[['genre', 'jp_share']].sort_values(\n",
    "    by = 'jp_share', ascending = False).head(5)\n",
    "other_top = sales2[['genre', 'other_share']].sort_values(\n",
    "    by = 'other_share', ascending = False).head(5)\n",
    "for reg in [na_top, eu_top, jp_top, other_top]:\n",
    "    reg.plot(kind = 'bar', x = 'genre')\n",
    "    plt.ylabel('share')\n",
    "    plt.show()\n",
    "    print()"
   ]
  },
  {
   "cell_type": "markdown",
   "metadata": {},
   "source": [
    "В каждом регионе, кроме Японии лидирует жанр Action — и тут у восточного рынка своя специфика, которую придётся учитывать при принятии решений о разработке и продвижении. При этом если смотреть в целом, вкусы аудиторий в регионах очень похожи и лидируют все те же жанры: Action, Sports (более или менее), Misc."
   ]
  },
  {
   "cell_type": "markdown",
   "metadata": {},
   "source": [
    "### Влияет ли рейтинг ESRB на продажи в отдельном регионе?"
   ]
  },
  {
   "cell_type": "markdown",
   "metadata": {},
   "source": [
    "Посчитаю глобальные продажи в разрезе по рейтингам, кол-во игр с каждым их них, медиану и средние продажи на игру"
   ]
  },
  {
   "cell_type": "code",
   "execution_count": 74,
   "metadata": {
    "scrolled": false
   },
   "outputs": [
    {
     "data": {
      "text/html": [
       "<div>\n",
       "<style scoped>\n",
       "    .dataframe tbody tr th:only-of-type {\n",
       "        vertical-align: middle;\n",
       "    }\n",
       "\n",
       "    .dataframe tbody tr th {\n",
       "        vertical-align: top;\n",
       "    }\n",
       "\n",
       "    .dataframe thead tr th {\n",
       "        text-align: left;\n",
       "    }\n",
       "</style>\n",
       "<table border=\"1\" class=\"dataframe\">\n",
       "  <thead>\n",
       "    <tr>\n",
       "      <th></th>\n",
       "      <th>rating</th>\n",
       "      <th colspan=\"2\" halign=\"left\">na_sales</th>\n",
       "      <th colspan=\"2\" halign=\"left\">eu_sales</th>\n",
       "      <th colspan=\"2\" halign=\"left\">jp_sales</th>\n",
       "      <th colspan=\"2\" halign=\"left\">other_sales</th>\n",
       "      <th colspan=\"2\" halign=\"left\">ttl_sales</th>\n",
       "    </tr>\n",
       "    <tr>\n",
       "      <th></th>\n",
       "      <th></th>\n",
       "      <th>median</th>\n",
       "      <th>mean</th>\n",
       "      <th>median</th>\n",
       "      <th>mean</th>\n",
       "      <th>median</th>\n",
       "      <th>mean</th>\n",
       "      <th>median</th>\n",
       "      <th>mean</th>\n",
       "      <th>median</th>\n",
       "      <th>mean</th>\n",
       "    </tr>\n",
       "  </thead>\n",
       "  <tbody>\n",
       "    <tr>\n",
       "      <td>0</td>\n",
       "      <td>AO</td>\n",
       "      <td>1.260</td>\n",
       "      <td>1.260000</td>\n",
       "      <td>0.61</td>\n",
       "      <td>0.610000</td>\n",
       "      <td>0.00</td>\n",
       "      <td>0.000000</td>\n",
       "      <td>0.090</td>\n",
       "      <td>0.090000</td>\n",
       "      <td>1.960</td>\n",
       "      <td>1.960000</td>\n",
       "    </tr>\n",
       "    <tr>\n",
       "      <td>1</td>\n",
       "      <td>E</td>\n",
       "      <td>0.120</td>\n",
       "      <td>0.325817</td>\n",
       "      <td>0.03</td>\n",
       "      <td>0.179114</td>\n",
       "      <td>0.00</td>\n",
       "      <td>0.050361</td>\n",
       "      <td>0.010</td>\n",
       "      <td>0.059025</td>\n",
       "      <td>0.200</td>\n",
       "      <td>0.614317</td>\n",
       "    </tr>\n",
       "    <tr>\n",
       "      <td>2</td>\n",
       "      <td>E10+</td>\n",
       "      <td>0.120</td>\n",
       "      <td>0.249688</td>\n",
       "      <td>0.03</td>\n",
       "      <td>0.133385</td>\n",
       "      <td>0.00</td>\n",
       "      <td>0.028470</td>\n",
       "      <td>0.020</td>\n",
       "      <td>0.052040</td>\n",
       "      <td>0.210</td>\n",
       "      <td>0.463584</td>\n",
       "    </tr>\n",
       "    <tr>\n",
       "      <td>3</td>\n",
       "      <td>EC</td>\n",
       "      <td>0.155</td>\n",
       "      <td>0.191250</td>\n",
       "      <td>0.00</td>\n",
       "      <td>0.013750</td>\n",
       "      <td>0.00</td>\n",
       "      <td>0.000000</td>\n",
       "      <td>0.015</td>\n",
       "      <td>0.013750</td>\n",
       "      <td>0.220</td>\n",
       "      <td>0.218750</td>\n",
       "    </tr>\n",
       "    <tr>\n",
       "      <td>4</td>\n",
       "      <td>M</td>\n",
       "      <td>0.140</td>\n",
       "      <td>0.480663</td>\n",
       "      <td>0.09</td>\n",
       "      <td>0.310920</td>\n",
       "      <td>0.00</td>\n",
       "      <td>0.040933</td>\n",
       "      <td>0.030</td>\n",
       "      <td>0.113803</td>\n",
       "      <td>0.310</td>\n",
       "      <td>0.946319</td>\n",
       "    </tr>\n",
       "    <tr>\n",
       "      <td>5</td>\n",
       "      <td>RP</td>\n",
       "      <td>0.000</td>\n",
       "      <td>0.000000</td>\n",
       "      <td>0.02</td>\n",
       "      <td>0.020000</td>\n",
       "      <td>0.00</td>\n",
       "      <td>0.000000</td>\n",
       "      <td>0.005</td>\n",
       "      <td>0.005000</td>\n",
       "      <td>0.025</td>\n",
       "      <td>0.025000</td>\n",
       "    </tr>\n",
       "    <tr>\n",
       "      <td>6</td>\n",
       "      <td>T</td>\n",
       "      <td>0.100</td>\n",
       "      <td>0.256403</td>\n",
       "      <td>0.04</td>\n",
       "      <td>0.144560</td>\n",
       "      <td>0.00</td>\n",
       "      <td>0.051495</td>\n",
       "      <td>0.020</td>\n",
       "      <td>0.052386</td>\n",
       "      <td>0.200</td>\n",
       "      <td>0.504843</td>\n",
       "    </tr>\n",
       "    <tr>\n",
       "      <td>7</td>\n",
       "      <td>no_rating</td>\n",
       "      <td>0.000</td>\n",
       "      <td>0.183483</td>\n",
       "      <td>0.00</td>\n",
       "      <td>0.091118</td>\n",
       "      <td>0.02</td>\n",
       "      <td>0.125152</td>\n",
       "      <td>0.000</td>\n",
       "      <td>0.022424</td>\n",
       "      <td>0.110</td>\n",
       "      <td>0.422176</td>\n",
       "    </tr>\n",
       "  </tbody>\n",
       "</table>\n",
       "</div>"
      ],
      "text/plain": [
       "      rating na_sales           eu_sales           jp_sales            \\\n",
       "               median      mean   median      mean   median      mean   \n",
       "0         AO    1.260  1.260000     0.61  0.610000     0.00  0.000000   \n",
       "1          E    0.120  0.325817     0.03  0.179114     0.00  0.050361   \n",
       "2       E10+    0.120  0.249688     0.03  0.133385     0.00  0.028470   \n",
       "3         EC    0.155  0.191250     0.00  0.013750     0.00  0.000000   \n",
       "4          M    0.140  0.480663     0.09  0.310920     0.00  0.040933   \n",
       "5         RP    0.000  0.000000     0.02  0.020000     0.00  0.000000   \n",
       "6          T    0.100  0.256403     0.04  0.144560     0.00  0.051495   \n",
       "7  no_rating    0.000  0.183483     0.00  0.091118     0.02  0.125152   \n",
       "\n",
       "  other_sales           ttl_sales            \n",
       "       median      mean    median      mean  \n",
       "0       0.090  0.090000     1.960  1.960000  \n",
       "1       0.010  0.059025     0.200  0.614317  \n",
       "2       0.020  0.052040     0.210  0.463584  \n",
       "3       0.015  0.013750     0.220  0.218750  \n",
       "4       0.030  0.113803     0.310  0.946319  \n",
       "5       0.005  0.005000     0.025  0.025000  \n",
       "6       0.020  0.052386     0.200  0.504843  \n",
       "7       0.000  0.022424     0.110  0.422176  "
      ]
     },
     "execution_count": 74,
     "metadata": {},
     "output_type": "execute_result"
    }
   ],
   "source": [
    "esrb = df.groupby('rating')['na_sales', 'eu_sales', 'jp_sales', 'other_sales', 'ttl_sales'].agg(['median', 'mean']).reset_index()\n",
    "esrb"
   ]
  },
  {
   "cell_type": "code",
   "execution_count": 75,
   "metadata": {
    "scrolled": true
   },
   "outputs": [
    {
     "data": {
      "text/plain": [
       "<matplotlib.axes._subplots.AxesSubplot at 0x7f137106e350>"
      ]
     },
     "execution_count": 75,
     "metadata": {},
     "output_type": "execute_result"
    },
    {
     "data": {
      "image/png": "[encoded data removed]",
      "text/plain": [
       "<Figure size 432x288 with 1 Axes>"
      ]
     },
     "metadata": {
      "needs_background": "light"
     },
     "output_type": "display_data"
    }
   ],
   "source": [
    "esrb.plot(kind = 'bar', x = 'rating', y = 'na_sales')"
   ]
  },
  {
   "cell_type": "markdown",
   "metadata": {},
   "source": [
    "То же с помощью сводной таблицы"
   ]
  },
  {
   "cell_type": "code",
   "execution_count": 76,
   "metadata": {
    "scrolled": false
   },
   "outputs": [
    {
     "data": {
      "text/html": [
       "<div>\n",
       "<style scoped>\n",
       "    .dataframe tbody tr th:only-of-type {\n",
       "        vertical-align: middle;\n",
       "    }\n",
       "\n",
       "    .dataframe tbody tr th {\n",
       "        vertical-align: top;\n",
       "    }\n",
       "\n",
       "    .dataframe thead tr th {\n",
       "        text-align: left;\n",
       "    }\n",
       "</style>\n",
       "<table border=\"1\" class=\"dataframe\">\n",
       "  <thead>\n",
       "    <tr>\n",
       "      <th></th>\n",
       "      <th>rating</th>\n",
       "      <th colspan=\"4\" halign=\"left\">mean</th>\n",
       "      <th colspan=\"4\" halign=\"left\">median</th>\n",
       "    </tr>\n",
       "    <tr>\n",
       "      <th></th>\n",
       "      <th></th>\n",
       "      <th>eu_sales</th>\n",
       "      <th>jp_sales</th>\n",
       "      <th>na_sales</th>\n",
       "      <th>other_sales</th>\n",
       "      <th>eu_sales</th>\n",
       "      <th>jp_sales</th>\n",
       "      <th>na_sales</th>\n",
       "      <th>other_sales</th>\n",
       "    </tr>\n",
       "  </thead>\n",
       "  <tbody>\n",
       "    <tr>\n",
       "      <td>0</td>\n",
       "      <td>AO</td>\n",
       "      <td>0.610000</td>\n",
       "      <td>0.000000</td>\n",
       "      <td>1.260000</td>\n",
       "      <td>0.090000</td>\n",
       "      <td>0.61</td>\n",
       "      <td>0.00</td>\n",
       "      <td>1.260</td>\n",
       "      <td>0.090</td>\n",
       "    </tr>\n",
       "    <tr>\n",
       "      <td>1</td>\n",
       "      <td>E</td>\n",
       "      <td>0.181544</td>\n",
       "      <td>0.051025</td>\n",
       "      <td>0.323883</td>\n",
       "      <td>0.063539</td>\n",
       "      <td>0.02</td>\n",
       "      <td>0.00</td>\n",
       "      <td>0.120</td>\n",
       "      <td>0.010</td>\n",
       "    </tr>\n",
       "    <tr>\n",
       "      <td>2</td>\n",
       "      <td>E10+</td>\n",
       "      <td>0.133466</td>\n",
       "      <td>0.028490</td>\n",
       "      <td>0.249865</td>\n",
       "      <td>0.052069</td>\n",
       "      <td>0.03</td>\n",
       "      <td>0.00</td>\n",
       "      <td>0.120</td>\n",
       "      <td>0.020</td>\n",
       "    </tr>\n",
       "    <tr>\n",
       "      <td>3</td>\n",
       "      <td>EC</td>\n",
       "      <td>0.013750</td>\n",
       "      <td>0.000000</td>\n",
       "      <td>0.191250</td>\n",
       "      <td>0.013750</td>\n",
       "      <td>0.00</td>\n",
       "      <td>0.00</td>\n",
       "      <td>0.155</td>\n",
       "      <td>0.015</td>\n",
       "    </tr>\n",
       "    <tr>\n",
       "      <td>4</td>\n",
       "      <td>M</td>\n",
       "      <td>0.307617</td>\n",
       "      <td>0.035477</td>\n",
       "      <td>0.468502</td>\n",
       "      <td>0.115456</td>\n",
       "      <td>0.09</td>\n",
       "      <td>0.00</td>\n",
       "      <td>0.140</td>\n",
       "      <td>0.030</td>\n",
       "    </tr>\n",
       "    <tr>\n",
       "      <td>5</td>\n",
       "      <td>RP</td>\n",
       "      <td>0.020000</td>\n",
       "      <td>0.000000</td>\n",
       "      <td>0.000000</td>\n",
       "      <td>0.005000</td>\n",
       "      <td>0.02</td>\n",
       "      <td>0.00</td>\n",
       "      <td>0.000</td>\n",
       "      <td>0.005</td>\n",
       "    </tr>\n",
       "    <tr>\n",
       "      <td>6</td>\n",
       "      <td>T</td>\n",
       "      <td>0.131234</td>\n",
       "      <td>0.043139</td>\n",
       "      <td>0.238674</td>\n",
       "      <td>0.053051</td>\n",
       "      <td>0.04</td>\n",
       "      <td>0.00</td>\n",
       "      <td>0.100</td>\n",
       "      <td>0.020</td>\n",
       "    </tr>\n",
       "    <tr>\n",
       "      <td>7</td>\n",
       "      <td>no_rating</td>\n",
       "      <td>0.068101</td>\n",
       "      <td>0.076306</td>\n",
       "      <td>0.091073</td>\n",
       "      <td>0.021579</td>\n",
       "      <td>0.00</td>\n",
       "      <td>0.02</td>\n",
       "      <td>0.000</td>\n",
       "      <td>0.000</td>\n",
       "    </tr>\n",
       "  </tbody>\n",
       "</table>\n",
       "</div>"
      ],
      "text/plain": [
       "      rating      mean                                   median           \\\n",
       "              eu_sales  jp_sales  na_sales other_sales eu_sales jp_sales   \n",
       "0         AO  0.610000  0.000000  1.260000    0.090000     0.61     0.00   \n",
       "1          E  0.181544  0.051025  0.323883    0.063539     0.02     0.00   \n",
       "2       E10+  0.133466  0.028490  0.249865    0.052069     0.03     0.00   \n",
       "3         EC  0.013750  0.000000  0.191250    0.013750     0.00     0.00   \n",
       "4          M  0.307617  0.035477  0.468502    0.115456     0.09     0.00   \n",
       "5         RP  0.020000  0.000000  0.000000    0.005000     0.02     0.00   \n",
       "6          T  0.131234  0.043139  0.238674    0.053051     0.04     0.00   \n",
       "7  no_rating  0.068101  0.076306  0.091073    0.021579     0.00     0.02   \n",
       "\n",
       "                        \n",
       "  na_sales other_sales  \n",
       "0    1.260       0.090  \n",
       "1    0.120       0.010  \n",
       "2    0.120       0.020  \n",
       "3    0.155       0.015  \n",
       "4    0.140       0.030  \n",
       "5    0.000       0.005  \n",
       "6    0.100       0.020  \n",
       "7    0.000       0.000  "
      ]
     },
     "execution_count": 76,
     "metadata": {},
     "output_type": "execute_result"
    }
   ],
   "source": [
    "esrb_reg = df_new.pivot_table(\n",
    "    index = 'rating', values=['na_sales', 'eu_sales', 'jp_sales', 'other_sales'], aggfunc=['mean', 'median']).reset_index()\n",
    "esrb_reg"
   ]
  },
  {
   "cell_type": "markdown",
   "metadata": {},
   "source": [
    "Добавлю столбец, по которому и сделаю сортировку по возрастанию возрастного ценза"
   ]
  },
  {
   "cell_type": "code",
   "execution_count": 77,
   "metadata": {
    "scrolled": true
   },
   "outputs": [
    {
     "data": {
      "text/html": [
       "<div>\n",
       "<style scoped>\n",
       "    .dataframe tbody tr th:only-of-type {\n",
       "        vertical-align: middle;\n",
       "    }\n",
       "\n",
       "    .dataframe tbody tr th {\n",
       "        vertical-align: top;\n",
       "    }\n",
       "\n",
       "    .dataframe thead tr th {\n",
       "        text-align: left;\n",
       "    }\n",
       "</style>\n",
       "<table border=\"1\" class=\"dataframe\">\n",
       "  <thead>\n",
       "    <tr>\n",
       "      <th></th>\n",
       "      <th>rating</th>\n",
       "      <th colspan=\"4\" halign=\"left\">mean</th>\n",
       "      <th colspan=\"4\" halign=\"left\">median</th>\n",
       "      <th>sort</th>\n",
       "    </tr>\n",
       "    <tr>\n",
       "      <th></th>\n",
       "      <th></th>\n",
       "      <th>eu_sales</th>\n",
       "      <th>jp_sales</th>\n",
       "      <th>na_sales</th>\n",
       "      <th>other_sales</th>\n",
       "      <th>eu_sales</th>\n",
       "      <th>jp_sales</th>\n",
       "      <th>na_sales</th>\n",
       "      <th>other_sales</th>\n",
       "      <th></th>\n",
       "    </tr>\n",
       "  </thead>\n",
       "  <tbody>\n",
       "    <tr>\n",
       "      <td>3</td>\n",
       "      <td>EC</td>\n",
       "      <td>0.013750</td>\n",
       "      <td>0.000000</td>\n",
       "      <td>0.191250</td>\n",
       "      <td>0.013750</td>\n",
       "      <td>0.00</td>\n",
       "      <td>0.00</td>\n",
       "      <td>0.155</td>\n",
       "      <td>0.015</td>\n",
       "      <td>1</td>\n",
       "    </tr>\n",
       "    <tr>\n",
       "      <td>1</td>\n",
       "      <td>E</td>\n",
       "      <td>0.181544</td>\n",
       "      <td>0.051025</td>\n",
       "      <td>0.323883</td>\n",
       "      <td>0.063539</td>\n",
       "      <td>0.02</td>\n",
       "      <td>0.00</td>\n",
       "      <td>0.120</td>\n",
       "      <td>0.010</td>\n",
       "      <td>2</td>\n",
       "    </tr>\n",
       "    <tr>\n",
       "      <td>2</td>\n",
       "      <td>E10+</td>\n",
       "      <td>0.133466</td>\n",
       "      <td>0.028490</td>\n",
       "      <td>0.249865</td>\n",
       "      <td>0.052069</td>\n",
       "      <td>0.03</td>\n",
       "      <td>0.00</td>\n",
       "      <td>0.120</td>\n",
       "      <td>0.020</td>\n",
       "      <td>3</td>\n",
       "    </tr>\n",
       "    <tr>\n",
       "      <td>6</td>\n",
       "      <td>T</td>\n",
       "      <td>0.131234</td>\n",
       "      <td>0.043139</td>\n",
       "      <td>0.238674</td>\n",
       "      <td>0.053051</td>\n",
       "      <td>0.04</td>\n",
       "      <td>0.00</td>\n",
       "      <td>0.100</td>\n",
       "      <td>0.020</td>\n",
       "      <td>4</td>\n",
       "    </tr>\n",
       "    <tr>\n",
       "      <td>4</td>\n",
       "      <td>M</td>\n",
       "      <td>0.307617</td>\n",
       "      <td>0.035477</td>\n",
       "      <td>0.468502</td>\n",
       "      <td>0.115456</td>\n",
       "      <td>0.09</td>\n",
       "      <td>0.00</td>\n",
       "      <td>0.140</td>\n",
       "      <td>0.030</td>\n",
       "      <td>5</td>\n",
       "    </tr>\n",
       "    <tr>\n",
       "      <td>0</td>\n",
       "      <td>AO</td>\n",
       "      <td>0.610000</td>\n",
       "      <td>0.000000</td>\n",
       "      <td>1.260000</td>\n",
       "      <td>0.090000</td>\n",
       "      <td>0.61</td>\n",
       "      <td>0.00</td>\n",
       "      <td>1.260</td>\n",
       "      <td>0.090</td>\n",
       "      <td>6</td>\n",
       "    </tr>\n",
       "    <tr>\n",
       "      <td>5</td>\n",
       "      <td>RP</td>\n",
       "      <td>0.020000</td>\n",
       "      <td>0.000000</td>\n",
       "      <td>0.000000</td>\n",
       "      <td>0.005000</td>\n",
       "      <td>0.02</td>\n",
       "      <td>0.00</td>\n",
       "      <td>0.000</td>\n",
       "      <td>0.005</td>\n",
       "      <td>7</td>\n",
       "    </tr>\n",
       "    <tr>\n",
       "      <td>7</td>\n",
       "      <td>no_rating</td>\n",
       "      <td>0.068101</td>\n",
       "      <td>0.076306</td>\n",
       "      <td>0.091073</td>\n",
       "      <td>0.021579</td>\n",
       "      <td>0.00</td>\n",
       "      <td>0.02</td>\n",
       "      <td>0.000</td>\n",
       "      <td>0.000</td>\n",
       "      <td>8</td>\n",
       "    </tr>\n",
       "  </tbody>\n",
       "</table>\n",
       "</div>"
      ],
      "text/plain": [
       "      rating      mean                                   median           \\\n",
       "              eu_sales  jp_sales  na_sales other_sales eu_sales jp_sales   \n",
       "3         EC  0.013750  0.000000  0.191250    0.013750     0.00     0.00   \n",
       "1          E  0.181544  0.051025  0.323883    0.063539     0.02     0.00   \n",
       "2       E10+  0.133466  0.028490  0.249865    0.052069     0.03     0.00   \n",
       "6          T  0.131234  0.043139  0.238674    0.053051     0.04     0.00   \n",
       "4          M  0.307617  0.035477  0.468502    0.115456     0.09     0.00   \n",
       "0         AO  0.610000  0.000000  1.260000    0.090000     0.61     0.00   \n",
       "5         RP  0.020000  0.000000  0.000000    0.005000     0.02     0.00   \n",
       "7  no_rating  0.068101  0.076306  0.091073    0.021579     0.00     0.02   \n",
       "\n",
       "                       sort  \n",
       "  na_sales other_sales       \n",
       "3    0.155       0.015    1  \n",
       "1    0.120       0.010    2  \n",
       "2    0.120       0.020    3  \n",
       "6    0.100       0.020    4  \n",
       "4    0.140       0.030    5  \n",
       "0    1.260       0.090    6  \n",
       "5    0.000       0.005    7  \n",
       "7    0.000       0.000    8  "
      ]
     },
     "execution_count": 77,
     "metadata": {},
     "output_type": "execute_result"
    }
   ],
   "source": [
    "esrb_reg['sort'] = [6, 2, 3, 1, 5, 7, 4, 8]\n",
    "esrb_reg = esrb_reg.sort_values(by = 'sort')\n",
    "esrb_reg"
   ]
  },
  {
   "cell_type": "markdown",
   "metadata": {},
   "source": [
    "Построю диаграммы среднего и медианы объёмов продаж"
   ]
  },
  {
   "cell_type": "code",
   "execution_count": 78,
   "metadata": {
    "scrolled": false
   },
   "outputs": [
    {
     "data": {
      "text/plain": [
       "Text(0.5, 1.0, 'Медианные продажи игр в разных регионах по рейтингам')"
      ]
     },
     "execution_count": 78,
     "metadata": {},
     "output_type": "execute_result"
    },
    {
     "data": {
      "image/png": "[encoded data removed]",
      "text/plain": [
       "<Figure size 432x288 with 1 Axes>"
      ]
     },
     "metadata": {
      "needs_background": "light"
     },
     "output_type": "display_data"
    },
    {
     "data": {
      "image/png": "[encoded data removed]",
      "text/plain": [
       "<Figure size 432x288 with 1 Axes>"
      ]
     },
     "metadata": {
      "needs_background": "light"
     },
     "output_type": "display_data"
    }
   ],
   "source": [
    "esrb_reg.plot(kind = 'bar', x = 'rating', y = 'mean')\n",
    "plt.title('Средние продажи игр в разных регионах по рейтингам')\n",
    "esrb_reg.plot(kind = 'bar', x = 'rating', y = 'median')\n",
    "plt.title('Медианные продажи игр в разных регионах по рейтингам')"
   ]
  },
  {
   "cell_type": "markdown",
   "metadata": {},
   "source": [
    "Походе, что в Северной Америке и Европе большой популярностью полльзуются жанры \"Для взрослых 17+\" и \"Только для взрослых 18+\".  \n",
    "В то время как в Японии одинаково популярны игры с менее жесткими возрастными ограничениями: от Е до М. А вот АО совсем не пользуется спросом.  \n",
    "В других регионах картина компромиссная между предыдущими двумя."
   ]
  },
  {
   "cell_type": "code",
   "execution_count": 79,
   "metadata": {
    "scrolled": true
   },
   "outputs": [
    {
     "data": {
      "text/html": [
       "<div>\n",
       "<style scoped>\n",
       "    .dataframe tbody tr th:only-of-type {\n",
       "        vertical-align: middle;\n",
       "    }\n",
       "\n",
       "    .dataframe tbody tr th {\n",
       "        vertical-align: top;\n",
       "    }\n",
       "\n",
       "    .dataframe thead tr th {\n",
       "        text-align: left;\n",
       "    }\n",
       "</style>\n",
       "<table border=\"1\" class=\"dataframe\">\n",
       "  <thead>\n",
       "    <tr>\n",
       "      <th></th>\n",
       "      <th>rating</th>\n",
       "      <th colspan=\"2\" halign=\"left\">eu_sales</th>\n",
       "      <th colspan=\"2\" halign=\"left\">jp_sales</th>\n",
       "      <th colspan=\"2\" halign=\"left\">na_sales</th>\n",
       "      <th colspan=\"2\" halign=\"left\">other_sales</th>\n",
       "    </tr>\n",
       "    <tr>\n",
       "      <th></th>\n",
       "      <th></th>\n",
       "      <th>mean</th>\n",
       "      <th>median</th>\n",
       "      <th>mean</th>\n",
       "      <th>median</th>\n",
       "      <th>mean</th>\n",
       "      <th>median</th>\n",
       "      <th>mean</th>\n",
       "      <th>median</th>\n",
       "    </tr>\n",
       "  </thead>\n",
       "  <tbody>\n",
       "    <tr>\n",
       "      <td>0</td>\n",
       "      <td>AO</td>\n",
       "      <td>0.610000</td>\n",
       "      <td>0.61</td>\n",
       "      <td>0.000000</td>\n",
       "      <td>0.00</td>\n",
       "      <td>1.260000</td>\n",
       "      <td>1.260</td>\n",
       "      <td>0.090000</td>\n",
       "      <td>0.090</td>\n",
       "    </tr>\n",
       "    <tr>\n",
       "      <td>1</td>\n",
       "      <td>E</td>\n",
       "      <td>0.181544</td>\n",
       "      <td>0.02</td>\n",
       "      <td>0.051025</td>\n",
       "      <td>0.00</td>\n",
       "      <td>0.323883</td>\n",
       "      <td>0.120</td>\n",
       "      <td>0.063539</td>\n",
       "      <td>0.010</td>\n",
       "    </tr>\n",
       "    <tr>\n",
       "      <td>2</td>\n",
       "      <td>E10+</td>\n",
       "      <td>0.133466</td>\n",
       "      <td>0.03</td>\n",
       "      <td>0.028490</td>\n",
       "      <td>0.00</td>\n",
       "      <td>0.249865</td>\n",
       "      <td>0.120</td>\n",
       "      <td>0.052069</td>\n",
       "      <td>0.020</td>\n",
       "    </tr>\n",
       "    <tr>\n",
       "      <td>3</td>\n",
       "      <td>EC</td>\n",
       "      <td>0.013750</td>\n",
       "      <td>0.00</td>\n",
       "      <td>0.000000</td>\n",
       "      <td>0.00</td>\n",
       "      <td>0.191250</td>\n",
       "      <td>0.155</td>\n",
       "      <td>0.013750</td>\n",
       "      <td>0.015</td>\n",
       "    </tr>\n",
       "    <tr>\n",
       "      <td>4</td>\n",
       "      <td>M</td>\n",
       "      <td>0.307617</td>\n",
       "      <td>0.09</td>\n",
       "      <td>0.035477</td>\n",
       "      <td>0.00</td>\n",
       "      <td>0.468502</td>\n",
       "      <td>0.140</td>\n",
       "      <td>0.115456</td>\n",
       "      <td>0.030</td>\n",
       "    </tr>\n",
       "    <tr>\n",
       "      <td>5</td>\n",
       "      <td>RP</td>\n",
       "      <td>0.020000</td>\n",
       "      <td>0.02</td>\n",
       "      <td>0.000000</td>\n",
       "      <td>0.00</td>\n",
       "      <td>0.000000</td>\n",
       "      <td>0.000</td>\n",
       "      <td>0.005000</td>\n",
       "      <td>0.005</td>\n",
       "    </tr>\n",
       "    <tr>\n",
       "      <td>6</td>\n",
       "      <td>T</td>\n",
       "      <td>0.131234</td>\n",
       "      <td>0.04</td>\n",
       "      <td>0.043139</td>\n",
       "      <td>0.00</td>\n",
       "      <td>0.238674</td>\n",
       "      <td>0.100</td>\n",
       "      <td>0.053051</td>\n",
       "      <td>0.020</td>\n",
       "    </tr>\n",
       "    <tr>\n",
       "      <td>7</td>\n",
       "      <td>no_rating</td>\n",
       "      <td>0.068101</td>\n",
       "      <td>0.00</td>\n",
       "      <td>0.076306</td>\n",
       "      <td>0.02</td>\n",
       "      <td>0.091073</td>\n",
       "      <td>0.000</td>\n",
       "      <td>0.021579</td>\n",
       "      <td>0.000</td>\n",
       "    </tr>\n",
       "  </tbody>\n",
       "</table>\n",
       "</div>"
      ],
      "text/plain": [
       "      rating  eu_sales         jp_sales         na_sales        other_sales  \\\n",
       "                  mean median      mean median      mean median        mean   \n",
       "0         AO  0.610000   0.61  0.000000   0.00  1.260000  1.260    0.090000   \n",
       "1          E  0.181544   0.02  0.051025   0.00  0.323883  0.120    0.063539   \n",
       "2       E10+  0.133466   0.03  0.028490   0.00  0.249865  0.120    0.052069   \n",
       "3         EC  0.013750   0.00  0.000000   0.00  0.191250  0.155    0.013750   \n",
       "4          M  0.307617   0.09  0.035477   0.00  0.468502  0.140    0.115456   \n",
       "5         RP  0.020000   0.02  0.000000   0.00  0.000000  0.000    0.005000   \n",
       "6          T  0.131234   0.04  0.043139   0.00  0.238674  0.100    0.053051   \n",
       "7  no_rating  0.068101   0.00  0.076306   0.02  0.091073  0.000    0.021579   \n",
       "\n",
       "          \n",
       "  median  \n",
       "0  0.090  \n",
       "1  0.010  \n",
       "2  0.020  \n",
       "3  0.015  \n",
       "4  0.030  \n",
       "5  0.005  \n",
       "6  0.020  \n",
       "7  0.000  "
      ]
     },
     "execution_count": 79,
     "metadata": {},
     "output_type": "execute_result"
    }
   ],
   "source": [
    "esrb_reg = df_new.pivot_table(\n",
    "    index = 'rating', values=['na_sales', 'eu_sales', 'jp_sales', 'other_sales'], aggfunc=('mean', 'median')).reset_index()\n",
    "esrb_reg"
   ]
  },
  {
   "cell_type": "code",
   "execution_count": 80,
   "metadata": {
    "scrolled": false
   },
   "outputs": [
    {
     "name": "stdout",
     "output_type": "stream",
     "text": [
      "na_sales\n"
     ]
    },
    {
     "data": {
      "image/png": "[encoded data removed]",
      "text/plain": [
       "<Figure size 432x288 with 1 Axes>"
      ]
     },
     "metadata": {
      "needs_background": "light"
     },
     "output_type": "display_data"
    },
    {
     "name": "stdout",
     "output_type": "stream",
     "text": [
      "\n",
      "eu_sales\n"
     ]
    },
    {
     "data": {
      "image/png": "[encoded data removed]",
      "text/plain": [
       "<Figure size 432x288 with 1 Axes>"
      ]
     },
     "metadata": {
      "needs_background": "light"
     },
     "output_type": "display_data"
    },
    {
     "name": "stdout",
     "output_type": "stream",
     "text": [
      "\n",
      "jp_sales\n"
     ]
    },
    {
     "data": {
      "image/png": "[encoded data removed]",
      "text/plain": [
       "<Figure size 432x288 with 1 Axes>"
      ]
     },
     "metadata": {
      "needs_background": "light"
     },
     "output_type": "display_data"
    },
    {
     "name": "stdout",
     "output_type": "stream",
     "text": [
      "\n",
      "other_sales\n"
     ]
    },
    {
     "data": {
      "image/png": "[encoded data removed]",
      "text/plain": [
       "<Figure size 432x288 with 1 Axes>"
      ]
     },
     "metadata": {
      "needs_background": "light"
     },
     "output_type": "display_data"
    },
    {
     "name": "stdout",
     "output_type": "stream",
     "text": [
      "\n"
     ]
    }
   ],
   "source": [
    "for reg in ['na_sales', 'eu_sales', 'jp_sales', 'other_sales']:\n",
    "    print(reg)\n",
    "    esrb_reg[['rating', reg]].plot(kind = 'bar', x = 'rating')\n",
    "    plt.title('Продажи игр в регионе {} по рейтингам'.format(reg))\n",
    "    plt.show()\n",
    "    print()"
   ]
  },
  {
   "cell_type": "markdown",
   "metadata": {},
   "source": [
    "Итоговые потреты пользователей каждого региона.\n",
    "\n",
    "**NA**\n",
    "\n",
    "    Пользователи региона NA (Северная Америка) для игр используют в основном Xbox 360 отечественного производства или японских производителей Nintendo или Sony. Здесь в почёте динамичные жанры с быстрым геймплеем — Action, Sport, Shooter. Пользователи пробуют много игр.\n",
    "    \n",
    "**EU**\n",
    "\n",
    "    Пользователи европейского региона по жанровым вкусам и распределению возрастных рейтингов очень похоже на американских с менее выраженными крайними значениями. По всем показателям здесь «более средние» потребители.\n",
    "    \n",
    "**JP**\n",
    "    \n",
    "    А вот где отличились, так это на Японском рынке. Здесь пользователи во многом ведут себя особенным образом в своём большинстве. Здесь во главе угла отечественные производители платформ, которые при том могут обеспечить для пользователей достаточное разнообразие и комфортный гейминг в разных поколениях устройств и форматах — DS, 3DS, PS2, PS3, PS4. Пользователи предпочитают и неспешные ролевые игры и игры разнообразных жанров, без чёткой классификации, но так же много времени готовы уделять популярным на Западе жанрам Action и Sports. Большинство игр сделать продаётся без рейтинга, а среди рейтинговых совсем не пользуются спросом игры «только для взрослых»."
   ]
  },
  {
   "cell_type": "markdown",
   "metadata": {},
   "source": [
    "## Шаг 5. Проверю гипотезы"
   ]
  },
  {
   "cell_type": "markdown",
   "metadata": {},
   "source": [
    "Пороговое значение aplpha установлю 5% как общепринятый вариант."
   ]
  },
  {
   "cell_type": "code",
   "execution_count": 81,
   "metadata": {},
   "outputs": [],
   "source": [
    "alpha = 0.05"
   ]
  },
  {
   "cell_type": "markdown",
   "metadata": {},
   "source": [
    "### Средние пользовательские рейтинги платформ Xbox One и PC одинаковые"
   ]
  },
  {
   "cell_type": "code",
   "execution_count": 82,
   "metadata": {
    "scrolled": true
   },
   "outputs": [
    {
     "data": {
      "text/plain": [
       "array(['Wii', 'DS', 'X360', 'PS3', 'PS2', 'PS4', '3DS', 'GBA', 'XB', 'PC',\n",
       "       'PSP', 'XOne', 'WiiU', 'GC', 'PSV', 'PS', 'N64', 'DC'],\n",
       "      dtype=object)"
      ]
     },
     "execution_count": 82,
     "metadata": {},
     "output_type": "execute_result"
    }
   ],
   "source": [
    "df_new['platform'].unique()"
   ]
  },
  {
   "cell_type": "markdown",
   "metadata": {},
   "source": [
    "Верну 2 массива с пользовательским рейтингом для каждой из платформ"
   ]
  },
  {
   "cell_type": "code",
   "execution_count": 83,
   "metadata": {},
   "outputs": [],
   "source": [
    "xone = df_new[df_new['platform'] == 'XOne']\n",
    "pc = df_new[df_new['platform'] == 'PC']\n",
    "xone.dropna(subset=['user_score'], inplace=True)\n",
    "pc.dropna(subset=['user_score'], inplace=True)"
   ]
  },
  {
   "cell_type": "code",
   "execution_count": 84,
   "metadata": {},
   "outputs": [],
   "source": [
    "xone = xone['user_score'].to_list()\n",
    "pc = pc['user_score'].to_list()"
   ]
  },
  {
   "cell_type": "markdown",
   "metadata": {},
   "source": [
    "Сформулирую **нулевую гипотезу**:  \n",
    "Средние пользовательские рейтинги платформ Xbox One и PC одинаковые.\n",
    "**Ненулевая гипотеза** будет звучать так: средние пользовательские рейтинги платформ Xbox One и PC разные."
   ]
  },
  {
   "cell_type": "code",
   "execution_count": 85,
   "metadata": {},
   "outputs": [
    {
     "name": "stdout",
     "output_type": "stream",
     "text": [
      "p-значение:  0.000258622536601814\n",
      "Отвергаем нулевую гипотезу\n"
     ]
    }
   ],
   "source": [
    "result_platform = st.ttest_ind(xone, pc)\n",
    "print('p-значение: ', result_platform.pvalue)\n",
    "if result_platform.pvalue < alpha:\n",
    "    print('Отвергаем нулевую гипотезу')\n",
    "else:\n",
    "    print('Не получилось отвергнуть нулевую гипотезу')"
   ]
  },
  {
   "cell_type": "markdown",
   "metadata": {},
   "source": [
    "Пришлось отвергнуть нулевую гипотезу, скорее всего пользовательские рейтинги отличаются у этих двух платформ."
   ]
  },
  {
   "cell_type": "markdown",
   "metadata": {},
   "source": [
    "### Средние пользовательские рейтинги жанров Action (англ. «действие», экшен-игры) и Sports (англ. «спортивные соревнования») разные."
   ]
  },
  {
   "cell_type": "code",
   "execution_count": 86,
   "metadata": {
    "scrolled": false
   },
   "outputs": [
    {
     "data": {
      "text/plain": [
       "array(['Sports', 'Racing', 'Platform', 'Misc', 'Simulation', 'Action',\n",
       "       'Role-Playing', 'Puzzle', 'Shooter', 'Fighting', 'Adventure',\n",
       "       'Strategy'], dtype=object)"
      ]
     },
     "execution_count": 86,
     "metadata": {},
     "output_type": "execute_result"
    }
   ],
   "source": [
    "df_new['genre'].unique()"
   ]
  },
  {
   "cell_type": "markdown",
   "metadata": {},
   "source": [
    "Верну 2 массива с пользовательским рейтингом для каждого из жанров"
   ]
  },
  {
   "cell_type": "code",
   "execution_count": 87,
   "metadata": {},
   "outputs": [],
   "source": [
    "action = df_new[df_new['genre'] == 'Action']\n",
    "sports = df_new[df_new['genre'] == 'Sports']\n",
    "action.dropna(subset=['user_score'], inplace=True)\n",
    "sports.dropna(subset=['user_score'], inplace=True)"
   ]
  },
  {
   "cell_type": "code",
   "execution_count": 88,
   "metadata": {},
   "outputs": [],
   "source": [
    "action = action['user_score'].to_list()\n",
    "sports = sports['user_score'].to_list()"
   ]
  },
  {
   "cell_type": "markdown",
   "metadata": {},
   "source": [
    "Сформулирую **нулевую гипотезу**:  \n",
    "средние пользовательские рейтинги жанров Action и Sports одинаковые.\n",
    "**Ненулевая гипотеза** будет звучать так: средние пользовательские рейтинги жанров Action и Sports разные."
   ]
  },
  {
   "cell_type": "code",
   "execution_count": 89,
   "metadata": {},
   "outputs": [
    {
     "name": "stdout",
     "output_type": "stream",
     "text": [
      "p-значение:  0.0010957701777769982\n",
      "Отвергаем нулевую гипотезу\n"
     ]
    }
   ],
   "source": [
    "result_genre = st.ttest_ind(action, sports)\n",
    "print('p-значение: ', result_genre.pvalue)\n",
    "if result_genre.pvalue < alpha:\n",
    "    print('Отвергаем нулевую гипотезу')\n",
    "else:\n",
    "    print('Не получилось отвергнуть нулевую гипотезу')"
   ]
  },
  {
   "cell_type": "markdown",
   "metadata": {},
   "source": [
    "Похоже, что средние пользовательские рейтинги этих платформ отличаются."
   ]
  },
  {
   "cell_type": "markdown",
   "metadata": {},
   "source": [
    "## Шаг 6. Общий вывод"
   ]
  },
  {
   "cell_type": "markdown",
   "metadata": {},
   "source": [
    "У пользователей в разных регионах вкусы отличаются. Но очевидно, что есть как очень успешные платформы (PS2, PS3, Xbox360, NintendoDS, NintendoWii), так и малопопулярные. Имеет место специфика региона, так платформы более сильны на своей родине.\n",
    "Оценки пользователей не корректируют с успешностью игр, а вот критики более объективны в своих оценках.  \n",
    "3 наиболее популярных жанра — Shooter, Sports, Action — приносят 90% оборота глобального рынка игр. При этом отличается популярность по возрастным рейтингам — в Азии не любят игры только для взрослых и для совсем маленьких."
   ]
  }
 ],
 "metadata": {
  "kernelspec": {
   "display_name": "Python 3",
   "language": "python",
   "name": "python3"
  },
  "language_info": {
   "codemirror_mode": {
    "name": "ipython",
    "version": 3
   },
   "file_extension": ".py",
   "mimetype": "text/x-python",
   "name": "python",
   "nbconvert_exporter": "python",
   "pygments_lexer": "ipython3",
   "version": "3.8.5"
  },
  "toc": {
   "base_numbering": 1,
   "nav_menu": {},
   "number_sections": true,
   "sideBar": true,
   "skip_h1_title": true,
   "title_cell": "Table of Contents",
   "title_sidebar": "Contents",
   "toc_cell": false,
   "toc_position": {},
   "toc_section_display": true,
   "toc_window_display": true
  }
 },
 "nbformat": 4,
 "nbformat_minor": 2
}
