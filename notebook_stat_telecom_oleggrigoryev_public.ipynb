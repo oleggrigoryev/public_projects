{
 "cells": [
  {
   "attachments": {},
   "cell_type": "markdown",
   "metadata": {},
   "source": [
    "# Описание проекта \"Определение перспективного тарифа для телеком компании\""
   ]
  },
  {
   "attachments": {},
   "cell_type": "markdown",
   "metadata": {},
   "source": [
    "Клиентам предлагают два тарифных плана: «Смарт» и «Ультра». Чтобы скорректировать рекламный бюджет, коммерческий департамент хочет понять, какой тариф приносит больше денег.\n",
    "Необходимо сделать предварительный анализ тарифов на небольшой выборке клиентов (500 пользователей): кто они, откуда, каким тарифом пользуются, сколько звонков и сообщений каждый отправил за 2018 год. Нужно проанализировать поведение клиентов и сделать вывод — какой тариф лучше.\n",
    "\n",
    "Описание тарифов\n",
    "**Тариф «Смарт»**\n",
    "1.\tЕжемесячная плата: 550 рублей\n",
    "2.\tВключено 500 минут разговора, 50 сообщений и 15 Гб интернет-трафика\n",
    "3.\tСтоимость услуг сверх тарифного пакета:\n",
    "    •\tминута разговора: 3 рубля\n",
    "    •\tсообщение: 3 рубля\n",
    "    •\t1 Гб интернет-трафика: 200 рублей\n",
    "**Тариф «Ультра»**\n",
    "1.\tЕжемесячная плата: 1950 рублей\n",
    "2.\tВключено 3000 минут разговора, 1000 сообщений и 30 Гб интернет-трафика\n",
    "3.\tСтоимость услуг сверх тарифного пакета:\n",
    "    •\tминута разговора: 1 рубль\n",
    "    •\tсообщение: 1 рубль\n",
    "    •\t1 Гб интернет-трафика: 150 рублей\n",
    "Минуты и Мб всегда округляются."
   ]
  },
  {
   "cell_type": "markdown",
   "metadata": {},
   "source": [
    "**Описание данных**\n",
    "Таблица users (информация о пользователях):  \n",
    "•\t`user_id` — уникальный идентификатор пользователя  \n",
    "•\t`first_name` — имя пользователя  \n",
    "•\t`last_name` — фамилия пользователя  \n",
    "•\t`age` — возраст пользователя (годы)  \n",
    "•\t`reg_date` — дата подключения тарифа (день, месяц, год)  \n",
    "•\t`churn_date` — дата прекращения пользования тарифом (если значение пропущено, то тариф ещё действовал на момент выгрузки данных)  \n",
    "•\t`city` — город проживания пользователя  \n",
    "•\t`tariff` — название тарифного плана  \n",
    "Таблица calls (информация о звонках):  \n",
    "•\t`id` — уникальный номер звонка  \n",
    "•\t`call_date` — дата звонка  \n",
    "•\t`duration` — длительность звонка в минутах  \n",
    "•\t`user_id` — идентификатор пользователя, сделавшего звонок  \n",
    "Таблица messages (информация о сообщениях):  \n",
    "•\t`id` — уникальный номер сообщения  \n",
    "•\t`message_date` — дата сообщения  \n",
    "•\t`user_id` — идентификатор пользователя, отправившего сообщение  \n",
    "Таблица internet (информация об интернет-сессиях):  \n",
    "•\t`id` — уникальный номер сессии  \n",
    "•\t`mb_used` — объём потраченного за сессию интернет-трафика (в мегабайтах)  \n",
    "•\t`session_date` — дата интернет-сессии  \n",
    "•\t`user_id` — идентификатор пользователя  \n",
    "Таблица tariffs (информация о тарифах):  \n",
    "•\t`tariff_name` — название тарифа  \n",
    "•\t`rub_monthly_fee` — ежемесячная абонентская плата в рублях  \n",
    "•\t`minutes_included` — количество минут разговора в месяц, включённых в абонентскую плату  \n",
    "•\t`messages_included` — количество сообщений в месяц, включённых в абонентскую плату  \n",
    "•\t`mb_per_month_included` — объём интернет-трафика, включённого в абонентскую плату (в мегабайтах)  \n",
    "•\t`rub_per_minute` — стоимость минуты разговора сверх тарифного пакета (например, если в тарифе 100 минут разговора в месяц, то со 101 минуты будет взиматься плата)  \n",
    "•\t`rub_per_message` — стоимость отправки сообщения сверх тарифного пакета  \n",
    "•\t`rub_per_gb` — стоимость дополнительного гигабайта интернет-трафика сверх тарифного пакета (1 гигабайт = 1024 мегабайта)  "
   ]
  },
  {
   "cell_type": "code",
   "execution_count": 1,
   "metadata": {},
   "outputs": [],
   "source": [
    "import pandas as pd\n",
    "import matplotlib.pyplot as plt\n",
    "import numpy as np\n",
    "import math as mt\n",
    "from matplotlib import pyplot as plt\n",
    "from math import factorial\n",
    "from scipy import stats as st"
   ]
  },
  {
   "cell_type": "code",
   "execution_count": 2,
   "metadata": {},
   "outputs": [],
   "source": [
    "# включу вывод всего из ячейки\n",
    "from IPython.core.interactiveshell import InteractiveShell\n",
    "InteractiveShell.ast_node_interactivity = \"all\""
   ]
  },
  {
   "cell_type": "markdown",
   "metadata": {},
   "source": [
    "## Открою файл с данными и изучю общую информацию"
   ]
  },
  {
   "cell_type": "code",
   "execution_count": 3,
   "metadata": {},
   "outputs": [],
   "source": [
    "df_calls = pd.read_csv('/datasets/calls.csv')"
   ]
  },
  {
   "cell_type": "code",
   "execution_count": 4,
   "metadata": {},
   "outputs": [],
   "source": [
    "df_internet = pd.read_csv('/datasets/internet.csv')"
   ]
  },
  {
   "cell_type": "code",
   "execution_count": 5,
   "metadata": {},
   "outputs": [],
   "source": [
    "df_messages = pd.read_csv('/datasets/messages.csv')"
   ]
  },
  {
   "cell_type": "code",
   "execution_count": 6,
   "metadata": {},
   "outputs": [],
   "source": [
    "df_tariffs = pd.read_csv('/datasets/tariffs.csv')"
   ]
  },
  {
   "cell_type": "code",
   "execution_count": 7,
   "metadata": {},
   "outputs": [],
   "source": [
    "df_users = pd.read_csv('/datasets/users.csv')"
   ]
  },
  {
   "cell_type": "code",
   "execution_count": 8,
   "metadata": {},
   "outputs": [],
   "source": [
    "all_df = [('df_calls', df_calls), ('df_internet', df_internet), ('df_messages', df_messages), ('df_tariffs', df_tariffs), ('df_users', df_users)]"
   ]
  },
  {
   "cell_type": "code",
   "execution_count": 10,
   "metadata": {
    "scrolled": true
   },
   "outputs": [
    {
     "name": "stdout",
     "output_type": "stream",
     "text": [
      "\u001b[1mДатафрейм: df_calls\u001b[0m\n",
      "Общая инфо:\n",
      "<class 'pandas.core.frame.DataFrame'>\n",
      "RangeIndex: 202607 entries, 0 to 202606\n",
      "Data columns (total 4 columns):\n",
      "id           202607 non-null object\n",
      "call_date    202607 non-null object\n",
      "duration     202607 non-null float64\n",
      "user_id      202607 non-null int64\n",
      "dtypes: float64(1), int64(1), object(2)\n",
      "memory usage: 6.2+ MB\n",
      "Шапка:\n"
     ]
    },
    {
     "data": {
      "text/html": [
       "<div>\n",
       "<style scoped>\n",
       "    .dataframe tbody tr th:only-of-type {\n",
       "        vertical-align: middle;\n",
       "    }\n",
       "\n",
       "    .dataframe tbody tr th {\n",
       "        vertical-align: top;\n",
       "    }\n",
       "\n",
       "    .dataframe thead th {\n",
       "        text-align: right;\n",
       "    }\n",
       "</style>\n",
       "<table border=\"1\" class=\"dataframe\">\n",
       "  <thead>\n",
       "    <tr style=\"text-align: right;\">\n",
       "      <th></th>\n",
       "      <th>id</th>\n",
       "      <th>call_date</th>\n",
       "      <th>duration</th>\n",
       "      <th>user_id</th>\n",
       "    </tr>\n",
       "  </thead>\n",
       "  <tbody>\n",
       "    <tr>\n",
       "      <td>0</td>\n",
       "      <td>1000_0</td>\n",
       "      <td>2018-07-25</td>\n",
       "      <td>0.00</td>\n",
       "      <td>1000</td>\n",
       "    </tr>\n",
       "    <tr>\n",
       "      <td>1</td>\n",
       "      <td>1000_1</td>\n",
       "      <td>2018-08-17</td>\n",
       "      <td>0.00</td>\n",
       "      <td>1000</td>\n",
       "    </tr>\n",
       "    <tr>\n",
       "      <td>2</td>\n",
       "      <td>1000_2</td>\n",
       "      <td>2018-06-11</td>\n",
       "      <td>2.85</td>\n",
       "      <td>1000</td>\n",
       "    </tr>\n",
       "    <tr>\n",
       "      <td>3</td>\n",
       "      <td>1000_3</td>\n",
       "      <td>2018-09-21</td>\n",
       "      <td>13.80</td>\n",
       "      <td>1000</td>\n",
       "    </tr>\n",
       "    <tr>\n",
       "      <td>4</td>\n",
       "      <td>1000_4</td>\n",
       "      <td>2018-12-15</td>\n",
       "      <td>5.18</td>\n",
       "      <td>1000</td>\n",
       "    </tr>\n",
       "  </tbody>\n",
       "</table>\n",
       "</div>"
      ],
      "text/plain": [
       "       id   call_date  duration  user_id\n",
       "0  1000_0  2018-07-25      0.00     1000\n",
       "1  1000_1  2018-08-17      0.00     1000\n",
       "2  1000_2  2018-06-11      2.85     1000\n",
       "3  1000_3  2018-09-21     13.80     1000\n",
       "4  1000_4  2018-12-15      5.18     1000"
      ]
     },
     "execution_count": 10,
     "metadata": {},
     "output_type": "execute_result"
    },
    {
     "name": "stdout",
     "output_type": "stream",
     "text": [
      "Размеры датафрейма:\n"
     ]
    },
    {
     "data": {
      "text/plain": [
       "(202607, 4)"
      ]
     },
     "execution_count": 10,
     "metadata": {},
     "output_type": "execute_result"
    },
    {
     "name": "stdout",
     "output_type": "stream",
     "text": [
      "Пропущенные значения:\n"
     ]
    },
    {
     "data": {
      "text/plain": [
       "id           0\n",
       "call_date    0\n",
       "duration     0\n",
       "user_id      0\n",
       "dtype: int64"
      ]
     },
     "execution_count": 10,
     "metadata": {},
     "output_type": "execute_result"
    },
    {
     "name": "stdout",
     "output_type": "stream",
     "text": [
      "\n",
      "\u001b[1mДатафрейм: df_internet\u001b[0m\n",
      "Общая инфо:\n",
      "<class 'pandas.core.frame.DataFrame'>\n",
      "RangeIndex: 149396 entries, 0 to 149395\n",
      "Data columns (total 5 columns):\n",
      "Unnamed: 0      149396 non-null int64\n",
      "id              149396 non-null object\n",
      "mb_used         149396 non-null float64\n",
      "session_date    149396 non-null object\n",
      "user_id         149396 non-null int64\n",
      "dtypes: float64(1), int64(2), object(2)\n",
      "memory usage: 5.7+ MB\n",
      "Шапка:\n"
     ]
    },
    {
     "data": {
      "text/html": [
       "<div>\n",
       "<style scoped>\n",
       "    .dataframe tbody tr th:only-of-type {\n",
       "        vertical-align: middle;\n",
       "    }\n",
       "\n",
       "    .dataframe tbody tr th {\n",
       "        vertical-align: top;\n",
       "    }\n",
       "\n",
       "    .dataframe thead th {\n",
       "        text-align: right;\n",
       "    }\n",
       "</style>\n",
       "<table border=\"1\" class=\"dataframe\">\n",
       "  <thead>\n",
       "    <tr style=\"text-align: right;\">\n",
       "      <th></th>\n",
       "      <th>Unnamed: 0</th>\n",
       "      <th>id</th>\n",
       "      <th>mb_used</th>\n",
       "      <th>session_date</th>\n",
       "      <th>user_id</th>\n",
       "    </tr>\n",
       "  </thead>\n",
       "  <tbody>\n",
       "    <tr>\n",
       "      <td>0</td>\n",
       "      <td>0</td>\n",
       "      <td>1000_0</td>\n",
       "      <td>112.95</td>\n",
       "      <td>2018-11-25</td>\n",
       "      <td>1000</td>\n",
       "    </tr>\n",
       "    <tr>\n",
       "      <td>1</td>\n",
       "      <td>1</td>\n",
       "      <td>1000_1</td>\n",
       "      <td>1052.81</td>\n",
       "      <td>2018-09-07</td>\n",
       "      <td>1000</td>\n",
       "    </tr>\n",
       "    <tr>\n",
       "      <td>2</td>\n",
       "      <td>2</td>\n",
       "      <td>1000_2</td>\n",
       "      <td>1197.26</td>\n",
       "      <td>2018-06-25</td>\n",
       "      <td>1000</td>\n",
       "    </tr>\n",
       "    <tr>\n",
       "      <td>3</td>\n",
       "      <td>3</td>\n",
       "      <td>1000_3</td>\n",
       "      <td>550.27</td>\n",
       "      <td>2018-08-22</td>\n",
       "      <td>1000</td>\n",
       "    </tr>\n",
       "    <tr>\n",
       "      <td>4</td>\n",
       "      <td>4</td>\n",
       "      <td>1000_4</td>\n",
       "      <td>302.56</td>\n",
       "      <td>2018-09-24</td>\n",
       "      <td>1000</td>\n",
       "    </tr>\n",
       "  </tbody>\n",
       "</table>\n",
       "</div>"
      ],
      "text/plain": [
       "   Unnamed: 0      id  mb_used session_date  user_id\n",
       "0           0  1000_0   112.95   2018-11-25     1000\n",
       "1           1  1000_1  1052.81   2018-09-07     1000\n",
       "2           2  1000_2  1197.26   2018-06-25     1000\n",
       "3           3  1000_3   550.27   2018-08-22     1000\n",
       "4           4  1000_4   302.56   2018-09-24     1000"
      ]
     },
     "execution_count": 10,
     "metadata": {},
     "output_type": "execute_result"
    },
    {
     "name": "stdout",
     "output_type": "stream",
     "text": [
      "Размеры датафрейма:\n"
     ]
    },
    {
     "data": {
      "text/plain": [
       "(149396, 5)"
      ]
     },
     "execution_count": 10,
     "metadata": {},
     "output_type": "execute_result"
    },
    {
     "name": "stdout",
     "output_type": "stream",
     "text": [
      "Пропущенные значения:\n"
     ]
    },
    {
     "data": {
      "text/plain": [
       "Unnamed: 0      0\n",
       "id              0\n",
       "mb_used         0\n",
       "session_date    0\n",
       "user_id         0\n",
       "dtype: int64"
      ]
     },
     "execution_count": 10,
     "metadata": {},
     "output_type": "execute_result"
    },
    {
     "name": "stdout",
     "output_type": "stream",
     "text": [
      "\n",
      "\u001b[1mДатафрейм: df_messages\u001b[0m\n",
      "Общая инфо:\n",
      "<class 'pandas.core.frame.DataFrame'>\n",
      "RangeIndex: 123036 entries, 0 to 123035\n",
      "Data columns (total 3 columns):\n",
      "id              123036 non-null object\n",
      "message_date    123036 non-null object\n",
      "user_id         123036 non-null int64\n",
      "dtypes: int64(1), object(2)\n",
      "memory usage: 2.8+ MB\n",
      "Шапка:\n"
     ]
    },
    {
     "data": {
      "text/html": [
       "<div>\n",
       "<style scoped>\n",
       "    .dataframe tbody tr th:only-of-type {\n",
       "        vertical-align: middle;\n",
       "    }\n",
       "\n",
       "    .dataframe tbody tr th {\n",
       "        vertical-align: top;\n",
       "    }\n",
       "\n",
       "    .dataframe thead th {\n",
       "        text-align: right;\n",
       "    }\n",
       "</style>\n",
       "<table border=\"1\" class=\"dataframe\">\n",
       "  <thead>\n",
       "    <tr style=\"text-align: right;\">\n",
       "      <th></th>\n",
       "      <th>id</th>\n",
       "      <th>message_date</th>\n",
       "      <th>user_id</th>\n",
       "    </tr>\n",
       "  </thead>\n",
       "  <tbody>\n",
       "    <tr>\n",
       "      <td>0</td>\n",
       "      <td>1000_0</td>\n",
       "      <td>2018-06-27</td>\n",
       "      <td>1000</td>\n",
       "    </tr>\n",
       "    <tr>\n",
       "      <td>1</td>\n",
       "      <td>1000_1</td>\n",
       "      <td>2018-10-08</td>\n",
       "      <td>1000</td>\n",
       "    </tr>\n",
       "    <tr>\n",
       "      <td>2</td>\n",
       "      <td>1000_2</td>\n",
       "      <td>2018-08-04</td>\n",
       "      <td>1000</td>\n",
       "    </tr>\n",
       "    <tr>\n",
       "      <td>3</td>\n",
       "      <td>1000_3</td>\n",
       "      <td>2018-06-16</td>\n",
       "      <td>1000</td>\n",
       "    </tr>\n",
       "    <tr>\n",
       "      <td>4</td>\n",
       "      <td>1000_4</td>\n",
       "      <td>2018-12-05</td>\n",
       "      <td>1000</td>\n",
       "    </tr>\n",
       "  </tbody>\n",
       "</table>\n",
       "</div>"
      ],
      "text/plain": [
       "       id message_date  user_id\n",
       "0  1000_0   2018-06-27     1000\n",
       "1  1000_1   2018-10-08     1000\n",
       "2  1000_2   2018-08-04     1000\n",
       "3  1000_3   2018-06-16     1000\n",
       "4  1000_4   2018-12-05     1000"
      ]
     },
     "execution_count": 10,
     "metadata": {},
     "output_type": "execute_result"
    },
    {
     "name": "stdout",
     "output_type": "stream",
     "text": [
      "Размеры датафрейма:\n"
     ]
    },
    {
     "data": {
      "text/plain": [
       "(123036, 3)"
      ]
     },
     "execution_count": 10,
     "metadata": {},
     "output_type": "execute_result"
    },
    {
     "name": "stdout",
     "output_type": "stream",
     "text": [
      "Пропущенные значения:\n"
     ]
    },
    {
     "data": {
      "text/plain": [
       "id              0\n",
       "message_date    0\n",
       "user_id         0\n",
       "dtype: int64"
      ]
     },
     "execution_count": 10,
     "metadata": {},
     "output_type": "execute_result"
    },
    {
     "name": "stdout",
     "output_type": "stream",
     "text": [
      "\n",
      "\u001b[1mДатафрейм: df_tariffs\u001b[0m\n",
      "Общая инфо:\n",
      "<class 'pandas.core.frame.DataFrame'>\n",
      "RangeIndex: 2 entries, 0 to 1\n",
      "Data columns (total 8 columns):\n",
      "messages_included        2 non-null int64\n",
      "mb_per_month_included    2 non-null int64\n",
      "minutes_included         2 non-null int64\n",
      "rub_monthly_fee          2 non-null int64\n",
      "rub_per_gb               2 non-null int64\n",
      "rub_per_message          2 non-null int64\n",
      "rub_per_minute           2 non-null int64\n",
      "tariff_name              2 non-null object\n",
      "dtypes: int64(7), object(1)\n",
      "memory usage: 256.0+ bytes\n",
      "Шапка:\n"
     ]
    },
    {
     "data": {
      "text/html": [
       "<div>\n",
       "<style scoped>\n",
       "    .dataframe tbody tr th:only-of-type {\n",
       "        vertical-align: middle;\n",
       "    }\n",
       "\n",
       "    .dataframe tbody tr th {\n",
       "        vertical-align: top;\n",
       "    }\n",
       "\n",
       "    .dataframe thead th {\n",
       "        text-align: right;\n",
       "    }\n",
       "</style>\n",
       "<table border=\"1\" class=\"dataframe\">\n",
       "  <thead>\n",
       "    <tr style=\"text-align: right;\">\n",
       "      <th></th>\n",
       "      <th>messages_included</th>\n",
       "      <th>mb_per_month_included</th>\n",
       "      <th>minutes_included</th>\n",
       "      <th>rub_monthly_fee</th>\n",
       "      <th>rub_per_gb</th>\n",
       "      <th>rub_per_message</th>\n",
       "      <th>rub_per_minute</th>\n",
       "      <th>tariff_name</th>\n",
       "    </tr>\n",
       "  </thead>\n",
       "  <tbody>\n",
       "    <tr>\n",
       "      <td>0</td>\n",
       "      <td>50</td>\n",
       "      <td>15360</td>\n",
       "      <td>500</td>\n",
       "      <td>550</td>\n",
       "      <td>200</td>\n",
       "      <td>3</td>\n",
       "      <td>3</td>\n",
       "      <td>smart</td>\n",
       "    </tr>\n",
       "    <tr>\n",
       "      <td>1</td>\n",
       "      <td>1000</td>\n",
       "      <td>30720</td>\n",
       "      <td>3000</td>\n",
       "      <td>1950</td>\n",
       "      <td>150</td>\n",
       "      <td>1</td>\n",
       "      <td>1</td>\n",
       "      <td>ultra</td>\n",
       "    </tr>\n",
       "  </tbody>\n",
       "</table>\n",
       "</div>"
      ],
      "text/plain": [
       "   messages_included  mb_per_month_included  minutes_included  \\\n",
       "0                 50                  15360               500   \n",
       "1               1000                  30720              3000   \n",
       "\n",
       "   rub_monthly_fee  rub_per_gb  rub_per_message  rub_per_minute tariff_name  \n",
       "0              550         200                3               3       smart  \n",
       "1             1950         150                1               1       ultra  "
      ]
     },
     "execution_count": 10,
     "metadata": {},
     "output_type": "execute_result"
    },
    {
     "name": "stdout",
     "output_type": "stream",
     "text": [
      "Размеры датафрейма:\n"
     ]
    },
    {
     "data": {
      "text/plain": [
       "(2, 8)"
      ]
     },
     "execution_count": 10,
     "metadata": {},
     "output_type": "execute_result"
    },
    {
     "name": "stdout",
     "output_type": "stream",
     "text": [
      "Пропущенные значения:\n"
     ]
    },
    {
     "data": {
      "text/plain": [
       "messages_included        0\n",
       "mb_per_month_included    0\n",
       "minutes_included         0\n",
       "rub_monthly_fee          0\n",
       "rub_per_gb               0\n",
       "rub_per_message          0\n",
       "rub_per_minute           0\n",
       "tariff_name              0\n",
       "dtype: int64"
      ]
     },
     "execution_count": 10,
     "metadata": {},
     "output_type": "execute_result"
    },
    {
     "name": "stdout",
     "output_type": "stream",
     "text": [
      "\n",
      "\u001b[1mДатафрейм: df_users\u001b[0m\n",
      "Общая инфо:\n",
      "<class 'pandas.core.frame.DataFrame'>\n",
      "RangeIndex: 500 entries, 0 to 499\n",
      "Data columns (total 8 columns):\n",
      "user_id       500 non-null int64\n",
      "age           500 non-null int64\n",
      "churn_date    38 non-null object\n",
      "city          500 non-null object\n",
      "first_name    500 non-null object\n",
      "last_name     500 non-null object\n",
      "reg_date      500 non-null object\n",
      "tariff        500 non-null object\n",
      "dtypes: int64(2), object(6)\n",
      "memory usage: 31.4+ KB\n",
      "Шапка:\n"
     ]
    },
    {
     "data": {
      "text/html": [
       "<div>\n",
       "<style scoped>\n",
       "    .dataframe tbody tr th:only-of-type {\n",
       "        vertical-align: middle;\n",
       "    }\n",
       "\n",
       "    .dataframe tbody tr th {\n",
       "        vertical-align: top;\n",
       "    }\n",
       "\n",
       "    .dataframe thead th {\n",
       "        text-align: right;\n",
       "    }\n",
       "</style>\n",
       "<table border=\"1\" class=\"dataframe\">\n",
       "  <thead>\n",
       "    <tr style=\"text-align: right;\">\n",
       "      <th></th>\n",
       "      <th>user_id</th>\n",
       "      <th>age</th>\n",
       "      <th>churn_date</th>\n",
       "      <th>city</th>\n",
       "      <th>first_name</th>\n",
       "      <th>last_name</th>\n",
       "      <th>reg_date</th>\n",
       "      <th>tariff</th>\n",
       "    </tr>\n",
       "  </thead>\n",
       "  <tbody>\n",
       "    <tr>\n",
       "      <td>0</td>\n",
       "      <td>1000</td>\n",
       "      <td>52</td>\n",
       "      <td>NaN</td>\n",
       "      <td>Краснодар</td>\n",
       "      <td>Рафаил</td>\n",
       "      <td>Верещагин</td>\n",
       "      <td>2018-05-25</td>\n",
       "      <td>ultra</td>\n",
       "    </tr>\n",
       "    <tr>\n",
       "      <td>1</td>\n",
       "      <td>1001</td>\n",
       "      <td>41</td>\n",
       "      <td>NaN</td>\n",
       "      <td>Москва</td>\n",
       "      <td>Иван</td>\n",
       "      <td>Ежов</td>\n",
       "      <td>2018-11-01</td>\n",
       "      <td>smart</td>\n",
       "    </tr>\n",
       "    <tr>\n",
       "      <td>2</td>\n",
       "      <td>1002</td>\n",
       "      <td>59</td>\n",
       "      <td>NaN</td>\n",
       "      <td>Стерлитамак</td>\n",
       "      <td>Евгений</td>\n",
       "      <td>Абрамович</td>\n",
       "      <td>2018-06-17</td>\n",
       "      <td>smart</td>\n",
       "    </tr>\n",
       "    <tr>\n",
       "      <td>3</td>\n",
       "      <td>1003</td>\n",
       "      <td>23</td>\n",
       "      <td>NaN</td>\n",
       "      <td>Москва</td>\n",
       "      <td>Белла</td>\n",
       "      <td>Белякова</td>\n",
       "      <td>2018-08-17</td>\n",
       "      <td>ultra</td>\n",
       "    </tr>\n",
       "    <tr>\n",
       "      <td>4</td>\n",
       "      <td>1004</td>\n",
       "      <td>68</td>\n",
       "      <td>NaN</td>\n",
       "      <td>Новокузнецк</td>\n",
       "      <td>Татьяна</td>\n",
       "      <td>Авдеенко</td>\n",
       "      <td>2018-05-14</td>\n",
       "      <td>ultra</td>\n",
       "    </tr>\n",
       "  </tbody>\n",
       "</table>\n",
       "</div>"
      ],
      "text/plain": [
       "   user_id  age churn_date         city first_name  last_name    reg_date  \\\n",
       "0     1000   52        NaN    Краснодар     Рафаил  Верещагин  2018-05-25   \n",
       "1     1001   41        NaN       Москва       Иван       Ежов  2018-11-01   \n",
       "2     1002   59        NaN  Стерлитамак    Евгений  Абрамович  2018-06-17   \n",
       "3     1003   23        NaN       Москва      Белла   Белякова  2018-08-17   \n",
       "4     1004   68        NaN  Новокузнецк    Татьяна   Авдеенко  2018-05-14   \n",
       "\n",
       "  tariff  \n",
       "0  ultra  \n",
       "1  smart  \n",
       "2  smart  \n",
       "3  ultra  \n",
       "4  ultra  "
      ]
     },
     "execution_count": 10,
     "metadata": {},
     "output_type": "execute_result"
    },
    {
     "name": "stdout",
     "output_type": "stream",
     "text": [
      "Размеры датафрейма:\n"
     ]
    },
    {
     "data": {
      "text/plain": [
       "(500, 8)"
      ]
     },
     "execution_count": 10,
     "metadata": {},
     "output_type": "execute_result"
    },
    {
     "name": "stdout",
     "output_type": "stream",
     "text": [
      "Пропущенные значения:\n"
     ]
    },
    {
     "data": {
      "text/plain": [
       "user_id         0\n",
       "age             0\n",
       "churn_date    462\n",
       "city            0\n",
       "first_name      0\n",
       "last_name       0\n",
       "reg_date        0\n",
       "tariff          0\n",
       "dtype: int64"
      ]
     },
     "execution_count": 10,
     "metadata": {},
     "output_type": "execute_result"
    },
    {
     "name": "stdout",
     "output_type": "stream",
     "text": [
      "\n"
     ]
    }
   ],
   "source": [
    "# выведу данные о всех датафреймах\n",
    "for i in all_df:\n",
    "    print ('\\033[1m' + 'Датафрейм: ' + i[0] + '\\033[0m')\n",
    "    print('Общая инфо:')\n",
    "    i[1].info()\n",
    "    print('Шапка:')\n",
    "    i[1].head(5)\n",
    "    print('Размеры датафрейма:')\n",
    "    i[1].shape\n",
    "    print('Пропущенные значения:')\n",
    "    i[1].isna().sum()\n",
    "    print('')"
   ]
  },
  {
   "cell_type": "markdown",
   "metadata": {},
   "source": [
    "Данные выглядят чистыми, есть пропуски в дате прекращения пользования тарифом, но это нормально, т.к. большинство ещё использует тариф."
   ]
  },
  {
   "cell_type": "markdown",
   "metadata": {},
   "source": [
    "## Подготовлю данные"
   ]
  },
  {
   "cell_type": "markdown",
   "metadata": {},
   "source": [
    "### Исправлю типых данных"
   ]
  },
  {
   "cell_type": "code",
   "execution_count": 11,
   "metadata": {},
   "outputs": [
    {
     "data": {
      "text/html": [
       "<div>\n",
       "<style scoped>\n",
       "    .dataframe tbody tr th:only-of-type {\n",
       "        vertical-align: middle;\n",
       "    }\n",
       "\n",
       "    .dataframe tbody tr th {\n",
       "        vertical-align: top;\n",
       "    }\n",
       "\n",
       "    .dataframe thead th {\n",
       "        text-align: right;\n",
       "    }\n",
       "</style>\n",
       "<table border=\"1\" class=\"dataframe\">\n",
       "  <thead>\n",
       "    <tr style=\"text-align: right;\">\n",
       "      <th></th>\n",
       "      <th>id</th>\n",
       "      <th>call_date</th>\n",
       "      <th>duration</th>\n",
       "      <th>user_id</th>\n",
       "    </tr>\n",
       "  </thead>\n",
       "  <tbody>\n",
       "    <tr>\n",
       "      <td>0</td>\n",
       "      <td>1000_0</td>\n",
       "      <td>2018-07-25</td>\n",
       "      <td>0.0</td>\n",
       "      <td>1000</td>\n",
       "    </tr>\n",
       "    <tr>\n",
       "      <td>1</td>\n",
       "      <td>1000_1</td>\n",
       "      <td>2018-08-17</td>\n",
       "      <td>0.0</td>\n",
       "      <td>1000</td>\n",
       "    </tr>\n",
       "  </tbody>\n",
       "</table>\n",
       "</div>"
      ],
      "text/plain": [
       "       id  call_date  duration  user_id\n",
       "0  1000_0 2018-07-25       0.0     1000\n",
       "1  1000_1 2018-08-17       0.0     1000"
      ]
     },
     "execution_count": 11,
     "metadata": {},
     "output_type": "execute_result"
    },
    {
     "name": "stdout",
     "output_type": "stream",
     "text": [
      "<class 'pandas.core.frame.DataFrame'>\n",
      "RangeIndex: 202607 entries, 0 to 202606\n",
      "Data columns (total 4 columns):\n",
      "id           202607 non-null object\n",
      "call_date    202607 non-null datetime64[ns]\n",
      "duration     202607 non-null float64\n",
      "user_id      202607 non-null int64\n",
      "dtypes: datetime64[ns](1), float64(1), int64(1), object(1)\n",
      "memory usage: 6.2+ MB\n"
     ]
    }
   ],
   "source": [
    "# займусь df_calls со звонками\n",
    "df_calls['call_date'] = pd.to_datetime(df_calls['call_date'], format='%Y-%m-%d') # переведу строку в datetime\n",
    "df_calls.head(2)\n",
    "df_calls.info()"
   ]
  },
  {
   "cell_type": "code",
   "execution_count": 12,
   "metadata": {},
   "outputs": [
    {
     "name": "stdout",
     "output_type": "stream",
     "text": [
      "<class 'pandas.core.frame.DataFrame'>\n",
      "RangeIndex: 149396 entries, 0 to 149395\n",
      "Data columns (total 4 columns):\n",
      "id              149396 non-null object\n",
      "mb_used         149396 non-null float64\n",
      "session_date    149396 non-null object\n",
      "user_id         149396 non-null int64\n",
      "dtypes: float64(1), int64(1), object(2)\n",
      "memory usage: 4.6+ MB\n"
     ]
    }
   ],
   "source": [
    "# займусь df_internet с интернетом\n",
    "df_internet.drop('Unnamed: 0', axis=1, inplace=True) # удалю лишний стобец\n",
    "df_internet.info()\n",
    "\n",
    "df_internet['call_date'] = pd.to_datetime(df_internet['session_date'], format='%Y-%m-%d') # переведу строку в datetime"
   ]
  },
  {
   "cell_type": "code",
   "execution_count": 13,
   "metadata": {
    "scrolled": false
   },
   "outputs": [
    {
     "name": "stdout",
     "output_type": "stream",
     "text": [
      "<class 'pandas.core.frame.DataFrame'>\n",
      "RangeIndex: 123036 entries, 0 to 123035\n",
      "Data columns (total 3 columns):\n",
      "id              123036 non-null object\n",
      "message_date    123036 non-null datetime64[ns]\n",
      "user_id         123036 non-null int64\n",
      "dtypes: datetime64[ns](1), int64(1), object(1)\n",
      "memory usage: 2.8+ MB\n"
     ]
    }
   ],
   "source": [
    "# займусь df_messages с сообщениями\n",
    "df_messages['message_date'] = pd.to_datetime(df_messages['message_date'], format='%Y-%m-%d') # переведу строку в datetime\n",
    "df_messages.info()"
   ]
  },
  {
   "cell_type": "markdown",
   "metadata": {},
   "source": [
    "### Исправлю ошибки в данных"
   ]
  },
  {
   "cell_type": "code",
   "execution_count": 14,
   "metadata": {},
   "outputs": [],
   "source": [
    "all_df = [('df_calls', df_calls), ('df_internet', df_internet), ('df_messages', df_messages), ('df_tariffs', df_tariffs), ('df_users', df_users)]"
   ]
  },
  {
   "cell_type": "code",
   "execution_count": 15,
   "metadata": {
    "scrolled": true
   },
   "outputs": [
    {
     "name": "stdout",
     "output_type": "stream",
     "text": [
      "Датафрейм: df_calls\n",
      "isna:\n"
     ]
    },
    {
     "data": {
      "text/plain": [
       "id           0\n",
       "call_date    0\n",
       "duration     0\n",
       "user_id      0\n",
       "dtype: int64"
      ]
     },
     "execution_count": 15,
     "metadata": {},
     "output_type": "execute_result"
    },
    {
     "name": "stdout",
     "output_type": "stream",
     "text": [
      "\n",
      "Датафрейм: df_internet\n",
      "isna:\n"
     ]
    },
    {
     "data": {
      "text/plain": [
       "id              0\n",
       "mb_used         0\n",
       "session_date    0\n",
       "user_id         0\n",
       "call_date       0\n",
       "dtype: int64"
      ]
     },
     "execution_count": 15,
     "metadata": {},
     "output_type": "execute_result"
    },
    {
     "name": "stdout",
     "output_type": "stream",
     "text": [
      "\n",
      "Датафрейм: df_messages\n",
      "isna:\n"
     ]
    },
    {
     "data": {
      "text/plain": [
       "id              0\n",
       "message_date    0\n",
       "user_id         0\n",
       "dtype: int64"
      ]
     },
     "execution_count": 15,
     "metadata": {},
     "output_type": "execute_result"
    },
    {
     "name": "stdout",
     "output_type": "stream",
     "text": [
      "\n",
      "Датафрейм: df_tariffs\n",
      "isna:\n"
     ]
    },
    {
     "data": {
      "text/plain": [
       "messages_included        0\n",
       "mb_per_month_included    0\n",
       "minutes_included         0\n",
       "rub_monthly_fee          0\n",
       "rub_per_gb               0\n",
       "rub_per_message          0\n",
       "rub_per_minute           0\n",
       "tariff_name              0\n",
       "dtype: int64"
      ]
     },
     "execution_count": 15,
     "metadata": {},
     "output_type": "execute_result"
    },
    {
     "name": "stdout",
     "output_type": "stream",
     "text": [
      "\n",
      "Датафрейм: df_users\n",
      "isna:\n"
     ]
    },
    {
     "data": {
      "text/plain": [
       "user_id         0\n",
       "age             0\n",
       "churn_date    462\n",
       "city            0\n",
       "first_name      0\n",
       "last_name       0\n",
       "reg_date        0\n",
       "tariff          0\n",
       "dtype: int64"
      ]
     },
     "execution_count": 15,
     "metadata": {},
     "output_type": "execute_result"
    },
    {
     "name": "stdout",
     "output_type": "stream",
     "text": [
      "\n"
     ]
    }
   ],
   "source": [
    "# проверю на пропущенные данные\n",
    "for i in all_df:\n",
    "    print('Датафрейм:', i[0])\n",
    "    print('isna:')\n",
    "    i[1].isna().sum()\n",
    "    print('')"
   ]
  },
  {
   "cell_type": "markdown",
   "metadata": {},
   "source": [
    "Пропущенных значений нет, кроме даты прекращения пользования тарифом, но это нормально, т.к. пользователи продолжают им пользоваться."
   ]
  },
  {
   "cell_type": "code",
   "execution_count": 16,
   "metadata": {},
   "outputs": [
    {
     "name": "stdout",
     "output_type": "stream",
     "text": [
      "Кол-во звонков с нулевым временем: 39613\n",
      "Доля звонков с нулевым временем: 19.6%\n"
     ]
    }
   ],
   "source": [
    "count_zero_duration = len(df_calls[df_calls['duration'] == 0])\n",
    "print('Кол-во звонков с нулевым временем: {:.0f}'.format(count_zero_duration))\n",
    "print('Доля звонков с нулевым временем: {:.1%}'.format(count_zero_duration / 202607))"
   ]
  },
  {
   "cell_type": "markdown",
   "metadata": {},
   "source": [
    "Звонков с нулевым временем слишком много, чтобы их можно было просто удалить. Пока оставим их."
   ]
  },
  {
   "cell_type": "code",
   "execution_count": 17,
   "metadata": {},
   "outputs": [
    {
     "data": {
      "text/plain": [
       "<matplotlib.axes._subplots.AxesSubplot at 0x7faa1e662710>"
      ]
     },
     "execution_count": 17,
     "metadata": {},
     "output_type": "execute_result"
    },
    {
     "data": {
      "text/plain": [
       "Text(0.5, 1.0, 'Распределение длительности звонков')"
      ]
     },
     "execution_count": 17,
     "metadata": {},
     "output_type": "execute_result"
    },
    {
     "data": {
      "image/png": "[encoded data removed]",
      "text/plain": [
       "<Figure size 432x288 with 1 Axes>"
      ]
     },
     "metadata": {
      "needs_background": "light"
     },
     "output_type": "display_data"
    },
    {
     "data": {
      "text/plain": [
       "<matplotlib.axes._subplots.AxesSubplot at 0x7faaa4996c50>"
      ]
     },
     "execution_count": 17,
     "metadata": {},
     "output_type": "execute_result"
    },
    {
     "data": {
      "text/plain": [
       "Text(0.5, 1.0, 'Распределение использованного трафика')"
      ]
     },
     "execution_count": 17,
     "metadata": {},
     "output_type": "execute_result"
    },
    {
     "data": {
      "image/png": "[encoded data removed]",
      "text/plain": [
       "<Figure size 432x288 with 1 Axes>"
      ]
     },
     "metadata": {
      "needs_background": "light"
     },
     "output_type": "display_data"
    }
   ],
   "source": [
    "# проверю на наличие некорректных значений\n",
    "df_calls['duration'].hist()\n",
    "plt.title('Распределение длительности звонков')\n",
    "plt.show()\n",
    "df_internet['mb_used'].hist()\n",
    "plt.title('Распределение использованного трафика')\n",
    "plt.show()"
   ]
  },
  {
   "cell_type": "markdown",
   "metadata": {},
   "source": [
    "Данные не нуждыются в подготовке, пропуски только в 'churn_date'."
   ]
  },
  {
   "cell_type": "markdown",
   "metadata": {},
   "source": [
    "### Посчитаю данные для каждого пользователя"
   ]
  },
  {
   "cell_type": "markdown",
   "metadata": {},
   "source": [
    "#### Подготовлю данные для подсчётов"
   ]
  },
  {
   "cell_type": "code",
   "execution_count": 18,
   "metadata": {},
   "outputs": [],
   "source": [
    "# добавлю столбец с месяцами\n",
    "df_calls['calls_month'] = pd.DatetimeIndex(df_calls['call_date']).month\n",
    "df_internet['internet_month'] = pd.DatetimeIndex(df_internet['session_date']).month\n",
    "df_messages['message_month'] = pd.DatetimeIndex(df_messages['message_date']).month"
   ]
  },
  {
   "cell_type": "code",
   "execution_count": 19,
   "metadata": {},
   "outputs": [],
   "source": [
    "# округлю минуты до целых в большую сторону\n",
    "df_calls['duration_m'] = df_calls['duration'].apply(mt.ceil)\n",
    "# округлю Мб до целых в большую сторону\n",
    "df_internet['mb_used_hole'] = df_internet['mb_used'].apply(mt.ceil)"
   ]
  },
  {
   "cell_type": "markdown",
   "metadata": {},
   "source": [
    "#### Посчитаю данные"
   ]
  },
  {
   "cell_type": "code",
   "execution_count": 20,
   "metadata": {},
   "outputs": [],
   "source": [
    "# посчитаю кол-во звонков по пользователями и месяцам\n",
    "count_calls_users = df_calls.pivot_table(index=['user_id', 'calls_month'], values='call_date', aggfunc='count')"
   ]
  },
  {
   "cell_type": "code",
   "execution_count": 22,
   "metadata": {},
   "outputs": [],
   "source": [
    "# посчитаю израсходованных минут разговора по пользователями и месяцам\n",
    "duration_calls_users = df_calls.pivot_table(\n",
    "    index=['user_id', 'calls_month'], values='duration_m', aggfunc='sum'\n",
    ").reset_index().set_axis(['user_id', 'month', 'duration_m_sum'], axis='columns', inplace=False)"
   ]
  },
  {
   "cell_type": "code",
   "execution_count": 23,
   "metadata": {},
   "outputs": [],
   "source": [
    "# посчитаю сообщений по пользователями и месяцам\n",
    "messages_users = df_messages.pivot_table(\n",
    "    index=['user_id', 'message_month'], values='id', aggfunc='count'\n",
    "    ).reset_index().set_axis(['user_id', 'month', 'messages'], axis='columns', inplace=False)"
   ]
  },
  {
   "cell_type": "code",
   "execution_count": 24,
   "metadata": {},
   "outputs": [
    {
     "data": {
      "text/html": [
       "<div>\n",
       "<style scoped>\n",
       "    .dataframe tbody tr th:only-of-type {\n",
       "        vertical-align: middle;\n",
       "    }\n",
       "\n",
       "    .dataframe tbody tr th {\n",
       "        vertical-align: top;\n",
       "    }\n",
       "\n",
       "    .dataframe thead th {\n",
       "        text-align: right;\n",
       "    }\n",
       "</style>\n",
       "<table border=\"1\" class=\"dataframe\">\n",
       "  <thead>\n",
       "    <tr style=\"text-align: right;\">\n",
       "      <th></th>\n",
       "      <th>user_id</th>\n",
       "      <th>month</th>\n",
       "      <th>duration_m_sum</th>\n",
       "    </tr>\n",
       "  </thead>\n",
       "  <tbody>\n",
       "    <tr>\n",
       "      <td>0</td>\n",
       "      <td>1000</td>\n",
       "      <td>5</td>\n",
       "      <td>159</td>\n",
       "    </tr>\n",
       "    <tr>\n",
       "      <td>1</td>\n",
       "      <td>1000</td>\n",
       "      <td>6</td>\n",
       "      <td>172</td>\n",
       "    </tr>\n",
       "    <tr>\n",
       "      <td>2</td>\n",
       "      <td>1000</td>\n",
       "      <td>7</td>\n",
       "      <td>340</td>\n",
       "    </tr>\n",
       "    <tr>\n",
       "      <td>3</td>\n",
       "      <td>1000</td>\n",
       "      <td>8</td>\n",
       "      <td>408</td>\n",
       "    </tr>\n",
       "    <tr>\n",
       "      <td>4</td>\n",
       "      <td>1000</td>\n",
       "      <td>9</td>\n",
       "      <td>466</td>\n",
       "    </tr>\n",
       "  </tbody>\n",
       "</table>\n",
       "</div>"
      ],
      "text/plain": [
       "   user_id  month  duration_m_sum\n",
       "0     1000      5             159\n",
       "1     1000      6             172\n",
       "2     1000      7             340\n",
       "3     1000      8             408\n",
       "4     1000      9             466"
      ]
     },
     "execution_count": 24,
     "metadata": {},
     "output_type": "execute_result"
    }
   ],
   "source": [
    "duration_calls_users.head(5)"
   ]
  },
  {
   "cell_type": "code",
   "execution_count": 25,
   "metadata": {},
   "outputs": [],
   "source": [
    "# посчитаю израсходованных Мб по пользователями и месяцам\n",
    "value_traffic_users = df_internet.pivot_table(\n",
    "    index=['user_id', 'internet_month'], values='mb_used_hole', aggfunc='sum'\n",
    ").reset_index().set_axis(['user_id', 'month', 'mb_used_sum'], axis='columns', inplace=False)"
   ]
  },
  {
   "cell_type": "code",
   "execution_count": 26,
   "metadata": {},
   "outputs": [],
   "source": [
    "# создам датафрейм, куда буду складывать агрегированные данные\n",
    "# сперва заполню его данным о кол-ве звонков\n",
    "pivot_data = count_calls_users.reset_index()\n",
    "pivot_data.set_axis(['user_id', 'month', 'calls_count'], axis='columns', inplace=True)"
   ]
  },
  {
   "cell_type": "code",
   "execution_count": 27,
   "metadata": {},
   "outputs": [
    {
     "data": {
      "text/plain": [
       "user_id        0\n",
       "month          0\n",
       "calls_count    0\n",
       "dtype: int64"
      ]
     },
     "execution_count": 27,
     "metadata": {},
     "output_type": "execute_result"
    }
   ],
   "source": [
    "# проверю сводную на пропущенные значения\n",
    "pivot_data.isna().sum()"
   ]
  },
  {
   "cell_type": "code",
   "execution_count": 28,
   "metadata": {
    "scrolled": false
   },
   "outputs": [
    {
     "data": {
      "text/html": [
       "<div>\n",
       "<style scoped>\n",
       "    .dataframe tbody tr th:only-of-type {\n",
       "        vertical-align: middle;\n",
       "    }\n",
       "\n",
       "    .dataframe tbody tr th {\n",
       "        vertical-align: top;\n",
       "    }\n",
       "\n",
       "    .dataframe thead th {\n",
       "        text-align: right;\n",
       "    }\n",
       "</style>\n",
       "<table border=\"1\" class=\"dataframe\">\n",
       "  <thead>\n",
       "    <tr style=\"text-align: right;\">\n",
       "      <th></th>\n",
       "      <th>user_id</th>\n",
       "      <th>month</th>\n",
       "      <th>calls_count</th>\n",
       "    </tr>\n",
       "  </thead>\n",
       "  <tbody>\n",
       "    <tr>\n",
       "      <td>0</td>\n",
       "      <td>1000</td>\n",
       "      <td>5</td>\n",
       "      <td>22</td>\n",
       "    </tr>\n",
       "    <tr>\n",
       "      <td>1</td>\n",
       "      <td>1000</td>\n",
       "      <td>6</td>\n",
       "      <td>43</td>\n",
       "    </tr>\n",
       "    <tr>\n",
       "      <td>2</td>\n",
       "      <td>1000</td>\n",
       "      <td>7</td>\n",
       "      <td>47</td>\n",
       "    </tr>\n",
       "    <tr>\n",
       "      <td>3</td>\n",
       "      <td>1000</td>\n",
       "      <td>8</td>\n",
       "      <td>52</td>\n",
       "    </tr>\n",
       "    <tr>\n",
       "      <td>4</td>\n",
       "      <td>1000</td>\n",
       "      <td>9</td>\n",
       "      <td>58</td>\n",
       "    </tr>\n",
       "  </tbody>\n",
       "</table>\n",
       "</div>"
      ],
      "text/plain": [
       "   user_id  month  calls_count\n",
       "0     1000      5           22\n",
       "1     1000      6           43\n",
       "2     1000      7           47\n",
       "3     1000      8           52\n",
       "4     1000      9           58"
      ]
     },
     "execution_count": 28,
     "metadata": {},
     "output_type": "execute_result"
    }
   ],
   "source": [
    "pivot_data.head(5)"
   ]
  },
  {
   "cell_type": "code",
   "execution_count": 29,
   "metadata": {
    "scrolled": false
   },
   "outputs": [
    {
     "data": {
      "text/html": [
       "<div>\n",
       "<style scoped>\n",
       "    .dataframe tbody tr th:only-of-type {\n",
       "        vertical-align: middle;\n",
       "    }\n",
       "\n",
       "    .dataframe tbody tr th {\n",
       "        vertical-align: top;\n",
       "    }\n",
       "\n",
       "    .dataframe thead th {\n",
       "        text-align: right;\n",
       "    }\n",
       "</style>\n",
       "<table border=\"1\" class=\"dataframe\">\n",
       "  <thead>\n",
       "    <tr style=\"text-align: right;\">\n",
       "      <th></th>\n",
       "      <th>user_id</th>\n",
       "      <th>month</th>\n",
       "      <th>calls_count</th>\n",
       "      <th>duration_m_sum</th>\n",
       "    </tr>\n",
       "  </thead>\n",
       "  <tbody>\n",
       "    <tr>\n",
       "      <td>0</td>\n",
       "      <td>1000</td>\n",
       "      <td>5</td>\n",
       "      <td>22</td>\n",
       "      <td>159</td>\n",
       "    </tr>\n",
       "    <tr>\n",
       "      <td>1</td>\n",
       "      <td>1000</td>\n",
       "      <td>6</td>\n",
       "      <td>43</td>\n",
       "      <td>172</td>\n",
       "    </tr>\n",
       "    <tr>\n",
       "      <td>2</td>\n",
       "      <td>1000</td>\n",
       "      <td>7</td>\n",
       "      <td>47</td>\n",
       "      <td>340</td>\n",
       "    </tr>\n",
       "    <tr>\n",
       "      <td>3</td>\n",
       "      <td>1000</td>\n",
       "      <td>8</td>\n",
       "      <td>52</td>\n",
       "      <td>408</td>\n",
       "    </tr>\n",
       "    <tr>\n",
       "      <td>4</td>\n",
       "      <td>1000</td>\n",
       "      <td>9</td>\n",
       "      <td>58</td>\n",
       "      <td>466</td>\n",
       "    </tr>\n",
       "  </tbody>\n",
       "</table>\n",
       "</div>"
      ],
      "text/plain": [
       "   user_id  month  calls_count  duration_m_sum\n",
       "0     1000      5           22             159\n",
       "1     1000      6           43             172\n",
       "2     1000      7           47             340\n",
       "3     1000      8           52             408\n",
       "4     1000      9           58             466"
      ]
     },
     "execution_count": 29,
     "metadata": {},
     "output_type": "execute_result"
    }
   ],
   "source": [
    "# через объединение добавлю длительность звонков\n",
    "pivot_data = pivot_data.merge(duration_calls_users, on = ['user_id', 'month'], how='outer')\n",
    "pivot_data.head(5)"
   ]
  },
  {
   "cell_type": "code",
   "execution_count": 30,
   "metadata": {},
   "outputs": [
    {
     "data": {
      "text/plain": [
       "user_id           0\n",
       "month             0\n",
       "calls_count       0\n",
       "duration_m_sum    0\n",
       "dtype: int64"
      ]
     },
     "execution_count": 30,
     "metadata": {},
     "output_type": "execute_result"
    }
   ],
   "source": [
    "# проверю сводную на пропущенные значения\n",
    "pivot_data.isna().sum()"
   ]
  },
  {
   "cell_type": "code",
   "execution_count": 31,
   "metadata": {},
   "outputs": [
    {
     "data": {
      "text/html": [
       "<div>\n",
       "<style scoped>\n",
       "    .dataframe tbody tr th:only-of-type {\n",
       "        vertical-align: middle;\n",
       "    }\n",
       "\n",
       "    .dataframe tbody tr th {\n",
       "        vertical-align: top;\n",
       "    }\n",
       "\n",
       "    .dataframe thead th {\n",
       "        text-align: right;\n",
       "    }\n",
       "</style>\n",
       "<table border=\"1\" class=\"dataframe\">\n",
       "  <thead>\n",
       "    <tr style=\"text-align: right;\">\n",
       "      <th></th>\n",
       "      <th>user_id</th>\n",
       "      <th>month</th>\n",
       "      <th>mb_used_sum</th>\n",
       "    </tr>\n",
       "  </thead>\n",
       "  <tbody>\n",
       "    <tr>\n",
       "      <td>0</td>\n",
       "      <td>1000</td>\n",
       "      <td>5</td>\n",
       "      <td>2256</td>\n",
       "    </tr>\n",
       "    <tr>\n",
       "      <td>1</td>\n",
       "      <td>1000</td>\n",
       "      <td>6</td>\n",
       "      <td>23257</td>\n",
       "    </tr>\n",
       "    <tr>\n",
       "      <td>2</td>\n",
       "      <td>1000</td>\n",
       "      <td>7</td>\n",
       "      <td>14016</td>\n",
       "    </tr>\n",
       "    <tr>\n",
       "      <td>3</td>\n",
       "      <td>1000</td>\n",
       "      <td>8</td>\n",
       "      <td>14070</td>\n",
       "    </tr>\n",
       "    <tr>\n",
       "      <td>4</td>\n",
       "      <td>1000</td>\n",
       "      <td>9</td>\n",
       "      <td>14581</td>\n",
       "    </tr>\n",
       "  </tbody>\n",
       "</table>\n",
       "</div>"
      ],
      "text/plain": [
       "   user_id  month  mb_used_sum\n",
       "0     1000      5         2256\n",
       "1     1000      6        23257\n",
       "2     1000      7        14016\n",
       "3     1000      8        14070\n",
       "4     1000      9        14581"
      ]
     },
     "execution_count": 31,
     "metadata": {},
     "output_type": "execute_result"
    }
   ],
   "source": [
    "value_traffic_users.head(5)"
   ]
  },
  {
   "cell_type": "code",
   "execution_count": 32,
   "metadata": {
    "scrolled": true
   },
   "outputs": [
    {
     "data": {
      "text/html": [
       "<div>\n",
       "<style scoped>\n",
       "    .dataframe tbody tr th:only-of-type {\n",
       "        vertical-align: middle;\n",
       "    }\n",
       "\n",
       "    .dataframe tbody tr th {\n",
       "        vertical-align: top;\n",
       "    }\n",
       "\n",
       "    .dataframe thead th {\n",
       "        text-align: right;\n",
       "    }\n",
       "</style>\n",
       "<table border=\"1\" class=\"dataframe\">\n",
       "  <thead>\n",
       "    <tr style=\"text-align: right;\">\n",
       "      <th></th>\n",
       "      <th>user_id</th>\n",
       "      <th>month</th>\n",
       "      <th>calls_count</th>\n",
       "      <th>duration_m_sum</th>\n",
       "      <th>mb_used_sum</th>\n",
       "    </tr>\n",
       "  </thead>\n",
       "  <tbody>\n",
       "    <tr>\n",
       "      <td>0</td>\n",
       "      <td>1000</td>\n",
       "      <td>5</td>\n",
       "      <td>22.0</td>\n",
       "      <td>159.0</td>\n",
       "      <td>2256.0</td>\n",
       "    </tr>\n",
       "    <tr>\n",
       "      <td>1</td>\n",
       "      <td>1000</td>\n",
       "      <td>6</td>\n",
       "      <td>43.0</td>\n",
       "      <td>172.0</td>\n",
       "      <td>23257.0</td>\n",
       "    </tr>\n",
       "    <tr>\n",
       "      <td>2</td>\n",
       "      <td>1000</td>\n",
       "      <td>7</td>\n",
       "      <td>47.0</td>\n",
       "      <td>340.0</td>\n",
       "      <td>14016.0</td>\n",
       "    </tr>\n",
       "    <tr>\n",
       "      <td>3</td>\n",
       "      <td>1000</td>\n",
       "      <td>8</td>\n",
       "      <td>52.0</td>\n",
       "      <td>408.0</td>\n",
       "      <td>14070.0</td>\n",
       "    </tr>\n",
       "    <tr>\n",
       "      <td>4</td>\n",
       "      <td>1000</td>\n",
       "      <td>9</td>\n",
       "      <td>58.0</td>\n",
       "      <td>466.0</td>\n",
       "      <td>14581.0</td>\n",
       "    </tr>\n",
       "  </tbody>\n",
       "</table>\n",
       "</div>"
      ],
      "text/plain": [
       "   user_id  month  calls_count  duration_m_sum  mb_used_sum\n",
       "0     1000      5         22.0           159.0       2256.0\n",
       "1     1000      6         43.0           172.0      23257.0\n",
       "2     1000      7         47.0           340.0      14016.0\n",
       "3     1000      8         52.0           408.0      14070.0\n",
       "4     1000      9         58.0           466.0      14581.0"
      ]
     },
     "execution_count": 32,
     "metadata": {},
     "output_type": "execute_result"
    }
   ],
   "source": [
    "# через объединение добавлю данные о использованных Мб\n",
    "pivot_data = pivot_data.merge(value_traffic_users, on = ['user_id', 'month'], how='outer')\n",
    "pivot_data.head(5)"
   ]
  },
  {
   "cell_type": "code",
   "execution_count": 33,
   "metadata": {},
   "outputs": [
    {
     "data": {
      "text/plain": [
       "user_id            0\n",
       "month              0\n",
       "calls_count       40\n",
       "duration_m_sum    40\n",
       "mb_used_sum       11\n",
       "dtype: int64"
      ]
     },
     "execution_count": 33,
     "metadata": {},
     "output_type": "execute_result"
    }
   ],
   "source": [
    "# проверю сводную на пропущенные значения\n",
    "pivot_data.isna().sum()"
   ]
  },
  {
   "cell_type": "code",
   "execution_count": 34,
   "metadata": {
    "scrolled": true
   },
   "outputs": [
    {
     "data": {
      "text/html": [
       "<div>\n",
       "<style scoped>\n",
       "    .dataframe tbody tr th:only-of-type {\n",
       "        vertical-align: middle;\n",
       "    }\n",
       "\n",
       "    .dataframe tbody tr th {\n",
       "        vertical-align: top;\n",
       "    }\n",
       "\n",
       "    .dataframe thead th {\n",
       "        text-align: right;\n",
       "    }\n",
       "</style>\n",
       "<table border=\"1\" class=\"dataframe\">\n",
       "  <thead>\n",
       "    <tr style=\"text-align: right;\">\n",
       "      <th></th>\n",
       "      <th>user_id</th>\n",
       "      <th>month</th>\n",
       "      <th>calls_count</th>\n",
       "      <th>duration_m_sum</th>\n",
       "      <th>mb_used_sum</th>\n",
       "      <th>messages</th>\n",
       "    </tr>\n",
       "  </thead>\n",
       "  <tbody>\n",
       "    <tr>\n",
       "      <td>0</td>\n",
       "      <td>1000</td>\n",
       "      <td>5</td>\n",
       "      <td>22.0</td>\n",
       "      <td>159.0</td>\n",
       "      <td>2256.0</td>\n",
       "      <td>22.0</td>\n",
       "    </tr>\n",
       "    <tr>\n",
       "      <td>1</td>\n",
       "      <td>1000</td>\n",
       "      <td>6</td>\n",
       "      <td>43.0</td>\n",
       "      <td>172.0</td>\n",
       "      <td>23257.0</td>\n",
       "      <td>60.0</td>\n",
       "    </tr>\n",
       "    <tr>\n",
       "      <td>2</td>\n",
       "      <td>1000</td>\n",
       "      <td>7</td>\n",
       "      <td>47.0</td>\n",
       "      <td>340.0</td>\n",
       "      <td>14016.0</td>\n",
       "      <td>75.0</td>\n",
       "    </tr>\n",
       "    <tr>\n",
       "      <td>3</td>\n",
       "      <td>1000</td>\n",
       "      <td>8</td>\n",
       "      <td>52.0</td>\n",
       "      <td>408.0</td>\n",
       "      <td>14070.0</td>\n",
       "      <td>81.0</td>\n",
       "    </tr>\n",
       "    <tr>\n",
       "      <td>4</td>\n",
       "      <td>1000</td>\n",
       "      <td>9</td>\n",
       "      <td>58.0</td>\n",
       "      <td>466.0</td>\n",
       "      <td>14581.0</td>\n",
       "      <td>57.0</td>\n",
       "    </tr>\n",
       "  </tbody>\n",
       "</table>\n",
       "</div>"
      ],
      "text/plain": [
       "   user_id  month  calls_count  duration_m_sum  mb_used_sum  messages\n",
       "0     1000      5         22.0           159.0       2256.0      22.0\n",
       "1     1000      6         43.0           172.0      23257.0      60.0\n",
       "2     1000      7         47.0           340.0      14016.0      75.0\n",
       "3     1000      8         52.0           408.0      14070.0      81.0\n",
       "4     1000      9         58.0           466.0      14581.0      57.0"
      ]
     },
     "execution_count": 34,
     "metadata": {},
     "output_type": "execute_result"
    }
   ],
   "source": [
    "# через объединение добавлю данные об отправленных сообщениях\n",
    "pivot_data = pivot_data.merge(messages_users, on = ['user_id', 'month'], how='outer')\n",
    "pivot_data.head(5)"
   ]
  },
  {
   "cell_type": "code",
   "execution_count": 35,
   "metadata": {},
   "outputs": [
    {
     "data": {
      "text/plain": [
       "user_id             0\n",
       "month               0\n",
       "calls_count        40\n",
       "duration_m_sum     40\n",
       "mb_used_sum        11\n",
       "messages          497\n",
       "dtype: int64"
      ]
     },
     "execution_count": 35,
     "metadata": {},
     "output_type": "execute_result"
    }
   ],
   "source": [
    "# проверю сводную на пропущенные значения\n",
    "pivot_data.isna().sum()"
   ]
  },
  {
   "cell_type": "code",
   "execution_count": 36,
   "metadata": {
    "scrolled": false
   },
   "outputs": [],
   "source": [
    "# заполню пропущенные значения нулями, т.к. пользователи не пользовались функциями\n",
    "pivot_data = pivot_data.fillna(0)"
   ]
  },
  {
   "cell_type": "code",
   "execution_count": 37,
   "metadata": {},
   "outputs": [],
   "source": [
    "# создам датафрейм-справочник с пользователями и их тарифами\n",
    "users_tariffs = df_users[['user_id', 'tariff']]"
   ]
  },
  {
   "cell_type": "code",
   "execution_count": 38,
   "metadata": {
    "scrolled": true
   },
   "outputs": [
    {
     "data": {
      "text/html": [
       "<div>\n",
       "<style scoped>\n",
       "    .dataframe tbody tr th:only-of-type {\n",
       "        vertical-align: middle;\n",
       "    }\n",
       "\n",
       "    .dataframe tbody tr th {\n",
       "        vertical-align: top;\n",
       "    }\n",
       "\n",
       "    .dataframe thead th {\n",
       "        text-align: right;\n",
       "    }\n",
       "</style>\n",
       "<table border=\"1\" class=\"dataframe\">\n",
       "  <thead>\n",
       "    <tr style=\"text-align: right;\">\n",
       "      <th></th>\n",
       "      <th>user_id</th>\n",
       "      <th>tariff</th>\n",
       "    </tr>\n",
       "  </thead>\n",
       "  <tbody>\n",
       "    <tr>\n",
       "      <td>0</td>\n",
       "      <td>1000</td>\n",
       "      <td>ultra</td>\n",
       "    </tr>\n",
       "    <tr>\n",
       "      <td>1</td>\n",
       "      <td>1001</td>\n",
       "      <td>smart</td>\n",
       "    </tr>\n",
       "    <tr>\n",
       "      <td>2</td>\n",
       "      <td>1002</td>\n",
       "      <td>smart</td>\n",
       "    </tr>\n",
       "    <tr>\n",
       "      <td>3</td>\n",
       "      <td>1003</td>\n",
       "      <td>ultra</td>\n",
       "    </tr>\n",
       "    <tr>\n",
       "      <td>4</td>\n",
       "      <td>1004</td>\n",
       "      <td>ultra</td>\n",
       "    </tr>\n",
       "  </tbody>\n",
       "</table>\n",
       "</div>"
      ],
      "text/plain": [
       "   user_id tariff\n",
       "0     1000  ultra\n",
       "1     1001  smart\n",
       "2     1002  smart\n",
       "3     1003  ultra\n",
       "4     1004  ultra"
      ]
     },
     "execution_count": 38,
     "metadata": {},
     "output_type": "execute_result"
    }
   ],
   "source": [
    "users_tariffs.head(5)"
   ]
  },
  {
   "cell_type": "code",
   "execution_count": 39,
   "metadata": {
    "scrolled": false
   },
   "outputs": [
    {
     "data": {
      "text/html": [
       "<div>\n",
       "<style scoped>\n",
       "    .dataframe tbody tr th:only-of-type {\n",
       "        vertical-align: middle;\n",
       "    }\n",
       "\n",
       "    .dataframe tbody tr th {\n",
       "        vertical-align: top;\n",
       "    }\n",
       "\n",
       "    .dataframe thead th {\n",
       "        text-align: right;\n",
       "    }\n",
       "</style>\n",
       "<table border=\"1\" class=\"dataframe\">\n",
       "  <thead>\n",
       "    <tr style=\"text-align: right;\">\n",
       "      <th></th>\n",
       "      <th>user_id</th>\n",
       "      <th>month</th>\n",
       "      <th>calls_count</th>\n",
       "      <th>duration_m_sum</th>\n",
       "      <th>mb_used_sum</th>\n",
       "      <th>messages</th>\n",
       "      <th>tariff</th>\n",
       "    </tr>\n",
       "  </thead>\n",
       "  <tbody>\n",
       "    <tr>\n",
       "      <td>0</td>\n",
       "      <td>1000</td>\n",
       "      <td>5.0</td>\n",
       "      <td>22.0</td>\n",
       "      <td>159.0</td>\n",
       "      <td>2256.0</td>\n",
       "      <td>22.0</td>\n",
       "      <td>ultra</td>\n",
       "    </tr>\n",
       "    <tr>\n",
       "      <td>1</td>\n",
       "      <td>1000</td>\n",
       "      <td>6.0</td>\n",
       "      <td>43.0</td>\n",
       "      <td>172.0</td>\n",
       "      <td>23257.0</td>\n",
       "      <td>60.0</td>\n",
       "      <td>ultra</td>\n",
       "    </tr>\n",
       "    <tr>\n",
       "      <td>2</td>\n",
       "      <td>1000</td>\n",
       "      <td>7.0</td>\n",
       "      <td>47.0</td>\n",
       "      <td>340.0</td>\n",
       "      <td>14016.0</td>\n",
       "      <td>75.0</td>\n",
       "      <td>ultra</td>\n",
       "    </tr>\n",
       "    <tr>\n",
       "      <td>3</td>\n",
       "      <td>1000</td>\n",
       "      <td>8.0</td>\n",
       "      <td>52.0</td>\n",
       "      <td>408.0</td>\n",
       "      <td>14070.0</td>\n",
       "      <td>81.0</td>\n",
       "      <td>ultra</td>\n",
       "    </tr>\n",
       "    <tr>\n",
       "      <td>4</td>\n",
       "      <td>1000</td>\n",
       "      <td>9.0</td>\n",
       "      <td>58.0</td>\n",
       "      <td>466.0</td>\n",
       "      <td>14581.0</td>\n",
       "      <td>57.0</td>\n",
       "      <td>ultra</td>\n",
       "    </tr>\n",
       "  </tbody>\n",
       "</table>\n",
       "</div>"
      ],
      "text/plain": [
       "   user_id  month  calls_count  duration_m_sum  mb_used_sum  messages tariff\n",
       "0     1000    5.0         22.0           159.0       2256.0      22.0  ultra\n",
       "1     1000    6.0         43.0           172.0      23257.0      60.0  ultra\n",
       "2     1000    7.0         47.0           340.0      14016.0      75.0  ultra\n",
       "3     1000    8.0         52.0           408.0      14070.0      81.0  ultra\n",
       "4     1000    9.0         58.0           466.0      14581.0      57.0  ultra"
      ]
     },
     "execution_count": 39,
     "metadata": {},
     "output_type": "execute_result"
    }
   ],
   "source": [
    "pivot_data = pivot_data.merge(users_tariffs, on = ['user_id'], how = 'outer')\n",
    "pivot_data.head(5)"
   ]
  },
  {
   "cell_type": "code",
   "execution_count": 40,
   "metadata": {},
   "outputs": [
    {
     "data": {
      "text/html": [
       "<div>\n",
       "<style scoped>\n",
       "    .dataframe tbody tr th:only-of-type {\n",
       "        vertical-align: middle;\n",
       "    }\n",
       "\n",
       "    .dataframe tbody tr th {\n",
       "        vertical-align: top;\n",
       "    }\n",
       "\n",
       "    .dataframe thead th {\n",
       "        text-align: right;\n",
       "    }\n",
       "</style>\n",
       "<table border=\"1\" class=\"dataframe\">\n",
       "  <thead>\n",
       "    <tr style=\"text-align: right;\">\n",
       "      <th></th>\n",
       "      <th>messages_included</th>\n",
       "      <th>mb_per_month_included</th>\n",
       "      <th>minutes_included</th>\n",
       "      <th>rub_monthly_fee</th>\n",
       "      <th>rub_per_gb</th>\n",
       "      <th>rub_per_message</th>\n",
       "      <th>rub_per_minute</th>\n",
       "    </tr>\n",
       "    <tr>\n",
       "      <th>tariff_name</th>\n",
       "      <th></th>\n",
       "      <th></th>\n",
       "      <th></th>\n",
       "      <th></th>\n",
       "      <th></th>\n",
       "      <th></th>\n",
       "      <th></th>\n",
       "    </tr>\n",
       "  </thead>\n",
       "  <tbody>\n",
       "    <tr>\n",
       "      <td>smart</td>\n",
       "      <td>50</td>\n",
       "      <td>15360</td>\n",
       "      <td>500</td>\n",
       "      <td>550</td>\n",
       "      <td>200</td>\n",
       "      <td>3</td>\n",
       "      <td>3</td>\n",
       "    </tr>\n",
       "    <tr>\n",
       "      <td>ultra</td>\n",
       "      <td>1000</td>\n",
       "      <td>30720</td>\n",
       "      <td>3000</td>\n",
       "      <td>1950</td>\n",
       "      <td>150</td>\n",
       "      <td>1</td>\n",
       "      <td>1</td>\n",
       "    </tr>\n",
       "  </tbody>\n",
       "</table>\n",
       "</div>"
      ],
      "text/plain": [
       "             messages_included  mb_per_month_included  minutes_included  \\\n",
       "tariff_name                                                               \n",
       "smart                       50                  15360               500   \n",
       "ultra                     1000                  30720              3000   \n",
       "\n",
       "             rub_monthly_fee  rub_per_gb  rub_per_message  rub_per_minute  \n",
       "tariff_name                                                                \n",
       "smart                    550         200                3               3  \n",
       "ultra                   1950         150                1               1  "
      ]
     },
     "execution_count": 40,
     "metadata": {},
     "output_type": "execute_result"
    }
   ],
   "source": [
    "df_tariffs = df_tariffs.set_index('tariff_name') # сделаю индексом в df_tariffs имя тарифа\n",
    "df_tariffs"
   ]
  },
  {
   "cell_type": "code",
   "execution_count": 42,
   "metadata": {},
   "outputs": [],
   "source": [
    "# напишу функцию, которая будет считать значение выручки для нового столбца ['monthly_profit']\n",
    "def check_packs(row):\n",
    "    # выбираю строку в соответствии с тарифом абонента\n",
    "    t_row = df_tariffs.loc[row['tariff']]\n",
    "    # считаю выручку по каждой строке (месяцу)\n",
    "    monthly_profit = np.clip((\n",
    "        row['duration_m_sum'] - t_row['minutes_included']) * t_row['rub_per_minute'], 0, None\n",
    "        ) + np.clip((\n",
    "        row['messages'] - t_row['messages_included']) * t_row['rub_per_message'], 0, None\n",
    "        ) + np.clip(\n",
    "        np.ceil((row['mb_used_sum'] - t_row['mb_per_month_included']) / 1024) * t_row['rub_per_gb'], 0, None) + t_row['rub_monthly_fee']\n",
    "    #rows['monthly_profit'] = monthly_profit\n",
    "    return monthly_profit\n"
   ]
  },
  {
   "cell_type": "code",
   "execution_count": 43,
   "metadata": {},
   "outputs": [],
   "source": [
    "pivot_data['monthly_profit'] = pivot_data.apply(check_packs, axis=1)"
   ]
  },
  {
   "cell_type": "code",
   "execution_count": 44,
   "metadata": {
    "scrolled": true
   },
   "outputs": [
    {
     "data": {
      "text/html": [
       "<div>\n",
       "<style scoped>\n",
       "    .dataframe tbody tr th:only-of-type {\n",
       "        vertical-align: middle;\n",
       "    }\n",
       "\n",
       "    .dataframe tbody tr th {\n",
       "        vertical-align: top;\n",
       "    }\n",
       "\n",
       "    .dataframe thead th {\n",
       "        text-align: right;\n",
       "    }\n",
       "</style>\n",
       "<table border=\"1\" class=\"dataframe\">\n",
       "  <thead>\n",
       "    <tr style=\"text-align: right;\">\n",
       "      <th></th>\n",
       "      <th>user_id</th>\n",
       "      <th>month</th>\n",
       "      <th>calls_count</th>\n",
       "      <th>duration_m_sum</th>\n",
       "      <th>mb_used_sum</th>\n",
       "      <th>messages</th>\n",
       "      <th>tariff</th>\n",
       "      <th>monthly_profit</th>\n",
       "    </tr>\n",
       "  </thead>\n",
       "  <tbody>\n",
       "    <tr>\n",
       "      <td>0</td>\n",
       "      <td>1000</td>\n",
       "      <td>5.0</td>\n",
       "      <td>22.0</td>\n",
       "      <td>159.0</td>\n",
       "      <td>2256.0</td>\n",
       "      <td>22.0</td>\n",
       "      <td>ultra</td>\n",
       "      <td>1950.0</td>\n",
       "    </tr>\n",
       "    <tr>\n",
       "      <td>1</td>\n",
       "      <td>1000</td>\n",
       "      <td>6.0</td>\n",
       "      <td>43.0</td>\n",
       "      <td>172.0</td>\n",
       "      <td>23257.0</td>\n",
       "      <td>60.0</td>\n",
       "      <td>ultra</td>\n",
       "      <td>1950.0</td>\n",
       "    </tr>\n",
       "    <tr>\n",
       "      <td>2</td>\n",
       "      <td>1000</td>\n",
       "      <td>7.0</td>\n",
       "      <td>47.0</td>\n",
       "      <td>340.0</td>\n",
       "      <td>14016.0</td>\n",
       "      <td>75.0</td>\n",
       "      <td>ultra</td>\n",
       "      <td>1950.0</td>\n",
       "    </tr>\n",
       "    <tr>\n",
       "      <td>3</td>\n",
       "      <td>1000</td>\n",
       "      <td>8.0</td>\n",
       "      <td>52.0</td>\n",
       "      <td>408.0</td>\n",
       "      <td>14070.0</td>\n",
       "      <td>81.0</td>\n",
       "      <td>ultra</td>\n",
       "      <td>1950.0</td>\n",
       "    </tr>\n",
       "    <tr>\n",
       "      <td>4</td>\n",
       "      <td>1000</td>\n",
       "      <td>9.0</td>\n",
       "      <td>58.0</td>\n",
       "      <td>466.0</td>\n",
       "      <td>14581.0</td>\n",
       "      <td>57.0</td>\n",
       "      <td>ultra</td>\n",
       "      <td>1950.0</td>\n",
       "    </tr>\n",
       "    <tr>\n",
       "      <td>5</td>\n",
       "      <td>1000</td>\n",
       "      <td>10.0</td>\n",
       "      <td>57.0</td>\n",
       "      <td>350.0</td>\n",
       "      <td>14717.0</td>\n",
       "      <td>73.0</td>\n",
       "      <td>ultra</td>\n",
       "      <td>1950.0</td>\n",
       "    </tr>\n",
       "    <tr>\n",
       "      <td>6</td>\n",
       "      <td>1000</td>\n",
       "      <td>11.0</td>\n",
       "      <td>43.0</td>\n",
       "      <td>338.0</td>\n",
       "      <td>14768.0</td>\n",
       "      <td>58.0</td>\n",
       "      <td>ultra</td>\n",
       "      <td>1950.0</td>\n",
       "    </tr>\n",
       "    <tr>\n",
       "      <td>7</td>\n",
       "      <td>1000</td>\n",
       "      <td>12.0</td>\n",
       "      <td>46.0</td>\n",
       "      <td>333.0</td>\n",
       "      <td>9827.0</td>\n",
       "      <td>70.0</td>\n",
       "      <td>ultra</td>\n",
       "      <td>1950.0</td>\n",
       "    </tr>\n",
       "    <tr>\n",
       "      <td>8</td>\n",
       "      <td>1001</td>\n",
       "      <td>11.0</td>\n",
       "      <td>59.0</td>\n",
       "      <td>430.0</td>\n",
       "      <td>18452.0</td>\n",
       "      <td>0.0</td>\n",
       "      <td>smart</td>\n",
       "      <td>1350.0</td>\n",
       "    </tr>\n",
       "    <tr>\n",
       "      <td>9</td>\n",
       "      <td>1001</td>\n",
       "      <td>12.0</td>\n",
       "      <td>63.0</td>\n",
       "      <td>414.0</td>\n",
       "      <td>14053.0</td>\n",
       "      <td>0.0</td>\n",
       "      <td>smart</td>\n",
       "      <td>550.0</td>\n",
       "    </tr>\n",
       "  </tbody>\n",
       "</table>\n",
       "</div>"
      ],
      "text/plain": [
       "   user_id  month  calls_count  duration_m_sum  mb_used_sum  messages tariff  \\\n",
       "0     1000    5.0         22.0           159.0       2256.0      22.0  ultra   \n",
       "1     1000    6.0         43.0           172.0      23257.0      60.0  ultra   \n",
       "2     1000    7.0         47.0           340.0      14016.0      75.0  ultra   \n",
       "3     1000    8.0         52.0           408.0      14070.0      81.0  ultra   \n",
       "4     1000    9.0         58.0           466.0      14581.0      57.0  ultra   \n",
       "5     1000   10.0         57.0           350.0      14717.0      73.0  ultra   \n",
       "6     1000   11.0         43.0           338.0      14768.0      58.0  ultra   \n",
       "7     1000   12.0         46.0           333.0       9827.0      70.0  ultra   \n",
       "8     1001   11.0         59.0           430.0      18452.0       0.0  smart   \n",
       "9     1001   12.0         63.0           414.0      14053.0       0.0  smart   \n",
       "\n",
       "   monthly_profit  \n",
       "0          1950.0  \n",
       "1          1950.0  \n",
       "2          1950.0  \n",
       "3          1950.0  \n",
       "4          1950.0  \n",
       "5          1950.0  \n",
       "6          1950.0  \n",
       "7          1950.0  \n",
       "8          1350.0  \n",
       "9           550.0  "
      ]
     },
     "execution_count": 44,
     "metadata": {},
     "output_type": "execute_result"
    }
   ],
   "source": [
    "pivot_data.head(10)"
   ]
  },
  {
   "cell_type": "markdown",
   "metadata": {},
   "source": [
    "Сделал сводную с средним использованием услуг по пользователям и месяцам, а так же посчитал среднюю месячную выручку. Уже сейчас видно, что у многих пользователей выручка соответствует ежемесячной плате за тариф — скорее всего они не используют весь объём, включённых в пакет услуг."
   ]
  },
  {
   "cell_type": "markdown",
   "metadata": {},
   "source": [
    "## Проанализирую данные"
   ]
  },
  {
   "cell_type": "markdown",
   "metadata": {},
   "source": [
    "Опишу поведение клиентов оператора, исходя из выборки и отвечу на вопросы:  \n",
    "    • Сколько минут разговора, сколько сообщений и какой объём интернет-трафика требуется пользователям каждого тарифа в месяц?  \n",
    "    • Посчитайте среднее количество, дисперсию и стандартное отклонение.  \n",
    "    • Постройте гистограммы. Опишите распределения."
   ]
  },
  {
   "cell_type": "code",
   "execution_count": 47,
   "metadata": {
    "scrolled": true
   },
   "outputs": [
    {
     "data": {
      "text/html": [
       "<div>\n",
       "<style scoped>\n",
       "    .dataframe tbody tr th:only-of-type {\n",
       "        vertical-align: middle;\n",
       "    }\n",
       "\n",
       "    .dataframe tbody tr th {\n",
       "        vertical-align: top;\n",
       "    }\n",
       "\n",
       "    .dataframe thead th {\n",
       "        text-align: right;\n",
       "    }\n",
       "</style>\n",
       "<table border=\"1\" class=\"dataframe\">\n",
       "  <thead>\n",
       "    <tr style=\"text-align: right;\">\n",
       "      <th></th>\n",
       "      <th>tariff</th>\n",
       "      <th>month</th>\n",
       "      <th>calls_count</th>\n",
       "      <th>duration_m_sum</th>\n",
       "      <th>mb_used_sum</th>\n",
       "      <th>messages</th>\n",
       "      <th>monthly_profit</th>\n",
       "    </tr>\n",
       "  </thead>\n",
       "  <tbody>\n",
       "    <tr>\n",
       "      <td>0</td>\n",
       "      <td>smart</td>\n",
       "      <td>1.0</td>\n",
       "      <td>27.676471</td>\n",
       "      <td>203.852941</td>\n",
       "      <td>8524.441176</td>\n",
       "      <td>18.235294</td>\n",
       "      <td>721.323529</td>\n",
       "    </tr>\n",
       "    <tr>\n",
       "      <td>1</td>\n",
       "      <td>smart</td>\n",
       "      <td>2.0</td>\n",
       "      <td>40.189655</td>\n",
       "      <td>298.689655</td>\n",
       "      <td>11611.396552</td>\n",
       "      <td>24.086207</td>\n",
       "      <td>827.603448</td>\n",
       "    </tr>\n",
       "    <tr>\n",
       "      <td>2</td>\n",
       "      <td>smart</td>\n",
       "      <td>3.0</td>\n",
       "      <td>54.324675</td>\n",
       "      <td>390.051948</td>\n",
       "      <td>15123.857143</td>\n",
       "      <td>31.857143</td>\n",
       "      <td>1164.623377</td>\n",
       "    </tr>\n",
       "    <tr>\n",
       "      <td>3</td>\n",
       "      <td>smart</td>\n",
       "      <td>4.0</td>\n",
       "      <td>51.312500</td>\n",
       "      <td>367.133929</td>\n",
       "      <td>13479.482143</td>\n",
       "      <td>30.741071</td>\n",
       "      <td>963.089286</td>\n",
       "    </tr>\n",
       "    <tr>\n",
       "      <td>4</td>\n",
       "      <td>smart</td>\n",
       "      <td>5.0</td>\n",
       "      <td>55.241135</td>\n",
       "      <td>387.361702</td>\n",
       "      <td>15825.198582</td>\n",
       "      <td>33.773050</td>\n",
       "      <td>1204.602837</td>\n",
       "    </tr>\n",
       "    <tr>\n",
       "      <td>5</td>\n",
       "      <td>smart</td>\n",
       "      <td>6.0</td>\n",
       "      <td>55.548780</td>\n",
       "      <td>395.640244</td>\n",
       "      <td>15814.768293</td>\n",
       "      <td>33.402439</td>\n",
       "      <td>1208.896341</td>\n",
       "    </tr>\n",
       "    <tr>\n",
       "      <td>6</td>\n",
       "      <td>smart</td>\n",
       "      <td>7.0</td>\n",
       "      <td>56.726368</td>\n",
       "      <td>408.353234</td>\n",
       "      <td>15763.512438</td>\n",
       "      <td>33.751244</td>\n",
       "      <td>1228.925373</td>\n",
       "    </tr>\n",
       "    <tr>\n",
       "      <td>7</td>\n",
       "      <td>smart</td>\n",
       "      <td>8.0</td>\n",
       "      <td>58.978723</td>\n",
       "      <td>421.468085</td>\n",
       "      <td>16632.174468</td>\n",
       "      <td>33.638298</td>\n",
       "      <td>1329.106383</td>\n",
       "    </tr>\n",
       "    <tr>\n",
       "      <td>8</td>\n",
       "      <td>smart</td>\n",
       "      <td>9.0</td>\n",
       "      <td>59.546154</td>\n",
       "      <td>428.611538</td>\n",
       "      <td>16324.526923</td>\n",
       "      <td>33.638462</td>\n",
       "      <td>1255.330769</td>\n",
       "    </tr>\n",
       "    <tr>\n",
       "      <td>9</td>\n",
       "      <td>smart</td>\n",
       "      <td>10.0</td>\n",
       "      <td>59.962585</td>\n",
       "      <td>426.136054</td>\n",
       "      <td>16778.564626</td>\n",
       "      <td>33.765306</td>\n",
       "      <td>1369.615646</td>\n",
       "    </tr>\n",
       "    <tr>\n",
       "      <td>10</td>\n",
       "      <td>smart</td>\n",
       "      <td>11.0</td>\n",
       "      <td>61.503165</td>\n",
       "      <td>435.265823</td>\n",
       "      <td>16917.531646</td>\n",
       "      <td>34.075949</td>\n",
       "      <td>1347.477848</td>\n",
       "    </tr>\n",
       "    <tr>\n",
       "      <td>11</td>\n",
       "      <td>smart</td>\n",
       "      <td>12.0</td>\n",
       "      <td>66.486647</td>\n",
       "      <td>478.560831</td>\n",
       "      <td>18136.833828</td>\n",
       "      <td>35.994065</td>\n",
       "      <td>1582.685460</td>\n",
       "    </tr>\n",
       "    <tr>\n",
       "      <td>12</td>\n",
       "      <td>ultra</td>\n",
       "      <td>1.0</td>\n",
       "      <td>59.444444</td>\n",
       "      <td>428.111111</td>\n",
       "      <td>13153.555556</td>\n",
       "      <td>33.777778</td>\n",
       "      <td>1950.000000</td>\n",
       "    </tr>\n",
       "    <tr>\n",
       "      <td>13</td>\n",
       "      <td>ultra</td>\n",
       "      <td>2.0</td>\n",
       "      <td>41.541667</td>\n",
       "      <td>297.125000</td>\n",
       "      <td>11786.958333</td>\n",
       "      <td>21.958333</td>\n",
       "      <td>1975.000000</td>\n",
       "    </tr>\n",
       "    <tr>\n",
       "      <td>14</td>\n",
       "      <td>ultra</td>\n",
       "      <td>3.0</td>\n",
       "      <td>67.675676</td>\n",
       "      <td>489.648649</td>\n",
       "      <td>17551.972973</td>\n",
       "      <td>32.297297</td>\n",
       "      <td>2014.864865</td>\n",
       "    </tr>\n",
       "    <tr>\n",
       "      <td>15</td>\n",
       "      <td>ultra</td>\n",
       "      <td>4.0</td>\n",
       "      <td>64.090909</td>\n",
       "      <td>458.018182</td>\n",
       "      <td>16843.800000</td>\n",
       "      <td>31.563636</td>\n",
       "      <td>2001.818182</td>\n",
       "    </tr>\n",
       "    <tr>\n",
       "      <td>16</td>\n",
       "      <td>ultra</td>\n",
       "      <td>5.0</td>\n",
       "      <td>72.507463</td>\n",
       "      <td>510.328358</td>\n",
       "      <td>19381.194030</td>\n",
       "      <td>37.850746</td>\n",
       "      <td>2061.940299</td>\n",
       "    </tr>\n",
       "    <tr>\n",
       "      <td>17</td>\n",
       "      <td>ultra</td>\n",
       "      <td>6.0</td>\n",
       "      <td>66.738095</td>\n",
       "      <td>479.702381</td>\n",
       "      <td>18942.238095</td>\n",
       "      <td>41.726190</td>\n",
       "      <td>2041.071429</td>\n",
       "    </tr>\n",
       "    <tr>\n",
       "      <td>18</td>\n",
       "      <td>ultra</td>\n",
       "      <td>7.0</td>\n",
       "      <td>75.780220</td>\n",
       "      <td>545.791209</td>\n",
       "      <td>20514.648352</td>\n",
       "      <td>49.846154</td>\n",
       "      <td>2121.428571</td>\n",
       "    </tr>\n",
       "    <tr>\n",
       "      <td>19</td>\n",
       "      <td>ultra</td>\n",
       "      <td>8.0</td>\n",
       "      <td>71.289720</td>\n",
       "      <td>510.775701</td>\n",
       "      <td>19594.065421</td>\n",
       "      <td>48.439252</td>\n",
       "      <td>2083.177570</td>\n",
       "    </tr>\n",
       "    <tr>\n",
       "      <td>20</td>\n",
       "      <td>ultra</td>\n",
       "      <td>9.0</td>\n",
       "      <td>74.600000</td>\n",
       "      <td>539.443478</td>\n",
       "      <td>19222.208696</td>\n",
       "      <td>52.286957</td>\n",
       "      <td>2024.347826</td>\n",
       "    </tr>\n",
       "    <tr>\n",
       "      <td>21</td>\n",
       "      <td>ultra</td>\n",
       "      <td>10.0</td>\n",
       "      <td>77.373984</td>\n",
       "      <td>558.081301</td>\n",
       "      <td>20063.869919</td>\n",
       "      <td>58.430894</td>\n",
       "      <td>2067.073171</td>\n",
       "    </tr>\n",
       "    <tr>\n",
       "      <td>22</td>\n",
       "      <td>ultra</td>\n",
       "      <td>11.0</td>\n",
       "      <td>75.119403</td>\n",
       "      <td>541.380597</td>\n",
       "      <td>19805.313433</td>\n",
       "      <td>55.791045</td>\n",
       "      <td>2093.283582</td>\n",
       "    </tr>\n",
       "    <tr>\n",
       "      <td>23</td>\n",
       "      <td>ultra</td>\n",
       "      <td>12.0</td>\n",
       "      <td>83.316547</td>\n",
       "      <td>592.805755</td>\n",
       "      <td>21813.589928</td>\n",
       "      <td>60.611511</td>\n",
       "      <td>2138.848921</td>\n",
       "    </tr>\n",
       "  </tbody>\n",
       "</table>\n",
       "</div>"
      ],
      "text/plain": [
       "   tariff  month  calls_count  duration_m_sum   mb_used_sum   messages  \\\n",
       "0   smart    1.0    27.676471      203.852941   8524.441176  18.235294   \n",
       "1   smart    2.0    40.189655      298.689655  11611.396552  24.086207   \n",
       "2   smart    3.0    54.324675      390.051948  15123.857143  31.857143   \n",
       "3   smart    4.0    51.312500      367.133929  13479.482143  30.741071   \n",
       "4   smart    5.0    55.241135      387.361702  15825.198582  33.773050   \n",
       "5   smart    6.0    55.548780      395.640244  15814.768293  33.402439   \n",
       "6   smart    7.0    56.726368      408.353234  15763.512438  33.751244   \n",
       "7   smart    8.0    58.978723      421.468085  16632.174468  33.638298   \n",
       "8   smart    9.0    59.546154      428.611538  16324.526923  33.638462   \n",
       "9   smart   10.0    59.962585      426.136054  16778.564626  33.765306   \n",
       "10  smart   11.0    61.503165      435.265823  16917.531646  34.075949   \n",
       "11  smart   12.0    66.486647      478.560831  18136.833828  35.994065   \n",
       "12  ultra    1.0    59.444444      428.111111  13153.555556  33.777778   \n",
       "13  ultra    2.0    41.541667      297.125000  11786.958333  21.958333   \n",
       "14  ultra    3.0    67.675676      489.648649  17551.972973  32.297297   \n",
       "15  ultra    4.0    64.090909      458.018182  16843.800000  31.563636   \n",
       "16  ultra    5.0    72.507463      510.328358  19381.194030  37.850746   \n",
       "17  ultra    6.0    66.738095      479.702381  18942.238095  41.726190   \n",
       "18  ultra    7.0    75.780220      545.791209  20514.648352  49.846154   \n",
       "19  ultra    8.0    71.289720      510.775701  19594.065421  48.439252   \n",
       "20  ultra    9.0    74.600000      539.443478  19222.208696  52.286957   \n",
       "21  ultra   10.0    77.373984      558.081301  20063.869919  58.430894   \n",
       "22  ultra   11.0    75.119403      541.380597  19805.313433  55.791045   \n",
       "23  ultra   12.0    83.316547      592.805755  21813.589928  60.611511   \n",
       "\n",
       "    monthly_profit  \n",
       "0       721.323529  \n",
       "1       827.603448  \n",
       "2      1164.623377  \n",
       "3       963.089286  \n",
       "4      1204.602837  \n",
       "5      1208.896341  \n",
       "6      1228.925373  \n",
       "7      1329.106383  \n",
       "8      1255.330769  \n",
       "9      1369.615646  \n",
       "10     1347.477848  \n",
       "11     1582.685460  \n",
       "12     1950.000000  \n",
       "13     1975.000000  \n",
       "14     2014.864865  \n",
       "15     2001.818182  \n",
       "16     2061.940299  \n",
       "17     2041.071429  \n",
       "18     2121.428571  \n",
       "19     2083.177570  \n",
       "20     2024.347826  \n",
       "21     2067.073171  \n",
       "22     2093.283582  \n",
       "23     2138.848921  "
      ]
     },
     "execution_count": 47,
     "metadata": {},
     "output_type": "execute_result"
    }
   ],
   "source": [
    "# изучу поведение пользоватетелей по месяцам через средние значения показателей\n",
    "pivot = pivot_data.groupby(['tariff', 'month']).mean().reset_index().drop('user_id', axis=1)\n",
    "pivot"
   ]
  },
  {
   "cell_type": "code",
   "execution_count": 48,
   "metadata": {
    "scrolled": true
   },
   "outputs": [
    {
     "data": {
      "text/html": [
       "<div>\n",
       "<style scoped>\n",
       "    .dataframe tbody tr th:only-of-type {\n",
       "        vertical-align: middle;\n",
       "    }\n",
       "\n",
       "    .dataframe tbody tr th {\n",
       "        vertical-align: top;\n",
       "    }\n",
       "\n",
       "    .dataframe thead th {\n",
       "        text-align: right;\n",
       "    }\n",
       "</style>\n",
       "<table border=\"1\" class=\"dataframe\">\n",
       "  <thead>\n",
       "    <tr style=\"text-align: right;\">\n",
       "      <th></th>\n",
       "      <th>month</th>\n",
       "      <th>calls_count</th>\n",
       "      <th>duration_m_sum</th>\n",
       "      <th>mb_used_sum</th>\n",
       "      <th>messages</th>\n",
       "      <th>monthly_profit</th>\n",
       "    </tr>\n",
       "    <tr>\n",
       "      <th>tariff</th>\n",
       "      <th></th>\n",
       "      <th></th>\n",
       "      <th></th>\n",
       "      <th></th>\n",
       "      <th></th>\n",
       "      <th></th>\n",
       "    </tr>\n",
       "  </thead>\n",
       "  <tbody>\n",
       "    <tr>\n",
       "      <td>smart</td>\n",
       "      <td>6.5</td>\n",
       "      <td>53.958072</td>\n",
       "      <td>386.760499</td>\n",
       "      <td>15077.690651</td>\n",
       "      <td>31.413211</td>\n",
       "      <td>1183.606692</td>\n",
       "    </tr>\n",
       "    <tr>\n",
       "      <td>ultra</td>\n",
       "      <td>6.5</td>\n",
       "      <td>69.123177</td>\n",
       "      <td>495.934310</td>\n",
       "      <td>18222.784561</td>\n",
       "      <td>43.714983</td>\n",
       "      <td>2047.737868</td>\n",
       "    </tr>\n",
       "  </tbody>\n",
       "</table>\n",
       "</div>"
      ],
      "text/plain": [
       "        month  calls_count  duration_m_sum   mb_used_sum   messages  \\\n",
       "tariff                                                                \n",
       "smart     6.5    53.958072      386.760499  15077.690651  31.413211   \n",
       "ultra     6.5    69.123177      495.934310  18222.784561  43.714983   \n",
       "\n",
       "        monthly_profit  \n",
       "tariff                  \n",
       "smart      1183.606692  \n",
       "ultra      2047.737868  "
      ]
     },
     "execution_count": 48,
     "metadata": {},
     "output_type": "execute_result"
    }
   ],
   "source": [
    "# посмотрим на показатели по каждому тарифу в среднем в месяц\n",
    "pivot_tariffs = pivot.groupby('tariff').mean()\n",
    "pivot_tariffs"
   ]
  },
  {
   "cell_type": "code",
   "execution_count": 49,
   "metadata": {},
   "outputs": [
    {
     "name": "stdout",
     "output_type": "stream",
     "text": [
      "На тарифе \"Ультра\" пользователи тратят в среднем на 73% больше, чем на \"Смарт\".\n"
     ]
    }
   ],
   "source": [
    "print('На тарифе \"Ультра\" пользователи тратят в среднем на {:.0%} больше, чем на \"Смарт\".'.format(\n",
    "    pivot_tariffs['monthly_profit'][1] / pivot_tariffs['monthly_profit'][0] - 1\n",
    "))"
   ]
  },
  {
   "cell_type": "code",
   "execution_count": 50,
   "metadata": {
    "scrolled": true
   },
   "outputs": [
    {
     "data": {
      "text/html": [
       "<div>\n",
       "<style scoped>\n",
       "    .dataframe tbody tr th:only-of-type {\n",
       "        vertical-align: middle;\n",
       "    }\n",
       "\n",
       "    .dataframe tbody tr th {\n",
       "        vertical-align: top;\n",
       "    }\n",
       "\n",
       "    .dataframe thead th {\n",
       "        text-align: right;\n",
       "    }\n",
       "</style>\n",
       "<table border=\"1\" class=\"dataframe\">\n",
       "  <thead>\n",
       "    <tr style=\"text-align: right;\">\n",
       "      <th></th>\n",
       "      <th>calls_count</th>\n",
       "      <th>duration_m_sum</th>\n",
       "      <th>mb_used_sum</th>\n",
       "      <th>messages</th>\n",
       "      <th>monthly_profit</th>\n",
       "    </tr>\n",
       "  </thead>\n",
       "  <tbody>\n",
       "    <tr>\n",
       "      <td>count</td>\n",
       "      <td>24.000000</td>\n",
       "      <td>24.000000</td>\n",
       "      <td>24.000000</td>\n",
       "      <td>24.000000</td>\n",
       "      <td>24.000000</td>\n",
       "    </tr>\n",
       "    <tr>\n",
       "      <td>mean</td>\n",
       "      <td>61.540624</td>\n",
       "      <td>441.347404</td>\n",
       "      <td>16650.237606</td>\n",
       "      <td>37.564097</td>\n",
       "      <td>1615.672280</td>\n",
       "    </tr>\n",
       "    <tr>\n",
       "      <td>std</td>\n",
       "      <td>12.969858</td>\n",
       "      <td>92.062584</td>\n",
       "      <td>3205.253617</td>\n",
       "      <td>11.159376</td>\n",
       "      <td>473.479069</td>\n",
       "    </tr>\n",
       "    <tr>\n",
       "      <td>min</td>\n",
       "      <td>27.676471</td>\n",
       "      <td>203.852941</td>\n",
       "      <td>8524.441176</td>\n",
       "      <td>18.235294</td>\n",
       "      <td>721.323529</td>\n",
       "    </tr>\n",
       "    <tr>\n",
       "      <td>25%</td>\n",
       "      <td>55.471869</td>\n",
       "      <td>394.243170</td>\n",
       "      <td>15603.598614</td>\n",
       "      <td>32.187259</td>\n",
       "      <td>1223.918115</td>\n",
       "    </tr>\n",
       "    <tr>\n",
       "      <td>50%</td>\n",
       "      <td>60.732875</td>\n",
       "      <td>431.938681</td>\n",
       "      <td>16811.182313</td>\n",
       "      <td>33.769178</td>\n",
       "      <td>1766.342730</td>\n",
       "    </tr>\n",
       "    <tr>\n",
       "      <td>75%</td>\n",
       "      <td>71.594155</td>\n",
       "      <td>510.440194</td>\n",
       "      <td>19261.955029</td>\n",
       "      <td>43.404456</td>\n",
       "      <td>2046.288646</td>\n",
       "    </tr>\n",
       "    <tr>\n",
       "      <td>max</td>\n",
       "      <td>83.316547</td>\n",
       "      <td>592.805755</td>\n",
       "      <td>21813.589928</td>\n",
       "      <td>60.611511</td>\n",
       "      <td>2138.848921</td>\n",
       "    </tr>\n",
       "  </tbody>\n",
       "</table>\n",
       "</div>"
      ],
      "text/plain": [
       "       calls_count  duration_m_sum   mb_used_sum   messages  monthly_profit\n",
       "count    24.000000       24.000000     24.000000  24.000000       24.000000\n",
       "mean     61.540624      441.347404  16650.237606  37.564097     1615.672280\n",
       "std      12.969858       92.062584   3205.253617  11.159376      473.479069\n",
       "min      27.676471      203.852941   8524.441176  18.235294      721.323529\n",
       "25%      55.471869      394.243170  15603.598614  32.187259     1223.918115\n",
       "50%      60.732875      431.938681  16811.182313  33.769178     1766.342730\n",
       "75%      71.594155      510.440194  19261.955029  43.404456     2046.288646\n",
       "max      83.316547      592.805755  21813.589928  60.611511     2138.848921"
      ]
     },
     "execution_count": 50,
     "metadata": {},
     "output_type": "execute_result"
    }
   ],
   "source": [
    "pivot.describe().drop('month', axis=1)"
   ]
  },
  {
   "cell_type": "code",
   "execution_count": 51,
   "metadata": {
    "scrolled": true
   },
   "outputs": [
    {
     "data": {
      "text/plain": [
       "Index(['tariff', 'month', 'calls_count', 'duration_m_sum', 'mb_used_sum',\n",
       "       'messages', 'monthly_profit'],\n",
       "      dtype='object')"
      ]
     },
     "execution_count": 51,
     "metadata": {},
     "output_type": "execute_result"
    }
   ],
   "source": [
    "pivot.columns"
   ]
  },
  {
   "cell_type": "code",
   "execution_count": 52,
   "metadata": {
    "scrolled": true
   },
   "outputs": [
    {
     "data": {
      "text/plain": [
       "<matplotlib.axes._subplots.AxesSubplot at 0x7faa212ffa10>"
      ]
     },
     "execution_count": 52,
     "metadata": {},
     "output_type": "execute_result"
    },
    {
     "data": {
      "text/plain": [
       "Text(0.5, 1.0, 'calls_count')"
      ]
     },
     "execution_count": 52,
     "metadata": {},
     "output_type": "execute_result"
    },
    {
     "data": {
      "text/plain": [
       "Text(0.5, 0, 'calls_count')"
      ]
     },
     "execution_count": 52,
     "metadata": {},
     "output_type": "execute_result"
    },
    {
     "data": {
      "text/plain": [
       "Text(0, 0.5, 'quantity of months')"
      ]
     },
     "execution_count": 52,
     "metadata": {},
     "output_type": "execute_result"
    },
    {
     "data": {
      "image/png": "[encoded data removed]",
      "text/plain": [
       "<Figure size 432x288 with 1 Axes>"
      ]
     },
     "metadata": {
      "needs_background": "light"
     },
     "output_type": "display_data"
    },
    {
     "name": "stdout",
     "output_type": "stream",
     "text": [
      "Среднее: 61.54062437108385\n",
      "Медиана: 60.73287479548782\n",
      "Дисперсия calls_count : 161.208163502637\n",
      "Стандартное отклонение calls_count : 12.696777681862317 . Это 21% от среднего\n"
     ]
    },
    {
     "data": {
      "text/plain": [
       "<matplotlib.axes._subplots.AxesSubplot at 0x7faa213370d0>"
      ]
     },
     "execution_count": 52,
     "metadata": {},
     "output_type": "execute_result"
    },
    {
     "data": {
      "text/plain": [
       "Text(0.5, 1.0, 'duration_m_sum')"
      ]
     },
     "execution_count": 52,
     "metadata": {},
     "output_type": "execute_result"
    },
    {
     "data": {
      "text/plain": [
       "Text(0.5, 0, 'duration_m_sum')"
      ]
     },
     "execution_count": 52,
     "metadata": {},
     "output_type": "execute_result"
    },
    {
     "data": {
      "text/plain": [
       "Text(0, 0.5, 'quantity of months')"
      ]
     },
     "execution_count": 52,
     "metadata": {},
     "output_type": "execute_result"
    },
    {
     "data": {
      "image/png": "[encoded data removed]",
      "text/plain": [
       "<Figure size 432x288 with 1 Axes>"
      ]
     },
     "metadata": {
      "needs_background": "light"
     },
     "output_type": "display_data"
    },
    {
     "name": "stdout",
     "output_type": "stream",
     "text": [
      "Среднее: 441.34740443407463\n",
      "Медиана: 431.9386806231743\n",
      "Дисперсия duration_m_sum : 8122.372747937209\n",
      "Стандартное отклонение duration_m_sum : 90.12420733597166 . Это 20% от среднего\n"
     ]
    },
    {
     "data": {
      "text/plain": [
       "<matplotlib.axes._subplots.AxesSubplot at 0x7faa2128dc50>"
      ]
     },
     "execution_count": 52,
     "metadata": {},
     "output_type": "execute_result"
    },
    {
     "data": {
      "text/plain": [
       "Text(0.5, 1.0, 'mb_used_sum')"
      ]
     },
     "execution_count": 52,
     "metadata": {},
     "output_type": "execute_result"
    },
    {
     "data": {
      "text/plain": [
       "Text(0.5, 0, 'mb_used_sum')"
      ]
     },
     "execution_count": 52,
     "metadata": {},
     "output_type": "execute_result"
    },
    {
     "data": {
      "text/plain": [
       "Text(0, 0.5, 'quantity of months')"
      ]
     },
     "execution_count": 52,
     "metadata": {},
     "output_type": "execute_result"
    },
    {
     "data": {
      "image/png": "[encoded data removed]",
      "text/plain": [
       "<Figure size 432x288 with 1 Axes>"
      ]
     },
     "metadata": {
      "needs_background": "light"
     },
     "output_type": "display_data"
    },
    {
     "name": "stdout",
     "output_type": "stream",
     "text": [
      "Среднее: 16650.23760628512\n",
      "Медиана: 16811.18231292517\n",
      "Дисперсия mb_used_sum : 9845581.969554713\n",
      "Стандартное отклонение mb_used_sum : 3137.7670355771656 . Это 19% от среднего\n"
     ]
    },
    {
     "data": {
      "text/plain": [
       "<matplotlib.axes._subplots.AxesSubplot at 0x7faa200192d0>"
      ]
     },
     "execution_count": 52,
     "metadata": {},
     "output_type": "execute_result"
    },
    {
     "data": {
      "text/plain": [
       "Text(0.5, 1.0, 'messages')"
      ]
     },
     "execution_count": 52,
     "metadata": {},
     "output_type": "execute_result"
    },
    {
     "data": {
      "text/plain": [
       "Text(0.5, 0, 'messages')"
      ]
     },
     "execution_count": 52,
     "metadata": {},
     "output_type": "execute_result"
    },
    {
     "data": {
      "text/plain": [
       "Text(0, 0.5, 'quantity of months')"
      ]
     },
     "execution_count": 52,
     "metadata": {},
     "output_type": "execute_result"
    },
    {
     "data": {
      "image/png": "[encoded data removed]",
      "text/plain": [
       "<Figure size 432x288 with 1 Axes>"
      ]
     },
     "metadata": {
      "needs_background": "light"
     },
     "output_type": "display_data"
    },
    {
     "name": "stdout",
     "output_type": "stream",
     "text": [
      "Среднее: 37.56409675127873\n",
      "Медиана: 33.769177883919525\n",
      "Дисперсия messages : 119.34285645418885\n",
      "Стандартное отклонение messages : 10.924415611564257 . Это 29% от среднего\n"
     ]
    },
    {
     "data": {
      "text/plain": [
       "<matplotlib.axes._subplots.AxesSubplot at 0x7faa1ff8a810>"
      ]
     },
     "execution_count": 52,
     "metadata": {},
     "output_type": "execute_result"
    },
    {
     "data": {
      "text/plain": [
       "Text(0.5, 1.0, 'monthly_profit')"
      ]
     },
     "execution_count": 52,
     "metadata": {},
     "output_type": "execute_result"
    },
    {
     "data": {
      "text/plain": [
       "Text(0.5, 0, 'monthly_profit')"
      ]
     },
     "execution_count": 52,
     "metadata": {},
     "output_type": "execute_result"
    },
    {
     "data": {
      "text/plain": [
       "Text(0, 0.5, 'quantity of months')"
      ]
     },
     "execution_count": 52,
     "metadata": {},
     "output_type": "execute_result"
    },
    {
     "data": {
      "image/png": "[encoded data removed]",
      "text/plain": [
       "<Figure size 432x288 with 1 Axes>"
      ]
     },
     "metadata": {
      "needs_background": "light"
     },
     "output_type": "display_data"
    },
    {
     "name": "stdout",
     "output_type": "stream",
     "text": [
      "Среднее: 1615.6722797111615\n",
      "Медиана: 1766.3427299703264\n",
      "Дисперсия monthly_profit : 214841.49468856212\n",
      "Стандартное отклонение monthly_profit : 463.50997258803625 . Это 29% от среднего\n"
     ]
    }
   ],
   "source": [
    "# цикл для вывода данных по показателям\n",
    "for column in ['calls_count', 'duration_m_sum', 'mb_used_sum', 'messages', 'monthly_profit']:\n",
    "    # построю гистрограмму\n",
    "    fig, ax = plt.subplots()\n",
    "    pivot[column].hist()\n",
    "    plt.title(column)\n",
    "    ax.set_xlabel(column)\n",
    "    ax.set_ylabel('quantity of months')\n",
    "    plt.show()\n",
    "    mean = pivot[column].mean() # посчитаю среднее\n",
    "    print('Среднее:', mean)\n",
    "    median = pivot[column].median() # посчитаю медиану\n",
    "    print('Медиана:', median)\n",
    "    # посчитаю дисперсию\n",
    "    variation = np.var(pivot[column])\n",
    "    print('Дисперсия', column, ':', variation)\n",
    "    # посчитаю стандартное отклонение\n",
    "    sqrt = np.sqrt(np.var(pivot[column]))\n",
    "    print('Стандартное отклонение', column, ':', sqrt, '. Это {:.0%} от среднего'.format(sqrt/mean))"
   ]
  },
  {
   "cell_type": "code",
   "execution_count": 53,
   "metadata": {},
   "outputs": [],
   "source": [
    "# отключу вывод всего из ячеек\n",
    "InteractiveShell.ast_node_interactivity = \"last_expr\""
   ]
  },
  {
   "cell_type": "markdown",
   "metadata": {},
   "source": [
    "Проанализирую отдельно каждый тариф, т.к. по ним складываются очень разные картины."
   ]
  },
  {
   "cell_type": "code",
   "execution_count": 54,
   "metadata": {
    "scrolled": true
   },
   "outputs": [
    {
     "name": "stderr",
     "output_type": "stream",
     "text": [
      "/opt/conda/lib/python3.7/site-packages/ipykernel_launcher.py:13: MatplotlibDeprecationWarning: Adding an axes using the same arguments as a previous axes currently reuses the earlier instance.  In a future version, a new instance will always be created and returned.  Meanwhile, this warning can be suppressed, and the future behavior ensured, by passing a unique label to each axes instance.\n",
      "  del sys.path[0]\n",
      "/opt/conda/lib/python3.7/site-packages/ipykernel_launcher.py:14: MatplotlibDeprecationWarning: Adding an axes using the same arguments as a previous axes currently reuses the earlier instance.  In a future version, a new instance will always be created and returned.  Meanwhile, this warning can be suppressed, and the future behavior ensured, by passing a unique label to each axes instance.\n",
      "  \n",
      "/opt/conda/lib/python3.7/site-packages/ipykernel_launcher.py:19: MatplotlibDeprecationWarning: Adding an axes using the same arguments as a previous axes currently reuses the earlier instance.  In a future version, a new instance will always be created and returned.  Meanwhile, this warning can be suppressed, and the future behavior ensured, by passing a unique label to each axes instance.\n",
      "/opt/conda/lib/python3.7/site-packages/ipykernel_launcher.py:20: MatplotlibDeprecationWarning: Adding an axes using the same arguments as a previous axes currently reuses the earlier instance.  In a future version, a new instance will always be created and returned.  Meanwhile, this warning can be suppressed, and the future behavior ensured, by passing a unique label to each axes instance.\n"
     ]
    },
    {
     "data": {
      "image/png": "[encoded data removed]",
      "text/plain": [
       "<Figure size 432x288 with 2 Axes>"
      ]
     },
     "metadata": {
      "needs_background": "light"
     },
     "output_type": "display_data"
    },
    {
     "name": "stdout",
     "output_type": "stream",
     "text": [
      "Среднее Smart: 53.95807151748034\n",
      "Медиана Smart: 56.137574323504424\n",
      "Дисперсия Smart / calls_count : 100.47056478292212\n",
      "Стандартное отклонение Smart / calls_count : 10.02350062517692 . Это 19% от среднего\n",
      "\n",
      "Среднее Ultra: 69.12317722468737\n",
      "Медиана Ultra: 71.8985911563677\n",
      "Дисперсия Ultra / calls_count : 106.95554666697056\n",
      "Стандартное отклонение Ultra / calls_count : 10.34193147661357 . Это 15% от среднего\n"
     ]
    },
    {
     "data": {
      "image/png": "[encoded data removed]",
      "text/plain": [
       "<Figure size 432x288 with 2 Axes>"
      ]
     },
     "metadata": {
      "needs_background": "light"
     },
     "output_type": "display_data"
    },
    {
     "name": "stdout",
     "output_type": "stream",
     "text": [
      "Среднее Smart: 386.76049870568664\n",
      "Медиана Smart: 401.99673886664243\n",
      "Дисперсия Smart / duration_m_sum : 4786.647452051491\n",
      "Стандартное отклонение Smart / duration_m_sum : 69.18560147929257 . Это 18% от среднего\n",
      "\n",
      "Среднее Ultra: 495.9343101624627\n",
      "Медиана Ultra: 510.5520295717673\n",
      "Дисперсия Ultra / duration_m_sum : 5498.637489823082\n",
      "Стандартное отклонение Ultra / duration_m_sum : 74.1527982602348 . Это 15% от среднего\n"
     ]
    },
    {
     "data": {
      "image/png": "[encoded data removed]",
      "text/plain": [
       "<Figure size 432x288 with 2 Axes>"
      ]
     },
     "metadata": {
      "needs_background": "light"
     },
     "output_type": "display_data"
    },
    {
     "name": "stdout",
     "output_type": "stream",
     "text": [
      "Среднее Smart: 15077.690651369858\n",
      "Медиана Smart: 15819.983437121606\n",
      "Дисперсия Smart / mb_used_sum : 6558036.923770799\n",
      "Стандартное отклонение Smart / mb_used_sum : 2560.866440049305 . Это 17% от среднего\n",
      "\n",
      "Среднее Ultra: 18222.784561200377\n",
      "Медиана Ultra: 19301.70136275146\n",
      "Дисперсия Ultra / mb_used_sum : 8187319.164512123\n",
      "Стандартное отклонение Ultra / mb_used_sum : 2861.349186050546 . Это 16% от среднего\n"
     ]
    },
    {
     "data": {
      "image/png": "[encoded data removed]",
      "text/plain": [
       "<Figure size 432x288 with 2 Axes>"
      ]
     },
     "metadata": {
      "needs_background": "light"
     },
     "output_type": "display_data"
    },
    {
     "name": "stdout",
     "output_type": "stream",
     "text": [
      "Среднее Smart: 31.413210661085547\n",
      "Медиана Smart: 33.63837970540098\n",
      "Дисперсия Smart / messages : 23.874424834598063\n",
      "Стандартное отклонение Smart / messages : 4.886146215024481 . Это 16% от среднего\n",
      "\n",
      "Среднее Ultra: 43.71498284147191\n",
      "Медиана Ultra: 45.082721406319536\n",
      "Дисперсия Ultra / messages : 139.14448868471572\n",
      "Стандартное отклонение Ultra / messages : 11.79595221610853 . Это 27% от среднего\n"
     ]
    },
    {
     "data": {
      "image/png": "[encoded data removed]",
      "text/plain": [
       "<Figure size 432x288 with 2 Axes>"
      ]
     },
     "metadata": {
      "needs_background": "light"
     },
     "output_type": "display_data"
    },
    {
     "name": "stdout",
     "output_type": "stream",
     "text": [
      "Среднее Smart: 1183.6066915010317\n",
      "Медиана Smart: 1218.9108572988716\n",
      "Дисперсия Smart / monthly_profit : 53299.83043656146\n",
      "Стандартное отклонение Smart / monthly_profit : 230.8675603816211 . Это 20% от среднего\n",
      "\n",
      "Среднее Ultra: 2047.7378679212914\n",
      "Медиана Ultra: 2051.5058635394457\n",
      "Дисперсия Ultra / monthly_profit : 3021.813909831975\n",
      "Стандартное отклонение Ultra / monthly_profit : 54.97102791318328 . Это 3% от среднего\n"
     ]
    }
   ],
   "source": [
    "smart = pivot[pivot['tariff'] == 'smart'] # сводные по тарифу Смарт\n",
    "ultra = pivot[pivot['tariff'] == 'ultra'] # сводные по тарифу Ультра\n",
    "\n",
    "# цикл для вывода данных по показателям\n",
    "for column in ['calls_count', 'duration_m_sum', 'mb_used_sum', 'messages', 'monthly_profit']:\n",
    "    \n",
    "    # построю гистрограмму\n",
    "    fig = plt.figure()\n",
    "    ax1 = fig.add_subplot(121)\n",
    "    ax2 = fig.add_subplot(122)\n",
    "    \n",
    "    plt.suptitle(column)\n",
    "    plt.subplot(1,2,1)\n",
    "    plt.subplot(1,2,1).set_title('smart')\n",
    "    smart[column].hist()\n",
    "    ax1.set_xlabel(column)\n",
    "    ax1.set_ylabel('quantity of months')\n",
    "    \n",
    "    plt.subplot(1,2,2)\n",
    "    plt.subplot(1,2,2).set_title('ultra')\n",
    "    ultra[column].hist()\n",
    "    ax2.set_xlabel(column)\n",
    "    ax2.set_ylabel('quantity of months')\n",
    "    \n",
    "    fig.tight_layout() # избавлюсь от перекрытия subplots друг другом\n",
    "    plt.show() # выведу графики\n",
    "    \n",
    "    mean_smart = smart[column].mean() # посчитаю среднее\n",
    "    print('Среднее Smart:', mean_smart)\n",
    "    median_smart = smart[column].median() # посчитаю медиану\n",
    "    print('Медиана Smart:', median_smart)\n",
    "    # посчитаю дисперсию\n",
    "    variation_smart = np.var(smart[column])\n",
    "    print('Дисперсия Smart /', column, ':', variation_smart)\n",
    "    # посчитаю стандартное отклонение\n",
    "    sqrt_smart = np.sqrt(np.var(smart[column]))\n",
    "    print('Стандартное отклонение Smart /', column, ':', sqrt_smart, '. Это {:.0%} от среднего'.format(sqrt_smart/mean_smart))\n",
    "    print()\n",
    "    \n",
    "    mean_ultra = ultra[column].mean()\n",
    "    print('Среднее Ultra:', mean_ultra)\n",
    "    median_ultra = ultra[column].median()\n",
    "    print('Медиана Ultra:', median_ultra)\n",
    "    variation_ultra = np.var(ultra[column])\n",
    "    print('Дисперсия Ultra /', column, ':', variation_ultra)\n",
    "    sqrt_ultra = np.sqrt(np.var(ultra[column]))\n",
    "    print('Стандартное отклонение Ultra /', column, ':', sqrt_ultra, '. Это {:.0%} от среднего'.format(sqrt_ultra/mean_ultra))\n",
    "    "
   ]
  },
  {
   "cell_type": "markdown",
   "metadata": {},
   "source": [
    "_**Выводы:**_  \n",
    "• **Количество звонков** у большинства пользователей более 50 в месяц, причём на тарифе \"Ультра\" пользователи разговаривают больше. Отклонение от среднего довольно большое — 21%, т.е. пользователи очень разные в плане частоты звонков.  \n",
    "• **Длительность звонков** имеет очень похожее на кол-во распределение и аналогичное среднее отклонение. Очень большая часть абонентов разговаривают очень долго, но всё равно не используют пакет в 3000 минут.  \n",
    "• Среди абонентов тарифа \"Смарт\" в большинстве месяцев отправляется около 33 **сообщений**.  \n",
    "• У **средней выручки** по месяцам очень большое отклонение"
   ]
  },
  {
   "cell_type": "code",
   "execution_count": 55,
   "metadata": {},
   "outputs": [],
   "source": [
    "all_months = ['Jan','Feb','Mar','Apr','May', 'Jun', 'Jul', 'Aug', 'Sep', 'Oct', 'Nov', 'Dec']"
   ]
  },
  {
   "cell_type": "code",
   "execution_count": 56,
   "metadata": {},
   "outputs": [
    {
     "data": {
      "image/png": "[encoded data removed]",
      "text/plain": [
       "<Figure size 432x288 with 1 Axes>"
      ]
     },
     "metadata": {
      "needs_background": "light"
     },
     "output_type": "display_data"
    },
    {
     "data": {
      "image/png": "[encoded data removed]",
      "text/plain": [
       "<Figure size 432x288 with 1 Axes>"
      ]
     },
     "metadata": {
      "needs_background": "light"
     },
     "output_type": "display_data"
    }
   ],
   "source": [
    "smart.plot.bar(x='month', y='monthly_profit')\n",
    "plt.suptitle('\"monthly_profit\" by months at Smart')\n",
    "plt.xticks(np.arange(12), all_months)\n",
    "plt.show()\n",
    "\n",
    "ultra.plot.bar(x='month', y='monthly_profit')\n",
    "plt.suptitle('\"monthly_profit\" by months at Ultra')\n",
    "plt.xticks(np.arange(12), all_months)\n",
    "plt.show()"
   ]
  },
  {
   "cell_type": "markdown",
   "metadata": {},
   "source": [
    "Выручка от клиентов тарифа \"Смарт\" растёт к концу года в 2,5 раза за год. При этом, выручка от абонентов \"Ультра\" тоже растёт, но едва заметно."
   ]
  },
  {
   "cell_type": "markdown",
   "metadata": {},
   "source": [
    "Рассчитаю мат.ожидание, дисперсию и СКО в разрезе тарифов для данные без группировки по месяцам. Из-за того, что в месяцах разное количество наблюдений, средние значения таблиц pivot_data и pivot различаются."
   ]
  },
  {
   "cell_type": "code",
   "execution_count": 59,
   "metadata": {
    "scrolled": true
   },
   "outputs": [
    {
     "name": "stderr",
     "output_type": "stream",
     "text": [
      "/opt/conda/lib/python3.7/site-packages/ipykernel_launcher.py:13: MatplotlibDeprecationWarning: Adding an axes using the same arguments as a previous axes currently reuses the earlier instance.  In a future version, a new instance will always be created and returned.  Meanwhile, this warning can be suppressed, and the future behavior ensured, by passing a unique label to each axes instance.\n",
      "  del sys.path[0]\n",
      "/opt/conda/lib/python3.7/site-packages/ipykernel_launcher.py:14: MatplotlibDeprecationWarning: Adding an axes using the same arguments as a previous axes currently reuses the earlier instance.  In a future version, a new instance will always be created and returned.  Meanwhile, this warning can be suppressed, and the future behavior ensured, by passing a unique label to each axes instance.\n",
      "  \n",
      "/opt/conda/lib/python3.7/site-packages/ipykernel_launcher.py:19: MatplotlibDeprecationWarning: Adding an axes using the same arguments as a previous axes currently reuses the earlier instance.  In a future version, a new instance will always be created and returned.  Meanwhile, this warning can be suppressed, and the future behavior ensured, by passing a unique label to each axes instance.\n",
      "/opt/conda/lib/python3.7/site-packages/ipykernel_launcher.py:20: MatplotlibDeprecationWarning: Adding an axes using the same arguments as a previous axes currently reuses the earlier instance.  In a future version, a new instance will always be created and returned.  Meanwhile, this warning can be suppressed, and the future behavior ensured, by passing a unique label to each axes instance.\n"
     ]
    },
    {
     "data": {
      "image/png": "[encoded data removed]",
      "text/plain": [
       "<Figure size 432x288 with 2 Axes>"
      ]
     },
     "metadata": {
      "needs_background": "light"
     },
     "output_type": "display_data"
    },
    {
     "name": "stdout",
     "output_type": "stream",
     "text": [
      "Среднее Smart: 58.46343651861822\n",
      "Медиана Smart: 60.0\n",
      "Дисперсия Smart / calls_count : 672.5743697067148\n",
      "Стандартное отклонение Smart / calls_count : 10.02350062517692 . Это 17% от среднего\n",
      "\n",
      "Среднее Ultra: 69.12317722468737\n",
      "Медиана Ultra: 74.0\n",
      "Дисперсия Ultra / calls_count : 1926.7319291916824\n",
      "Стандартное отклонение Ultra / calls_count : 43.89455466446473 . Это 64% от среднего\n"
     ]
    },
    {
     "data": {
      "image/png": "[encoded data removed]",
      "text/plain": [
       "<Figure size 432x288 with 2 Axes>"
      ]
     },
     "metadata": {
      "needs_background": "light"
     },
     "output_type": "display_data"
    },
    {
     "name": "stdout",
     "output_type": "stream",
     "text": [
      "Среднее Smart: 417.9349484073576\n",
      "Медиана Smart: 422.0\n",
      "Дисперсия Smart / duration_m_sum : 36203.06665209469\n",
      "Стандартное отклонение Smart / duration_m_sum : 69.18560147929257 . Это 17% от среднего\n",
      "\n",
      "Среднее Ultra: 495.9343101624627\n",
      "Медиана Ultra: 518.0\n",
      "Дисперсия Ultra / duration_m_sum : 100771.2236172022\n",
      "Стандартное отклонение Ultra / duration_m_sum : 317.44483554974113 . Это 64% от среднего\n"
     ]
    },
    {
     "data": {
      "image/png": "[encoded data removed]",
      "text/plain": [
       "<Figure size 432x288 with 2 Axes>"
      ]
     },
     "metadata": {
      "needs_background": "light"
     },
     "output_type": "display_data"
    },
    {
     "name": "stdout",
     "output_type": "stream",
     "text": [
      "Среднее Smart: 16229.188425302826\n",
      "Медиана Smart: 16531.0\n",
      "Дисперсия Smart / mb_used_sum : 34530412.73703965\n",
      "Стандартное отклонение Smart / mb_used_sum : 2560.866440049305 . Это 16% от среднего\n",
      "\n",
      "Среднее Ultra: 18222.784561200377\n",
      "Медиана Ultra: 19324.0\n",
      "Дисперсия Ultra / mb_used_sum : 101832133.10806875\n",
      "Стандартное отклонение Ultra / mb_used_sum : 10091.190866695008 . Это 55% от среднего\n"
     ]
    },
    {
     "data": {
      "image/png": "[encoded data removed]",
      "text/plain": [
       "<Figure size 432x288 with 2 Axes>"
      ]
     },
     "metadata": {
      "needs_background": "light"
     },
     "output_type": "display_data"
    },
    {
     "name": "stdout",
     "output_type": "stream",
     "text": [
      "Среднее Smart: 33.384028712427096\n",
      "Медиана Smart: 28.0\n",
      "Дисперсия Smart / messages : 796.455482917076\n",
      "Стандартное отклонение Smart / messages : 4.886146215024481 . Это 15% от среднего\n",
      "\n",
      "Среднее Ultra: 43.71498284147191\n",
      "Медиана Ultra: 38.0\n",
      "Дисперсия Ultra / messages : 2282.946075394882\n",
      "Стандартное отклонение Ultra / messages : 47.78018496610161 . Это 109% от среднего\n"
     ]
    },
    {
     "data": {
      "image/png": "[encoded data removed]",
      "text/plain": [
       "<Figure size 432x288 with 2 Axes>"
      ]
     },
     "metadata": {
      "needs_background": "light"
     },
     "output_type": "display_data"
    },
    {
     "name": "stdout",
     "output_type": "stream",
     "text": [
      "Среднее Smart: 1294.6393001345896\n",
      "Медиана Smart: 1038.0\n",
      "Дисперсия Smart / monthly_profit : 673628.974426787\n",
      "Стандартное отклонение Smart / monthly_profit : 230.8675603816211 . Это 18% от среднего\n",
      "\n",
      "Среднее Ultra: 2047.7378679212914\n",
      "Медиана Ultra: 1950.0\n",
      "Дисперсия Ultra / monthly_profit : 143345.5641732588\n",
      "Стандартное отклонение Ultra / monthly_profit : 378.61004235658993 . Это 18% от среднего\n"
     ]
    }
   ],
   "source": [
    "smart_data = pivot_data[pivot_data['tariff'] == 'smart'] # сводные по тарифу Смарт\n",
    "ultra_data = pivot_data[pivot_data['tariff'] == 'ultra'] # сводные по тарифу Ультра\n",
    "\n",
    "# цикл для вывода данных по показателям\n",
    "for column in ['calls_count', 'duration_m_sum', 'mb_used_sum', 'messages', 'monthly_profit']:\n",
    "    \n",
    "    # построю гистрограмму\n",
    "    fig = plt.figure()\n",
    "    ax1 = fig.add_subplot(121)\n",
    "    ax2 = fig.add_subplot(122)\n",
    "    \n",
    "    plt.suptitle(column)\n",
    "    plt.subplot(1,2,1)\n",
    "    plt.subplot(1,2,1).set_title('smart')\n",
    "    smart_data[column].hist(bins=30)\n",
    "    ax1.set_xlabel(column)\n",
    "    ax1.set_ylabel('quantity of months')\n",
    "    \n",
    "    plt.subplot(1,2,2)\n",
    "    plt.subplot(1,2,2).set_title('ultra')\n",
    "    ultra_data[column].hist(bins=30)\n",
    "    ax2.set_xlabel(column)\n",
    "    ax2.set_ylabel('quantity of months')\n",
    "    \n",
    "    fig.tight_layout() # избавлюсь от перекрытия subplots друг другом\n",
    "    plt.show() # выведу графики\n",
    "    \n",
    "    mean_smart = smart_data[column].mean() # посчитаю среднее\n",
    "    print('Среднее Smart:', mean_smart)\n",
    "    median_smart = smart_data[column].median() # посчитаю медиану\n",
    "    print('Медиана Smart:', median_smart)\n",
    "    # посчитаю дисперсию\n",
    "    variation_smart = np.var(smart_data[column])\n",
    "    print('Дисперсия Smart /', column, ':', variation_smart)\n",
    "    # посчитаю стандартное отклонение\n",
    "    sqrt_smart = np.sqrt(np.var(smart[column]))\n",
    "    print('Стандартное отклонение Smart /', column, ':', sqrt_smart, '. Это {:.0%} от среднего'.format(sqrt_smart/mean_smart))\n",
    "    print()\n",
    "    \n",
    "    mean_ultra = ultra[column].mean()\n",
    "    print('Среднее Ultra:', mean_ultra)\n",
    "    median_ultra = ultra_data[column].median()\n",
    "    print('Медиана Ultra:', median_ultra)\n",
    "    variation_ultra = np.var(ultra_data[column])\n",
    "    print('Дисперсия Ultra /', column, ':', variation_ultra)\n",
    "    sqrt_ultra = np.sqrt(np.var(ultra_data[column]))\n",
    "    print('Стандартное отклонение Ultra /', column, ':', sqrt_ultra, '. Это {:.0%} от среднего'.format(sqrt_ultra/mean_ultra))\n",
    "    "
   ]
  },
  {
   "cell_type": "markdown",
   "metadata": {},
   "source": [
    "Предположение подтвердилось. Так данные выглядят более полными без выбросов."
   ]
  },
  {
   "cell_type": "code",
   "execution_count": 56,
   "metadata": {},
   "outputs": [],
   "source": [
    "def pack_mimutes_used(row):\n",
    "    t_row = df_tariffs.loc[row['tariff']]\n",
    "    used = (row['duration_m_sum'] - t_row['minutes_included']) / t_row['minutes_included']\n",
    "    return used\n",
    "\n",
    "def pack_messages_used(row):\n",
    "    t_row = df_tariffs.loc[row['tariff']]\n",
    "    used = (row['messages'] - t_row['messages_included']) / t_row['messages_included']\n",
    "    return used\n",
    "\n",
    "def pack_mb_used(row):\n",
    "    t_row = df_tariffs.loc[row['tariff']]\n",
    "    used = (row['mb_used_sum'] - t_row['mb_per_month_included']) / t_row['mb_per_month_included']\n",
    "    return used"
   ]
  },
  {
   "cell_type": "code",
   "execution_count": 57,
   "metadata": {},
   "outputs": [],
   "source": [
    "pivot_data['minutes_used'] = pivot_data.apply(pack_mimutes_used, axis=1)\n",
    "pivot_data['messages_used'] = pivot_data.apply(pack_messages_used, axis=1)\n",
    "pivot_data['mb_used'] = pivot_data.apply(pack_mb_used, axis=1)"
   ]
  },
  {
   "cell_type": "code",
   "execution_count": 58,
   "metadata": {
    "scrolled": false
   },
   "outputs": [
    {
     "data": {
      "image/png": "[encoded data removed]",
      "text/plain": [
       "<Figure size 432x288 with 1 Axes>"
      ]
     },
     "metadata": {
      "needs_background": "light"
     },
     "output_type": "display_data"
    },
    {
     "data": {
      "image/png": "[encoded data removed]",
      "text/plain": [
       "<Figure size 432x288 with 1 Axes>"
      ]
     },
     "metadata": {
      "needs_background": "light"
     },
     "output_type": "display_data"
    },
    {
     "data": {
      "image/png": "[encoded data removed]",
      "text/plain": [
       "<Figure size 432x288 with 1 Axes>"
      ]
     },
     "metadata": {
      "needs_background": "light"
     },
     "output_type": "display_data"
    }
   ],
   "source": [
    "pivot_data['minutes_used'].hist(bins=50)\n",
    "plt.title('minutes_used')\n",
    "plt.xlabel('using of pack')\n",
    "plt.ylabel('quantity of users')\n",
    "plt.show()\n",
    "pivot_data['messages_used'].hist(bins=50)\n",
    "plt.title('messages_used')\n",
    "plt.xlabel('using of pack')\n",
    "plt.ylabel('quantity of users')\n",
    "plt.show()\n",
    "pivot_data['mb_used'].hist(bins=50)\n",
    "plt.title('mb_used')\n",
    "plt.xlabel('using of pack')\n",
    "plt.ylabel('quantity of users')\n",
    "plt.show()"
   ]
  },
  {
   "cell_type": "code",
   "execution_count": 59,
   "metadata": {},
   "outputs": [
    {
     "name": "stderr",
     "output_type": "stream",
     "text": [
      "/opt/conda/lib/python3.7/site-packages/ipykernel_launcher.py:8: MatplotlibDeprecationWarning: Adding an axes using the same arguments as a previous axes currently reuses the earlier instance.  In a future version, a new instance will always be created and returned.  Meanwhile, this warning can be suppressed, and the future behavior ensured, by passing a unique label to each axes instance.\n",
      "  \n",
      "/opt/conda/lib/python3.7/site-packages/ipykernel_launcher.py:9: MatplotlibDeprecationWarning: Adding an axes using the same arguments as a previous axes currently reuses the earlier instance.  In a future version, a new instance will always be created and returned.  Meanwhile, this warning can be suppressed, and the future behavior ensured, by passing a unique label to each axes instance.\n",
      "  if __name__ == '__main__':\n",
      "/opt/conda/lib/python3.7/site-packages/ipykernel_launcher.py:14: MatplotlibDeprecationWarning: Adding an axes using the same arguments as a previous axes currently reuses the earlier instance.  In a future version, a new instance will always be created and returned.  Meanwhile, this warning can be suppressed, and the future behavior ensured, by passing a unique label to each axes instance.\n",
      "  \n",
      "/opt/conda/lib/python3.7/site-packages/ipykernel_launcher.py:15: MatplotlibDeprecationWarning: Adding an axes using the same arguments as a previous axes currently reuses the earlier instance.  In a future version, a new instance will always be created and returned.  Meanwhile, this warning can be suppressed, and the future behavior ensured, by passing a unique label to each axes instance.\n",
      "  from ipykernel import kernelapp as app\n"
     ]
    },
    {
     "data": {
      "image/png": "[encoded data removed]",
      "text/plain": [
       "<Figure size 720x216 with 2 Axes>"
      ]
     },
     "metadata": {
      "needs_background": "light"
     },
     "output_type": "display_data"
    },
    {
     "data": {
      "image/png": "[encoded data removed]",
      "text/plain": [
       "<Figure size 720x216 with 2 Axes>"
      ]
     },
     "metadata": {
      "needs_background": "light"
     },
     "output_type": "display_data"
    },
    {
     "data": {
      "image/png": "[encoded data removed]",
      "text/plain": [
       "<Figure size 720x216 with 2 Axes>"
      ]
     },
     "metadata": {
      "needs_background": "light"
     },
     "output_type": "display_data"
    }
   ],
   "source": [
    "for column in ['minutes_used', 'messages_used', 'mb_used']:\n",
    "\n",
    "    fig = plt.figure(figsize=(10, 3))\n",
    "    ax1 = fig.add_subplot(121)\n",
    "    ax2 = fig.add_subplot(122)\n",
    "    \n",
    "    plt.suptitle(column)\n",
    "    plt.subplot(1,2,1)\n",
    "    plt.subplot(1,2,1).set_title('smart')\n",
    "    pivot_data[pivot_data['tariff'] == 'smart'][column].hist(bins=50)\n",
    "    ax1.set_xlabel('using of pack')\n",
    "    ax1.set_ylabel('quantity of users')\n",
    "    \n",
    "    plt.subplot(1,2,2)\n",
    "    plt.subplot(1,2,2).set_title('ultra')\n",
    "    pivot_data[pivot_data['tariff'] == 'ultra'][column].hist(bins=50)\n",
    "    ax2.set_xlabel('using of pack')\n",
    "    ax2.set_ylabel('quantity of users')\n",
    "    \n",
    "    fig.tight_layout() # избавлюсь от перекрытия subplots друг другом\n",
    "    plt.show() # выведу графики"
   ]
  },
  {
   "cell_type": "markdown",
   "metadata": {},
   "source": [
    "Довольно сильно отличается поведение пользователей тарифов в части использования пакетов минут, сообщений и трафика.  \n",
    "Нормально распределено использование минут и интернета на тарифе \"Смарт\" около значения пакета, т.е. большинство абонентов используют объём минут и трафика примерно равный размеру включённого пакета.  \n",
    "У абонентов \"Ультра\" использование минут и интернета смещено в меньшую сторону, т.к. пользователи не успевают расходовать весь объём услуг, включённых в пакеты.  \n",
    "Интересно распределение сообщений в обоих тарифах: огромная часть пользователей практически не пользуется сообщениями или пользуется крайне мало."
   ]
  },
  {
   "cell_type": "markdown",
   "metadata": {},
   "source": [
    "## Проверю гипотезы"
   ]
  },
  {
   "cell_type": "markdown",
   "metadata": {},
   "source": [
    "### Cредняя выручка пользователей тарифов «Ультра» и «Смарт» различается"
   ]
  },
  {
   "cell_type": "code",
   "execution_count": 60,
   "metadata": {
    "scrolled": false
   },
   "outputs": [
    {
     "data": {
      "text/html": [
       "<div>\n",
       "<style scoped>\n",
       "    .dataframe tbody tr th:only-of-type {\n",
       "        vertical-align: middle;\n",
       "    }\n",
       "\n",
       "    .dataframe tbody tr th {\n",
       "        vertical-align: top;\n",
       "    }\n",
       "\n",
       "    .dataframe thead th {\n",
       "        text-align: right;\n",
       "    }\n",
       "</style>\n",
       "<table border=\"1\" class=\"dataframe\">\n",
       "  <thead>\n",
       "    <tr style=\"text-align: right;\">\n",
       "      <th></th>\n",
       "      <th>month</th>\n",
       "      <th>calls_count</th>\n",
       "      <th>duration_m_sum</th>\n",
       "      <th>mb_used_sum</th>\n",
       "      <th>messages</th>\n",
       "      <th>monthly_profit</th>\n",
       "    </tr>\n",
       "    <tr>\n",
       "      <th>tariff</th>\n",
       "      <th></th>\n",
       "      <th></th>\n",
       "      <th></th>\n",
       "      <th></th>\n",
       "      <th></th>\n",
       "      <th></th>\n",
       "    </tr>\n",
       "  </thead>\n",
       "  <tbody>\n",
       "    <tr>\n",
       "      <td>smart</td>\n",
       "      <td>6.5</td>\n",
       "      <td>53.958072</td>\n",
       "      <td>386.760499</td>\n",
       "      <td>15077.690651</td>\n",
       "      <td>31.413211</td>\n",
       "      <td>1183.606692</td>\n",
       "    </tr>\n",
       "    <tr>\n",
       "      <td>ultra</td>\n",
       "      <td>6.5</td>\n",
       "      <td>69.123177</td>\n",
       "      <td>495.934310</td>\n",
       "      <td>18222.784561</td>\n",
       "      <td>43.714983</td>\n",
       "      <td>2047.737868</td>\n",
       "    </tr>\n",
       "  </tbody>\n",
       "</table>\n",
       "</div>"
      ],
      "text/plain": [
       "        month  calls_count  duration_m_sum   mb_used_sum   messages  \\\n",
       "tariff                                                                \n",
       "smart     6.5    53.958072      386.760499  15077.690651  31.413211   \n",
       "ultra     6.5    69.123177      495.934310  18222.784561  43.714983   \n",
       "\n",
       "        monthly_profit  \n",
       "tariff                  \n",
       "smart      1183.606692  \n",
       "ultra      2047.737868  "
      ]
     },
     "execution_count": 60,
     "metadata": {},
     "output_type": "execute_result"
    }
   ],
   "source": [
    "pivot_tariffs"
   ]
  },
  {
   "cell_type": "code",
   "execution_count": 61,
   "metadata": {
    "scrolled": true
   },
   "outputs": [],
   "source": [
    "sample_1 = pivot_data[pivot_data['tariff'] == 'smart']\n",
    "sample_2 = pivot_data[pivot_data['tariff'] == 'ultra']"
   ]
  },
  {
   "cell_type": "code",
   "execution_count": 62,
   "metadata": {},
   "outputs": [
    {
     "name": "stdout",
     "output_type": "stream",
     "text": [
      "user_id           0\n",
      "month             1\n",
      "calls_count       1\n",
      "duration_m_sum    1\n",
      "mb_used_sum       1\n",
      "messages          1\n",
      "tariff            0\n",
      "monthly_profit    1\n",
      "minutes_used      1\n",
      "messages_used     1\n",
      "mb_used           1\n",
      "dtype: int64\n",
      "user_id           0\n",
      "month             1\n",
      "calls_count       1\n",
      "duration_m_sum    1\n",
      "mb_used_sum       1\n",
      "messages          1\n",
      "tariff            0\n",
      "monthly_profit    1\n",
      "minutes_used      1\n",
      "messages_used     1\n",
      "mb_used           1\n",
      "dtype: int64\n"
     ]
    }
   ],
   "source": [
    "# проверю на NaN\n",
    "print(sample_1.isna().sum())\n",
    "print(sample_2.isna().sum())"
   ]
  },
  {
   "cell_type": "code",
   "execution_count": 63,
   "metadata": {},
   "outputs": [
    {
     "name": "stderr",
     "output_type": "stream",
     "text": [
      "/opt/conda/lib/python3.7/site-packages/ipykernel_launcher.py:1: SettingWithCopyWarning: \n",
      "A value is trying to be set on a copy of a slice from a DataFrame\n",
      "\n",
      "See the caveats in the documentation: http://pandas.pydata.org/pandas-docs/stable/user_guide/indexing.html#returning-a-view-versus-a-copy\n",
      "  \"\"\"Entry point for launching an IPython kernel.\n",
      "/opt/conda/lib/python3.7/site-packages/ipykernel_launcher.py:2: SettingWithCopyWarning: \n",
      "A value is trying to be set on a copy of a slice from a DataFrame\n",
      "\n",
      "See the caveats in the documentation: http://pandas.pydata.org/pandas-docs/stable/user_guide/indexing.html#returning-a-view-versus-a-copy\n",
      "  \n"
     ]
    }
   ],
   "source": [
    "sample_1.dropna(inplace=True)\n",
    "sample_2.dropna(inplace=True)"
   ]
  },
  {
   "cell_type": "code",
   "execution_count": 64,
   "metadata": {
    "scrolled": true
   },
   "outputs": [
    {
     "name": "stdout",
     "output_type": "stream",
     "text": [
      "[1350.0, 550.0, 550.0, 1150.0, 1550.0]\n",
      "[1950.0, 1950.0, 1950.0, 1950.0, 1950.0]\n"
     ]
    }
   ],
   "source": [
    "sample_1_list = sample_1['monthly_profit'].to_list()\n",
    "sample_2_list = sample_2['monthly_profit'].to_list()\n",
    "print(sample_1_list[:5]) # проверю полученные списки\n",
    "print(sample_2_list[:5])"
   ]
  },
  {
   "cell_type": "markdown",
   "metadata": {},
   "source": [
    "**Нулевая гипотеза** будет звучать так:  \n",
    "\"средняя выручка пользователей тарифов «Ультра» и «Смарт» идентичная\".  \n",
    "Нулевую гипотезу формулируем так, чтобы она звучала положительно и проверялась через знак равенства.  \n",
    "**Альтернативная гипотеза:**  \n",
    "\"средняя выручка пользователей тарифов \"Смарт\" и \"Ультра\" не равны\".  \n",
    "**Пороговое значение alpha** выберу равное 5% как общепринятый вариант."
   ]
  },
  {
   "cell_type": "code",
   "execution_count": 66,
   "metadata": {},
   "outputs": [
    {
     "name": "stdout",
     "output_type": "stream",
     "text": [
      "p-значение:  2.9776448000521676e-158\n",
      "Отвергаем нулевую гипотезу\n"
     ]
    }
   ],
   "source": [
    "result_tariffs = st.ttest_ind(sample_1_list, sample_2_list, equal_var = True)\n",
    "print('p-значение: ', result_tariffs.pvalue)\n",
    "alpha = 0.05\n",
    "if result_tariffs.pvalue < alpha:\n",
    "    print('Отвергаем нулевую гипотезу')\n",
    "else:\n",
    "    print('Не получилось отвергнуть нулевую гипотезу')"
   ]
  },
  {
   "cell_type": "code",
   "execution_count": 67,
   "metadata": {},
   "outputs": [
    {
     "data": {
      "text/plain": [
       "Ttest_indResult(statistic=-28.37640735783545, pvalue=2.9776448000521676e-158)"
      ]
     },
     "execution_count": 67,
     "metadata": {},
     "output_type": "execute_result"
    }
   ],
   "source": [
    "result_tariffs"
   ]
  },
  {
   "cell_type": "markdown",
   "metadata": {},
   "source": [
    "Скорее всего, средняя выручка от пользователей на тарифах отличается, т.к. нам пришлось отвергнуть нулевую гипотезу."
   ]
  },
  {
   "cell_type": "markdown",
   "metadata": {},
   "source": [
    "### Cредняя выручка пользователей из Москвы отличается от выручки пользователей из других регионов"
   ]
  },
  {
   "cell_type": "markdown",
   "metadata": {},
   "source": [
    "**Нулевая гипотеза:**  \n",
    "средняя выручка пользователей из Москвы соответствует выручке пользователей из других регионов.  \n",
    "**Альтернативная гипотеза:**  \n",
    "средняя выручка пользователей из Москвы не равна выручке пользователей из других регионов."
   ]
  },
  {
   "cell_type": "code",
   "execution_count": 68,
   "metadata": {},
   "outputs": [],
   "source": [
    "array_id_msk = df_users[df_users['city'] == 'Москва']['user_id'].unique()\n",
    "array_id_reg = df_users[df_users['city'] != 'Москва']['user_id'].unique()"
   ]
  },
  {
   "cell_type": "code",
   "execution_count": 69,
   "metadata": {},
   "outputs": [],
   "source": [
    "sample_moscow = pivot_data[pivot_data['user_id'].isin(array_id_msk)]\n",
    "sample_regions = pivot_data[pivot_data['user_id'].isin(array_id_reg)]"
   ]
  },
  {
   "cell_type": "code",
   "execution_count": 70,
   "metadata": {},
   "outputs": [
    {
     "name": "stdout",
     "output_type": "stream",
     "text": [
      "user_id           0\n",
      "month             0\n",
      "calls_count       0\n",
      "duration_m_sum    0\n",
      "mb_used_sum       0\n",
      "messages          0\n",
      "tariff            0\n",
      "monthly_profit    0\n",
      "minutes_used      0\n",
      "messages_used     0\n",
      "mb_used           0\n",
      "dtype: int64\n",
      "user_id           0\n",
      "month             2\n",
      "calls_count       2\n",
      "duration_m_sum    2\n",
      "mb_used_sum       2\n",
      "messages          2\n",
      "tariff            0\n",
      "monthly_profit    2\n",
      "minutes_used      2\n",
      "messages_used     2\n",
      "mb_used           2\n",
      "dtype: int64\n"
     ]
    }
   ],
   "source": [
    "print(sample_moscow.isna().sum())\n",
    "print(sample_regions.isna().sum())"
   ]
  },
  {
   "cell_type": "code",
   "execution_count": 71,
   "metadata": {},
   "outputs": [
    {
     "name": "stderr",
     "output_type": "stream",
     "text": [
      "/opt/conda/lib/python3.7/site-packages/ipykernel_launcher.py:2: SettingWithCopyWarning: \n",
      "A value is trying to be set on a copy of a slice from a DataFrame\n",
      "\n",
      "See the caveats in the documentation: http://pandas.pydata.org/pandas-docs/stable/user_guide/indexing.html#returning-a-view-versus-a-copy\n",
      "  \n"
     ]
    }
   ],
   "source": [
    "# удолю пустые значения в выборке регионов, их всего 2\n",
    "sample_regions.dropna(inplace=True)"
   ]
  },
  {
   "cell_type": "code",
   "execution_count": 72,
   "metadata": {},
   "outputs": [],
   "source": [
    "# выберу значения выручку и сложу в множество\n",
    "sample_msk_list = sample_moscow['monthly_profit'].to_list()\n",
    "sample_reg_list = sample_regions['monthly_profit'].to_list()"
   ]
  },
  {
   "cell_type": "code",
   "execution_count": 73,
   "metadata": {
    "scrolled": true
   },
   "outputs": [
    {
     "name": "stdout",
     "output_type": "stream",
     "text": [
      "p-значение: 0.531666503831252\n",
      "Не получилось отвергнуть нулевую гипотезу\n"
     ]
    }
   ],
   "source": [
    "result_area = st.ttest_ind(sample_msk_list, sample_reg_list, equal_var = True)\n",
    "print('p-значение:', result_area.pvalue)\n",
    "if result_area.pvalue < alpha:\n",
    "    print('Отвергаем нулевую гипотезу')\n",
    "else:\n",
    "    print('Не получилось отвергнуть нулевую гипотезу')"
   ]
  },
  {
   "cell_type": "markdown",
   "metadata": {},
   "source": [
    "Похоже, что средняя выручка ползьзователей из Москвы примерно соответствует выручке от пользователей из других регионов."
   ]
  },
  {
   "cell_type": "markdown",
   "metadata": {},
   "source": [
    "## Общие выводы"
   ]
  },
  {
   "cell_type": "markdown",
   "metadata": {},
   "source": [
    "- Пользователи разных тарифов используют разное количество доступных в пакетах минут, сообщений, трафика, совершают разное кол-во звонков. При этом, многие пользователи не используют доступные лимиты, а часть платит за дополнительные пакеты.  \n",
    "- Средняя месячная выручка на тарифах разная: на \"Ультра\" она на 75% больше, чем на \"Смарт\".  \n",
    "- Пользователи \"Ультра\" как правило не используют весь объём услуг, включённых в пакеты минут, сообщений и интернета. Абоненты \"Смарт\" наоборот, достаточно рационально используют пакеты минут и интернета. А вот с использованием сообщений у обоих групп сложности — похоже интернет-мессенджеры \"берут своё\" и люди всё реже отправляют старые добрые сообщения."
   ]
  },
  {
   "cell_type": "markdown",
   "metadata": {},
   "source": [
    "Если мы смотрим **со стороны компании, больше выручки приносит тариф \"Ультра\"**, т.к. за него пользователи платят больше, а используют не весь объём трафика. Чтобы сделать однозначный вывод, не хватает данных о себестоимости услуг для компании.\n",
    "    \n",
    "**Для пользователей выглядит более выгодным тариф \"Смарт\"**, т.к. они в данном случае не платят на неиспользованные услуги (минуты, сообщения, интернет) и в среднем платят меньше абонентов \"Ультра\". Но у них и потребности скромнее. Уверен, что если примерить расходы услуг абонентов \"Ультра\" с условиями тарифа \"Смарт\", их расходы окажутся значительно больше в среднем (но для части абонентов \"Ультра\" есть смысл перейти на \"Смарт\", тут нужно отдельно поисследовать и можно будет сделать рекомендацию при условии, что роскошные условия тарифа не стимулируют использовать услуги больше необходимого)."
   ]
  }
 ],
 "metadata": {
  "kernelspec": {
   "display_name": "Python 3 (ipykernel)",
   "language": "python",
   "name": "python3"
  },
  "language_info": {
   "codemirror_mode": {
    "name": "ipython",
    "version": 3
   },
   "file_extension": ".py",
   "mimetype": "text/x-python",
   "name": "python",
   "nbconvert_exporter": "python",
   "pygments_lexer": "ipython3",
   "version": "3.8.8"
  },
  "toc": {
   "base_numbering": 1,
   "nav_menu": {},
   "number_sections": true,
   "sideBar": true,
   "skip_h1_title": true,
   "title_cell": "Table of Contents",
   "title_sidebar": "Contents",
   "toc_cell": false,
   "toc_position": {},
   "toc_section_display": true,
   "toc_window_display": false
  }
 },
 "nbformat": 4,
 "nbformat_minor": 2
}
