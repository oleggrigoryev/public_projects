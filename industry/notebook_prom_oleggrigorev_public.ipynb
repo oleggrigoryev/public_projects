{
 "cells": [
  {
   "cell_type": "markdown",
   "metadata": {
    "id": "yXHqJfwzLStc"
   },
   "source": [
    "# Описание проекта Восстановление золота из руды"
   ]
  },
  {
   "cell_type": "markdown",
   "metadata": {
    "id": "0bVs44ghLStc"
   },
   "source": [
    "Нужно подготовить прототип модели машинного обучения компании, разрабатывающей решения для эффективной работы промышленных предприятий.\n",
    "Модель должна предсказать коэффициент восстановления золота из золотосодержащей руды. Используйте данные с параметрами добычи и очистки. \n",
    "Модель нужна для оптимизации производства, чтобы не запускать предприятие с убыточными характеристиками."
   ]
  },
  {
   "cell_type": "markdown",
   "metadata": {
    "toc": true
   },
   "source": [
    "<h1>Содержание<span class=\"tocSkip\"></span></h1>\n",
    "<div class=\"toc\"><ul class=\"toc-item\"><li><span><a href=\"#Подготовка-данных\" data-toc-modified-id=\"Подготовка-данных-1\"><span class=\"toc-item-num\">1&nbsp;&nbsp;</span>Подготовка данных</a></span><ul class=\"toc-item\"><li><span><a href=\"#Открою-файлы-и-изучу-их.\" data-toc-modified-id=\"Открою-файлы-и-изучу-их.-1.1\"><span class=\"toc-item-num\">1.1&nbsp;&nbsp;</span>Открою файлы и изучу их.</a></span></li><li><span><a href=\"#Подготовлю-данные\" data-toc-modified-id=\"Подготовлю-данные-1.2\"><span class=\"toc-item-num\">1.2&nbsp;&nbsp;</span>Подготовлю данные</a></span></li><li><span><a href=\"#Проверю,-что-эффективность-обогащения-рассчитана-правильно.\" data-toc-modified-id=\"Проверю,-что-эффективность-обогащения-рассчитана-правильно.-1.3\"><span class=\"toc-item-num\">1.3&nbsp;&nbsp;</span>Проверю, что эффективность обогащения рассчитана правильно.</a></span><ul class=\"toc-item\"><li><span><a href=\"#Вычислю-эффективность-на-обучающей-выборке-для-признака-rougher.output.recovery.\" data-toc-modified-id=\"Вычислю-эффективность-на-обучающей-выборке-для-признака-rougher.output.recovery.-1.3.1\"><span class=\"toc-item-num\">1.3.1&nbsp;&nbsp;</span>Вычислю эффективность на обучающей выборке для признака rougher.output.recovery.</a></span></li><li><span><a href=\"#Найду-MAE-между-моими-расчётами-и-значением-признака.-Опишу-выводы.\" data-toc-modified-id=\"Найду-MAE-между-моими-расчётами-и-значением-признака.-Опишу-выводы.-1.3.2\"><span class=\"toc-item-num\">1.3.2&nbsp;&nbsp;</span>Найду MAE между моими расчётами и значением признака. Опишу выводы.</a></span></li></ul></li><li><span><a href=\"#1.3.-Проанализирую-признаки,-недоступные-в-тестовой-выборке.\" data-toc-modified-id=\"1.3.-Проанализирую-признаки,-недоступные-в-тестовой-выборке.-1.4\"><span class=\"toc-item-num\">1.4&nbsp;&nbsp;</span>1.3. Проанализирую признаки, недоступные в тестовой выборке.</a></span></li><li><span><a href=\"#Проведу-предобработку-данных.\" data-toc-modified-id=\"Проведу-предобработку-данных.-1.5\"><span class=\"toc-item-num\">1.5&nbsp;&nbsp;</span>Проведу предобработку данных.</a></span></li></ul></li><li><span><a href=\"#Анализ-данных\" data-toc-modified-id=\"Анализ-данных-2\"><span class=\"toc-item-num\">2&nbsp;&nbsp;</span>Анализ данных</a></span><ul class=\"toc-item\"><li><span><a href=\"#Посмотрю,-как-меняется-концентрация-металлов-(Au,-Ag,-Pb)-на-различных-этапах-очистки.\" data-toc-modified-id=\"Посмотрю,-как-меняется-концентрация-металлов-(Au,-Ag,-Pb)-на-различных-этапах-очистки.-2.1\"><span class=\"toc-item-num\">2.1&nbsp;&nbsp;</span>Посмотрю, как меняется концентрация металлов (Au, Ag, Pb) на различных этапах очистки.</a></span></li><li><span><a href=\"#Сравню-распределения-размеров-гранул-сырья-на-обучающей-и-тестовой-выборках.-Если-распределения-сильно-отличаются-друг-от-друга,-оценка-модели-будет-неправильной.\" data-toc-modified-id=\"Сравню-распределения-размеров-гранул-сырья-на-обучающей-и-тестовой-выборках.-Если-распределения-сильно-отличаются-друг-от-друга,-оценка-модели-будет-неправильной.-2.2\"><span class=\"toc-item-num\">2.2&nbsp;&nbsp;</span>Сравню распределения размеров гранул сырья на обучающей и тестовой выборках. Если распределения сильно отличаются друг от друга, оценка модели будет неправильной.</a></span></li><li><span><a href=\"#Исследую-суммарную-концентрацию-всех-веществ-на-разных-стадиях:-в-сырье,-в-черновом-и-финальном-концентратах.\" data-toc-modified-id=\"Исследую-суммарную-концентрацию-всех-веществ-на-разных-стадиях:-в-сырье,-в-черновом-и-финальном-концентратах.-2.3\"><span class=\"toc-item-num\">2.3&nbsp;&nbsp;</span>Исследую суммарную концентрацию всех веществ на разных стадиях: в сырье, в черновом и финальном концентратах.</a></span></li></ul></li><li><span><a href=\"#Модель\" data-toc-modified-id=\"Модель-3\"><span class=\"toc-item-num\">3&nbsp;&nbsp;</span>Модель</a></span><ul class=\"toc-item\"><li><span><a href=\"#Напишу-функцию-для-вычисления-итоговой-метрики-sMAPE.\" data-toc-modified-id=\"Напишу-функцию-для-вычисления-итоговой-метрики-sMAPE.-3.1\"><span class=\"toc-item-num\">3.1&nbsp;&nbsp;</span>Напишу функцию для вычисления итоговой метрики sMAPE.</a></span></li><li><span><a href=\"#Обучу-разные-модели-и-оценю-их-качество-кросс-валидацией.\" data-toc-modified-id=\"Обучу-разные-модели-и-оценю-их-качество-кросс-валидацией.-3.2\"><span class=\"toc-item-num\">3.2&nbsp;&nbsp;</span>Обучу разные модели и оценю их качество кросс-валидацией.</a></span></li><li><span><a href=\"#Выберу-лучшую-модель\" data-toc-modified-id=\"Выберу-лучшую-модель-3.3\"><span class=\"toc-item-num\">3.3&nbsp;&nbsp;</span>Выберу лучшую модель</a></span><ul class=\"toc-item\"><li><span><a href=\"#Модель-линейной-регрессии\" data-toc-modified-id=\"Модель-линейной-регрессии-3.3.1\"><span class=\"toc-item-num\">3.3.1&nbsp;&nbsp;</span>Модель линейной регрессии</a></span></li><li><span><a href=\"#Модель-дерева-решений\" data-toc-modified-id=\"Модель-дерева-решений-3.3.2\"><span class=\"toc-item-num\">3.3.2&nbsp;&nbsp;</span>Модель дерева решений</a></span></li><li><span><a href=\"#Модель-случайного-леса\" data-toc-modified-id=\"Модель-случайного-леса-3.3.3\"><span class=\"toc-item-num\">3.3.3&nbsp;&nbsp;</span>Модель случайного леса</a></span></li><li><span><a href=\"#Сравню-метрику-с-константной-моделью.\" data-toc-modified-id=\"Сравню-метрику-с-константной-моделью.-3.3.4\"><span class=\"toc-item-num\">3.3.4&nbsp;&nbsp;</span>Сравню метрику с константной моделью.</a></span></li></ul></li></ul></li><li><span><a href=\"#Выводы.\" data-toc-modified-id=\"Выводы.-4\"><span class=\"toc-item-num\">4&nbsp;&nbsp;</span>Выводы.</a></span></li></ul></div>"
   ]
  },
  {
   "cell_type": "markdown",
   "metadata": {
    "id": "mLu_HaWWLStd"
   },
   "source": [
    "## Подготовка данных"
   ]
  },
  {
   "cell_type": "markdown",
   "metadata": {
    "id": "sfD3zOaaLStd"
   },
   "source": [
    "Импортирую библиотеки:"
   ]
  },
  {
   "cell_type": "code",
   "execution_count": 1,
   "metadata": {
    "executionInfo": {
     "elapsed": 2453,
     "status": "ok",
     "timestamp": 1626425997667,
     "user": {
      "displayName": "Олег Григорьев",
      "photoUrl": "https://lh3.googleusercontent.com/a-/AOh14GhNm-dmXKpZZKrIheB8d6EFQQw2LC_9Z46qpXKN5w=s64",
      "userId": "09817023023174291347"
     },
     "user_tz": -180
    },
    "id": "DnloGuyyLStd"
   },
   "outputs": [],
   "source": [
    "import pandas as pd\n",
    "import numpy as np\n",
    "import matplotlib.pyplot as plt\n",
    "from sklearn.metrics import mean_absolute_error\n",
    "from sklearn.metrics import mean_squared_error\n",
    "from sklearn.metrics import r2_score\n",
    "from sklearn.metrics import make_scorer\n",
    "from sklearn.linear_model import LinearRegression\n",
    "from sklearn.tree import DecisionTreeRegressor\n",
    "from sklearn.ensemble import RandomForestRegressor\n",
    "from sklearn.model_selection import train_test_split\n",
    "from sklearn.dummy import DummyRegressor\n",
    "from sklearn.model_selection import GridSearchCV\n",
    "\n",
    "#from sklearn.utils import shuffle\n",
    "#from scipy import stats as st\n",
    "#from numpy.random import RandomState"
   ]
  },
  {
   "cell_type": "code",
   "execution_count": 2,
   "metadata": {},
   "outputs": [],
   "source": [
    "import warnings # отключу уведомления\n",
    "warnings.filterwarnings(\"ignore\")"
   ]
  },
  {
   "cell_type": "markdown",
   "metadata": {
    "id": "hC_awJ4mLSte"
   },
   "source": [
    "### Открою файлы и изучу их."
   ]
  },
  {
   "cell_type": "markdown",
   "metadata": {
    "id": "oeFM9uI5LSte"
   },
   "source": [
    "Импортирую данные:"
   ]
  },
  {
   "cell_type": "code",
   "execution_count": 3,
   "metadata": {
    "executionInfo": {
     "elapsed": 2282,
     "status": "ok",
     "timestamp": 1626425999946,
     "user": {
      "displayName": "Олег Григорьев",
      "photoUrl": "https://lh3.googleusercontent.com/a-/AOh14GhNm-dmXKpZZKrIheB8d6EFQQw2LC_9Z46qpXKN5w=s64",
      "userId": "09817023023174291347"
     },
     "user_tz": -180
    },
    "id": "FvcEDwsaLStf"
   },
   "outputs": [],
   "source": [
    "df_train = pd.read_csv('/datasets/gold_recovery_train_new.csv')\n",
    "df_test = pd.read_csv('/datasets/gold_recovery_test_new.csv')\n",
    "df_full = pd.read_csv('/datasets/gold_recovery_full_new.csv')"
   ]
  },
  {
   "cell_type": "code",
   "execution_count": 4,
   "metadata": {
    "colab": {
     "base_uri": "https://localhost:8080/"
    },
    "executionInfo": {
     "elapsed": 633,
     "status": "ok",
     "timestamp": 1626426000569,
     "user": {
      "displayName": "Олег Григорьев",
      "photoUrl": "https://lh3.googleusercontent.com/a-/AOh14GhNm-dmXKpZZKrIheB8d6EFQQw2LC_9Z46qpXKN5w=s64",
      "userId": "09817023023174291347"
     },
     "user_tz": -180
    },
    "id": "yO0DH0XxLStf",
    "outputId": "7b54c32b-c1b6-4e1e-93ea-12df1a8e49a0",
    "scrolled": true
   },
   "outputs": [
    {
     "name": "stdout",
     "output_type": "stream",
     "text": [
      "-------------------- Датафрейм df_train --------------------\n",
      "\n",
      "Размеры датафрейма:\n",
      "(14149, 87)\n",
      "\n",
      "Типы и кол-во данных:\n",
      "<class 'pandas.core.frame.DataFrame'>\n",
      "RangeIndex: 14149 entries, 0 to 14148\n",
      "Data columns (total 87 columns):\n",
      "date                                                  14149 non-null object\n",
      "final.output.concentrate_ag                           14148 non-null float64\n",
      "final.output.concentrate_pb                           14148 non-null float64\n",
      "final.output.concentrate_sol                          13938 non-null float64\n",
      "final.output.concentrate_au                           14149 non-null float64\n",
      "final.output.recovery                                 14149 non-null float64\n",
      "final.output.tail_ag                                  14149 non-null float64\n",
      "final.output.tail_pb                                  14049 non-null float64\n",
      "final.output.tail_sol                                 14144 non-null float64\n",
      "final.output.tail_au                                  14149 non-null float64\n",
      "primary_cleaner.input.sulfate                         14129 non-null float64\n",
      "primary_cleaner.input.depressant                      14117 non-null float64\n",
      "primary_cleaner.input.feed_size                       14149 non-null float64\n",
      "primary_cleaner.input.xanthate                        14049 non-null float64\n",
      "primary_cleaner.output.concentrate_ag                 14149 non-null float64\n",
      "primary_cleaner.output.concentrate_pb                 14063 non-null float64\n",
      "primary_cleaner.output.concentrate_sol                13863 non-null float64\n",
      "primary_cleaner.output.concentrate_au                 14149 non-null float64\n",
      "primary_cleaner.output.tail_ag                        14148 non-null float64\n",
      "primary_cleaner.output.tail_pb                        14134 non-null float64\n",
      "primary_cleaner.output.tail_sol                       14103 non-null float64\n",
      "primary_cleaner.output.tail_au                        14149 non-null float64\n",
      "primary_cleaner.state.floatbank8_a_air                14145 non-null float64\n",
      "primary_cleaner.state.floatbank8_a_level              14148 non-null float64\n",
      "primary_cleaner.state.floatbank8_b_air                14145 non-null float64\n",
      "primary_cleaner.state.floatbank8_b_level              14148 non-null float64\n",
      "primary_cleaner.state.floatbank8_c_air                14147 non-null float64\n",
      "primary_cleaner.state.floatbank8_c_level              14148 non-null float64\n",
      "primary_cleaner.state.floatbank8_d_air                14146 non-null float64\n",
      "primary_cleaner.state.floatbank8_d_level              14148 non-null float64\n",
      "rougher.calculation.sulfate_to_au_concentrate         14148 non-null float64\n",
      "rougher.calculation.floatbank10_sulfate_to_au_feed    14148 non-null float64\n",
      "rougher.calculation.floatbank11_sulfate_to_au_feed    14148 non-null float64\n",
      "rougher.calculation.au_pb_ratio                       14149 non-null float64\n",
      "rougher.input.feed_ag                                 14149 non-null float64\n",
      "rougher.input.feed_pb                                 14049 non-null float64\n",
      "rougher.input.feed_rate                               14141 non-null float64\n",
      "rougher.input.feed_size                               14005 non-null float64\n",
      "rougher.input.feed_sol                                14071 non-null float64\n",
      "rougher.input.feed_au                                 14149 non-null float64\n",
      "rougher.input.floatbank10_sulfate                     14120 non-null float64\n",
      "rougher.input.floatbank10_xanthate                    14141 non-null float64\n",
      "rougher.input.floatbank11_sulfate                     14113 non-null float64\n",
      "rougher.input.floatbank11_xanthate                    13721 non-null float64\n",
      "rougher.output.concentrate_ag                         14149 non-null float64\n",
      "rougher.output.concentrate_pb                         14149 non-null float64\n",
      "rougher.output.concentrate_sol                        14127 non-null float64\n",
      "rougher.output.concentrate_au                         14149 non-null float64\n",
      "rougher.output.recovery                               14149 non-null float64\n",
      "rougher.output.tail_ag                                14148 non-null float64\n",
      "rougher.output.tail_pb                                14149 non-null float64\n",
      "rougher.output.tail_sol                               14149 non-null float64\n",
      "rougher.output.tail_au                                14149 non-null float64\n",
      "rougher.state.floatbank10_a_air                       14148 non-null float64\n",
      "rougher.state.floatbank10_a_level                     14148 non-null float64\n",
      "rougher.state.floatbank10_b_air                       14148 non-null float64\n",
      "rougher.state.floatbank10_b_level                     14148 non-null float64\n",
      "rougher.state.floatbank10_c_air                       14148 non-null float64\n",
      "rougher.state.floatbank10_c_level                     14148 non-null float64\n",
      "rougher.state.floatbank10_d_air                       14149 non-null float64\n",
      "rougher.state.floatbank10_d_level                     14149 non-null float64\n",
      "rougher.state.floatbank10_e_air                       13713 non-null float64\n",
      "rougher.state.floatbank10_e_level                     14149 non-null float64\n",
      "rougher.state.floatbank10_f_air                       14149 non-null float64\n",
      "rougher.state.floatbank10_f_level                     14149 non-null float64\n",
      "secondary_cleaner.output.tail_ag                      14147 non-null float64\n",
      "secondary_cleaner.output.tail_pb                      14139 non-null float64\n",
      "secondary_cleaner.output.tail_sol                     12544 non-null float64\n",
      "secondary_cleaner.output.tail_au                      14149 non-null float64\n",
      "secondary_cleaner.state.floatbank2_a_air              13932 non-null float64\n",
      "secondary_cleaner.state.floatbank2_a_level            14148 non-null float64\n",
      "secondary_cleaner.state.floatbank2_b_air              14128 non-null float64\n",
      "secondary_cleaner.state.floatbank2_b_level            14148 non-null float64\n",
      "secondary_cleaner.state.floatbank3_a_air              14145 non-null float64\n",
      "secondary_cleaner.state.floatbank3_a_level            14148 non-null float64\n",
      "secondary_cleaner.state.floatbank3_b_air              14148 non-null float64\n",
      "secondary_cleaner.state.floatbank3_b_level            14148 non-null float64\n",
      "secondary_cleaner.state.floatbank4_a_air              14143 non-null float64\n",
      "secondary_cleaner.state.floatbank4_a_level            14148 non-null float64\n",
      "secondary_cleaner.state.floatbank4_b_air              14148 non-null float64\n",
      "secondary_cleaner.state.floatbank4_b_level            14148 non-null float64\n",
      "secondary_cleaner.state.floatbank5_a_air              14148 non-null float64\n",
      "secondary_cleaner.state.floatbank5_a_level            14148 non-null float64\n",
      "secondary_cleaner.state.floatbank5_b_air              14148 non-null float64\n",
      "secondary_cleaner.state.floatbank5_b_level            14148 non-null float64\n",
      "secondary_cleaner.state.floatbank6_a_air              14147 non-null float64\n",
      "secondary_cleaner.state.floatbank6_a_level            14148 non-null float64\n",
      "dtypes: float64(86), object(1)\n",
      "memory usage: 9.4+ MB\n",
      "None\n",
      "\n",
      "Пропущенные значения:\n",
      "date                                            0\n",
      "final.output.concentrate_ag                     1\n",
      "final.output.concentrate_pb                     1\n",
      "final.output.concentrate_sol                  211\n",
      "final.output.concentrate_au                     0\n",
      "                                             ... \n",
      "secondary_cleaner.state.floatbank5_a_level      1\n",
      "secondary_cleaner.state.floatbank5_b_air        1\n",
      "secondary_cleaner.state.floatbank5_b_level      1\n",
      "secondary_cleaner.state.floatbank6_a_air        2\n",
      "secondary_cleaner.state.floatbank6_a_level      1\n",
      "Length: 87, dtype: int64\n",
      "\n",
      "-------------------- Датафрейм df_test --------------------\n",
      "\n",
      "Размеры датафрейма:\n",
      "(5290, 53)\n",
      "\n",
      "Типы и кол-во данных:\n",
      "<class 'pandas.core.frame.DataFrame'>\n",
      "RangeIndex: 5290 entries, 0 to 5289\n",
      "Data columns (total 53 columns):\n",
      "date                                          5290 non-null object\n",
      "primary_cleaner.input.sulfate                 5286 non-null float64\n",
      "primary_cleaner.input.depressant              5285 non-null float64\n",
      "primary_cleaner.input.feed_size               5290 non-null float64\n",
      "primary_cleaner.input.xanthate                5286 non-null float64\n",
      "primary_cleaner.state.floatbank8_a_air        5290 non-null float64\n",
      "primary_cleaner.state.floatbank8_a_level      5290 non-null float64\n",
      "primary_cleaner.state.floatbank8_b_air        5290 non-null float64\n",
      "primary_cleaner.state.floatbank8_b_level      5290 non-null float64\n",
      "primary_cleaner.state.floatbank8_c_air        5290 non-null float64\n",
      "primary_cleaner.state.floatbank8_c_level      5290 non-null float64\n",
      "primary_cleaner.state.floatbank8_d_air        5290 non-null float64\n",
      "primary_cleaner.state.floatbank8_d_level      5290 non-null float64\n",
      "rougher.input.feed_ag                         5290 non-null float64\n",
      "rougher.input.feed_pb                         5290 non-null float64\n",
      "rougher.input.feed_rate                       5287 non-null float64\n",
      "rougher.input.feed_size                       5289 non-null float64\n",
      "rougher.input.feed_sol                        5269 non-null float64\n",
      "rougher.input.feed_au                         5290 non-null float64\n",
      "rougher.input.floatbank10_sulfate             5285 non-null float64\n",
      "rougher.input.floatbank10_xanthate            5290 non-null float64\n",
      "rougher.input.floatbank11_sulfate             5282 non-null float64\n",
      "rougher.input.floatbank11_xanthate            5265 non-null float64\n",
      "rougher.state.floatbank10_a_air               5290 non-null float64\n",
      "rougher.state.floatbank10_a_level             5290 non-null float64\n",
      "rougher.state.floatbank10_b_air               5290 non-null float64\n",
      "rougher.state.floatbank10_b_level             5290 non-null float64\n",
      "rougher.state.floatbank10_c_air               5290 non-null float64\n",
      "rougher.state.floatbank10_c_level             5290 non-null float64\n",
      "rougher.state.floatbank10_d_air               5290 non-null float64\n",
      "rougher.state.floatbank10_d_level             5290 non-null float64\n",
      "rougher.state.floatbank10_e_air               5290 non-null float64\n",
      "rougher.state.floatbank10_e_level             5290 non-null float64\n",
      "rougher.state.floatbank10_f_air               5290 non-null float64\n",
      "rougher.state.floatbank10_f_level             5290 non-null float64\n",
      "secondary_cleaner.state.floatbank2_a_air      5287 non-null float64\n",
      "secondary_cleaner.state.floatbank2_a_level    5290 non-null float64\n",
      "secondary_cleaner.state.floatbank2_b_air      5288 non-null float64\n",
      "secondary_cleaner.state.floatbank2_b_level    5290 non-null float64\n",
      "secondary_cleaner.state.floatbank3_a_air      5281 non-null float64\n",
      "secondary_cleaner.state.floatbank3_a_level    5290 non-null float64\n",
      "secondary_cleaner.state.floatbank3_b_air      5290 non-null float64\n",
      "secondary_cleaner.state.floatbank3_b_level    5290 non-null float64\n",
      "secondary_cleaner.state.floatbank4_a_air      5290 non-null float64\n",
      "secondary_cleaner.state.floatbank4_a_level    5290 non-null float64\n",
      "secondary_cleaner.state.floatbank4_b_air      5290 non-null float64\n",
      "secondary_cleaner.state.floatbank4_b_level    5290 non-null float64\n",
      "secondary_cleaner.state.floatbank5_a_air      5290 non-null float64\n",
      "secondary_cleaner.state.floatbank5_a_level    5290 non-null float64\n",
      "secondary_cleaner.state.floatbank5_b_air      5290 non-null float64\n",
      "secondary_cleaner.state.floatbank5_b_level    5290 non-null float64\n",
      "secondary_cleaner.state.floatbank6_a_air      5290 non-null float64\n",
      "secondary_cleaner.state.floatbank6_a_level    5290 non-null float64\n",
      "dtypes: float64(52), object(1)\n",
      "memory usage: 2.1+ MB\n",
      "None\n",
      "\n",
      "Пропущенные значения:\n",
      "date                                           0\n",
      "primary_cleaner.input.sulfate                  4\n",
      "primary_cleaner.input.depressant               5\n",
      "primary_cleaner.input.feed_size                0\n",
      "primary_cleaner.input.xanthate                 4\n",
      "primary_cleaner.state.floatbank8_a_air         0\n",
      "primary_cleaner.state.floatbank8_a_level       0\n",
      "primary_cleaner.state.floatbank8_b_air         0\n",
      "primary_cleaner.state.floatbank8_b_level       0\n",
      "primary_cleaner.state.floatbank8_c_air         0\n",
      "primary_cleaner.state.floatbank8_c_level       0\n",
      "primary_cleaner.state.floatbank8_d_air         0\n",
      "primary_cleaner.state.floatbank8_d_level       0\n",
      "rougher.input.feed_ag                          0\n",
      "rougher.input.feed_pb                          0\n",
      "rougher.input.feed_rate                        3\n",
      "rougher.input.feed_size                        1\n",
      "rougher.input.feed_sol                        21\n",
      "rougher.input.feed_au                          0\n",
      "rougher.input.floatbank10_sulfate              5\n",
      "rougher.input.floatbank10_xanthate             0\n",
      "rougher.input.floatbank11_sulfate              8\n",
      "rougher.input.floatbank11_xanthate            25\n",
      "rougher.state.floatbank10_a_air                0\n",
      "rougher.state.floatbank10_a_level              0\n",
      "rougher.state.floatbank10_b_air                0\n",
      "rougher.state.floatbank10_b_level              0\n",
      "rougher.state.floatbank10_c_air                0\n",
      "rougher.state.floatbank10_c_level              0\n",
      "rougher.state.floatbank10_d_air                0\n",
      "rougher.state.floatbank10_d_level              0\n",
      "rougher.state.floatbank10_e_air                0\n",
      "rougher.state.floatbank10_e_level              0\n",
      "rougher.state.floatbank10_f_air                0\n",
      "rougher.state.floatbank10_f_level              0\n",
      "secondary_cleaner.state.floatbank2_a_air       3\n",
      "secondary_cleaner.state.floatbank2_a_level     0\n",
      "secondary_cleaner.state.floatbank2_b_air       2\n",
      "secondary_cleaner.state.floatbank2_b_level     0\n",
      "secondary_cleaner.state.floatbank3_a_air       9\n",
      "secondary_cleaner.state.floatbank3_a_level     0\n",
      "secondary_cleaner.state.floatbank3_b_air       0\n",
      "secondary_cleaner.state.floatbank3_b_level     0\n",
      "secondary_cleaner.state.floatbank4_a_air       0\n",
      "secondary_cleaner.state.floatbank4_a_level     0\n",
      "secondary_cleaner.state.floatbank4_b_air       0\n",
      "secondary_cleaner.state.floatbank4_b_level     0\n",
      "secondary_cleaner.state.floatbank5_a_air       0\n",
      "secondary_cleaner.state.floatbank5_a_level     0\n",
      "secondary_cleaner.state.floatbank5_b_air       0\n",
      "secondary_cleaner.state.floatbank5_b_level     0\n",
      "secondary_cleaner.state.floatbank6_a_air       0\n",
      "secondary_cleaner.state.floatbank6_a_level     0\n",
      "dtype: int64\n",
      "\n",
      "-------------------- Датафрейм df_full --------------------\n",
      "\n",
      "Размеры датафрейма:\n",
      "(19439, 87)\n",
      "\n",
      "Типы и кол-во данных:\n",
      "<class 'pandas.core.frame.DataFrame'>\n",
      "RangeIndex: 19439 entries, 0 to 19438\n",
      "Data columns (total 87 columns):\n",
      "date                                                  19439 non-null object\n",
      "final.output.concentrate_ag                           19438 non-null float64\n",
      "final.output.concentrate_pb                           19438 non-null float64\n",
      "final.output.concentrate_sol                          19228 non-null float64\n",
      "final.output.concentrate_au                           19439 non-null float64\n",
      "final.output.recovery                                 19439 non-null float64\n",
      "final.output.tail_ag                                  19438 non-null float64\n",
      "final.output.tail_pb                                  19338 non-null float64\n",
      "final.output.tail_sol                                 19433 non-null float64\n",
      "final.output.tail_au                                  19439 non-null float64\n",
      "primary_cleaner.input.sulfate                         19415 non-null float64\n",
      "primary_cleaner.input.depressant                      19402 non-null float64\n",
      "primary_cleaner.input.feed_size                       19439 non-null float64\n",
      "primary_cleaner.input.xanthate                        19335 non-null float64\n",
      "primary_cleaner.output.concentrate_ag                 19439 non-null float64\n",
      "primary_cleaner.output.concentrate_pb                 19323 non-null float64\n",
      "primary_cleaner.output.concentrate_sol                19069 non-null float64\n",
      "primary_cleaner.output.concentrate_au                 19439 non-null float64\n",
      "primary_cleaner.output.tail_ag                        19435 non-null float64\n",
      "primary_cleaner.output.tail_pb                        19418 non-null float64\n",
      "primary_cleaner.output.tail_sol                       19377 non-null float64\n",
      "primary_cleaner.output.tail_au                        19439 non-null float64\n",
      "primary_cleaner.state.floatbank8_a_air                19435 non-null float64\n",
      "primary_cleaner.state.floatbank8_a_level              19438 non-null float64\n",
      "primary_cleaner.state.floatbank8_b_air                19435 non-null float64\n",
      "primary_cleaner.state.floatbank8_b_level              19438 non-null float64\n",
      "primary_cleaner.state.floatbank8_c_air                19437 non-null float64\n",
      "primary_cleaner.state.floatbank8_c_level              19438 non-null float64\n",
      "primary_cleaner.state.floatbank8_d_air                19436 non-null float64\n",
      "primary_cleaner.state.floatbank8_d_level              19438 non-null float64\n",
      "rougher.calculation.sulfate_to_au_concentrate         19437 non-null float64\n",
      "rougher.calculation.floatbank10_sulfate_to_au_feed    19437 non-null float64\n",
      "rougher.calculation.floatbank11_sulfate_to_au_feed    19437 non-null float64\n",
      "rougher.calculation.au_pb_ratio                       19439 non-null float64\n",
      "rougher.input.feed_ag                                 19439 non-null float64\n",
      "rougher.input.feed_pb                                 19339 non-null float64\n",
      "rougher.input.feed_rate                               19428 non-null float64\n",
      "rougher.input.feed_size                               19294 non-null float64\n",
      "rougher.input.feed_sol                                19340 non-null float64\n",
      "rougher.input.feed_au                                 19439 non-null float64\n",
      "rougher.input.floatbank10_sulfate                     19405 non-null float64\n",
      "rougher.input.floatbank10_xanthate                    19431 non-null float64\n",
      "rougher.input.floatbank11_sulfate                     19395 non-null float64\n",
      "rougher.input.floatbank11_xanthate                    18986 non-null float64\n",
      "rougher.output.concentrate_ag                         19439 non-null float64\n",
      "rougher.output.concentrate_pb                         19439 non-null float64\n",
      "rougher.output.concentrate_sol                        19416 non-null float64\n",
      "rougher.output.concentrate_au                         19439 non-null float64\n",
      "rougher.output.recovery                               19439 non-null float64\n",
      "rougher.output.tail_ag                                19438 non-null float64\n",
      "rougher.output.tail_pb                                19439 non-null float64\n",
      "rougher.output.tail_sol                               19439 non-null float64\n",
      "rougher.output.tail_au                                19439 non-null float64\n",
      "rougher.state.floatbank10_a_air                       19438 non-null float64\n",
      "rougher.state.floatbank10_a_level                     19438 non-null float64\n",
      "rougher.state.floatbank10_b_air                       19438 non-null float64\n",
      "rougher.state.floatbank10_b_level                     19438 non-null float64\n",
      "rougher.state.floatbank10_c_air                       19438 non-null float64\n",
      "rougher.state.floatbank10_c_level                     19438 non-null float64\n",
      "rougher.state.floatbank10_d_air                       19439 non-null float64\n",
      "rougher.state.floatbank10_d_level                     19439 non-null float64\n",
      "rougher.state.floatbank10_e_air                       19003 non-null float64\n",
      "rougher.state.floatbank10_e_level                     19439 non-null float64\n",
      "rougher.state.floatbank10_f_air                       19439 non-null float64\n",
      "rougher.state.floatbank10_f_level                     19439 non-null float64\n",
      "secondary_cleaner.output.tail_ag                      19437 non-null float64\n",
      "secondary_cleaner.output.tail_pb                      19427 non-null float64\n",
      "secondary_cleaner.output.tail_sol                     17691 non-null float64\n",
      "secondary_cleaner.output.tail_au                      19439 non-null float64\n",
      "secondary_cleaner.state.floatbank2_a_air              19219 non-null float64\n",
      "secondary_cleaner.state.floatbank2_a_level            19438 non-null float64\n",
      "secondary_cleaner.state.floatbank2_b_air              19416 non-null float64\n",
      "secondary_cleaner.state.floatbank2_b_level            19438 non-null float64\n",
      "secondary_cleaner.state.floatbank3_a_air              19426 non-null float64\n",
      "secondary_cleaner.state.floatbank3_a_level            19438 non-null float64\n",
      "secondary_cleaner.state.floatbank3_b_air              19438 non-null float64\n",
      "secondary_cleaner.state.floatbank3_b_level            19438 non-null float64\n",
      "secondary_cleaner.state.floatbank4_a_air              19433 non-null float64\n",
      "secondary_cleaner.state.floatbank4_a_level            19438 non-null float64\n",
      "secondary_cleaner.state.floatbank4_b_air              19438 non-null float64\n",
      "secondary_cleaner.state.floatbank4_b_level            19438 non-null float64\n",
      "secondary_cleaner.state.floatbank5_a_air              19438 non-null float64\n",
      "secondary_cleaner.state.floatbank5_a_level            19438 non-null float64\n",
      "secondary_cleaner.state.floatbank5_b_air              19438 non-null float64\n",
      "secondary_cleaner.state.floatbank5_b_level            19438 non-null float64\n",
      "secondary_cleaner.state.floatbank6_a_air              19437 non-null float64\n",
      "secondary_cleaner.state.floatbank6_a_level            19438 non-null float64\n",
      "dtypes: float64(86), object(1)\n",
      "memory usage: 12.9+ MB\n",
      "None\n",
      "\n",
      "Пропущенные значения:\n",
      "date                                            0\n",
      "final.output.concentrate_ag                     1\n",
      "final.output.concentrate_pb                     1\n",
      "final.output.concentrate_sol                  211\n",
      "final.output.concentrate_au                     0\n",
      "                                             ... \n",
      "secondary_cleaner.state.floatbank5_a_level      1\n",
      "secondary_cleaner.state.floatbank5_b_air        1\n",
      "secondary_cleaner.state.floatbank5_b_level      1\n",
      "secondary_cleaner.state.floatbank6_a_air        2\n",
      "secondary_cleaner.state.floatbank6_a_level      1\n",
      "Length: 87, dtype: int64\n",
      "\n"
     ]
    }
   ],
   "source": [
    "names = ['df_train', 'df_test', 'df_full']\n",
    "count = 0\n",
    "for df in [df_train, df_test, df_full]:\n",
    "  print('-------------------- Датафрейм', names[count], '--------------------')\n",
    "  count += 1\n",
    "  print()\n",
    "  print('Размеры датафрейма:')\n",
    "  print(df.shape)\n",
    "  print()\n",
    "  print('Типы и кол-во данных:')\n",
    "  print(df.info())\n",
    "  print()\n",
    "  print('Пропущенные значения:')\n",
    "  print(df.isna().sum())\n",
    "  print()"
   ]
  },
  {
   "cell_type": "code",
   "execution_count": 5,
   "metadata": {
    "colab": {
     "base_uri": "https://localhost:8080/",
     "height": 0
    },
    "executionInfo": {
     "elapsed": 21,
     "status": "ok",
     "timestamp": 1626426000571,
     "user": {
      "displayName": "Олег Григорьев",
      "photoUrl": "https://lh3.googleusercontent.com/a-/AOh14GhNm-dmXKpZZKrIheB8d6EFQQw2LC_9Z46qpXKN5w=s64",
      "userId": "09817023023174291347"
     },
     "user_tz": -180
    },
    "id": "HzfcXITyLStg",
    "outputId": "7c4c34e1-976b-4868-83ec-3a9a561bab81"
   },
   "outputs": [
    {
     "data": {
      "text/html": [
       "<div>\n",
       "<style scoped>\n",
       "    .dataframe tbody tr th:only-of-type {\n",
       "        vertical-align: middle;\n",
       "    }\n",
       "\n",
       "    .dataframe tbody tr th {\n",
       "        vertical-align: top;\n",
       "    }\n",
       "\n",
       "    .dataframe thead th {\n",
       "        text-align: right;\n",
       "    }\n",
       "</style>\n",
       "<table border=\"1\" class=\"dataframe\">\n",
       "  <thead>\n",
       "    <tr style=\"text-align: right;\">\n",
       "      <th></th>\n",
       "      <th>date</th>\n",
       "      <th>final.output.concentrate_ag</th>\n",
       "      <th>final.output.concentrate_pb</th>\n",
       "      <th>final.output.concentrate_sol</th>\n",
       "      <th>final.output.concentrate_au</th>\n",
       "      <th>final.output.recovery</th>\n",
       "      <th>final.output.tail_ag</th>\n",
       "      <th>final.output.tail_pb</th>\n",
       "      <th>final.output.tail_sol</th>\n",
       "      <th>final.output.tail_au</th>\n",
       "      <th>...</th>\n",
       "      <th>secondary_cleaner.state.floatbank4_a_air</th>\n",
       "      <th>secondary_cleaner.state.floatbank4_a_level</th>\n",
       "      <th>secondary_cleaner.state.floatbank4_b_air</th>\n",
       "      <th>secondary_cleaner.state.floatbank4_b_level</th>\n",
       "      <th>secondary_cleaner.state.floatbank5_a_air</th>\n",
       "      <th>secondary_cleaner.state.floatbank5_a_level</th>\n",
       "      <th>secondary_cleaner.state.floatbank5_b_air</th>\n",
       "      <th>secondary_cleaner.state.floatbank5_b_level</th>\n",
       "      <th>secondary_cleaner.state.floatbank6_a_air</th>\n",
       "      <th>secondary_cleaner.state.floatbank6_a_level</th>\n",
       "    </tr>\n",
       "  </thead>\n",
       "  <tbody>\n",
       "    <tr>\n",
       "      <td>0</td>\n",
       "      <td>2016-01-15 00:00:00</td>\n",
       "      <td>6.055403</td>\n",
       "      <td>9.889648</td>\n",
       "      <td>5.507324</td>\n",
       "      <td>42.192020</td>\n",
       "      <td>70.541216</td>\n",
       "      <td>10.411962</td>\n",
       "      <td>0.895447</td>\n",
       "      <td>16.904297</td>\n",
       "      <td>2.143149</td>\n",
       "      <td>...</td>\n",
       "      <td>14.016835</td>\n",
       "      <td>-502.488007</td>\n",
       "      <td>12.099931</td>\n",
       "      <td>-504.715942</td>\n",
       "      <td>9.925633</td>\n",
       "      <td>-498.310211</td>\n",
       "      <td>8.079666</td>\n",
       "      <td>-500.470978</td>\n",
       "      <td>14.151341</td>\n",
       "      <td>-605.841980</td>\n",
       "    </tr>\n",
       "    <tr>\n",
       "      <td>1</td>\n",
       "      <td>2016-01-15 01:00:00</td>\n",
       "      <td>6.029369</td>\n",
       "      <td>9.968944</td>\n",
       "      <td>5.257781</td>\n",
       "      <td>42.701629</td>\n",
       "      <td>69.266198</td>\n",
       "      <td>10.462676</td>\n",
       "      <td>0.927452</td>\n",
       "      <td>16.634514</td>\n",
       "      <td>2.224930</td>\n",
       "      <td>...</td>\n",
       "      <td>13.992281</td>\n",
       "      <td>-505.503262</td>\n",
       "      <td>11.950531</td>\n",
       "      <td>-501.331529</td>\n",
       "      <td>10.039245</td>\n",
       "      <td>-500.169983</td>\n",
       "      <td>7.984757</td>\n",
       "      <td>-500.582168</td>\n",
       "      <td>13.998353</td>\n",
       "      <td>-599.787184</td>\n",
       "    </tr>\n",
       "    <tr>\n",
       "      <td>2</td>\n",
       "      <td>2016-01-15 02:00:00</td>\n",
       "      <td>6.055926</td>\n",
       "      <td>10.213995</td>\n",
       "      <td>5.383759</td>\n",
       "      <td>42.657501</td>\n",
       "      <td>68.116445</td>\n",
       "      <td>10.507046</td>\n",
       "      <td>0.953716</td>\n",
       "      <td>16.208849</td>\n",
       "      <td>2.257889</td>\n",
       "      <td>...</td>\n",
       "      <td>14.015015</td>\n",
       "      <td>-502.520901</td>\n",
       "      <td>11.912783</td>\n",
       "      <td>-501.133383</td>\n",
       "      <td>10.070913</td>\n",
       "      <td>-500.129135</td>\n",
       "      <td>8.013877</td>\n",
       "      <td>-500.517572</td>\n",
       "      <td>14.028663</td>\n",
       "      <td>-601.427363</td>\n",
       "    </tr>\n",
       "    <tr>\n",
       "      <td>3</td>\n",
       "      <td>2016-01-15 03:00:00</td>\n",
       "      <td>6.047977</td>\n",
       "      <td>9.977019</td>\n",
       "      <td>4.858634</td>\n",
       "      <td>42.689819</td>\n",
       "      <td>68.347543</td>\n",
       "      <td>10.422762</td>\n",
       "      <td>0.883763</td>\n",
       "      <td>16.532835</td>\n",
       "      <td>2.146849</td>\n",
       "      <td>...</td>\n",
       "      <td>14.036510</td>\n",
       "      <td>-500.857308</td>\n",
       "      <td>11.999550</td>\n",
       "      <td>-501.193686</td>\n",
       "      <td>9.970366</td>\n",
       "      <td>-499.201640</td>\n",
       "      <td>7.977324</td>\n",
       "      <td>-500.255908</td>\n",
       "      <td>14.005551</td>\n",
       "      <td>-599.996129</td>\n",
       "    </tr>\n",
       "    <tr>\n",
       "      <td>4</td>\n",
       "      <td>2016-01-15 04:00:00</td>\n",
       "      <td>6.148599</td>\n",
       "      <td>10.142511</td>\n",
       "      <td>4.939416</td>\n",
       "      <td>42.774141</td>\n",
       "      <td>66.927016</td>\n",
       "      <td>10.360302</td>\n",
       "      <td>0.792826</td>\n",
       "      <td>16.525686</td>\n",
       "      <td>2.055292</td>\n",
       "      <td>...</td>\n",
       "      <td>14.027298</td>\n",
       "      <td>-499.838632</td>\n",
       "      <td>11.953070</td>\n",
       "      <td>-501.053894</td>\n",
       "      <td>9.925709</td>\n",
       "      <td>-501.686727</td>\n",
       "      <td>7.894242</td>\n",
       "      <td>-500.356035</td>\n",
       "      <td>13.996647</td>\n",
       "      <td>-601.496691</td>\n",
       "    </tr>\n",
       "  </tbody>\n",
       "</table>\n",
       "<p>5 rows × 87 columns</p>\n",
       "</div>"
      ],
      "text/plain": [
       "                  date  final.output.concentrate_ag  \\\n",
       "0  2016-01-15 00:00:00                     6.055403   \n",
       "1  2016-01-15 01:00:00                     6.029369   \n",
       "2  2016-01-15 02:00:00                     6.055926   \n",
       "3  2016-01-15 03:00:00                     6.047977   \n",
       "4  2016-01-15 04:00:00                     6.148599   \n",
       "\n",
       "   final.output.concentrate_pb  final.output.concentrate_sol  \\\n",
       "0                     9.889648                      5.507324   \n",
       "1                     9.968944                      5.257781   \n",
       "2                    10.213995                      5.383759   \n",
       "3                     9.977019                      4.858634   \n",
       "4                    10.142511                      4.939416   \n",
       "\n",
       "   final.output.concentrate_au  final.output.recovery  final.output.tail_ag  \\\n",
       "0                    42.192020              70.541216             10.411962   \n",
       "1                    42.701629              69.266198             10.462676   \n",
       "2                    42.657501              68.116445             10.507046   \n",
       "3                    42.689819              68.347543             10.422762   \n",
       "4                    42.774141              66.927016             10.360302   \n",
       "\n",
       "   final.output.tail_pb  final.output.tail_sol  final.output.tail_au  ...  \\\n",
       "0              0.895447              16.904297              2.143149  ...   \n",
       "1              0.927452              16.634514              2.224930  ...   \n",
       "2              0.953716              16.208849              2.257889  ...   \n",
       "3              0.883763              16.532835              2.146849  ...   \n",
       "4              0.792826              16.525686              2.055292  ...   \n",
       "\n",
       "   secondary_cleaner.state.floatbank4_a_air  \\\n",
       "0                                 14.016835   \n",
       "1                                 13.992281   \n",
       "2                                 14.015015   \n",
       "3                                 14.036510   \n",
       "4                                 14.027298   \n",
       "\n",
       "   secondary_cleaner.state.floatbank4_a_level  \\\n",
       "0                                 -502.488007   \n",
       "1                                 -505.503262   \n",
       "2                                 -502.520901   \n",
       "3                                 -500.857308   \n",
       "4                                 -499.838632   \n",
       "\n",
       "   secondary_cleaner.state.floatbank4_b_air  \\\n",
       "0                                 12.099931   \n",
       "1                                 11.950531   \n",
       "2                                 11.912783   \n",
       "3                                 11.999550   \n",
       "4                                 11.953070   \n",
       "\n",
       "   secondary_cleaner.state.floatbank4_b_level  \\\n",
       "0                                 -504.715942   \n",
       "1                                 -501.331529   \n",
       "2                                 -501.133383   \n",
       "3                                 -501.193686   \n",
       "4                                 -501.053894   \n",
       "\n",
       "   secondary_cleaner.state.floatbank5_a_air  \\\n",
       "0                                  9.925633   \n",
       "1                                 10.039245   \n",
       "2                                 10.070913   \n",
       "3                                  9.970366   \n",
       "4                                  9.925709   \n",
       "\n",
       "   secondary_cleaner.state.floatbank5_a_level  \\\n",
       "0                                 -498.310211   \n",
       "1                                 -500.169983   \n",
       "2                                 -500.129135   \n",
       "3                                 -499.201640   \n",
       "4                                 -501.686727   \n",
       "\n",
       "   secondary_cleaner.state.floatbank5_b_air  \\\n",
       "0                                  8.079666   \n",
       "1                                  7.984757   \n",
       "2                                  8.013877   \n",
       "3                                  7.977324   \n",
       "4                                  7.894242   \n",
       "\n",
       "   secondary_cleaner.state.floatbank5_b_level  \\\n",
       "0                                 -500.470978   \n",
       "1                                 -500.582168   \n",
       "2                                 -500.517572   \n",
       "3                                 -500.255908   \n",
       "4                                 -500.356035   \n",
       "\n",
       "   secondary_cleaner.state.floatbank6_a_air  \\\n",
       "0                                 14.151341   \n",
       "1                                 13.998353   \n",
       "2                                 14.028663   \n",
       "3                                 14.005551   \n",
       "4                                 13.996647   \n",
       "\n",
       "   secondary_cleaner.state.floatbank6_a_level  \n",
       "0                                 -605.841980  \n",
       "1                                 -599.787184  \n",
       "2                                 -601.427363  \n",
       "3                                 -599.996129  \n",
       "4                                 -601.496691  \n",
       "\n",
       "[5 rows x 87 columns]"
      ]
     },
     "execution_count": 5,
     "metadata": {},
     "output_type": "execute_result"
    }
   ],
   "source": [
    "df_train.head(5)"
   ]
  },
  {
   "cell_type": "markdown",
   "metadata": {
    "id": "YjupuUn_LStg"
   },
   "source": [
    "### Подготовлю данные"
   ]
  },
  {
   "cell_type": "markdown",
   "metadata": {
    "id": "qDDEvTzzLSth"
   },
   "source": [
    "Преобразую тип данных в колонках 'date' из object в datetime:"
   ]
  },
  {
   "cell_type": "code",
   "execution_count": 6,
   "metadata": {
    "executionInfo": {
     "elapsed": 19,
     "status": "ok",
     "timestamp": 1626426000572,
     "user": {
      "displayName": "Олег Григорьев",
      "photoUrl": "https://lh3.googleusercontent.com/a-/AOh14GhNm-dmXKpZZKrIheB8d6EFQQw2LC_9Z46qpXKN5w=s64",
      "userId": "09817023023174291347"
     },
     "user_tz": -180
    },
    "id": "D8jr0OiWLSth"
   },
   "outputs": [],
   "source": [
    "df_train['date'] = pd.to_datetime(df_train['date'])\n",
    "df_test['date'] = pd.to_datetime(df_test['date'])\n",
    "df_full['date'] = pd.to_datetime(df_full['date'])"
   ]
  },
  {
   "cell_type": "code",
   "execution_count": 7,
   "metadata": {
    "colab": {
     "base_uri": "https://localhost:8080/"
    },
    "executionInfo": {
     "elapsed": 19,
     "status": "ok",
     "timestamp": 1626426000573,
     "user": {
      "displayName": "Олег Григорьев",
      "photoUrl": "https://lh3.googleusercontent.com/a-/AOh14GhNm-dmXKpZZKrIheB8d6EFQQw2LC_9Z46qpXKN5w=s64",
      "userId": "09817023023174291347"
     },
     "user_tz": -180
    },
    "id": "pylpWgY828Zt",
    "outputId": "24e2dc5a-c76f-417a-9703-264c687f3cbb"
   },
   "outputs": [
    {
     "name": "stdout",
     "output_type": "stream",
     "text": [
      "datetime64[ns]\n",
      "datetime64[ns]\n",
      "datetime64[ns]\n"
     ]
    }
   ],
   "source": [
    "print(df_train['date'].dtypes)\n",
    "print(df_test['date'].dtypes)\n",
    "print(df_full['date'].dtypes)"
   ]
  },
  {
   "cell_type": "markdown",
   "metadata": {
    "id": "d8NC5IbuLSth"
   },
   "source": [
    "Заполню пропуски:"
   ]
  },
  {
   "cell_type": "code",
   "execution_count": 8,
   "metadata": {
    "executionInfo": {
     "elapsed": 19,
     "status": "ok",
     "timestamp": 1626426000577,
     "user": {
      "displayName": "Олег Григорьев",
      "photoUrl": "https://lh3.googleusercontent.com/a-/AOh14GhNm-dmXKpZZKrIheB8d6EFQQw2LC_9Z46qpXKN5w=s64",
      "userId": "09817023023174291347"
     },
     "user_tz": -180
    },
    "id": "jitS83QOLSth"
   },
   "outputs": [],
   "source": [
    "for df in [df_train, df_test, df_full]:\n",
    "    df.ffill(inplace=True)"
   ]
  },
  {
   "cell_type": "markdown",
   "metadata": {
    "id": "sEh4xmN9LSti"
   },
   "source": [
    "Проверю, не осталось ли пропущенных значений:"
   ]
  },
  {
   "cell_type": "code",
   "execution_count": 9,
   "metadata": {
    "colab": {
     "base_uri": "https://localhost:8080/"
    },
    "executionInfo": {
     "elapsed": 20,
     "status": "ok",
     "timestamp": 1626426000578,
     "user": {
      "displayName": "Олег Григорьев",
      "photoUrl": "https://lh3.googleusercontent.com/a-/AOh14GhNm-dmXKpZZKrIheB8d6EFQQw2LC_9Z46qpXKN5w=s64",
      "userId": "09817023023174291347"
     },
     "user_tz": -180
    },
    "id": "epZ9AMvPLSti",
    "outputId": "e4310b43-ce12-4f70-88fc-bc0c11151097"
   },
   "outputs": [
    {
     "name": "stdout",
     "output_type": "stream",
     "text": [
      "0\n",
      "0\n",
      "0\n"
     ]
    }
   ],
   "source": [
    "for df in [df_train, df_test, df_full]:\n",
    "    print(df.isna().sum().reset_index()[0].sum())"
   ]
  },
  {
   "cell_type": "code",
   "execution_count": 10,
   "metadata": {
    "colab": {
     "base_uri": "https://localhost:8080/"
    },
    "executionInfo": {
     "elapsed": 300,
     "status": "ok",
     "timestamp": 1626426000861,
     "user": {
      "displayName": "Олег Григорьев",
      "photoUrl": "https://lh3.googleusercontent.com/a-/AOh14GhNm-dmXKpZZKrIheB8d6EFQQw2LC_9Z46qpXKN5w=s64",
      "userId": "09817023023174291347"
     },
     "user_tz": -180
    },
    "id": "0k1vbTDN6IL9",
    "outputId": "5ec3ac1d-e731-411f-a9e5-ff62ac4af437"
   },
   "outputs": [
    {
     "name": "stdout",
     "output_type": "stream",
     "text": [
      "0\n",
      "0\n",
      "0\n"
     ]
    }
   ],
   "source": [
    "for df in [df_train, df_test, df_full]:\n",
    "    print(df.duplicated().sum())"
   ]
  },
  {
   "cell_type": "markdown",
   "metadata": {
    "id": "WoCrS3b16TSL"
   },
   "source": [
    "Пропущенных значений и дубликатов после подготовки данных нет."
   ]
  },
  {
   "cell_type": "markdown",
   "metadata": {
    "id": "y9s9wo3yLSti"
   },
   "source": [
    "### Проверю, что эффективность обогащения рассчитана правильно."
   ]
  },
  {
   "cell_type": "markdown",
   "metadata": {
    "id": "oWUYO8yfLStk"
   },
   "source": [
    "#### Вычислю эффективность на обучающей выборке для признака rougher.output.recovery.  "
   ]
  },
  {
   "cell_type": "code",
   "execution_count": 11,
   "metadata": {
    "colab": {
     "base_uri": "https://localhost:8080/"
    },
    "executionInfo": {
     "elapsed": 45,
     "status": "ok",
     "timestamp": 1626426000862,
     "user": {
      "displayName": "Олег Григорьев",
      "photoUrl": "https://lh3.googleusercontent.com/a-/AOh14GhNm-dmXKpZZKrIheB8d6EFQQw2LC_9Z46qpXKN5w=s64",
      "userId": "09817023023174291347"
     },
     "user_tz": -180
    },
    "id": "kuC9ENXsLStk",
    "outputId": "f575f142-8049-4ecc-96d1-6e1a3f138497",
    "scrolled": true
   },
   "outputs": [
    {
     "data": {
      "text/plain": [
       "0    87.107763\n",
       "1    86.843261\n",
       "2    86.842308\n",
       "3    87.226430\n",
       "4    86.688794\n",
       "Name: rougher.output.recovery, dtype: float64"
      ]
     },
     "execution_count": 11,
     "metadata": {},
     "output_type": "execute_result"
    }
   ],
   "source": [
    "df_train['rougher.output.recovery'].head()"
   ]
  },
  {
   "cell_type": "markdown",
   "metadata": {
    "id": "mYFO_eCMLStk"
   },
   "source": [
    "Посчитаю эффективность по формуле:"
   ]
  },
  {
   "cell_type": "code",
   "execution_count": 12,
   "metadata": {
    "colab": {
     "base_uri": "https://localhost:8080/"
    },
    "executionInfo": {
     "elapsed": 44,
     "status": "ok",
     "timestamp": 1626426000864,
     "user": {
      "displayName": "Олег Григорьев",
      "photoUrl": "https://lh3.googleusercontent.com/a-/AOh14GhNm-dmXKpZZKrIheB8d6EFQQw2LC_9Z46qpXKN5w=s64",
      "userId": "09817023023174291347"
     },
     "user_tz": -180
    },
    "id": "-vLVX3VMLStl",
    "outputId": "1435f38d-145d-4c01-ed3a-a89d74c185f4"
   },
   "outputs": [
    {
     "data": {
      "text/plain": [
       "0    87.107763\n",
       "1    86.843261\n",
       "2    86.842308\n",
       "3    87.226430\n",
       "4    86.688794\n",
       "Name: rougher.output.recovery_calc, dtype: float64"
      ]
     },
     "execution_count": 12,
     "metadata": {},
     "output_type": "execute_result"
    }
   ],
   "source": [
    "df_train['rougher.output.recovery_calc'] = (\n",
    "    df_train['rougher.output.concentrate_au'] * (\n",
    "        df_train['rougher.input.feed_au'] - df_train['rougher.output.tail_au'])) / (\n",
    "    df_train['rougher.input.feed_au'] * (\n",
    "        df_train['rougher.output.concentrate_au'] - df_train['rougher.output.tail_au'])) * 100\n",
    "df_train['rougher.output.recovery_calc'].head()"
   ]
  },
  {
   "cell_type": "markdown",
   "metadata": {
    "id": "ZB_ccw0BLStl"
   },
   "source": [
    "Видно, что эффективность посчитана не верно. Посчитаю сумму всех отклонений:"
   ]
  },
  {
   "cell_type": "code",
   "execution_count": 13,
   "metadata": {
    "colab": {
     "base_uri": "https://localhost:8080/"
    },
    "executionInfo": {
     "elapsed": 37,
     "status": "ok",
     "timestamp": 1626426000865,
     "user": {
      "displayName": "Олег Григорьев",
      "photoUrl": "https://lh3.googleusercontent.com/a-/AOh14GhNm-dmXKpZZKrIheB8d6EFQQw2LC_9Z46qpXKN5w=s64",
      "userId": "09817023023174291347"
     },
     "user_tz": -180
    },
    "id": "DdMgEDYgLStl",
    "outputId": "33d52131-7430-4bb8-f70c-7bb0e6e5fe7a"
   },
   "outputs": [
    {
     "data": {
      "text/plain": [
       "-9.983125437429408e-13"
      ]
     },
     "execution_count": 13,
     "metadata": {},
     "output_type": "execute_result"
    }
   ],
   "source": [
    "(df_train['rougher.output.recovery_calc'] - df_train['rougher.output.recovery']).sum()"
   ]
  },
  {
   "cell_type": "markdown",
   "metadata": {
    "id": "RMXhxydbLStm"
   },
   "source": [
    "#### Найду MAE между моими расчётами и значением признака. Опишу выводы."
   ]
  },
  {
   "cell_type": "code",
   "execution_count": 14,
   "metadata": {
    "colab": {
     "base_uri": "https://localhost:8080/"
    },
    "executionInfo": {
     "elapsed": 35,
     "status": "ok",
     "timestamp": 1626426000865,
     "user": {
      "displayName": "Олег Григорьев",
      "photoUrl": "https://lh3.googleusercontent.com/a-/AOh14GhNm-dmXKpZZKrIheB8d6EFQQw2LC_9Z46qpXKN5w=s64",
      "userId": "09817023023174291347"
     },
     "user_tz": -180
    },
    "id": "81_r4YnWLStm",
    "outputId": "4307eb77-ff32-47b0-bf16-d733f4c1e700"
   },
   "outputs": [
    {
     "name": "stdout",
     "output_type": "stream",
     "text": [
      "Среднее абсолютное отклонение: 9.682896147825551e-15\n"
     ]
    }
   ],
   "source": [
    "mae = mean_absolute_error(df_train['rougher.output.recovery_calc'], df_train['rougher.output.recovery'])\n",
    "print('Среднее абсолютное отклонение:', mae)"
   ]
  },
  {
   "cell_type": "markdown",
   "metadata": {
    "id": "sgYquxizLStm"
   },
   "source": [
    "MAE небольшое, но буду ориентироваться на мою новую колонку `rougher.output.recovery_calc`."
   ]
  },
  {
   "cell_type": "markdown",
   "metadata": {
    "id": "8xd7qwtCLStm"
   },
   "source": [
    "### 1.3. Проанализирую признаки, недоступные в тестовой выборке.\n",
    "Что это за параметры? К какому типу относятся?"
   ]
  },
  {
   "cell_type": "markdown",
   "metadata": {
    "id": "FwMbl-dCzfyW"
   },
   "source": [
    "Посмотрю, какие столбцы есть в `df_train`, но нет в `df_test`:"
   ]
  },
  {
   "cell_type": "code",
   "execution_count": 15,
   "metadata": {
    "colab": {
     "base_uri": "https://localhost:8080/"
    },
    "executionInfo": {
     "elapsed": 35,
     "status": "ok",
     "timestamp": 1626426000866,
     "user": {
      "displayName": "Олег Григорьев",
      "photoUrl": "https://lh3.googleusercontent.com/a-/AOh14GhNm-dmXKpZZKrIheB8d6EFQQw2LC_9Z46qpXKN5w=s64",
      "userId": "09817023023174291347"
     },
     "user_tz": -180
    },
    "id": "jkIPcnhIrbzc",
    "outputId": "82bc0840-b919-4ccf-f8c9-0b33c00950ab"
   },
   "outputs": [
    {
     "name": "stdout",
     "output_type": "stream",
     "text": [
      "<class 'pandas.core.frame.DataFrame'>\n",
      "RangeIndex: 14149 entries, 0 to 14148\n",
      "Data columns (total 35 columns):\n",
      "final.output.concentrate_ag                           14149 non-null float64\n",
      "final.output.concentrate_pb                           14149 non-null float64\n",
      "final.output.concentrate_sol                          14149 non-null float64\n",
      "final.output.concentrate_au                           14149 non-null float64\n",
      "final.output.recovery                                 14149 non-null float64\n",
      "final.output.tail_ag                                  14149 non-null float64\n",
      "final.output.tail_pb                                  14149 non-null float64\n",
      "final.output.tail_sol                                 14149 non-null float64\n",
      "final.output.tail_au                                  14149 non-null float64\n",
      "primary_cleaner.output.concentrate_ag                 14149 non-null float64\n",
      "primary_cleaner.output.concentrate_pb                 14149 non-null float64\n",
      "primary_cleaner.output.concentrate_sol                14149 non-null float64\n",
      "primary_cleaner.output.concentrate_au                 14149 non-null float64\n",
      "primary_cleaner.output.tail_ag                        14149 non-null float64\n",
      "primary_cleaner.output.tail_pb                        14149 non-null float64\n",
      "primary_cleaner.output.tail_sol                       14149 non-null float64\n",
      "primary_cleaner.output.tail_au                        14149 non-null float64\n",
      "rougher.calculation.sulfate_to_au_concentrate         14149 non-null float64\n",
      "rougher.calculation.floatbank10_sulfate_to_au_feed    14149 non-null float64\n",
      "rougher.calculation.floatbank11_sulfate_to_au_feed    14149 non-null float64\n",
      "rougher.calculation.au_pb_ratio                       14149 non-null float64\n",
      "rougher.output.concentrate_ag                         14149 non-null float64\n",
      "rougher.output.concentrate_pb                         14149 non-null float64\n",
      "rougher.output.concentrate_sol                        14149 non-null float64\n",
      "rougher.output.concentrate_au                         14149 non-null float64\n",
      "rougher.output.recovery                               14149 non-null float64\n",
      "rougher.output.tail_ag                                14149 non-null float64\n",
      "rougher.output.tail_pb                                14149 non-null float64\n",
      "rougher.output.tail_sol                               14149 non-null float64\n",
      "rougher.output.tail_au                                14149 non-null float64\n",
      "secondary_cleaner.output.tail_ag                      14149 non-null float64\n",
      "secondary_cleaner.output.tail_pb                      14149 non-null float64\n",
      "secondary_cleaner.output.tail_sol                     14149 non-null float64\n",
      "secondary_cleaner.output.tail_au                      14149 non-null float64\n",
      "rougher.output.recovery_calc                          14149 non-null float64\n",
      "dtypes: float64(35)\n",
      "memory usage: 3.8 MB\n",
      "None\n"
     ]
    }
   ],
   "source": [
    "difference = pd.DataFrame()\n",
    "for column in df_train.columns:\n",
    "  if column not in df_test.columns:\n",
    "    difference[column] = df_train[column].copy()\n",
    "print(difference.info())"
   ]
  },
  {
   "cell_type": "markdown",
   "metadata": {
    "id": "oJ7XLQvtyyHJ"
   },
   "source": [
    "Это всё количественные переменные, эти данные мы получаем в процессе флотации и их у нас не будет на момент прогнозирования, когда мы будем использовать нашу модель на новых данных.\n",
    "Что касается `rougher.output.recovery` и `final.output.recovery` - это целевые переменные, соответственно их удалять не нужно, а стоит сохранить в переменные `y` или `target`."
   ]
  },
  {
   "cell_type": "markdown",
   "metadata": {
    "id": "G5MbW8caLStn"
   },
   "source": [
    "### Проведу предобработку данных."
   ]
  },
  {
   "cell_type": "markdown",
   "metadata": {
    "id": "Fywysxuc0EC9"
   },
   "source": [
    "Удалю лишние столбцы из `df_train`, кроме целевых:"
   ]
  },
  {
   "cell_type": "code",
   "execution_count": 16,
   "metadata": {
    "colab": {
     "base_uri": "https://localhost:8080/"
    },
    "executionInfo": {
     "elapsed": 34,
     "status": "ok",
     "timestamp": 1626426000867,
     "user": {
      "displayName": "Олег Григорьев",
      "photoUrl": "https://lh3.googleusercontent.com/a-/AOh14GhNm-dmXKpZZKrIheB8d6EFQQw2LC_9Z46qpXKN5w=s64",
      "userId": "09817023023174291347"
     },
     "user_tz": -180
    },
    "id": "oXmlL3b8LStn",
    "outputId": "35c5b2dd-4c18-4848-c84d-a1525f718790"
   },
   "outputs": [
    {
     "name": "stdout",
     "output_type": "stream",
     "text": [
      "<class 'pandas.core.frame.DataFrame'>\n",
      "RangeIndex: 14149 entries, 0 to 14148\n",
      "Data columns (total 55 columns):\n",
      "date                                          14149 non-null datetime64[ns]\n",
      "final.output.recovery                         14149 non-null float64\n",
      "primary_cleaner.input.sulfate                 14149 non-null float64\n",
      "primary_cleaner.input.depressant              14149 non-null float64\n",
      "primary_cleaner.input.feed_size               14149 non-null float64\n",
      "primary_cleaner.input.xanthate                14149 non-null float64\n",
      "primary_cleaner.state.floatbank8_a_air        14149 non-null float64\n",
      "primary_cleaner.state.floatbank8_a_level      14149 non-null float64\n",
      "primary_cleaner.state.floatbank8_b_air        14149 non-null float64\n",
      "primary_cleaner.state.floatbank8_b_level      14149 non-null float64\n",
      "primary_cleaner.state.floatbank8_c_air        14149 non-null float64\n",
      "primary_cleaner.state.floatbank8_c_level      14149 non-null float64\n",
      "primary_cleaner.state.floatbank8_d_air        14149 non-null float64\n",
      "primary_cleaner.state.floatbank8_d_level      14149 non-null float64\n",
      "rougher.input.feed_ag                         14149 non-null float64\n",
      "rougher.input.feed_pb                         14149 non-null float64\n",
      "rougher.input.feed_rate                       14149 non-null float64\n",
      "rougher.input.feed_size                       14149 non-null float64\n",
      "rougher.input.feed_sol                        14149 non-null float64\n",
      "rougher.input.feed_au                         14149 non-null float64\n",
      "rougher.input.floatbank10_sulfate             14149 non-null float64\n",
      "rougher.input.floatbank10_xanthate            14149 non-null float64\n",
      "rougher.input.floatbank11_sulfate             14149 non-null float64\n",
      "rougher.input.floatbank11_xanthate            14149 non-null float64\n",
      "rougher.output.recovery                       14149 non-null float64\n",
      "rougher.state.floatbank10_a_air               14149 non-null float64\n",
      "rougher.state.floatbank10_a_level             14149 non-null float64\n",
      "rougher.state.floatbank10_b_air               14149 non-null float64\n",
      "rougher.state.floatbank10_b_level             14149 non-null float64\n",
      "rougher.state.floatbank10_c_air               14149 non-null float64\n",
      "rougher.state.floatbank10_c_level             14149 non-null float64\n",
      "rougher.state.floatbank10_d_air               14149 non-null float64\n",
      "rougher.state.floatbank10_d_level             14149 non-null float64\n",
      "rougher.state.floatbank10_e_air               14149 non-null float64\n",
      "rougher.state.floatbank10_e_level             14149 non-null float64\n",
      "rougher.state.floatbank10_f_air               14149 non-null float64\n",
      "rougher.state.floatbank10_f_level             14149 non-null float64\n",
      "secondary_cleaner.state.floatbank2_a_air      14149 non-null float64\n",
      "secondary_cleaner.state.floatbank2_a_level    14149 non-null float64\n",
      "secondary_cleaner.state.floatbank2_b_air      14149 non-null float64\n",
      "secondary_cleaner.state.floatbank2_b_level    14149 non-null float64\n",
      "secondary_cleaner.state.floatbank3_a_air      14149 non-null float64\n",
      "secondary_cleaner.state.floatbank3_a_level    14149 non-null float64\n",
      "secondary_cleaner.state.floatbank3_b_air      14149 non-null float64\n",
      "secondary_cleaner.state.floatbank3_b_level    14149 non-null float64\n",
      "secondary_cleaner.state.floatbank4_a_air      14149 non-null float64\n",
      "secondary_cleaner.state.floatbank4_a_level    14149 non-null float64\n",
      "secondary_cleaner.state.floatbank4_b_air      14149 non-null float64\n",
      "secondary_cleaner.state.floatbank4_b_level    14149 non-null float64\n",
      "secondary_cleaner.state.floatbank5_a_air      14149 non-null float64\n",
      "secondary_cleaner.state.floatbank5_a_level    14149 non-null float64\n",
      "secondary_cleaner.state.floatbank5_b_air      14149 non-null float64\n",
      "secondary_cleaner.state.floatbank5_b_level    14149 non-null float64\n",
      "secondary_cleaner.state.floatbank6_a_air      14149 non-null float64\n",
      "secondary_cleaner.state.floatbank6_a_level    14149 non-null float64\n",
      "dtypes: datetime64[ns](1), float64(54)\n",
      "memory usage: 5.9 MB\n"
     ]
    }
   ],
   "source": [
    "train_features = df_train.drop(\n",
    "    labels=difference.columns.drop(\n",
    "        labels=['rougher.output.recovery', 'final.output.recovery']\n",
    "        ), axis=1\n",
    "    )\n",
    "train_features.info()"
   ]
  },
  {
   "cell_type": "markdown",
   "metadata": {
    "id": "RadxklpD0P_0"
   },
   "source": [
    "Добавлю целевые значения в `df_test`:"
   ]
  },
  {
   "cell_type": "code",
   "execution_count": 17,
   "metadata": {
    "executionInfo": {
     "elapsed": 34,
     "status": "ok",
     "timestamp": 1626426000868,
     "user": {
      "displayName": "Олег Григорьев",
      "photoUrl": "https://lh3.googleusercontent.com/a-/AOh14GhNm-dmXKpZZKrIheB8d6EFQQw2LC_9Z46qpXKN5w=s64",
      "userId": "09817023023174291347"
     },
     "user_tz": -180
    },
    "id": "ehUAdOKI44m9"
   },
   "outputs": [],
   "source": [
    "df_for_test = df_full[['date', 'rougher.output.recovery', 'final.output.recovery']]"
   ]
  },
  {
   "cell_type": "code",
   "execution_count": 18,
   "metadata": {
    "executionInfo": {
     "elapsed": 33,
     "status": "ok",
     "timestamp": 1626426000869,
     "user": {
      "displayName": "Олег Григорьев",
      "photoUrl": "https://lh3.googleusercontent.com/a-/AOh14GhNm-dmXKpZZKrIheB8d6EFQQw2LC_9Z46qpXKN5w=s64",
      "userId": "09817023023174291347"
     },
     "user_tz": -180
    },
    "id": "eIVbejBGLStn"
   },
   "outputs": [],
   "source": [
    "df_test = pd.merge(df_test, df_for_test, on='date', how='inner')"
   ]
  },
  {
   "cell_type": "code",
   "execution_count": 19,
   "metadata": {},
   "outputs": [
    {
     "data": {
      "text/plain": [
       "((5290, 55), (14149, 55))"
      ]
     },
     "execution_count": 19,
     "metadata": {},
     "output_type": "execute_result"
    }
   ],
   "source": [
    "df_test.shape, train_features.shape"
   ]
  },
  {
   "cell_type": "markdown",
   "metadata": {
    "id": "OmNoEMDsLStn"
   },
   "source": [
    "## Анализ данных"
   ]
  },
  {
   "cell_type": "code",
   "execution_count": 20,
   "metadata": {
    "colab": {
     "base_uri": "https://localhost:8080/"
    },
    "executionInfo": {
     "elapsed": 33,
     "status": "ok",
     "timestamp": 1626426000870,
     "user": {
      "displayName": "Олег Григорьев",
      "photoUrl": "https://lh3.googleusercontent.com/a-/AOh14GhNm-dmXKpZZKrIheB8d6EFQQw2LC_9Z46qpXKN5w=s64",
      "userId": "09817023023174291347"
     },
     "user_tz": -180
    },
    "id": "wnnWdH0HLStn",
    "outputId": "3f437640-8f13-440a-87da-fa08bd2f4365"
   },
   "outputs": [
    {
     "data": {
      "text/plain": [
       "Index(['date', 'final.output.concentrate_ag', 'final.output.concentrate_pb',\n",
       "       'final.output.concentrate_sol', 'final.output.concentrate_au',\n",
       "       'final.output.recovery', 'final.output.tail_ag', 'final.output.tail_pb',\n",
       "       'final.output.tail_sol', 'final.output.tail_au',\n",
       "       'primary_cleaner.input.sulfate', 'primary_cleaner.input.depressant',\n",
       "       'primary_cleaner.input.feed_size', 'primary_cleaner.input.xanthate',\n",
       "       'primary_cleaner.output.concentrate_ag',\n",
       "       'primary_cleaner.output.concentrate_pb',\n",
       "       'primary_cleaner.output.concentrate_sol',\n",
       "       'primary_cleaner.output.concentrate_au',\n",
       "       'primary_cleaner.output.tail_ag', 'primary_cleaner.output.tail_pb',\n",
       "       'primary_cleaner.output.tail_sol', 'primary_cleaner.output.tail_au',\n",
       "       'primary_cleaner.state.floatbank8_a_air',\n",
       "       'primary_cleaner.state.floatbank8_a_level',\n",
       "       'primary_cleaner.state.floatbank8_b_air',\n",
       "       'primary_cleaner.state.floatbank8_b_level',\n",
       "       'primary_cleaner.state.floatbank8_c_air',\n",
       "       'primary_cleaner.state.floatbank8_c_level',\n",
       "       'primary_cleaner.state.floatbank8_d_air',\n",
       "       'primary_cleaner.state.floatbank8_d_level',\n",
       "       'rougher.calculation.sulfate_to_au_concentrate',\n",
       "       'rougher.calculation.floatbank10_sulfate_to_au_feed',\n",
       "       'rougher.calculation.floatbank11_sulfate_to_au_feed',\n",
       "       'rougher.calculation.au_pb_ratio', 'rougher.input.feed_ag',\n",
       "       'rougher.input.feed_pb', 'rougher.input.feed_rate',\n",
       "       'rougher.input.feed_size', 'rougher.input.feed_sol',\n",
       "       'rougher.input.feed_au', 'rougher.input.floatbank10_sulfate',\n",
       "       'rougher.input.floatbank10_xanthate',\n",
       "       'rougher.input.floatbank11_sulfate',\n",
       "       'rougher.input.floatbank11_xanthate', 'rougher.output.concentrate_ag',\n",
       "       'rougher.output.concentrate_pb', 'rougher.output.concentrate_sol',\n",
       "       'rougher.output.concentrate_au', 'rougher.output.recovery',\n",
       "       'rougher.output.tail_ag', 'rougher.output.tail_pb',\n",
       "       'rougher.output.tail_sol', 'rougher.output.tail_au',\n",
       "       'rougher.state.floatbank10_a_air', 'rougher.state.floatbank10_a_level',\n",
       "       'rougher.state.floatbank10_b_air', 'rougher.state.floatbank10_b_level',\n",
       "       'rougher.state.floatbank10_c_air', 'rougher.state.floatbank10_c_level',\n",
       "       'rougher.state.floatbank10_d_air', 'rougher.state.floatbank10_d_level',\n",
       "       'rougher.state.floatbank10_e_air', 'rougher.state.floatbank10_e_level',\n",
       "       'rougher.state.floatbank10_f_air', 'rougher.state.floatbank10_f_level',\n",
       "       'secondary_cleaner.output.tail_ag', 'secondary_cleaner.output.tail_pb',\n",
       "       'secondary_cleaner.output.tail_sol', 'secondary_cleaner.output.tail_au',\n",
       "       'secondary_cleaner.state.floatbank2_a_air',\n",
       "       'secondary_cleaner.state.floatbank2_a_level',\n",
       "       'secondary_cleaner.state.floatbank2_b_air',\n",
       "       'secondary_cleaner.state.floatbank2_b_level',\n",
       "       'secondary_cleaner.state.floatbank3_a_air',\n",
       "       'secondary_cleaner.state.floatbank3_a_level',\n",
       "       'secondary_cleaner.state.floatbank3_b_air',\n",
       "       'secondary_cleaner.state.floatbank3_b_level',\n",
       "       'secondary_cleaner.state.floatbank4_a_air',\n",
       "       'secondary_cleaner.state.floatbank4_a_level',\n",
       "       'secondary_cleaner.state.floatbank4_b_air',\n",
       "       'secondary_cleaner.state.floatbank4_b_level',\n",
       "       'secondary_cleaner.state.floatbank5_a_air',\n",
       "       'secondary_cleaner.state.floatbank5_a_level',\n",
       "       'secondary_cleaner.state.floatbank5_b_air',\n",
       "       'secondary_cleaner.state.floatbank5_b_level',\n",
       "       'secondary_cleaner.state.floatbank6_a_air',\n",
       "       'secondary_cleaner.state.floatbank6_a_level'],\n",
       "      dtype='object')"
      ]
     },
     "execution_count": 20,
     "metadata": {},
     "output_type": "execute_result"
    }
   ],
   "source": [
    "df_full.columns"
   ]
  },
  {
   "cell_type": "markdown",
   "metadata": {
    "id": "1UhLTjQVLStn"
   },
   "source": [
    "### Посмотрю, как меняется концентрация металлов (Au, Ag, Pb) на различных этапах очистки."
   ]
  },
  {
   "cell_type": "code",
   "execution_count": 21,
   "metadata": {
    "executionInfo": {
     "elapsed": 26,
     "status": "ok",
     "timestamp": 1626426000872,
     "user": {
      "displayName": "Олег Григорьев",
      "photoUrl": "https://lh3.googleusercontent.com/a-/AOh14GhNm-dmXKpZZKrIheB8d6EFQQw2LC_9Z46qpXKN5w=s64",
      "userId": "09817023023174291347"
     },
     "user_tz": -180
    },
    "id": "beN_i_b_LSto"
   },
   "outputs": [],
   "source": [
    "consentrates = df_full[['final.output.concentrate_ag', 'final.output.concentrate_pb', 'primary_cleaner.output.concentrate_sol', 'final.output.concentrate_au', 'primary_cleaner.output.concentrate_ag', 'primary_cleaner.output.concentrate_pb', 'primary_cleaner.output.concentrate_sol', 'primary_cleaner.output.concentrate_au', 'rougher.output.concentrate_ag', 'rougher.output.concentrate_pb', 'rougher.output.concentrate_sol', 'rougher.output.concentrate_au', 'rougher.input.feed_ag', 'rougher.input.feed_pb', 'rougher.input.feed_sol', 'rougher.input.feed_au']]"
   ]
  },
  {
   "cell_type": "code",
   "execution_count": 22,
   "metadata": {
    "colab": {
     "base_uri": "https://localhost:8080/"
    },
    "executionInfo": {
     "elapsed": 31,
     "status": "ok",
     "timestamp": 1626426000877,
     "user": {
      "displayName": "Олег Григорьев",
      "photoUrl": "https://lh3.googleusercontent.com/a-/AOh14GhNm-dmXKpZZKrIheB8d6EFQQw2LC_9Z46qpXKN5w=s64",
      "userId": "09817023023174291347"
     },
     "user_tz": -180
    },
    "id": "A3oJuvojDKB_",
    "outputId": "8f8e54e9-e1a0-4594-ab47-bde774ae6e6d"
   },
   "outputs": [
    {
     "data": {
      "text/plain": [
       "Index(['final.output.concentrate_ag', 'final.output.concentrate_pb',\n",
       "       'primary_cleaner.output.concentrate_sol', 'final.output.concentrate_au',\n",
       "       'primary_cleaner.output.concentrate_ag',\n",
       "       'primary_cleaner.output.concentrate_pb',\n",
       "       'primary_cleaner.output.concentrate_sol',\n",
       "       'primary_cleaner.output.concentrate_au',\n",
       "       'rougher.output.concentrate_ag', 'rougher.output.concentrate_pb',\n",
       "       'rougher.output.concentrate_sol', 'rougher.output.concentrate_au',\n",
       "       'rougher.input.feed_ag', 'rougher.input.feed_pb',\n",
       "       'rougher.input.feed_sol', 'rougher.input.feed_au'],\n",
       "      dtype='object')"
      ]
     },
     "execution_count": 22,
     "metadata": {},
     "output_type": "execute_result"
    }
   ],
   "source": [
    "consentrates.columns"
   ]
  },
  {
   "cell_type": "code",
   "execution_count": 23,
   "metadata": {
    "colab": {
     "base_uri": "https://localhost:8080/",
     "height": 0
    },
    "executionInfo": {
     "elapsed": 611,
     "status": "ok",
     "timestamp": 1626426001459,
     "user": {
      "displayName": "Олег Григорьев",
      "photoUrl": "https://lh3.googleusercontent.com/a-/AOh14GhNm-dmXKpZZKrIheB8d6EFQQw2LC_9Z46qpXKN5w=s64",
      "userId": "09817023023174291347"
     },
     "user_tz": -180
    },
    "id": "7TasvSlOF0Gl",
    "outputId": "b8fdbad7-5dbc-4117-da89-27a461849e73"
   },
   "outputs": [
    {
     "data": {
      "image/png": "[encoded data removed]",
      "text/plain": [
       "<Figure size 720x288 with 1 Axes>"
      ]
     },
     "metadata": {
      "needs_background": "light"
     },
     "output_type": "display_data"
    }
   ],
   "source": [
    "cons_ag = ['rougher.input.feed_ag', 'rougher.output.concentrate_ag', 'primary_cleaner.output.concentrate_ag', 'final.output.concentrate_ag']\n",
    "colors = ['grey', 'blue', 'green', 'red']\n",
    "count_color = 0\n",
    "for i in cons_ag:\n",
    "    df_full[i].hist(figsize=(10,4), alpha=0.5, color=colors[count_color])\n",
    "    plt.title('Концентрация Ag')\n",
    "    plt.xlabel('Концентрация')\n",
    "    plt.ylabel('Количество')\n",
    "    #plt.legend(loc='upper right')\n",
    "    count_color += 1"
   ]
  },
  {
   "cell_type": "markdown",
   "metadata": {
    "id": "QF12JLmhTtms"
   },
   "source": [
    "Концентрация серебра снижается с каждоым этапом."
   ]
  },
  {
   "cell_type": "code",
   "execution_count": 24,
   "metadata": {
    "colab": {
     "base_uri": "https://localhost:8080/",
     "height": 0
    },
    "executionInfo": {
     "elapsed": 399,
     "status": "ok",
     "timestamp": 1626426001849,
     "user": {
      "displayName": "Олег Григорьев",
      "photoUrl": "https://lh3.googleusercontent.com/a-/AOh14GhNm-dmXKpZZKrIheB8d6EFQQw2LC_9Z46qpXKN5w=s64",
      "userId": "09817023023174291347"
     },
     "user_tz": -180
    },
    "id": "7MHvuW1mRBAD",
    "outputId": "cc243870-4b62-44a0-f0f2-22f4f708cd0a"
   },
   "outputs": [
    {
     "data": {
      "image/png": "[encoded data removed]",
      "text/plain": [
       "<Figure size 720x288 with 1 Axes>"
      ]
     },
     "metadata": {
      "needs_background": "light"
     },
     "output_type": "display_data"
    }
   ],
   "source": [
    "cons_pb = ['rougher.input.feed_pb', 'rougher.output.concentrate_pb', 'primary_cleaner.output.concentrate_pb', 'final.output.concentrate_pb']\n",
    "count_color = 0\n",
    "for i in cons_pb:\n",
    "    df_full[i].hist(figsize=(10,4), alpha=0.5, color=colors[count_color])\n",
    "    plt.title('Концентрация Pb')\n",
    "    plt.xlabel('Концентрация')\n",
    "    plt.ylabel('Количество')\n",
    "    #plt.legend(loc='upper right')\n",
    "    count_color += 1"
   ]
  },
  {
   "cell_type": "markdown",
   "metadata": {
    "id": "oicOlgPMT5vI"
   },
   "source": [
    "Концентрация свинца растёт - видимо, это побочный продукт переработки."
   ]
  },
  {
   "cell_type": "code",
   "execution_count": 25,
   "metadata": {
    "colab": {
     "base_uri": "https://localhost:8080/",
     "height": 0
    },
    "executionInfo": {
     "elapsed": 763,
     "status": "ok",
     "timestamp": 1626426002595,
     "user": {
      "displayName": "Олег Григорьев",
      "photoUrl": "https://lh3.googleusercontent.com/a-/AOh14GhNm-dmXKpZZKrIheB8d6EFQQw2LC_9Z46qpXKN5w=s64",
      "userId": "09817023023174291347"
     },
     "user_tz": -180
    },
    "id": "W319Qp7ARk9r",
    "outputId": "90168d21-03e9-41db-d42f-51115ee68395"
   },
   "outputs": [
    {
     "data": {
      "image/png": "[encoded data removed]",
      "text/plain": [
       "<Figure size 720x288 with 1 Axes>"
      ]
     },
     "metadata": {
      "needs_background": "light"
     },
     "output_type": "display_data"
    }
   ],
   "source": [
    "cons_sol = ['rougher.input.feed_sol', 'rougher.output.concentrate_sol', 'primary_cleaner.output.concentrate_sol', 'final.output.concentrate_sol']\n",
    "count_color = 0\n",
    "for i in cons_sol:\n",
    "    df_full[i].hist(figsize=(10,4), alpha=0.5, color=colors[count_color])\n",
    "    plt.title('Концентрация Sol')\n",
    "    plt.xlabel('Концентрация')\n",
    "    plt.ylabel('Количество')\n",
    "    count_color += 1"
   ]
  },
  {
   "cell_type": "markdown",
   "metadata": {
    "id": "dbPQBDflT8D1"
   },
   "source": [
    "Концентрация элемента Sol снижается, кроме второй очистки."
   ]
  },
  {
   "cell_type": "code",
   "execution_count": 26,
   "metadata": {
    "colab": {
     "base_uri": "https://localhost:8080/",
     "height": 0
    },
    "executionInfo": {
     "elapsed": 94,
     "status": "ok",
     "timestamp": 1626426002608,
     "user": {
      "displayName": "Олег Григорьев",
      "photoUrl": "https://lh3.googleusercontent.com/a-/AOh14GhNm-dmXKpZZKrIheB8d6EFQQw2LC_9Z46qpXKN5w=s64",
      "userId": "09817023023174291347"
     },
     "user_tz": -180
    },
    "id": "4tHdbasAR0dK",
    "outputId": "ff57e934-5823-445c-f64a-4e328cfdac62"
   },
   "outputs": [
    {
     "data": {
      "image/png": "[encoded data removed]",
      "text/plain": [
       "<Figure size 720x288 with 1 Axes>"
      ]
     },
     "metadata": {
      "needs_background": "light"
     },
     "output_type": "display_data"
    }
   ],
   "source": [
    "cons_au = ['rougher.input.feed_au', 'rougher.output.concentrate_au', 'primary_cleaner.output.concentrate_au', 'final.output.concentrate_au']\n",
    "count_color = 0\n",
    "for i in cons_au:\n",
    "    df_full[i].hist(figsize=(10,4), alpha=0.5, color=colors[count_color])\n",
    "    plt.title('Концентрация Au')\n",
    "    plt.xlabel('Концентрация')\n",
    "    plt.ylabel('Количество')\n",
    "    count_color += 1"
   ]
  },
  {
   "cell_type": "markdown",
   "metadata": {
    "id": "2xX14YLeUDlI"
   },
   "source": [
    "Содержание золота от этапа к этапу возрастает, что логично - добываем золото. Что интересно, после второй очистки получаем довольно ставильную концентрацию, распределённую около 45%."
   ]
  },
  {
   "cell_type": "markdown",
   "metadata": {
    "id": "5PWlslZZLSto"
   },
   "source": [
    "### Сравню распределения размеров гранул сырья на обучающей и тестовой выборках. Если распределения сильно отличаются друг от друга, оценка модели будет неправильной."
   ]
  },
  {
   "cell_type": "code",
   "execution_count": 27,
   "metadata": {
    "colab": {
     "base_uri": "https://localhost:8080/",
     "height": 0
    },
    "executionInfo": {
     "elapsed": 363,
     "status": "ok",
     "timestamp": 1626426002897,
     "user": {
      "displayName": "Олег Григорьев",
      "photoUrl": "https://lh3.googleusercontent.com/a-/AOh14GhNm-dmXKpZZKrIheB8d6EFQQw2LC_9Z46qpXKN5w=s64",
      "userId": "09817023023174291347"
     },
     "user_tz": -180
    },
    "id": "AY0aPJFjDWFE",
    "outputId": "226f5e0a-b846-4e60-9f23-64d3ff853955"
   },
   "outputs": [
    {
     "data": {
      "text/plain": [
       "Text(0, 0.5, 'Количество')"
      ]
     },
     "execution_count": 27,
     "metadata": {},
     "output_type": "execute_result"
    },
    {
     "data": {
      "image/png": "[encoded data removed]",
      "text/plain": [
       "<Figure size 1152x288 with 1 Axes>"
      ]
     },
     "metadata": {
      "needs_background": "light"
     },
     "output_type": "display_data"
    }
   ],
   "source": [
    "df_train['rougher.input.feed_size'].hist(figsize=(16,4), alpha=0.5, color='blue', bins=20)\n",
    "df_test['rougher.input.feed_size'].hist(figsize=(16,4), alpha=0.5, color='green',bins=20)\n",
    "plt.title('Размер гранул сырья')\n",
    "plt.xlabel('Размер')\n",
    "plt.ylabel('Количество')"
   ]
  },
  {
   "cell_type": "markdown",
   "metadata": {
    "id": "nfrmqXdQdLsI"
   },
   "source": [
    "Распределение размеров гранул очень похожи, на оценку модели не должно повлиять."
   ]
  },
  {
   "cell_type": "markdown",
   "metadata": {},
   "source": [
    "<div style=\"background: #cceeaa; padding: 5px; border: 1px solid green; border-radius: 5px;\">\n",
    "<font color='green'> \n",
    "<u>КОММЕНТАРИЙ РЕВЬЮЕРА</u>\n",
    "<font color='green'><br>ОК,  верно, распределение для тестовой выборки немного отличается от такового для обучающей - первое сдвинуто немного в меньшую сторону. НО в целом размеры большинства частиц лежат в оптимальном интервале  40—100 мкм  («Флотация руды»: ООО \"Техноаналитприбор\":[сайт].URL:https://techade.ru/stati/flotatsiya-rudy) для обоих выборок. Поэтому, да, выборки подходят для оценки."
   ]
  },
  {
   "cell_type": "markdown",
   "metadata": {
    "id": "fi6gWs38LStp"
   },
   "source": [
    "### Исследую суммарную концентрацию всех веществ на разных стадиях: в сырье, в черновом и финальном концентратах."
   ]
  },
  {
   "cell_type": "code",
   "execution_count": 28,
   "metadata": {
    "colab": {
     "base_uri": "https://localhost:8080/",
     "height": 0
    },
    "executionInfo": {
     "elapsed": 853,
     "status": "ok",
     "timestamp": 1626426003731,
     "user": {
      "displayName": "Олег Григорьев",
      "photoUrl": "https://lh3.googleusercontent.com/a-/AOh14GhNm-dmXKpZZKrIheB8d6EFQQw2LC_9Z46qpXKN5w=s64",
      "userId": "09817023023174291347"
     },
     "user_tz": -180
    },
    "id": "pU468-LGLStp",
    "outputId": "4f1cbb11-7f17-46a5-c07a-aaec845d4cdb"
   },
   "outputs": [
    {
     "data": {
      "image/png": "[encoded data removed]",
      "text/plain": [
       "<Figure size 1080x288 with 1 Axes>"
      ]
     },
     "metadata": {
      "needs_background": "light"
     },
     "output_type": "display_data"
    }
   ],
   "source": [
    "cons_rougher = ['rougher.input.feed_ag',\n",
    "                'rougher.input.feed_pb'\n",
    "                'rougher.input.feed_sol'\n",
    "                'rougher.input.feed_au']\n",
    "colors = ['grey', 'blue', 'green', 'red']\n",
    "count_color = 0\n",
    "for i in cons_ag:\n",
    "    df_full[i].hist(figsize=(15,4), alpha=0.5, color=colors[count_color])\n",
    "    plt.title('Концентрация веществ на черновом этапе')\n",
    "    plt.xlabel('Концентрация')\n",
    "    plt.ylabel('Количество')\n",
    "    count_color += 1"
   ]
  },
  {
   "cell_type": "code",
   "execution_count": 29,
   "metadata": {
    "executionInfo": {
     "elapsed": 70,
     "status": "ok",
     "timestamp": 1626426003732,
     "user": {
      "displayName": "Олег Григорьев",
      "photoUrl": "https://lh3.googleusercontent.com/a-/AOh14GhNm-dmXKpZZKrIheB8d6EFQQw2LC_9Z46qpXKN5w=s64",
      "userId": "09817023023174291347"
     },
     "user_tz": -180
    },
    "id": "GtEqhEjQiQav"
   },
   "outputs": [],
   "source": [
    "cons_rougher = (\n",
    "    df_full['rougher.input.feed_ag'] + \n",
    "    df_full['rougher.input.feed_pb'] + \n",
    "    df_full['rougher.input.feed_sol'] + \n",
    "    df_full['rougher.input.feed_au'])\n",
    "cons_primary_cleaner = (\n",
    "    df_full['primary_cleaner.output.concentrate_ag'] + \n",
    "    df_full['primary_cleaner.output.concentrate_pb'] + \n",
    "    df_full['primary_cleaner.output.concentrate_sol'] + \n",
    "    df_full['primary_cleaner.output.concentrate_au'])\n",
    "cons_final = (\n",
    "    df_full['final.output.concentrate_ag'] + \n",
    "    df_full['final.output.concentrate_pb'] + \n",
    "    df_full['final.output.concentrate_sol'] + \n",
    "    df_full['final.output.concentrate_au'])"
   ]
  },
  {
   "cell_type": "code",
   "execution_count": 30,
   "metadata": {
    "colab": {
     "base_uri": "https://localhost:8080/",
     "height": 0
    },
    "executionInfo": {
     "elapsed": 70,
     "status": "ok",
     "timestamp": 1626426003734,
     "user": {
      "displayName": "Олег Григорьев",
      "photoUrl": "https://lh3.googleusercontent.com/a-/AOh14GhNm-dmXKpZZKrIheB8d6EFQQw2LC_9Z46qpXKN5w=s64",
      "userId": "09817023023174291347"
     },
     "user_tz": -180
    },
    "id": "8EmkXgXrj2OW",
    "outputId": "c7c01dae-4910-4e75-f800-839a540d1d25"
   },
   "outputs": [
    {
     "data": {
      "image/png": "[encoded data removed]",
      "text/plain": [
       "<Figure size 1080x288 with 1 Axes>"
      ]
     },
     "metadata": {
      "needs_background": "light"
     },
     "output_type": "display_data"
    }
   ],
   "source": [
    "phase = [cons_rougher, cons_primary_cleaner, cons_final]\n",
    "colors = ['grey', 'green', 'red']\n",
    "count_color = 0\n",
    "for i in phase:\n",
    "    i.hist(figsize=(15,4), alpha=0.5, color=colors[count_color])\n",
    "    plt.title('Концентрация веществ на черновом этапе')\n",
    "    plt.xlabel('Концентрация')\n",
    "    plt.ylabel('Количество')\n",
    "    count_color += 1"
   ]
  },
  {
   "cell_type": "markdown",
   "metadata": {
    "id": "0VkvC74Wkrkj"
   },
   "source": [
    "От этапа к этапу суммарная концентрация интересующих нас веществ увеличивается.  \n",
    "В значениях вижу экстремально малые значения, которые могут повлиять на модель. Определю выбросы и удалю эти строки. "
   ]
  },
  {
   "cell_type": "code",
   "execution_count": 31,
   "metadata": {
    "colab": {
     "base_uri": "https://localhost:8080/"
    },
    "executionInfo": {
     "elapsed": 81,
     "status": "ok",
     "timestamp": 1626426003748,
     "user": {
      "displayName": "Олег Григорьев",
      "photoUrl": "https://lh3.googleusercontent.com/a-/AOh14GhNm-dmXKpZZKrIheB8d6EFQQw2LC_9Z46qpXKN5w=s64",
      "userId": "09817023023174291347"
     },
     "user_tz": -180
    },
    "id": "OiMzv5DklHcU",
    "outputId": "076c5f90-0f7c-4c8c-8941-cfab0eb3c9c6"
   },
   "outputs": [
    {
     "name": "stdout",
     "output_type": "stream",
     "text": [
      "57.320789408793196\n",
      "52.02007303816187\n",
      "3 sigm = 35.683306714555016\n"
     ]
    }
   ],
   "source": [
    "variance = np.var(cons_rougher)\n",
    "print(cons_rougher.mean())\n",
    "print(variance)\n",
    "print('3 sigm =', cons_rougher.mean() - 3 * (variance ** 0.5))"
   ]
  },
  {
   "cell_type": "code",
   "execution_count": 32,
   "metadata": {
    "colab": {
     "base_uri": "https://localhost:8080/"
    },
    "executionInfo": {
     "elapsed": 72,
     "status": "ok",
     "timestamp": 1626426003750,
     "user": {
      "displayName": "Олег Григорьев",
      "photoUrl": "https://lh3.googleusercontent.com/a-/AOh14GhNm-dmXKpZZKrIheB8d6EFQQw2LC_9Z46qpXKN5w=s64",
      "userId": "09817023023174291347"
     },
     "user_tz": -180
    },
    "id": "RJ7ZKnVNnje1",
    "outputId": "01ca4999-75c9-4ff0-bb5b-e47830e973b2"
   },
   "outputs": [
    {
     "name": "stdout",
     "output_type": "stream",
     "text": [
      "35.683306714555016\n",
      "30.713690144204506\n",
      "46.37158789367359\n"
     ]
    }
   ],
   "source": [
    "for i in phase:\n",
    "  threshold = i.mean() - 3 * (np.var(i) ** 0.5)\n",
    "  print(threshold)"
   ]
  },
  {
   "cell_type": "markdown",
   "metadata": {
    "id": "T-TbLOwqoWmt"
   },
   "source": [
    "Чистить нужно раньше, столбцы исходных df."
   ]
  },
  {
   "cell_type": "markdown",
   "metadata": {},
   "source": [
    "**Выводы по \"выбросам\":**\n",
    "1) Есть нулевые аномалии в суммарных концентрациях - и их надо \"убить\". Дело в том, что предполагается, что хоть грамм чего-нибудь но есть в руде. А если мы имеем ноль, значит есть вероятность неточности измерений.\n",
    "    \n",
    "2) Нужно решить, как поступать с выбросами в приниципе, т.к. цель - научить модель предсказывать на реальных данных. В выбросах есть реальная концентрация. Важно, чтобы модель умела и их тоже видеть и обрабатывать. Если их убрать из модели, то получится, что у нас она не будет уметь предсказывать такие редкие случаи. Т.е. будет работать только в небольших диапазонах - потому что обучалась только в них.\n",
    "\n",
    "Спомощью графика \"ящик с усами\" мы оцениваем выбросы за пределами интервала `q3 +/- 1.5*iqr`, но в теории не обязательноих удалять, это остаётся \"на усмотрение бизнеса\".\n",
    "Если же взять вот этот интервал `q3 +/- 3*iqr`, то с очень высокой вероятность можно говорить о грубых выбросах."
   ]
  },
  {
   "cell_type": "markdown",
   "metadata": {
    "id": "2NtR3E1ALStp"
   },
   "source": [
    "## Модель"
   ]
  },
  {
   "cell_type": "markdown",
   "metadata": {
    "id": "LMdrxXrcLStq"
   },
   "source": [
    "### Напишу функцию для вычисления итоговой метрики sMAPE.\n",
    "По ней я буду оценивать качество модели."
   ]
  },
  {
   "cell_type": "code",
   "execution_count": 33,
   "metadata": {
    "executionInfo": {
     "elapsed": 71,
     "status": "ok",
     "timestamp": 1626426003752,
     "user": {
      "displayName": "Олег Григорьев",
      "photoUrl": "https://lh3.googleusercontent.com/a-/AOh14GhNm-dmXKpZZKrIheB8d6EFQQw2LC_9Z46qpXKN5w=s64",
      "userId": "09817023023174291347"
     },
     "user_tz": -180
    },
    "id": "wJtF5k6rLStq"
   },
   "outputs": [],
   "source": [
    "def smape_func(target, prediction):\n",
    "  smape = (abs(target - prediction) / ((abs(target) + abs(prediction)) / 2)).mean() * 100\n",
    "  return smape"
   ]
  },
  {
   "cell_type": "markdown",
   "metadata": {
    "id": "lKwlPdT-LStr"
   },
   "source": [
    "### Обучу разные модели и оценю их качество кросс-валидацией."
   ]
  },
  {
   "cell_type": "markdown",
   "metadata": {
    "id": "31o1NEgSrK_7"
   },
   "source": [
    "Выделю признаки и целевые значения в наборах данных:"
   ]
  },
  {
   "cell_type": "code",
   "execution_count": 34,
   "metadata": {
    "colab": {
     "base_uri": "https://localhost:8080/"
    },
    "executionInfo": {
     "elapsed": 76,
     "status": "ok",
     "timestamp": 1626426003758,
     "user": {
      "displayName": "Олег Григорьев",
      "photoUrl": "https://lh3.googleusercontent.com/a-/AOh14GhNm-dmXKpZZKrIheB8d6EFQQw2LC_9Z46qpXKN5w=s64",
      "userId": "09817023023174291347"
     },
     "user_tz": -180
    },
    "id": "Tkzhi2tRrFCl",
    "outputId": "5aa8ad05-dd05-41fc-cd4f-5495cc87f6bb"
   },
   "outputs": [
    {
     "name": "stdout",
     "output_type": "stream",
     "text": [
      "Признаки и целевые значения rougher\n",
      "(14149, 22) (14149,)\n",
      "Признаки и целевые значения final\n",
      "(14149, 52) (14149,)\n"
     ]
    }
   ],
   "source": [
    "features_f = df_train.drop(labels=difference, axis=1).drop(labels='date', axis=1)\n",
    "features_r = features_f[[\n",
    "                         'rougher.input.feed_ag', 'rougher.input.feed_pb', 'rougher.input.feed_rate',\n",
    "                         'rougher.input.feed_size', 'rougher.input.feed_sol', 'rougher.input.feed_au',\n",
    "                         'rougher.input.floatbank10_sulfate','rougher.input.floatbank10_xanthate',\n",
    "                         'rougher.input.floatbank11_sulfate','rougher.input.floatbank11_xanthate',\n",
    "                         'rougher.state.floatbank10_a_air', 'rougher.state.floatbank10_a_level',\n",
    "                         'rougher.state.floatbank10_b_air', 'rougher.state.floatbank10_b_level',\n",
    "                         'rougher.state.floatbank10_c_air', 'rougher.state.floatbank10_c_level',\n",
    "                         'rougher.state.floatbank10_d_air', 'rougher.state.floatbank10_d_level',\n",
    "                         'rougher.state.floatbank10_e_air', 'rougher.state.floatbank10_e_level',\n",
    "                         'rougher.state.floatbank10_f_air', 'rougher.state.floatbank10_f_level']]\n",
    "\n",
    "target_r = df_train['rougher.output.recovery']\n",
    "print('Признаки и целевые значения rougher')\n",
    "print(features_r.shape, target_r.shape)\n",
    "\n",
    "target_f = df_train['final.output.recovery']\n",
    "print('Признаки и целевые значения final')\n",
    "print(features_f.shape, target_f.shape)"
   ]
  },
  {
   "cell_type": "markdown",
   "metadata": {
    "id": "rND8qMgdBF_p"
   },
   "source": [
    "Разобью на тренировочную и валидационную выборки:"
   ]
  },
  {
   "cell_type": "code",
   "execution_count": 35,
   "metadata": {
    "executionInfo": {
     "elapsed": 83,
     "status": "ok",
     "timestamp": 1626426003770,
     "user": {
      "displayName": "Олег Григорьев",
      "photoUrl": "https://lh3.googleusercontent.com/a-/AOh14GhNm-dmXKpZZKrIheB8d6EFQQw2LC_9Z46qpXKN5w=s64",
      "userId": "09817023023174291347"
     },
     "user_tz": -180
    },
    "id": "3-w9Kh6W_-Yw"
   },
   "outputs": [],
   "source": [
    "features_r_train, features_r_valid, target_r_train, target_r_valid = train_test_split(\n",
    "    features_r, target_r, test_size=0.25, random_state=12345) # выборка для rougher\n",
    "features_f_train, features_f_valid, target_f_train, target_f_valid = train_test_split(\n",
    "    features_f, target_f, test_size=0.25, random_state=12345) # выборка для final"
   ]
  },
  {
   "cell_type": "code",
   "execution_count": 36,
   "metadata": {
    "colab": {
     "base_uri": "https://localhost:8080/"
    },
    "executionInfo": {
     "elapsed": 93,
     "status": "ok",
     "timestamp": 1626426003782,
     "user": {
      "displayName": "Олег Григорьев",
      "photoUrl": "https://lh3.googleusercontent.com/a-/AOh14GhNm-dmXKpZZKrIheB8d6EFQQw2LC_9Z46qpXKN5w=s64",
      "userId": "09817023023174291347"
     },
     "user_tz": -180
    },
    "id": "OEWTJCEGGi4e",
    "outputId": "2e17983b-7334-4676-bdc6-7846fd358f1b"
   },
   "outputs": [
    {
     "name": "stdout",
     "output_type": "stream",
     "text": [
      "Признаки и целевые значения тренировки rougher:\n",
      "(10611, 22) (10611,)\n",
      "Признаки и целевые значения валидации rougher:\n",
      "(3538, 22) (3538,)\n",
      "\n",
      "Признаки и целевые значения тренировки final:\n",
      "(10611, 52) (10611,)\n",
      "Признаки и целевые значения валидации final:\n",
      "(3538, 52) (3538,)\n"
     ]
    }
   ],
   "source": [
    "print('Признаки и целевые значения тренировки rougher:')\n",
    "print(features_r_train.shape, target_r_train.shape)\n",
    "print('Признаки и целевые значения валидации rougher:')\n",
    "print(features_r_valid.shape, target_r_valid.shape)\n",
    "print()\n",
    "print('Признаки и целевые значения тренировки final:')\n",
    "print(features_f_train.shape, target_f_train.shape)\n",
    "print('Признаки и целевые значения валидации final:')\n",
    "print(features_f_valid.shape, target_f_valid.shape)"
   ]
  },
  {
   "cell_type": "markdown",
   "metadata": {
    "id": "-FvMj6KMB0gY"
   },
   "source": [
    "Выделю тестовые признаки и таргеты для rougher и final:"
   ]
  },
  {
   "cell_type": "code",
   "execution_count": 37,
   "metadata": {
    "colab": {
     "base_uri": "https://localhost:8080/"
    },
    "executionInfo": {
     "elapsed": 91,
     "status": "ok",
     "timestamp": 1626426003784,
     "user": {
      "displayName": "Олег Григорьев",
      "photoUrl": "https://lh3.googleusercontent.com/a-/AOh14GhNm-dmXKpZZKrIheB8d6EFQQw2LC_9Z46qpXKN5w=s64",
      "userId": "09817023023174291347"
     },
     "user_tz": -180
    },
    "id": "XJWeiL-brE_9",
    "outputId": "343dfd23-b469-4606-af54-b3d3c095b5a7",
    "scrolled": false
   },
   "outputs": [
    {
     "name": "stdout",
     "output_type": "stream",
     "text": [
      "(5290, 22) (5290,)\n",
      "(5290, 52) (5290,)\n"
     ]
    }
   ],
   "source": [
    "features_r_test = df_test[[\n",
    "                         'rougher.input.feed_ag', 'rougher.input.feed_pb', 'rougher.input.feed_rate',\n",
    "                         'rougher.input.feed_size', 'rougher.input.feed_sol', 'rougher.input.feed_au',\n",
    "                         'rougher.input.floatbank10_sulfate','rougher.input.floatbank10_xanthate',\n",
    "                         'rougher.input.floatbank11_sulfate','rougher.input.floatbank11_xanthate',\n",
    "                         'rougher.state.floatbank10_a_air', 'rougher.state.floatbank10_a_level',\n",
    "                         'rougher.state.floatbank10_b_air', 'rougher.state.floatbank10_b_level',\n",
    "                         'rougher.state.floatbank10_c_air', 'rougher.state.floatbank10_c_level',\n",
    "                         'rougher.state.floatbank10_d_air', 'rougher.state.floatbank10_d_level',\n",
    "                         'rougher.state.floatbank10_e_air', 'rougher.state.floatbank10_e_level',\n",
    "                         'rougher.state.floatbank10_f_air', 'rougher.state.floatbank10_f_level']]\n",
    "target_r_test = df_test['rougher.output.recovery']\n",
    "print(features_r_test.shape, target_r_test.shape)\n",
    "\n",
    "features_f_test = df_test.drop(['rougher.output.recovery', 'final.output.recovery', 'date'], axis=1)\n",
    "target_f_test = df_test['final.output.recovery']\n",
    "print(features_f_test.shape, target_r_test.shape)"
   ]
  },
  {
   "cell_type": "markdown",
   "metadata": {
    "id": "XAsj2T5RLStr"
   },
   "source": [
    "### Выберу лучшую модель\n",
    "и проверю её на тестовой выборке."
   ]
  },
  {
   "cell_type": "markdown",
   "metadata": {
    "id": "SWF02MxdKIFL"
   },
   "source": [
    "Напишу функции для вычисления метрик:"
   ]
  },
  {
   "cell_type": "code",
   "execution_count": 38,
   "metadata": {
    "executionInfo": {
     "elapsed": 87,
     "status": "ok",
     "timestamp": 1626426003785,
     "user": {
      "displayName": "Олег Григорьев",
      "photoUrl": "https://lh3.googleusercontent.com/a-/AOh14GhNm-dmXKpZZKrIheB8d6EFQQw2LC_9Z46qpXKN5w=s64",
      "userId": "09817023023174291347"
     },
     "user_tz": -180
    },
    "id": "VVC9NB1R52Mt"
   },
   "outputs": [],
   "source": [
    "def results_func(target, predicted):\n",
    "  global smape\n",
    "  smape = smape_func(target, predicted)\n",
    "  print('sMAPE:', smape)\n",
    "\n",
    "def smape_final_func(smape_rougher, smape_final):\n",
    "  smape_final = 0.25 * smape_rougher + 0.75 * smape_final\n",
    "  return smape_final"
   ]
  },
  {
   "cell_type": "markdown",
   "metadata": {
    "id": "gnQwY_kmYTYY"
   },
   "source": [
    "#### Модель линейной регрессии"
   ]
  },
  {
   "cell_type": "markdown",
   "metadata": {
    "id": "qNrC1xMVYOBw"
   },
   "source": [
    "Обучу модель и получу предсказания:"
   ]
  },
  {
   "cell_type": "code",
   "execution_count": 39,
   "metadata": {
    "executionInfo": {
     "elapsed": 87,
     "status": "ok",
     "timestamp": 1626426003787,
     "user": {
      "displayName": "Олег Григорьев",
      "photoUrl": "https://lh3.googleusercontent.com/a-/AOh14GhNm-dmXKpZZKrIheB8d6EFQQw2LC_9Z46qpXKN5w=s64",
      "userId": "09817023023174291347"
     },
     "user_tz": -180
    },
    "id": "R5kUKD23LStr"
   },
   "outputs": [],
   "source": [
    "model_rougher = LinearRegression()\n",
    "model_rougher.fit(features_r_train, target_r_train)\n",
    "predicted_r_valid = model_rougher.predict(features_r_valid)"
   ]
  },
  {
   "cell_type": "code",
   "execution_count": 40,
   "metadata": {
    "executionInfo": {
     "elapsed": 278,
     "status": "ok",
     "timestamp": 1626426003979,
     "user": {
      "displayName": "Олег Григорьев",
      "photoUrl": "https://lh3.googleusercontent.com/a-/AOh14GhNm-dmXKpZZKrIheB8d6EFQQw2LC_9Z46qpXKN5w=s64",
      "userId": "09817023023174291347"
     },
     "user_tz": -180
    },
    "id": "RA3QtePYdu9O"
   },
   "outputs": [],
   "source": [
    "model_final = LinearRegression()\n",
    "model_final.fit(features_f_train , target_f_train)\n",
    "predicted_f_valid = model_final.predict(features_f_valid)"
   ]
  },
  {
   "cell_type": "markdown",
   "metadata": {
    "id": "4OlgfFGLbmo_"
   },
   "source": [
    "Оценю метрики по предсказаниям на валидационной выборке:"
   ]
  },
  {
   "cell_type": "code",
   "execution_count": 41,
   "metadata": {
    "colab": {
     "base_uri": "https://localhost:8080/"
    },
    "executionInfo": {
     "elapsed": 48,
     "status": "ok",
     "timestamp": 1626426003980,
     "user": {
      "displayName": "Олег Григорьев",
      "photoUrl": "https://lh3.googleusercontent.com/a-/AOh14GhNm-dmXKpZZKrIheB8d6EFQQw2LC_9Z46qpXKN5w=s64",
      "userId": "09817023023174291347"
     },
     "user_tz": -180
    },
    "id": "iNVv8YdAJvil",
    "outputId": "9b4efeaf-62e5-4447-c0a6-d541fc05df64"
   },
   "outputs": [
    {
     "name": "stdout",
     "output_type": "stream",
     "text": [
      "Rougher\n",
      "sMAPE: 10.929762505972333\n",
      "Final\n",
      "sMAPE: 8.596337649103134\n",
      "Итоговая sMAPE по линейной регрессии 9.179693863320434\n"
     ]
    }
   ],
   "source": [
    "print('Rougher')\n",
    "results_func(target_r_valid, predicted_r_valid)\n",
    "smape_rougher = smape\n",
    "print('Final')\n",
    "results_func(target_f_valid, predicted_f_valid)\n",
    "smape_final = smape\n",
    "smape_linear = smape_final_func(smape_rougher, smape_final)\n",
    "print('Итоговая sMAPE по линейной регрессии', smape_linear)"
   ]
  },
  {
   "cell_type": "markdown",
   "metadata": {
    "id": "hIG7HHW-hz70"
   },
   "source": [
    "#### Модель дерева решений"
   ]
  },
  {
   "cell_type": "markdown",
   "metadata": {},
   "source": [
    "###### Дерево - rougher"
   ]
  },
  {
   "cell_type": "code",
   "execution_count": 42,
   "metadata": {},
   "outputs": [],
   "source": [
    "smape_scorer = make_scorer(smape_func, greater_is_better=False)"
   ]
  },
  {
   "cell_type": "code",
   "execution_count": 43,
   "metadata": {},
   "outputs": [
    {
     "name": "stdout",
     "output_type": "stream",
     "text": [
      "Fitting 3 folds for each of 10 candidates, totalling 30 fits\n",
      "[CV] max_depth=1 .....................................................\n",
      "[CV] ....................... max_depth=1, score=-10.864, total=   0.0s\n",
      "[CV] max_depth=1 .....................................................\n",
      "[CV] ....................... max_depth=1, score=-13.044, total=   0.0s\n",
      "[CV] max_depth=1 .....................................................\n",
      "[CV] ....................... max_depth=1, score=-15.650, total=   0.1s\n",
      "[CV] max_depth=6 .....................................................\n"
     ]
    },
    {
     "name": "stderr",
     "output_type": "stream",
     "text": [
      "[Parallel(n_jobs=1)]: Using backend SequentialBackend with 1 concurrent workers.\n",
      "[Parallel(n_jobs=1)]: Done   1 out of   1 | elapsed:    0.0s remaining:    0.0s\n",
      "[Parallel(n_jobs=1)]: Done   2 out of   2 | elapsed:    0.1s remaining:    0.0s\n"
     ]
    },
    {
     "name": "stdout",
     "output_type": "stream",
     "text": [
      "[CV] ....................... max_depth=6, score=-11.176, total=   0.2s\n",
      "[CV] max_depth=6 .....................................................\n",
      "[CV] ....................... max_depth=6, score=-29.057, total=   0.2s\n",
      "[CV] max_depth=6 .....................................................\n",
      "[CV] ....................... max_depth=6, score=-12.679, total=   0.2s\n",
      "[CV] max_depth=11 ....................................................\n",
      "[CV] ...................... max_depth=11, score=-12.564, total=   0.3s\n",
      "[CV] max_depth=11 ....................................................\n",
      "[CV] ...................... max_depth=11, score=-30.930, total=   0.3s\n",
      "[CV] max_depth=11 ....................................................\n",
      "[CV] ...................... max_depth=11, score=-16.621, total=   0.3s\n",
      "[CV] max_depth=16 ....................................................\n",
      "[CV] ...................... max_depth=16, score=-12.799, total=   0.4s\n",
      "[CV] max_depth=16 ....................................................\n",
      "[CV] ...................... max_depth=16, score=-32.953, total=   0.3s\n",
      "[CV] max_depth=16 ....................................................\n",
      "[CV] ...................... max_depth=16, score=-22.608, total=   0.3s\n",
      "[CV] max_depth=21 ....................................................\n",
      "[CV] ...................... max_depth=21, score=-14.929, total=   0.4s\n",
      "[CV] max_depth=21 ....................................................\n",
      "[CV] ...................... max_depth=21, score=-32.820, total=   0.4s\n",
      "[CV] max_depth=21 ....................................................\n",
      "[CV] ...................... max_depth=21, score=-22.620, total=   0.4s\n",
      "[CV] max_depth=26 ....................................................\n",
      "[CV] ...................... max_depth=26, score=-14.578, total=   0.5s\n",
      "[CV] max_depth=26 ....................................................\n",
      "[CV] ...................... max_depth=26, score=-31.022, total=   0.4s\n",
      "[CV] max_depth=26 ....................................................\n",
      "[CV] ...................... max_depth=26, score=-22.700, total=   0.4s\n",
      "[CV] max_depth=31 ....................................................\n",
      "[CV] ...................... max_depth=31, score=-16.629, total=   0.5s\n",
      "[CV] max_depth=31 ....................................................\n",
      "[CV] ...................... max_depth=31, score=-31.570, total=   0.4s\n",
      "[CV] max_depth=31 ....................................................\n",
      "[CV] ...................... max_depth=31, score=-22.396, total=   0.4s\n",
      "[CV] max_depth=36 ....................................................\n",
      "[CV] ...................... max_depth=36, score=-17.141, total=   0.5s\n",
      "[CV] max_depth=36 ....................................................\n",
      "[CV] ...................... max_depth=36, score=-32.435, total=   0.4s\n",
      "[CV] max_depth=36 ....................................................\n",
      "[CV] ...................... max_depth=36, score=-25.050, total=   0.4s\n",
      "[CV] max_depth=41 ....................................................\n",
      "[CV] ...................... max_depth=41, score=-18.023, total=   0.5s\n",
      "[CV] max_depth=41 ....................................................\n",
      "[CV] ...................... max_depth=41, score=-31.284, total=   0.4s\n",
      "[CV] max_depth=41 ....................................................\n",
      "[CV] ...................... max_depth=41, score=-23.045, total=   0.4s\n",
      "[CV] max_depth=46 ....................................................\n",
      "[CV] ...................... max_depth=46, score=-17.345, total=   0.5s\n",
      "[CV] max_depth=46 ....................................................\n",
      "[CV] ...................... max_depth=46, score=-31.284, total=   0.4s\n",
      "[CV] max_depth=46 ....................................................\n",
      "[CV] ...................... max_depth=46, score=-23.328, total=   0.4s\n",
      "{'max_depth': 1}\n",
      "CPU times: user 9.82 s, sys: 16.3 ms, total: 9.84 s\n",
      "Wall time: 9.94 s\n"
     ]
    },
    {
     "name": "stderr",
     "output_type": "stream",
     "text": [
      "[Parallel(n_jobs=1)]: Done  30 out of  30 | elapsed:    9.9s finished\n"
     ]
    }
   ],
   "source": [
    "%%time\n",
    "model_tree = DecisionTreeRegressor(random_state=12345)\n",
    "tree_parameters = {\n",
    "    'max_depth': range(1, 51, 5)\n",
    "}\n",
    "grid_tree = GridSearchCV(estimator=model_tree, param_grid=tree_parameters, cv=3, scoring=smape_scorer, verbose=3)\n",
    "grid_tree.fit(features_r, target_r)\n",
    "print(grid_tree.best_params_)\n",
    "#print()\n",
    "#print(grid_tree.best_estimator_)\n",
    "predicted_r_test = grid_tree.predict(features_r_test)"
   ]
  },
  {
   "cell_type": "markdown",
   "metadata": {},
   "source": [
    "###### Дерево - final"
   ]
  },
  {
   "cell_type": "code",
   "execution_count": 44,
   "metadata": {},
   "outputs": [
    {
     "name": "stdout",
     "output_type": "stream",
     "text": [
      "Fitting 3 folds for each of 10 candidates, totalling 30 fits\n",
      "[CV] max_depth=1 .....................................................\n",
      "[CV] ...................................... max_depth=1, total=   0.1s\n",
      "[CV] max_depth=1 .....................................................\n"
     ]
    },
    {
     "name": "stderr",
     "output_type": "stream",
     "text": [
      "[Parallel(n_jobs=1)]: Using backend SequentialBackend with 1 concurrent workers.\n",
      "[Parallel(n_jobs=1)]: Done   1 out of   1 | elapsed:    0.1s remaining:    0.0s\n"
     ]
    },
    {
     "name": "stdout",
     "output_type": "stream",
     "text": [
      "[CV] ...................................... max_depth=1, total=   0.1s\n",
      "[CV] max_depth=1 .....................................................\n",
      "[CV] ...................................... max_depth=1, total=   0.1s\n",
      "[CV] max_depth=6 .....................................................\n",
      "[CV] ...................................... max_depth=6, total=   0.4s\n",
      "[CV] max_depth=6 .....................................................\n",
      "[CV] ...................................... max_depth=6, total=   0.3s\n",
      "[CV] max_depth=6 .....................................................\n",
      "[CV] ...................................... max_depth=6, total=   0.4s\n",
      "[CV] max_depth=11 ....................................................\n",
      "[CV] ..................................... max_depth=11, total=   0.6s\n",
      "[CV] max_depth=11 ....................................................\n",
      "[CV] ..................................... max_depth=11, total=   0.6s\n",
      "[CV] max_depth=11 ....................................................\n",
      "[CV] ..................................... max_depth=11, total=   0.6s\n",
      "[CV] max_depth=16 ....................................................\n",
      "[CV] ..................................... max_depth=16, total=   0.8s\n",
      "[CV] max_depth=16 ....................................................\n",
      "[CV] ..................................... max_depth=16, total=   0.8s\n",
      "[CV] max_depth=16 ....................................................\n",
      "[CV] ..................................... max_depth=16, total=   0.8s\n",
      "[CV] max_depth=21 ....................................................\n",
      "[CV] ..................................... max_depth=21, total=   0.9s\n",
      "[CV] max_depth=21 ....................................................\n",
      "[CV] ..................................... max_depth=21, total=   0.9s\n",
      "[CV] max_depth=21 ....................................................\n",
      "[CV] ..................................... max_depth=21, total=   1.0s\n",
      "[CV] max_depth=26 ....................................................\n",
      "[CV] ..................................... max_depth=26, total=   1.0s\n",
      "[CV] max_depth=26 ....................................................\n",
      "[CV] ..................................... max_depth=26, total=   0.9s\n",
      "[CV] max_depth=26 ....................................................\n",
      "[CV] ..................................... max_depth=26, total=   1.0s\n",
      "[CV] max_depth=31 ....................................................\n",
      "[CV] ..................................... max_depth=31, total=   1.0s\n",
      "[CV] max_depth=31 ....................................................\n",
      "[CV] ..................................... max_depth=31, total=   0.9s\n",
      "[CV] max_depth=31 ....................................................\n",
      "[CV] ..................................... max_depth=31, total=   1.1s\n",
      "[CV] max_depth=36 ....................................................\n",
      "[CV] ..................................... max_depth=36, total=   1.0s\n",
      "[CV] max_depth=36 ....................................................\n",
      "[CV] ..................................... max_depth=36, total=   1.0s\n",
      "[CV] max_depth=36 ....................................................\n",
      "[CV] ..................................... max_depth=36, total=   1.1s\n",
      "[CV] max_depth=41 ....................................................\n",
      "[CV] ..................................... max_depth=41, total=   1.0s\n",
      "[CV] max_depth=41 ....................................................\n",
      "[CV] ..................................... max_depth=41, total=   1.0s\n",
      "[CV] max_depth=41 ....................................................\n",
      "[CV] ..................................... max_depth=41, total=   1.1s\n",
      "[CV] max_depth=46 ....................................................\n",
      "[CV] ..................................... max_depth=46, total=   1.0s\n",
      "[CV] max_depth=46 ....................................................\n",
      "[CV] ..................................... max_depth=46, total=   1.0s\n",
      "[CV] max_depth=46 ....................................................\n",
      "[CV] ..................................... max_depth=46, total=   1.1s\n",
      "{'max_depth': 1}\n",
      "\n",
      "DecisionTreeRegressor(criterion='mse', max_depth=1, max_features=None,\n",
      "                      max_leaf_nodes=None, min_impurity_decrease=0.0,\n",
      "                      min_impurity_split=None, min_samples_leaf=1,\n",
      "                      min_samples_split=2, min_weight_fraction_leaf=0.0,\n",
      "                      presort=False, random_state=12345, splitter='best')\n",
      "CPU times: user 22.8 s, sys: 45.1 ms, total: 22.9 s\n",
      "Wall time: 23.2 s\n"
     ]
    },
    {
     "name": "stderr",
     "output_type": "stream",
     "text": [
      "[Parallel(n_jobs=1)]: Done  30 out of  30 | elapsed:   23.1s finished\n"
     ]
    }
   ],
   "source": [
    "%%time\n",
    "model_tree = DecisionTreeRegressor(random_state=12345)\n",
    "tree_parameters = {\n",
    "    'max_depth': range(1, 51, 5)\n",
    "}\n",
    "grid_tree = GridSearchCV(estimator=model_tree, param_grid=tree_parameters, cv=3, scoring=smape_scorer, verbose=2)\n",
    "grid_tree.fit(features_f, target_f)\n",
    "print(grid_tree.best_params_)\n",
    "print()\n",
    "print(grid_tree.best_estimator_)\n",
    "predicted_f_test = grid_tree.predict(features_f_test)"
   ]
  },
  {
   "cell_type": "code",
   "execution_count": 45,
   "metadata": {},
   "outputs": [
    {
     "name": "stdout",
     "output_type": "stream",
     "text": [
      "sMAPE по дереву решений на этапе rougher: 10.672223637031998\n",
      "sMAPE по дереву решений на этапе final: 9.462098690409142\n",
      "Итоговая sMAPE по дереву решений: 9.764629927064856\n"
     ]
    }
   ],
   "source": [
    "smape_rougher = smape_func(target_r_test, predicted_r_test)\n",
    "print('sMAPE по дереву решений на этапе rougher:', smape_rougher)\n",
    "smape_final = smape_func(target_f_test, predicted_f_test)\n",
    "print('sMAPE по дереву решений на этапе final:', smape_final)\n",
    "smape_tree = smape_final_func(smape_rougher, smape_final)\n",
    "print('Итоговая sMAPE по дереву решений:', smape_tree)"
   ]
  },
  {
   "cell_type": "markdown",
   "metadata": {
    "id": "-OVJ5GV6PKwD"
   },
   "source": [
    "#### Модель случайного леса"
   ]
  },
  {
   "cell_type": "markdown",
   "metadata": {
    "id": "-OVJ5GV6PKwD"
   },
   "source": [
    "###### Лес - rougher"
   ]
  },
  {
   "cell_type": "code",
   "execution_count": 46,
   "metadata": {},
   "outputs": [
    {
     "name": "stdout",
     "output_type": "stream",
     "text": [
      "Fitting 3 folds for each of 50 candidates, totalling 150 fits\n",
      "[CV] max_depth=1, n_estimators=100 ...................................\n"
     ]
    },
    {
     "name": "stderr",
     "output_type": "stream",
     "text": [
      "[Parallel(n_jobs=1)]: Using backend SequentialBackend with 1 concurrent workers.\n"
     ]
    },
    {
     "name": "stdout",
     "output_type": "stream",
     "text": [
      "[CV] .................... max_depth=1, n_estimators=100, total=   1.9s\n",
      "[CV] max_depth=1, n_estimators=100 ...................................\n"
     ]
    },
    {
     "name": "stderr",
     "output_type": "stream",
     "text": [
      "[Parallel(n_jobs=1)]: Done   1 out of   1 | elapsed:    1.9s remaining:    0.0s\n"
     ]
    },
    {
     "name": "stdout",
     "output_type": "stream",
     "text": [
      "[CV] .................... max_depth=1, n_estimators=100, total=   1.9s\n",
      "[CV] max_depth=1, n_estimators=100 ...................................\n",
      "[CV] .................... max_depth=1, n_estimators=100, total=   1.9s\n",
      "[CV] max_depth=1, n_estimators=120 ...................................\n",
      "[CV] .................... max_depth=1, n_estimators=120, total=   2.2s\n",
      "[CV] max_depth=1, n_estimators=120 ...................................\n",
      "[CV] .................... max_depth=1, n_estimators=120, total=   2.3s\n",
      "[CV] max_depth=1, n_estimators=120 ...................................\n",
      "[CV] .................... max_depth=1, n_estimators=120, total=   2.3s\n",
      "[CV] max_depth=1, n_estimators=140 ...................................\n",
      "[CV] .................... max_depth=1, n_estimators=140, total=   2.6s\n",
      "[CV] max_depth=1, n_estimators=140 ...................................\n",
      "[CV] .................... max_depth=1, n_estimators=140, total=   2.6s\n",
      "[CV] max_depth=1, n_estimators=140 ...................................\n",
      "[CV] .................... max_depth=1, n_estimators=140, total=   2.6s\n",
      "[CV] max_depth=1, n_estimators=160 ...................................\n",
      "[CV] .................... max_depth=1, n_estimators=160, total=   3.0s\n",
      "[CV] max_depth=1, n_estimators=160 ...................................\n",
      "[CV] .................... max_depth=1, n_estimators=160, total=   3.0s\n",
      "[CV] max_depth=1, n_estimators=160 ...................................\n",
      "[CV] .................... max_depth=1, n_estimators=160, total=   3.0s\n",
      "[CV] max_depth=1, n_estimators=180 ...................................\n",
      "[CV] .................... max_depth=1, n_estimators=180, total=   3.3s\n",
      "[CV] max_depth=1, n_estimators=180 ...................................\n",
      "[CV] .................... max_depth=1, n_estimators=180, total=   3.4s\n",
      "[CV] max_depth=1, n_estimators=180 ...................................\n",
      "[CV] .................... max_depth=1, n_estimators=180, total=   3.4s\n",
      "[CV] max_depth=6, n_estimators=100 ...................................\n",
      "[CV] .................... max_depth=6, n_estimators=100, total=   9.5s\n",
      "[CV] max_depth=6, n_estimators=100 ...................................\n",
      "[CV] .................... max_depth=6, n_estimators=100, total=   9.0s\n",
      "[CV] max_depth=6, n_estimators=100 ...................................\n",
      "[CV] .................... max_depth=6, n_estimators=100, total=   9.4s\n",
      "[CV] max_depth=6, n_estimators=120 ...................................\n",
      "[CV] .................... max_depth=6, n_estimators=120, total=  11.4s\n",
      "[CV] max_depth=6, n_estimators=120 ...................................\n",
      "[CV] .................... max_depth=6, n_estimators=120, total=  11.0s\n",
      "[CV] max_depth=6, n_estimators=120 ...................................\n",
      "[CV] .................... max_depth=6, n_estimators=120, total=  11.1s\n",
      "[CV] max_depth=6, n_estimators=140 ...................................\n",
      "[CV] .................... max_depth=6, n_estimators=140, total=  13.3s\n",
      "[CV] max_depth=6, n_estimators=140 ...................................\n",
      "[CV] .................... max_depth=6, n_estimators=140, total=  12.8s\n",
      "[CV] max_depth=6, n_estimators=140 ...................................\n",
      "[CV] .................... max_depth=6, n_estimators=140, total=  13.0s\n",
      "[CV] max_depth=6, n_estimators=160 ...................................\n",
      "[CV] .................... max_depth=6, n_estimators=160, total=  15.1s\n",
      "[CV] max_depth=6, n_estimators=160 ...................................\n",
      "[CV] .................... max_depth=6, n_estimators=160, total=  14.5s\n",
      "[CV] max_depth=6, n_estimators=160 ...................................\n",
      "[CV] .................... max_depth=6, n_estimators=160, total=  14.7s\n",
      "[CV] max_depth=6, n_estimators=180 ...................................\n",
      "[CV] .................... max_depth=6, n_estimators=180, total=  17.1s\n",
      "[CV] max_depth=6, n_estimators=180 ...................................\n",
      "[CV] .................... max_depth=6, n_estimators=180, total=  16.5s\n",
      "[CV] max_depth=6, n_estimators=180 ...................................\n",
      "[CV] .................... max_depth=6, n_estimators=180, total=  17.0s\n",
      "[CV] max_depth=11, n_estimators=100 ..................................\n",
      "[CV] ................... max_depth=11, n_estimators=100, total=  15.9s\n",
      "[CV] max_depth=11, n_estimators=100 ..................................\n",
      "[CV] ................... max_depth=11, n_estimators=100, total=  15.1s\n",
      "[CV] max_depth=11, n_estimators=100 ..................................\n",
      "[CV] ................... max_depth=11, n_estimators=100, total=  15.2s\n",
      "[CV] max_depth=11, n_estimators=120 ..................................\n",
      "[CV] ................... max_depth=11, n_estimators=120, total=  19.0s\n",
      "[CV] max_depth=11, n_estimators=120 ..................................\n",
      "[CV] ................... max_depth=11, n_estimators=120, total=  18.4s\n",
      "[CV] max_depth=11, n_estimators=120 ..................................\n",
      "[CV] ................... max_depth=11, n_estimators=120, total=  18.5s\n",
      "[CV] max_depth=11, n_estimators=140 ..................................\n",
      "[CV] ................... max_depth=11, n_estimators=140, total=  22.1s\n",
      "[CV] max_depth=11, n_estimators=140 ..................................\n",
      "[CV] ................... max_depth=11, n_estimators=140, total=  21.3s\n",
      "[CV] max_depth=11, n_estimators=140 ..................................\n",
      "[CV] ................... max_depth=11, n_estimators=140, total=  21.4s\n",
      "[CV] max_depth=11, n_estimators=160 ..................................\n",
      "[CV] ................... max_depth=11, n_estimators=160, total=  25.1s\n",
      "[CV] max_depth=11, n_estimators=160 ..................................\n",
      "[CV] ................... max_depth=11, n_estimators=160, total=  24.0s\n",
      "[CV] max_depth=11, n_estimators=160 ..................................\n",
      "[CV] ................... max_depth=11, n_estimators=160, total=  24.3s\n",
      "[CV] max_depth=11, n_estimators=180 ..................................\n",
      "[CV] ................... max_depth=11, n_estimators=180, total=  28.2s\n",
      "[CV] max_depth=11, n_estimators=180 ..................................\n",
      "[CV] ................... max_depth=11, n_estimators=180, total=  26.9s\n",
      "[CV] max_depth=11, n_estimators=180 ..................................\n",
      "[CV] ................... max_depth=11, n_estimators=180, total=  27.8s\n",
      "[CV] max_depth=16, n_estimators=100 ..................................\n",
      "[CV] ................... max_depth=16, n_estimators=100, total=  20.6s\n",
      "[CV] max_depth=16, n_estimators=100 ..................................\n",
      "[CV] ................... max_depth=16, n_estimators=100, total=  19.1s\n",
      "[CV] max_depth=16, n_estimators=100 ..................................\n",
      "[CV] ................... max_depth=16, n_estimators=100, total=  19.9s\n",
      "[CV] max_depth=16, n_estimators=120 ..................................\n",
      "[CV] ................... max_depth=16, n_estimators=120, total=  25.2s\n",
      "[CV] max_depth=16, n_estimators=120 ..................................\n",
      "[CV] ................... max_depth=16, n_estimators=120, total=  23.0s\n",
      "[CV] max_depth=16, n_estimators=120 ..................................\n",
      "[CV] ................... max_depth=16, n_estimators=120, total=  23.9s\n",
      "[CV] max_depth=16, n_estimators=140 ..................................\n",
      "[CV] ................... max_depth=16, n_estimators=140, total=  28.9s\n",
      "[CV] max_depth=16, n_estimators=140 ..................................\n",
      "[CV] ................... max_depth=16, n_estimators=140, total=  26.9s\n",
      "[CV] max_depth=16, n_estimators=140 ..................................\n",
      "[CV] ................... max_depth=16, n_estimators=140, total=  27.7s\n",
      "[CV] max_depth=16, n_estimators=160 ..................................\n",
      "[CV] ................... max_depth=16, n_estimators=160, total=  33.3s\n",
      "[CV] max_depth=16, n_estimators=160 ..................................\n",
      "[CV] ................... max_depth=16, n_estimators=160, total=  31.1s\n",
      "[CV] max_depth=16, n_estimators=160 ..................................\n",
      "[CV] ................... max_depth=16, n_estimators=160, total=  32.2s\n",
      "[CV] max_depth=16, n_estimators=180 ..................................\n",
      "[CV] ................... max_depth=16, n_estimators=180, total=  36.9s\n",
      "[CV] max_depth=16, n_estimators=180 ..................................\n",
      "[CV] ................... max_depth=16, n_estimators=180, total=  34.3s\n",
      "[CV] max_depth=16, n_estimators=180 ..................................\n",
      "[CV] ................... max_depth=16, n_estimators=180, total=  35.7s\n",
      "[CV] max_depth=21, n_estimators=100 ..................................\n",
      "[CV] ................... max_depth=21, n_estimators=100, total=  24.1s\n",
      "[CV] max_depth=21, n_estimators=100 ..................................\n",
      "[CV] ................... max_depth=21, n_estimators=100, total=  21.7s\n",
      "[CV] max_depth=21, n_estimators=100 ..................................\n",
      "[CV] ................... max_depth=21, n_estimators=100, total=  23.2s\n",
      "[CV] max_depth=21, n_estimators=120 ..................................\n",
      "[CV] ................... max_depth=21, n_estimators=120, total=  28.5s\n",
      "[CV] max_depth=21, n_estimators=120 ..................................\n",
      "[CV] ................... max_depth=21, n_estimators=120, total=  26.1s\n",
      "[CV] max_depth=21, n_estimators=120 ..................................\n",
      "[CV] ................... max_depth=21, n_estimators=120, total=  27.4s\n",
      "[CV] max_depth=21, n_estimators=140 ..................................\n",
      "[CV] ................... max_depth=21, n_estimators=140, total=  33.7s\n",
      "[CV] max_depth=21, n_estimators=140 ..................................\n",
      "[CV] ................... max_depth=21, n_estimators=140, total=  30.5s\n",
      "[CV] max_depth=21, n_estimators=140 ..................................\n",
      "[CV] ................... max_depth=21, n_estimators=140, total=  31.9s\n",
      "[CV] max_depth=21, n_estimators=160 ..................................\n",
      "[CV] ................... max_depth=21, n_estimators=160, total=  38.1s\n",
      "[CV] max_depth=21, n_estimators=160 ..................................\n",
      "[CV] ................... max_depth=21, n_estimators=160, total=  35.4s\n",
      "[CV] max_depth=21, n_estimators=160 ..................................\n",
      "[CV] ................... max_depth=21, n_estimators=160, total=  36.5s\n",
      "[CV] max_depth=21, n_estimators=180 ..................................\n",
      "[CV] ................... max_depth=21, n_estimators=180, total=  42.8s\n",
      "[CV] max_depth=21, n_estimators=180 ..................................\n",
      "[CV] ................... max_depth=21, n_estimators=180, total=  39.0s\n",
      "[CV] max_depth=21, n_estimators=180 ..................................\n",
      "[CV] ................... max_depth=21, n_estimators=180, total=  41.1s\n",
      "[CV] max_depth=26, n_estimators=100 ..................................\n",
      "[CV] ................... max_depth=26, n_estimators=100, total=  25.7s\n",
      "[CV] max_depth=26, n_estimators=100 ..................................\n",
      "[CV] ................... max_depth=26, n_estimators=100, total=  22.5s\n",
      "[CV] max_depth=26, n_estimators=100 ..................................\n",
      "[CV] ................... max_depth=26, n_estimators=100, total=  25.0s\n",
      "[CV] max_depth=26, n_estimators=120 ..................................\n",
      "[CV] ................... max_depth=26, n_estimators=120, total=  30.8s\n",
      "[CV] max_depth=26, n_estimators=120 ..................................\n",
      "[CV] ................... max_depth=26, n_estimators=120, total=  27.0s\n",
      "[CV] max_depth=26, n_estimators=120 ..................................\n",
      "[CV] ................... max_depth=26, n_estimators=120, total=  28.7s\n",
      "[CV] max_depth=26, n_estimators=140 ..................................\n",
      "[CV] ................... max_depth=26, n_estimators=140, total=  35.7s\n",
      "[CV] max_depth=26, n_estimators=140 ..................................\n",
      "[CV] ................... max_depth=26, n_estimators=140, total=  31.5s\n",
      "[CV] max_depth=26, n_estimators=140 ..................................\n",
      "[CV] ................... max_depth=26, n_estimators=140, total=  33.9s\n",
      "[CV] max_depth=26, n_estimators=160 ..................................\n",
      "[CV] ................... max_depth=26, n_estimators=160, total=  41.2s\n",
      "[CV] max_depth=26, n_estimators=160 ..................................\n",
      "[CV] ................... max_depth=26, n_estimators=160, total=  36.1s\n",
      "[CV] max_depth=26, n_estimators=160 ..................................\n",
      "[CV] ................... max_depth=26, n_estimators=160, total=  38.7s\n",
      "[CV] max_depth=26, n_estimators=180 ..................................\n",
      "[CV] ................... max_depth=26, n_estimators=180, total=  46.1s\n",
      "[CV] max_depth=26, n_estimators=180 ..................................\n",
      "[CV] ................... max_depth=26, n_estimators=180, total=  40.8s\n",
      "[CV] max_depth=26, n_estimators=180 ..................................\n",
      "[CV] ................... max_depth=26, n_estimators=180, total=  43.3s\n",
      "[CV] max_depth=31, n_estimators=100 ..................................\n",
      "[CV] ................... max_depth=31, n_estimators=100, total=  26.3s\n",
      "[CV] max_depth=31, n_estimators=100 ..................................\n",
      "[CV] ................... max_depth=31, n_estimators=100, total=  22.9s\n",
      "[CV] max_depth=31, n_estimators=100 ..................................\n",
      "[CV] ................... max_depth=31, n_estimators=100, total=  25.1s\n",
      "[CV] max_depth=31, n_estimators=120 ..................................\n",
      "[CV] ................... max_depth=31, n_estimators=120, total=  31.4s\n",
      "[CV] max_depth=31, n_estimators=120 ..................................\n",
      "[CV] ................... max_depth=31, n_estimators=120, total=  27.2s\n",
      "[CV] max_depth=31, n_estimators=120 ..................................\n",
      "[CV] ................... max_depth=31, n_estimators=120, total=  29.7s\n",
      "[CV] max_depth=31, n_estimators=140 ..................................\n",
      "[CV] ................... max_depth=31, n_estimators=140, total=  36.8s\n",
      "[CV] max_depth=31, n_estimators=140 ..................................\n",
      "[CV] ................... max_depth=31, n_estimators=140, total=  32.1s\n",
      "[CV] max_depth=31, n_estimators=140 ..................................\n",
      "[CV] ................... max_depth=31, n_estimators=140, total=  34.7s\n",
      "[CV] max_depth=31, n_estimators=160 ..................................\n",
      "[CV] ................... max_depth=31, n_estimators=160, total=  41.9s\n",
      "[CV] max_depth=31, n_estimators=160 ..................................\n",
      "[CV] ................... max_depth=31, n_estimators=160, total=  36.7s\n",
      "[CV] max_depth=31, n_estimators=160 ..................................\n",
      "[CV] ................... max_depth=31, n_estimators=160, total=  39.4s\n",
      "[CV] max_depth=31, n_estimators=180 ..................................\n",
      "[CV] ................... max_depth=31, n_estimators=180, total=  47.1s\n",
      "[CV] max_depth=31, n_estimators=180 ..................................\n",
      "[CV] ................... max_depth=31, n_estimators=180, total=  41.4s\n",
      "[CV] max_depth=31, n_estimators=180 ..................................\n",
      "[CV] ................... max_depth=31, n_estimators=180, total=  44.6s\n",
      "[CV] max_depth=36, n_estimators=100 ..................................\n",
      "[CV] ................... max_depth=36, n_estimators=100, total=  27.7s\n",
      "[CV] max_depth=36, n_estimators=100 ..................................\n",
      "[CV] ................... max_depth=36, n_estimators=100, total=  22.8s\n",
      "[CV] max_depth=36, n_estimators=100 ..................................\n",
      "[CV] ................... max_depth=36, n_estimators=100, total=  26.3s\n",
      "[CV] max_depth=36, n_estimators=120 ..................................\n",
      "[CV] ................... max_depth=36, n_estimators=120, total=  31.4s\n",
      "[CV] max_depth=36, n_estimators=120 ..................................\n",
      "[CV] ................... max_depth=36, n_estimators=120, total=  27.6s\n",
      "[CV] max_depth=36, n_estimators=120 ..................................\n",
      "[CV] ................... max_depth=36, n_estimators=120, total=  29.8s\n",
      "[CV] max_depth=36, n_estimators=140 ..................................\n",
      "[CV] ................... max_depth=36, n_estimators=140, total=  36.7s\n",
      "[CV] max_depth=36, n_estimators=140 ..................................\n",
      "[CV] ................... max_depth=36, n_estimators=140, total=  32.7s\n",
      "[CV] max_depth=36, n_estimators=140 ..................................\n",
      "[CV] ................... max_depth=36, n_estimators=140, total=  34.7s\n",
      "[CV] max_depth=36, n_estimators=160 ..................................\n",
      "[CV] ................... max_depth=36, n_estimators=160, total=  42.1s\n",
      "[CV] max_depth=36, n_estimators=160 ..................................\n",
      "[CV] ................... max_depth=36, n_estimators=160, total=  36.5s\n",
      "[CV] max_depth=36, n_estimators=160 ..................................\n",
      "[CV] ................... max_depth=36, n_estimators=160, total=  39.7s\n",
      "[CV] max_depth=36, n_estimators=180 ..................................\n",
      "[CV] ................... max_depth=36, n_estimators=180, total=  47.1s\n",
      "[CV] max_depth=36, n_estimators=180 ..................................\n",
      "[CV] ................... max_depth=36, n_estimators=180, total=  41.2s\n",
      "[CV] max_depth=36, n_estimators=180 ..................................\n",
      "[CV] ................... max_depth=36, n_estimators=180, total=  45.2s\n",
      "[CV] max_depth=41, n_estimators=100 ..................................\n",
      "[CV] ................... max_depth=41, n_estimators=100, total=  26.7s\n",
      "[CV] max_depth=41, n_estimators=100 ..................................\n",
      "[CV] ................... max_depth=41, n_estimators=100, total=  22.7s\n",
      "[CV] max_depth=41, n_estimators=100 ..................................\n",
      "[CV] ................... max_depth=41, n_estimators=100, total=  24.7s\n",
      "[CV] max_depth=41, n_estimators=120 ..................................\n",
      "[CV] ................... max_depth=41, n_estimators=120, total=  31.6s\n",
      "[CV] max_depth=41, n_estimators=120 ..................................\n",
      "[CV] ................... max_depth=41, n_estimators=120, total=  27.5s\n",
      "[CV] max_depth=41, n_estimators=120 ..................................\n",
      "[CV] ................... max_depth=41, n_estimators=120, total=  29.8s\n",
      "[CV] max_depth=41, n_estimators=140 ..................................\n",
      "[CV] ................... max_depth=41, n_estimators=140, total=  36.7s\n",
      "[CV] max_depth=41, n_estimators=140 ..................................\n",
      "[CV] ................... max_depth=41, n_estimators=140, total=  32.1s\n",
      "[CV] max_depth=41, n_estimators=140 ..................................\n",
      "[CV] ................... max_depth=41, n_estimators=140, total=  34.6s\n",
      "[CV] max_depth=41, n_estimators=160 ..................................\n",
      "[CV] ................... max_depth=41, n_estimators=160, total=  42.2s\n",
      "[CV] max_depth=41, n_estimators=160 ..................................\n",
      "[CV] ................... max_depth=41, n_estimators=160, total=  36.8s\n",
      "[CV] max_depth=41, n_estimators=160 ..................................\n",
      "[CV] ................... max_depth=41, n_estimators=160, total=  39.7s\n",
      "[CV] max_depth=41, n_estimators=180 ..................................\n",
      "[CV] ................... max_depth=41, n_estimators=180, total=  47.0s\n",
      "[CV] max_depth=41, n_estimators=180 ..................................\n",
      "[CV] ................... max_depth=41, n_estimators=180, total=  41.9s\n",
      "[CV] max_depth=41, n_estimators=180 ..................................\n",
      "[CV] ................... max_depth=41, n_estimators=180, total=  44.9s\n",
      "[CV] max_depth=46, n_estimators=100 ..................................\n",
      "[CV] ................... max_depth=46, n_estimators=100, total=  26.5s\n",
      "[CV] max_depth=46, n_estimators=100 ..................................\n",
      "[CV] ................... max_depth=46, n_estimators=100, total=  23.0s\n",
      "[CV] max_depth=46, n_estimators=100 ..................................\n",
      "[CV] ................... max_depth=46, n_estimators=100, total=  24.9s\n",
      "[CV] max_depth=46, n_estimators=120 ..................................\n",
      "[CV] ................... max_depth=46, n_estimators=120, total=  32.0s\n",
      "[CV] max_depth=46, n_estimators=120 ..................................\n",
      "[CV] ................... max_depth=46, n_estimators=120, total=  27.6s\n",
      "[CV] max_depth=46, n_estimators=120 ..................................\n",
      "[CV] ................... max_depth=46, n_estimators=120, total=  29.7s\n",
      "[CV] max_depth=46, n_estimators=140 ..................................\n",
      "[CV] ................... max_depth=46, n_estimators=140, total=  37.2s\n",
      "[CV] max_depth=46, n_estimators=140 ..................................\n",
      "[CV] ................... max_depth=46, n_estimators=140, total=  32.4s\n",
      "[CV] max_depth=46, n_estimators=140 ..................................\n",
      "[CV] ................... max_depth=46, n_estimators=140, total=  35.0s\n",
      "[CV] max_depth=46, n_estimators=160 ..................................\n",
      "[CV] ................... max_depth=46, n_estimators=160, total=  42.5s\n",
      "[CV] max_depth=46, n_estimators=160 ..................................\n",
      "[CV] ................... max_depth=46, n_estimators=160, total=  36.4s\n",
      "[CV] max_depth=46, n_estimators=160 ..................................\n",
      "[CV] ................... max_depth=46, n_estimators=160, total=  39.6s\n",
      "[CV] max_depth=46, n_estimators=180 ..................................\n",
      "[CV] ................... max_depth=46, n_estimators=180, total=  48.0s\n",
      "[CV] max_depth=46, n_estimators=180 ..................................\n",
      "[CV] ................... max_depth=46, n_estimators=180, total=  41.5s\n",
      "[CV] max_depth=46, n_estimators=180 ..................................\n",
      "[CV] ................... max_depth=46, n_estimators=180, total=  45.5s\n"
     ]
    },
    {
     "name": "stderr",
     "output_type": "stream",
     "text": [
      "[Parallel(n_jobs=1)]: Done 150 out of 150 | elapsed: 67.4min finished\n"
     ]
    },
    {
     "name": "stdout",
     "output_type": "stream",
     "text": [
      "{'max_depth': 1, 'n_estimators': 100}\n",
      "CPU times: user 1h 6min 46s, sys: 7.31 s, total: 1h 6min 54s\n",
      "Wall time: 1h 7min 26s\n"
     ]
    }
   ],
   "source": [
    "%%time\n",
    "model_forest = RandomForestRegressor(random_state=12345)\n",
    "forest_parameters = {\n",
    "    'max_depth': range(1, 51, 5),\n",
    "    'n_estimators': range(100, 200, 20)\n",
    "}\n",
    "grid_forest = GridSearchCV(\n",
    "    estimator=model_forest, param_grid=forest_parameters, cv=3, scoring=smape_scorer, verbose=2)\n",
    "grid_forest.fit(features_r, target_r)\n",
    "print(grid_forest.best_params_)\n",
    "#print()\n",
    "#print(grid_forest.best_estimator_)\n",
    "predicted_r_test = grid_forest.predict(features_r_test)"
   ]
  },
  {
   "cell_type": "markdown",
   "metadata": {
    "id": "-OVJ5GV6PKwD"
   },
   "source": [
    "###### Лес - final"
   ]
  },
  {
   "cell_type": "code",
   "execution_count": 47,
   "metadata": {},
   "outputs": [
    {
     "name": "stdout",
     "output_type": "stream",
     "text": [
      "Fitting 3 folds for each of 50 candidates, totalling 150 fits\n",
      "[CV] max_depth=1, n_estimators=100 ...................................\n"
     ]
    },
    {
     "name": "stderr",
     "output_type": "stream",
     "text": [
      "[Parallel(n_jobs=1)]: Using backend SequentialBackend with 1 concurrent workers.\n"
     ]
    },
    {
     "name": "stdout",
     "output_type": "stream",
     "text": [
      "[CV] ..... max_depth=1, n_estimators=100, score=-10.485, total=   4.1s\n",
      "[CV] max_depth=1, n_estimators=100 ...................................\n"
     ]
    },
    {
     "name": "stderr",
     "output_type": "stream",
     "text": [
      "[Parallel(n_jobs=1)]: Done   1 out of   1 | elapsed:    4.1s remaining:    0.0s\n"
     ]
    },
    {
     "name": "stdout",
     "output_type": "stream",
     "text": [
      "[CV] ..... max_depth=1, n_estimators=100, score=-11.372, total=   4.1s\n",
      "[CV] max_depth=1, n_estimators=100 ...................................\n"
     ]
    },
    {
     "name": "stderr",
     "output_type": "stream",
     "text": [
      "[Parallel(n_jobs=1)]: Done   2 out of   2 | elapsed:    8.3s remaining:    0.0s\n"
     ]
    },
    {
     "name": "stdout",
     "output_type": "stream",
     "text": [
      "[CV] ..... max_depth=1, n_estimators=100, score=-11.969, total=   4.1s\n",
      "[CV] max_depth=1, n_estimators=120 ...................................\n",
      "[CV] ..... max_depth=1, n_estimators=120, score=-10.485, total=   4.9s\n",
      "[CV] max_depth=1, n_estimators=120 ...................................\n",
      "[CV] ..... max_depth=1, n_estimators=120, score=-11.375, total=   4.9s\n",
      "[CV] max_depth=1, n_estimators=120 ...................................\n",
      "[CV] ..... max_depth=1, n_estimators=120, score=-11.967, total=   5.0s\n",
      "[CV] max_depth=1, n_estimators=140 ...................................\n",
      "[CV] ..... max_depth=1, n_estimators=140, score=-10.516, total=   5.9s\n",
      "[CV] max_depth=1, n_estimators=140 ...................................\n",
      "[CV] ..... max_depth=1, n_estimators=140, score=-11.373, total=   5.8s\n",
      "[CV] max_depth=1, n_estimators=140 ...................................\n",
      "[CV] ..... max_depth=1, n_estimators=140, score=-11.967, total=   5.7s\n",
      "[CV] max_depth=1, n_estimators=160 ...................................\n",
      "[CV] ..... max_depth=1, n_estimators=160, score=-10.529, total=   6.6s\n",
      "[CV] max_depth=1, n_estimators=160 ...................................\n",
      "[CV] ..... max_depth=1, n_estimators=160, score=-11.372, total=   6.7s\n",
      "[CV] max_depth=1, n_estimators=160 ...................................\n",
      "[CV] ..... max_depth=1, n_estimators=160, score=-11.964, total=   6.5s\n",
      "[CV] max_depth=1, n_estimators=180 ...................................\n",
      "[CV] ..... max_depth=1, n_estimators=180, score=-10.496, total=   7.5s\n",
      "[CV] max_depth=1, n_estimators=180 ...................................\n",
      "[CV] ..... max_depth=1, n_estimators=180, score=-11.373, total=   7.6s\n",
      "[CV] max_depth=1, n_estimators=180 ...................................\n",
      "[CV] ..... max_depth=1, n_estimators=180, score=-11.959, total=   7.6s\n",
      "[CV] max_depth=6, n_estimators=100 ...................................\n",
      "[CV] ..... max_depth=6, n_estimators=100, score=-10.536, total=  20.9s\n",
      "[CV] max_depth=6, n_estimators=100 ...................................\n",
      "[CV] ..... max_depth=6, n_estimators=100, score=-10.843, total=  21.0s\n",
      "[CV] max_depth=6, n_estimators=100 ...................................\n",
      "[CV] ..... max_depth=6, n_estimators=100, score=-13.067, total=  21.7s\n",
      "[CV] max_depth=6, n_estimators=120 ...................................\n",
      "[CV] ..... max_depth=6, n_estimators=120, score=-10.528, total=  25.4s\n",
      "[CV] max_depth=6, n_estimators=120 ...................................\n",
      "[CV] ..... max_depth=6, n_estimators=120, score=-10.786, total=  25.3s\n",
      "[CV] max_depth=6, n_estimators=120 ...................................\n",
      "[CV] ..... max_depth=6, n_estimators=120, score=-13.054, total=  26.9s\n",
      "[CV] max_depth=6, n_estimators=140 ...................................\n",
      "[CV] ..... max_depth=6, n_estimators=140, score=-10.480, total=  29.7s\n",
      "[CV] max_depth=6, n_estimators=140 ...................................\n",
      "[CV] ..... max_depth=6, n_estimators=140, score=-10.805, total=  28.9s\n",
      "[CV] max_depth=6, n_estimators=140 ...................................\n",
      "[CV] ..... max_depth=6, n_estimators=140, score=-13.090, total=  29.8s\n",
      "[CV] max_depth=6, n_estimators=160 ...................................\n",
      "[CV] ..... max_depth=6, n_estimators=160, score=-10.383, total=  33.6s\n",
      "[CV] max_depth=6, n_estimators=160 ...................................\n",
      "[CV] ..... max_depth=6, n_estimators=160, score=-10.868, total=  33.8s\n",
      "[CV] max_depth=6, n_estimators=160 ...................................\n",
      "[CV] ..... max_depth=6, n_estimators=160, score=-13.112, total=  34.2s\n",
      "[CV] max_depth=6, n_estimators=180 ...................................\n",
      "[CV] ..... max_depth=6, n_estimators=180, score=-10.357, total=  37.7s\n",
      "[CV] max_depth=6, n_estimators=180 ...................................\n",
      "[CV] ..... max_depth=6, n_estimators=180, score=-10.889, total=  37.7s\n",
      "[CV] max_depth=6, n_estimators=180 ...................................\n",
      "[CV] ..... max_depth=6, n_estimators=180, score=-13.124, total=  39.0s\n",
      "[CV] max_depth=11, n_estimators=100 ..................................\n",
      "[CV] .... max_depth=11, n_estimators=100, score=-12.549, total=  35.3s\n",
      "[CV] max_depth=11, n_estimators=100 ..................................\n",
      "[CV] .... max_depth=11, n_estimators=100, score=-10.745, total=  34.5s\n",
      "[CV] max_depth=11, n_estimators=100 ..................................\n",
      "[CV] .... max_depth=11, n_estimators=100, score=-13.310, total=  36.8s\n",
      "[CV] max_depth=11, n_estimators=120 ..................................\n",
      "[CV] .... max_depth=11, n_estimators=120, score=-12.676, total=  43.0s\n",
      "[CV] max_depth=11, n_estimators=120 ..................................\n",
      "[CV] .... max_depth=11, n_estimators=120, score=-10.758, total=  42.0s\n",
      "[CV] max_depth=11, n_estimators=120 ..................................\n",
      "[CV] .... max_depth=11, n_estimators=120, score=-13.133, total=  54.5s\n",
      "[CV] max_depth=11, n_estimators=140 ..................................\n",
      "[CV] .... max_depth=11, n_estimators=140, score=-12.485, total=  48.4s\n",
      "[CV] max_depth=11, n_estimators=140 ..................................\n",
      "[CV] .... max_depth=11, n_estimators=140, score=-10.850, total=  47.7s\n",
      "[CV] max_depth=11, n_estimators=140 ..................................\n",
      "[CV] .... max_depth=11, n_estimators=140, score=-13.232, total=  49.9s\n",
      "[CV] max_depth=11, n_estimators=160 ..................................\n",
      "[CV] .... max_depth=11, n_estimators=160, score=-12.397, total=  55.6s\n",
      "[CV] max_depth=11, n_estimators=160 ..................................\n",
      "[CV] .... max_depth=11, n_estimators=160, score=-10.921, total=  53.9s\n",
      "[CV] max_depth=11, n_estimators=160 ..................................\n",
      "[CV] .... max_depth=11, n_estimators=160, score=-13.162, total=  56.9s\n",
      "[CV] max_depth=11, n_estimators=180 ..................................\n",
      "[CV] .... max_depth=11, n_estimators=180, score=-12.343, total= 1.0min\n",
      "[CV] max_depth=11, n_estimators=180 ..................................\n",
      "[CV] .... max_depth=11, n_estimators=180, score=-10.982, total= 1.0min\n",
      "[CV] max_depth=11, n_estimators=180 ..................................\n",
      "[CV] .... max_depth=11, n_estimators=180, score=-13.130, total= 1.1min\n",
      "[CV] max_depth=16, n_estimators=100 ..................................\n",
      "[CV] .... max_depth=16, n_estimators=100, score=-12.586, total=  45.6s\n",
      "[CV] max_depth=16, n_estimators=100 ..................................\n",
      "[CV] .... max_depth=16, n_estimators=100, score=-10.812, total=  43.9s\n",
      "[CV] max_depth=16, n_estimators=100 ..................................\n",
      "[CV] .... max_depth=16, n_estimators=100, score=-13.557, total=  46.8s\n",
      "[CV] max_depth=16, n_estimators=120 ..................................\n",
      "[CV] .... max_depth=16, n_estimators=120, score=-12.550, total=  54.8s\n",
      "[CV] max_depth=16, n_estimators=120 ..................................\n",
      "[CV] .... max_depth=16, n_estimators=120, score=-10.867, total=  52.2s\n",
      "[CV] max_depth=16, n_estimators=120 ..................................\n",
      "[CV] .... max_depth=16, n_estimators=120, score=-13.408, total=  56.3s\n",
      "[CV] max_depth=16, n_estimators=140 ..................................\n",
      "[CV] .... max_depth=16, n_estimators=140, score=-12.376, total= 1.1min\n",
      "[CV] max_depth=16, n_estimators=140 ..................................\n",
      "[CV] .... max_depth=16, n_estimators=140, score=-10.942, total= 1.0min\n",
      "[CV] max_depth=16, n_estimators=140 ..................................\n",
      "[CV] .... max_depth=16, n_estimators=140, score=-13.425, total= 1.1min\n",
      "[CV] max_depth=16, n_estimators=160 ..................................\n",
      "[CV] .... max_depth=16, n_estimators=160, score=-12.405, total= 1.2min\n",
      "[CV] max_depth=16, n_estimators=160 ..................................\n",
      "[CV] .... max_depth=16, n_estimators=160, score=-11.012, total= 1.2min\n",
      "[CV] max_depth=16, n_estimators=160 ..................................\n",
      "[CV] .... max_depth=16, n_estimators=160, score=-13.367, total= 1.3min\n",
      "[CV] max_depth=16, n_estimators=180 ..................................\n",
      "[CV] .... max_depth=16, n_estimators=180, score=-12.337, total= 1.4min\n",
      "[CV] max_depth=16, n_estimators=180 ..................................\n",
      "[CV] .... max_depth=16, n_estimators=180, score=-11.070, total= 1.3min\n",
      "[CV] max_depth=16, n_estimators=180 ..................................\n",
      "[CV] .... max_depth=16, n_estimators=180, score=-13.335, total= 1.4min\n",
      "[CV] max_depth=21, n_estimators=100 ..................................\n",
      "[CV] .... max_depth=21, n_estimators=100, score=-12.675, total=  52.7s\n",
      "[CV] max_depth=21, n_estimators=100 ..................................\n",
      "[CV] .... max_depth=21, n_estimators=100, score=-11.117, total=  49.3s\n",
      "[CV] max_depth=21, n_estimators=100 ..................................\n",
      "[CV] .... max_depth=21, n_estimators=100, score=-13.855, total=  54.5s\n",
      "[CV] max_depth=21, n_estimators=120 ..................................\n",
      "[CV] .... max_depth=21, n_estimators=120, score=-12.752, total= 1.1min\n",
      "[CV] max_depth=21, n_estimators=120 ..................................\n",
      "[CV] .... max_depth=21, n_estimators=120, score=-11.109, total=  59.1s\n",
      "[CV] max_depth=21, n_estimators=120 ..................................\n",
      "[CV] .... max_depth=21, n_estimators=120, score=-13.568, total= 1.1min\n",
      "[CV] max_depth=21, n_estimators=140 ..................................\n",
      "[CV] .... max_depth=21, n_estimators=140, score=-12.594, total= 1.2min\n",
      "[CV] max_depth=21, n_estimators=140 ..................................\n",
      "[CV] .... max_depth=21, n_estimators=140, score=-11.188, total= 1.1min\n",
      "[CV] max_depth=21, n_estimators=140 ..................................\n",
      "[CV] .... max_depth=21, n_estimators=140, score=-13.638, total= 1.3min\n",
      "[CV] max_depth=21, n_estimators=160 ..................................\n",
      "[CV] .... max_depth=21, n_estimators=160, score=-12.516, total= 1.4min\n",
      "[CV] max_depth=21, n_estimators=160 ..................................\n",
      "[CV] .... max_depth=21, n_estimators=160, score=-11.267, total= 1.3min\n",
      "[CV] max_depth=21, n_estimators=160 ..................................\n",
      "[CV] .... max_depth=21, n_estimators=160, score=-13.538, total= 1.5min\n",
      "[CV] max_depth=21, n_estimators=180 ..................................\n",
      "[CV] .... max_depth=21, n_estimators=180, score=-12.494, total= 1.6min\n",
      "[CV] max_depth=21, n_estimators=180 ..................................\n",
      "[CV] .... max_depth=21, n_estimators=180, score=-11.247, total= 1.5min\n",
      "[CV] max_depth=21, n_estimators=180 ..................................\n",
      "[CV] .... max_depth=21, n_estimators=180, score=-13.526, total= 1.7min\n",
      "[CV] max_depth=26, n_estimators=100 ..................................\n",
      "[CV] .... max_depth=26, n_estimators=100, score=-12.639, total=  57.7s\n",
      "[CV] max_depth=26, n_estimators=100 ..................................\n",
      "[CV] .... max_depth=26, n_estimators=100, score=-10.901, total=  51.2s\n",
      "[CV] max_depth=26, n_estimators=100 ..................................\n",
      "[CV] .... max_depth=26, n_estimators=100, score=-13.673, total=  58.8s\n",
      "[CV] max_depth=26, n_estimators=120 ..................................\n",
      "[CV] .... max_depth=26, n_estimators=120, score=-12.631, total= 1.1min\n",
      "[CV] max_depth=26, n_estimators=120 ..................................\n",
      "[CV] .... max_depth=26, n_estimators=120, score=-10.950, total= 1.0min\n",
      "[CV] max_depth=26, n_estimators=120 ..................................\n",
      "[CV] .... max_depth=26, n_estimators=120, score=-13.530, total= 1.2min\n",
      "[CV] max_depth=26, n_estimators=140 ..................................\n",
      "[CV] .... max_depth=26, n_estimators=140, score=-12.451, total= 1.3min\n",
      "[CV] max_depth=26, n_estimators=140 ..................................\n",
      "[CV] .... max_depth=26, n_estimators=140, score=-11.010, total= 1.2min\n",
      "[CV] max_depth=26, n_estimators=140 ..................................\n",
      "[CV] .... max_depth=26, n_estimators=140, score=-13.609, total= 1.4min\n",
      "[CV] max_depth=26, n_estimators=160 ..................................\n",
      "[CV] .... max_depth=26, n_estimators=160, score=-12.480, total= 1.5min\n",
      "[CV] max_depth=26, n_estimators=160 ..................................\n",
      "[CV] .... max_depth=26, n_estimators=160, score=-11.049, total= 1.4min\n",
      "[CV] max_depth=26, n_estimators=160 ..................................\n",
      "[CV] .... max_depth=26, n_estimators=160, score=-13.536, total= 1.6min\n",
      "[CV] max_depth=26, n_estimators=180 ..................................\n",
      "[CV] .... max_depth=26, n_estimators=180, score=-12.484, total= 1.7min\n",
      "[CV] max_depth=26, n_estimators=180 ..................................\n",
      "[CV] .... max_depth=26, n_estimators=180, score=-11.078, total= 1.5min\n",
      "[CV] max_depth=26, n_estimators=180 ..................................\n",
      "[CV] .... max_depth=26, n_estimators=180, score=-13.544, total= 1.8min\n",
      "[CV] max_depth=31, n_estimators=100 ..................................\n",
      "[CV] .... max_depth=31, n_estimators=100, score=-12.789, total=  57.7s\n",
      "[CV] max_depth=31, n_estimators=100 ..................................\n",
      "[CV] .... max_depth=31, n_estimators=100, score=-10.957, total=  51.8s\n",
      "[CV] max_depth=31, n_estimators=100 ..................................\n",
      "[CV] .... max_depth=31, n_estimators=100, score=-13.798, total= 1.0min\n",
      "[CV] max_depth=31, n_estimators=120 ..................................\n",
      "[CV] .... max_depth=31, n_estimators=120, score=-12.867, total= 1.2min\n",
      "[CV] max_depth=31, n_estimators=120 ..................................\n",
      "[CV] .... max_depth=31, n_estimators=120, score=-10.938, total= 1.0min\n",
      "[CV] max_depth=31, n_estimators=120 ..................................\n",
      "[CV] .... max_depth=31, n_estimators=120, score=-13.600, total= 1.2min\n",
      "[CV] max_depth=31, n_estimators=140 ..................................\n",
      "[CV] .... max_depth=31, n_estimators=140, score=-12.700, total= 1.4min\n",
      "[CV] max_depth=31, n_estimators=140 ..................................\n",
      "[CV] .... max_depth=31, n_estimators=140, score=-11.001, total= 1.2min\n",
      "[CV] max_depth=31, n_estimators=140 ..................................\n",
      "[CV] .... max_depth=31, n_estimators=140, score=-13.618, total= 1.4min\n",
      "[CV] max_depth=31, n_estimators=160 ..................................\n",
      "[CV] .... max_depth=31, n_estimators=160, score=-12.630, total= 1.5min\n",
      "[CV] max_depth=31, n_estimators=160 ..................................\n",
      "[CV] .... max_depth=31, n_estimators=160, score=-11.020, total= 1.4min\n",
      "[CV] max_depth=31, n_estimators=160 ..................................\n",
      "[CV] .... max_depth=31, n_estimators=160, score=-13.506, total= 1.6min\n",
      "[CV] max_depth=31, n_estimators=180 ..................................\n",
      "[CV] .... max_depth=31, n_estimators=180, score=-12.615, total= 1.7min\n",
      "[CV] max_depth=31, n_estimators=180 ..................................\n",
      "[CV] .... max_depth=31, n_estimators=180, score=-11.036, total= 1.6min\n",
      "[CV] max_depth=31, n_estimators=180 ..................................\n",
      "[CV] .... max_depth=31, n_estimators=180, score=-13.458, total= 1.8min\n",
      "[CV] max_depth=36, n_estimators=100 ..................................\n",
      "[CV] .... max_depth=36, n_estimators=100, score=-12.206, total=  58.4s\n",
      "[CV] max_depth=36, n_estimators=100 ..................................\n",
      "[CV] .... max_depth=36, n_estimators=100, score=-10.951, total=  51.8s\n",
      "[CV] max_depth=36, n_estimators=100 ..................................\n",
      "[CV] .... max_depth=36, n_estimators=100, score=-13.967, total= 1.0min\n",
      "[CV] max_depth=36, n_estimators=120 ..................................\n",
      "[CV] .... max_depth=36, n_estimators=120, score=-12.291, total= 1.2min\n",
      "[CV] max_depth=36, n_estimators=120 ..................................\n",
      "[CV] .... max_depth=36, n_estimators=120, score=-11.029, total= 1.1min\n",
      "[CV] max_depth=36, n_estimators=120 ..................................\n",
      "[CV] .... max_depth=36, n_estimators=120, score=-13.747, total= 1.2min\n",
      "[CV] max_depth=36, n_estimators=140 ..................................\n",
      "[CV] .... max_depth=36, n_estimators=140, score=-12.159, total= 1.4min\n",
      "[CV] max_depth=36, n_estimators=140 ..................................\n",
      "[CV] .... max_depth=36, n_estimators=140, score=-11.074, total= 1.2min\n",
      "[CV] max_depth=36, n_estimators=140 ..................................\n",
      "[CV] .... max_depth=36, n_estimators=140, score=-13.701, total= 1.5min\n",
      "[CV] max_depth=36, n_estimators=160 ..................................\n",
      "[CV] .... max_depth=36, n_estimators=160, score=-12.212, total= 1.6min\n",
      "[CV] max_depth=36, n_estimators=160 ..................................\n",
      "[CV] .... max_depth=36, n_estimators=160, score=-11.088, total= 1.4min\n",
      "[CV] max_depth=36, n_estimators=160 ..................................\n",
      "[CV] .... max_depth=36, n_estimators=160, score=-13.630, total= 1.7min\n",
      "[CV] max_depth=36, n_estimators=180 ..................................\n",
      "[CV] .... max_depth=36, n_estimators=180, score=-12.266, total= 1.8min\n",
      "[CV] max_depth=36, n_estimators=180 ..................................\n",
      "[CV] .... max_depth=36, n_estimators=180, score=-11.113, total= 1.6min\n",
      "[CV] max_depth=36, n_estimators=180 ..................................\n",
      "[CV] .... max_depth=36, n_estimators=180, score=-13.581, total= 1.9min\n",
      "[CV] max_depth=41, n_estimators=100 ..................................\n",
      "[CV] .... max_depth=41, n_estimators=100, score=-12.402, total=  59.8s\n",
      "[CV] max_depth=41, n_estimators=100 ..................................\n",
      "[CV] .... max_depth=41, n_estimators=100, score=-10.903, total=  52.1s\n",
      "[CV] max_depth=41, n_estimators=100 ..................................\n",
      "[CV] .... max_depth=41, n_estimators=100, score=-13.812, total= 1.0min\n",
      "[CV] max_depth=41, n_estimators=120 ..................................\n",
      "[CV] .... max_depth=41, n_estimators=120, score=-12.579, total= 1.2min\n",
      "[CV] max_depth=41, n_estimators=120 ..................................\n",
      "[CV] .... max_depth=41, n_estimators=120, score=-10.983, total= 1.0min\n",
      "[CV] max_depth=41, n_estimators=120 ..................................\n",
      "[CV] .... max_depth=41, n_estimators=120, score=-13.610, total= 1.2min\n",
      "[CV] max_depth=41, n_estimators=140 ..................................\n",
      "[CV] .... max_depth=41, n_estimators=140, score=-12.459, total= 1.4min\n",
      "[CV] max_depth=41, n_estimators=140 ..................................\n",
      "[CV] .... max_depth=41, n_estimators=140, score=-11.007, total= 1.2min\n",
      "[CV] max_depth=41, n_estimators=140 ..................................\n",
      "[CV] .... max_depth=41, n_estimators=140, score=-13.634, total= 1.5min\n",
      "[CV] max_depth=41, n_estimators=160 ..................................\n",
      "[CV] .... max_depth=41, n_estimators=160, score=-12.495, total= 1.6min\n",
      "[CV] max_depth=41, n_estimators=160 ..................................\n",
      "[CV] .... max_depth=41, n_estimators=160, score=-11.047, total= 1.4min\n",
      "[CV] max_depth=41, n_estimators=160 ..................................\n",
      "[CV] .... max_depth=41, n_estimators=160, score=-13.572, total= 1.6min\n",
      "[CV] max_depth=41, n_estimators=180 ..................................\n",
      "[CV] .... max_depth=41, n_estimators=180, score=-12.449, total= 1.8min\n",
      "[CV] max_depth=41, n_estimators=180 ..................................\n",
      "[CV] .... max_depth=41, n_estimators=180, score=-11.080, total= 1.6min\n",
      "[CV] max_depth=41, n_estimators=180 ..................................\n",
      "[CV] .... max_depth=41, n_estimators=180, score=-13.562, total= 1.9min\n",
      "[CV] max_depth=46, n_estimators=100 ..................................\n",
      "[CV] .... max_depth=46, n_estimators=100, score=-12.328, total=  59.1s\n",
      "[CV] max_depth=46, n_estimators=100 ..................................\n",
      "[CV] .... max_depth=46, n_estimators=100, score=-10.960, total=  52.5s\n",
      "[CV] max_depth=46, n_estimators=100 ..................................\n",
      "[CV] .... max_depth=46, n_estimators=100, score=-13.921, total= 1.0min\n",
      "[CV] max_depth=46, n_estimators=120 ..................................\n",
      "[CV] .... max_depth=46, n_estimators=120, score=-12.531, total= 1.2min\n",
      "[CV] max_depth=46, n_estimators=120 ..................................\n",
      "[CV] .... max_depth=46, n_estimators=120, score=-11.029, total= 1.1min\n",
      "[CV] max_depth=46, n_estimators=120 ..................................\n",
      "[CV] .... max_depth=46, n_estimators=120, score=-13.712, total= 1.3min\n",
      "[CV] max_depth=46, n_estimators=140 ..................................\n",
      "[CV] .... max_depth=46, n_estimators=140, score=-12.396, total= 1.5min\n",
      "[CV] max_depth=46, n_estimators=140 ..................................\n",
      "[CV] .... max_depth=46, n_estimators=140, score=-11.047, total= 1.3min\n",
      "[CV] max_depth=46, n_estimators=140 ..................................\n",
      "[CV] .... max_depth=46, n_estimators=140, score=-13.721, total= 1.5min\n",
      "[CV] max_depth=46, n_estimators=160 ..................................\n",
      "[CV] .... max_depth=46, n_estimators=160, score=-12.421, total= 1.6min\n",
      "[CV] max_depth=46, n_estimators=160 ..................................\n",
      "[CV] .... max_depth=46, n_estimators=160, score=-11.078, total= 1.4min\n",
      "[CV] max_depth=46, n_estimators=160 ..................................\n",
      "[CV] .... max_depth=46, n_estimators=160, score=-13.688, total= 1.7min\n",
      "[CV] max_depth=46, n_estimators=180 ..................................\n",
      "[CV] .... max_depth=46, n_estimators=180, score=-12.343, total= 1.8min\n",
      "[CV] max_depth=46, n_estimators=180 ..................................\n",
      "[CV] .... max_depth=46, n_estimators=180, score=-11.079, total= 1.6min\n",
      "[CV] max_depth=46, n_estimators=180 ..................................\n",
      "[CV] .... max_depth=46, n_estimators=180, score=-13.663, total= 1.9min\n"
     ]
    },
    {
     "name": "stderr",
     "output_type": "stream",
     "text": [
      "[Parallel(n_jobs=1)]: Done 150 out of 150 | elapsed: 156.2min finished\n"
     ]
    },
    {
     "name": "stdout",
     "output_type": "stream",
     "text": [
      "{'max_depth': 1, 'n_estimators': 100}\n",
      "CPU times: user 2h 34min 19s, sys: 4.95 s, total: 2h 34min 24s\n",
      "Wall time: 2h 36min 16s\n"
     ]
    }
   ],
   "source": [
    "%%time\n",
    "model_forest = RandomForestRegressor(random_state=12345)\n",
    "forest_parameters = {\n",
    "    'max_depth': range(1, 51, 5),\n",
    "    'n_estimators': range(100, 200, 20)\n",
    "}\n",
    "grid_forest = GridSearchCV(\n",
    "    estimator=model_forest, param_grid=forest_parameters, cv=3, scoring=smape_scorer, verbose=3)\n",
    "grid_forest.fit(features_f, target_f)\n",
    "print(grid_forest.best_params_)\n",
    "predicted_f_test = grid_forest.predict(features_f_test)"
   ]
  },
  {
   "cell_type": "code",
   "execution_count": 48,
   "metadata": {},
   "outputs": [
    {
     "name": "stdout",
     "output_type": "stream",
     "text": [
      "sMAPE по дереву решений на этапе rougher: 9.196272548680867\n",
      "sMAPE по дереву решений на этапе final: 9.196272548680867\n",
      "Итоговая sMAPE по дереву решений: 9.196272548680867\n"
     ]
    }
   ],
   "source": [
    "smape_rougher = smape_func(target_r_test, predicted_r_test)\n",
    "print('sMAPE по дереву решений на этапе rougher:', smape_rougher)\n",
    "smape_final = smape_func(target_f_test, predicted_f_test)\n",
    "print('sMAPE по дереву решений на этапе final:', smape_final)\n",
    "smape_forest = smape_final_func(smape_rougher, smape_final)\n",
    "print('Итоговая sMAPE по дереву решений:', smape_forest)"
   ]
  },
  {
   "cell_type": "markdown",
   "metadata": {
    "id": "UsZ09ErdLStr"
   },
   "source": [
    "#### Сравню метрику с константной моделью."
   ]
  },
  {
   "cell_type": "code",
   "execution_count": 49,
   "metadata": {},
   "outputs": [
    {
     "name": "stdout",
     "output_type": "stream",
     "text": [
      "константная модель rougher: 8.617673225725978\n",
      "константная модель final: 9.777342873767564\n",
      "\n",
      "sMAPE константной модели: 9.487425461757168\n",
      "Линейная регрессия: 9.179693863320434\n",
      "Решающее дерево: 9.764629927064856\n",
      "Случайный лес: 9.196272548680867\n"
     ]
    }
   ],
   "source": [
    "model_dummy_r = DummyRegressor(strategy=\"median\")\n",
    "model_dummy_r.fit(features_r_train, target_r_train)\n",
    "predicted_r_dummy = model_dummy_r.predict(features_r_test)\n",
    "smape_dummy_rougher = smape_func(target_r_test, predicted_r_dummy)\n",
    "print('константная модель rougher:', smape_dummy_rougher)\n",
    "\n",
    "model_dummy_f = DummyRegressor(strategy=\"median\")\n",
    "model_dummy_f.fit(features_f_train, target_f_train)\n",
    "predicted_f_dummy = model_dummy_f.predict(features_f_test)\n",
    "smape_dummy_final = smape_func(target_f_test, predicted_f_dummy)\n",
    "print('константная модель final:', smape_dummy_final)\n",
    "print()\n",
    "print('sMAPE константной модели:', smape_final_func(smape_dummy_rougher, smape_dummy_final))\n",
    "print('Линейная регрессия:', smape_linear)\n",
    "print('Решающее дерево:', smape_tree)\n",
    "print('Случайный лес:', smape_forest)"
   ]
  },
  {
   "cell_type": "markdown",
   "metadata": {
    "id": "UsZ09ErdLStr"
   },
   "source": [
    "## Выводы."
   ]
  },
  {
   "cell_type": "markdown",
   "metadata": {
    "colab": {
     "background_save": true
    },
    "id": "a17bNtIJLSts"
   },
   "source": [
    "Лучшая общая метрика получилась по модели случайного леса, её метрика немного лучше константной модели. Хотя модель обучается довольно долго на таких вводных, что не хорошо с точки зрения использования ресурсов.  \n",
    "Итоговое лучшее значение метрики sMAPE, которой удалось добиться: 9.196.\n",
    "\n",
    "В проекте есть что доработать:\n",
    "1. Качество данных на входе: ещё раз оценить аномалии, пропуски, соответствие физике (правдиво ли всё)<br>\n",
    "2. Работа с моделями:\n",
    "    - Генерация и поиск бизнес-факторов для моделирования: возможно что-то упустили или можно придумать что-то гибридное из имеющихся факторов, если пройтись ещё раз по бизнес-цепочке процесса вместе с экспертом в предметной области.\n",
    "    - Подбор самих моделей и их метрик.\n",
    "    - Подбор параметров выбранных показателей у выбранных моделей. \n",
    "3. Есть другие параметры самого процесса извлечения руды: температура, скорость конвейера, сила удара чего-то там, их тоже можно использовать.\n",
    "4. Стоит разобраться ещё раз с физическими и производственными процессами. Возможно приниципиально иное решение можно создать. \n",
    "5. Если больше внимания в исследовани уделить \"Статистическому анализу данных\", т.е. преварительной подготовке данных в этом проекте, которая в результате позволит найти иное решение.\n",
    "\n",
    "Но цель проекта достигнута:\n",
    "1) пройдены важные этапы построения производственной модели;  \n",
    "2) модель предсказывает с точностью лучше константной."
   ]
  }
 ],
 "metadata": {
  "ExecuteTimeLog": [
   {
    "duration": 364,
    "start_time": "2021-07-16T09:24:17.160Z"
   },
   {
    "duration": -67,
    "start_time": "2021-07-16T09:24:17.598Z"
   },
   {
    "duration": -68,
    "start_time": "2021-07-16T09:24:17.601Z"
   },
   {
    "duration": -69,
    "start_time": "2021-07-16T09:24:17.604Z"
   },
   {
    "duration": -70,
    "start_time": "2021-07-16T09:24:17.607Z"
   },
   {
    "duration": -72,
    "start_time": "2021-07-16T09:24:17.611Z"
   },
   {
    "duration": -73,
    "start_time": "2021-07-16T09:24:17.614Z"
   },
   {
    "duration": -73,
    "start_time": "2021-07-16T09:24:17.616Z"
   },
   {
    "duration": -74,
    "start_time": "2021-07-16T09:24:17.619Z"
   },
   {
    "duration": -75,
    "start_time": "2021-07-16T09:24:17.622Z"
   },
   {
    "duration": -76,
    "start_time": "2021-07-16T09:24:17.625Z"
   },
   {
    "duration": -77,
    "start_time": "2021-07-16T09:24:17.628Z"
   },
   {
    "duration": -78,
    "start_time": "2021-07-16T09:24:17.631Z"
   },
   {
    "duration": -79,
    "start_time": "2021-07-16T09:24:17.634Z"
   },
   {
    "duration": -80,
    "start_time": "2021-07-16T09:24:17.637Z"
   },
   {
    "duration": -87,
    "start_time": "2021-07-16T09:24:17.646Z"
   },
   {
    "duration": -89,
    "start_time": "2021-07-16T09:24:17.650Z"
   },
   {
    "duration": -90,
    "start_time": "2021-07-16T09:24:17.653Z"
   },
   {
    "duration": -91,
    "start_time": "2021-07-16T09:24:17.657Z"
   },
   {
    "duration": -92,
    "start_time": "2021-07-16T09:24:17.660Z"
   },
   {
    "duration": -95,
    "start_time": "2021-07-16T09:24:17.665Z"
   },
   {
    "duration": -97,
    "start_time": "2021-07-16T09:24:17.669Z"
   },
   {
    "duration": -97,
    "start_time": "2021-07-16T09:24:17.671Z"
   },
   {
    "duration": -141,
    "start_time": "2021-07-16T09:24:17.717Z"
   },
   {
    "duration": -141,
    "start_time": "2021-07-16T09:24:17.719Z"
   },
   {
    "duration": -142,
    "start_time": "2021-07-16T09:24:17.722Z"
   },
   {
    "duration": -202,
    "start_time": "2021-07-16T09:24:17.785Z"
   },
   {
    "duration": -200,
    "start_time": "2021-07-16T09:24:17.787Z"
   },
   {
    "duration": -202,
    "start_time": "2021-07-16T09:24:17.792Z"
   },
   {
    "duration": -203,
    "start_time": "2021-07-16T09:24:17.795Z"
   },
   {
    "duration": -204,
    "start_time": "2021-07-16T09:24:17.798Z"
   },
   {
    "duration": -207,
    "start_time": "2021-07-16T09:24:17.803Z"
   },
   {
    "duration": -213,
    "start_time": "2021-07-16T09:24:17.812Z"
   },
   {
    "duration": -160,
    "start_time": "2021-07-16T09:24:17.821Z"
   },
   {
    "duration": -240,
    "start_time": "2021-07-16T09:24:17.904Z"
   },
   {
    "duration": -240,
    "start_time": "2021-07-16T09:24:17.906Z"
   },
   {
    "duration": -241,
    "start_time": "2021-07-16T09:24:17.909Z"
   },
   {
    "duration": -241,
    "start_time": "2021-07-16T09:24:17.912Z"
   },
   {
    "duration": -241,
    "start_time": "2021-07-16T09:24:17.914Z"
   },
   {
    "duration": -242,
    "start_time": "2021-07-16T09:24:17.917Z"
   },
   {
    "duration": -243,
    "start_time": "2021-07-16T09:24:17.920Z"
   },
   {
    "duration": -242,
    "start_time": "2021-07-16T09:24:17.922Z"
   },
   {
    "duration": -242,
    "start_time": "2021-07-16T09:24:17.924Z"
   },
   {
    "duration": -243,
    "start_time": "2021-07-16T09:24:17.927Z"
   },
   {
    "duration": -242,
    "start_time": "2021-07-16T09:24:17.929Z"
   },
   {
    "duration": -242,
    "start_time": "2021-07-16T09:24:17.931Z"
   },
   {
    "duration": -243,
    "start_time": "2021-07-16T09:24:17.934Z"
   },
   {
    "duration": -248,
    "start_time": "2021-07-16T09:24:17.942Z"
   },
   {
    "duration": 3,
    "start_time": "2021-07-16T09:24:54.081Z"
   },
   {
    "duration": 1519,
    "start_time": "2021-07-16T09:24:54.091Z"
   },
   {
    "duration": 877,
    "start_time": "2021-07-16T09:24:55.613Z"
   },
   {
    "duration": 100,
    "start_time": "2021-07-16T09:24:56.493Z"
   },
   {
    "duration": 37,
    "start_time": "2021-07-16T09:24:56.596Z"
   },
   {
    "duration": 42,
    "start_time": "2021-07-16T09:24:56.635Z"
   },
   {
    "duration": 6,
    "start_time": "2021-07-16T09:24:56.680Z"
   },
   {
    "duration": 16,
    "start_time": "2021-07-16T09:24:56.688Z"
   },
   {
    "duration": 56,
    "start_time": "2021-07-16T09:24:56.706Z"
   },
   {
    "duration": 415,
    "start_time": "2021-07-16T09:24:56.766Z"
   },
   {
    "duration": 6,
    "start_time": "2021-07-16T09:24:57.185Z"
   },
   {
    "duration": 16,
    "start_time": "2021-07-16T09:24:57.194Z"
   },
   {
    "duration": 7,
    "start_time": "2021-07-16T09:24:57.262Z"
   },
   {
    "duration": 9,
    "start_time": "2021-07-16T09:24:57.271Z"
   },
   {
    "duration": 105,
    "start_time": "2021-07-16T09:24:57.282Z"
   },
   {
    "duration": 99,
    "start_time": "2021-07-16T09:24:57.390Z"
   },
   {
    "duration": 7,
    "start_time": "2021-07-16T09:24:57.493Z"
   },
   {
    "duration": 71,
    "start_time": "2021-07-16T09:24:57.503Z"
   },
   {
    "duration": 8,
    "start_time": "2021-07-16T09:24:57.578Z"
   },
   {
    "duration": 13,
    "start_time": "2021-07-16T09:24:57.589Z"
   },
   {
    "duration": 62,
    "start_time": "2021-07-16T09:24:57.605Z"
   },
   {
    "duration": 857,
    "start_time": "2021-07-16T09:24:57.670Z"
   },
   {
    "duration": 474,
    "start_time": "2021-07-16T09:24:58.530Z"
   },
   {
    "duration": 460,
    "start_time": "2021-07-16T09:24:59.007Z"
   },
   {
    "duration": 454,
    "start_time": "2021-07-16T09:24:59.470Z"
   },
   {
    "duration": 511,
    "start_time": "2021-07-16T09:24:59.927Z"
   },
   {
    "duration": 574,
    "start_time": "2021-07-16T09:25:00.441Z"
   },
   {
    "duration": 8,
    "start_time": "2021-07-16T09:25:01.021Z"
   },
   {
    "duration": 505,
    "start_time": "2021-07-16T09:25:01.032Z"
   },
   {
    "duration": 23,
    "start_time": "2021-07-16T09:25:01.540Z"
   },
   {
    "duration": 8,
    "start_time": "2021-07-16T09:25:01.565Z"
   },
   {
    "duration": 13,
    "start_time": "2021-07-16T09:25:01.575Z"
   },
   {
    "duration": 33,
    "start_time": "2021-07-16T09:25:01.590Z"
   },
   {
    "duration": 66,
    "start_time": "2021-07-16T09:25:01.626Z"
   },
   {
    "duration": 6,
    "start_time": "2021-07-16T09:25:01.695Z"
   },
   {
    "duration": 34,
    "start_time": "2021-07-16T09:25:01.703Z"
   },
   {
    "duration": 17,
    "start_time": "2021-07-16T09:25:01.739Z"
   },
   {
    "duration": 110,
    "start_time": "2021-07-16T09:25:01.758Z"
   },
   {
    "duration": 290,
    "start_time": "2021-07-16T09:25:01.871Z"
   },
   {
    "duration": 106,
    "start_time": "2021-07-16T09:25:02.167Z"
   },
   {
    "duration": 498,
    "start_time": "2021-07-16T09:25:02.275Z"
   },
   {
    "duration": 16,
    "start_time": "2021-07-16T09:25:02.775Z"
   },
   {
    "duration": 14626,
    "start_time": "2021-07-16T09:25:02.796Z"
   },
   {
    "duration": 2792,
    "start_time": "2021-07-16T09:25:17.424Z"
   },
   {
    "duration": 20,
    "start_time": "2021-07-16T09:25:20.218Z"
   },
   {
    "duration": 82260,
    "start_time": "2021-07-16T09:25:20.261Z"
   },
   {
    "duration": 485924,
    "start_time": "2021-07-16T09:26:42.523Z"
   },
   {
    "duration": 82138,
    "start_time": "2021-07-16T09:34:48.450Z"
   },
   {
    "duration": 4,
    "start_time": "2021-07-16T11:11:10.275Z"
   },
   {
    "duration": 84868,
    "start_time": "2021-07-16T11:11:14.599Z"
   },
   {
    "duration": 1846,
    "start_time": "2021-07-16T11:15:21.842Z"
   },
   {
    "duration": 13,
    "start_time": "2021-07-16T11:17:34.034Z"
   },
   {
    "duration": 1709,
    "start_time": "2021-07-16T11:18:36.094Z"
   },
   {
    "duration": 13,
    "start_time": "2021-07-16T11:18:51.370Z"
   },
   {
    "duration": 36212,
    "start_time": "2021-07-16T11:20:45.508Z"
   },
   {
    "duration": 5,
    "start_time": "2021-07-16T11:23:12.599Z"
   },
   {
    "duration": 1836,
    "start_time": "2021-07-16T11:23:12.608Z"
   },
   {
    "duration": 4,
    "start_time": "2021-07-16T11:23:14.448Z"
   },
   {
    "duration": 877,
    "start_time": "2021-07-16T11:23:14.456Z"
   },
   {
    "duration": 103,
    "start_time": "2021-07-16T11:23:15.336Z"
   },
   {
    "duration": 45,
    "start_time": "2021-07-16T11:23:15.442Z"
   },
   {
    "duration": 20,
    "start_time": "2021-07-16T11:23:15.489Z"
   },
   {
    "duration": 8,
    "start_time": "2021-07-16T11:23:15.512Z"
   },
   {
    "duration": 14,
    "start_time": "2021-07-16T11:23:15.563Z"
   },
   {
    "duration": 25,
    "start_time": "2021-07-16T11:23:15.581Z"
   },
   {
    "duration": 429,
    "start_time": "2021-07-16T11:23:15.609Z"
   },
   {
    "duration": 22,
    "start_time": "2021-07-16T11:23:16.041Z"
   },
   {
    "duration": 15,
    "start_time": "2021-07-16T11:23:16.065Z"
   },
   {
    "duration": 6,
    "start_time": "2021-07-16T11:23:16.082Z"
   },
   {
    "duration": 8,
    "start_time": "2021-07-16T11:23:16.091Z"
   },
   {
    "duration": 99,
    "start_time": "2021-07-16T11:23:16.102Z"
   },
   {
    "duration": 59,
    "start_time": "2021-07-16T11:23:16.204Z"
   },
   {
    "duration": 5,
    "start_time": "2021-07-16T11:23:16.266Z"
   },
   {
    "duration": 17,
    "start_time": "2021-07-16T11:23:16.275Z"
   },
   {
    "duration": 7,
    "start_time": "2021-07-16T11:23:16.295Z"
   },
   {
    "duration": 10,
    "start_time": "2021-07-16T11:23:16.305Z"
   },
   {
    "duration": 49,
    "start_time": "2021-07-16T11:23:16.318Z"
   },
   {
    "duration": 483,
    "start_time": "2021-07-16T11:23:16.369Z"
   },
   {
    "duration": 460,
    "start_time": "2021-07-16T11:23:16.862Z"
   },
   {
    "duration": 453,
    "start_time": "2021-07-16T11:23:17.325Z"
   },
   {
    "duration": 459,
    "start_time": "2021-07-16T11:23:17.780Z"
   },
   {
    "duration": 719,
    "start_time": "2021-07-16T11:23:18.242Z"
   },
   {
    "duration": 839,
    "start_time": "2021-07-16T11:23:18.970Z"
   },
   {
    "duration": 10,
    "start_time": "2021-07-16T11:23:19.813Z"
   },
   {
    "duration": 749,
    "start_time": "2021-07-16T11:23:19.827Z"
   },
   {
    "duration": 7,
    "start_time": "2021-07-16T11:23:20.578Z"
   },
   {
    "duration": 17,
    "start_time": "2021-07-16T11:23:20.588Z"
   },
   {
    "duration": 4,
    "start_time": "2021-07-16T11:23:20.607Z"
   },
   {
    "duration": 50,
    "start_time": "2021-07-16T11:23:20.613Z"
   },
   {
    "duration": 25,
    "start_time": "2021-07-16T11:23:20.666Z"
   },
   {
    "duration": 11,
    "start_time": "2021-07-16T11:23:20.694Z"
   },
   {
    "duration": 27,
    "start_time": "2021-07-16T11:23:20.708Z"
   },
   {
    "duration": 28,
    "start_time": "2021-07-16T11:23:20.738Z"
   },
   {
    "duration": 192,
    "start_time": "2021-07-16T11:23:20.770Z"
   },
   {
    "duration": 298,
    "start_time": "2021-07-16T11:23:20.965Z"
   },
   {
    "duration": 104,
    "start_time": "2021-07-16T11:23:21.268Z"
   },
   {
    "duration": 503,
    "start_time": "2021-07-16T11:23:21.375Z"
   },
   {
    "duration": 12,
    "start_time": "2021-07-16T11:23:21.880Z"
   },
   {
    "duration": 20521,
    "start_time": "2021-07-16T11:23:21.895Z"
   },
   {
    "duration": 49145,
    "start_time": "2021-07-16T11:23:42.419Z"
   },
   {
    "duration": 632,
    "start_time": "2021-07-16T11:24:31.567Z"
   },
   {
    "duration": 13,
    "start_time": "2021-07-16T11:24:32.202Z"
   },
   {
    "duration": 14,
    "start_time": "2021-07-16T11:24:32.218Z"
   },
   {
    "duration": 6,
    "start_time": "2021-07-16T11:24:32.263Z"
   },
   {
    "duration": 4233,
    "start_time": "2021-07-16T11:24:32.272Z"
   },
   {
    "duration": 26,
    "start_time": "2021-07-16T11:24:36.509Z"
   },
   {
    "duration": 58162,
    "start_time": "2021-07-16T11:24:36.538Z"
   },
   {
    "duration": 33038,
    "start_time": "2021-07-16T11:25:34.703Z"
   },
   {
    "duration": 23451,
    "start_time": "2021-07-16T11:26:07.744Z"
   },
   {
    "duration": 11,
    "start_time": "2021-07-16T11:26:31.199Z"
   },
   {
    "duration": 19,
    "start_time": "2021-07-16T11:26:31.213Z"
   },
   {
    "duration": 33,
    "start_time": "2021-07-16T11:26:31.239Z"
   },
   {
    "duration": 27,
    "start_time": "2021-07-16T11:26:58.063Z"
   },
   {
    "duration": 88379,
    "start_time": "2021-07-16T11:27:46.627Z"
   },
   {
    "duration": 3,
    "start_time": "2021-07-16T11:34:21.674Z"
   },
   {
    "duration": 1527,
    "start_time": "2021-07-16T11:34:21.681Z"
   },
   {
    "duration": 3,
    "start_time": "2021-07-16T11:34:23.211Z"
   },
   {
    "duration": 881,
    "start_time": "2021-07-16T11:34:23.217Z"
   },
   {
    "duration": 96,
    "start_time": "2021-07-16T11:34:24.100Z"
   },
   {
    "duration": 35,
    "start_time": "2021-07-16T11:34:24.198Z"
   },
   {
    "duration": 46,
    "start_time": "2021-07-16T11:34:24.235Z"
   },
   {
    "duration": 6,
    "start_time": "2021-07-16T11:34:24.283Z"
   },
   {
    "duration": 35,
    "start_time": "2021-07-16T11:34:24.292Z"
   },
   {
    "duration": 32,
    "start_time": "2021-07-16T11:34:24.330Z"
   },
   {
    "duration": 403,
    "start_time": "2021-07-16T11:34:24.364Z"
   },
   {
    "duration": 7,
    "start_time": "2021-07-16T11:34:24.769Z"
   },
   {
    "duration": 22,
    "start_time": "2021-07-16T11:34:24.779Z"
   },
   {
    "duration": 6,
    "start_time": "2021-07-16T11:34:24.804Z"
   },
   {
    "duration": 15,
    "start_time": "2021-07-16T11:34:24.812Z"
   },
   {
    "duration": 83,
    "start_time": "2021-07-16T11:34:24.830Z"
   },
   {
    "duration": 47,
    "start_time": "2021-07-16T11:34:24.915Z"
   },
   {
    "duration": 6,
    "start_time": "2021-07-16T11:34:24.964Z"
   },
   {
    "duration": 21,
    "start_time": "2021-07-16T11:34:24.972Z"
   },
   {
    "duration": 6,
    "start_time": "2021-07-16T11:34:24.995Z"
   },
   {
    "duration": 10,
    "start_time": "2021-07-16T11:34:25.003Z"
   },
   {
    "duration": 34,
    "start_time": "2021-07-16T11:34:25.015Z"
   },
   {
    "duration": 459,
    "start_time": "2021-07-16T11:34:25.062Z"
   },
   {
    "duration": 572,
    "start_time": "2021-07-16T11:34:25.524Z"
   },
   {
    "duration": 570,
    "start_time": "2021-07-16T11:34:26.099Z"
   },
   {
    "duration": 455,
    "start_time": "2021-07-16T11:34:26.672Z"
   },
   {
    "duration": 536,
    "start_time": "2021-07-16T11:34:27.133Z"
   },
   {
    "duration": 595,
    "start_time": "2021-07-16T11:34:27.672Z"
   },
   {
    "duration": 8,
    "start_time": "2021-07-16T11:34:28.269Z"
   },
   {
    "duration": 482,
    "start_time": "2021-07-16T11:34:28.280Z"
   },
   {
    "duration": 9,
    "start_time": "2021-07-16T11:34:28.765Z"
   },
   {
    "duration": 10,
    "start_time": "2021-07-16T11:34:28.776Z"
   },
   {
    "duration": 7,
    "start_time": "2021-07-16T11:34:28.789Z"
   },
   {
    "duration": 65,
    "start_time": "2021-07-16T11:34:28.798Z"
   },
   {
    "duration": 25,
    "start_time": "2021-07-16T11:34:28.866Z"
   },
   {
    "duration": 9,
    "start_time": "2021-07-16T11:34:28.894Z"
   },
   {
    "duration": 18,
    "start_time": "2021-07-16T11:34:28.906Z"
   },
   {
    "duration": 36,
    "start_time": "2021-07-16T11:34:28.926Z"
   },
   {
    "duration": 104,
    "start_time": "2021-07-16T11:34:28.965Z"
   },
   {
    "duration": 400,
    "start_time": "2021-07-16T11:34:29.162Z"
   },
   {
    "duration": 96,
    "start_time": "2021-07-16T11:34:29.574Z"
   },
   {
    "duration": 13952,
    "start_time": "2021-07-16T11:34:29.672Z"
   },
   {
    "duration": 435,
    "start_time": "2021-07-16T11:34:43.626Z"
   },
   {
    "duration": 6,
    "start_time": "2021-07-16T11:34:44.064Z"
   },
   {
    "duration": 35116,
    "start_time": "2021-07-16T11:34:44.072Z"
   },
   {
    "duration": 479,
    "start_time": "2021-07-16T11:35:19.191Z"
   },
   {
    "duration": 9,
    "start_time": "2021-07-16T11:35:19.673Z"
   },
   {
    "duration": 84606,
    "start_time": "2021-07-16T11:35:19.685Z"
   },
   {
    "duration": 494711,
    "start_time": "2021-07-16T11:36:44.294Z"
   },
   {
    "duration": 108586,
    "start_time": "2021-07-16T11:44:59.007Z"
   },
   {
    "duration": 12,
    "start_time": "2021-07-16T11:46:47.596Z"
   },
   {
    "duration": 4,
    "start_time": "2021-07-16T11:47:35.728Z"
   },
   {
    "duration": 1608,
    "start_time": "2021-07-16T11:47:35.737Z"
   },
   {
    "duration": 3,
    "start_time": "2021-07-16T11:47:37.348Z"
   },
   {
    "duration": 881,
    "start_time": "2021-07-16T11:47:37.362Z"
   },
   {
    "duration": 97,
    "start_time": "2021-07-16T11:47:38.245Z"
   },
   {
    "duration": 51,
    "start_time": "2021-07-16T11:47:38.345Z"
   },
   {
    "duration": 20,
    "start_time": "2021-07-16T11:47:38.399Z"
   },
   {
    "duration": 16,
    "start_time": "2021-07-16T11:47:38.422Z"
   },
   {
    "duration": 16,
    "start_time": "2021-07-16T11:47:38.461Z"
   },
   {
    "duration": 26,
    "start_time": "2021-07-16T11:47:38.481Z"
   },
   {
    "duration": 423,
    "start_time": "2021-07-16T11:47:38.510Z"
   },
   {
    "duration": 7,
    "start_time": "2021-07-16T11:47:38.935Z"
   },
   {
    "duration": 41,
    "start_time": "2021-07-16T11:47:38.944Z"
   },
   {
    "duration": 6,
    "start_time": "2021-07-16T11:47:38.987Z"
   },
   {
    "duration": 7,
    "start_time": "2021-07-16T11:47:38.995Z"
   },
   {
    "duration": 85,
    "start_time": "2021-07-16T11:47:39.004Z"
   },
   {
    "duration": 32,
    "start_time": "2021-07-16T11:47:39.092Z"
   },
   {
    "duration": 5,
    "start_time": "2021-07-16T11:47:39.126Z"
   },
   {
    "duration": 45,
    "start_time": "2021-07-16T11:47:39.134Z"
   },
   {
    "duration": 8,
    "start_time": "2021-07-16T11:47:39.182Z"
   },
   {
    "duration": 11,
    "start_time": "2021-07-16T11:47:39.193Z"
   },
   {
    "duration": 55,
    "start_time": "2021-07-16T11:47:39.207Z"
   },
   {
    "duration": 702,
    "start_time": "2021-07-16T11:47:39.265Z"
   },
   {
    "duration": 820,
    "start_time": "2021-07-16T11:47:39.970Z"
   },
   {
    "duration": 688,
    "start_time": "2021-07-16T11:47:40.793Z"
   },
   {
    "duration": 682,
    "start_time": "2021-07-16T11:47:41.485Z"
   },
   {
    "duration": 736,
    "start_time": "2021-07-16T11:47:42.170Z"
   },
   {
    "duration": 699,
    "start_time": "2021-07-16T11:47:42.912Z"
   },
   {
    "duration": 9,
    "start_time": "2021-07-16T11:47:43.614Z"
   },
   {
    "duration": 509,
    "start_time": "2021-07-16T11:47:43.625Z"
   },
   {
    "duration": 8,
    "start_time": "2021-07-16T11:47:44.136Z"
   },
   {
    "duration": 27,
    "start_time": "2021-07-16T11:47:44.162Z"
   },
   {
    "duration": 4,
    "start_time": "2021-07-16T11:47:44.192Z"
   },
   {
    "duration": 21,
    "start_time": "2021-07-16T11:47:44.198Z"
   },
   {
    "duration": 49,
    "start_time": "2021-07-16T11:47:44.222Z"
   },
   {
    "duration": 7,
    "start_time": "2021-07-16T11:47:44.274Z"
   },
   {
    "duration": 18,
    "start_time": "2021-07-16T11:47:44.283Z"
   },
   {
    "duration": 6,
    "start_time": "2021-07-16T11:47:44.304Z"
   },
   {
    "duration": 249,
    "start_time": "2021-07-16T11:47:44.313Z"
   },
   {
    "duration": 296,
    "start_time": "2021-07-16T11:47:44.565Z"
   },
   {
    "duration": 104,
    "start_time": "2021-07-16T11:47:44.867Z"
   },
   {
    "duration": 15410,
    "start_time": "2021-07-16T11:47:44.974Z"
   },
   {
    "duration": 432,
    "start_time": "2021-07-16T11:48:00.388Z"
   },
   {
    "duration": 35096,
    "start_time": "2021-07-16T11:48:00.823Z"
   },
   {
    "duration": 485,
    "start_time": "2021-07-16T11:48:35.922Z"
   },
   {
    "duration": 9,
    "start_time": "2021-07-16T11:48:36.410Z"
   },
   {
    "duration": 42239,
    "start_time": "2021-07-16T11:48:36.422Z"
   },
   {
    "duration": 209423,
    "start_time": "2021-07-16T11:49:18.664Z"
   },
   {
    "duration": 82995,
    "start_time": "2021-07-16T11:52:48.090Z"
   },
   {
    "duration": 105233,
    "start_time": "2021-07-16T11:54:11.088Z"
   },
   {
    "duration": 1327243,
    "start_time": "2021-07-16T11:55:56.323Z"
   },
   {
    "duration": 229496,
    "start_time": "2021-07-16T12:18:03.569Z"
   },
   {
    "duration": 9,
    "start_time": "2021-07-16T12:21:53.067Z"
   },
   {
    "duration": 268924,
    "start_time": "2021-07-16T13:22:47.317Z"
   },
   {
    "duration": 370,
    "start_time": "2021-07-16T13:27:16.244Z"
   },
   {
    "duration": 276570,
    "start_time": "2021-07-16T13:31:24.962Z"
   },
   {
    "duration": 5,
    "start_time": "2021-07-16T13:37:29.698Z"
   },
   {
    "duration": 365,
    "start_time": "2021-07-16T13:37:39.884Z"
   },
   {
    "duration": 13,
    "start_time": "2021-07-16T13:40:03.403Z"
   },
   {
    "duration": 11,
    "start_time": "2021-07-16T13:40:11.012Z"
   },
   {
    "duration": 98,
    "start_time": "2021-07-16T13:40:20.275Z"
   },
   {
    "duration": 3,
    "start_time": "2021-07-16T13:42:39.380Z"
   },
   {
    "duration": 5,
    "start_time": "2021-07-16T13:44:06.803Z"
   },
   {
    "duration": 1501,
    "start_time": "2021-07-16T13:44:17.299Z"
   },
   {
    "duration": 4,
    "start_time": "2021-07-16T13:44:18.805Z"
   },
   {
    "duration": 935,
    "start_time": "2021-07-16T13:44:18.812Z"
   },
   {
    "duration": 88,
    "start_time": "2021-07-16T13:44:19.750Z"
   },
   {
    "duration": 52,
    "start_time": "2021-07-16T13:44:19.841Z"
   },
   {
    "duration": 29,
    "start_time": "2021-07-16T13:44:19.895Z"
   },
   {
    "duration": 34,
    "start_time": "2021-07-16T13:44:19.929Z"
   },
   {
    "duration": 27,
    "start_time": "2021-07-16T13:44:19.966Z"
   },
   {
    "duration": 72,
    "start_time": "2021-07-16T13:44:19.995Z"
   },
   {
    "duration": 800,
    "start_time": "2021-07-16T13:44:20.069Z"
   },
   {
    "duration": 6,
    "start_time": "2021-07-16T13:44:20.872Z"
   },
   {
    "duration": 18,
    "start_time": "2021-07-16T13:44:20.880Z"
   },
   {
    "duration": 6,
    "start_time": "2021-07-16T13:44:20.900Z"
   },
   {
    "duration": 6,
    "start_time": "2021-07-16T13:44:20.961Z"
   },
   {
    "duration": 109,
    "start_time": "2021-07-16T13:44:20.970Z"
   },
   {
    "duration": 87,
    "start_time": "2021-07-16T13:44:21.081Z"
   },
   {
    "duration": 5,
    "start_time": "2021-07-16T13:44:21.171Z"
   },
   {
    "duration": 18,
    "start_time": "2021-07-16T13:44:21.179Z"
   },
   {
    "duration": 6,
    "start_time": "2021-07-16T13:44:21.200Z"
   },
   {
    "duration": 8,
    "start_time": "2021-07-16T13:44:21.263Z"
   },
   {
    "duration": 12,
    "start_time": "2021-07-16T13:44:21.274Z"
   },
   {
    "duration": 473,
    "start_time": "2021-07-16T13:44:21.292Z"
   },
   {
    "duration": 473,
    "start_time": "2021-07-16T13:44:21.768Z"
   },
   {
    "duration": 462,
    "start_time": "2021-07-16T13:44:22.244Z"
   },
   {
    "duration": 458,
    "start_time": "2021-07-16T13:44:22.708Z"
   },
   {
    "duration": 516,
    "start_time": "2021-07-16T13:44:23.170Z"
   },
   {
    "duration": 578,
    "start_time": "2021-07-16T13:44:23.689Z"
   },
   {
    "duration": 8,
    "start_time": "2021-07-16T13:44:24.270Z"
   },
   {
    "duration": 476,
    "start_time": "2021-07-16T13:44:24.280Z"
   },
   {
    "duration": 8,
    "start_time": "2021-07-16T13:44:24.761Z"
   },
   {
    "duration": 10,
    "start_time": "2021-07-16T13:44:24.772Z"
   },
   {
    "duration": 5,
    "start_time": "2021-07-16T13:44:24.784Z"
   },
   {
    "duration": 23,
    "start_time": "2021-07-16T13:44:24.791Z"
   },
   {
    "duration": 568,
    "start_time": "2021-07-16T13:44:24.817Z"
   },
   {
    "duration": -51,
    "start_time": "2021-07-16T13:44:25.438Z"
   },
   {
    "duration": -58,
    "start_time": "2021-07-16T13:44:25.446Z"
   },
   {
    "duration": -62,
    "start_time": "2021-07-16T13:44:25.451Z"
   },
   {
    "duration": -63,
    "start_time": "2021-07-16T13:44:25.454Z"
   },
   {
    "duration": -64,
    "start_time": "2021-07-16T13:44:25.456Z"
   },
   {
    "duration": -67,
    "start_time": "2021-07-16T13:44:25.461Z"
   },
   {
    "duration": -68,
    "start_time": "2021-07-16T13:44:25.463Z"
   },
   {
    "duration": -69,
    "start_time": "2021-07-16T13:44:25.466Z"
   },
   {
    "duration": -70,
    "start_time": "2021-07-16T13:44:25.468Z"
   },
   {
    "duration": -68,
    "start_time": "2021-07-16T13:44:25.470Z"
   },
   {
    "duration": -75,
    "start_time": "2021-07-16T13:44:25.478Z"
   },
   {
    "duration": -77,
    "start_time": "2021-07-16T13:44:25.481Z"
   },
   {
    "duration": -78,
    "start_time": "2021-07-16T13:44:25.483Z"
   },
   {
    "duration": -78,
    "start_time": "2021-07-16T13:44:25.485Z"
   },
   {
    "duration": -80,
    "start_time": "2021-07-16T13:44:25.488Z"
   },
   {
    "duration": -87,
    "start_time": "2021-07-16T13:44:25.497Z"
   },
   {
    "duration": -93,
    "start_time": "2021-07-16T13:44:25.504Z"
   },
   {
    "duration": -94,
    "start_time": "2021-07-16T13:44:25.507Z"
   },
   {
    "duration": -98,
    "start_time": "2021-07-16T13:44:25.512Z"
   },
   {
    "duration": -99,
    "start_time": "2021-07-16T13:44:25.515Z"
   },
   {
    "duration": 1524,
    "start_time": "2021-07-16T13:44:57.077Z"
   },
   {
    "duration": 4,
    "start_time": "2021-07-16T13:44:58.604Z"
   },
   {
    "duration": 926,
    "start_time": "2021-07-16T13:44:58.613Z"
   },
   {
    "duration": 97,
    "start_time": "2021-07-16T13:44:59.542Z"
   },
   {
    "duration": 51,
    "start_time": "2021-07-16T13:44:59.642Z"
   },
   {
    "duration": 23,
    "start_time": "2021-07-16T13:44:59.697Z"
   },
   {
    "duration": 39,
    "start_time": "2021-07-16T13:44:59.723Z"
   },
   {
    "duration": 33,
    "start_time": "2021-07-16T13:44:59.766Z"
   },
   {
    "duration": 26,
    "start_time": "2021-07-16T13:44:59.802Z"
   },
   {
    "duration": 401,
    "start_time": "2021-07-16T13:44:59.830Z"
   },
   {
    "duration": 8,
    "start_time": "2021-07-16T13:45:00.234Z"
   },
   {
    "duration": 54,
    "start_time": "2021-07-16T13:45:00.244Z"
   },
   {
    "duration": 30,
    "start_time": "2021-07-16T13:45:00.300Z"
   },
   {
    "duration": 29,
    "start_time": "2021-07-16T13:45:00.332Z"
   },
   {
    "duration": 81,
    "start_time": "2021-07-16T13:45:00.363Z"
   },
   {
    "duration": 36,
    "start_time": "2021-07-16T13:45:00.447Z"
   },
   {
    "duration": 5,
    "start_time": "2021-07-16T13:45:00.485Z"
   },
   {
    "duration": 26,
    "start_time": "2021-07-16T13:45:00.493Z"
   },
   {
    "duration": 14,
    "start_time": "2021-07-16T13:45:00.522Z"
   },
   {
    "duration": 16,
    "start_time": "2021-07-16T13:45:00.538Z"
   },
   {
    "duration": 22,
    "start_time": "2021-07-16T13:45:00.562Z"
   },
   {
    "duration": 468,
    "start_time": "2021-07-16T13:45:00.587Z"
   },
   {
    "duration": 483,
    "start_time": "2021-07-16T13:45:01.061Z"
   },
   {
    "duration": 457,
    "start_time": "2021-07-16T13:45:01.547Z"
   },
   {
    "duration": 466,
    "start_time": "2021-07-16T13:45:02.007Z"
   },
   {
    "duration": 554,
    "start_time": "2021-07-16T13:45:02.475Z"
   },
   {
    "duration": 577,
    "start_time": "2021-07-16T13:45:03.031Z"
   },
   {
    "duration": 8,
    "start_time": "2021-07-16T13:45:03.610Z"
   },
   {
    "duration": 483,
    "start_time": "2021-07-16T13:45:03.620Z"
   },
   {
    "duration": 10,
    "start_time": "2021-07-16T13:45:04.106Z"
   },
   {
    "duration": 17,
    "start_time": "2021-07-16T13:45:04.119Z"
   },
   {
    "duration": 5,
    "start_time": "2021-07-16T13:45:04.163Z"
   },
   {
    "duration": 29,
    "start_time": "2021-07-16T13:45:04.171Z"
   },
   {
    "duration": 39,
    "start_time": "2021-07-16T13:45:04.202Z"
   },
   {
    "duration": 25,
    "start_time": "2021-07-16T13:45:04.244Z"
   },
   {
    "duration": 39,
    "start_time": "2021-07-16T13:45:04.272Z"
   },
   {
    "duration": 26,
    "start_time": "2021-07-16T13:45:04.314Z"
   },
   {
    "duration": 120,
    "start_time": "2021-07-16T13:45:04.342Z"
   },
   {
    "duration": 302,
    "start_time": "2021-07-16T13:45:04.465Z"
   },
   {
    "duration": 102,
    "start_time": "2021-07-16T13:45:04.771Z"
   },
   {
    "duration": 13936,
    "start_time": "2021-07-16T13:45:04.876Z"
   },
   {
    "duration": 435,
    "start_time": "2021-07-16T13:45:18.815Z"
   },
   {
    "duration": 34711,
    "start_time": "2021-07-16T13:45:19.253Z"
   },
   {
    "duration": 476,
    "start_time": "2021-07-16T13:45:53.967Z"
   },
   {
    "duration": 11,
    "start_time": "2021-07-16T13:45:54.445Z"
   },
   {
    "duration": 43414,
    "start_time": "2021-07-16T13:45:54.463Z"
   },
   {
    "duration": 103392,
    "start_time": "2021-07-16T13:46:37.879Z"
   },
   {
    "duration": 1630,
    "start_time": "2021-07-16T13:48:30.978Z"
   },
   {
    "duration": 3,
    "start_time": "2021-07-16T13:48:32.610Z"
   },
   {
    "duration": 922,
    "start_time": "2021-07-16T13:48:32.616Z"
   },
   {
    "duration": 95,
    "start_time": "2021-07-16T13:48:33.540Z"
   },
   {
    "duration": 44,
    "start_time": "2021-07-16T13:48:33.637Z"
   },
   {
    "duration": 20,
    "start_time": "2021-07-16T13:48:33.683Z"
   },
   {
    "duration": 5,
    "start_time": "2021-07-16T13:48:33.706Z"
   },
   {
    "duration": 59,
    "start_time": "2021-07-16T13:48:33.714Z"
   },
   {
    "duration": 26,
    "start_time": "2021-07-16T13:48:33.775Z"
   },
   {
    "duration": 404,
    "start_time": "2021-07-16T13:48:33.803Z"
   },
   {
    "duration": 6,
    "start_time": "2021-07-16T13:48:34.210Z"
   },
   {
    "duration": 25,
    "start_time": "2021-07-16T13:48:34.218Z"
   },
   {
    "duration": 22,
    "start_time": "2021-07-16T13:48:34.245Z"
   },
   {
    "duration": 13,
    "start_time": "2021-07-16T13:48:34.269Z"
   },
   {
    "duration": 60,
    "start_time": "2021-07-16T13:48:34.284Z"
   },
   {
    "duration": 37,
    "start_time": "2021-07-16T13:48:34.362Z"
   },
   {
    "duration": 5,
    "start_time": "2021-07-16T13:48:34.401Z"
   },
   {
    "duration": 25,
    "start_time": "2021-07-16T13:48:34.408Z"
   },
   {
    "duration": 28,
    "start_time": "2021-07-16T13:48:34.435Z"
   },
   {
    "duration": 15,
    "start_time": "2021-07-16T13:48:34.465Z"
   },
   {
    "duration": 19,
    "start_time": "2021-07-16T13:48:34.483Z"
   },
   {
    "duration": 461,
    "start_time": "2021-07-16T13:48:34.504Z"
   },
   {
    "duration": 466,
    "start_time": "2021-07-16T13:48:34.971Z"
   },
   {
    "duration": 458,
    "start_time": "2021-07-16T13:48:35.440Z"
   },
   {
    "duration": 460,
    "start_time": "2021-07-16T13:48:35.901Z"
   },
   {
    "duration": 491,
    "start_time": "2021-07-16T13:48:36.364Z"
   },
   {
    "duration": 586,
    "start_time": "2021-07-16T13:48:36.858Z"
   },
   {
    "duration": 18,
    "start_time": "2021-07-16T13:48:37.448Z"
   },
   {
    "duration": 485,
    "start_time": "2021-07-16T13:48:37.469Z"
   },
   {
    "duration": 10,
    "start_time": "2021-07-16T13:48:37.961Z"
   },
   {
    "duration": 17,
    "start_time": "2021-07-16T13:48:37.974Z"
   },
   {
    "duration": 10,
    "start_time": "2021-07-16T13:48:37.994Z"
   },
   {
    "duration": 30,
    "start_time": "2021-07-16T13:48:38.006Z"
   },
   {
    "duration": 41,
    "start_time": "2021-07-16T13:48:38.038Z"
   },
   {
    "duration": 9,
    "start_time": "2021-07-16T13:48:38.082Z"
   },
   {
    "duration": 29,
    "start_time": "2021-07-16T13:48:38.093Z"
   },
   {
    "duration": 5,
    "start_time": "2021-07-16T13:48:38.124Z"
   },
   {
    "duration": 132,
    "start_time": "2021-07-16T13:48:38.131Z"
   },
   {
    "duration": 304,
    "start_time": "2021-07-16T13:48:38.265Z"
   },
   {
    "duration": 93,
    "start_time": "2021-07-16T13:48:38.571Z"
   },
   {
    "duration": 13932,
    "start_time": "2021-07-16T13:48:38.666Z"
   },
   {
    "duration": 910,
    "start_time": "2021-07-16T13:48:52.600Z"
   },
   {
    "duration": -59,
    "start_time": "2021-07-16T13:48:53.572Z"
   },
   {
    "duration": -67,
    "start_time": "2021-07-16T13:48:53.581Z"
   },
   {
    "duration": -72,
    "start_time": "2021-07-16T13:48:53.587Z"
   },
   {
    "duration": -73,
    "start_time": "2021-07-16T13:48:53.590Z"
   },
   {
    "duration": -74,
    "start_time": "2021-07-16T13:48:53.592Z"
   },
   {
    "duration": -75,
    "start_time": "2021-07-16T13:48:53.595Z"
   },
   {
    "duration": -77,
    "start_time": "2021-07-16T13:48:53.598Z"
   },
   {
    "duration": -80,
    "start_time": "2021-07-16T13:48:53.602Z"
   },
   {
    "duration": -83,
    "start_time": "2021-07-16T13:48:53.607Z"
   },
   {
    "duration": -84,
    "start_time": "2021-07-16T13:48:53.610Z"
   },
   {
    "duration": -85,
    "start_time": "2021-07-16T13:48:53.612Z"
   },
   {
    "duration": -86,
    "start_time": "2021-07-16T13:48:53.615Z"
   },
   {
    "duration": 1535,
    "start_time": "2021-07-16T13:49:10.884Z"
   },
   {
    "duration": 4,
    "start_time": "2021-07-16T13:49:12.422Z"
   },
   {
    "duration": 947,
    "start_time": "2021-07-16T13:49:12.436Z"
   },
   {
    "duration": 99,
    "start_time": "2021-07-16T13:49:13.386Z"
   },
   {
    "duration": 35,
    "start_time": "2021-07-16T13:49:13.487Z"
   },
   {
    "duration": 40,
    "start_time": "2021-07-16T13:49:13.524Z"
   },
   {
    "duration": 5,
    "start_time": "2021-07-16T13:49:13.569Z"
   },
   {
    "duration": 24,
    "start_time": "2021-07-16T13:49:13.577Z"
   },
   {
    "duration": 22,
    "start_time": "2021-07-16T13:49:13.603Z"
   },
   {
    "duration": 412,
    "start_time": "2021-07-16T13:49:13.628Z"
   },
   {
    "duration": 18,
    "start_time": "2021-07-16T13:49:14.043Z"
   },
   {
    "duration": 26,
    "start_time": "2021-07-16T13:49:14.064Z"
   },
   {
    "duration": 23,
    "start_time": "2021-07-16T13:49:14.093Z"
   },
   {
    "duration": 21,
    "start_time": "2021-07-16T13:49:14.118Z"
   },
   {
    "duration": 69,
    "start_time": "2021-07-16T13:49:14.141Z"
   },
   {
    "duration": 48,
    "start_time": "2021-07-16T13:49:14.214Z"
   },
   {
    "duration": 6,
    "start_time": "2021-07-16T13:49:14.264Z"
   },
   {
    "duration": 37,
    "start_time": "2021-07-16T13:49:14.273Z"
   },
   {
    "duration": 15,
    "start_time": "2021-07-16T13:49:14.313Z"
   },
   {
    "duration": 13,
    "start_time": "2021-07-16T13:49:14.331Z"
   },
   {
    "duration": 19,
    "start_time": "2021-07-16T13:49:14.346Z"
   },
   {
    "duration": 462,
    "start_time": "2021-07-16T13:49:14.372Z"
   },
   {
    "duration": 476,
    "start_time": "2021-07-16T13:49:14.838Z"
   },
   {
    "duration": 482,
    "start_time": "2021-07-16T13:49:15.317Z"
   },
   {
    "duration": 480,
    "start_time": "2021-07-16T13:49:15.802Z"
   },
   {
    "duration": 506,
    "start_time": "2021-07-16T13:49:16.285Z"
   },
   {
    "duration": 578,
    "start_time": "2021-07-16T13:49:16.793Z"
   },
   {
    "duration": 8,
    "start_time": "2021-07-16T13:49:17.373Z"
   },
   {
    "duration": 471,
    "start_time": "2021-07-16T13:49:17.383Z"
   },
   {
    "duration": 8,
    "start_time": "2021-07-16T13:49:17.861Z"
   },
   {
    "duration": 12,
    "start_time": "2021-07-16T13:49:17.871Z"
   },
   {
    "duration": 7,
    "start_time": "2021-07-16T13:49:17.886Z"
   },
   {
    "duration": 23,
    "start_time": "2021-07-16T13:49:17.895Z"
   },
   {
    "duration": 55,
    "start_time": "2021-07-16T13:49:17.920Z"
   },
   {
    "duration": 8,
    "start_time": "2021-07-16T13:49:17.978Z"
   },
   {
    "duration": 20,
    "start_time": "2021-07-16T13:49:17.989Z"
   },
   {
    "duration": 6,
    "start_time": "2021-07-16T13:49:18.012Z"
   },
   {
    "duration": 239,
    "start_time": "2021-07-16T13:49:18.022Z"
   },
   {
    "duration": 298,
    "start_time": "2021-07-16T13:49:18.265Z"
   },
   {
    "duration": 14,
    "start_time": "2021-07-16T13:49:18.566Z"
   },
   {
    "duration": 3656,
    "start_time": "2021-07-16T13:49:18.661Z"
   },
   {
    "duration": 421,
    "start_time": "2021-07-16T13:49:22.319Z"
   },
   {
    "duration": 8526,
    "start_time": "2021-07-16T13:49:22.743Z"
   },
   {
    "duration": 470,
    "start_time": "2021-07-16T13:49:31.271Z"
   },
   {
    "duration": 19,
    "start_time": "2021-07-16T13:49:31.744Z"
   },
   {
    "duration": 20842,
    "start_time": "2021-07-16T13:49:31.765Z"
   },
   {
    "duration": 279507,
    "start_time": "2021-07-16T13:49:52.609Z"
   },
   {
    "duration": 1606,
    "start_time": "2021-07-16T13:54:42.896Z"
   },
   {
    "duration": 3,
    "start_time": "2021-07-16T13:54:44.505Z"
   },
   {
    "duration": 997,
    "start_time": "2021-07-16T13:54:44.512Z"
   },
   {
    "duration": 112,
    "start_time": "2021-07-16T13:54:45.512Z"
   },
   {
    "duration": 56,
    "start_time": "2021-07-16T13:54:45.627Z"
   },
   {
    "duration": 21,
    "start_time": "2021-07-16T13:54:45.685Z"
   },
   {
    "duration": 7,
    "start_time": "2021-07-16T13:54:45.709Z"
   },
   {
    "duration": 56,
    "start_time": "2021-07-16T13:54:45.722Z"
   },
   {
    "duration": 28,
    "start_time": "2021-07-16T13:54:45.782Z"
   },
   {
    "duration": 437,
    "start_time": "2021-07-16T13:54:45.813Z"
   },
   {
    "duration": 11,
    "start_time": "2021-07-16T13:54:46.253Z"
   },
   {
    "duration": 17,
    "start_time": "2021-07-16T13:54:46.267Z"
   },
   {
    "duration": 8,
    "start_time": "2021-07-16T13:54:46.288Z"
   },
   {
    "duration": 8,
    "start_time": "2021-07-16T13:54:46.299Z"
   },
   {
    "duration": 111,
    "start_time": "2021-07-16T13:54:46.310Z"
   },
   {
    "duration": 61,
    "start_time": "2021-07-16T13:54:46.423Z"
   },
   {
    "duration": 5,
    "start_time": "2021-07-16T13:54:46.487Z"
   },
   {
    "duration": 20,
    "start_time": "2021-07-16T13:54:46.495Z"
   },
   {
    "duration": 8,
    "start_time": "2021-07-16T13:54:46.518Z"
   },
   {
    "duration": 39,
    "start_time": "2021-07-16T13:54:46.530Z"
   },
   {
    "duration": 7,
    "start_time": "2021-07-16T13:54:46.575Z"
   },
   {
    "duration": 514,
    "start_time": "2021-07-16T13:54:46.585Z"
   },
   {
    "duration": 694,
    "start_time": "2021-07-16T13:54:47.106Z"
   },
   {
    "duration": 689,
    "start_time": "2021-07-16T13:54:47.804Z"
   },
   {
    "duration": 679,
    "start_time": "2021-07-16T13:54:48.496Z"
   },
   {
    "duration": 734,
    "start_time": "2021-07-16T13:54:49.178Z"
   },
   {
    "duration": 1258,
    "start_time": "2021-07-16T13:54:49.915Z"
   },
   {
    "duration": 11,
    "start_time": "2021-07-16T13:54:51.176Z"
   },
   {
    "duration": 490,
    "start_time": "2021-07-16T13:54:51.190Z"
   },
   {
    "duration": 8,
    "start_time": "2021-07-16T13:54:51.683Z"
   },
   {
    "duration": 8,
    "start_time": "2021-07-16T13:54:51.694Z"
   },
   {
    "duration": 6,
    "start_time": "2021-07-16T13:54:51.705Z"
   },
   {
    "duration": 59,
    "start_time": "2021-07-16T13:54:51.714Z"
   },
   {
    "duration": 21,
    "start_time": "2021-07-16T13:54:51.778Z"
   },
   {
    "duration": 10,
    "start_time": "2021-07-16T13:54:51.802Z"
   },
   {
    "duration": 49,
    "start_time": "2021-07-16T13:54:51.814Z"
   },
   {
    "duration": 5,
    "start_time": "2021-07-16T13:54:51.865Z"
   },
   {
    "duration": 191,
    "start_time": "2021-07-16T13:54:51.872Z"
   },
   {
    "duration": 496,
    "start_time": "2021-07-16T13:54:52.066Z"
   },
   {
    "duration": 99,
    "start_time": "2021-07-16T13:54:52.565Z"
   },
   {
    "duration": 3461,
    "start_time": "2021-07-16T13:54:52.666Z"
   },
   {
    "duration": 440,
    "start_time": "2021-07-16T13:54:56.129Z"
   },
   {
    "duration": 8560,
    "start_time": "2021-07-16T13:54:56.572Z"
   },
   {
    "duration": 468,
    "start_time": "2021-07-16T13:55:05.135Z"
   },
   {
    "duration": 24,
    "start_time": "2021-07-16T13:55:05.605Z"
   },
   {
    "duration": 19664,
    "start_time": "2021-07-16T13:55:05.631Z"
   },
   {
    "duration": 182938,
    "start_time": "2021-07-16T13:55:25.298Z"
   },
   {
    "duration": 89302,
    "start_time": "2021-07-16T13:58:28.238Z"
   },
   {
    "duration": 52723,
    "start_time": "2021-07-16T13:59:57.543Z"
   },
   {
    "duration": 577795,
    "start_time": "2021-07-16T14:00:50.268Z"
   },
   {
    "duration": 188291,
    "start_time": "2021-07-16T14:10:28.065Z"
   },
   {
    "duration": 10,
    "start_time": "2021-07-16T14:13:36.362Z"
   },
   {
    "duration": 98881,
    "start_time": "2021-07-16T14:13:36.375Z"
   },
   {
    "duration": 331,
    "start_time": "2021-07-16T14:15:15.258Z"
   },
   {
    "duration": 276095,
    "start_time": "2021-07-16T14:15:18.576Z"
   },
   {
    "duration": 10,
    "start_time": "2021-07-16T14:19:54.677Z"
   },
   {
    "duration": 1553,
    "start_time": "2021-07-16T14:30:02.995Z"
   },
   {
    "duration": 4,
    "start_time": "2021-07-16T14:30:04.551Z"
   },
   {
    "duration": 916,
    "start_time": "2021-07-16T14:30:04.559Z"
   },
   {
    "duration": 101,
    "start_time": "2021-07-16T14:30:05.477Z"
   },
   {
    "duration": 49,
    "start_time": "2021-07-16T14:30:05.581Z"
   },
   {
    "duration": 32,
    "start_time": "2021-07-16T14:30:41.356Z"
   },
   {
    "duration": 22,
    "start_time": "2021-07-16T14:31:06.294Z"
   },
   {
    "duration": 6,
    "start_time": "2021-07-16T14:31:06.514Z"
   },
   {
    "duration": 16,
    "start_time": "2021-07-16T14:31:13.250Z"
   },
   {
    "duration": 15,
    "start_time": "2021-07-16T14:31:15.210Z"
   },
   {
    "duration": 7,
    "start_time": "2021-07-16T14:31:47.700Z"
   },
   {
    "duration": 17,
    "start_time": "2021-07-16T14:31:48.890Z"
   },
   {
    "duration": 7,
    "start_time": "2021-07-16T14:31:50.100Z"
   },
   {
    "duration": 7,
    "start_time": "2021-07-16T14:32:22.520Z"
   },
   {
    "duration": 52,
    "start_time": "2021-07-16T14:32:34.409Z"
   },
   {
    "duration": 35,
    "start_time": "2021-07-16T14:33:19.009Z"
   },
   {
    "duration": 5,
    "start_time": "2021-07-16T14:33:20.279Z"
   },
   {
    "duration": 16,
    "start_time": "2021-07-16T14:33:20.779Z"
   },
   {
    "duration": 6,
    "start_time": "2021-07-16T14:34:44.085Z"
   },
   {
    "duration": 6,
    "start_time": "2021-07-16T14:35:04.384Z"
   },
   {
    "duration": 12,
    "start_time": "2021-07-16T14:35:04.393Z"
   },
   {
    "duration": 6,
    "start_time": "2021-07-16T14:35:04.547Z"
   },
   {
    "duration": 444,
    "start_time": "2021-07-16T14:35:04.556Z"
   },
   {
    "duration": 457,
    "start_time": "2021-07-16T14:35:05.003Z"
   },
   {
    "duration": 454,
    "start_time": "2021-07-16T14:35:05.463Z"
   },
   {
    "duration": 559,
    "start_time": "2021-07-16T14:35:05.919Z"
   },
   {
    "duration": 479,
    "start_time": "2021-07-16T14:35:49.361Z"
   },
   {
    "duration": 461,
    "start_time": "2021-07-16T14:36:08.208Z"
   },
   {
    "duration": 8,
    "start_time": "2021-07-16T14:36:08.671Z"
   },
   {
    "duration": 537,
    "start_time": "2021-07-16T14:36:09.231Z"
   },
   {
    "duration": 8,
    "start_time": "2021-07-16T14:36:10.971Z"
   },
   {
    "duration": 9,
    "start_time": "2021-07-16T14:36:12.281Z"
   },
   {
    "duration": 4,
    "start_time": "2021-07-16T14:37:54.264Z"
   },
   {
    "duration": 4,
    "start_time": "2021-07-16T14:38:03.514Z"
   },
   {
    "duration": 20,
    "start_time": "2021-07-16T14:40:00.536Z"
   },
   {
    "duration": 20,
    "start_time": "2021-07-16T14:40:31.271Z"
   },
   {
    "duration": 8,
    "start_time": "2021-07-16T14:40:31.723Z"
   },
   {
    "duration": 405,
    "start_time": "2021-07-16T16:56:54.596Z"
   },
   {
    "duration": 1482,
    "start_time": "2021-07-16T16:58:04.621Z"
   },
   {
    "duration": 446,
    "start_time": "2021-07-16T16:58:19.835Z"
   },
   {
    "duration": 1508,
    "start_time": "2021-07-16T17:03:04.402Z"
   },
   {
    "duration": 5,
    "start_time": "2021-07-16T17:03:05.913Z"
   },
   {
    "duration": 1046,
    "start_time": "2021-07-16T17:03:05.922Z"
   },
   {
    "duration": 98,
    "start_time": "2021-07-16T17:03:06.970Z"
   },
   {
    "duration": 37,
    "start_time": "2021-07-16T17:03:07.070Z"
   },
   {
    "duration": 23,
    "start_time": "2021-07-16T17:03:07.110Z"
   },
   {
    "duration": 32,
    "start_time": "2021-07-16T17:03:07.136Z"
   },
   {
    "duration": 17,
    "start_time": "2021-07-16T17:03:07.174Z"
   },
   {
    "duration": 26,
    "start_time": "2021-07-16T17:03:07.194Z"
   },
   {
    "duration": 447,
    "start_time": "2021-07-16T17:03:07.223Z"
   },
   {
    "duration": 7,
    "start_time": "2021-07-16T17:03:07.673Z"
   },
   {
    "duration": 17,
    "start_time": "2021-07-16T17:03:07.683Z"
   },
   {
    "duration": 6,
    "start_time": "2021-07-16T17:03:07.702Z"
   },
   {
    "duration": 11,
    "start_time": "2021-07-16T17:03:07.710Z"
   },
   {
    "duration": 90,
    "start_time": "2021-07-16T17:03:07.723Z"
   },
   {
    "duration": 32,
    "start_time": "2021-07-16T17:03:07.816Z"
   },
   {
    "duration": 5,
    "start_time": "2021-07-16T17:03:07.867Z"
   },
   {
    "duration": 15,
    "start_time": "2021-07-16T17:03:07.875Z"
   },
   {
    "duration": 5,
    "start_time": "2021-07-16T17:03:07.892Z"
   },
   {
    "duration": 6,
    "start_time": "2021-07-16T17:03:07.899Z"
   },
   {
    "duration": 9,
    "start_time": "2021-07-16T17:03:07.907Z"
   },
   {
    "duration": 49,
    "start_time": "2021-07-16T17:03:07.918Z"
   },
   {
    "duration": 463,
    "start_time": "2021-07-16T17:03:07.972Z"
   },
   {
    "duration": 457,
    "start_time": "2021-07-16T17:03:08.438Z"
   },
   {
    "duration": 457,
    "start_time": "2021-07-16T17:03:08.897Z"
   },
   {
    "duration": 444,
    "start_time": "2021-07-16T17:03:09.357Z"
   },
   {
    "duration": 486,
    "start_time": "2021-07-16T17:03:09.804Z"
   },
   {
    "duration": 574,
    "start_time": "2021-07-16T17:03:10.293Z"
   },
   {
    "duration": 8,
    "start_time": "2021-07-16T17:03:10.869Z"
   },
   {
    "duration": 477,
    "start_time": "2021-07-16T17:03:10.879Z"
   },
   {
    "duration": 13,
    "start_time": "2021-07-16T17:03:11.358Z"
   },
   {
    "duration": 8,
    "start_time": "2021-07-16T17:03:11.374Z"
   },
   {
    "duration": 4,
    "start_time": "2021-07-16T17:03:11.385Z"
   },
   {
    "duration": 21,
    "start_time": "2021-07-16T17:03:11.392Z"
   },
   {
    "duration": 63,
    "start_time": "2021-07-16T17:03:11.415Z"
   },
   {
    "duration": 9,
    "start_time": "2021-07-16T17:03:11.481Z"
   },
   {
    "duration": 16,
    "start_time": "2021-07-16T17:03:11.492Z"
   },
   {
    "duration": 4,
    "start_time": "2021-07-16T17:03:11.510Z"
   },
   {
    "duration": 154,
    "start_time": "2021-07-16T17:03:11.517Z"
   },
   {
    "duration": 201,
    "start_time": "2021-07-16T17:03:11.674Z"
   },
   {
    "duration": 102,
    "start_time": "2021-07-16T17:03:11.969Z"
   },
   {
    "duration": 3416,
    "start_time": "2021-07-16T17:03:12.074Z"
   },
   {
    "duration": 424,
    "start_time": "2021-07-16T17:03:15.493Z"
   },
   {
    "duration": 8210,
    "start_time": "2021-07-16T17:03:15.919Z"
   },
   {
    "duration": 470,
    "start_time": "2021-07-16T17:03:24.132Z"
   },
   {
    "duration": 11,
    "start_time": "2021-07-16T17:03:24.605Z"
   },
   {
    "duration": 20374,
    "start_time": "2021-07-16T17:03:24.619Z"
   },
   {
    "duration": 148637,
    "start_time": "2021-07-16T17:03:44.995Z"
   },
   {
    "duration": 1538,
    "start_time": "2021-07-16T17:29:11.579Z"
   },
   {
    "duration": 4,
    "start_time": "2021-07-16T17:29:13.120Z"
   },
   {
    "duration": 921,
    "start_time": "2021-07-16T17:29:13.130Z"
   },
   {
    "duration": 95,
    "start_time": "2021-07-16T17:29:14.053Z"
   },
   {
    "duration": 47,
    "start_time": "2021-07-16T17:29:14.151Z"
   },
   {
    "duration": 23,
    "start_time": "2021-07-16T17:29:14.201Z"
   },
   {
    "duration": 6,
    "start_time": "2021-07-16T17:29:14.229Z"
   },
   {
    "duration": 16,
    "start_time": "2021-07-16T17:29:14.268Z"
   },
   {
    "duration": 28,
    "start_time": "2021-07-16T17:29:14.287Z"
   },
   {
    "duration": 432,
    "start_time": "2021-07-16T17:29:14.318Z"
   },
   {
    "duration": 18,
    "start_time": "2021-07-16T17:29:14.754Z"
   },
   {
    "duration": 21,
    "start_time": "2021-07-16T17:29:14.774Z"
   },
   {
    "duration": 6,
    "start_time": "2021-07-16T17:29:14.797Z"
   },
   {
    "duration": 7,
    "start_time": "2021-07-16T17:29:14.805Z"
   },
   {
    "duration": 93,
    "start_time": "2021-07-16T17:29:14.814Z"
   },
   {
    "duration": 35,
    "start_time": "2021-07-16T17:29:14.910Z"
   },
   {
    "duration": 7,
    "start_time": "2021-07-16T17:29:14.968Z"
   },
   {
    "duration": 19,
    "start_time": "2021-07-16T17:29:14.977Z"
   },
   {
    "duration": 6,
    "start_time": "2021-07-16T17:29:14.998Z"
   },
   {
    "duration": 17,
    "start_time": "2021-07-16T17:29:15.007Z"
   },
   {
    "duration": 18,
    "start_time": "2021-07-16T17:29:15.026Z"
   },
   {
    "duration": 7,
    "start_time": "2021-07-16T17:29:15.072Z"
   },
   {
    "duration": 465,
    "start_time": "2021-07-16T17:29:15.082Z"
   },
   {
    "duration": 522,
    "start_time": "2021-07-16T17:29:15.549Z"
   },
   {
    "duration": 461,
    "start_time": "2021-07-16T17:29:16.074Z"
   },
   {
    "duration": 477,
    "start_time": "2021-07-16T17:29:16.537Z"
   },
   {
    "duration": 503,
    "start_time": "2021-07-16T17:29:17.016Z"
   },
   {
    "duration": 580,
    "start_time": "2021-07-16T17:29:17.521Z"
   },
   {
    "duration": 7,
    "start_time": "2021-07-16T17:29:18.103Z"
   },
   {
    "duration": 474,
    "start_time": "2021-07-16T17:29:18.113Z"
   },
   {
    "duration": 7,
    "start_time": "2021-07-16T17:29:18.590Z"
   },
   {
    "duration": 9,
    "start_time": "2021-07-16T17:29:18.599Z"
   },
   {
    "duration": 4,
    "start_time": "2021-07-16T17:29:18.611Z"
   },
   {
    "duration": 60,
    "start_time": "2021-07-16T17:29:18.617Z"
   },
   {
    "duration": 20,
    "start_time": "2021-07-16T17:29:18.680Z"
   },
   {
    "duration": 9,
    "start_time": "2021-07-16T17:29:18.703Z"
   },
   {
    "duration": 17,
    "start_time": "2021-07-16T17:29:18.715Z"
   },
   {
    "duration": 33,
    "start_time": "2021-07-16T17:29:18.735Z"
   },
   {
    "duration": 196,
    "start_time": "2021-07-16T17:29:18.771Z"
   },
   {
    "duration": 397,
    "start_time": "2021-07-16T17:29:18.970Z"
   },
   {
    "duration": 12,
    "start_time": "2021-07-16T17:29:19.370Z"
   },
   {
    "duration": 3588,
    "start_time": "2021-07-16T17:29:19.384Z"
   },
   {
    "duration": 426,
    "start_time": "2021-07-16T17:29:22.975Z"
   },
   {
    "duration": 8250,
    "start_time": "2021-07-16T17:29:23.403Z"
   },
   {
    "duration": 469,
    "start_time": "2021-07-16T17:29:31.656Z"
   },
   {
    "duration": 10,
    "start_time": "2021-07-16T17:29:32.127Z"
   },
   {
    "duration": 20033,
    "start_time": "2021-07-16T17:29:32.140Z"
   },
   {
    "duration": 147069,
    "start_time": "2021-07-16T17:29:52.176Z"
   },
   {
    "duration": 76700,
    "start_time": "2021-07-16T17:32:19.247Z"
   },
   {
    "duration": 47154,
    "start_time": "2021-07-16T17:33:35.950Z"
   },
   {
    "duration": 574484,
    "start_time": "2021-07-16T17:34:23.106Z"
   },
   {
    "duration": 189005,
    "start_time": "2021-07-16T17:43:57.592Z"
   },
   {
    "duration": 9,
    "start_time": "2021-07-16T17:47:06.599Z"
   },
   {
    "duration": 262259,
    "start_time": "2021-07-16T17:47:06.611Z"
   },
   {
    "duration": 10,
    "start_time": "2021-07-16T17:51:28.872Z"
   },
   {
    "duration": 12,
    "start_time": "2021-07-16T17:51:28.884Z"
   },
   {
    "duration": 390,
    "start_time": "2021-07-16T18:27:37.494Z"
   },
   {
    "duration": 6,
    "start_time": "2021-07-16T18:28:10.952Z"
   },
   {
    "duration": 245,
    "start_time": "2021-07-16T18:28:37.083Z"
   },
   {
    "duration": 354,
    "start_time": "2021-07-16T18:28:48.029Z"
   },
   {
    "duration": 4,
    "start_time": "2021-07-16T18:28:53.181Z"
   },
   {
    "duration": 329,
    "start_time": "2021-07-16T18:28:53.756Z"
   },
   {
    "duration": 306,
    "start_time": "2021-07-16T18:29:49.147Z"
   },
   {
    "duration": 4,
    "start_time": "2021-07-16T18:30:50.581Z"
   },
   {
    "duration": 83200,
    "start_time": "2021-07-16T18:30:50.909Z"
   },
   {
    "duration": 83669,
    "start_time": "2021-07-16T18:32:41.898Z"
   },
   {
    "duration": 4806,
    "start_time": "2021-07-16T18:36:32.470Z"
   },
   {
    "duration": 4076221,
    "start_time": "2021-07-16T18:36:50.920Z"
   },
   {
    "duration": 1527,
    "start_time": "2021-07-16T19:46:41.669Z"
   },
   {
    "duration": 3,
    "start_time": "2021-07-16T19:46:43.198Z"
   },
   {
    "duration": 911,
    "start_time": "2021-07-16T19:46:43.204Z"
   },
   {
    "duration": 96,
    "start_time": "2021-07-16T19:46:44.118Z"
   },
   {
    "duration": 53,
    "start_time": "2021-07-16T19:46:44.216Z"
   },
   {
    "duration": 20,
    "start_time": "2021-07-16T19:46:44.272Z"
   },
   {
    "duration": 5,
    "start_time": "2021-07-16T19:46:44.294Z"
   },
   {
    "duration": 17,
    "start_time": "2021-07-16T19:46:44.304Z"
   },
   {
    "duration": 62,
    "start_time": "2021-07-16T19:46:44.324Z"
   },
   {
    "duration": 391,
    "start_time": "2021-07-16T19:46:44.388Z"
   },
   {
    "duration": 8,
    "start_time": "2021-07-16T19:46:44.782Z"
   },
   {
    "duration": 16,
    "start_time": "2021-07-16T19:46:44.793Z"
   },
   {
    "duration": 6,
    "start_time": "2021-07-16T19:46:44.811Z"
   },
   {
    "duration": 8,
    "start_time": "2021-07-16T19:46:44.820Z"
   },
   {
    "duration": 57,
    "start_time": "2021-07-16T19:46:44.868Z"
   },
   {
    "duration": 50,
    "start_time": "2021-07-16T19:46:44.928Z"
   },
   {
    "duration": 5,
    "start_time": "2021-07-16T19:46:44.980Z"
   },
   {
    "duration": 17,
    "start_time": "2021-07-16T19:46:44.988Z"
   },
   {
    "duration": 6,
    "start_time": "2021-07-16T19:46:45.007Z"
   },
   {
    "duration": 13,
    "start_time": "2021-07-16T19:46:45.015Z"
   },
   {
    "duration": 41,
    "start_time": "2021-07-16T19:46:45.030Z"
   },
   {
    "duration": 17,
    "start_time": "2021-07-16T19:46:45.073Z"
   },
   {
    "duration": 446,
    "start_time": "2021-07-16T19:46:45.095Z"
   },
   {
    "duration": 467,
    "start_time": "2021-07-16T19:46:45.544Z"
   },
   {
    "duration": 470,
    "start_time": "2021-07-16T19:46:46.014Z"
   },
   {
    "duration": 459,
    "start_time": "2021-07-16T19:46:46.487Z"
   },
   {
    "duration": 507,
    "start_time": "2021-07-16T19:46:46.948Z"
   },
   {
    "duration": 569,
    "start_time": "2021-07-16T19:46:47.457Z"
   },
   {
    "duration": 7,
    "start_time": "2021-07-16T19:46:48.028Z"
   },
   {
    "duration": 470,
    "start_time": "2021-07-16T19:46:48.037Z"
   },
   {
    "duration": 7,
    "start_time": "2021-07-16T19:46:48.510Z"
   },
   {
    "duration": 8,
    "start_time": "2021-07-16T19:46:48.519Z"
   },
   {
    "duration": 4,
    "start_time": "2021-07-16T19:46:48.530Z"
   },
   {
    "duration": 19,
    "start_time": "2021-07-16T19:46:48.567Z"
   },
   {
    "duration": 21,
    "start_time": "2021-07-16T19:46:48.588Z"
   },
   {
    "duration": 8,
    "start_time": "2021-07-16T19:46:48.611Z"
   },
   {
    "duration": 48,
    "start_time": "2021-07-16T19:46:48.621Z"
   },
   {
    "duration": 4,
    "start_time": "2021-07-16T19:46:48.671Z"
   },
   {
    "duration": 94,
    "start_time": "2021-07-16T19:46:48.677Z"
   },
   {
    "duration": 201,
    "start_time": "2021-07-16T19:46:48.774Z"
   },
   {
    "duration": 102,
    "start_time": "2021-07-16T19:46:49.069Z"
   },
   {
    "duration": 4,
    "start_time": "2021-07-16T19:46:49.174Z"
   },
   {
    "duration": 9736,
    "start_time": "2021-07-16T19:46:49.181Z"
   },
   {
    "duration": 22711,
    "start_time": "2021-07-16T19:46:58.919Z"
   },
   {
    "duration": 9,
    "start_time": "2021-07-16T19:47:21.633Z"
   },
   {
    "duration": 475,
    "start_time": "2021-07-16T19:47:21.644Z"
   },
   {
    "duration": 241,
    "start_time": "2021-07-16T19:47:22.121Z"
   },
   {
    "duration": 9,
    "start_time": "2021-07-16T19:47:22.365Z"
   },
   {
    "duration": 14,
    "start_time": "2021-07-16T19:47:22.376Z"
   },
   {
    "duration": 1561,
    "start_time": "2021-07-16T19:52:39.460Z"
   },
   {
    "duration": 3,
    "start_time": "2021-07-16T19:52:41.024Z"
   },
   {
    "duration": 921,
    "start_time": "2021-07-16T19:52:41.030Z"
   },
   {
    "duration": 94,
    "start_time": "2021-07-16T19:52:41.954Z"
   },
   {
    "duration": 50,
    "start_time": "2021-07-16T19:52:42.050Z"
   },
   {
    "duration": 22,
    "start_time": "2021-07-16T19:52:42.102Z"
   },
   {
    "duration": 20,
    "start_time": "2021-07-16T19:52:42.127Z"
   },
   {
    "duration": 22,
    "start_time": "2021-07-16T19:52:42.168Z"
   },
   {
    "duration": 29,
    "start_time": "2021-07-16T19:52:42.196Z"
   },
   {
    "duration": 421,
    "start_time": "2021-07-16T19:52:42.229Z"
   },
   {
    "duration": 16,
    "start_time": "2021-07-16T19:52:42.652Z"
   },
   {
    "duration": 16,
    "start_time": "2021-07-16T19:52:42.670Z"
   },
   {
    "duration": 6,
    "start_time": "2021-07-16T19:52:42.689Z"
   },
   {
    "duration": 8,
    "start_time": "2021-07-16T19:52:42.697Z"
   },
   {
    "duration": 92,
    "start_time": "2021-07-16T19:52:42.707Z"
   },
   {
    "duration": 36,
    "start_time": "2021-07-16T19:52:42.801Z"
   },
   {
    "duration": 5,
    "start_time": "2021-07-16T19:52:42.839Z"
   },
   {
    "duration": 34,
    "start_time": "2021-07-16T19:52:42.846Z"
   },
   {
    "duration": 6,
    "start_time": "2021-07-16T19:52:42.882Z"
   },
   {
    "duration": 6,
    "start_time": "2021-07-16T19:52:42.891Z"
   },
   {
    "duration": 10,
    "start_time": "2021-07-16T19:52:42.899Z"
   },
   {
    "duration": 18,
    "start_time": "2021-07-16T19:52:42.911Z"
   },
   {
    "duration": 504,
    "start_time": "2021-07-16T19:52:42.931Z"
   },
   {
    "duration": 487,
    "start_time": "2021-07-16T19:52:43.438Z"
   },
   {
    "duration": 463,
    "start_time": "2021-07-16T19:52:43.928Z"
   },
   {
    "duration": 451,
    "start_time": "2021-07-16T19:52:44.393Z"
   },
   {
    "duration": 500,
    "start_time": "2021-07-16T19:52:44.849Z"
   },
   {
    "duration": 572,
    "start_time": "2021-07-16T19:52:45.352Z"
   },
   {
    "duration": 7,
    "start_time": "2021-07-16T19:52:45.927Z"
   },
   {
    "duration": 486,
    "start_time": "2021-07-16T19:52:45.937Z"
   },
   {
    "duration": 7,
    "start_time": "2021-07-16T19:52:46.426Z"
   },
   {
    "duration": 9,
    "start_time": "2021-07-16T19:52:46.435Z"
   },
   {
    "duration": 4,
    "start_time": "2021-07-16T19:52:46.467Z"
   },
   {
    "duration": 28,
    "start_time": "2021-07-16T19:52:46.473Z"
   },
   {
    "duration": 28,
    "start_time": "2021-07-16T19:52:46.504Z"
   },
   {
    "duration": 8,
    "start_time": "2021-07-16T19:52:46.534Z"
   },
   {
    "duration": 35,
    "start_time": "2021-07-16T19:52:46.544Z"
   },
   {
    "duration": 5,
    "start_time": "2021-07-16T19:52:46.581Z"
   },
   {
    "duration": 92,
    "start_time": "2021-07-16T19:52:46.588Z"
   },
   {
    "duration": 307,
    "start_time": "2021-07-16T19:52:46.769Z"
   },
   {
    "duration": 11,
    "start_time": "2021-07-16T19:52:47.078Z"
   },
   {
    "duration": 4,
    "start_time": "2021-07-16T19:52:47.168Z"
   },
   {
    "duration": 10458,
    "start_time": "2021-07-16T19:52:47.175Z"
   },
   {
    "duration": 23508,
    "start_time": "2021-07-16T19:52:57.636Z"
   },
   {
    "duration": 26,
    "start_time": "2021-07-16T19:53:21.146Z"
   },
   {
    "duration": 102787,
    "start_time": "2021-07-16T19:53:21.175Z"
   },
   {
    "duration": 86964,
    "start_time": "2021-07-16T19:55:03.965Z"
   },
   {
    "duration": 9,
    "start_time": "2021-07-16T19:56:30.932Z"
   },
   {
    "duration": 20,
    "start_time": "2021-07-16T19:56:30.944Z"
   },
   {
    "duration": 9972,
    "start_time": "2021-07-16T19:56:30.970Z"
   },
   {
    "duration": 23052,
    "start_time": "2021-07-16T19:59:04.496Z"
   },
   {
    "duration": 22,
    "start_time": "2021-07-16T19:59:27.551Z"
   },
   {
    "duration": 36858,
    "start_time": "2021-07-16T20:06:39.961Z"
   },
   {
    "duration": 10064,
    "start_time": "2021-07-16T20:08:15.103Z"
   },
   {
    "duration": 10379,
    "start_time": "2021-07-16T20:08:50.364Z"
   },
   {
    "duration": 10110,
    "start_time": "2021-07-16T20:09:00.951Z"
   },
   {
    "duration": 10,
    "start_time": "2021-07-16T20:09:42.442Z"
   },
   {
    "duration": 11,
    "start_time": "2021-07-16T20:10:14.368Z"
   },
   {
    "duration": 11,
    "start_time": "2021-07-16T20:10:29.768Z"
   },
   {
    "duration": 4125,
    "start_time": "2021-07-16T20:12:00.202Z"
   },
   {
    "duration": 116565,
    "start_time": "2021-07-16T20:12:07.315Z"
   },
   {
    "duration": 11,
    "start_time": "2021-07-16T20:14:03.884Z"
   },
   {
    "duration": 43809,
    "start_time": "2021-07-16T20:14:48.010Z"
   },
   {
    "duration": 10,
    "start_time": "2021-07-16T20:15:31.822Z"
   },
   {
    "duration": 1577,
    "start_time": "2021-07-16T20:23:04.841Z"
   },
   {
    "duration": 4,
    "start_time": "2021-07-16T20:23:06.420Z"
   },
   {
    "duration": 942,
    "start_time": "2021-07-16T20:23:06.426Z"
   },
   {
    "duration": 97,
    "start_time": "2021-07-16T20:23:07.370Z"
   },
   {
    "duration": 35,
    "start_time": "2021-07-16T20:23:07.470Z"
   },
   {
    "duration": 21,
    "start_time": "2021-07-16T20:23:07.507Z"
   },
   {
    "duration": 37,
    "start_time": "2021-07-16T20:23:07.531Z"
   },
   {
    "duration": 24,
    "start_time": "2021-07-16T20:23:07.572Z"
   },
   {
    "duration": 26,
    "start_time": "2021-07-16T20:23:07.599Z"
   },
   {
    "duration": 401,
    "start_time": "2021-07-16T20:23:07.627Z"
   },
   {
    "duration": 6,
    "start_time": "2021-07-16T20:23:08.031Z"
   },
   {
    "duration": 30,
    "start_time": "2021-07-16T20:23:08.040Z"
   },
   {
    "duration": 7,
    "start_time": "2021-07-16T20:23:08.073Z"
   },
   {
    "duration": 9,
    "start_time": "2021-07-16T20:23:08.082Z"
   },
   {
    "duration": 75,
    "start_time": "2021-07-16T20:23:08.093Z"
   },
   {
    "duration": 34,
    "start_time": "2021-07-16T20:23:08.171Z"
   },
   {
    "duration": 5,
    "start_time": "2021-07-16T20:23:08.207Z"
   },
   {
    "duration": 23,
    "start_time": "2021-07-16T20:23:08.215Z"
   },
   {
    "duration": 30,
    "start_time": "2021-07-16T20:23:08.241Z"
   },
   {
    "duration": 20,
    "start_time": "2021-07-16T20:23:08.273Z"
   },
   {
    "duration": 15,
    "start_time": "2021-07-16T20:23:08.295Z"
   },
   {
    "duration": 15,
    "start_time": "2021-07-16T20:23:08.312Z"
   },
   {
    "duration": 476,
    "start_time": "2021-07-16T20:23:08.333Z"
   },
   {
    "duration": 488,
    "start_time": "2021-07-16T20:23:08.813Z"
   },
   {
    "duration": 473,
    "start_time": "2021-07-16T20:23:09.304Z"
   },
   {
    "duration": 471,
    "start_time": "2021-07-16T20:23:09.780Z"
   },
   {
    "duration": 521,
    "start_time": "2021-07-16T20:23:10.254Z"
   },
   {
    "duration": 584,
    "start_time": "2021-07-16T20:23:10.778Z"
   },
   {
    "duration": 10,
    "start_time": "2021-07-16T20:23:11.368Z"
   },
   {
    "duration": 492,
    "start_time": "2021-07-16T20:23:11.380Z"
   },
   {
    "duration": 9,
    "start_time": "2021-07-16T20:23:11.875Z"
   },
   {
    "duration": 10,
    "start_time": "2021-07-16T20:23:11.886Z"
   },
   {
    "duration": 6,
    "start_time": "2021-07-16T20:23:11.899Z"
   },
   {
    "duration": 66,
    "start_time": "2021-07-16T20:23:11.908Z"
   },
   {
    "duration": 34,
    "start_time": "2021-07-16T20:23:11.976Z"
   },
   {
    "duration": 10,
    "start_time": "2021-07-16T20:23:12.013Z"
   },
   {
    "duration": 30,
    "start_time": "2021-07-16T20:23:12.025Z"
   },
   {
    "duration": 5,
    "start_time": "2021-07-16T20:23:12.057Z"
   },
   {
    "duration": 103,
    "start_time": "2021-07-16T20:23:12.067Z"
   },
   {
    "duration": 300,
    "start_time": "2021-07-16T20:23:12.173Z"
   },
   {
    "duration": 101,
    "start_time": "2021-07-16T20:23:12.476Z"
   },
   {
    "duration": 11,
    "start_time": "2021-07-16T20:23:12.579Z"
   },
   {
    "duration": 10020,
    "start_time": "2021-07-16T20:23:12.592Z"
   },
   {
    "duration": 23192,
    "start_time": "2021-07-16T20:23:22.615Z"
   },
   {
    "duration": 9,
    "start_time": "2021-07-16T20:23:45.809Z"
   },
   {
    "duration": 4046721,
    "start_time": "2021-07-16T20:23:45.820Z"
   },
   {
    "duration": 9376838,
    "start_time": "2021-07-16T21:31:12.544Z"
   },
   {
    "duration": 9,
    "start_time": "2021-07-17T00:07:29.385Z"
   },
   {
    "duration": 14,
    "start_time": "2021-07-17T00:07:29.397Z"
   }
  ],
  "colab": {
   "collapsed_sections": [
    "mLu_HaWWLStd",
    "y9s9wo3yLSti",
    "oWUYO8yfLStk",
    "OmNoEMDsLStn"
   ],
   "name": "notebook_prefab_project2_oleg_grigoryev_v1.1.ipynb",
   "provenance": [
    {
     "file_id": "16OgpB_7iv8ij_CsplEIkvB_0LsQ2YSYS",
     "timestamp": 1626335952817
    }
   ],
   "version": ""
  },
  "kernelspec": {
   "display_name": "Python 3 (ipykernel)",
   "language": "python",
   "name": "python3"
  },
  "language_info": {
   "codemirror_mode": {
    "name": "ipython",
    "version": 3
   },
   "file_extension": ".py",
   "mimetype": "text/x-python",
   "name": "python",
   "nbconvert_exporter": "python",
   "pygments_lexer": "ipython3",
   "version": "3.8.8"
  },
  "toc": {
   "base_numbering": 1,
   "nav_menu": {},
   "number_sections": true,
   "sideBar": true,
   "skip_h1_title": true,
   "title_cell": "Содержание",
   "title_sidebar": "Contents",
   "toc_cell": true,
   "toc_position": {},
   "toc_section_display": true,
   "toc_window_display": true
  }
 },
 "nbformat": 4,
 "nbformat_minor": 1
}
