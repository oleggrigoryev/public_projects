{
 "cells": [
  {
   "cell_type": "markdown",
   "metadata": {},
   "source": [
    "# Определение стоимости автомобилей"
   ]
  },
  {
   "cell_type": "markdown",
   "metadata": {},
   "source": [
    "Сервис по продаже автомобилей с пробегом «{Censored}» разрабатывает приложение для привлечения новых клиентов. В нём можно быстро узнать рыночную стоимость своего автомобиля. В вашем распоряжении исторические данные: технические характеристики, комплектации и цены автомобилей. Вам нужно построить модель для определения стоимости. \n",
    "\n",
    "Заказчику важны:\n",
    "\n",
    "- качество предсказания;\n",
    "- скорость предсказания;\n",
    "- время обучения."
   ]
  },
  {
   "cell_type": "markdown",
   "metadata": {},
   "source": [
    "## Подготовка данных"
   ]
  },
  {
   "cell_type": "code",
   "execution_count": 1,
   "metadata": {
    "scrolled": true
   },
   "outputs": [
    {
     "name": "stdout",
     "output_type": "stream",
     "text": [
      "Defaulting to user installation because normal site-packages is not writeable\n",
      "Requirement already satisfied: xgboost in /opt/conda/lib/python3.7/site-packages (0.90)\n",
      "Requirement already satisfied: scipy in /opt/conda/lib/python3.7/site-packages (from xgboost) (1.4.1)\n",
      "Requirement already satisfied: numpy in /opt/conda/lib/python3.7/site-packages (from xgboost) (1.19.5)\n"
     ]
    }
   ],
   "source": [
    "import pandas as pd\n",
    "import numpy as np\n",
    "import time\n",
    "\n",
    "from sklearn.model_selection import train_test_split\n",
    "from catboost import CatBoostClassifier\n",
    "from sklearn.metrics import roc_auc_score\n",
    "from sklearn.linear_model import LinearRegression\n",
    "from sklearn.tree import DecisionTreeRegressor\n",
    "from sklearn.ensemble import RandomForestRegressor\n",
    "from sklearn.model_selection import GridSearchCV\n",
    "\n",
    "from catboost import CatBoostRegressor\n",
    "!pip install xgboost\n",
    "import xgboost as xgb\n",
    "from xgboost import XGBRegressor\n",
    "from sklearn.metrics import mean_squared_error\n",
    "from sklearn.metrics import r2_score\n",
    "from sklearn.metrics import mean_absolute_error\n",
    "\n",
    "import matplotlib.pyplot as plt"
   ]
  },
  {
   "cell_type": "code",
   "execution_count": 2,
   "metadata": {},
   "outputs": [],
   "source": [
    "df = pd.read_csv('/datasets/autos.csv')"
   ]
  },
  {
   "cell_type": "code",
   "execution_count": 3,
   "metadata": {},
   "outputs": [
    {
     "data": {
      "text/plain": [
       "(354369, 16)"
      ]
     },
     "execution_count": 3,
     "metadata": {},
     "output_type": "execute_result"
    }
   ],
   "source": [
    "df.shape"
   ]
  },
  {
   "cell_type": "code",
   "execution_count": 4,
   "metadata": {},
   "outputs": [
    {
     "name": "stdout",
     "output_type": "stream",
     "text": [
      "<class 'pandas.core.frame.DataFrame'>\n",
      "RangeIndex: 354369 entries, 0 to 354368\n",
      "Data columns (total 16 columns):\n",
      "DateCrawled          354369 non-null object\n",
      "Price                354369 non-null int64\n",
      "VehicleType          316879 non-null object\n",
      "RegistrationYear     354369 non-null int64\n",
      "Gearbox              334536 non-null object\n",
      "Power                354369 non-null int64\n",
      "Model                334664 non-null object\n",
      "Kilometer            354369 non-null int64\n",
      "RegistrationMonth    354369 non-null int64\n",
      "FuelType             321474 non-null object\n",
      "Brand                354369 non-null object\n",
      "NotRepaired          283215 non-null object\n",
      "DateCreated          354369 non-null object\n",
      "NumberOfPictures     354369 non-null int64\n",
      "PostalCode           354369 non-null int64\n",
      "LastSeen             354369 non-null object\n",
      "dtypes: int64(7), object(9)\n",
      "memory usage: 43.3+ MB\n"
     ]
    }
   ],
   "source": [
    "df.info()"
   ]
  },
  {
   "cell_type": "code",
   "execution_count": 5,
   "metadata": {},
   "outputs": [
    {
     "data": {
      "text/plain": [
       "DateCrawled              0\n",
       "Price                    0\n",
       "VehicleType          37490\n",
       "RegistrationYear         0\n",
       "Gearbox              19833\n",
       "Power                    0\n",
       "Model                19705\n",
       "Kilometer                0\n",
       "RegistrationMonth        0\n",
       "FuelType             32895\n",
       "Brand                    0\n",
       "NotRepaired          71154\n",
       "DateCreated              0\n",
       "NumberOfPictures         0\n",
       "PostalCode               0\n",
       "LastSeen                 0\n",
       "dtype: int64"
      ]
     },
     "execution_count": 5,
     "metadata": {},
     "output_type": "execute_result"
    }
   ],
   "source": [
    "df.isna().sum()"
   ]
  },
  {
   "cell_type": "code",
   "execution_count": 6,
   "metadata": {
    "scrolled": true
   },
   "outputs": [
    {
     "data": {
      "text/plain": [
       "4"
      ]
     },
     "execution_count": 6,
     "metadata": {},
     "output_type": "execute_result"
    }
   ],
   "source": [
    "df.duplicated().sum()"
   ]
  },
  {
   "cell_type": "code",
   "execution_count": 7,
   "metadata": {
    "scrolled": true
   },
   "outputs": [
    {
     "data": {
      "text/html": [
       "<div>\n",
       "<style scoped>\n",
       "    .dataframe tbody tr th:only-of-type {\n",
       "        vertical-align: middle;\n",
       "    }\n",
       "\n",
       "    .dataframe tbody tr th {\n",
       "        vertical-align: top;\n",
       "    }\n",
       "\n",
       "    .dataframe thead th {\n",
       "        text-align: right;\n",
       "    }\n",
       "</style>\n",
       "<table border=\"1\" class=\"dataframe\">\n",
       "  <thead>\n",
       "    <tr style=\"text-align: right;\">\n",
       "      <th></th>\n",
       "      <th>DateCrawled</th>\n",
       "      <th>Price</th>\n",
       "      <th>VehicleType</th>\n",
       "      <th>RegistrationYear</th>\n",
       "      <th>Gearbox</th>\n",
       "      <th>Power</th>\n",
       "      <th>Model</th>\n",
       "      <th>Kilometer</th>\n",
       "      <th>RegistrationMonth</th>\n",
       "      <th>FuelType</th>\n",
       "      <th>Brand</th>\n",
       "      <th>NotRepaired</th>\n",
       "      <th>DateCreated</th>\n",
       "      <th>NumberOfPictures</th>\n",
       "      <th>PostalCode</th>\n",
       "      <th>LastSeen</th>\n",
       "    </tr>\n",
       "  </thead>\n",
       "  <tbody>\n",
       "    <tr>\n",
       "      <td>0</td>\n",
       "      <td>2016-03-24 11:52:17</td>\n",
       "      <td>480</td>\n",
       "      <td>NaN</td>\n",
       "      <td>1993</td>\n",
       "      <td>manual</td>\n",
       "      <td>0</td>\n",
       "      <td>golf</td>\n",
       "      <td>150000</td>\n",
       "      <td>0</td>\n",
       "      <td>petrol</td>\n",
       "      <td>volkswagen</td>\n",
       "      <td>NaN</td>\n",
       "      <td>2016-03-24 00:00:00</td>\n",
       "      <td>0</td>\n",
       "      <td>70435</td>\n",
       "      <td>2016-04-07 03:16:57</td>\n",
       "    </tr>\n",
       "    <tr>\n",
       "      <td>1</td>\n",
       "      <td>2016-03-24 10:58:45</td>\n",
       "      <td>18300</td>\n",
       "      <td>coupe</td>\n",
       "      <td>2011</td>\n",
       "      <td>manual</td>\n",
       "      <td>190</td>\n",
       "      <td>NaN</td>\n",
       "      <td>125000</td>\n",
       "      <td>5</td>\n",
       "      <td>gasoline</td>\n",
       "      <td>audi</td>\n",
       "      <td>yes</td>\n",
       "      <td>2016-03-24 00:00:00</td>\n",
       "      <td>0</td>\n",
       "      <td>66954</td>\n",
       "      <td>2016-04-07 01:46:50</td>\n",
       "    </tr>\n",
       "    <tr>\n",
       "      <td>2</td>\n",
       "      <td>2016-03-14 12:52:21</td>\n",
       "      <td>9800</td>\n",
       "      <td>suv</td>\n",
       "      <td>2004</td>\n",
       "      <td>auto</td>\n",
       "      <td>163</td>\n",
       "      <td>grand</td>\n",
       "      <td>125000</td>\n",
       "      <td>8</td>\n",
       "      <td>gasoline</td>\n",
       "      <td>jeep</td>\n",
       "      <td>NaN</td>\n",
       "      <td>2016-03-14 00:00:00</td>\n",
       "      <td>0</td>\n",
       "      <td>90480</td>\n",
       "      <td>2016-04-05 12:47:46</td>\n",
       "    </tr>\n",
       "    <tr>\n",
       "      <td>3</td>\n",
       "      <td>2016-03-17 16:54:04</td>\n",
       "      <td>1500</td>\n",
       "      <td>small</td>\n",
       "      <td>2001</td>\n",
       "      <td>manual</td>\n",
       "      <td>75</td>\n",
       "      <td>golf</td>\n",
       "      <td>150000</td>\n",
       "      <td>6</td>\n",
       "      <td>petrol</td>\n",
       "      <td>volkswagen</td>\n",
       "      <td>no</td>\n",
       "      <td>2016-03-17 00:00:00</td>\n",
       "      <td>0</td>\n",
       "      <td>91074</td>\n",
       "      <td>2016-03-17 17:40:17</td>\n",
       "    </tr>\n",
       "    <tr>\n",
       "      <td>4</td>\n",
       "      <td>2016-03-31 17:25:20</td>\n",
       "      <td>3600</td>\n",
       "      <td>small</td>\n",
       "      <td>2008</td>\n",
       "      <td>manual</td>\n",
       "      <td>69</td>\n",
       "      <td>fabia</td>\n",
       "      <td>90000</td>\n",
       "      <td>7</td>\n",
       "      <td>gasoline</td>\n",
       "      <td>skoda</td>\n",
       "      <td>no</td>\n",
       "      <td>2016-03-31 00:00:00</td>\n",
       "      <td>0</td>\n",
       "      <td>60437</td>\n",
       "      <td>2016-04-06 10:17:21</td>\n",
       "    </tr>\n",
       "  </tbody>\n",
       "</table>\n",
       "</div>"
      ],
      "text/plain": [
       "           DateCrawled  Price VehicleType  RegistrationYear Gearbox  Power  \\\n",
       "0  2016-03-24 11:52:17    480         NaN              1993  manual      0   \n",
       "1  2016-03-24 10:58:45  18300       coupe              2011  manual    190   \n",
       "2  2016-03-14 12:52:21   9800         suv              2004    auto    163   \n",
       "3  2016-03-17 16:54:04   1500       small              2001  manual     75   \n",
       "4  2016-03-31 17:25:20   3600       small              2008  manual     69   \n",
       "\n",
       "   Model  Kilometer  RegistrationMonth  FuelType       Brand NotRepaired  \\\n",
       "0   golf     150000                  0    petrol  volkswagen         NaN   \n",
       "1    NaN     125000                  5  gasoline        audi         yes   \n",
       "2  grand     125000                  8  gasoline        jeep         NaN   \n",
       "3   golf     150000                  6    petrol  volkswagen          no   \n",
       "4  fabia      90000                  7  gasoline       skoda          no   \n",
       "\n",
       "           DateCreated  NumberOfPictures  PostalCode             LastSeen  \n",
       "0  2016-03-24 00:00:00                 0       70435  2016-04-07 03:16:57  \n",
       "1  2016-03-24 00:00:00                 0       66954  2016-04-07 01:46:50  \n",
       "2  2016-03-14 00:00:00                 0       90480  2016-04-05 12:47:46  \n",
       "3  2016-03-17 00:00:00                 0       91074  2016-03-17 17:40:17  \n",
       "4  2016-03-31 00:00:00                 0       60437  2016-04-06 10:17:21  "
      ]
     },
     "execution_count": 7,
     "metadata": {},
     "output_type": "execute_result"
    }
   ],
   "source": [
    "df.head(5)"
   ]
  },
  {
   "cell_type": "markdown",
   "metadata": {},
   "source": [
    "### Предобработка данных"
   ]
  },
  {
   "cell_type": "markdown",
   "metadata": {},
   "source": [
    "#### Преобразую типы данных:"
   ]
  },
  {
   "cell_type": "code",
   "execution_count": 8,
   "metadata": {},
   "outputs": [],
   "source": [
    "df['DateCrawled'] = pd.to_datetime(df['DateCrawled'])\n",
    "df['DateCreated'] = pd.to_datetime(df['DateCreated'])\n",
    "df['LastSeen'] = pd.to_datetime(df['LastSeen'])"
   ]
  },
  {
   "cell_type": "markdown",
   "metadata": {},
   "source": [
    "#### Удалю строки с дубликатами:"
   ]
  },
  {
   "cell_type": "code",
   "execution_count": 10,
   "metadata": {},
   "outputs": [],
   "source": [
    "df = df.drop_duplicates().reset_index(drop=True)"
   ]
  },
  {
   "cell_type": "markdown",
   "metadata": {},
   "source": [
    "#### Проверю пропущенные значения в \"VehicleType\":"
   ]
  },
  {
   "cell_type": "code",
   "execution_count": 11,
   "metadata": {},
   "outputs": [
    {
     "data": {
      "text/html": [
       "<div>\n",
       "<style scoped>\n",
       "    .dataframe tbody tr th:only-of-type {\n",
       "        vertical-align: middle;\n",
       "    }\n",
       "\n",
       "    .dataframe tbody tr th {\n",
       "        vertical-align: top;\n",
       "    }\n",
       "\n",
       "    .dataframe thead th {\n",
       "        text-align: right;\n",
       "    }\n",
       "</style>\n",
       "<table border=\"1\" class=\"dataframe\">\n",
       "  <thead>\n",
       "    <tr style=\"text-align: right;\">\n",
       "      <th></th>\n",
       "      <th>DateCrawled</th>\n",
       "      <th>Price</th>\n",
       "      <th>VehicleType</th>\n",
       "      <th>RegistrationYear</th>\n",
       "      <th>Gearbox</th>\n",
       "      <th>Power</th>\n",
       "      <th>Model</th>\n",
       "      <th>Kilometer</th>\n",
       "      <th>RegistrationMonth</th>\n",
       "      <th>FuelType</th>\n",
       "      <th>Brand</th>\n",
       "      <th>NotRepaired</th>\n",
       "      <th>DateCreated</th>\n",
       "      <th>NumberOfPictures</th>\n",
       "      <th>PostalCode</th>\n",
       "      <th>LastSeen</th>\n",
       "    </tr>\n",
       "  </thead>\n",
       "  <tbody>\n",
       "    <tr>\n",
       "      <td>0</td>\n",
       "      <td>2016-03-24 11:52:17</td>\n",
       "      <td>480</td>\n",
       "      <td>NaN</td>\n",
       "      <td>1993</td>\n",
       "      <td>manual</td>\n",
       "      <td>0</td>\n",
       "      <td>golf</td>\n",
       "      <td>150000</td>\n",
       "      <td>0</td>\n",
       "      <td>petrol</td>\n",
       "      <td>volkswagen</td>\n",
       "      <td>NaN</td>\n",
       "      <td>2016-03-24</td>\n",
       "      <td>0</td>\n",
       "      <td>70435</td>\n",
       "      <td>2016-04-07 03:16:57</td>\n",
       "    </tr>\n",
       "    <tr>\n",
       "      <td>16</td>\n",
       "      <td>2016-04-01 12:46:46</td>\n",
       "      <td>300</td>\n",
       "      <td>NaN</td>\n",
       "      <td>2016</td>\n",
       "      <td>NaN</td>\n",
       "      <td>60</td>\n",
       "      <td>polo</td>\n",
       "      <td>150000</td>\n",
       "      <td>0</td>\n",
       "      <td>petrol</td>\n",
       "      <td>volkswagen</td>\n",
       "      <td>NaN</td>\n",
       "      <td>2016-04-01</td>\n",
       "      <td>0</td>\n",
       "      <td>38871</td>\n",
       "      <td>2016-04-01 12:46:46</td>\n",
       "    </tr>\n",
       "    <tr>\n",
       "      <td>22</td>\n",
       "      <td>2016-03-23 14:52:51</td>\n",
       "      <td>2900</td>\n",
       "      <td>NaN</td>\n",
       "      <td>2018</td>\n",
       "      <td>manual</td>\n",
       "      <td>90</td>\n",
       "      <td>meriva</td>\n",
       "      <td>150000</td>\n",
       "      <td>5</td>\n",
       "      <td>petrol</td>\n",
       "      <td>opel</td>\n",
       "      <td>no</td>\n",
       "      <td>2016-03-23</td>\n",
       "      <td>0</td>\n",
       "      <td>49716</td>\n",
       "      <td>2016-03-31 01:16:33</td>\n",
       "    </tr>\n",
       "  </tbody>\n",
       "</table>\n",
       "</div>"
      ],
      "text/plain": [
       "           DateCrawled  Price VehicleType  RegistrationYear Gearbox  Power  \\\n",
       "0  2016-03-24 11:52:17    480         NaN              1993  manual      0   \n",
       "16 2016-04-01 12:46:46    300         NaN              2016     NaN     60   \n",
       "22 2016-03-23 14:52:51   2900         NaN              2018  manual     90   \n",
       "\n",
       "     Model  Kilometer  RegistrationMonth FuelType       Brand NotRepaired  \\\n",
       "0     golf     150000                  0   petrol  volkswagen         NaN   \n",
       "16    polo     150000                  0   petrol  volkswagen         NaN   \n",
       "22  meriva     150000                  5   petrol        opel          no   \n",
       "\n",
       "   DateCreated  NumberOfPictures  PostalCode            LastSeen  \n",
       "0   2016-03-24                 0       70435 2016-04-07 03:16:57  \n",
       "16  2016-04-01                 0       38871 2016-04-01 12:46:46  \n",
       "22  2016-03-23                 0       49716 2016-03-31 01:16:33  "
      ]
     },
     "execution_count": 11,
     "metadata": {},
     "output_type": "execute_result"
    }
   ],
   "source": [
    "df[df['VehicleType'].isna()].head(3)"
   ]
  },
  {
   "cell_type": "code",
   "execution_count": 12,
   "metadata": {},
   "outputs": [
    {
     "data": {
      "text/plain": [
       "array([nan, 'small', 'sedan', 'bus', 'other', 'wagon', 'convertible',\n",
       "       'coupe', 'suv'], dtype=object)"
      ]
     },
     "execution_count": 12,
     "metadata": {},
     "output_type": "execute_result"
    }
   ],
   "source": [
    "df[(df['Model'] == 'golf') & (df['Brand'] == 'volkswagen')]['VehicleType'].unique()"
   ]
  },
  {
   "cell_type": "code",
   "execution_count": 13,
   "metadata": {
    "scrolled": true
   },
   "outputs": [
    {
     "data": {
      "text/plain": [
       "VehicleType\n",
       "bus              760\n",
       "convertible     1962\n",
       "coupe            429\n",
       "other            185\n",
       "sedan          14744\n",
       "small           3911\n",
       "suv               25\n",
       "wagon           3181\n",
       "Name: VehicleType, dtype: int64"
      ]
     },
     "execution_count": 13,
     "metadata": {},
     "output_type": "execute_result"
    }
   ],
   "source": [
    "df[(df['Model'] == 'golf') & (df['Brand'] == 'volkswagen')].groupby('VehicleType')['VehicleType'].count()"
   ]
  },
  {
   "cell_type": "markdown",
   "metadata": {},
   "source": [
    "Что-то не так с данными по типу ТС, т.к. не бывает столько типов кузова у VW Golf (на других моделях тоже проверил). Не буду учитывать этот столбец при обучении."
   ]
  },
  {
   "cell_type": "markdown",
   "metadata": {},
   "source": [
    "#### Заполню пропуски в КП 'Gearbox':"
   ]
  },
  {
   "cell_type": "code",
   "execution_count": 14,
   "metadata": {},
   "outputs": [
    {
     "data": {
      "text/plain": [
       "manual    268249\n",
       "auto       66283\n",
       "Name: Gearbox, dtype: int64"
      ]
     },
     "execution_count": 14,
     "metadata": {},
     "output_type": "execute_result"
    }
   ],
   "source": [
    "df['Gearbox'].value_counts()"
   ]
  },
  {
   "cell_type": "markdown",
   "metadata": {},
   "source": [
    "Заполню пропуски модой по сгруппированным данным исходя из марки, модели."
   ]
  },
  {
   "cell_type": "markdown",
   "metadata": {},
   "source": [
    "Создам справочник: сгруппирую данные по марке и модели и найду для них моды."
   ]
  },
  {
   "cell_type": "code",
   "execution_count": 15,
   "metadata": {
    "scrolled": true
   },
   "outputs": [
    {
     "data": {
      "text/html": [
       "<div>\n",
       "<style scoped>\n",
       "    .dataframe tbody tr th:only-of-type {\n",
       "        vertical-align: middle;\n",
       "    }\n",
       "\n",
       "    .dataframe tbody tr th {\n",
       "        vertical-align: top;\n",
       "    }\n",
       "\n",
       "    .dataframe thead th {\n",
       "        text-align: right;\n",
       "    }\n",
       "</style>\n",
       "<table border=\"1\" class=\"dataframe\">\n",
       "  <thead>\n",
       "    <tr style=\"text-align: right;\">\n",
       "      <th></th>\n",
       "      <th>Brand</th>\n",
       "      <th>Model</th>\n",
       "      <th>Gearbox</th>\n",
       "    </tr>\n",
       "  </thead>\n",
       "  <tbody>\n",
       "    <tr>\n",
       "      <td>0</td>\n",
       "      <td>alfa_romeo</td>\n",
       "      <td>145</td>\n",
       "      <td>manual</td>\n",
       "    </tr>\n",
       "    <tr>\n",
       "      <td>1</td>\n",
       "      <td>alfa_romeo</td>\n",
       "      <td>147</td>\n",
       "      <td>manual</td>\n",
       "    </tr>\n",
       "    <tr>\n",
       "      <td>2</td>\n",
       "      <td>alfa_romeo</td>\n",
       "      <td>156</td>\n",
       "      <td>manual</td>\n",
       "    </tr>\n",
       "    <tr>\n",
       "      <td>3</td>\n",
       "      <td>alfa_romeo</td>\n",
       "      <td>159</td>\n",
       "      <td>manual</td>\n",
       "    </tr>\n",
       "    <tr>\n",
       "      <td>4</td>\n",
       "      <td>alfa_romeo</td>\n",
       "      <td>other</td>\n",
       "      <td>manual</td>\n",
       "    </tr>\n",
       "  </tbody>\n",
       "</table>\n",
       "</div>"
      ],
      "text/plain": [
       "        Brand  Model Gearbox\n",
       "0  alfa_romeo    145  manual\n",
       "1  alfa_romeo    147  manual\n",
       "2  alfa_romeo    156  manual\n",
       "3  alfa_romeo    159  manual\n",
       "4  alfa_romeo  other  manual"
      ]
     },
     "execution_count": 15,
     "metadata": {},
     "output_type": "execute_result"
    }
   ],
   "source": [
    "gearbox_modes = df.groupby(['Brand','Model'])['Gearbox'].apply(\n",
    "    lambda x: x.mode()[0] if not x.mode().empty else 'unknown').reset_index()\n",
    "gearbox_modes.head()"
   ]
  },
  {
   "cell_type": "markdown",
   "metadata": {},
   "source": [
    "Использую merge для заполнения пропущенных значений. Возможно, не все NaN заполнятся, т.к. не хватит данных в \"справочнике\" gearbox_modes:"
   ]
  },
  {
   "cell_type": "code",
   "execution_count": 16,
   "metadata": {
    "scrolled": true
   },
   "outputs": [],
   "source": [
    "df_mode = df.merge(gearbox_modes, how='left', on=['Brand','Model'], suffixes=('','_mode'))\n",
    "x = df['Gearbox'].isna()\n",
    "df.loc[x, 'Gearbox'] = df_mode.loc[x, 'Gearbox_mode']"
   ]
  },
  {
   "cell_type": "code",
   "execution_count": 17,
   "metadata": {
    "scrolled": true
   },
   "outputs": [
    {
     "name": "stdout",
     "output_type": "stream",
     "text": [
      "Пропущено 4131 значений.  Их доля: 1.2%.\n"
     ]
    }
   ],
   "source": [
    "print('Пропущено {:.0f} значений. '.format(df['Gearbox'].isna().sum()), \n",
    "      'Их доля: {:.1%}.'.format(df['Gearbox'].isna().sum() / df.shape[0]))"
   ]
  },
  {
   "cell_type": "markdown",
   "metadata": {},
   "source": [
    "Данных немного, поэтому удалю их:"
   ]
  },
  {
   "cell_type": "code",
   "execution_count": 18,
   "metadata": {},
   "outputs": [],
   "source": [
    "df.dropna(subset=['Gearbox'], inplace=True)\n",
    "df = df.reset_index()"
   ]
  },
  {
   "cell_type": "code",
   "execution_count": 19,
   "metadata": {},
   "outputs": [
    {
     "data": {
      "text/plain": [
       "0"
      ]
     },
     "execution_count": 19,
     "metadata": {},
     "output_type": "execute_result"
    }
   ],
   "source": [
    "df['Gearbox'].isna().sum()"
   ]
  },
  {
   "cell_type": "markdown",
   "metadata": {},
   "source": [
    "#### Пропуски в моделе ТС 'Model':"
   ]
  },
  {
   "cell_type": "code",
   "execution_count": 21,
   "metadata": {},
   "outputs": [
    {
     "data": {
      "text/html": [
       "<div>\n",
       "<style scoped>\n",
       "    .dataframe tbody tr th:only-of-type {\n",
       "        vertical-align: middle;\n",
       "    }\n",
       "\n",
       "    .dataframe tbody tr th {\n",
       "        vertical-align: top;\n",
       "    }\n",
       "\n",
       "    .dataframe thead th {\n",
       "        text-align: right;\n",
       "    }\n",
       "</style>\n",
       "<table border=\"1\" class=\"dataframe\">\n",
       "  <thead>\n",
       "    <tr style=\"text-align: right;\">\n",
       "      <th></th>\n",
       "      <th>index</th>\n",
       "      <th>DateCrawled</th>\n",
       "      <th>Price</th>\n",
       "      <th>VehicleType</th>\n",
       "      <th>RegistrationYear</th>\n",
       "      <th>Gearbox</th>\n",
       "      <th>Power</th>\n",
       "      <th>Model</th>\n",
       "      <th>Kilometer</th>\n",
       "      <th>RegistrationMonth</th>\n",
       "      <th>FuelType</th>\n",
       "      <th>Brand</th>\n",
       "      <th>NotRepaired</th>\n",
       "      <th>DateCreated</th>\n",
       "      <th>NumberOfPictures</th>\n",
       "      <th>PostalCode</th>\n",
       "      <th>LastSeen</th>\n",
       "    </tr>\n",
       "  </thead>\n",
       "  <tbody>\n",
       "    <tr>\n",
       "      <td>1</td>\n",
       "      <td>1</td>\n",
       "      <td>2016-03-24 10:58:45</td>\n",
       "      <td>18300</td>\n",
       "      <td>coupe</td>\n",
       "      <td>2011</td>\n",
       "      <td>manual</td>\n",
       "      <td>190</td>\n",
       "      <td>NaN</td>\n",
       "      <td>125000</td>\n",
       "      <td>5</td>\n",
       "      <td>gasoline</td>\n",
       "      <td>audi</td>\n",
       "      <td>yes</td>\n",
       "      <td>2016-03-24</td>\n",
       "      <td>0</td>\n",
       "      <td>66954</td>\n",
       "      <td>2016-04-07 01:46:50</td>\n",
       "    </tr>\n",
       "    <tr>\n",
       "      <td>59</td>\n",
       "      <td>59</td>\n",
       "      <td>2016-03-29 15:48:15</td>\n",
       "      <td>1</td>\n",
       "      <td>suv</td>\n",
       "      <td>1994</td>\n",
       "      <td>manual</td>\n",
       "      <td>286</td>\n",
       "      <td>NaN</td>\n",
       "      <td>150000</td>\n",
       "      <td>11</td>\n",
       "      <td>NaN</td>\n",
       "      <td>sonstige_autos</td>\n",
       "      <td>NaN</td>\n",
       "      <td>2016-03-29</td>\n",
       "      <td>0</td>\n",
       "      <td>53721</td>\n",
       "      <td>2016-04-06 01:44:38</td>\n",
       "    </tr>\n",
       "    <tr>\n",
       "      <td>81</td>\n",
       "      <td>81</td>\n",
       "      <td>2016-04-03 12:56:45</td>\n",
       "      <td>350</td>\n",
       "      <td>small</td>\n",
       "      <td>1997</td>\n",
       "      <td>manual</td>\n",
       "      <td>54</td>\n",
       "      <td>NaN</td>\n",
       "      <td>150000</td>\n",
       "      <td>3</td>\n",
       "      <td>NaN</td>\n",
       "      <td>fiat</td>\n",
       "      <td>yes</td>\n",
       "      <td>2016-04-03</td>\n",
       "      <td>0</td>\n",
       "      <td>45665</td>\n",
       "      <td>2016-04-05 11:47:13</td>\n",
       "    </tr>\n",
       "  </tbody>\n",
       "</table>\n",
       "</div>"
      ],
      "text/plain": [
       "    index         DateCrawled  Price VehicleType  RegistrationYear Gearbox  \\\n",
       "1       1 2016-03-24 10:58:45  18300       coupe              2011  manual   \n",
       "59     59 2016-03-29 15:48:15      1         suv              1994  manual   \n",
       "81     81 2016-04-03 12:56:45    350       small              1997  manual   \n",
       "\n",
       "    Power Model  Kilometer  RegistrationMonth  FuelType           Brand  \\\n",
       "1     190   NaN     125000                  5  gasoline            audi   \n",
       "59    286   NaN     150000                 11       NaN  sonstige_autos   \n",
       "81     54   NaN     150000                  3       NaN            fiat   \n",
       "\n",
       "   NotRepaired DateCreated  NumberOfPictures  PostalCode            LastSeen  \n",
       "1          yes  2016-03-24                 0       66954 2016-04-07 01:46:50  \n",
       "59         NaN  2016-03-29                 0       53721 2016-04-06 01:44:38  \n",
       "81         yes  2016-04-03                 0       45665 2016-04-05 11:47:13  "
      ]
     },
     "execution_count": 21,
     "metadata": {},
     "output_type": "execute_result"
    }
   ],
   "source": [
    "df[df['Model'].isna()].head(3)"
   ]
  },
  {
   "cell_type": "code",
   "execution_count": 22,
   "metadata": {},
   "outputs": [
    {
     "name": "stdout",
     "output_type": "stream",
     "text": [
      "Доля строк с пропусками в моделе: 4.4%\n"
     ]
    }
   ],
   "source": [
    "na_model_share = df['Model'].isna().sum() / df.shape[0]\n",
    "print('Доля строк с пропусками в моделе: {:.1%}'.format(na_model_share))"
   ]
  },
  {
   "cell_type": "markdown",
   "metadata": {},
   "source": [
    "Так как разумного способа заполнить все пропущенные значения не видно, удалю эти строки, они занимают небольшую долю в датасете:"
   ]
  },
  {
   "cell_type": "code",
   "execution_count": 23,
   "metadata": {},
   "outputs": [],
   "source": [
    "df.dropna(subset=['Model'], inplace=True)\n",
    "df = df.reset_index()"
   ]
  },
  {
   "cell_type": "markdown",
   "metadata": {},
   "source": [
    "#### Обработаю пропущенные значения в 'FuelType':"
   ]
  },
  {
   "cell_type": "markdown",
   "metadata": {},
   "source": [
    "Довольно много наблюдений с пропусками в 'NotRapaired', так что удалять нельзя. Заполню пропуски модой."
   ]
  },
  {
   "cell_type": "markdown",
   "metadata": {},
   "source": [
    "Заполню пропуски модой по сгруппированным данным исходя из марки, мощности двигателя:"
   ]
  },
  {
   "cell_type": "code",
   "execution_count": 24,
   "metadata": {
    "scrolled": true
   },
   "outputs": [
    {
     "data": {
      "text/html": [
       "<div>\n",
       "<style scoped>\n",
       "    .dataframe tbody tr th:only-of-type {\n",
       "        vertical-align: middle;\n",
       "    }\n",
       "\n",
       "    .dataframe tbody tr th {\n",
       "        vertical-align: top;\n",
       "    }\n",
       "\n",
       "    .dataframe thead th {\n",
       "        text-align: right;\n",
       "    }\n",
       "</style>\n",
       "<table border=\"1\" class=\"dataframe\">\n",
       "  <thead>\n",
       "    <tr style=\"text-align: right;\">\n",
       "      <th></th>\n",
       "      <th>Brand</th>\n",
       "      <th>Power</th>\n",
       "      <th>FuelType</th>\n",
       "    </tr>\n",
       "  </thead>\n",
       "  <tbody>\n",
       "    <tr>\n",
       "      <td>0</td>\n",
       "      <td>alfa_romeo</td>\n",
       "      <td>0</td>\n",
       "      <td>petrol</td>\n",
       "    </tr>\n",
       "    <tr>\n",
       "      <td>1</td>\n",
       "      <td>alfa_romeo</td>\n",
       "      <td>50</td>\n",
       "      <td>petrol</td>\n",
       "    </tr>\n",
       "    <tr>\n",
       "      <td>2</td>\n",
       "      <td>alfa_romeo</td>\n",
       "      <td>63</td>\n",
       "      <td>petrol</td>\n",
       "    </tr>\n",
       "    <tr>\n",
       "      <td>3</td>\n",
       "      <td>alfa_romeo</td>\n",
       "      <td>65</td>\n",
       "      <td>petrol</td>\n",
       "    </tr>\n",
       "    <tr>\n",
       "      <td>4</td>\n",
       "      <td>alfa_romeo</td>\n",
       "      <td>66</td>\n",
       "      <td>petrol</td>\n",
       "    </tr>\n",
       "  </tbody>\n",
       "</table>\n",
       "</div>"
      ],
      "text/plain": [
       "        Brand  Power FuelType\n",
       "0  alfa_romeo      0   petrol\n",
       "1  alfa_romeo     50   petrol\n",
       "2  alfa_romeo     63   petrol\n",
       "3  alfa_romeo     65   petrol\n",
       "4  alfa_romeo     66   petrol"
      ]
     },
     "execution_count": 24,
     "metadata": {},
     "output_type": "execute_result"
    }
   ],
   "source": [
    "fuel_modes = df.groupby(['Brand','Power'])['FuelType'].apply(\n",
    "    lambda x: x.mode()[0] if not x.mode().empty else 'unknown').reset_index()\n",
    "fuel_modes.head()"
   ]
  },
  {
   "cell_type": "markdown",
   "metadata": {},
   "source": [
    "Использую merge для заполнения пропущенных значений. Возможно, не все NaN заполнятся, т.к. не хватит данных в \"справочнике\" fuel_modes:"
   ]
  },
  {
   "cell_type": "code",
   "execution_count": 25,
   "metadata": {},
   "outputs": [],
   "source": [
    "df_mode = df.merge(fuel_modes, how='left', on=['Brand','Power'], suffixes=('','_mode'))\n",
    "x = df['FuelType'].isna()\n",
    "df.loc[x, 'FuelType'] = df_mode.loc[x, 'FuelType_mode']"
   ]
  },
  {
   "cell_type": "code",
   "execution_count": 26,
   "metadata": {
    "scrolled": true
   },
   "outputs": [
    {
     "name": "stdout",
     "output_type": "stream",
     "text": [
      "Пропущено 0 значений.  Их доля: 0.0%.\n"
     ]
    }
   ],
   "source": [
    "print('Пропущено {:.0f} значений. '.format(df['FuelType'].isna().sum()), \n",
    "      'Их доля: {:.1%}.'.format(df['FuelType'].isna().sum() / df.shape[0]))"
   ]
  },
  {
   "cell_type": "markdown",
   "metadata": {},
   "source": [
    "Пропусков не осталось."
   ]
  },
  {
   "cell_type": "markdown",
   "metadata": {},
   "source": [
    "#### Обработаю пропущенные значения в 'NotRapaired':"
   ]
  },
  {
   "cell_type": "code",
   "execution_count": 27,
   "metadata": {},
   "outputs": [
    {
     "name": "stdout",
     "output_type": "stream",
     "text": [
      "Пропущено 62100 значений.  Их доля: 18.6%.\n"
     ]
    }
   ],
   "source": [
    "print('Пропущено {:.0f} значений. '.format(df['NotRepaired'].isna().sum()), \n",
    "      'Их доля: {:.1%}.'.format(df['NotRepaired'].isna().sum() / df.shape[0]))"
   ]
  },
  {
   "cell_type": "code",
   "execution_count": 28,
   "metadata": {},
   "outputs": [
    {
     "data": {
      "text/plain": [
       "no     238852\n",
       "yes     33708\n",
       "Name: NotRepaired, dtype: int64"
      ]
     },
     "execution_count": 28,
     "metadata": {},
     "output_type": "execute_result"
    }
   ],
   "source": [
    "df['NotRepaired'].value_counts()"
   ]
  },
  {
   "cell_type": "markdown",
   "metadata": {},
   "source": [
    "Предположу, что если нет информации о ремонте, значит ТС не ремонтировалось. Следовательно, могу заполнить отсутствующие значения на \"yes\":"
   ]
  },
  {
   "cell_type": "code",
   "execution_count": 29,
   "metadata": {},
   "outputs": [],
   "source": [
    "df['NotRepaired'].fillna('yes', inplace=True)"
   ]
  },
  {
   "cell_type": "markdown",
   "metadata": {},
   "source": [
    "### Разбиение на выборки"
   ]
  },
  {
   "cell_type": "code",
   "execution_count": 30,
   "metadata": {},
   "outputs": [
    {
     "data": {
      "text/plain": [
       "Index(['level_0', 'index', 'DateCrawled', 'Price', 'VehicleType',\n",
       "       'RegistrationYear', 'Gearbox', 'Power', 'Model', 'Kilometer',\n",
       "       'RegistrationMonth', 'FuelType', 'Brand', 'NotRepaired', 'DateCreated',\n",
       "       'NumberOfPictures', 'PostalCode', 'LastSeen'],\n",
       "      dtype='object')"
      ]
     },
     "execution_count": 30,
     "metadata": {},
     "output_type": "execute_result"
    }
   ],
   "source": [
    "df.columns"
   ]
  },
  {
   "cell_type": "markdown",
   "metadata": {},
   "source": [
    "Выделю признаки и целевые значения:"
   ]
  },
  {
   "cell_type": "code",
   "execution_count": 31,
   "metadata": {},
   "outputs": [],
   "source": [
    "features = df.drop(labels=['DateCrawled', 'DateCreated', 'Price', 'VehicleType', 'LastSeen'], axis=1)\n",
    "target = df['Price']"
   ]
  },
  {
   "cell_type": "markdown",
   "metadata": {},
   "source": [
    "Разобью на обучающую и валидацинную выборки:"
   ]
  },
  {
   "cell_type": "code",
   "execution_count": 32,
   "metadata": {},
   "outputs": [],
   "source": [
    "features_train, features_test, target_train, target_test = train_test_split(\n",
    "    features, target, test_size=0.25, random_state=12345)"
   ]
  },
  {
   "cell_type": "markdown",
   "metadata": {},
   "source": [
    "## Обучение моделей"
   ]
  },
  {
   "cell_type": "markdown",
   "metadata": {},
   "source": [
    "Попробую разные модели, в том числе простые.  \n",
    "Определю общие для всех гиперпараметры, поэкспериментирую с ними:"
   ]
  },
  {
   "cell_type": "code",
   "execution_count": 33,
   "metadata": {},
   "outputs": [],
   "source": [
    "depth = 10\n",
    "n_estimators = 20"
   ]
  },
  {
   "cell_type": "markdown",
   "metadata": {},
   "source": [
    "### CatBoost"
   ]
  },
  {
   "cell_type": "markdown",
   "metadata": {},
   "source": [
    "Импортирую из библиотеки CatBoostRegressor, т.к. задача классификации, использую функцию MSE. "
   ]
  },
  {
   "cell_type": "code",
   "execution_count": 34,
   "metadata": {},
   "outputs": [],
   "source": [
    "model = CatBoostRegressor(iterations=10, \n",
    "                          depth=depth, \n",
    "                          learning_rate=1, \n",
    "                          loss_function='RMSE',\n",
    "                          random_seed=12345)"
   ]
  },
  {
   "cell_type": "code",
   "execution_count": 35,
   "metadata": {},
   "outputs": [
    {
     "data": {
      "text/plain": [
       "Index(['level_0', 'index', 'RegistrationYear', 'Gearbox', 'Power', 'Model',\n",
       "       'Kilometer', 'RegistrationMonth', 'FuelType', 'Brand', 'NotRepaired',\n",
       "       'NumberOfPictures', 'PostalCode'],\n",
       "      dtype='object')"
      ]
     },
     "execution_count": 35,
     "metadata": {},
     "output_type": "execute_result"
    }
   ],
   "source": [
    "features.columns"
   ]
  },
  {
   "cell_type": "code",
   "execution_count": 36,
   "metadata": {},
   "outputs": [
    {
     "name": "stdout",
     "output_type": "stream",
     "text": [
      "0:\tlearn: 2483.9369157\ttotal: 636ms\tremaining: 5.72s\n",
      "9:\tlearn: 1921.0976164\ttotal: 5.13s\tremaining: 0us\n",
      "CPU times: user 5.82 s, sys: 684 ms, total: 6.5 s\n",
      "Wall time: 7.69 s\n"
     ]
    }
   ],
   "source": [
    "%%time\n",
    "start_time = time.time() # время начала обучения\n",
    "\n",
    "cat_features = ['Gearbox', 'Model','FuelType', 'Brand', 'NotRepaired']\n",
    "model.fit(features_train, target_train, cat_features=cat_features, verbose=10)\n",
    "\n",
    "time_fit_catboost = time.time() - start_time # длительность обучения"
   ]
  },
  {
   "cell_type": "code",
   "execution_count": 37,
   "metadata": {},
   "outputs": [],
   "source": [
    "start_time = time.time() # время начала предсказания\n",
    "predicted_catboost = model.predict(features_test)\n",
    "time_predict_catboost = time.time() - start_time # длительность предсказания"
   ]
  },
  {
   "cell_type": "markdown",
   "metadata": {},
   "source": [
    "### XGBoost"
   ]
  },
  {
   "cell_type": "code",
   "execution_count": 38,
   "metadata": {},
   "outputs": [],
   "source": [
    "# перевод в категориальные переменные для ускорения работы кода\n",
    "cat_features_list = ['VehicleType', 'Gearbox', 'Model', 'FuelType', 'Brand', 'NotRepaired']\n",
    "for feature in cat_features_list:\n",
    "    df[feature] = df[feature].astype(\"category\")"
   ]
  },
  {
   "cell_type": "markdown",
   "metadata": {},
   "source": [
    "#### OHE\n",
    "Закодирую категориальные признаки:"
   ]
  },
  {
   "cell_type": "code",
   "execution_count": 39,
   "metadata": {},
   "outputs": [],
   "source": [
    "df_encoded = pd.get_dummies(data=df, columns=['Gearbox', 'Model', 'FuelType', 'Brand', 'NotRepaired'])"
   ]
  },
  {
   "cell_type": "code",
   "execution_count": 40,
   "metadata": {},
   "outputs": [
    {
     "data": {
      "text/html": [
       "<div>\n",
       "<style scoped>\n",
       "    .dataframe tbody tr th:only-of-type {\n",
       "        vertical-align: middle;\n",
       "    }\n",
       "\n",
       "    .dataframe tbody tr th {\n",
       "        vertical-align: top;\n",
       "    }\n",
       "\n",
       "    .dataframe thead th {\n",
       "        text-align: right;\n",
       "    }\n",
       "</style>\n",
       "<table border=\"1\" class=\"dataframe\">\n",
       "  <thead>\n",
       "    <tr style=\"text-align: right;\">\n",
       "      <th></th>\n",
       "      <th>level_0</th>\n",
       "      <th>index</th>\n",
       "      <th>DateCrawled</th>\n",
       "      <th>Price</th>\n",
       "      <th>VehicleType</th>\n",
       "      <th>RegistrationYear</th>\n",
       "      <th>Power</th>\n",
       "      <th>Kilometer</th>\n",
       "      <th>RegistrationMonth</th>\n",
       "      <th>DateCreated</th>\n",
       "      <th>...</th>\n",
       "      <th>Brand_skoda</th>\n",
       "      <th>Brand_smart</th>\n",
       "      <th>Brand_subaru</th>\n",
       "      <th>Brand_suzuki</th>\n",
       "      <th>Brand_toyota</th>\n",
       "      <th>Brand_trabant</th>\n",
       "      <th>Brand_volkswagen</th>\n",
       "      <th>Brand_volvo</th>\n",
       "      <th>NotRepaired_no</th>\n",
       "      <th>NotRepaired_yes</th>\n",
       "    </tr>\n",
       "  </thead>\n",
       "  <tbody>\n",
       "    <tr>\n",
       "      <td>0</td>\n",
       "      <td>0</td>\n",
       "      <td>0</td>\n",
       "      <td>2016-03-24 11:52:17</td>\n",
       "      <td>480</td>\n",
       "      <td>NaN</td>\n",
       "      <td>1993</td>\n",
       "      <td>0</td>\n",
       "      <td>150000</td>\n",
       "      <td>0</td>\n",
       "      <td>2016-03-24</td>\n",
       "      <td>...</td>\n",
       "      <td>0</td>\n",
       "      <td>0</td>\n",
       "      <td>0</td>\n",
       "      <td>0</td>\n",
       "      <td>0</td>\n",
       "      <td>0</td>\n",
       "      <td>1</td>\n",
       "      <td>0</td>\n",
       "      <td>0</td>\n",
       "      <td>1</td>\n",
       "    </tr>\n",
       "    <tr>\n",
       "      <td>1</td>\n",
       "      <td>2</td>\n",
       "      <td>2</td>\n",
       "      <td>2016-03-14 12:52:21</td>\n",
       "      <td>9800</td>\n",
       "      <td>suv</td>\n",
       "      <td>2004</td>\n",
       "      <td>163</td>\n",
       "      <td>125000</td>\n",
       "      <td>8</td>\n",
       "      <td>2016-03-14</td>\n",
       "      <td>...</td>\n",
       "      <td>0</td>\n",
       "      <td>0</td>\n",
       "      <td>0</td>\n",
       "      <td>0</td>\n",
       "      <td>0</td>\n",
       "      <td>0</td>\n",
       "      <td>0</td>\n",
       "      <td>0</td>\n",
       "      <td>0</td>\n",
       "      <td>1</td>\n",
       "    </tr>\n",
       "    <tr>\n",
       "      <td>2</td>\n",
       "      <td>3</td>\n",
       "      <td>3</td>\n",
       "      <td>2016-03-17 16:54:04</td>\n",
       "      <td>1500</td>\n",
       "      <td>small</td>\n",
       "      <td>2001</td>\n",
       "      <td>75</td>\n",
       "      <td>150000</td>\n",
       "      <td>6</td>\n",
       "      <td>2016-03-17</td>\n",
       "      <td>...</td>\n",
       "      <td>0</td>\n",
       "      <td>0</td>\n",
       "      <td>0</td>\n",
       "      <td>0</td>\n",
       "      <td>0</td>\n",
       "      <td>0</td>\n",
       "      <td>1</td>\n",
       "      <td>0</td>\n",
       "      <td>1</td>\n",
       "      <td>0</td>\n",
       "    </tr>\n",
       "  </tbody>\n",
       "</table>\n",
       "<p>3 rows × 314 columns</p>\n",
       "</div>"
      ],
      "text/plain": [
       "   level_0  index         DateCrawled  Price VehicleType  RegistrationYear  \\\n",
       "0        0      0 2016-03-24 11:52:17    480         NaN              1993   \n",
       "1        2      2 2016-03-14 12:52:21   9800         suv              2004   \n",
       "2        3      3 2016-03-17 16:54:04   1500       small              2001   \n",
       "\n",
       "   Power  Kilometer  RegistrationMonth DateCreated  ...  Brand_skoda  \\\n",
       "0      0     150000                  0  2016-03-24  ...            0   \n",
       "1    163     125000                  8  2016-03-14  ...            0   \n",
       "2     75     150000                  6  2016-03-17  ...            0   \n",
       "\n",
       "   Brand_smart Brand_subaru  Brand_suzuki  Brand_toyota  Brand_trabant  \\\n",
       "0            0            0             0             0              0   \n",
       "1            0            0             0             0              0   \n",
       "2            0            0             0             0              0   \n",
       "\n",
       "   Brand_volkswagen  Brand_volvo  NotRepaired_no  NotRepaired_yes  \n",
       "0                 1            0               0                1  \n",
       "1                 0            0               0                1  \n",
       "2                 1            0               1                0  \n",
       "\n",
       "[3 rows x 314 columns]"
      ]
     },
     "execution_count": 40,
     "metadata": {},
     "output_type": "execute_result"
    }
   ],
   "source": [
    "df_encoded.head(3)"
   ]
  },
  {
   "cell_type": "markdown",
   "metadata": {},
   "source": [
    "#### Подготовка признаков и таргетов для XGBoost"
   ]
  },
  {
   "cell_type": "code",
   "execution_count": 41,
   "metadata": {},
   "outputs": [],
   "source": [
    "features = df_encoded.drop(labels=['DateCrawled', 'DateCreated', 'Price', 'VehicleType', 'LastSeen'], axis=1)\n",
    "target = df_encoded['Price']"
   ]
  },
  {
   "cell_type": "code",
   "execution_count": 42,
   "metadata": {},
   "outputs": [],
   "source": [
    "features_train, features_test, target_train, target_test = train_test_split(\n",
    "    features, target, test_size=0.25, random_state=12345)"
   ]
  },
  {
   "cell_type": "code",
   "execution_count": 43,
   "metadata": {},
   "outputs": [
    {
     "name": "stderr",
     "output_type": "stream",
     "text": [
      "/opt/conda/lib/python3.7/site-packages/xgboost/core.py:587: FutureWarning: Series.base is deprecated and will be removed in a future version\n",
      "  if getattr(data, 'base', None) is not None and \\\n"
     ]
    }
   ],
   "source": [
    "dtrain = xgb.DMatrix(features_train, target_train)\n",
    "dtest = xgb.DMatrix(features_test, target_test)"
   ]
  },
  {
   "cell_type": "markdown",
   "metadata": {},
   "source": [
    "#### Модель XGBoost"
   ]
  },
  {
   "cell_type": "code",
   "execution_count": 44,
   "metadata": {},
   "outputs": [
    {
     "name": "stdout",
     "output_type": "stream",
     "text": [
      "[13:01:28] INFO: /workspace/src/tree/updater_prune.cc:74: tree pruning end, 1 roots, 1652 extra nodes, 0 pruned nodes, max_depth=10\n",
      "[13:01:40] INFO: /workspace/src/tree/updater_prune.cc:74: tree pruning end, 1 roots, 1590 extra nodes, 0 pruned nodes, max_depth=10\n",
      "CPU times: user 35.2 s, sys: 1.11 s, total: 36.3 s\n",
      "Wall time: 36.4 s\n"
     ]
    }
   ],
   "source": [
    "%%time\n",
    "# specify parameters via map\n",
    "param = {'max_depth':depth, 'eta':1, 'objective':'reg:squarederror', 'verbosity':2} # eta == learning_rate\n",
    "num_round = 2\n",
    "\n",
    "start_time = time.time() # время начала обучения\n",
    "bst = xgb.train(param, dtrain, num_round)\n",
    "time_fit_xgb = time.time() - start_time # длительность обучения"
   ]
  },
  {
   "cell_type": "code",
   "execution_count": 45,
   "metadata": {},
   "outputs": [
    {
     "name": "stdout",
     "output_type": "stream",
     "text": [
      "CPU times: user 255 ms, sys: 2.05 ms, total: 257 ms\n",
      "Wall time: 216 ms\n"
     ]
    }
   ],
   "source": [
    "%%time\n",
    "# время начала предсказания\n",
    "start_time = time.time() # make prediction\n",
    "preds_xgb = bst.predict(dtest)\n",
    "time_predict_xgb = time.time() - start_time  # длительность предсказания"
   ]
  },
  {
   "cell_type": "markdown",
   "metadata": {},
   "source": [
    "### LinearRegression"
   ]
  },
  {
   "cell_type": "code",
   "execution_count": 46,
   "metadata": {},
   "outputs": [
    {
     "name": "stdout",
     "output_type": "stream",
     "text": [
      "CPU times: user 20.5 s, sys: 7.29 s, total: 27.8 s\n",
      "Wall time: 27.8 s\n"
     ]
    }
   ],
   "source": [
    "%%time\n",
    "model = LinearRegression()\n",
    "start_time = time.time() # время начала обучения\n",
    "model.fit(features_train, target_train)\n",
    "time_fit_LinReg = time.time() - start_time # длительность обучения\n",
    "start_time = time.time() # время начала предсказания\n",
    "predicted_LinReg = model.predict(features_test)\n",
    "time_predict_LinReg = time.time() - start_time  # длительность предсказания"
   ]
  },
  {
   "cell_type": "markdown",
   "metadata": {},
   "source": [
    "### DecisionTreeRegressor"
   ]
  },
  {
   "cell_type": "code",
   "execution_count": 47,
   "metadata": {
    "scrolled": true
   },
   "outputs": [
    {
     "name": "stdout",
     "output_type": "stream",
     "text": [
      "CPU times: user 7.48 s, sys: 297 ms, total: 7.78 s\n",
      "Wall time: 7.89 s\n"
     ]
    }
   ],
   "source": [
    "%%time\n",
    "model = DecisionTreeRegressor(random_state=12345, max_depth=depth, criterion='mse')\n",
    "start_time = time.time() # время начала обучения\n",
    "model.fit(features_train, target_train)\n",
    "time_fit_tree = time.time() - start_time # длительность обучения\n",
    "start_time = time.time()\n",
    "predicted_tree = model.predict(features_test) # время начала предсказания\n",
    "time_predict_tree = time.time() - start_time # длительность предсказания"
   ]
  },
  {
   "cell_type": "code",
   "execution_count": 48,
   "metadata": {
    "scrolled": true
   },
   "outputs": [
    {
     "name": "stdout",
     "output_type": "stream",
     "text": [
      "Fitting 3 folds for each of 4 candidates, totalling 12 fits\n",
      "[CV] max_depth=1 .....................................................\n"
     ]
    },
    {
     "name": "stderr",
     "output_type": "stream",
     "text": [
      "[Parallel(n_jobs=1)]: Using backend SequentialBackend with 1 concurrent workers.\n"
     ]
    },
    {
     "name": "stdout",
     "output_type": "stream",
     "text": [
      "[CV] ...................................... max_depth=1, total=   1.4s\n",
      "[CV] max_depth=1 .....................................................\n"
     ]
    },
    {
     "name": "stderr",
     "output_type": "stream",
     "text": [
      "[Parallel(n_jobs=1)]: Done   1 out of   1 | elapsed:    1.4s remaining:    0.0s\n"
     ]
    },
    {
     "name": "stdout",
     "output_type": "stream",
     "text": [
      "[CV] ...................................... max_depth=1, total=   1.4s\n",
      "[CV] max_depth=1 .....................................................\n",
      "[CV] ...................................... max_depth=1, total=   1.4s\n",
      "[CV] max_depth=6 .....................................................\n",
      "[CV] ...................................... max_depth=6, total=   3.8s\n",
      "[CV] max_depth=6 .....................................................\n",
      "[CV] ...................................... max_depth=6, total=   3.8s\n",
      "[CV] max_depth=6 .....................................................\n",
      "[CV] ...................................... max_depth=6, total=   3.9s\n",
      "[CV] max_depth=11 ....................................................\n",
      "[CV] ..................................... max_depth=11, total=   6.0s\n",
      "[CV] max_depth=11 ....................................................\n",
      "[CV] ..................................... max_depth=11, total=   5.8s\n",
      "[CV] max_depth=11 ....................................................\n",
      "[CV] ..................................... max_depth=11, total=   5.8s\n",
      "[CV] max_depth=16 ....................................................\n",
      "[CV] ..................................... max_depth=16, total=   7.2s\n",
      "[CV] max_depth=16 ....................................................\n",
      "[CV] ..................................... max_depth=16, total=   7.2s\n",
      "[CV] max_depth=16 ....................................................\n",
      "[CV] ..................................... max_depth=16, total=   7.2s\n"
     ]
    },
    {
     "name": "stderr",
     "output_type": "stream",
     "text": [
      "[Parallel(n_jobs=1)]: Done  12 out of  12 | elapsed:   54.9s finished\n"
     ]
    },
    {
     "name": "stdout",
     "output_type": "stream",
     "text": [
      "{'max_depth': 11}\n",
      "\n",
      "DecisionTreeRegressor(criterion='mse', max_depth=11, max_features=None,\n",
      "                      max_leaf_nodes=None, min_impurity_decrease=0.0,\n",
      "                      min_impurity_split=None, min_samples_leaf=1,\n",
      "                      min_samples_split=2, min_weight_fraction_leaf=0.0,\n",
      "                      presort=False, random_state=12345, splitter='best')\n",
      "CPU times: user 59.7 s, sys: 3.29 s, total: 1min 2s\n",
      "Wall time: 1min 3s\n"
     ]
    }
   ],
   "source": [
    "%%time\n",
    "model_tree = DecisionTreeRegressor(random_state=12345)\n",
    "tree_parameters = {\n",
    "    'max_depth': range(1, 21, 5)\n",
    "}\n",
    "grid_tree = GridSearchCV(estimator=model_tree, param_grid=tree_parameters, cv=3, scoring='neg_mean_squared_error', verbose=2)\n",
    "grid_tree.fit(features_train, target_train)\n",
    "print(grid_tree.best_params_)\n",
    "print()\n",
    "print(grid_tree.best_estimator_)\n",
    "predicted_tree_cross = grid_tree.predict(features_test)"
   ]
  },
  {
   "cell_type": "markdown",
   "metadata": {},
   "source": [
    "### RandomForestRegressor"
   ]
  },
  {
   "cell_type": "code",
   "execution_count": 49,
   "metadata": {},
   "outputs": [
    {
     "name": "stdout",
     "output_type": "stream",
     "text": [
      "CPU times: user 1min 44s, sys: 208 ms, total: 1min 44s\n",
      "Wall time: 1min 45s\n"
     ]
    }
   ],
   "source": [
    "%%time\n",
    "model = RandomForestRegressor(random_state=12345, n_estimators=n_estimators, max_depth=depth, criterion='mse')\n",
    "start_time = time.time() # время начала обучения\n",
    "model.fit(features_train, target_train)\n",
    "time_fit_forest = time.time() - start_time # длительность обучения\n",
    "start_time = time.time()\n",
    "predicted_forest = model.predict(features_test) # время начала предсказания\n",
    "time_predict_forest = time.time() - start_time # длительность предсказания"
   ]
  },
  {
   "cell_type": "markdown",
   "metadata": {},
   "source": [
    "## Анализ моделей"
   ]
  },
  {
   "cell_type": "markdown",
   "metadata": {},
   "source": [
    "### Анализ CatBoost metrics"
   ]
  },
  {
   "cell_type": "code",
   "execution_count": 50,
   "metadata": {
    "scrolled": true
   },
   "outputs": [
    {
     "name": "stdout",
     "output_type": "stream",
     "text": [
      "MAE CatBoost: 1231.607053344471\n",
      "Среднее: 4523.9814976393955\n",
      "RMSE CatBoost: 1946.9467783502553\n",
      "R2 CatBoost: 0.8160671868279145\n",
      "Время обучения: 7.6864142417907715\n",
      "Время предсказания: 0.17240190505981445\n"
     ]
    }
   ],
   "source": [
    "print('MAE CatBoost:', mean_absolute_error(target_test, predicted_catboost))\n",
    "print('Среднее:', target_test.mean())\n",
    "print('RMSE CatBoost:', mean_squared_error(target_test, predicted_catboost) ** 0.5)\n",
    "print('R2 CatBoost:', r2_score(target_test, predicted_catboost))\n",
    "print('Время обучения:', time_fit_catboost)\n",
    "print('Время предсказания:', time_predict_catboost)"
   ]
  },
  {
   "cell_type": "markdown",
   "metadata": {},
   "source": [
    "### Анализ XGBoost metrics"
   ]
  },
  {
   "cell_type": "code",
   "execution_count": 51,
   "metadata": {
    "scrolled": true
   },
   "outputs": [
    {
     "name": "stdout",
     "output_type": "stream",
     "text": [
      "MAE XGBoost: 1268.8523642411685\n",
      "Среднее: 4523.9814976393955\n",
      "RMSE XGBoost: 2018.055522304786\n",
      "R2 XGBoost: 0.8023861974821611\n",
      "Время обучения: 36.373167276382446\n",
      "Время предсказания: 0.2155754566192627\n"
     ]
    }
   ],
   "source": [
    "print('MAE XGBoost:', mean_absolute_error(target_test, preds_xgb))\n",
    "print('Среднее:', target_test.mean())\n",
    "print('RMSE XGBoost:', mean_squared_error(target_test, preds_xgb) ** 0.5)\n",
    "print('R2 XGBoost:', r2_score(target_test, preds_xgb))\n",
    "print('Время обучения:', time_fit_xgb)\n",
    "print('Время предсказания:', time_predict_xgb)"
   ]
  },
  {
   "cell_type": "markdown",
   "metadata": {},
   "source": [
    "### Анализ LinearRegression"
   ]
  },
  {
   "cell_type": "code",
   "execution_count": 52,
   "metadata": {},
   "outputs": [
    {
     "name": "stdout",
     "output_type": "stream",
     "text": [
      "MAE LinearRegression: 2279.4807919406826\n",
      "RMSE LinearRegression: 3202.662325535199\n",
      "R2 LinearRegression: 0.5022934507670243\n",
      "Время обучения: 27.497691869735718\n",
      "Время предсказания: 0.30023956298828125\n"
     ]
    }
   ],
   "source": [
    "print('MAE LinearRegression:', mean_absolute_error(target_test, predicted_LinReg))\n",
    "print('RMSE LinearRegression:', mean_squared_error(target_test, predicted_LinReg) ** 0.5)\n",
    "print('R2 LinearRegression:', r2_score(target_test, predicted_LinReg))\n",
    "print('Время обучения:', time_fit_LinReg)\n",
    "print('Время предсказания:', time_predict_LinReg)"
   ]
  },
  {
   "cell_type": "markdown",
   "metadata": {},
   "source": [
    "### Анализ DecisionTreeRegressor"
   ]
  },
  {
   "cell_type": "code",
   "execution_count": 53,
   "metadata": {
    "scrolled": true
   },
   "outputs": [
    {
     "name": "stdout",
     "output_type": "stream",
     "text": [
      "MAE DecisionTreeRegressor: 1373.834809793626\n",
      "RMSE DecisionTreeRegressor: 2130.502934209007\n",
      "R2 DecisionTreeRegressor: 0.7797502993013286\n",
      "Время обучения: 7.714337348937988\n",
      "Время предсказания: 0.1731421947479248\n"
     ]
    }
   ],
   "source": [
    "print('MAE DecisionTreeRegressor:', mean_absolute_error(target_test, predicted_tree))\n",
    "print('RMSE DecisionTreeRegressor:', mean_squared_error(target_test, predicted_tree) ** 0.5)\n",
    "print('R2 DecisionTreeRegressor:', r2_score(target_test, predicted_tree))\n",
    "print('Время обучения:', time_fit_tree)\n",
    "print('Время предсказания:', time_predict_tree)"
   ]
  },
  {
   "cell_type": "code",
   "execution_count": 54,
   "metadata": {
    "scrolled": true
   },
   "outputs": [
    {
     "name": "stdout",
     "output_type": "stream",
     "text": [
      "Tree Cross-validation:\n",
      "MAE DecisionTreeRegressor: 1341.4817784480144\n",
      "RMSE DecisionTreeRegressor: 2102.4312513860455\n",
      "R2 DecisionTreeRegressor: 0.7855161184726653\n"
     ]
    }
   ],
   "source": [
    "print('Tree Cross-validation:')\n",
    "print('MAE DecisionTreeRegressor:', mean_absolute_error(target_test, predicted_tree_cross))\n",
    "print('RMSE DecisionTreeRegressor:', mean_squared_error(target_test, predicted_tree_cross) ** 0.5)\n",
    "print('R2 DecisionTreeRegressor:', r2_score(target_test, predicted_tree_cross))\n",
    "#print('Время обучения:', time_fit_tree)\n",
    "#print('Время предсказания:', time_predict_tree)"
   ]
  },
  {
   "cell_type": "markdown",
   "metadata": {},
   "source": [
    "### Анализ RandomForestRegressor"
   ]
  },
  {
   "cell_type": "code",
   "execution_count": 55,
   "metadata": {},
   "outputs": [
    {
     "name": "stdout",
     "output_type": "stream",
     "text": [
      "MAE RandomForestRegressor: 1327.471742164331\n",
      "RMSE RandomForestRegressor: 2042.2740640721208\n",
      "R2 RandomForestRegressor: 0.7976146381176479\n",
      "Время обучения: 104.83694052696228\n",
      "Время предсказания: 0.3903639316558838\n"
     ]
    }
   ],
   "source": [
    "print('MAE RandomForestRegressor:', mean_absolute_error(target_test, predicted_forest))\n",
    "print('RMSE RandomForestRegressor:', mean_squared_error(target_test, predicted_forest) ** 0.5)\n",
    "print('R2 RandomForestRegressor:', r2_score(target_test, predicted_forest))\n",
    "print('Время обучения:', time_fit_forest)\n",
    "print('Время предсказания:', time_predict_forest)"
   ]
  },
  {
   "cell_type": "markdown",
   "metadata": {},
   "source": [
    "### Вывод"
   ]
  },
  {
   "cell_type": "raw",
   "metadata": {},
   "source": [
    "models = {\n",
    "    'CatBoost': [predicted_catboost, time_fit_catboost, time_predict_catboost],\n",
    "    'XGBoost': [preds_xgb, time_fit_catboost, time_predict_xgb]\n",
    "         }\n",
    "models"
   ]
  },
  {
   "cell_type": "raw",
   "metadata": {},
   "source": [
    "for key in models:\n",
    "    print(key, '\\n')\n",
    "    print()\n",
    "    for item in models[key]:\n",
    "        print(item)"
   ]
  },
  {
   "cell_type": "markdown",
   "metadata": {},
   "source": [
    "Сравню значения метрик для разных моделей:"
   ]
  },
  {
   "cell_type": "code",
   "execution_count": 56,
   "metadata": {},
   "outputs": [
    {
     "data": {
      "image/png": "[encoded data removed]",
      "text/plain": [
       "<Figure size 360x216 with 1 Axes>"
      ]
     },
     "metadata": {
      "needs_background": "light"
     },
     "output_type": "display_data"
    },
    {
     "name": "stdout",
     "output_type": "stream",
     "text": [
      "Наилучшее значение у модели CatBoost : 1231.607053344471\n",
      "\n"
     ]
    },
    {
     "data": {
      "image/png": "[encoded data removed]",
      "text/plain": [
       "<Figure size 360x216 with 1 Axes>"
      ]
     },
     "metadata": {
      "needs_background": "light"
     },
     "output_type": "display_data"
    },
    {
     "name": "stdout",
     "output_type": "stream",
     "text": [
      "Наилучшее значение у модели CatBoost : 7.6864142417907715\n",
      "\n"
     ]
    },
    {
     "data": {
      "image/png": "[encoded data removed]",
      "text/plain": [
       "<Figure size 360x216 with 1 Axes>"
      ]
     },
     "metadata": {
      "needs_background": "light"
     },
     "output_type": "display_data"
    },
    {
     "name": "stdout",
     "output_type": "stream",
     "text": [
      "Наилучшее значение у модели CatBoost : 0.17240190505981445\n",
      "\n"
     ]
    }
   ],
   "source": [
    "rmse = (\n",
    "    {'CatBoost': mean_absolute_error(target_test, predicted_catboost),\n",
    "     'XGBoost': mean_absolute_error(target_test, preds_xgb),\n",
    "     'LinearRegr': mean_absolute_error(target_test, predicted_LinReg),\n",
    "     'Tree': mean_absolute_error(target_test, predicted_tree),\n",
    "     'Tree-cross': mean_absolute_error(target_test, predicted_tree_cross),\n",
    "     'Forest': mean_absolute_error(target_test, predicted_forest)}\n",
    ")\n",
    "time_fit = (\n",
    "    {'CatBoost': time_fit_catboost,\n",
    "     'XGBoost': time_fit_xgb,\n",
    "     'LinearRegr': time_fit_LinReg,\n",
    "     'Tree': time_fit_tree,\n",
    "     'Forest': time_fit_forest}\n",
    ")\n",
    "time_predict = (\n",
    "    {'CatBoost': time_predict_catboost,\n",
    "     'XGBoost': time_predict_xgb,\n",
    "     'LinearRegr': time_predict_LinReg,\n",
    "     'Tree': time_predict_tree,\n",
    "     'Forest': time_predict_forest}\n",
    ")\n",
    "\n",
    "metrics = {'RMSE': rmse, 'Время обучения': time_fit, 'Время предсказания': time_predict}\n",
    "\n",
    "for metric in metrics:\n",
    "    models = list(metrics[metric].keys())\n",
    "    values = list(metrics[metric].values())\n",
    "    fig = plt.figure(figsize = (5, 3))\n",
    "    plt.bar(models, values, color ='darkblue', width = 0.4)\n",
    "    plt.xlabel(\"Модели\")\n",
    "    plt.ylabel(\"Значение метрики\")\n",
    "    plt.title('Сравнение метрики \"' + metric + '\" моделей')\n",
    "    plt.show()\n",
    "    print('Наилучшее значение у модели', min(metrics[metric], key=metrics[metric].get), ':', min(metrics[metric].values()))\n",
    "    print()"
   ]
  },
  {
   "cell_type": "markdown",
   "metadata": {},
   "source": [
    "Модель библиотеки CatBoost на метрике показала себя наилучшим образом, при этом Решающее дерево не сильно отстало (особенно с GridSearch), а по времени отработало значительно быстрее.  \n",
    "Наименьшее значение метрики RMSE у модели CatBoost, по времени обучения и предсказания на втором месте. Самая быстрая — модель Решающего дерева.\n",
    "А вот случаный лес оказался очень \"медленной\" моделью при неплохой метрике RMSE."
   ]
  }
 ],
 "metadata": {
  "ExecuteTimeLog": [
   {
    "duration": 3394,
    "start_time": "2021-08-21T15:05:18.857Z"
   },
   {
    "duration": 2095,
    "start_time": "2021-08-21T15:05:43.792Z"
   },
   {
    "duration": 2285,
    "start_time": "2021-08-21T15:10:18.086Z"
   },
   {
    "duration": 1471,
    "start_time": "2021-08-21T15:10:20.374Z"
   },
   {
    "duration": 1361,
    "start_time": "2021-08-21T15:10:20.489Z"
   },
   {
    "duration": 1359,
    "start_time": "2021-08-21T15:10:20.492Z"
   },
   {
    "duration": 1355,
    "start_time": "2021-08-21T15:10:20.497Z"
   },
   {
    "duration": 1352,
    "start_time": "2021-08-21T15:10:20.502Z"
   },
   {
    "duration": 1349,
    "start_time": "2021-08-21T15:10:20.506Z"
   },
   {
    "duration": 1348,
    "start_time": "2021-08-21T15:10:20.509Z"
   },
   {
    "duration": 1346,
    "start_time": "2021-08-21T15:10:20.512Z"
   },
   {
    "duration": 1344,
    "start_time": "2021-08-21T15:10:20.516Z"
   },
   {
    "duration": 1339,
    "start_time": "2021-08-21T15:10:20.522Z"
   },
   {
    "duration": 1337,
    "start_time": "2021-08-21T15:10:20.526Z"
   },
   {
    "duration": 1331,
    "start_time": "2021-08-21T15:10:20.533Z"
   },
   {
    "duration": 1330,
    "start_time": "2021-08-21T15:10:20.536Z"
   },
   {
    "duration": 1328,
    "start_time": "2021-08-21T15:10:20.539Z"
   },
   {
    "duration": 1326,
    "start_time": "2021-08-21T15:10:20.543Z"
   },
   {
    "duration": 1324,
    "start_time": "2021-08-21T15:10:20.546Z"
   },
   {
    "duration": 1323,
    "start_time": "2021-08-21T15:10:20.549Z"
   },
   {
    "duration": 1320,
    "start_time": "2021-08-21T15:10:20.553Z"
   },
   {
    "duration": 1319,
    "start_time": "2021-08-21T15:10:20.556Z"
   },
   {
    "duration": 1317,
    "start_time": "2021-08-21T15:10:20.559Z"
   },
   {
    "duration": 1315,
    "start_time": "2021-08-21T15:10:20.563Z"
   },
   {
    "duration": 1313,
    "start_time": "2021-08-21T15:10:20.566Z"
   },
   {
    "duration": 1311,
    "start_time": "2021-08-21T15:10:20.570Z"
   },
   {
    "duration": 1309,
    "start_time": "2021-08-21T15:10:20.573Z"
   },
   {
    "duration": 1308,
    "start_time": "2021-08-21T15:10:20.576Z"
   },
   {
    "duration": 1307,
    "start_time": "2021-08-21T15:10:20.578Z"
   },
   {
    "duration": 1296,
    "start_time": "2021-08-21T15:10:20.590Z"
   },
   {
    "duration": 1294,
    "start_time": "2021-08-21T15:10:20.594Z"
   },
   {
    "duration": 916,
    "start_time": "2021-08-21T15:10:39.430Z"
   },
   {
    "duration": 2043,
    "start_time": "2021-08-21T15:10:42.870Z"
   },
   {
    "duration": 911,
    "start_time": "2021-08-21T15:10:44.915Z"
   },
   {
    "duration": 9,
    "start_time": "2021-08-21T15:10:45.828Z"
   },
   {
    "duration": 136,
    "start_time": "2021-08-21T15:10:45.839Z"
   },
   {
    "duration": 133,
    "start_time": "2021-08-21T15:10:45.976Z"
   },
   {
    "duration": 442,
    "start_time": "2021-08-21T15:10:46.111Z"
   },
   {
    "duration": 14,
    "start_time": "2021-08-21T15:10:46.554Z"
   },
   {
    "duration": 562,
    "start_time": "2021-08-21T15:10:46.571Z"
   },
   {
    "duration": 35,
    "start_time": "2021-08-21T15:10:47.135Z"
   },
   {
    "duration": 64,
    "start_time": "2021-08-21T15:10:47.171Z"
   },
   {
    "duration": 71,
    "start_time": "2021-08-21T15:10:47.236Z"
   },
   {
    "duration": 35,
    "start_time": "2021-08-21T15:10:47.309Z"
   },
   {
    "duration": 287,
    "start_time": "2021-08-21T15:10:47.346Z"
   },
   {
    "duration": 9,
    "start_time": "2021-08-21T15:10:47.635Z"
   },
   {
    "duration": 22,
    "start_time": "2021-08-21T15:10:47.646Z"
   },
   {
    "duration": 36,
    "start_time": "2021-08-21T15:10:47.670Z"
   },
   {
    "duration": 38,
    "start_time": "2021-08-21T15:10:47.708Z"
   },
   {
    "duration": 22,
    "start_time": "2021-08-21T15:10:47.747Z"
   },
   {
    "duration": 11,
    "start_time": "2021-08-21T15:10:47.771Z"
   },
   {
    "duration": 19,
    "start_time": "2021-08-21T15:10:47.784Z"
   },
   {
    "duration": 37,
    "start_time": "2021-08-21T15:10:47.805Z"
   },
   {
    "duration": 15,
    "start_time": "2021-08-21T15:10:47.844Z"
   },
   {
    "duration": 75,
    "start_time": "2021-08-21T15:10:47.862Z"
   },
   {
    "duration": 27,
    "start_time": "2021-08-21T15:10:47.939Z"
   },
   {
    "duration": 48,
    "start_time": "2021-08-21T15:10:47.967Z"
   },
   {
    "duration": 913,
    "start_time": "2021-08-21T15:10:48.016Z"
   },
   {
    "duration": 16,
    "start_time": "2021-08-21T15:10:48.931Z"
   },
   {
    "duration": 279,
    "start_time": "2021-08-21T15:10:48.949Z"
   },
   {
    "duration": 809,
    "start_time": "2021-08-21T15:10:49.229Z"
   },
   {
    "duration": 183,
    "start_time": "2021-08-21T15:20:30.833Z"
   },
   {
    "duration": 81,
    "start_time": "2021-08-21T15:20:34.398Z"
   },
   {
    "duration": 39,
    "start_time": "2021-08-21T15:21:45.944Z"
   },
   {
    "duration": 103,
    "start_time": "2021-08-21T15:21:55.652Z"
   },
   {
    "duration": 126,
    "start_time": "2021-08-21T15:24:21.022Z"
   },
   {
    "duration": 108,
    "start_time": "2021-08-21T15:25:24.820Z"
   },
   {
    "duration": 20,
    "start_time": "2021-08-21T15:25:28.762Z"
   },
   {
    "duration": 8,
    "start_time": "2021-08-21T15:28:26.764Z"
   },
   {
    "duration": 4,
    "start_time": "2021-08-21T15:28:48.695Z"
   },
   {
    "duration": 121,
    "start_time": "2021-08-21T15:30:27.203Z"
   },
   {
    "duration": 184,
    "start_time": "2021-08-21T15:40:39.790Z"
   },
   {
    "duration": 1950,
    "start_time": "2021-08-21T15:41:07.454Z"
   },
   {
    "duration": 3,
    "start_time": "2021-08-21T15:46:13.758Z"
   },
   {
    "duration": 3,
    "start_time": "2021-08-21T15:52:54.081Z"
   },
   {
    "duration": 8,
    "start_time": "2021-08-21T15:55:10.086Z"
   },
   {
    "duration": 2178,
    "start_time": "2021-08-21T15:55:44.592Z"
   },
   {
    "duration": 903,
    "start_time": "2021-08-21T15:55:46.773Z"
   },
   {
    "duration": 9,
    "start_time": "2021-08-21T15:55:47.678Z"
   },
   {
    "duration": 173,
    "start_time": "2021-08-21T15:55:47.690Z"
   },
   {
    "duration": 148,
    "start_time": "2021-08-21T15:55:47.865Z"
   },
   {
    "duration": 460,
    "start_time": "2021-08-21T15:55:48.015Z"
   },
   {
    "duration": 25,
    "start_time": "2021-08-21T15:55:48.477Z"
   },
   {
    "duration": 240,
    "start_time": "2021-08-21T15:55:48.505Z"
   },
   {
    "duration": 196,
    "start_time": "2021-08-21T15:55:48.747Z"
   },
   {
    "duration": 212,
    "start_time": "2021-08-21T15:55:48.945Z"
   },
   {
    "duration": 43,
    "start_time": "2021-08-21T15:55:49.159Z"
   },
   {
    "duration": 20,
    "start_time": "2021-08-21T15:55:49.205Z"
   },
   {
    "duration": 17,
    "start_time": "2021-08-21T15:55:49.227Z"
   },
   {
    "duration": 8,
    "start_time": "2021-08-21T15:55:49.245Z"
   },
   {
    "duration": 185,
    "start_time": "2021-08-21T15:55:49.254Z"
   },
   {
    "duration": 10,
    "start_time": "2021-08-21T15:55:49.441Z"
   },
   {
    "duration": 4,
    "start_time": "2021-08-21T15:55:49.452Z"
   },
   {
    "duration": 32,
    "start_time": "2021-08-21T15:55:49.458Z"
   },
   {
    "duration": 16,
    "start_time": "2021-08-21T15:55:49.500Z"
   },
   {
    "duration": 5,
    "start_time": "2021-08-21T15:55:49.519Z"
   },
   {
    "duration": 6,
    "start_time": "2021-08-21T15:55:49.526Z"
   },
   {
    "duration": 11,
    "start_time": "2021-08-21T15:55:49.534Z"
   },
   {
    "duration": 22,
    "start_time": "2021-08-21T15:55:49.547Z"
   },
   {
    "duration": 3,
    "start_time": "2021-08-21T15:55:49.571Z"
   },
   {
    "duration": 54,
    "start_time": "2021-08-21T15:55:49.576Z"
   },
   {
    "duration": 6,
    "start_time": "2021-08-21T15:55:49.632Z"
   },
   {
    "duration": 21,
    "start_time": "2021-08-21T15:55:49.640Z"
   },
   {
    "duration": 3,
    "start_time": "2021-08-21T15:55:49.663Z"
   },
   {
    "duration": 24,
    "start_time": "2021-08-21T15:55:49.668Z"
   },
   {
    "duration": 17,
    "start_time": "2021-08-21T15:55:49.695Z"
   },
   {
    "duration": 139,
    "start_time": "2021-08-21T15:55:49.714Z"
   },
   {
    "duration": 809,
    "start_time": "2021-08-21T15:55:49.854Z"
   },
   {
    "duration": 3,
    "start_time": "2021-08-21T15:55:50.665Z"
   },
   {
    "duration": 31,
    "start_time": "2021-08-21T15:55:50.669Z"
   },
   {
    "duration": 63,
    "start_time": "2021-08-21T15:58:04.135Z"
   },
   {
    "duration": 6,
    "start_time": "2021-08-21T15:58:10.863Z"
   },
   {
    "duration": 5,
    "start_time": "2021-08-21T15:58:32.777Z"
   },
   {
    "duration": 5,
    "start_time": "2021-08-21T15:58:35.575Z"
   },
   {
    "duration": 6,
    "start_time": "2021-08-21T15:58:50.135Z"
   },
   {
    "duration": 4,
    "start_time": "2021-08-21T15:59:25.242Z"
   },
   {
    "duration": 132,
    "start_time": "2021-08-21T15:59:29.692Z"
   },
   {
    "duration": 797,
    "start_time": "2021-08-21T15:59:33.244Z"
   },
   {
    "duration": 5,
    "start_time": "2021-08-21T15:59:38.100Z"
   },
   {
    "duration": 9,
    "start_time": "2021-08-21T15:59:51.330Z"
   },
   {
    "duration": 64,
    "start_time": "2021-08-21T15:59:52.190Z"
   },
   {
    "duration": 2,
    "start_time": "2021-08-21T15:59:53.449Z"
   },
   {
    "duration": 4,
    "start_time": "2021-08-21T15:59:53.729Z"
   },
   {
    "duration": 2893,
    "start_time": "2021-08-21T16:00:58.569Z"
   },
   {
    "duration": 2,
    "start_time": "2021-08-21T16:02:15.805Z"
   },
   {
    "duration": 2208,
    "start_time": "2021-08-21T16:02:25.700Z"
   },
   {
    "duration": 900,
    "start_time": "2021-08-21T16:02:27.911Z"
   },
   {
    "duration": 5,
    "start_time": "2021-08-21T16:02:28.813Z"
   },
   {
    "duration": 143,
    "start_time": "2021-08-21T16:02:28.820Z"
   },
   {
    "duration": 145,
    "start_time": "2021-08-21T16:02:28.964Z"
   },
   {
    "duration": 440,
    "start_time": "2021-08-21T16:02:29.112Z"
   },
   {
    "duration": 15,
    "start_time": "2021-08-21T16:02:29.554Z"
   },
   {
    "duration": 241,
    "start_time": "2021-08-21T16:02:29.571Z"
   },
   {
    "duration": 2,
    "start_time": "2021-08-21T16:02:29.816Z"
   },
   {
    "duration": 355,
    "start_time": "2021-08-21T16:02:29.820Z"
   },
   {
    "duration": 43,
    "start_time": "2021-08-21T16:02:30.177Z"
   },
   {
    "duration": 54,
    "start_time": "2021-08-21T16:02:30.222Z"
   },
   {
    "duration": 68,
    "start_time": "2021-08-21T16:02:30.278Z"
   },
   {
    "duration": 46,
    "start_time": "2021-08-21T16:02:30.348Z"
   },
   {
    "duration": 278,
    "start_time": "2021-08-21T16:02:30.398Z"
   },
   {
    "duration": 15,
    "start_time": "2021-08-21T16:02:30.678Z"
   },
   {
    "duration": 48,
    "start_time": "2021-08-21T16:02:30.695Z"
   },
   {
    "duration": 34,
    "start_time": "2021-08-21T16:02:30.746Z"
   },
   {
    "duration": 57,
    "start_time": "2021-08-21T16:02:30.782Z"
   },
   {
    "duration": 46,
    "start_time": "2021-08-21T16:02:30.841Z"
   },
   {
    "duration": 18,
    "start_time": "2021-08-21T16:02:30.890Z"
   },
   {
    "duration": 22,
    "start_time": "2021-08-21T16:02:30.910Z"
   },
   {
    "duration": 70,
    "start_time": "2021-08-21T16:02:30.934Z"
   },
   {
    "duration": 16,
    "start_time": "2021-08-21T16:02:31.005Z"
   },
   {
    "duration": 65,
    "start_time": "2021-08-21T16:02:31.023Z"
   },
   {
    "duration": 29,
    "start_time": "2021-08-21T16:02:31.091Z"
   },
   {
    "duration": 53,
    "start_time": "2021-08-21T16:02:31.124Z"
   },
   {
    "duration": 14,
    "start_time": "2021-08-21T16:02:31.180Z"
   },
   {
    "duration": 43,
    "start_time": "2021-08-21T16:02:31.196Z"
   },
   {
    "duration": 12,
    "start_time": "2021-08-21T16:02:31.241Z"
   },
   {
    "duration": 38,
    "start_time": "2021-08-21T16:02:31.256Z"
   },
   {
    "duration": 92,
    "start_time": "2021-08-21T16:02:31.296Z"
   },
   {
    "duration": 4275,
    "start_time": "2021-08-21T16:05:30.972Z"
   },
   {
    "duration": 79,
    "start_time": "2021-08-21T16:06:26.931Z"
   },
   {
    "duration": 31,
    "start_time": "2021-08-21T16:07:27.134Z"
   },
   {
    "duration": 33,
    "start_time": "2021-08-21T16:07:43.572Z"
   },
   {
    "duration": 81,
    "start_time": "2021-08-21T16:07:50.387Z"
   },
   {
    "duration": 42,
    "start_time": "2021-08-21T16:08:24.770Z"
   },
   {
    "duration": 82,
    "start_time": "2021-08-21T16:08:30.419Z"
   },
   {
    "duration": 2024,
    "start_time": "2021-08-21T16:08:39.435Z"
   },
   {
    "duration": 853,
    "start_time": "2021-08-21T16:08:41.461Z"
   },
   {
    "duration": 3,
    "start_time": "2021-08-21T16:08:42.316Z"
   },
   {
    "duration": 134,
    "start_time": "2021-08-21T16:08:42.321Z"
   },
   {
    "duration": 129,
    "start_time": "2021-08-21T16:08:42.457Z"
   },
   {
    "duration": 384,
    "start_time": "2021-08-21T16:08:42.588Z"
   },
   {
    "duration": 22,
    "start_time": "2021-08-21T16:08:42.974Z"
   },
   {
    "duration": 213,
    "start_time": "2021-08-21T16:08:43.000Z"
   },
   {
    "duration": 3,
    "start_time": "2021-08-21T16:08:43.215Z"
   },
   {
    "duration": 310,
    "start_time": "2021-08-21T16:08:43.220Z"
   },
   {
    "duration": 31,
    "start_time": "2021-08-21T16:08:43.531Z"
   },
   {
    "duration": 57,
    "start_time": "2021-08-21T16:08:43.563Z"
   },
   {
    "duration": 52,
    "start_time": "2021-08-21T16:08:43.621Z"
   },
   {
    "duration": 36,
    "start_time": "2021-08-21T16:08:43.685Z"
   },
   {
    "duration": 261,
    "start_time": "2021-08-21T16:08:43.724Z"
   },
   {
    "duration": 11,
    "start_time": "2021-08-21T16:08:43.988Z"
   },
   {
    "duration": 17,
    "start_time": "2021-08-21T16:08:44.001Z"
   },
   {
    "duration": 24,
    "start_time": "2021-08-21T16:08:44.020Z"
   },
   {
    "duration": 70,
    "start_time": "2021-08-21T16:08:44.046Z"
   },
   {
    "duration": 6,
    "start_time": "2021-08-21T16:08:44.118Z"
   },
   {
    "duration": 5,
    "start_time": "2021-08-21T16:08:44.125Z"
   },
   {
    "duration": 5,
    "start_time": "2021-08-21T16:08:44.131Z"
   },
   {
    "duration": 30,
    "start_time": "2021-08-21T16:08:44.139Z"
   },
   {
    "duration": 25,
    "start_time": "2021-08-21T16:08:44.186Z"
   },
   {
    "duration": 46,
    "start_time": "2021-08-21T16:08:44.212Z"
   },
   {
    "duration": 53,
    "start_time": "2021-08-21T16:08:44.259Z"
   },
   {
    "duration": 30,
    "start_time": "2021-08-21T16:08:44.314Z"
   },
   {
    "duration": 55,
    "start_time": "2021-08-21T16:08:44.346Z"
   },
   {
    "duration": 32,
    "start_time": "2021-08-21T16:08:44.403Z"
   },
   {
    "duration": 7,
    "start_time": "2021-08-21T16:08:44.437Z"
   },
   {
    "duration": 4,
    "start_time": "2021-08-21T16:08:44.446Z"
   },
   {
    "duration": 6,
    "start_time": "2021-08-21T16:08:44.452Z"
   },
   {
    "duration": 40,
    "start_time": "2021-08-21T16:08:44.459Z"
   },
   {
    "duration": 84,
    "start_time": "2021-08-21T16:08:44.501Z"
   },
   {
    "duration": 6,
    "start_time": "2021-08-21T16:08:44.589Z"
   },
   {
    "duration": 5,
    "start_time": "2021-08-21T16:08:44.607Z"
   },
   {
    "duration": 2841,
    "start_time": "2021-08-21T16:08:44.613Z"
   },
   {
    "duration": 1609,
    "start_time": "2021-08-21T16:08:51.518Z"
   },
   {
    "duration": 1546,
    "start_time": "2021-08-21T16:09:08.913Z"
   },
   {
    "duration": 1667,
    "start_time": "2021-08-21T16:09:15.985Z"
   },
   {
    "duration": 111,
    "start_time": "2021-08-21T16:09:58.321Z"
   },
   {
    "duration": 2010,
    "start_time": "2021-08-21T16:13:50.654Z"
   },
   {
    "duration": 7,
    "start_time": "2021-08-21T16:14:14.513Z"
   },
   {
    "duration": 5,
    "start_time": "2021-08-21T16:15:00.859Z"
   },
   {
    "duration": 4,
    "start_time": "2021-08-21T16:15:01.977Z"
   },
   {
    "duration": 3,
    "start_time": "2021-08-21T16:15:39.081Z"
   },
   {
    "duration": 5,
    "start_time": "2021-08-21T16:15:39.480Z"
   },
   {
    "duration": 2625,
    "start_time": "2021-08-21T16:15:40.011Z"
   },
   {
    "duration": 109,
    "start_time": "2021-08-21T16:15:47.495Z"
   },
   {
    "duration": 5,
    "start_time": "2021-08-21T16:15:49.616Z"
   },
   {
    "duration": 5,
    "start_time": "2021-08-21T16:16:46.215Z"
   },
   {
    "duration": 3,
    "start_time": "2021-08-21T16:17:00.259Z"
   },
   {
    "duration": 5,
    "start_time": "2021-08-21T16:17:00.798Z"
   },
   {
    "duration": 3266,
    "start_time": "2021-08-21T16:17:01.487Z"
   },
   {
    "duration": 137,
    "start_time": "2021-08-21T16:17:04.755Z"
   },
   {
    "duration": 5,
    "start_time": "2021-08-21T16:17:04.894Z"
   },
   {
    "duration": 5,
    "start_time": "2021-08-21T16:17:37.798Z"
   },
   {
    "duration": 3,
    "start_time": "2021-08-21T16:18:09.796Z"
   },
   {
    "duration": 3,
    "start_time": "2021-08-21T16:18:09.991Z"
   },
   {
    "duration": 32974,
    "start_time": "2021-08-21T16:18:10.209Z"
   },
   {
    "duration": 206,
    "start_time": "2021-08-21T16:18:43.185Z"
   },
   {
    "duration": 4,
    "start_time": "2021-08-21T16:18:43.393Z"
   },
   {
    "duration": 3,
    "start_time": "2021-08-21T16:18:54.505Z"
   },
   {
    "duration": 4,
    "start_time": "2021-08-21T16:18:54.665Z"
   },
   {
    "duration": 4614,
    "start_time": "2021-08-21T16:18:54.889Z"
   },
   {
    "duration": 114,
    "start_time": "2021-08-21T16:18:59.505Z"
   },
   {
    "duration": 4,
    "start_time": "2021-08-21T16:18:59.621Z"
   },
   {
    "duration": 3,
    "start_time": "2021-08-21T16:19:17.528Z"
   },
   {
    "duration": 4,
    "start_time": "2021-08-21T16:19:17.726Z"
   },
   {
    "duration": 4532,
    "start_time": "2021-08-21T16:19:17.899Z"
   },
   {
    "duration": 155,
    "start_time": "2021-08-21T16:19:22.433Z"
   },
   {
    "duration": 3,
    "start_time": "2021-08-21T16:19:25.658Z"
   },
   {
    "duration": 5,
    "start_time": "2021-08-21T16:19:26.324Z"
   },
   {
    "duration": 4576,
    "start_time": "2021-08-21T16:19:26.512Z"
   },
   {
    "duration": 131,
    "start_time": "2021-08-21T16:19:31.090Z"
   },
   {
    "duration": 25,
    "start_time": "2021-08-21T16:19:31.223Z"
   },
   {
    "duration": 3,
    "start_time": "2021-08-21T16:19:37.000Z"
   },
   {
    "duration": 3,
    "start_time": "2021-08-21T16:19:38.683Z"
   },
   {
    "duration": 4,
    "start_time": "2021-08-21T16:19:38.832Z"
   },
   {
    "duration": 4488,
    "start_time": "2021-08-21T16:19:38.978Z"
   },
   {
    "duration": 131,
    "start_time": "2021-08-21T16:19:43.468Z"
   },
   {
    "duration": 14,
    "start_time": "2021-08-21T16:19:43.600Z"
   },
   {
    "duration": 61,
    "start_time": "2021-08-21T16:32:34.078Z"
   },
   {
    "duration": 65,
    "start_time": "2021-08-21T16:32:44.428Z"
   },
   {
    "duration": 71,
    "start_time": "2021-08-21T16:34:30.729Z"
   },
   {
    "duration": 5,
    "start_time": "2021-08-21T16:34:44.492Z"
   },
   {
    "duration": 4,
    "start_time": "2021-08-21T16:34:55.003Z"
   },
   {
    "duration": 65,
    "start_time": "2021-08-21T16:35:07.851Z"
   },
   {
    "duration": 61,
    "start_time": "2021-08-21T16:35:18.804Z"
   },
   {
    "duration": 6,
    "start_time": "2021-08-21T16:35:26.848Z"
   },
   {
    "duration": 182,
    "start_time": "2021-08-21T16:36:05.682Z"
   },
   {
    "duration": 1961,
    "start_time": "2021-08-21T16:36:09.926Z"
   },
   {
    "duration": 7,
    "start_time": "2021-08-21T16:36:16.277Z"
   },
   {
    "duration": 2040,
    "start_time": "2021-08-21T16:39:59.361Z"
   },
   {
    "duration": 7,
    "start_time": "2021-08-21T16:40:27.350Z"
   },
   {
    "duration": 5,
    "start_time": "2021-08-21T16:40:28.418Z"
   },
   {
    "duration": 5,
    "start_time": "2021-08-21T16:40:31.850Z"
   },
   {
    "duration": 2,
    "start_time": "2021-08-21T16:47:54.771Z"
   },
   {
    "duration": 186,
    "start_time": "2021-08-21T16:50:05.440Z"
   },
   {
    "duration": 800,
    "start_time": "2021-08-21T16:51:31.601Z"
   },
   {
    "duration": 17,
    "start_time": "2021-08-21T16:51:32.403Z"
   },
   {
    "duration": 225,
    "start_time": "2021-08-21T16:52:48.475Z"
   },
   {
    "duration": 177,
    "start_time": "2021-08-21T16:52:49.994Z"
   },
   {
    "duration": 119,
    "start_time": "2021-08-21T16:53:26.430Z"
   },
   {
    "duration": 683,
    "start_time": "2021-08-21T16:53:26.584Z"
   },
   {
    "duration": 1626,
    "start_time": "2021-08-21T16:53:27.269Z"
   },
   {
    "duration": 430,
    "start_time": "2021-08-21T16:56:04.435Z"
   },
   {
    "duration": 61,
    "start_time": "2021-08-21T17:01:11.626Z"
   },
   {
    "duration": 173,
    "start_time": "2021-08-21T17:01:16.895Z"
   },
   {
    "duration": 2240,
    "start_time": "2021-08-21T17:01:53.379Z"
   },
   {
    "duration": 2078,
    "start_time": "2021-08-21T17:02:01.266Z"
   },
   {
    "duration": 3,
    "start_time": "2021-08-21T17:02:12.153Z"
   },
   {
    "duration": 203,
    "start_time": "2021-08-21T17:02:15.313Z"
   },
   {
    "duration": 402,
    "start_time": "2021-08-21T17:04:19.762Z"
   },
   {
    "duration": 2976,
    "start_time": "2021-08-21T17:26:09.400Z"
   },
   {
    "duration": 847,
    "start_time": "2021-08-21T17:26:12.378Z"
   },
   {
    "duration": 9,
    "start_time": "2021-08-21T17:26:13.227Z"
   },
   {
    "duration": 125,
    "start_time": "2021-08-21T17:26:13.238Z"
   },
   {
    "duration": 120,
    "start_time": "2021-08-21T17:26:13.365Z"
   },
   {
    "duration": 439,
    "start_time": "2021-08-21T17:26:13.487Z"
   },
   {
    "duration": 15,
    "start_time": "2021-08-21T17:26:13.928Z"
   },
   {
    "duration": 279,
    "start_time": "2021-08-21T17:26:13.945Z"
   },
   {
    "duration": 2,
    "start_time": "2021-08-21T17:26:14.226Z"
   },
   {
    "duration": 358,
    "start_time": "2021-08-21T17:26:14.229Z"
   },
   {
    "duration": 32,
    "start_time": "2021-08-21T17:26:14.589Z"
   },
   {
    "duration": 43,
    "start_time": "2021-08-21T17:26:14.622Z"
   },
   {
    "duration": 62,
    "start_time": "2021-08-21T17:26:14.667Z"
   },
   {
    "duration": 32,
    "start_time": "2021-08-21T17:26:14.731Z"
   },
   {
    "duration": 243,
    "start_time": "2021-08-21T17:26:14.765Z"
   },
   {
    "duration": 10,
    "start_time": "2021-08-21T17:26:15.010Z"
   },
   {
    "duration": 21,
    "start_time": "2021-08-21T17:26:15.021Z"
   },
   {
    "duration": 22,
    "start_time": "2021-08-21T17:26:15.044Z"
   },
   {
    "duration": 35,
    "start_time": "2021-08-21T17:26:15.085Z"
   },
   {
    "duration": 5,
    "start_time": "2021-08-21T17:26:15.121Z"
   },
   {
    "duration": 5,
    "start_time": "2021-08-21T17:26:15.127Z"
   },
   {
    "duration": 14,
    "start_time": "2021-08-21T17:26:15.133Z"
   },
   {
    "duration": 40,
    "start_time": "2021-08-21T17:26:15.150Z"
   },
   {
    "duration": 14,
    "start_time": "2021-08-21T17:26:15.192Z"
   },
   {
    "duration": 48,
    "start_time": "2021-08-21T17:26:15.208Z"
   },
   {
    "duration": 48,
    "start_time": "2021-08-21T17:26:15.258Z"
   },
   {
    "duration": 27,
    "start_time": "2021-08-21T17:26:15.307Z"
   },
   {
    "duration": 32,
    "start_time": "2021-08-21T17:26:15.336Z"
   },
   {
    "duration": 43,
    "start_time": "2021-08-21T17:26:15.370Z"
   },
   {
    "duration": 5,
    "start_time": "2021-08-21T17:26:15.414Z"
   },
   {
    "duration": 26,
    "start_time": "2021-08-21T17:26:15.421Z"
   },
   {
    "duration": 99,
    "start_time": "2021-08-21T17:26:15.449Z"
   },
   {
    "duration": 3,
    "start_time": "2021-08-21T17:26:15.549Z"
   },
   {
    "duration": 6,
    "start_time": "2021-08-21T17:26:15.553Z"
   },
   {
    "duration": 4804,
    "start_time": "2021-08-21T17:26:15.561Z"
   },
   {
    "duration": 128,
    "start_time": "2021-08-21T17:26:20.366Z"
   },
   {
    "duration": 11,
    "start_time": "2021-08-21T17:26:20.496Z"
   },
   {
    "duration": 5,
    "start_time": "2021-08-21T17:26:20.509Z"
   },
   {
    "duration": 7,
    "start_time": "2021-08-21T17:26:20.516Z"
   },
   {
    "duration": 6,
    "start_time": "2021-08-21T17:26:20.524Z"
   },
   {
    "duration": 812,
    "start_time": "2021-08-21T17:26:20.531Z"
   },
   {
    "duration": 17,
    "start_time": "2021-08-21T17:26:21.344Z"
   },
   {
    "duration": 238,
    "start_time": "2021-08-21T17:26:21.363Z"
   },
   {
    "duration": 692,
    "start_time": "2021-08-21T17:26:21.603Z"
   },
   {
    "duration": 1624,
    "start_time": "2021-08-21T17:26:22.297Z"
   },
   {
    "duration": 259,
    "start_time": "2021-08-21T17:26:24.000Z"
   },
   {
    "duration": 310,
    "start_time": "2021-08-21T17:26:33.102Z"
   },
   {
    "duration": 188,
    "start_time": "2021-08-21T17:26:45.686Z"
   },
   {
    "duration": 1993,
    "start_time": "2021-08-21T17:26:50.584Z"
   },
   {
    "duration": 44,
    "start_time": "2021-08-21T17:27:06.969Z"
   },
   {
    "duration": 1684,
    "start_time": "2021-08-21T17:29:34.019Z"
   },
   {
    "duration": 3,
    "start_time": "2021-08-21T17:29:44.670Z"
   },
   {
    "duration": 10427,
    "start_time": "2021-08-21T17:29:45.473Z"
   },
   {
    "duration": 2137,
    "start_time": "2021-08-21T17:30:21.167Z"
   },
   {
    "duration": 102,
    "start_time": "2021-08-21T17:30:25.287Z"
   },
   {
    "duration": 5,
    "start_time": "2021-08-21T17:30:34.917Z"
   },
   {
    "duration": 23,
    "start_time": "2021-08-21T17:31:43.475Z"
   },
   {
    "duration": 5,
    "start_time": "2021-08-21T17:31:43.740Z"
   },
   {
    "duration": 4,
    "start_time": "2021-08-21T17:31:49.911Z"
   },
   {
    "duration": 6,
    "start_time": "2021-08-21T17:31:58.899Z"
   },
   {
    "duration": 4,
    "start_time": "2021-08-21T17:32:05.428Z"
   },
   {
    "duration": 5,
    "start_time": "2021-08-21T17:32:06.592Z"
   },
   {
    "duration": 3,
    "start_time": "2021-08-21T17:33:46.447Z"
   },
   {
    "duration": 2910,
    "start_time": "2021-08-21T17:34:05.940Z"
   },
   {
    "duration": 859,
    "start_time": "2021-08-21T17:34:08.853Z"
   },
   {
    "duration": 10,
    "start_time": "2021-08-21T17:34:09.714Z"
   },
   {
    "duration": 139,
    "start_time": "2021-08-21T17:34:09.726Z"
   },
   {
    "duration": 121,
    "start_time": "2021-08-21T17:34:09.866Z"
   },
   {
    "duration": 463,
    "start_time": "2021-08-21T17:34:09.989Z"
   },
   {
    "duration": 15,
    "start_time": "2021-08-21T17:34:10.453Z"
   },
   {
    "duration": 280,
    "start_time": "2021-08-21T17:34:10.470Z"
   },
   {
    "duration": 3,
    "start_time": "2021-08-21T17:34:10.752Z"
   },
   {
    "duration": 378,
    "start_time": "2021-08-21T17:34:10.756Z"
   },
   {
    "duration": 34,
    "start_time": "2021-08-21T17:34:11.136Z"
   },
   {
    "duration": 58,
    "start_time": "2021-08-21T17:34:11.172Z"
   },
   {
    "duration": 60,
    "start_time": "2021-08-21T17:34:11.231Z"
   },
   {
    "duration": 34,
    "start_time": "2021-08-21T17:34:11.293Z"
   },
   {
    "duration": 248,
    "start_time": "2021-08-21T17:34:11.329Z"
   },
   {
    "duration": 13,
    "start_time": "2021-08-21T17:34:11.578Z"
   },
   {
    "duration": 19,
    "start_time": "2021-08-21T17:34:11.592Z"
   },
   {
    "duration": 21,
    "start_time": "2021-08-21T17:34:11.612Z"
   },
   {
    "duration": 51,
    "start_time": "2021-08-21T17:34:11.634Z"
   },
   {
    "duration": 12,
    "start_time": "2021-08-21T17:34:11.686Z"
   },
   {
    "duration": 11,
    "start_time": "2021-08-21T17:34:11.700Z"
   },
   {
    "duration": 14,
    "start_time": "2021-08-21T17:34:11.712Z"
   },
   {
    "duration": 41,
    "start_time": "2021-08-21T17:34:11.730Z"
   },
   {
    "duration": 16,
    "start_time": "2021-08-21T17:34:11.773Z"
   },
   {
    "duration": 57,
    "start_time": "2021-08-21T17:34:11.791Z"
   },
   {
    "duration": 42,
    "start_time": "2021-08-21T17:34:11.850Z"
   },
   {
    "duration": 40,
    "start_time": "2021-08-21T17:34:11.894Z"
   },
   {
    "duration": 35,
    "start_time": "2021-08-21T17:34:11.936Z"
   },
   {
    "duration": 43,
    "start_time": "2021-08-21T17:34:11.973Z"
   },
   {
    "duration": 11,
    "start_time": "2021-08-21T17:34:12.018Z"
   },
   {
    "duration": 42,
    "start_time": "2021-08-21T17:34:12.031Z"
   },
   {
    "duration": 87,
    "start_time": "2021-08-21T17:34:12.075Z"
   },
   {
    "duration": 3,
    "start_time": "2021-08-21T17:34:12.163Z"
   },
   {
    "duration": 18,
    "start_time": "2021-08-21T17:34:12.168Z"
   },
   {
    "duration": 4925,
    "start_time": "2021-08-21T17:34:12.187Z"
   },
   {
    "duration": 101,
    "start_time": "2021-08-21T17:34:17.114Z"
   },
   {
    "duration": 18,
    "start_time": "2021-08-21T17:34:17.217Z"
   },
   {
    "duration": 22,
    "start_time": "2021-08-21T17:34:17.237Z"
   },
   {
    "duration": 6,
    "start_time": "2021-08-21T17:34:17.286Z"
   },
   {
    "duration": 21,
    "start_time": "2021-08-21T17:34:17.294Z"
   },
   {
    "duration": 819,
    "start_time": "2021-08-21T17:34:17.317Z"
   },
   {
    "duration": 16,
    "start_time": "2021-08-21T17:34:18.138Z"
   },
   {
    "duration": 241,
    "start_time": "2021-08-21T17:34:18.156Z"
   },
   {
    "duration": 685,
    "start_time": "2021-08-21T17:34:18.399Z"
   },
   {
    "duration": 2179,
    "start_time": "2021-08-21T17:34:19.086Z"
   },
   {
    "duration": 3,
    "start_time": "2021-08-21T17:34:21.266Z"
   },
   {
    "duration": 10433,
    "start_time": "2021-08-21T17:34:21.270Z"
   },
   {
    "duration": 105,
    "start_time": "2021-08-21T17:34:31.785Z"
   },
   {
    "duration": 4,
    "start_time": "2021-08-21T17:34:31.892Z"
   },
   {
    "duration": 7,
    "start_time": "2021-08-21T17:34:31.898Z"
   },
   {
    "duration": 5,
    "start_time": "2021-08-21T17:34:31.907Z"
   },
   {
    "duration": 77,
    "start_time": "2021-08-21T17:34:31.913Z"
   },
   {
    "duration": 73,
    "start_time": "2021-08-21T17:34:48.323Z"
   },
   {
    "duration": 3122,
    "start_time": "2021-08-21T17:34:56.463Z"
   },
   {
    "duration": 3065,
    "start_time": "2021-08-21T17:35:01.823Z"
   },
   {
    "duration": 104,
    "start_time": "2021-08-21T17:35:04.890Z"
   },
   {
    "duration": 9,
    "start_time": "2021-08-21T17:36:30.508Z"
   },
   {
    "duration": 8,
    "start_time": "2021-08-21T17:36:44.876Z"
   },
   {
    "duration": 71,
    "start_time": "2021-08-21T17:39:44.405Z"
   },
   {
    "duration": 3132,
    "start_time": "2021-08-21T17:39:50.568Z"
   },
   {
    "duration": 3,
    "start_time": "2021-08-21T17:40:50.881Z"
   },
   {
    "duration": 3129,
    "start_time": "2021-08-21T17:40:51.056Z"
   },
   {
    "duration": 103,
    "start_time": "2021-08-21T17:40:54.188Z"
   },
   {
    "duration": 8,
    "start_time": "2021-08-21T17:40:59.827Z"
   },
   {
    "duration": 2,
    "start_time": "2021-08-21T17:41:04.160Z"
   },
   {
    "duration": 3050,
    "start_time": "2021-08-21T17:41:04.750Z"
   },
   {
    "duration": 189,
    "start_time": "2021-08-21T17:41:07.802Z"
   },
   {
    "duration": 10,
    "start_time": "2021-08-21T17:41:07.994Z"
   },
   {
    "duration": 54,
    "start_time": "2021-08-21T17:41:16.374Z"
   },
   {
    "duration": 3206,
    "start_time": "2021-08-21T17:41:16.590Z"
   },
   {
    "duration": 193,
    "start_time": "2021-08-21T17:41:19.798Z"
   },
   {
    "duration": 3,
    "start_time": "2021-08-21T17:41:24.182Z"
   },
   {
    "duration": 3157,
    "start_time": "2021-08-21T17:41:24.737Z"
   },
   {
    "duration": 108,
    "start_time": "2021-08-21T17:41:27.896Z"
   },
   {
    "duration": 9,
    "start_time": "2021-08-21T17:41:28.608Z"
   },
   {
    "duration": 3,
    "start_time": "2021-08-21T17:41:43.180Z"
   },
   {
    "duration": 3196,
    "start_time": "2021-08-21T17:41:44.500Z"
   },
   {
    "duration": 187,
    "start_time": "2021-08-21T17:41:47.698Z"
   },
   {
    "duration": 8,
    "start_time": "2021-08-21T17:41:48.072Z"
   },
   {
    "duration": 3,
    "start_time": "2021-08-21T17:41:53.271Z"
   },
   {
    "duration": 3112,
    "start_time": "2021-08-21T17:42:18.982Z"
   },
   {
    "duration": 32,
    "start_time": "2021-08-21T17:42:24.758Z"
   },
   {
    "duration": 13653,
    "start_time": "2021-08-21T17:42:30.345Z"
   },
   {
    "duration": 191,
    "start_time": "2021-08-21T17:42:44.000Z"
   },
   {
    "duration": 9,
    "start_time": "2021-08-21T17:42:44.193Z"
   },
   {
    "duration": 13604,
    "start_time": "2021-08-21T17:43:29.201Z"
   },
   {
    "duration": 2048,
    "start_time": "2021-08-21T17:54:16.398Z"
   },
   {
    "duration": 177,
    "start_time": "2021-08-21T17:54:36.025Z"
   },
   {
    "duration": 68,
    "start_time": "2021-08-21T17:55:25.969Z"
   },
   {
    "duration": 67,
    "start_time": "2021-08-21T17:55:40.593Z"
   },
   {
    "duration": 2034,
    "start_time": "2021-08-21T17:55:51.893Z"
   },
   {
    "duration": 13567,
    "start_time": "2021-08-21T17:56:03.827Z"
   },
   {
    "duration": 14009,
    "start_time": "2021-08-21T17:56:59.992Z"
   },
   {
    "duration": 2907,
    "start_time": "2021-08-21T17:57:20.446Z"
   },
   {
    "duration": 874,
    "start_time": "2021-08-21T17:57:23.355Z"
   },
   {
    "duration": 9,
    "start_time": "2021-08-21T17:57:24.231Z"
   },
   {
    "duration": 132,
    "start_time": "2021-08-21T17:57:24.241Z"
   },
   {
    "duration": 123,
    "start_time": "2021-08-21T17:57:24.374Z"
   },
   {
    "duration": 457,
    "start_time": "2021-08-21T17:57:24.498Z"
   },
   {
    "duration": 13,
    "start_time": "2021-08-21T17:57:24.957Z"
   },
   {
    "duration": 284,
    "start_time": "2021-08-21T17:57:24.973Z"
   },
   {
    "duration": 2,
    "start_time": "2021-08-21T17:57:25.259Z"
   },
   {
    "duration": 375,
    "start_time": "2021-08-21T17:57:25.263Z"
   },
   {
    "duration": 44,
    "start_time": "2021-08-21T17:57:25.640Z"
   },
   {
    "duration": 45,
    "start_time": "2021-08-21T17:57:25.686Z"
   },
   {
    "duration": 64,
    "start_time": "2021-08-21T17:57:25.733Z"
   },
   {
    "duration": 33,
    "start_time": "2021-08-21T17:57:25.799Z"
   },
   {
    "duration": 256,
    "start_time": "2021-08-21T17:57:25.833Z"
   },
   {
    "duration": 10,
    "start_time": "2021-08-21T17:57:26.091Z"
   },
   {
    "duration": 19,
    "start_time": "2021-08-21T17:57:26.102Z"
   },
   {
    "duration": 23,
    "start_time": "2021-08-21T17:57:26.123Z"
   },
   {
    "duration": 53,
    "start_time": "2021-08-21T17:57:26.148Z"
   },
   {
    "duration": 3,
    "start_time": "2021-08-21T17:57:26.203Z"
   },
   {
    "duration": 7,
    "start_time": "2021-08-21T17:57:26.208Z"
   },
   {
    "duration": 6,
    "start_time": "2021-08-21T17:57:26.217Z"
   },
   {
    "duration": 44,
    "start_time": "2021-08-21T17:57:26.226Z"
   },
   {
    "duration": 19,
    "start_time": "2021-08-21T17:57:26.272Z"
   },
   {
    "duration": 56,
    "start_time": "2021-08-21T17:57:26.293Z"
   },
   {
    "duration": 36,
    "start_time": "2021-08-21T17:57:26.351Z"
   },
   {
    "duration": 30,
    "start_time": "2021-08-21T17:57:26.389Z"
   },
   {
    "duration": 30,
    "start_time": "2021-08-21T17:57:26.421Z"
   },
   {
    "duration": 48,
    "start_time": "2021-08-21T17:57:26.453Z"
   },
   {
    "duration": 4,
    "start_time": "2021-08-21T17:57:26.503Z"
   },
   {
    "duration": 30,
    "start_time": "2021-08-21T17:57:26.509Z"
   },
   {
    "duration": 99,
    "start_time": "2021-08-21T17:57:26.541Z"
   },
   {
    "duration": 3,
    "start_time": "2021-08-21T17:57:26.642Z"
   },
   {
    "duration": 9,
    "start_time": "2021-08-21T17:57:26.647Z"
   },
   {
    "duration": 4967,
    "start_time": "2021-08-21T17:57:26.658Z"
   },
   {
    "duration": 115,
    "start_time": "2021-08-21T17:57:31.628Z"
   },
   {
    "duration": 6,
    "start_time": "2021-08-21T17:57:31.785Z"
   },
   {
    "duration": 884,
    "start_time": "2021-08-21T17:57:31.793Z"
   },
   {
    "duration": 20,
    "start_time": "2021-08-21T17:57:32.679Z"
   },
   {
    "duration": 248,
    "start_time": "2021-08-21T17:57:32.701Z"
   },
   {
    "duration": 803,
    "start_time": "2021-08-21T17:57:32.951Z"
   },
   {
    "duration": 2221,
    "start_time": "2021-08-21T17:57:33.756Z"
   },
   {
    "duration": 21010,
    "start_time": "2021-08-21T17:57:35.979Z"
   },
   {
    "duration": 110,
    "start_time": "2021-08-21T17:57:56.991Z"
   },
   {
    "duration": 89,
    "start_time": "2021-08-21T17:57:57.103Z"
   },
   {
    "duration": 9,
    "start_time": "2021-08-21T17:57:57.194Z"
   },
   {
    "duration": 2124,
    "start_time": "2021-08-21T18:00:17.164Z"
   },
   {
    "duration": 753,
    "start_time": "2021-08-21T18:00:23.720Z"
   },
   {
    "duration": 114,
    "start_time": "2021-08-21T18:00:31.720Z"
   },
   {
    "duration": 363,
    "start_time": "2021-08-21T18:00:35.270Z"
   },
   {
    "duration": 2,
    "start_time": "2021-08-21T18:00:55.467Z"
   },
   {
    "duration": 5,
    "start_time": "2021-08-21T18:00:57.858Z"
   },
   {
    "duration": 2055,
    "start_time": "2021-08-21T18:11:05.033Z"
   },
   {
    "duration": 3,
    "start_time": "2021-08-21T18:14:42.223Z"
   },
   {
    "duration": 3,
    "start_time": "2021-08-21T18:14:46.837Z"
   },
   {
    "duration": 3085,
    "start_time": "2021-08-21T18:20:15.445Z"
   },
   {
    "duration": 822,
    "start_time": "2021-08-21T18:20:18.532Z"
   },
   {
    "duration": 9,
    "start_time": "2021-08-21T18:20:19.356Z"
   },
   {
    "duration": 136,
    "start_time": "2021-08-21T18:20:19.368Z"
   },
   {
    "duration": 144,
    "start_time": "2021-08-21T18:20:19.506Z"
   },
   {
    "duration": 440,
    "start_time": "2021-08-21T18:20:19.653Z"
   },
   {
    "duration": 16,
    "start_time": "2021-08-21T18:20:20.095Z"
   },
   {
    "duration": 282,
    "start_time": "2021-08-21T18:20:20.113Z"
   },
   {
    "duration": 2,
    "start_time": "2021-08-21T18:20:20.398Z"
   },
   {
    "duration": 378,
    "start_time": "2021-08-21T18:20:20.402Z"
   },
   {
    "duration": 33,
    "start_time": "2021-08-21T18:20:20.781Z"
   },
   {
    "duration": 46,
    "start_time": "2021-08-21T18:20:20.816Z"
   },
   {
    "duration": 69,
    "start_time": "2021-08-21T18:20:20.863Z"
   },
   {
    "duration": 52,
    "start_time": "2021-08-21T18:20:20.934Z"
   },
   {
    "duration": 250,
    "start_time": "2021-08-21T18:20:20.987Z"
   },
   {
    "duration": 11,
    "start_time": "2021-08-21T18:20:21.239Z"
   },
   {
    "duration": 34,
    "start_time": "2021-08-21T18:20:21.252Z"
   },
   {
    "duration": 22,
    "start_time": "2021-08-21T18:20:21.287Z"
   },
   {
    "duration": 35,
    "start_time": "2021-08-21T18:20:21.311Z"
   },
   {
    "duration": 13,
    "start_time": "2021-08-21T18:20:21.348Z"
   },
   {
    "duration": 23,
    "start_time": "2021-08-21T18:20:21.362Z"
   },
   {
    "duration": 5,
    "start_time": "2021-08-21T18:20:21.387Z"
   },
   {
    "duration": 36,
    "start_time": "2021-08-21T18:20:21.394Z"
   },
   {
    "duration": 16,
    "start_time": "2021-08-21T18:20:21.431Z"
   },
   {
    "duration": 80,
    "start_time": "2021-08-21T18:20:21.449Z"
   },
   {
    "duration": 35,
    "start_time": "2021-08-21T18:20:21.531Z"
   },
   {
    "duration": 35,
    "start_time": "2021-08-21T18:20:21.569Z"
   },
   {
    "duration": 30,
    "start_time": "2021-08-21T18:20:21.606Z"
   },
   {
    "duration": 57,
    "start_time": "2021-08-21T18:20:21.637Z"
   },
   {
    "duration": 3,
    "start_time": "2021-08-21T18:20:21.696Z"
   },
   {
    "duration": 32,
    "start_time": "2021-08-21T18:20:21.701Z"
   },
   {
    "duration": 102,
    "start_time": "2021-08-21T18:20:21.735Z"
   },
   {
    "duration": 797,
    "start_time": "2021-08-21T18:20:21.839Z"
   },
   {
    "duration": 19,
    "start_time": "2021-08-21T18:20:22.637Z"
   },
   {
    "duration": 226,
    "start_time": "2021-08-21T18:20:24.411Z"
   },
   {
    "duration": 718,
    "start_time": "2021-08-21T18:20:24.861Z"
   },
   {
    "duration": 11520,
    "start_time": "2021-08-21T18:20:34.632Z"
   },
   {
    "duration": 280,
    "start_time": "2021-08-21T18:22:57.222Z"
   },
   {
    "duration": 1465,
    "start_time": "2021-08-21T18:23:01.502Z"
   },
   {
    "duration": 179,
    "start_time": "2021-08-21T18:23:20.623Z"
   },
   {
    "duration": 8,
    "start_time": "2021-08-21T18:23:41.387Z"
   },
   {
    "duration": 179,
    "start_time": "2021-08-21T18:28:58.878Z"
   },
   {
    "duration": 120,
    "start_time": "2021-08-21T18:29:37.583Z"
   },
   {
    "duration": 2,
    "start_time": "2021-08-21T18:29:48.088Z"
   },
   {
    "duration": 2,
    "start_time": "2021-08-21T18:29:58.111Z"
   },
   {
    "duration": 1439,
    "start_time": "2021-08-21T18:30:05.983Z"
   },
   {
    "duration": 121,
    "start_time": "2021-08-21T18:30:08.492Z"
   },
   {
    "duration": 2,
    "start_time": "2021-08-21T18:30:20.288Z"
   },
   {
    "duration": 1845,
    "start_time": "2021-08-21T18:30:25.666Z"
   },
   {
    "duration": 161,
    "start_time": "2021-08-21T18:33:33.695Z"
   },
   {
    "duration": 3020,
    "start_time": "2021-08-21T18:33:51.658Z"
   },
   {
    "duration": 801,
    "start_time": "2021-08-21T18:33:54.680Z"
   },
   {
    "duration": 9,
    "start_time": "2021-08-21T18:33:55.485Z"
   },
   {
    "duration": 140,
    "start_time": "2021-08-21T18:33:55.496Z"
   },
   {
    "duration": 148,
    "start_time": "2021-08-21T18:33:55.639Z"
   },
   {
    "duration": 501,
    "start_time": "2021-08-21T18:33:55.789Z"
   },
   {
    "duration": 15,
    "start_time": "2021-08-21T18:33:56.292Z"
   },
   {
    "duration": 306,
    "start_time": "2021-08-21T18:33:56.311Z"
   },
   {
    "duration": 2,
    "start_time": "2021-08-21T18:33:56.620Z"
   },
   {
    "duration": 381,
    "start_time": "2021-08-21T18:33:56.624Z"
   },
   {
    "duration": 35,
    "start_time": "2021-08-21T18:33:57.007Z"
   },
   {
    "duration": 58,
    "start_time": "2021-08-21T18:33:57.043Z"
   },
   {
    "duration": 50,
    "start_time": "2021-08-21T18:33:57.103Z"
   },
   {
    "duration": 54,
    "start_time": "2021-08-21T18:33:57.155Z"
   },
   {
    "duration": 254,
    "start_time": "2021-08-21T18:33:57.211Z"
   },
   {
    "duration": 19,
    "start_time": "2021-08-21T18:33:57.467Z"
   },
   {
    "duration": 22,
    "start_time": "2021-08-21T18:33:57.488Z"
   },
   {
    "duration": 24,
    "start_time": "2021-08-21T18:33:57.512Z"
   },
   {
    "duration": 58,
    "start_time": "2021-08-21T18:33:57.538Z"
   },
   {
    "duration": 2,
    "start_time": "2021-08-21T18:33:57.598Z"
   },
   {
    "duration": 4,
    "start_time": "2021-08-21T18:33:57.603Z"
   },
   {
    "duration": 5,
    "start_time": "2021-08-21T18:33:57.609Z"
   },
   {
    "duration": 35,
    "start_time": "2021-08-21T18:33:57.618Z"
   },
   {
    "duration": 40,
    "start_time": "2021-08-21T18:33:57.655Z"
   },
   {
    "duration": 51,
    "start_time": "2021-08-21T18:33:57.697Z"
   },
   {
    "duration": 44,
    "start_time": "2021-08-21T18:33:57.750Z"
   },
   {
    "duration": 31,
    "start_time": "2021-08-21T18:33:57.796Z"
   },
   {
    "duration": 30,
    "start_time": "2021-08-21T18:33:57.829Z"
   },
   {
    "duration": 48,
    "start_time": "2021-08-21T18:33:57.861Z"
   },
   {
    "duration": 5,
    "start_time": "2021-08-21T18:33:57.911Z"
   },
   {
    "duration": 32,
    "start_time": "2021-08-21T18:33:57.918Z"
   },
   {
    "duration": 112,
    "start_time": "2021-08-21T18:33:57.951Z"
   },
   {
    "duration": 3,
    "start_time": "2021-08-21T18:33:58.064Z"
   },
   {
    "duration": 831,
    "start_time": "2021-08-21T18:34:05.207Z"
   },
   {
    "duration": 3004,
    "start_time": "2021-08-21T18:34:45.293Z"
   },
   {
    "duration": 824,
    "start_time": "2021-08-21T18:34:48.301Z"
   },
   {
    "duration": 9,
    "start_time": "2021-08-21T18:34:49.127Z"
   },
   {
    "duration": 130,
    "start_time": "2021-08-21T18:34:49.138Z"
   },
   {
    "duration": 125,
    "start_time": "2021-08-21T18:34:49.270Z"
   },
   {
    "duration": 438,
    "start_time": "2021-08-21T18:34:49.397Z"
   },
   {
    "duration": 15,
    "start_time": "2021-08-21T18:34:49.837Z"
   },
   {
    "duration": 288,
    "start_time": "2021-08-21T18:34:49.854Z"
   },
   {
    "duration": 2,
    "start_time": "2021-08-21T18:34:50.145Z"
   },
   {
    "duration": 376,
    "start_time": "2021-08-21T18:34:50.149Z"
   },
   {
    "duration": 33,
    "start_time": "2021-08-21T18:34:50.527Z"
   },
   {
    "duration": 57,
    "start_time": "2021-08-21T18:34:50.561Z"
   },
   {
    "duration": 50,
    "start_time": "2021-08-21T18:34:50.619Z"
   },
   {
    "duration": 44,
    "start_time": "2021-08-21T18:34:50.671Z"
   },
   {
    "duration": 252,
    "start_time": "2021-08-21T18:34:50.716Z"
   },
   {
    "duration": 18,
    "start_time": "2021-08-21T18:34:50.970Z"
   },
   {
    "duration": 16,
    "start_time": "2021-08-21T18:34:50.989Z"
   },
   {
    "duration": 21,
    "start_time": "2021-08-21T18:34:51.007Z"
   },
   {
    "duration": 55,
    "start_time": "2021-08-21T18:34:51.030Z"
   },
   {
    "duration": 2,
    "start_time": "2021-08-21T18:34:51.087Z"
   },
   {
    "duration": 5,
    "start_time": "2021-08-21T18:34:51.091Z"
   },
   {
    "duration": 5,
    "start_time": "2021-08-21T18:34:51.097Z"
   },
   {
    "duration": 38,
    "start_time": "2021-08-21T18:34:51.104Z"
   },
   {
    "duration": 15,
    "start_time": "2021-08-21T18:34:51.143Z"
   },
   {
    "duration": 69,
    "start_time": "2021-08-21T18:34:51.160Z"
   },
   {
    "duration": 33,
    "start_time": "2021-08-21T18:34:51.231Z"
   },
   {
    "duration": 39,
    "start_time": "2021-08-21T18:34:51.268Z"
   },
   {
    "duration": 31,
    "start_time": "2021-08-21T18:34:51.310Z"
   },
   {
    "duration": 49,
    "start_time": "2021-08-21T18:34:51.343Z"
   },
   {
    "duration": 7,
    "start_time": "2021-08-21T18:34:51.394Z"
   },
   {
    "duration": 32,
    "start_time": "2021-08-21T18:34:51.403Z"
   },
   {
    "duration": 96,
    "start_time": "2021-08-21T18:34:51.437Z"
   },
   {
    "duration": 2,
    "start_time": "2021-08-21T18:34:51.535Z"
   },
   {
    "duration": 3055,
    "start_time": "2021-08-21T18:35:27.769Z"
   },
   {
    "duration": 1903,
    "start_time": "2021-08-21T18:35:43.535Z"
   },
   {
    "duration": 812,
    "start_time": "2021-08-21T18:35:53.005Z"
   },
   {
    "duration": 9,
    "start_time": "2021-08-21T18:35:53.819Z"
   },
   {
    "duration": 132,
    "start_time": "2021-08-21T18:35:53.830Z"
   },
   {
    "duration": 125,
    "start_time": "2021-08-21T18:35:53.964Z"
   },
   {
    "duration": 445,
    "start_time": "2021-08-21T18:35:54.091Z"
   },
   {
    "duration": 16,
    "start_time": "2021-08-21T18:35:54.538Z"
   },
   {
    "duration": 250,
    "start_time": "2021-08-21T18:35:54.556Z"
   },
   {
    "duration": 3,
    "start_time": "2021-08-21T18:35:54.809Z"
   },
   {
    "duration": 378,
    "start_time": "2021-08-21T18:35:54.814Z"
   },
   {
    "duration": 36,
    "start_time": "2021-08-21T18:35:55.193Z"
   },
   {
    "duration": 64,
    "start_time": "2021-08-21T18:35:55.231Z"
   },
   {
    "duration": 49,
    "start_time": "2021-08-21T18:35:55.297Z"
   },
   {
    "duration": 53,
    "start_time": "2021-08-21T18:35:55.348Z"
   },
   {
    "duration": 240,
    "start_time": "2021-08-21T18:35:55.403Z"
   },
   {
    "duration": 10,
    "start_time": "2021-08-21T18:35:55.645Z"
   },
   {
    "duration": 29,
    "start_time": "2021-08-21T18:35:55.656Z"
   },
   {
    "duration": 20,
    "start_time": "2021-08-21T18:35:55.687Z"
   },
   {
    "duration": 33,
    "start_time": "2021-08-21T18:35:55.709Z"
   },
   {
    "duration": 5,
    "start_time": "2021-08-21T18:35:55.744Z"
   },
   {
    "duration": 6,
    "start_time": "2021-08-21T18:35:55.750Z"
   },
   {
    "duration": 5,
    "start_time": "2021-08-21T18:35:55.758Z"
   },
   {
    "duration": 33,
    "start_time": "2021-08-21T18:35:55.785Z"
   },
   {
    "duration": 15,
    "start_time": "2021-08-21T18:35:55.821Z"
   },
   {
    "duration": 70,
    "start_time": "2021-08-21T18:35:55.838Z"
   },
   {
    "duration": 32,
    "start_time": "2021-08-21T18:35:55.910Z"
   },
   {
    "duration": 45,
    "start_time": "2021-08-21T18:35:55.944Z"
   },
   {
    "duration": 31,
    "start_time": "2021-08-21T18:35:55.991Z"
   },
   {
    "duration": 50,
    "start_time": "2021-08-21T18:35:56.024Z"
   },
   {
    "duration": 20,
    "start_time": "2021-08-21T18:35:56.076Z"
   },
   {
    "duration": 40,
    "start_time": "2021-08-21T18:35:56.098Z"
   },
   {
    "duration": 99,
    "start_time": "2021-08-21T18:35:56.140Z"
   },
   {
    "duration": 3,
    "start_time": "2021-08-21T18:35:56.241Z"
   },
   {
    "duration": 271,
    "start_time": "2021-08-21T18:36:10.389Z"
   },
   {
    "duration": 1492,
    "start_time": "2021-08-21T18:36:09.170Z"
   },
   {
    "duration": 803,
    "start_time": "2021-08-21T18:36:16.371Z"
   },
   {
    "duration": 24,
    "start_time": "2021-08-21T18:36:17.176Z"
   },
   {
    "duration": 222,
    "start_time": "2021-08-21T18:36:19.229Z"
   },
   {
    "duration": 699,
    "start_time": "2021-08-21T18:36:21.681Z"
   },
   {
    "duration": 2967,
    "start_time": "2021-08-21T18:45:07.205Z"
   },
   {
    "duration": 2002,
    "start_time": "2021-08-21T18:45:23.983Z"
   },
   {
    "duration": 821,
    "start_time": "2021-08-21T18:45:25.987Z"
   },
   {
    "duration": 10,
    "start_time": "2021-08-21T18:45:26.811Z"
   },
   {
    "duration": 144,
    "start_time": "2021-08-21T18:45:26.822Z"
   },
   {
    "duration": 118,
    "start_time": "2021-08-21T18:45:26.968Z"
   },
   {
    "duration": 422,
    "start_time": "2021-08-21T18:45:27.088Z"
   },
   {
    "duration": 14,
    "start_time": "2021-08-21T18:45:27.512Z"
   },
   {
    "duration": 282,
    "start_time": "2021-08-21T18:45:27.528Z"
   },
   {
    "duration": 2,
    "start_time": "2021-08-21T18:45:27.813Z"
   },
   {
    "duration": 354,
    "start_time": "2021-08-21T18:45:27.817Z"
   },
   {
    "duration": 32,
    "start_time": "2021-08-21T18:45:28.172Z"
   },
   {
    "duration": 43,
    "start_time": "2021-08-21T18:45:28.206Z"
   },
   {
    "duration": 62,
    "start_time": "2021-08-21T18:45:28.251Z"
   },
   {
    "duration": 33,
    "start_time": "2021-08-21T18:45:28.315Z"
   },
   {
    "duration": 249,
    "start_time": "2021-08-21T18:45:28.349Z"
   },
   {
    "duration": 11,
    "start_time": "2021-08-21T18:45:28.600Z"
   },
   {
    "duration": 15,
    "start_time": "2021-08-21T18:45:28.613Z"
   },
   {
    "duration": 21,
    "start_time": "2021-08-21T18:45:28.630Z"
   },
   {
    "duration": 58,
    "start_time": "2021-08-21T18:45:28.653Z"
   },
   {
    "duration": 6,
    "start_time": "2021-08-21T18:45:28.712Z"
   },
   {
    "duration": 6,
    "start_time": "2021-08-21T18:45:28.720Z"
   },
   {
    "duration": 5,
    "start_time": "2021-08-21T18:45:28.727Z"
   },
   {
    "duration": 31,
    "start_time": "2021-08-21T18:45:28.736Z"
   },
   {
    "duration": 27,
    "start_time": "2021-08-21T18:45:28.769Z"
   },
   {
    "duration": 54,
    "start_time": "2021-08-21T18:45:28.797Z"
   },
   {
    "duration": 41,
    "start_time": "2021-08-21T18:45:28.852Z"
   },
   {
    "duration": 30,
    "start_time": "2021-08-21T18:45:28.895Z"
   },
   {
    "duration": 31,
    "start_time": "2021-08-21T18:45:28.927Z"
   },
   {
    "duration": 50,
    "start_time": "2021-08-21T18:45:28.960Z"
   },
   {
    "duration": 8,
    "start_time": "2021-08-21T18:45:29.012Z"
   },
   {
    "duration": 29,
    "start_time": "2021-08-21T18:45:29.022Z"
   },
   {
    "duration": 98,
    "start_time": "2021-08-21T18:45:29.052Z"
   },
   {
    "duration": 3,
    "start_time": "2021-08-21T18:45:29.151Z"
   },
   {
    "duration": 766,
    "start_time": "2021-08-21T18:45:34.345Z"
   },
   {
    "duration": 18,
    "start_time": "2021-08-21T18:45:35.113Z"
   },
   {
    "duration": 222,
    "start_time": "2021-08-21T18:45:37.264Z"
   },
   {
    "duration": 687,
    "start_time": "2021-08-21T18:45:37.487Z"
   },
   {
    "duration": 210,
    "start_time": "2021-08-21T18:45:59.000Z"
   },
   {
    "duration": 22101,
    "start_time": "2021-08-21T18:46:53.685Z"
   },
   {
    "duration": 7,
    "start_time": "2021-08-21T18:47:33.773Z"
   },
   {
    "duration": 2971,
    "start_time": "2021-08-21T18:47:46.312Z"
   },
   {
    "duration": 832,
    "start_time": "2021-08-21T18:47:49.286Z"
   },
   {
    "duration": 10,
    "start_time": "2021-08-21T18:47:50.121Z"
   },
   {
    "duration": 141,
    "start_time": "2021-08-21T18:47:50.133Z"
   },
   {
    "duration": 127,
    "start_time": "2021-08-21T18:47:50.276Z"
   },
   {
    "duration": 436,
    "start_time": "2021-08-21T18:47:50.405Z"
   },
   {
    "duration": 14,
    "start_time": "2021-08-21T18:47:50.843Z"
   },
   {
    "duration": 280,
    "start_time": "2021-08-21T18:47:50.859Z"
   },
   {
    "duration": 2,
    "start_time": "2021-08-21T18:47:51.142Z"
   },
   {
    "duration": 366,
    "start_time": "2021-08-21T18:47:51.146Z"
   },
   {
    "duration": 31,
    "start_time": "2021-08-21T18:47:51.514Z"
   },
   {
    "duration": 55,
    "start_time": "2021-08-21T18:47:51.547Z"
   },
   {
    "duration": 47,
    "start_time": "2021-08-21T18:47:51.604Z"
   },
   {
    "duration": 50,
    "start_time": "2021-08-21T18:47:51.653Z"
   },
   {
    "duration": 240,
    "start_time": "2021-08-21T18:47:51.704Z"
   },
   {
    "duration": 10,
    "start_time": "2021-08-21T18:47:51.945Z"
   },
   {
    "duration": 15,
    "start_time": "2021-08-21T18:47:51.957Z"
   },
   {
    "duration": 21,
    "start_time": "2021-08-21T18:47:51.985Z"
   },
   {
    "duration": 35,
    "start_time": "2021-08-21T18:47:52.008Z"
   },
   {
    "duration": 8,
    "start_time": "2021-08-21T18:47:52.045Z"
   },
   {
    "duration": 10,
    "start_time": "2021-08-21T18:47:52.054Z"
   },
   {
    "duration": 7,
    "start_time": "2021-08-21T18:47:52.066Z"
   },
   {
    "duration": 39,
    "start_time": "2021-08-21T18:47:52.074Z"
   },
   {
    "duration": 15,
    "start_time": "2021-08-21T18:47:52.115Z"
   },
   {
    "duration": 70,
    "start_time": "2021-08-21T18:47:52.132Z"
   },
   {
    "duration": 31,
    "start_time": "2021-08-21T18:47:52.204Z"
   },
   {
    "duration": 37,
    "start_time": "2021-08-21T18:47:52.239Z"
   },
   {
    "duration": 34,
    "start_time": "2021-08-21T18:47:52.278Z"
   },
   {
    "duration": 35,
    "start_time": "2021-08-21T18:47:52.313Z"
   },
   {
    "duration": 4,
    "start_time": "2021-08-21T18:47:52.350Z"
   },
   {
    "duration": 45,
    "start_time": "2021-08-21T18:47:52.355Z"
   },
   {
    "duration": 89,
    "start_time": "2021-08-21T18:47:52.402Z"
   },
   {
    "duration": 2,
    "start_time": "2021-08-21T18:47:52.493Z"
   },
   {
    "duration": 7,
    "start_time": "2021-08-21T18:47:52.497Z"
   },
   {
    "duration": 11,
    "start_time": "2021-08-21T18:47:52.506Z"
   },
   {
    "duration": 4960,
    "start_time": "2021-08-21T18:47:52.519Z"
   },
   {
    "duration": 112,
    "start_time": "2021-08-21T18:47:57.481Z"
   },
   {
    "duration": 4,
    "start_time": "2021-08-21T18:47:57.595Z"
   },
   {
    "duration": 171,
    "start_time": "2021-08-21T18:47:57.600Z"
   },
   {
    "duration": 667,
    "start_time": "2021-08-21T18:47:57.773Z"
   },
   {
    "duration": 18,
    "start_time": "2021-08-21T18:47:58.441Z"
   },
   {
    "duration": 233,
    "start_time": "2021-08-21T18:47:58.461Z"
   },
   {
    "duration": 693,
    "start_time": "2021-08-21T18:47:58.696Z"
   },
   {
    "duration": 2151,
    "start_time": "2021-08-21T18:47:59.391Z"
   },
   {
    "duration": 21059,
    "start_time": "2021-08-21T18:48:01.543Z"
   },
   {
    "duration": 186,
    "start_time": "2021-08-21T18:48:22.604Z"
   },
   {
    "duration": 21602,
    "start_time": "2021-08-21T18:48:22.792Z"
   },
   {
    "duration": 1549,
    "start_time": "2021-08-21T18:48:44.486Z"
   },
   {
    "duration": 1856,
    "start_time": "2021-08-21T18:48:46.036Z"
   },
   {
    "duration": 8,
    "start_time": "2021-08-21T18:48:47.894Z"
   },
   {
    "duration": 21,
    "start_time": "2021-08-21T18:48:47.903Z"
   },
   {
    "duration": 6,
    "start_time": "2021-08-21T18:48:47.926Z"
   },
   {
    "duration": 15,
    "start_time": "2021-08-21T18:48:47.934Z"
   },
   {
    "duration": 20,
    "start_time": "2021-08-21T18:48:47.951Z"
   },
   {
    "duration": 2991,
    "start_time": "2021-08-21T18:51:44.649Z"
   },
   {
    "duration": 816,
    "start_time": "2021-08-21T18:51:47.642Z"
   },
   {
    "duration": 8,
    "start_time": "2021-08-21T18:51:48.460Z"
   },
   {
    "duration": 132,
    "start_time": "2021-08-21T18:51:48.470Z"
   },
   {
    "duration": 128,
    "start_time": "2021-08-21T18:51:48.604Z"
   },
   {
    "duration": 414,
    "start_time": "2021-08-21T18:51:48.734Z"
   },
   {
    "duration": 16,
    "start_time": "2021-08-21T18:51:49.150Z"
   },
   {
    "duration": 293,
    "start_time": "2021-08-21T18:51:49.168Z"
   },
   {
    "duration": 3,
    "start_time": "2021-08-21T18:51:49.463Z"
   },
   {
    "duration": 367,
    "start_time": "2021-08-21T18:51:49.468Z"
   },
   {
    "duration": 33,
    "start_time": "2021-08-21T18:51:49.837Z"
   },
   {
    "duration": 53,
    "start_time": "2021-08-21T18:51:49.871Z"
   },
   {
    "duration": 67,
    "start_time": "2021-08-21T18:51:49.926Z"
   },
   {
    "duration": 35,
    "start_time": "2021-08-21T18:51:49.995Z"
   },
   {
    "duration": 256,
    "start_time": "2021-08-21T18:51:50.032Z"
   },
   {
    "duration": 11,
    "start_time": "2021-08-21T18:51:50.290Z"
   },
   {
    "duration": 16,
    "start_time": "2021-08-21T18:51:50.303Z"
   },
   {
    "duration": 25,
    "start_time": "2021-08-21T18:51:50.321Z"
   },
   {
    "duration": 69,
    "start_time": "2021-08-21T18:51:50.348Z"
   },
   {
    "duration": 8,
    "start_time": "2021-08-21T18:51:50.418Z"
   },
   {
    "duration": 7,
    "start_time": "2021-08-21T18:51:50.428Z"
   },
   {
    "duration": 4,
    "start_time": "2021-08-21T18:51:50.437Z"
   },
   {
    "duration": 50,
    "start_time": "2021-08-21T18:51:50.445Z"
   },
   {
    "duration": 17,
    "start_time": "2021-08-21T18:51:50.497Z"
   },
   {
    "duration": 49,
    "start_time": "2021-08-21T18:51:50.515Z"
   },
   {
    "duration": 44,
    "start_time": "2021-08-21T18:51:50.565Z"
   },
   {
    "duration": 29,
    "start_time": "2021-08-21T18:51:50.611Z"
   },
   {
    "duration": 43,
    "start_time": "2021-08-21T18:51:50.642Z"
   },
   {
    "duration": 33,
    "start_time": "2021-08-21T18:51:50.687Z"
   },
   {
    "duration": 10,
    "start_time": "2021-08-21T18:51:50.722Z"
   },
   {
    "duration": 28,
    "start_time": "2021-08-21T18:51:50.734Z"
   },
   {
    "duration": 100,
    "start_time": "2021-08-21T18:51:50.764Z"
   },
   {
    "duration": 2,
    "start_time": "2021-08-21T18:51:50.866Z"
   },
   {
    "duration": 17,
    "start_time": "2021-08-21T18:51:50.870Z"
   },
   {
    "duration": 8,
    "start_time": "2021-08-21T18:51:50.889Z"
   },
   {
    "duration": 4853,
    "start_time": "2021-08-21T18:51:50.899Z"
   },
   {
    "duration": 137,
    "start_time": "2021-08-21T18:51:55.754Z"
   },
   {
    "duration": 149,
    "start_time": "2021-08-21T18:51:55.892Z"
   },
   {
    "duration": 670,
    "start_time": "2021-08-21T18:51:56.043Z"
   },
   {
    "duration": 19,
    "start_time": "2021-08-21T18:51:56.715Z"
   },
   {
    "duration": 241,
    "start_time": "2021-08-21T18:51:56.735Z"
   },
   {
    "duration": 695,
    "start_time": "2021-08-21T18:51:56.977Z"
   },
   {
    "duration": 2138,
    "start_time": "2021-08-21T18:51:57.674Z"
   },
   {
    "duration": 20685,
    "start_time": "2021-08-21T18:51:59.814Z"
   },
   {
    "duration": 187,
    "start_time": "2021-08-21T18:52:20.501Z"
   },
   {
    "duration": 21801,
    "start_time": "2021-08-21T18:52:20.691Z"
   },
   {
    "duration": 5964,
    "start_time": "2021-08-21T18:52:42.494Z"
   },
   {
    "duration": 35973,
    "start_time": "2021-08-21T18:52:48.460Z"
   },
   {
    "duration": 8,
    "start_time": "2021-08-21T18:53:24.435Z"
   },
   {
    "duration": 8,
    "start_time": "2021-08-21T18:53:24.445Z"
   },
   {
    "duration": 32,
    "start_time": "2021-08-21T18:53:24.454Z"
   },
   {
    "duration": 8,
    "start_time": "2021-08-21T18:53:24.487Z"
   },
   {
    "duration": 6,
    "start_time": "2021-08-21T18:53:24.497Z"
   },
   {
    "duration": 215,
    "start_time": "2021-08-21T18:57:35.697Z"
   },
   {
    "duration": 2006,
    "start_time": "2021-08-21T18:57:43.023Z"
   },
   {
    "duration": 130,
    "start_time": "2021-08-21T18:57:47.652Z"
   },
   {
    "duration": 120,
    "start_time": "2021-08-21T18:57:58.589Z"
   },
   {
    "duration": 113,
    "start_time": "2021-08-21T18:58:02.801Z"
   },
   {
    "duration": 3,
    "start_time": "2021-08-21T18:58:25.387Z"
   },
   {
    "duration": 5,
    "start_time": "2021-08-21T18:58:25.982Z"
   },
   {
    "duration": 132,
    "start_time": "2021-08-21T18:58:26.606Z"
   },
   {
    "duration": 2986,
    "start_time": "2021-08-21T18:58:38.170Z"
   },
   {
    "duration": 765,
    "start_time": "2021-08-21T18:58:41.158Z"
   },
   {
    "duration": 8,
    "start_time": "2021-08-21T18:58:41.926Z"
   },
   {
    "duration": 127,
    "start_time": "2021-08-21T18:58:41.936Z"
   },
   {
    "duration": 124,
    "start_time": "2021-08-21T18:58:42.065Z"
   },
   {
    "duration": 430,
    "start_time": "2021-08-21T18:58:42.191Z"
   },
   {
    "duration": 15,
    "start_time": "2021-08-21T18:58:42.622Z"
   },
   {
    "duration": 278,
    "start_time": "2021-08-21T18:58:42.639Z"
   },
   {
    "duration": 3,
    "start_time": "2021-08-21T18:58:42.919Z"
   },
   {
    "duration": 366,
    "start_time": "2021-08-21T18:58:42.924Z"
   },
   {
    "duration": 32,
    "start_time": "2021-08-21T18:58:43.292Z"
   },
   {
    "duration": 59,
    "start_time": "2021-08-21T18:58:43.326Z"
   },
   {
    "duration": 49,
    "start_time": "2021-08-21T18:58:43.386Z"
   },
   {
    "duration": 49,
    "start_time": "2021-08-21T18:58:43.436Z"
   },
   {
    "duration": 236,
    "start_time": "2021-08-21T18:58:43.487Z"
   },
   {
    "duration": 10,
    "start_time": "2021-08-21T18:58:43.725Z"
   },
   {
    "duration": 16,
    "start_time": "2021-08-21T18:58:43.736Z"
   },
   {
    "duration": 40,
    "start_time": "2021-08-21T18:58:43.753Z"
   },
   {
    "duration": 32,
    "start_time": "2021-08-21T18:58:43.795Z"
   },
   {
    "duration": 5,
    "start_time": "2021-08-21T18:58:43.829Z"
   },
   {
    "duration": 5,
    "start_time": "2021-08-21T18:58:43.835Z"
   },
   {
    "duration": 4,
    "start_time": "2021-08-21T18:58:43.841Z"
   },
   {
    "duration": 48,
    "start_time": "2021-08-21T18:58:43.846Z"
   },
   {
    "duration": 14,
    "start_time": "2021-08-21T18:58:43.896Z"
   },
   {
    "duration": 51,
    "start_time": "2021-08-21T18:58:43.911Z"
   },
   {
    "duration": 44,
    "start_time": "2021-08-21T18:58:43.964Z"
   },
   {
    "duration": 27,
    "start_time": "2021-08-21T18:58:44.012Z"
   },
   {
    "duration": 47,
    "start_time": "2021-08-21T18:58:44.041Z"
   },
   {
    "duration": 29,
    "start_time": "2021-08-21T18:58:44.090Z"
   },
   {
    "duration": 8,
    "start_time": "2021-08-21T18:58:44.121Z"
   },
   {
    "duration": 28,
    "start_time": "2021-08-21T18:58:44.130Z"
   },
   {
    "duration": 100,
    "start_time": "2021-08-21T18:58:44.160Z"
   },
   {
    "duration": 3,
    "start_time": "2021-08-21T18:58:44.262Z"
   },
   {
    "duration": 7,
    "start_time": "2021-08-21T18:58:44.266Z"
   },
   {
    "duration": 12,
    "start_time": "2021-08-21T18:58:44.274Z"
   },
   {
    "duration": 5355,
    "start_time": "2021-08-21T18:58:44.287Z"
   },
   {
    "duration": 324,
    "start_time": "2021-08-21T18:59:12.135Z"
   },
   {
    "duration": 96,
    "start_time": "2021-08-21T18:59:39.732Z"
   },
   {
    "duration": 10,
    "start_time": "2021-08-21T18:59:58.320Z"
   },
   {
    "duration": 3055,
    "start_time": "2021-08-21T19:08:24.772Z"
   },
   {
    "duration": 777,
    "start_time": "2021-08-21T19:08:27.830Z"
   },
   {
    "duration": 9,
    "start_time": "2021-08-21T19:08:28.612Z"
   },
   {
    "duration": 134,
    "start_time": "2021-08-21T19:08:28.622Z"
   },
   {
    "duration": 122,
    "start_time": "2021-08-21T19:08:28.758Z"
   },
   {
    "duration": 431,
    "start_time": "2021-08-21T19:08:28.885Z"
   },
   {
    "duration": 13,
    "start_time": "2021-08-21T19:08:29.319Z"
   },
   {
    "duration": 277,
    "start_time": "2021-08-21T19:08:29.334Z"
   },
   {
    "duration": 2,
    "start_time": "2021-08-21T19:08:29.613Z"
   },
   {
    "duration": 373,
    "start_time": "2021-08-21T19:08:29.617Z"
   },
   {
    "duration": 34,
    "start_time": "2021-08-21T19:08:29.992Z"
   },
   {
    "duration": 64,
    "start_time": "2021-08-21T19:08:30.028Z"
   },
   {
    "duration": 49,
    "start_time": "2021-08-21T19:08:30.093Z"
   },
   {
    "duration": 50,
    "start_time": "2021-08-21T19:08:30.143Z"
   },
   {
    "duration": 248,
    "start_time": "2021-08-21T19:08:30.195Z"
   },
   {
    "duration": 10,
    "start_time": "2021-08-21T19:08:30.445Z"
   },
   {
    "duration": 31,
    "start_time": "2021-08-21T19:08:30.456Z"
   },
   {
    "duration": 22,
    "start_time": "2021-08-21T19:08:30.489Z"
   },
   {
    "duration": 46,
    "start_time": "2021-08-21T19:08:30.513Z"
   },
   {
    "duration": 13,
    "start_time": "2021-08-21T19:08:30.561Z"
   },
   {
    "duration": 17,
    "start_time": "2021-08-21T19:08:30.576Z"
   },
   {
    "duration": 8,
    "start_time": "2021-08-21T19:08:30.596Z"
   },
   {
    "duration": 44,
    "start_time": "2021-08-21T19:08:30.607Z"
   },
   {
    "duration": 15,
    "start_time": "2021-08-21T19:08:30.653Z"
   },
   {
    "duration": 68,
    "start_time": "2021-08-21T19:08:30.670Z"
   },
   {
    "duration": 33,
    "start_time": "2021-08-21T19:08:30.739Z"
   },
   {
    "duration": 35,
    "start_time": "2021-08-21T19:08:30.774Z"
   },
   {
    "duration": 32,
    "start_time": "2021-08-21T19:08:30.811Z"
   },
   {
    "duration": 49,
    "start_time": "2021-08-21T19:08:30.845Z"
   },
   {
    "duration": 18,
    "start_time": "2021-08-21T19:08:30.896Z"
   },
   {
    "duration": 49,
    "start_time": "2021-08-21T19:08:30.916Z"
   },
   {
    "duration": 102,
    "start_time": "2021-08-21T19:08:30.967Z"
   },
   {
    "duration": 3,
    "start_time": "2021-08-21T19:08:31.071Z"
   },
   {
    "duration": 28,
    "start_time": "2021-08-21T19:08:31.075Z"
   },
   {
    "duration": 15,
    "start_time": "2021-08-21T19:08:31.105Z"
   },
   {
    "duration": 4835,
    "start_time": "2021-08-21T19:08:31.122Z"
   },
   {
    "duration": 135,
    "start_time": "2021-08-21T19:08:35.959Z"
   },
   {
    "duration": 166,
    "start_time": "2021-08-21T19:08:36.096Z"
   },
   {
    "duration": 724,
    "start_time": "2021-08-21T19:08:36.264Z"
   },
   {
    "duration": 18,
    "start_time": "2021-08-21T19:08:36.990Z"
   },
   {
    "duration": 236,
    "start_time": "2021-08-21T19:08:37.010Z"
   },
   {
    "duration": 701,
    "start_time": "2021-08-21T19:08:37.248Z"
   },
   {
    "duration": 2161,
    "start_time": "2021-08-21T19:08:37.950Z"
   },
   {
    "duration": 20873,
    "start_time": "2021-08-21T19:08:40.112Z"
   },
   {
    "duration": 104,
    "start_time": "2021-08-21T19:09:00.987Z"
   },
   {
    "duration": 23094,
    "start_time": "2021-08-21T19:09:01.093Z"
   },
   {
    "duration": 5883,
    "start_time": "2021-08-21T19:09:24.194Z"
   },
   {
    "duration": 36578,
    "start_time": "2021-08-21T19:09:30.079Z"
   },
   {
    "duration": 10,
    "start_time": "2021-08-21T19:10:06.659Z"
   },
   {
    "duration": 142,
    "start_time": "2021-08-21T19:10:06.671Z"
   },
   {
    "duration": 20,
    "start_time": "2021-08-21T19:10:06.815Z"
   },
   {
    "duration": 19,
    "start_time": "2021-08-21T19:10:06.836Z"
   },
   {
    "duration": 12,
    "start_time": "2021-08-21T19:10:06.857Z"
   },
   {
    "duration": 230,
    "start_time": "2021-08-21T19:16:52.185Z"
   },
   {
    "duration": 4,
    "start_time": "2021-08-21T19:20:43.423Z"
   },
   {
    "duration": 257,
    "start_time": "2021-08-21T19:21:50.481Z"
   },
   {
    "duration": 5,
    "start_time": "2021-08-21T19:22:12.553Z"
   },
   {
    "duration": 4,
    "start_time": "2021-08-21T19:22:38.352Z"
   },
   {
    "duration": 242,
    "start_time": "2021-08-21T19:22:43.791Z"
   },
   {
    "duration": 190,
    "start_time": "2021-08-21T19:22:52.151Z"
   },
   {
    "duration": 194,
    "start_time": "2021-08-21T19:22:54.570Z"
   },
   {
    "duration": 5,
    "start_time": "2021-08-21T19:25:24.932Z"
   },
   {
    "duration": 4,
    "start_time": "2021-08-21T19:25:38.218Z"
   },
   {
    "duration": 5,
    "start_time": "2021-08-21T19:25:43.076Z"
   },
   {
    "duration": 3,
    "start_time": "2021-08-21T19:25:54.068Z"
   },
   {
    "duration": 5,
    "start_time": "2021-08-21T19:26:11.396Z"
   },
   {
    "duration": 206,
    "start_time": "2021-08-21T19:27:37.234Z"
   },
   {
    "duration": 174,
    "start_time": "2021-08-21T19:27:41.922Z"
   },
   {
    "duration": 5,
    "start_time": "2021-08-21T19:27:51.387Z"
   },
   {
    "duration": 61,
    "start_time": "2021-08-21T19:32:45.569Z"
   },
   {
    "duration": 60,
    "start_time": "2021-08-21T19:32:59.238Z"
   },
   {
    "duration": 59,
    "start_time": "2021-08-21T19:33:12.349Z"
   },
   {
    "duration": 61,
    "start_time": "2021-08-21T19:33:16.984Z"
   },
   {
    "duration": 8,
    "start_time": "2021-08-21T19:33:24.437Z"
   },
   {
    "duration": 3,
    "start_time": "2021-08-21T19:33:27.729Z"
   },
   {
    "duration": 205,
    "start_time": "2021-08-21T19:33:40.135Z"
   },
   {
    "duration": 186,
    "start_time": "2021-08-21T19:33:53.153Z"
   },
   {
    "duration": 167,
    "start_time": "2021-08-21T19:35:43.174Z"
   },
   {
    "duration": 7,
    "start_time": "2021-08-21T19:37:24.202Z"
   },
   {
    "duration": 175,
    "start_time": "2021-08-21T19:37:24.393Z"
   },
   {
    "duration": 190,
    "start_time": "2021-08-21T19:39:24.484Z"
   },
   {
    "duration": 63,
    "start_time": "2021-08-21T19:39:43.334Z"
   },
   {
    "duration": 2095,
    "start_time": "2021-08-21T19:39:47.526Z"
   },
   {
    "duration": 199,
    "start_time": "2021-08-21T19:39:56.679Z"
   },
   {
    "duration": 190,
    "start_time": "2021-08-21T19:40:05.771Z"
   },
   {
    "duration": 176,
    "start_time": "2021-08-21T19:40:15.053Z"
   },
   {
    "duration": 174,
    "start_time": "2021-08-21T19:40:19.503Z"
   },
   {
    "duration": 149,
    "start_time": "2021-08-21T19:40:29.590Z"
   },
   {
    "duration": 137,
    "start_time": "2021-08-21T19:40:35.750Z"
   },
   {
    "duration": 473,
    "start_time": "2021-08-21T19:45:28.568Z"
   },
   {
    "duration": 185,
    "start_time": "2021-08-21T19:46:30.941Z"
   },
   {
    "duration": 409,
    "start_time": "2021-08-21T19:48:27.464Z"
   },
   {
    "duration": 63,
    "start_time": "2021-08-21T19:49:38.117Z"
   },
   {
    "duration": 199,
    "start_time": "2021-08-21T19:49:43.442Z"
   },
   {
    "duration": 196,
    "start_time": "2021-08-21T19:49:51.943Z"
   },
   {
    "duration": 429,
    "start_time": "2021-08-21T19:51:02.449Z"
   },
   {
    "duration": 426,
    "start_time": "2021-08-21T19:52:01.352Z"
   },
   {
    "duration": 314,
    "start_time": "2021-08-21T19:52:45.650Z"
   },
   {
    "duration": 989,
    "start_time": "2021-08-21T19:52:53.997Z"
   },
   {
    "duration": 413,
    "start_time": "2021-08-21T19:53:00.742Z"
   },
   {
    "duration": 400,
    "start_time": "2021-08-21T19:53:06.836Z"
   },
   {
    "duration": 442,
    "start_time": "2021-08-21T19:54:23.489Z"
   },
   {
    "duration": 435,
    "start_time": "2021-08-21T19:54:35.579Z"
   },
   {
    "duration": 499,
    "start_time": "2021-08-21T19:55:38.762Z"
   },
   {
    "duration": 3051,
    "start_time": "2021-08-21T19:58:04.924Z"
   },
   {
    "duration": 796,
    "start_time": "2021-08-21T19:58:07.977Z"
   },
   {
    "duration": 11,
    "start_time": "2021-08-21T19:58:08.775Z"
   },
   {
    "duration": 134,
    "start_time": "2021-08-21T19:58:08.788Z"
   },
   {
    "duration": 125,
    "start_time": "2021-08-21T19:58:08.924Z"
   },
   {
    "duration": 444,
    "start_time": "2021-08-21T19:58:09.052Z"
   },
   {
    "duration": 15,
    "start_time": "2021-08-21T19:58:09.498Z"
   },
   {
    "duration": 285,
    "start_time": "2021-08-21T19:58:09.516Z"
   },
   {
    "duration": 2,
    "start_time": "2021-08-21T19:58:09.803Z"
   },
   {
    "duration": 369,
    "start_time": "2021-08-21T19:58:09.807Z"
   },
   {
    "duration": 35,
    "start_time": "2021-08-21T19:58:10.178Z"
   },
   {
    "duration": 45,
    "start_time": "2021-08-21T19:58:10.215Z"
   },
   {
    "duration": 65,
    "start_time": "2021-08-21T19:58:10.261Z"
   },
   {
    "duration": 41,
    "start_time": "2021-08-21T19:58:10.328Z"
   },
   {
    "duration": 245,
    "start_time": "2021-08-21T19:58:10.371Z"
   },
   {
    "duration": 9,
    "start_time": "2021-08-21T19:58:10.617Z"
   },
   {
    "duration": 31,
    "start_time": "2021-08-21T19:58:10.628Z"
   },
   {
    "duration": 27,
    "start_time": "2021-08-21T19:58:10.661Z"
   },
   {
    "duration": 49,
    "start_time": "2021-08-21T19:58:10.690Z"
   },
   {
    "duration": 24,
    "start_time": "2021-08-21T19:58:10.740Z"
   },
   {
    "duration": 17,
    "start_time": "2021-08-21T19:58:10.765Z"
   },
   {
    "duration": 15,
    "start_time": "2021-08-21T19:58:10.783Z"
   },
   {
    "duration": 44,
    "start_time": "2021-08-21T19:58:10.802Z"
   },
   {
    "duration": 15,
    "start_time": "2021-08-21T19:58:10.848Z"
   },
   {
    "duration": 62,
    "start_time": "2021-08-21T19:58:10.864Z"
   },
   {
    "duration": 30,
    "start_time": "2021-08-21T19:58:10.928Z"
   },
   {
    "duration": 42,
    "start_time": "2021-08-21T19:58:10.960Z"
   },
   {
    "duration": 30,
    "start_time": "2021-08-21T19:58:11.003Z"
   },
   {
    "duration": 48,
    "start_time": "2021-08-21T19:58:11.034Z"
   },
   {
    "duration": 18,
    "start_time": "2021-08-21T19:58:11.084Z"
   },
   {
    "duration": 44,
    "start_time": "2021-08-21T19:58:11.104Z"
   },
   {
    "duration": 101,
    "start_time": "2021-08-21T19:58:11.149Z"
   },
   {
    "duration": 3,
    "start_time": "2021-08-21T19:58:11.251Z"
   },
   {
    "duration": 15,
    "start_time": "2021-08-21T19:58:11.256Z"
   },
   {
    "duration": 20,
    "start_time": "2021-08-21T19:58:11.273Z"
   },
   {
    "duration": 1546,
    "start_time": "2021-08-21T19:58:11.295Z"
   },
   {
    "duration": 174,
    "start_time": "2021-08-21T19:58:12.843Z"
   },
   {
    "duration": 1598,
    "start_time": "2021-08-21T19:58:11.421Z"
   },
   {
    "duration": 1579,
    "start_time": "2021-08-21T19:58:11.441Z"
   },
   {
    "duration": 1573,
    "start_time": "2021-08-21T19:58:11.448Z"
   },
   {
    "duration": 1569,
    "start_time": "2021-08-21T19:58:11.453Z"
   },
   {
    "duration": 1565,
    "start_time": "2021-08-21T19:58:11.458Z"
   },
   {
    "duration": 1562,
    "start_time": "2021-08-21T19:58:11.462Z"
   },
   {
    "duration": 1559,
    "start_time": "2021-08-21T19:58:11.466Z"
   },
   {
    "duration": 1556,
    "start_time": "2021-08-21T19:58:11.470Z"
   },
   {
    "duration": 1553,
    "start_time": "2021-08-21T19:58:11.474Z"
   },
   {
    "duration": 1551,
    "start_time": "2021-08-21T19:58:11.477Z"
   },
   {
    "duration": 1547,
    "start_time": "2021-08-21T19:58:11.482Z"
   },
   {
    "duration": 1544,
    "start_time": "2021-08-21T19:58:11.486Z"
   },
   {
    "duration": 1541,
    "start_time": "2021-08-21T19:58:11.490Z"
   },
   {
    "duration": 1538,
    "start_time": "2021-08-21T19:58:11.494Z"
   },
   {
    "duration": 1535,
    "start_time": "2021-08-21T19:58:11.498Z"
   },
   {
    "duration": 1531,
    "start_time": "2021-08-21T19:58:11.503Z"
   },
   {
    "duration": 1526,
    "start_time": "2021-08-21T19:58:11.509Z"
   },
   {
    "duration": 3100,
    "start_time": "2021-08-21T20:00:33.230Z"
   },
   {
    "duration": 780,
    "start_time": "2021-08-21T20:00:36.332Z"
   },
   {
    "duration": 5,
    "start_time": "2021-08-21T20:00:37.114Z"
   },
   {
    "duration": 130,
    "start_time": "2021-08-21T20:00:37.120Z"
   },
   {
    "duration": 121,
    "start_time": "2021-08-21T20:00:37.252Z"
   },
   {
    "duration": 431,
    "start_time": "2021-08-21T20:00:37.375Z"
   },
   {
    "duration": 14,
    "start_time": "2021-08-21T20:00:37.807Z"
   },
   {
    "duration": 277,
    "start_time": "2021-08-21T20:00:37.823Z"
   },
   {
    "duration": 3,
    "start_time": "2021-08-21T20:00:38.102Z"
   },
   {
    "duration": 374,
    "start_time": "2021-08-21T20:00:38.106Z"
   },
   {
    "duration": 33,
    "start_time": "2021-08-21T20:00:38.482Z"
   },
   {
    "duration": 45,
    "start_time": "2021-08-21T20:00:38.516Z"
   },
   {
    "duration": 63,
    "start_time": "2021-08-21T20:00:38.563Z"
   },
   {
    "duration": 33,
    "start_time": "2021-08-21T20:00:38.629Z"
   },
   {
    "duration": 261,
    "start_time": "2021-08-21T20:00:38.663Z"
   },
   {
    "duration": 11,
    "start_time": "2021-08-21T20:00:38.925Z"
   },
   {
    "duration": 23,
    "start_time": "2021-08-21T20:00:38.938Z"
   },
   {
    "duration": 33,
    "start_time": "2021-08-21T20:00:38.963Z"
   },
   {
    "duration": 46,
    "start_time": "2021-08-21T20:00:38.998Z"
   },
   {
    "duration": 12,
    "start_time": "2021-08-21T20:00:39.045Z"
   },
   {
    "duration": 10,
    "start_time": "2021-08-21T20:00:39.058Z"
   },
   {
    "duration": 8,
    "start_time": "2021-08-21T20:00:39.069Z"
   },
   {
    "duration": 34,
    "start_time": "2021-08-21T20:00:39.081Z"
   },
   {
    "duration": 16,
    "start_time": "2021-08-21T20:00:39.117Z"
   },
   {
    "duration": 62,
    "start_time": "2021-08-21T20:00:39.135Z"
   },
   {
    "duration": 30,
    "start_time": "2021-08-21T20:00:39.199Z"
   },
   {
    "duration": 30,
    "start_time": "2021-08-21T20:00:39.231Z"
   },
   {
    "duration": 46,
    "start_time": "2021-08-21T20:00:39.263Z"
   },
   {
    "duration": 33,
    "start_time": "2021-08-21T20:00:39.311Z"
   },
   {
    "duration": 5,
    "start_time": "2021-08-21T20:00:39.345Z"
   },
   {
    "duration": 47,
    "start_time": "2021-08-21T20:00:39.352Z"
   },
   {
    "duration": 91,
    "start_time": "2021-08-21T20:00:39.401Z"
   },
   {
    "duration": 3,
    "start_time": "2021-08-21T20:00:39.493Z"
   },
   {
    "duration": 7,
    "start_time": "2021-08-21T20:00:39.497Z"
   },
   {
    "duration": 9,
    "start_time": "2021-08-21T20:00:39.506Z"
   },
   {
    "duration": 26198,
    "start_time": "2021-08-21T20:00:39.517Z"
   },
   {
    "duration": 168,
    "start_time": "2021-08-21T20:01:05.717Z"
   },
   {
    "duration": 142,
    "start_time": "2021-08-21T20:01:05.887Z"
   },
   {
    "duration": 697,
    "start_time": "2021-08-21T20:01:06.031Z"
   },
   {
    "duration": 19,
    "start_time": "2021-08-21T20:01:06.729Z"
   },
   {
    "duration": 238,
    "start_time": "2021-08-21T20:01:06.749Z"
   },
   {
    "duration": 714,
    "start_time": "2021-08-21T20:01:06.989Z"
   },
   {
    "duration": 3098,
    "start_time": "2021-08-21T20:03:22.617Z"
   },
   {
    "duration": 818,
    "start_time": "2021-08-21T20:03:25.717Z"
   },
   {
    "duration": 5,
    "start_time": "2021-08-21T20:03:26.537Z"
   },
   {
    "duration": 142,
    "start_time": "2021-08-21T20:03:26.545Z"
   },
   {
    "duration": 124,
    "start_time": "2021-08-21T20:03:26.689Z"
   },
   {
    "duration": 433,
    "start_time": "2021-08-21T20:03:26.814Z"
   },
   {
    "duration": 15,
    "start_time": "2021-08-21T20:03:27.249Z"
   },
   {
    "duration": 276,
    "start_time": "2021-08-21T20:03:27.267Z"
   },
   {
    "duration": 3,
    "start_time": "2021-08-21T20:03:27.545Z"
   },
   {
    "duration": 369,
    "start_time": "2021-08-21T20:03:27.550Z"
   },
   {
    "duration": 35,
    "start_time": "2021-08-21T20:03:27.921Z"
   },
   {
    "duration": 53,
    "start_time": "2021-08-21T20:03:27.957Z"
   },
   {
    "duration": 48,
    "start_time": "2021-08-21T20:03:28.012Z"
   },
   {
    "duration": 48,
    "start_time": "2021-08-21T20:03:28.061Z"
   },
   {
    "duration": 243,
    "start_time": "2021-08-21T20:03:28.111Z"
   },
   {
    "duration": 10,
    "start_time": "2021-08-21T20:03:28.356Z"
   },
   {
    "duration": 23,
    "start_time": "2021-08-21T20:03:28.368Z"
   },
   {
    "duration": 20,
    "start_time": "2021-08-21T20:03:28.393Z"
   },
   {
    "duration": 37,
    "start_time": "2021-08-21T20:03:28.415Z"
   },
   {
    "duration": 4,
    "start_time": "2021-08-21T20:03:28.454Z"
   },
   {
    "duration": 4,
    "start_time": "2021-08-21T20:03:28.460Z"
   },
   {
    "duration": 19,
    "start_time": "2021-08-21T20:03:28.466Z"
   },
   {
    "duration": 31,
    "start_time": "2021-08-21T20:03:28.488Z"
   },
   {
    "duration": 14,
    "start_time": "2021-08-21T20:03:28.521Z"
   },
   {
    "duration": 69,
    "start_time": "2021-08-21T20:03:28.537Z"
   },
   {
    "duration": 31,
    "start_time": "2021-08-21T20:03:28.608Z"
   },
   {
    "duration": 41,
    "start_time": "2021-08-21T20:03:28.641Z"
   },
   {
    "duration": 30,
    "start_time": "2021-08-21T20:03:28.685Z"
   },
   {
    "duration": 33,
    "start_time": "2021-08-21T20:03:28.717Z"
   },
   {
    "duration": 4,
    "start_time": "2021-08-21T20:03:28.752Z"
   },
   {
    "duration": 48,
    "start_time": "2021-08-21T20:03:28.758Z"
   },
   {
    "duration": 89,
    "start_time": "2021-08-21T20:03:28.808Z"
   },
   {
    "duration": 3,
    "start_time": "2021-08-21T20:03:28.898Z"
   },
   {
    "duration": 6,
    "start_time": "2021-08-21T20:03:28.902Z"
   },
   {
    "duration": 6,
    "start_time": "2021-08-21T20:03:28.910Z"
   },
   {
    "duration": 26021,
    "start_time": "2021-08-21T20:03:28.918Z"
   },
   {
    "duration": 149,
    "start_time": "2021-08-21T20:03:54.940Z"
   },
   {
    "duration": 139,
    "start_time": "2021-08-21T20:03:55.091Z"
   },
   {
    "duration": 641,
    "start_time": "2021-08-21T20:03:55.232Z"
   },
   {
    "duration": 22,
    "start_time": "2021-08-21T20:03:55.874Z"
   },
   {
    "duration": 231,
    "start_time": "2021-08-21T20:03:55.897Z"
   },
   {
    "duration": 686,
    "start_time": "2021-08-21T20:03:56.130Z"
   },
   {
    "duration": 3063,
    "start_time": "2021-08-21T20:04:51.478Z"
   },
   {
    "duration": 822,
    "start_time": "2021-08-21T20:04:54.543Z"
   },
   {
    "duration": 5,
    "start_time": "2021-08-21T20:04:55.367Z"
   },
   {
    "duration": 338,
    "start_time": "2021-08-21T20:04:55.385Z"
   },
   {
    "duration": 333,
    "start_time": "2021-08-21T20:04:55.725Z"
   },
   {
    "duration": 436,
    "start_time": "2021-08-21T20:04:56.059Z"
   },
   {
    "duration": 14,
    "start_time": "2021-08-21T20:04:56.496Z"
   },
   {
    "duration": 323,
    "start_time": "2021-08-21T20:04:56.512Z"
   },
   {
    "duration": 2,
    "start_time": "2021-08-21T20:04:56.837Z"
   },
   {
    "duration": 366,
    "start_time": "2021-08-21T20:04:56.841Z"
   },
   {
    "duration": 54,
    "start_time": "2021-08-21T20:04:57.209Z"
   },
   {
    "duration": 99,
    "start_time": "2021-08-21T20:04:57.265Z"
   },
   {
    "duration": 111,
    "start_time": "2021-08-21T20:04:57.366Z"
   },
   {
    "duration": 80,
    "start_time": "2021-08-21T20:04:57.478Z"
   },
   {
    "duration": 298,
    "start_time": "2021-08-21T20:04:57.560Z"
   },
   {
    "duration": 10,
    "start_time": "2021-08-21T20:04:57.860Z"
   },
   {
    "duration": 51,
    "start_time": "2021-08-21T20:04:57.872Z"
   },
   {
    "duration": 45,
    "start_time": "2021-08-21T20:04:57.925Z"
   },
   {
    "duration": 93,
    "start_time": "2021-08-21T20:04:57.971Z"
   },
   {
    "duration": 8,
    "start_time": "2021-08-21T20:04:58.066Z"
   },
   {
    "duration": 4,
    "start_time": "2021-08-21T20:04:58.084Z"
   },
   {
    "duration": 5,
    "start_time": "2021-08-21T20:04:58.089Z"
   },
   {
    "duration": 55,
    "start_time": "2021-08-21T20:04:58.097Z"
   },
   {
    "duration": 56,
    "start_time": "2021-08-21T20:04:58.154Z"
   },
   {
    "duration": 81,
    "start_time": "2021-08-21T20:04:58.212Z"
   },
   {
    "duration": 76,
    "start_time": "2021-08-21T20:04:58.294Z"
   },
   {
    "duration": 76,
    "start_time": "2021-08-21T20:04:58.372Z"
   },
   {
    "duration": 70,
    "start_time": "2021-08-21T20:04:58.450Z"
   },
   {
    "duration": 81,
    "start_time": "2021-08-21T20:04:58.521Z"
   },
   {
    "duration": 6,
    "start_time": "2021-08-21T20:04:58.604Z"
   },
   {
    "duration": 30,
    "start_time": "2021-08-21T20:04:58.611Z"
   },
   {
    "duration": 94,
    "start_time": "2021-08-21T20:04:58.643Z"
   },
   {
    "duration": 2,
    "start_time": "2021-08-21T20:04:58.739Z"
   },
   {
    "duration": 7,
    "start_time": "2021-08-21T20:04:58.743Z"
   },
   {
    "duration": 8,
    "start_time": "2021-08-21T20:04:58.751Z"
   },
   {
    "duration": 25888,
    "start_time": "2021-08-21T20:04:58.761Z"
   },
   {
    "duration": 142,
    "start_time": "2021-08-21T20:05:24.650Z"
   },
   {
    "duration": 159,
    "start_time": "2021-08-21T20:05:24.793Z"
   },
   {
    "duration": 655,
    "start_time": "2021-08-21T20:05:24.954Z"
   },
   {
    "duration": 17,
    "start_time": "2021-08-21T20:05:25.611Z"
   },
   {
    "duration": 233,
    "start_time": "2021-08-21T20:05:25.630Z"
   },
   {
    "duration": 704,
    "start_time": "2021-08-21T20:05:25.865Z"
   },
   {
    "duration": 203,
    "start_time": "2021-08-21T20:05:53.073Z"
   },
   {
    "duration": 3067,
    "start_time": "2021-08-21T20:06:14.726Z"
   },
   {
    "duration": 810,
    "start_time": "2021-08-21T20:06:17.796Z"
   },
   {
    "duration": 5,
    "start_time": "2021-08-21T20:06:18.611Z"
   },
   {
    "duration": 138,
    "start_time": "2021-08-21T20:06:18.618Z"
   },
   {
    "duration": 127,
    "start_time": "2021-08-21T20:06:18.759Z"
   },
   {
    "duration": 434,
    "start_time": "2021-08-21T20:06:18.887Z"
   },
   {
    "duration": 14,
    "start_time": "2021-08-21T20:06:19.323Z"
   },
   {
    "duration": 277,
    "start_time": "2021-08-21T20:06:19.339Z"
   },
   {
    "duration": 3,
    "start_time": "2021-08-21T20:06:19.617Z"
   },
   {
    "duration": 363,
    "start_time": "2021-08-21T20:06:19.621Z"
   },
   {
    "duration": 33,
    "start_time": "2021-08-21T20:06:19.986Z"
   },
   {
    "duration": 45,
    "start_time": "2021-08-21T20:06:20.021Z"
   },
   {
    "duration": 49,
    "start_time": "2021-08-21T20:06:20.084Z"
   },
   {
    "duration": 31,
    "start_time": "2021-08-21T20:06:20.135Z"
   },
   {
    "duration": 249,
    "start_time": "2021-08-21T20:06:20.168Z"
   },
   {
    "duration": 10,
    "start_time": "2021-08-21T20:06:20.419Z"
   },
   {
    "duration": 17,
    "start_time": "2021-08-21T20:06:20.430Z"
   },
   {
    "duration": 39,
    "start_time": "2021-08-21T20:06:20.448Z"
   },
   {
    "duration": 33,
    "start_time": "2021-08-21T20:06:20.489Z"
   },
   {
    "duration": 9,
    "start_time": "2021-08-21T20:06:20.523Z"
   },
   {
    "duration": 4,
    "start_time": "2021-08-21T20:06:20.534Z"
   },
   {
    "duration": 4,
    "start_time": "2021-08-21T20:06:20.541Z"
   },
   {
    "duration": 48,
    "start_time": "2021-08-21T20:06:20.547Z"
   },
   {
    "duration": 16,
    "start_time": "2021-08-21T20:06:20.597Z"
   },
   {
    "duration": 50,
    "start_time": "2021-08-21T20:06:20.615Z"
   },
   {
    "duration": 48,
    "start_time": "2021-08-21T20:06:20.666Z"
   },
   {
    "duration": 31,
    "start_time": "2021-08-21T20:06:20.716Z"
   },
   {
    "duration": 41,
    "start_time": "2021-08-21T20:06:20.749Z"
   },
   {
    "duration": 40,
    "start_time": "2021-08-21T20:06:20.791Z"
   },
   {
    "duration": 19,
    "start_time": "2021-08-21T20:06:20.832Z"
   },
   {
    "duration": 35,
    "start_time": "2021-08-21T20:06:20.853Z"
   },
   {
    "duration": 95,
    "start_time": "2021-08-21T20:06:20.890Z"
   },
   {
    "duration": 2,
    "start_time": "2021-08-21T20:06:20.986Z"
   },
   {
    "duration": 33,
    "start_time": "2021-08-21T20:06:20.990Z"
   },
   {
    "duration": 39,
    "start_time": "2021-08-21T20:06:21.026Z"
   },
   {
    "duration": 4781,
    "start_time": "2021-08-21T20:06:21.068Z"
   },
   {
    "duration": 139,
    "start_time": "2021-08-21T20:06:25.851Z"
   },
   {
    "duration": 150,
    "start_time": "2021-08-21T20:06:25.992Z"
   },
   {
    "duration": 664,
    "start_time": "2021-08-21T20:06:26.144Z"
   },
   {
    "duration": 19,
    "start_time": "2021-08-21T20:06:26.809Z"
   },
   {
    "duration": 241,
    "start_time": "2021-08-21T20:06:26.830Z"
   },
   {
    "duration": 686,
    "start_time": "2021-08-21T20:06:27.073Z"
   },
   {
    "duration": 2162,
    "start_time": "2021-08-21T20:06:27.761Z"
   },
   {
    "duration": 21567,
    "start_time": "2021-08-21T20:06:29.925Z"
   },
   {
    "duration": 191,
    "start_time": "2021-08-21T20:06:51.494Z"
   },
   {
    "duration": 21799,
    "start_time": "2021-08-21T20:06:51.687Z"
   },
   {
    "duration": 5932,
    "start_time": "2021-08-21T20:07:13.489Z"
   },
   {
    "duration": 71720,
    "start_time": "2021-08-21T20:07:19.423Z"
   },
   {
    "duration": 315,
    "start_time": "2021-08-21T20:08:31.144Z"
   },
   {
    "duration": 1487,
    "start_time": "2021-08-21T20:08:29.974Z"
   },
   {
    "duration": 1476,
    "start_time": "2021-08-21T20:08:29.986Z"
   },
   {
    "duration": 1473,
    "start_time": "2021-08-21T20:08:29.990Z"
   },
   {
    "duration": 1461,
    "start_time": "2021-08-21T20:08:30.003Z"
   },
   {
    "duration": 1455,
    "start_time": "2021-08-21T20:08:30.010Z"
   },
   {
    "duration": 193,
    "start_time": "2021-08-21T20:09:02.020Z"
   },
   {
    "duration": 9,
    "start_time": "2021-08-21T20:09:08.332Z"
   },
   {
    "duration": 8,
    "start_time": "2021-08-21T20:09:09.543Z"
   },
   {
    "duration": 8,
    "start_time": "2021-08-21T20:09:09.905Z"
   },
   {
    "duration": 8,
    "start_time": "2021-08-21T20:09:10.828Z"
   },
   {
    "duration": 8,
    "start_time": "2021-08-21T20:09:11.365Z"
   },
   {
    "duration": 431,
    "start_time": "2021-08-21T20:09:13.134Z"
   },
   {
    "duration": 533,
    "start_time": "2021-08-21T20:15:01.477Z"
   },
   {
    "duration": 423,
    "start_time": "2021-08-21T20:15:35.929Z"
   },
   {
    "duration": 312,
    "start_time": "2021-08-21T20:15:42.529Z"
   },
   {
    "duration": 448,
    "start_time": "2021-08-21T20:15:46.851Z"
   },
   {
    "duration": 438,
    "start_time": "2021-08-21T20:16:07.696Z"
   },
   {
    "duration": 396,
    "start_time": "2021-08-21T20:16:57.939Z"
   },
   {
    "duration": 319,
    "start_time": "2021-08-21T20:17:25.740Z"
   },
   {
    "duration": 503,
    "start_time": "2021-08-21T20:17:35.252Z"
   },
   {
    "duration": 353,
    "start_time": "2021-08-21T20:18:08.139Z"
   },
   {
    "duration": 424,
    "start_time": "2021-08-21T20:18:12.806Z"
   },
   {
    "duration": 335,
    "start_time": "2021-08-21T20:19:07.738Z"
   },
   {
    "duration": 314,
    "start_time": "2021-08-21T20:19:26.481Z"
   },
   {
    "duration": 302,
    "start_time": "2021-08-21T20:20:28.022Z"
   },
   {
    "duration": 189,
    "start_time": "2021-08-21T20:22:37.577Z"
   },
   {
    "duration": 184,
    "start_time": "2021-08-21T20:22:51.190Z"
   },
   {
    "duration": 516,
    "start_time": "2021-08-21T20:29:16.373Z"
   },
   {
    "duration": 432,
    "start_time": "2021-08-21T20:29:29.922Z"
   },
   {
    "duration": 314,
    "start_time": "2021-08-21T20:29:43.557Z"
   },
   {
    "duration": 429,
    "start_time": "2021-08-21T20:30:52.217Z"
   },
   {
    "duration": 627,
    "start_time": "2021-08-21T20:31:14.978Z"
   },
   {
    "duration": 437,
    "start_time": "2021-08-21T20:31:24.319Z"
   },
   {
    "duration": 58,
    "start_time": "2021-08-21T20:31:38.984Z"
   },
   {
    "duration": 489,
    "start_time": "2021-08-21T20:31:42.600Z"
   },
   {
    "duration": 328,
    "start_time": "2021-08-21T20:32:13.275Z"
   },
   {
    "duration": 342,
    "start_time": "2021-08-21T20:32:36.994Z"
   },
   {
    "duration": 430,
    "start_time": "2021-08-21T20:32:53.711Z"
   },
   {
    "duration": 445,
    "start_time": "2021-08-21T20:33:24.101Z"
   },
   {
    "duration": 541,
    "start_time": "2021-08-21T20:34:01.039Z"
   },
   {
    "duration": 451,
    "start_time": "2021-08-21T20:34:07.034Z"
   },
   {
    "duration": 431,
    "start_time": "2021-08-21T20:34:13.557Z"
   },
   {
    "duration": 3004,
    "start_time": "2021-08-21T20:42:35.102Z"
   },
   {
    "duration": 768,
    "start_time": "2021-08-21T20:42:38.108Z"
   },
   {
    "duration": 8,
    "start_time": "2021-08-21T20:42:38.880Z"
   },
   {
    "duration": 135,
    "start_time": "2021-08-21T20:42:38.890Z"
   },
   {
    "duration": 121,
    "start_time": "2021-08-21T20:42:39.027Z"
   },
   {
    "duration": 420,
    "start_time": "2021-08-21T20:42:39.149Z"
   },
   {
    "duration": 19,
    "start_time": "2021-08-21T20:42:39.572Z"
   },
   {
    "duration": 284,
    "start_time": "2021-08-21T20:42:39.593Z"
   },
   {
    "duration": 6,
    "start_time": "2021-08-21T20:42:39.879Z"
   },
   {
    "duration": 369,
    "start_time": "2021-08-21T20:42:39.886Z"
   },
   {
    "duration": 36,
    "start_time": "2021-08-21T20:42:40.256Z"
   },
   {
    "duration": 45,
    "start_time": "2021-08-21T20:42:40.294Z"
   },
   {
    "duration": 65,
    "start_time": "2021-08-21T20:42:40.341Z"
   },
   {
    "duration": 33,
    "start_time": "2021-08-21T20:42:40.408Z"
   },
   {
    "duration": 246,
    "start_time": "2021-08-21T20:42:40.443Z"
   },
   {
    "duration": 15,
    "start_time": "2021-08-21T20:42:40.691Z"
   },
   {
    "duration": 24,
    "start_time": "2021-08-21T20:42:40.708Z"
   },
   {
    "duration": 53,
    "start_time": "2021-08-21T20:42:40.734Z"
   },
   {
    "duration": 7,
    "start_time": "2021-08-21T20:42:40.789Z"
   },
   {
    "duration": 6,
    "start_time": "2021-08-21T20:42:40.798Z"
   },
   {
    "duration": 4,
    "start_time": "2021-08-21T20:42:40.806Z"
   },
   {
    "duration": 31,
    "start_time": "2021-08-21T20:42:40.814Z"
   },
   {
    "duration": 15,
    "start_time": "2021-08-21T20:42:40.848Z"
   },
   {
    "duration": 50,
    "start_time": "2021-08-21T20:42:40.884Z"
   },
   {
    "duration": 50,
    "start_time": "2021-08-21T20:42:40.935Z"
   },
   {
    "duration": 28,
    "start_time": "2021-08-21T20:42:40.986Z"
   },
   {
    "duration": 31,
    "start_time": "2021-08-21T20:42:41.016Z"
   },
   {
    "duration": 56,
    "start_time": "2021-08-21T20:42:41.048Z"
   },
   {
    "duration": 14,
    "start_time": "2021-08-21T20:42:41.105Z"
   },
   {
    "duration": 36,
    "start_time": "2021-08-21T20:42:41.120Z"
   },
   {
    "duration": 86,
    "start_time": "2021-08-21T20:42:41.158Z"
   },
   {
    "duration": 3,
    "start_time": "2021-08-21T20:42:41.245Z"
   },
   {
    "duration": 12,
    "start_time": "2021-08-21T20:42:41.250Z"
   },
   {
    "duration": 17,
    "start_time": "2021-08-21T20:42:41.263Z"
   },
   {
    "duration": 4855,
    "start_time": "2021-08-21T20:42:41.282Z"
   },
   {
    "duration": 151,
    "start_time": "2021-08-21T20:42:46.139Z"
   },
   {
    "duration": 161,
    "start_time": "2021-08-21T20:42:46.292Z"
   },
   {
    "duration": 656,
    "start_time": "2021-08-21T20:42:46.455Z"
   },
   {
    "duration": 16,
    "start_time": "2021-08-21T20:42:47.113Z"
   },
   {
    "duration": 276,
    "start_time": "2021-08-21T20:42:47.130Z"
   },
   {
    "duration": 735,
    "start_time": "2021-08-21T20:42:47.408Z"
   },
   {
    "duration": 2161,
    "start_time": "2021-08-21T20:42:48.145Z"
   },
   {
    "duration": 21284,
    "start_time": "2021-08-21T20:42:50.308Z"
   },
   {
    "duration": 191,
    "start_time": "2021-08-21T20:43:11.594Z"
   },
   {
    "duration": 22312,
    "start_time": "2021-08-21T20:43:11.787Z"
   },
   {
    "duration": 5973,
    "start_time": "2021-08-21T20:43:34.192Z"
   },
   {
    "duration": 71826,
    "start_time": "2021-08-21T20:43:40.167Z"
   },
   {
    "duration": 9,
    "start_time": "2021-08-21T20:44:51.996Z"
   },
   {
    "duration": 18,
    "start_time": "2021-08-21T20:44:52.007Z"
   },
   {
    "duration": 38,
    "start_time": "2021-08-21T20:44:52.027Z"
   },
   {
    "duration": 21,
    "start_time": "2021-08-21T20:44:52.067Z"
   },
   {
    "duration": 21,
    "start_time": "2021-08-21T20:44:52.090Z"
   },
   {
    "duration": 476,
    "start_time": "2021-08-21T20:44:52.113Z"
   },
   {
    "duration": 4722,
    "start_time": "2021-08-22T06:49:09.192Z"
   },
   {
    "duration": 1016,
    "start_time": "2021-08-22T06:49:13.917Z"
   },
   {
    "duration": 8,
    "start_time": "2021-08-22T06:49:14.935Z"
   },
   {
    "duration": 176,
    "start_time": "2021-08-22T06:49:14.946Z"
   },
   {
    "duration": 159,
    "start_time": "2021-08-22T06:49:15.125Z"
   },
   {
    "duration": 572,
    "start_time": "2021-08-22T06:49:15.286Z"
   },
   {
    "duration": 29,
    "start_time": "2021-08-22T06:49:15.860Z"
   },
   {
    "duration": 349,
    "start_time": "2021-08-22T06:49:15.892Z"
   },
   {
    "duration": 3,
    "start_time": "2021-08-22T06:49:16.246Z"
   },
   {
    "duration": 523,
    "start_time": "2021-08-22T06:49:16.253Z"
   },
   {
    "duration": 48,
    "start_time": "2021-08-22T06:49:16.778Z"
   },
   {
    "duration": 77,
    "start_time": "2021-08-22T06:49:16.828Z"
   },
   {
    "duration": 77,
    "start_time": "2021-08-22T06:49:16.907Z"
   },
   {
    "duration": 40,
    "start_time": "2021-08-22T06:49:16.986Z"
   },
   {
    "duration": 376,
    "start_time": "2021-08-22T06:49:19.508Z"
   },
   {
    "duration": 21,
    "start_time": "2021-08-22T06:49:22.690Z"
   },
   {
    "duration": 21,
    "start_time": "2021-08-22T06:49:38.872Z"
   },
   {
    "duration": 4388,
    "start_time": "2021-08-22T06:49:56.806Z"
   },
   {
    "duration": 1079,
    "start_time": "2021-08-22T06:50:01.196Z"
   },
   {
    "duration": 7,
    "start_time": "2021-08-22T06:50:02.278Z"
   },
   {
    "duration": 160,
    "start_time": "2021-08-22T06:50:02.288Z"
   },
   {
    "duration": 150,
    "start_time": "2021-08-22T06:50:02.450Z"
   },
   {
    "duration": 593,
    "start_time": "2021-08-22T06:50:02.602Z"
   },
   {
    "duration": 22,
    "start_time": "2021-08-22T06:50:03.197Z"
   },
   {
    "duration": 365,
    "start_time": "2021-08-22T06:50:03.223Z"
   },
   {
    "duration": 3,
    "start_time": "2021-08-22T06:50:03.590Z"
   },
   {
    "duration": 520,
    "start_time": "2021-08-22T06:50:03.595Z"
   },
   {
    "duration": 44,
    "start_time": "2021-08-22T06:50:04.118Z"
   },
   {
    "duration": 68,
    "start_time": "2021-08-22T06:50:04.164Z"
   },
   {
    "duration": 76,
    "start_time": "2021-08-22T06:50:04.234Z"
   },
   {
    "duration": 40,
    "start_time": "2021-08-22T06:50:04.313Z"
   },
   {
    "duration": 386,
    "start_time": "2021-08-22T06:50:04.356Z"
   },
   {
    "duration": 38,
    "start_time": "2021-08-22T06:50:04.744Z"
   },
   {
    "duration": 4,
    "start_time": "2021-08-22T06:50:24.181Z"
   },
   {
    "duration": 3,
    "start_time": "2021-08-22T06:50:26.214Z"
   },
   {
    "duration": 17,
    "start_time": "2021-08-22T06:51:02.226Z"
   },
   {
    "duration": 16,
    "start_time": "2021-08-22T06:51:04.564Z"
   },
   {
    "duration": 9,
    "start_time": "2021-08-22T06:51:10.904Z"
   },
   {
    "duration": 24,
    "start_time": "2021-08-22T06:52:05.723Z"
   },
   {
    "duration": 28,
    "start_time": "2021-08-22T06:52:20.136Z"
   },
   {
    "duration": 27,
    "start_time": "2021-08-22T06:52:29.260Z"
   },
   {
    "duration": 27,
    "start_time": "2021-08-22T06:52:35.000Z"
   },
   {
    "duration": 6610,
    "start_time": "2021-08-22T06:54:14.843Z"
   },
   {
    "duration": 23,
    "start_time": "2021-08-22T06:55:34.721Z"
   },
   {
    "duration": -130,
    "start_time": "2021-08-22T06:57:02.864Z"
   },
   {
    "duration": 6442,
    "start_time": "2021-08-22T06:57:11.723Z"
   },
   {
    "duration": 6501,
    "start_time": "2021-08-22T06:57:54.244Z"
   },
   {
    "duration": 6265,
    "start_time": "2021-08-22T06:58:03.665Z"
   },
   {
    "duration": -71,
    "start_time": "2021-08-22T06:58:10.004Z"
   },
   {
    "duration": 28,
    "start_time": "2021-08-22T06:58:42.416Z"
   },
   {
    "duration": -127,
    "start_time": "2021-08-22T07:01:59.512Z"
   },
   {
    "duration": 6754,
    "start_time": "2021-08-22T07:02:01.604Z"
   },
   {
    "duration": 300,
    "start_time": "2021-08-22T07:06:10.757Z"
   },
   {
    "duration": 307,
    "start_time": "2021-08-22T07:06:16.140Z"
   },
   {
    "duration": 100,
    "start_time": "2021-08-22T07:06:56.544Z"
   },
   {
    "duration": 81,
    "start_time": "2021-08-22T07:07:02.255Z"
   },
   {
    "duration": 61,
    "start_time": "2021-08-22T07:07:24.140Z"
   },
   {
    "duration": 2967,
    "start_time": "2021-08-22T07:07:40.183Z"
   },
   {
    "duration": 981,
    "start_time": "2021-08-22T07:07:43.153Z"
   },
   {
    "duration": 6,
    "start_time": "2021-08-22T07:07:44.136Z"
   },
   {
    "duration": 163,
    "start_time": "2021-08-22T07:07:44.145Z"
   },
   {
    "duration": 157,
    "start_time": "2021-08-22T07:07:44.311Z"
   },
   {
    "duration": 495,
    "start_time": "2021-08-22T07:07:44.470Z"
   },
   {
    "duration": 28,
    "start_time": "2021-08-22T07:07:44.968Z"
   },
   {
    "duration": 307,
    "start_time": "2021-08-22T07:07:44.999Z"
   },
   {
    "duration": 3,
    "start_time": "2021-08-22T07:07:45.309Z"
   },
   {
    "duration": 444,
    "start_time": "2021-08-22T07:07:45.314Z"
   },
   {
    "duration": 47,
    "start_time": "2021-08-22T07:07:45.761Z"
   },
   {
    "duration": 73,
    "start_time": "2021-08-22T07:07:45.810Z"
   },
   {
    "duration": 61,
    "start_time": "2021-08-22T07:07:45.886Z"
   },
   {
    "duration": 54,
    "start_time": "2021-08-22T07:07:45.949Z"
   },
   {
    "duration": 395,
    "start_time": "2021-08-22T07:07:46.005Z"
   },
   {
    "duration": 18,
    "start_time": "2021-08-22T07:07:46.402Z"
   },
   {
    "duration": 3,
    "start_time": "2021-08-22T07:07:46.423Z"
   },
   {
    "duration": 67,
    "start_time": "2021-08-22T07:08:11.382Z"
   },
   {
    "duration": 38,
    "start_time": "2021-08-22T07:08:22.952Z"
   },
   {
    "duration": 284,
    "start_time": "2021-08-22T07:08:49.615Z"
   },
   {
    "duration": 10,
    "start_time": "2021-08-22T07:09:01.183Z"
   },
   {
    "duration": 55,
    "start_time": "2021-08-22T07:09:38.642Z"
   },
   {
    "duration": 2324,
    "start_time": "2021-08-22T07:09:54.383Z"
   },
   {
    "duration": 2974,
    "start_time": "2021-08-22T07:10:58.457Z"
   },
   {
    "duration": 961,
    "start_time": "2021-08-22T07:11:01.434Z"
   },
   {
    "duration": 5,
    "start_time": "2021-08-22T07:11:02.398Z"
   },
   {
    "duration": 166,
    "start_time": "2021-08-22T07:11:02.405Z"
   },
   {
    "duration": 147,
    "start_time": "2021-08-22T07:11:02.573Z"
   },
   {
    "duration": 519,
    "start_time": "2021-08-22T07:11:02.723Z"
   },
   {
    "duration": 20,
    "start_time": "2021-08-22T07:11:03.244Z"
   },
   {
    "duration": 284,
    "start_time": "2021-08-22T07:11:03.284Z"
   },
   {
    "duration": 3,
    "start_time": "2021-08-22T07:11:03.571Z"
   },
   {
    "duration": 432,
    "start_time": "2021-08-22T07:11:03.582Z"
   },
   {
    "duration": 46,
    "start_time": "2021-08-22T07:11:04.016Z"
   },
   {
    "duration": 69,
    "start_time": "2021-08-22T07:11:04.064Z"
   },
   {
    "duration": 75,
    "start_time": "2021-08-22T07:11:04.135Z"
   },
   {
    "duration": 39,
    "start_time": "2021-08-22T07:11:04.212Z"
   },
   {
    "duration": 388,
    "start_time": "2021-08-22T07:11:04.253Z"
   },
   {
    "duration": 19,
    "start_time": "2021-08-22T07:11:04.643Z"
   },
   {
    "duration": 17,
    "start_time": "2021-08-22T07:11:04.665Z"
   },
   {
    "duration": 59,
    "start_time": "2021-08-22T07:11:07.077Z"
   },
   {
    "duration": 29,
    "start_time": "2021-08-22T07:11:36.837Z"
   },
   {
    "duration": 80,
    "start_time": "2021-08-22T07:14:05.127Z"
   },
   {
    "duration": 19,
    "start_time": "2021-08-22T07:14:08.950Z"
   },
   {
    "duration": 19,
    "start_time": "2021-08-22T07:14:11.675Z"
   },
   {
    "duration": 78,
    "start_time": "2021-08-22T07:14:38.910Z"
   },
   {
    "duration": 82,
    "start_time": "2021-08-22T07:14:45.645Z"
   },
   {
    "duration": 115,
    "start_time": "2021-08-22T07:14:51.149Z"
   },
   {
    "duration": 19,
    "start_time": "2021-08-22T07:14:54.792Z"
   },
   {
    "duration": 19,
    "start_time": "2021-08-22T07:14:56.443Z"
   },
   {
    "duration": 85,
    "start_time": "2021-08-22T07:14:57.683Z"
   },
   {
    "duration": 21,
    "start_time": "2021-08-22T07:14:59.327Z"
   },
   {
    "duration": 81,
    "start_time": "2021-08-22T07:15:02.046Z"
   },
   {
    "duration": 20,
    "start_time": "2021-08-22T07:15:03.497Z"
   },
   {
    "duration": 82,
    "start_time": "2021-08-22T07:15:05.087Z"
   },
   {
    "duration": 20,
    "start_time": "2021-08-22T07:15:06.367Z"
   },
   {
    "duration": 2875,
    "start_time": "2021-08-22T07:15:11.824Z"
   },
   {
    "duration": 956,
    "start_time": "2021-08-22T07:15:14.702Z"
   },
   {
    "duration": 5,
    "start_time": "2021-08-22T07:15:15.661Z"
   },
   {
    "duration": 158,
    "start_time": "2021-08-22T07:15:15.669Z"
   },
   {
    "duration": 150,
    "start_time": "2021-08-22T07:15:15.830Z"
   },
   {
    "duration": 517,
    "start_time": "2021-08-22T07:15:15.983Z"
   },
   {
    "duration": 20,
    "start_time": "2021-08-22T07:15:16.502Z"
   },
   {
    "duration": 308,
    "start_time": "2021-08-22T07:15:16.525Z"
   },
   {
    "duration": 4,
    "start_time": "2021-08-22T07:15:16.835Z"
   },
   {
    "duration": 441,
    "start_time": "2021-08-22T07:15:16.841Z"
   },
   {
    "duration": 45,
    "start_time": "2021-08-22T07:15:17.284Z"
   },
   {
    "duration": 75,
    "start_time": "2021-08-22T07:15:17.331Z"
   },
   {
    "duration": 80,
    "start_time": "2021-08-22T07:15:17.408Z"
   },
   {
    "duration": 40,
    "start_time": "2021-08-22T07:15:17.491Z"
   },
   {
    "duration": 463,
    "start_time": "2021-08-22T07:15:17.534Z"
   },
   {
    "duration": 20,
    "start_time": "2021-08-22T07:15:17.999Z"
   },
   {
    "duration": 4,
    "start_time": "2021-08-22T07:15:18.021Z"
   },
   {
    "duration": 107,
    "start_time": "2021-08-22T07:15:18.027Z"
   },
   {
    "duration": 19,
    "start_time": "2021-08-22T07:15:24.270Z"
   },
   {
    "duration": 20,
    "start_time": "2021-08-22T07:15:27.744Z"
   },
   {
    "duration": 83,
    "start_time": "2021-08-22T07:15:29.427Z"
   },
   {
    "duration": 20,
    "start_time": "2021-08-22T07:15:30.966Z"
   },
   {
    "duration": 2936,
    "start_time": "2021-08-22T07:15:38.102Z"
   },
   {
    "duration": 937,
    "start_time": "2021-08-22T07:15:41.040Z"
   },
   {
    "duration": 6,
    "start_time": "2021-08-22T07:15:41.982Z"
   },
   {
    "duration": 171,
    "start_time": "2021-08-22T07:15:41.991Z"
   },
   {
    "duration": 166,
    "start_time": "2021-08-22T07:15:42.165Z"
   },
   {
    "duration": 550,
    "start_time": "2021-08-22T07:15:42.334Z"
   },
   {
    "duration": 21,
    "start_time": "2021-08-22T07:15:42.886Z"
   },
   {
    "duration": 320,
    "start_time": "2021-08-22T07:15:42.911Z"
   },
   {
    "duration": 4,
    "start_time": "2021-08-22T07:15:43.234Z"
   },
   {
    "duration": 457,
    "start_time": "2021-08-22T07:15:43.241Z"
   },
   {
    "duration": 56,
    "start_time": "2021-08-22T07:15:43.700Z"
   },
   {
    "duration": 73,
    "start_time": "2021-08-22T07:15:43.759Z"
   },
   {
    "duration": 77,
    "start_time": "2021-08-22T07:15:43.835Z"
   },
   {
    "duration": 41,
    "start_time": "2021-08-22T07:15:43.915Z"
   },
   {
    "duration": 423,
    "start_time": "2021-08-22T07:15:43.959Z"
   },
   {
    "duration": 21,
    "start_time": "2021-08-22T07:15:44.384Z"
   },
   {
    "duration": 9,
    "start_time": "2021-08-22T07:15:44.407Z"
   },
   {
    "duration": 97,
    "start_time": "2021-08-22T07:18:06.487Z"
   },
   {
    "duration": 90,
    "start_time": "2021-08-22T07:18:14.590Z"
   },
   {
    "duration": 84,
    "start_time": "2021-08-22T07:18:31.139Z"
   },
   {
    "duration": 412,
    "start_time": "2021-08-22T07:19:05.598Z"
   },
   {
    "duration": 20,
    "start_time": "2021-08-22T07:19:11.835Z"
   },
   {
    "duration": 409,
    "start_time": "2021-08-22T07:19:13.908Z"
   },
   {
    "duration": 20,
    "start_time": "2021-08-22T07:19:15.596Z"
   },
   {
    "duration": 424,
    "start_time": "2021-08-22T07:19:29.007Z"
   },
   {
    "duration": 36,
    "start_time": "2021-08-22T07:21:30.356Z"
   },
   {
    "duration": 68,
    "start_time": "2021-08-22T07:24:35.232Z"
   },
   {
    "duration": 33,
    "start_time": "2021-08-22T07:24:37.006Z"
   },
   {
    "duration": 387,
    "start_time": "2021-08-22T07:24:50.624Z"
   },
   {
    "duration": 4450,
    "start_time": "2021-08-22T07:27:55.635Z"
   },
   {
    "duration": 4413,
    "start_time": "2021-08-22T07:28:31.664Z"
   },
   {
    "duration": 4478,
    "start_time": "2021-08-22T07:28:47.789Z"
   },
   {
    "duration": 4625,
    "start_time": "2021-08-22T07:29:00.745Z"
   },
   {
    "duration": 4444,
    "start_time": "2021-08-22T07:29:15.550Z"
   },
   {
    "duration": 4332,
    "start_time": "2021-08-22T07:29:25.388Z"
   },
   {
    "duration": 663,
    "start_time": "2021-08-22T07:30:18.234Z"
   },
   {
    "duration": 350,
    "start_time": "2021-08-22T07:32:21.741Z"
   },
   {
    "duration": 534,
    "start_time": "2021-08-22T07:33:15.890Z"
   },
   {
    "duration": 383,
    "start_time": "2021-08-22T07:33:44.978Z"
   },
   {
    "duration": 397,
    "start_time": "2021-08-22T07:36:53.645Z"
   },
   {
    "duration": 349,
    "start_time": "2021-08-22T07:36:57.532Z"
   },
   {
    "duration": 671,
    "start_time": "2021-08-22T07:37:22.110Z"
   },
   {
    "duration": 266,
    "start_time": "2021-08-22T07:38:14.707Z"
   },
   {
    "duration": 2903,
    "start_time": "2021-08-22T07:38:33.953Z"
   },
   {
    "duration": 993,
    "start_time": "2021-08-22T07:38:36.860Z"
   },
   {
    "duration": 6,
    "start_time": "2021-08-22T07:38:37.856Z"
   },
   {
    "duration": 177,
    "start_time": "2021-08-22T07:38:37.865Z"
   },
   {
    "duration": 174,
    "start_time": "2021-08-22T07:38:38.045Z"
   },
   {
    "duration": 514,
    "start_time": "2021-08-22T07:38:38.222Z"
   },
   {
    "duration": 19,
    "start_time": "2021-08-22T07:38:38.738Z"
   },
   {
    "duration": 293,
    "start_time": "2021-08-22T07:38:38.759Z"
   },
   {
    "duration": 3,
    "start_time": "2021-08-22T07:38:39.055Z"
   },
   {
    "duration": 440,
    "start_time": "2021-08-22T07:38:39.060Z"
   },
   {
    "duration": 46,
    "start_time": "2021-08-22T07:38:39.502Z"
   },
   {
    "duration": 75,
    "start_time": "2021-08-22T07:38:39.550Z"
   },
   {
    "duration": 73,
    "start_time": "2021-08-22T07:38:39.627Z"
   },
   {
    "duration": 40,
    "start_time": "2021-08-22T07:38:39.703Z"
   },
   {
    "duration": 388,
    "start_time": "2021-08-22T07:38:39.746Z"
   },
   {
    "duration": 336,
    "start_time": "2021-08-22T07:38:40.137Z"
   },
   {
    "duration": 378,
    "start_time": "2021-08-22T07:38:44.791Z"
   },
   {
    "duration": 360,
    "start_time": "2021-08-22T07:38:53.097Z"
   },
   {
    "duration": 34,
    "start_time": "2021-08-22T07:39:00.326Z"
   },
   {
    "duration": 72,
    "start_time": "2021-08-22T07:39:13.542Z"
   },
   {
    "duration": 35,
    "start_time": "2021-08-22T07:39:16.492Z"
   },
   {
    "duration": 34,
    "start_time": "2021-08-22T07:39:18.813Z"
   },
   {
    "duration": 40,
    "start_time": "2021-08-22T07:39:19.308Z"
   },
   {
    "duration": 25,
    "start_time": "2021-08-22T07:45:00.581Z"
   },
   {
    "duration": 314,
    "start_time": "2021-08-22T07:45:08.261Z"
   },
   {
    "duration": 22,
    "start_time": "2021-08-22T07:45:10.837Z"
   },
   {
    "duration": 34,
    "start_time": "2021-08-22T07:45:18.197Z"
   },
   {
    "duration": 4475,
    "start_time": "2021-08-22T07:45:30.490Z"
   },
   {
    "duration": 1026,
    "start_time": "2021-08-22T07:45:34.967Z"
   },
   {
    "duration": 6,
    "start_time": "2021-08-22T07:45:35.996Z"
   },
   {
    "duration": 173,
    "start_time": "2021-08-22T07:45:36.005Z"
   },
   {
    "duration": 152,
    "start_time": "2021-08-22T07:45:36.183Z"
   },
   {
    "duration": 545,
    "start_time": "2021-08-22T07:45:36.338Z"
   },
   {
    "duration": 22,
    "start_time": "2021-08-22T07:45:36.886Z"
   },
   {
    "duration": 363,
    "start_time": "2021-08-22T07:45:36.912Z"
   },
   {
    "duration": 6,
    "start_time": "2021-08-22T07:45:37.278Z"
   },
   {
    "duration": 490,
    "start_time": "2021-08-22T07:45:37.286Z"
   },
   {
    "duration": 44,
    "start_time": "2021-08-22T07:45:37.778Z"
   },
   {
    "duration": 73,
    "start_time": "2021-08-22T07:45:37.824Z"
   },
   {
    "duration": 61,
    "start_time": "2021-08-22T07:45:37.900Z"
   },
   {
    "duration": 56,
    "start_time": "2021-08-22T07:45:37.964Z"
   },
   {
    "duration": 393,
    "start_time": "2021-08-22T07:45:38.022Z"
   },
   {
    "duration": 324,
    "start_time": "2021-08-22T07:45:38.417Z"
   },
   {
    "duration": 45,
    "start_time": "2021-08-22T07:45:38.743Z"
   },
   {
    "duration": 93,
    "start_time": "2021-08-22T07:45:38.790Z"
   },
   {
    "duration": 3,
    "start_time": "2021-08-22T07:45:38.885Z"
   },
   {
    "duration": 47,
    "start_time": "2021-08-22T07:45:38.891Z"
   },
   {
    "duration": 19,
    "start_time": "2021-08-22T07:45:38.941Z"
   },
   {
    "duration": 73,
    "start_time": "2021-08-22T07:45:38.982Z"
   },
   {
    "duration": 4022,
    "start_time": "2021-08-22T07:45:39.061Z"
   },
   {
    "duration": 815,
    "start_time": "2021-08-22T07:45:43.087Z"
   },
   {
    "duration": -98,
    "start_time": "2021-08-22T07:45:44.003Z"
   },
   {
    "duration": -101,
    "start_time": "2021-08-22T07:45:44.008Z"
   },
   {
    "duration": -105,
    "start_time": "2021-08-22T07:45:44.014Z"
   },
   {
    "duration": -107,
    "start_time": "2021-08-22T07:45:44.018Z"
   },
   {
    "duration": -109,
    "start_time": "2021-08-22T07:45:44.022Z"
   },
   {
    "duration": -112,
    "start_time": "2021-08-22T07:45:44.027Z"
   },
   {
    "duration": -117,
    "start_time": "2021-08-22T07:45:44.034Z"
   },
   {
    "duration": -119,
    "start_time": "2021-08-22T07:45:44.038Z"
   },
   {
    "duration": -121,
    "start_time": "2021-08-22T07:45:44.042Z"
   },
   {
    "duration": -122,
    "start_time": "2021-08-22T07:45:44.045Z"
   },
   {
    "duration": -132,
    "start_time": "2021-08-22T07:45:44.057Z"
   },
   {
    "duration": -134,
    "start_time": "2021-08-22T07:45:44.061Z"
   },
   {
    "duration": -136,
    "start_time": "2021-08-22T07:45:44.065Z"
   },
   {
    "duration": -138,
    "start_time": "2021-08-22T07:45:44.069Z"
   },
   {
    "duration": -140,
    "start_time": "2021-08-22T07:45:44.073Z"
   },
   {
    "duration": -142,
    "start_time": "2021-08-22T07:45:44.077Z"
   },
   {
    "duration": -144,
    "start_time": "2021-08-22T07:45:44.081Z"
   },
   {
    "duration": -146,
    "start_time": "2021-08-22T07:45:44.085Z"
   },
   {
    "duration": -148,
    "start_time": "2021-08-22T07:45:44.089Z"
   },
   {
    "duration": -153,
    "start_time": "2021-08-22T07:45:44.095Z"
   },
   {
    "duration": -117,
    "start_time": "2021-08-22T07:45:44.099Z"
   },
   {
    "duration": -119,
    "start_time": "2021-08-22T07:45:44.104Z"
   },
   {
    "duration": -121,
    "start_time": "2021-08-22T07:45:44.108Z"
   },
   {
    "duration": -123,
    "start_time": "2021-08-22T07:45:44.112Z"
   },
   {
    "duration": -124,
    "start_time": "2021-08-22T07:45:44.116Z"
   },
   {
    "duration": -126,
    "start_time": "2021-08-22T07:45:44.120Z"
   },
   {
    "duration": -128,
    "start_time": "2021-08-22T07:45:44.124Z"
   },
   {
    "duration": -130,
    "start_time": "2021-08-22T07:45:44.128Z"
   },
   {
    "duration": -131,
    "start_time": "2021-08-22T07:45:44.131Z"
   },
   {
    "duration": -132,
    "start_time": "2021-08-22T07:45:44.135Z"
   },
   {
    "duration": 347,
    "start_time": "2021-08-22T07:48:31.781Z"
   },
   {
    "duration": 341,
    "start_time": "2021-08-22T07:48:47.843Z"
   },
   {
    "duration": 348,
    "start_time": "2021-08-22T07:49:02.040Z"
   },
   {
    "duration": 666,
    "start_time": "2021-08-22T07:49:07.992Z"
   },
   {
    "duration": 339,
    "start_time": "2021-08-22T07:49:14.434Z"
   },
   {
    "duration": 646,
    "start_time": "2021-08-22T07:49:36.760Z"
   },
   {
    "duration": 696,
    "start_time": "2021-08-22T07:49:55.896Z"
   },
   {
    "duration": 693,
    "start_time": "2021-08-22T07:54:09.816Z"
   },
   {
    "duration": 694,
    "start_time": "2021-08-22T07:54:29.255Z"
   },
   {
    "duration": 613,
    "start_time": "2021-08-22T07:56:30.849Z"
   },
   {
    "duration": 644,
    "start_time": "2021-08-22T07:56:49.995Z"
   },
   {
    "duration": 753,
    "start_time": "2021-08-22T08:00:25.693Z"
   },
   {
    "duration": 670,
    "start_time": "2021-08-22T08:01:10.241Z"
   },
   {
    "duration": 3351,
    "start_time": "2021-08-22T08:03:17.993Z"
   },
   {
    "duration": 993,
    "start_time": "2021-08-22T08:03:21.347Z"
   },
   {
    "duration": 5,
    "start_time": "2021-08-22T08:03:22.343Z"
   },
   {
    "duration": 163,
    "start_time": "2021-08-22T08:03:22.351Z"
   },
   {
    "duration": 149,
    "start_time": "2021-08-22T08:03:22.516Z"
   },
   {
    "duration": 511,
    "start_time": "2021-08-22T08:03:22.667Z"
   },
   {
    "duration": 18,
    "start_time": "2021-08-22T08:03:23.183Z"
   },
   {
    "duration": 293,
    "start_time": "2021-08-22T08:03:23.205Z"
   },
   {
    "duration": 2,
    "start_time": "2021-08-22T08:03:23.501Z"
   },
   {
    "duration": 455,
    "start_time": "2021-08-22T08:03:23.505Z"
   },
   {
    "duration": 49,
    "start_time": "2021-08-22T08:03:23.962Z"
   },
   {
    "duration": 78,
    "start_time": "2021-08-22T08:03:24.013Z"
   },
   {
    "duration": 65,
    "start_time": "2021-08-22T08:03:24.093Z"
   },
   {
    "duration": 58,
    "start_time": "2021-08-22T08:03:24.160Z"
   },
   {
    "duration": 375,
    "start_time": "2021-08-22T08:03:24.221Z"
   },
   {
    "duration": 315,
    "start_time": "2021-08-22T08:03:28.875Z"
   },
   {
    "duration": 334,
    "start_time": "2021-08-22T08:03:31.494Z"
   },
   {
    "duration": 316,
    "start_time": "2021-08-22T08:03:33.566Z"
   },
   {
    "duration": 34,
    "start_time": "2021-08-22T08:03:34.485Z"
   },
   {
    "duration": 68,
    "start_time": "2021-08-22T08:03:36.529Z"
   },
   {
    "duration": 640,
    "start_time": "2021-08-22T08:03:38.179Z"
   },
   {
    "duration": 2946,
    "start_time": "2021-08-22T08:04:02.644Z"
   },
   {
    "duration": 954,
    "start_time": "2021-08-22T08:04:05.593Z"
   },
   {
    "duration": 5,
    "start_time": "2021-08-22T08:04:06.550Z"
   },
   {
    "duration": 158,
    "start_time": "2021-08-22T08:04:06.557Z"
   },
   {
    "duration": 160,
    "start_time": "2021-08-22T08:04:06.717Z"
   },
   {
    "duration": 501,
    "start_time": "2021-08-22T08:04:06.883Z"
   },
   {
    "duration": 19,
    "start_time": "2021-08-22T08:04:07.386Z"
   },
   {
    "duration": 297,
    "start_time": "2021-08-22T08:04:07.409Z"
   },
   {
    "duration": 3,
    "start_time": "2021-08-22T08:04:07.708Z"
   },
   {
    "duration": 458,
    "start_time": "2021-08-22T08:04:07.713Z"
   },
   {
    "duration": 44,
    "start_time": "2021-08-22T08:04:08.173Z"
   },
   {
    "duration": 74,
    "start_time": "2021-08-22T08:04:08.219Z"
   },
   {
    "duration": 63,
    "start_time": "2021-08-22T08:04:08.296Z"
   },
   {
    "duration": 46,
    "start_time": "2021-08-22T08:04:08.383Z"
   },
   {
    "duration": 378,
    "start_time": "2021-08-22T08:04:08.432Z"
   },
   {
    "duration": 327,
    "start_time": "2021-08-22T08:04:08.813Z"
   },
   {
    "duration": 67,
    "start_time": "2021-08-22T08:04:24.386Z"
   },
   {
    "duration": 19,
    "start_time": "2021-08-22T08:04:37.362Z"
   },
   {
    "duration": 658,
    "start_time": "2021-08-22T08:05:56.215Z"
   },
   {
    "duration": 3176,
    "start_time": "2021-08-22T08:06:01.856Z"
   },
   {
    "duration": 963,
    "start_time": "2021-08-22T08:06:05.035Z"
   },
   {
    "duration": 6,
    "start_time": "2021-08-22T08:06:06.001Z"
   },
   {
    "duration": 173,
    "start_time": "2021-08-22T08:06:06.011Z"
   },
   {
    "duration": 156,
    "start_time": "2021-08-22T08:06:06.187Z"
   },
   {
    "duration": 488,
    "start_time": "2021-08-22T08:06:06.346Z"
   },
   {
    "duration": 20,
    "start_time": "2021-08-22T08:06:06.837Z"
   },
   {
    "duration": 325,
    "start_time": "2021-08-22T08:06:06.861Z"
   },
   {
    "duration": 3,
    "start_time": "2021-08-22T08:06:07.188Z"
   },
   {
    "duration": 436,
    "start_time": "2021-08-22T08:06:07.193Z"
   },
   {
    "duration": 53,
    "start_time": "2021-08-22T08:06:07.631Z"
   },
   {
    "duration": 58,
    "start_time": "2021-08-22T08:06:07.686Z"
   },
   {
    "duration": 82,
    "start_time": "2021-08-22T08:06:07.747Z"
   },
   {
    "duration": 55,
    "start_time": "2021-08-22T08:06:07.831Z"
   },
   {
    "duration": 375,
    "start_time": "2021-08-22T08:06:07.889Z"
   },
   {
    "duration": 325,
    "start_time": "2021-08-22T08:06:08.267Z"
   },
   {
    "duration": 33,
    "start_time": "2021-08-22T08:06:12.504Z"
   },
   {
    "duration": 79,
    "start_time": "2021-08-22T08:06:15.052Z"
   },
   {
    "duration": 613,
    "start_time": "2021-08-22T08:06:37.249Z"
   },
   {
    "duration": 691,
    "start_time": "2021-08-22T08:14:37.366Z"
   },
   {
    "duration": 2967,
    "start_time": "2021-08-22T08:16:02.419Z"
   },
   {
    "duration": 930,
    "start_time": "2021-08-22T08:16:05.389Z"
   },
   {
    "duration": 5,
    "start_time": "2021-08-22T08:16:06.322Z"
   },
   {
    "duration": 161,
    "start_time": "2021-08-22T08:16:06.329Z"
   },
   {
    "duration": 152,
    "start_time": "2021-08-22T08:16:06.493Z"
   },
   {
    "duration": 494,
    "start_time": "2021-08-22T08:16:06.647Z"
   },
   {
    "duration": 20,
    "start_time": "2021-08-22T08:16:07.143Z"
   },
   {
    "duration": 288,
    "start_time": "2021-08-22T08:16:07.191Z"
   },
   {
    "duration": 3,
    "start_time": "2021-08-22T08:16:07.483Z"
   },
   {
    "duration": 442,
    "start_time": "2021-08-22T08:16:07.488Z"
   },
   {
    "duration": 52,
    "start_time": "2021-08-22T08:16:07.932Z"
   },
   {
    "duration": 57,
    "start_time": "2021-08-22T08:16:07.986Z"
   },
   {
    "duration": 81,
    "start_time": "2021-08-22T08:16:08.045Z"
   },
   {
    "duration": 54,
    "start_time": "2021-08-22T08:16:08.128Z"
   },
   {
    "duration": 381,
    "start_time": "2021-08-22T08:16:08.184Z"
   },
   {
    "duration": 308,
    "start_time": "2021-08-22T08:16:08.568Z"
   },
   {
    "duration": 32,
    "start_time": "2021-08-22T08:16:08.878Z"
   },
   {
    "duration": 9,
    "start_time": "2021-08-22T08:16:08.912Z"
   },
   {
    "duration": 22,
    "start_time": "2021-08-22T08:16:08.924Z"
   },
   {
    "duration": 5,
    "start_time": "2021-08-22T08:16:08.948Z"
   },
   {
    "duration": 62,
    "start_time": "2021-08-22T08:16:08.956Z"
   },
   {
    "duration": 19,
    "start_time": "2021-08-22T08:16:09.020Z"
   },
   {
    "duration": 88,
    "start_time": "2021-08-22T08:16:09.043Z"
   },
   {
    "duration": 4042,
    "start_time": "2021-08-22T08:16:09.134Z"
   },
   {
    "duration": 698,
    "start_time": "2021-08-22T08:16:13.182Z"
   },
   {
    "duration": -124,
    "start_time": "2021-08-22T08:16:14.007Z"
   },
   {
    "duration": -128,
    "start_time": "2021-08-22T08:16:14.012Z"
   },
   {
    "duration": 589,
    "start_time": "2021-08-22T08:16:32.741Z"
   },
   {
    "duration": 3098,
    "start_time": "2021-08-22T08:16:37.651Z"
   },
   {
    "duration": 948,
    "start_time": "2021-08-22T08:16:40.752Z"
   },
   {
    "duration": 5,
    "start_time": "2021-08-22T08:16:41.703Z"
   },
   {
    "duration": 164,
    "start_time": "2021-08-22T08:16:41.711Z"
   },
   {
    "duration": 150,
    "start_time": "2021-08-22T08:16:41.878Z"
   },
   {
    "duration": 520,
    "start_time": "2021-08-22T08:16:42.030Z"
   },
   {
    "duration": 31,
    "start_time": "2021-08-22T08:16:42.553Z"
   },
   {
    "duration": 295,
    "start_time": "2021-08-22T08:16:42.587Z"
   },
   {
    "duration": 3,
    "start_time": "2021-08-22T08:16:42.885Z"
   },
   {
    "duration": 421,
    "start_time": "2021-08-22T08:16:42.890Z"
   },
   {
    "duration": 43,
    "start_time": "2021-08-22T08:16:43.314Z"
   },
   {
    "duration": 73,
    "start_time": "2021-08-22T08:16:43.359Z"
   },
   {
    "duration": 73,
    "start_time": "2021-08-22T08:16:43.434Z"
   },
   {
    "duration": 39,
    "start_time": "2021-08-22T08:16:43.509Z"
   },
   {
    "duration": 406,
    "start_time": "2021-08-22T08:16:43.551Z"
   },
   {
    "duration": 322,
    "start_time": "2021-08-22T08:16:43.960Z"
   },
   {
    "duration": 325,
    "start_time": "2021-08-22T08:16:46.657Z"
   },
   {
    "duration": 318,
    "start_time": "2021-08-22T08:16:49.653Z"
   },
   {
    "duration": 45,
    "start_time": "2021-08-22T08:16:50.033Z"
   },
   {
    "duration": 320,
    "start_time": "2021-08-22T08:16:51.248Z"
   },
   {
    "duration": 21,
    "start_time": "2021-08-22T08:16:53.994Z"
   },
   {
    "duration": 312,
    "start_time": "2021-08-22T08:16:58.300Z"
   },
   {
    "duration": 3,
    "start_time": "2021-08-22T08:17:23.790Z"
   },
   {
    "duration": 4415,
    "start_time": "2021-08-22T08:17:28.595Z"
   },
   {
    "duration": 401,
    "start_time": "2021-08-22T08:17:33.013Z"
   },
   {
    "duration": 305,
    "start_time": "2021-08-22T08:17:44.223Z"
   },
   {
    "duration": 33,
    "start_time": "2021-08-22T08:17:49.725Z"
   },
   {
    "duration": 3027,
    "start_time": "2021-08-22T08:18:04.879Z"
   },
   {
    "duration": 940,
    "start_time": "2021-08-22T08:18:07.909Z"
   },
   {
    "duration": 5,
    "start_time": "2021-08-22T08:18:08.852Z"
   },
   {
    "duration": 160,
    "start_time": "2021-08-22T08:18:08.860Z"
   },
   {
    "duration": 148,
    "start_time": "2021-08-22T08:18:09.023Z"
   },
   {
    "duration": 510,
    "start_time": "2021-08-22T08:18:09.174Z"
   },
   {
    "duration": 20,
    "start_time": "2021-08-22T08:18:09.687Z"
   },
   {
    "duration": 315,
    "start_time": "2021-08-22T08:18:09.712Z"
   },
   {
    "duration": 3,
    "start_time": "2021-08-22T08:18:10.031Z"
   },
   {
    "duration": 448,
    "start_time": "2021-08-22T08:18:10.037Z"
   },
   {
    "duration": 48,
    "start_time": "2021-08-22T08:18:10.488Z"
   },
   {
    "duration": 81,
    "start_time": "2021-08-22T08:18:10.539Z"
   },
   {
    "duration": 82,
    "start_time": "2021-08-22T08:18:10.623Z"
   },
   {
    "duration": 41,
    "start_time": "2021-08-22T08:18:10.708Z"
   },
   {
    "duration": 400,
    "start_time": "2021-08-22T08:18:10.751Z"
   },
   {
    "duration": 320,
    "start_time": "2021-08-22T08:18:11.153Z"
   },
   {
    "duration": 37,
    "start_time": "2021-08-22T08:18:11.475Z"
   },
   {
    "duration": 3,
    "start_time": "2021-08-22T08:18:11.514Z"
   },
   {
    "duration": 24,
    "start_time": "2021-08-22T08:18:11.519Z"
   },
   {
    "duration": 3,
    "start_time": "2021-08-22T08:18:11.545Z"
   },
   {
    "duration": 73,
    "start_time": "2021-08-22T08:18:11.550Z"
   },
   {
    "duration": 19,
    "start_time": "2021-08-22T08:18:11.625Z"
   },
   {
    "duration": 3,
    "start_time": "2021-08-22T08:18:11.648Z"
   },
   {
    "duration": 4383,
    "start_time": "2021-08-22T08:18:11.653Z"
   },
   {
    "duration": 309,
    "start_time": "2021-08-22T08:18:16.039Z"
   },
   {
    "duration": 38,
    "start_time": "2021-08-22T08:18:16.351Z"
   },
   {
    "duration": 311,
    "start_time": "2021-08-22T08:18:34.198Z"
   },
   {
    "duration": 36,
    "start_time": "2021-08-22T08:18:35.633Z"
   },
   {
    "duration": 360,
    "start_time": "2021-08-22T08:18:36.470Z"
   },
   {
    "duration": 90,
    "start_time": "2021-08-22T08:18:47.465Z"
   },
   {
    "duration": 126,
    "start_time": "2021-08-22T08:18:49.744Z"
   },
   {
    "duration": 90,
    "start_time": "2021-08-22T08:18:55.377Z"
   },
   {
    "duration": 329,
    "start_time": "2021-08-22T08:18:59.157Z"
   },
   {
    "duration": 4366,
    "start_time": "2021-08-22T08:20:41.883Z"
   },
   {
    "duration": 1031,
    "start_time": "2021-08-22T08:20:46.252Z"
   },
   {
    "duration": 9,
    "start_time": "2021-08-22T08:20:47.286Z"
   },
   {
    "duration": 168,
    "start_time": "2021-08-22T08:20:47.298Z"
   },
   {
    "duration": 144,
    "start_time": "2021-08-22T08:20:47.468Z"
   },
   {
    "duration": 663,
    "start_time": "2021-08-22T08:20:47.614Z"
   },
   {
    "duration": 22,
    "start_time": "2021-08-22T08:20:48.283Z"
   },
   {
    "duration": 407,
    "start_time": "2021-08-22T08:20:48.309Z"
   },
   {
    "duration": 3,
    "start_time": "2021-08-22T08:20:48.719Z"
   },
   {
    "duration": 518,
    "start_time": "2021-08-22T08:20:48.724Z"
   },
   {
    "duration": 52,
    "start_time": "2021-08-22T08:20:49.244Z"
   },
   {
    "duration": 61,
    "start_time": "2021-08-22T08:20:49.298Z"
   },
   {
    "duration": 66,
    "start_time": "2021-08-22T08:20:49.361Z"
   },
   {
    "duration": 77,
    "start_time": "2021-08-22T08:20:49.430Z"
   },
   {
    "duration": 552,
    "start_time": "2021-08-22T08:20:49.509Z"
   },
   {
    "duration": 336,
    "start_time": "2021-08-22T08:20:50.063Z"
   },
   {
    "duration": 41,
    "start_time": "2021-08-22T08:20:50.401Z"
   },
   {
    "duration": 134,
    "start_time": "2021-08-22T08:20:50.444Z"
   },
   {
    "duration": 20,
    "start_time": "2021-08-22T08:20:50.582Z"
   },
   {
    "duration": 10,
    "start_time": "2021-08-22T08:20:50.605Z"
   },
   {
    "duration": 76,
    "start_time": "2021-08-22T08:20:50.618Z"
   },
   {
    "duration": 19,
    "start_time": "2021-08-22T08:20:50.696Z"
   },
   {
    "duration": 124,
    "start_time": "2021-08-22T08:20:50.720Z"
   },
   {
    "duration": 4110,
    "start_time": "2021-08-22T08:20:50.847Z"
   },
   {
    "duration": 341,
    "start_time": "2021-08-22T08:20:54.959Z"
   },
   {
    "duration": 33,
    "start_time": "2021-08-22T08:20:55.302Z"
   },
   {
    "duration": 520,
    "start_time": "2021-08-22T08:20:55.337Z"
   },
   {
    "duration": -82,
    "start_time": "2021-08-22T08:20:55.941Z"
   },
   {
    "duration": -87,
    "start_time": "2021-08-22T08:20:55.947Z"
   },
   {
    "duration": -91,
    "start_time": "2021-08-22T08:20:55.953Z"
   },
   {
    "duration": -96,
    "start_time": "2021-08-22T08:20:55.959Z"
   },
   {
    "duration": -101,
    "start_time": "2021-08-22T08:20:55.966Z"
   },
   {
    "duration": -108,
    "start_time": "2021-08-22T08:20:55.974Z"
   },
   {
    "duration": -114,
    "start_time": "2021-08-22T08:20:55.982Z"
   },
   {
    "duration": -117,
    "start_time": "2021-08-22T08:20:55.986Z"
   },
   {
    "duration": -123,
    "start_time": "2021-08-22T08:20:55.993Z"
   },
   {
    "duration": -130,
    "start_time": "2021-08-22T08:20:56.001Z"
   },
   {
    "duration": -134,
    "start_time": "2021-08-22T08:20:56.007Z"
   },
   {
    "duration": -139,
    "start_time": "2021-08-22T08:20:56.014Z"
   },
   {
    "duration": -143,
    "start_time": "2021-08-22T08:20:56.019Z"
   },
   {
    "duration": -146,
    "start_time": "2021-08-22T08:20:56.023Z"
   },
   {
    "duration": -151,
    "start_time": "2021-08-22T08:20:56.030Z"
   },
   {
    "duration": -154,
    "start_time": "2021-08-22T08:20:56.034Z"
   },
   {
    "duration": -158,
    "start_time": "2021-08-22T08:20:56.039Z"
   },
   {
    "duration": -163,
    "start_time": "2021-08-22T08:20:56.045Z"
   },
   {
    "duration": -167,
    "start_time": "2021-08-22T08:20:56.051Z"
   },
   {
    "duration": -169,
    "start_time": "2021-08-22T08:20:56.055Z"
   },
   {
    "duration": -173,
    "start_time": "2021-08-22T08:20:56.060Z"
   },
   {
    "duration": -178,
    "start_time": "2021-08-22T08:20:56.066Z"
   },
   {
    "duration": -181,
    "start_time": "2021-08-22T08:20:56.071Z"
   },
   {
    "duration": -185,
    "start_time": "2021-08-22T08:20:56.076Z"
   },
   {
    "duration": -190,
    "start_time": "2021-08-22T08:20:56.083Z"
   },
   {
    "duration": -194,
    "start_time": "2021-08-22T08:20:56.088Z"
   },
   {
    "duration": -198,
    "start_time": "2021-08-22T08:20:56.093Z"
   },
   {
    "duration": -225,
    "start_time": "2021-08-22T08:20:56.122Z"
   },
   {
    "duration": 298,
    "start_time": "2021-08-22T08:21:21.438Z"
   },
   {
    "duration": 4554,
    "start_time": "2021-08-22T08:21:28.799Z"
   },
   {
    "duration": 1005,
    "start_time": "2021-08-22T08:21:33.356Z"
   },
   {
    "duration": 7,
    "start_time": "2021-08-22T08:21:34.364Z"
   },
   {
    "duration": 164,
    "start_time": "2021-08-22T08:21:34.382Z"
   },
   {
    "duration": 147,
    "start_time": "2021-08-22T08:21:34.548Z"
   },
   {
    "duration": 567,
    "start_time": "2021-08-22T08:21:34.698Z"
   },
   {
    "duration": 27,
    "start_time": "2021-08-22T08:21:35.268Z"
   },
   {
    "duration": 346,
    "start_time": "2021-08-22T08:21:35.299Z"
   },
   {
    "duration": 3,
    "start_time": "2021-08-22T08:21:35.648Z"
   },
   {
    "duration": 516,
    "start_time": "2021-08-22T08:21:35.654Z"
   },
   {
    "duration": 53,
    "start_time": "2021-08-22T08:21:36.172Z"
   },
   {
    "duration": 72,
    "start_time": "2021-08-22T08:21:36.228Z"
   },
   {
    "duration": 81,
    "start_time": "2021-08-22T08:21:36.302Z"
   },
   {
    "duration": 42,
    "start_time": "2021-08-22T08:21:36.386Z"
   },
   {
    "duration": 388,
    "start_time": "2021-08-22T08:21:36.431Z"
   },
   {
    "duration": 325,
    "start_time": "2021-08-22T08:21:36.822Z"
   },
   {
    "duration": 47,
    "start_time": "2021-08-22T08:21:37.149Z"
   },
   {
    "duration": 114,
    "start_time": "2021-08-22T08:21:37.199Z"
   },
   {
    "duration": 21,
    "start_time": "2021-08-22T08:21:37.316Z"
   },
   {
    "duration": 5,
    "start_time": "2021-08-22T08:21:37.340Z"
   },
   {
    "duration": 80,
    "start_time": "2021-08-22T08:21:37.348Z"
   },
   {
    "duration": 18,
    "start_time": "2021-08-22T08:21:37.430Z"
   },
   {
    "duration": 119,
    "start_time": "2021-08-22T08:21:37.453Z"
   },
   {
    "duration": 4044,
    "start_time": "2021-08-22T08:21:37.576Z"
   },
   {
    "duration": 336,
    "start_time": "2021-08-22T08:21:41.623Z"
   },
   {
    "duration": 39,
    "start_time": "2021-08-22T08:21:41.962Z"
   },
   {
    "duration": 35,
    "start_time": "2021-08-22T08:21:42.003Z"
   },
   {
    "duration": 62,
    "start_time": "2021-08-22T08:21:42.040Z"
   },
   {
    "duration": 21,
    "start_time": "2021-08-22T08:21:42.105Z"
   },
   {
    "duration": 7,
    "start_time": "2021-08-22T08:21:42.129Z"
   },
   {
    "duration": 54,
    "start_time": "2021-08-22T08:21:42.138Z"
   },
   {
    "duration": 161,
    "start_time": "2021-08-22T08:21:42.195Z"
   },
   {
    "duration": 4,
    "start_time": "2021-08-22T08:21:42.359Z"
   },
   {
    "duration": 16,
    "start_time": "2021-08-22T08:21:42.366Z"
   },
   {
    "duration": 7,
    "start_time": "2021-08-22T08:21:42.386Z"
   },
   {
    "duration": 7410,
    "start_time": "2021-08-22T08:21:42.396Z"
   },
   {
    "duration": 180,
    "start_time": "2021-08-22T08:21:49.808Z"
   },
   {
    "duration": 206,
    "start_time": "2021-08-22T08:21:49.990Z"
   },
   {
    "duration": 985,
    "start_time": "2021-08-22T08:21:50.199Z"
   },
   {
    "duration": 27,
    "start_time": "2021-08-22T08:21:51.186Z"
   },
   {
    "duration": 244,
    "start_time": "2021-08-22T08:21:51.216Z"
   },
   {
    "duration": 1007,
    "start_time": "2021-08-22T08:21:51.463Z"
   },
   {
    "duration": 2752,
    "start_time": "2021-08-22T08:21:52.473Z"
   },
   {
    "duration": 27973,
    "start_time": "2021-08-22T08:21:55.227Z"
   },
   {
    "duration": 284,
    "start_time": "2021-08-22T08:22:23.203Z"
   },
   {
    "duration": 26999,
    "start_time": "2021-08-22T08:22:23.489Z"
   },
   {
    "duration": 7607,
    "start_time": "2021-08-22T08:22:50.492Z"
   },
   {
    "duration": 88683,
    "start_time": "2021-08-22T08:22:58.102Z"
   },
   {
    "duration": 14,
    "start_time": "2021-08-22T08:24:26.788Z"
   },
   {
    "duration": 13,
    "start_time": "2021-08-22T08:24:26.804Z"
   },
   {
    "duration": 11,
    "start_time": "2021-08-22T08:24:26.819Z"
   },
   {
    "duration": 59,
    "start_time": "2021-08-22T08:24:26.833Z"
   },
   {
    "duration": 12,
    "start_time": "2021-08-22T08:24:26.895Z"
   },
   {
    "duration": 677,
    "start_time": "2021-08-22T08:24:26.910Z"
   },
   {
    "duration": 333,
    "start_time": "2021-08-22T11:55:29.638Z"
   },
   {
    "duration": 4990,
    "start_time": "2021-08-22T12:44:35.353Z"
   },
   {
    "duration": 1061,
    "start_time": "2021-08-22T12:44:40.346Z"
   },
   {
    "duration": 8,
    "start_time": "2021-08-22T12:44:41.410Z"
   },
   {
    "duration": 168,
    "start_time": "2021-08-22T12:44:41.421Z"
   },
   {
    "duration": 161,
    "start_time": "2021-08-22T12:44:41.591Z"
   },
   {
    "duration": 597,
    "start_time": "2021-08-22T12:44:41.754Z"
   },
   {
    "duration": 26,
    "start_time": "2021-08-22T12:44:42.353Z"
   },
   {
    "duration": 397,
    "start_time": "2021-08-22T12:44:42.383Z"
   },
   {
    "duration": 3,
    "start_time": "2021-08-22T12:44:42.783Z"
   },
   {
    "duration": 545,
    "start_time": "2021-08-22T12:44:42.788Z"
   },
   {
    "duration": 57,
    "start_time": "2021-08-22T12:44:43.336Z"
   },
   {
    "duration": 77,
    "start_time": "2021-08-22T12:44:43.395Z"
   },
   {
    "duration": 65,
    "start_time": "2021-08-22T12:44:43.474Z"
   },
   {
    "duration": 66,
    "start_time": "2021-08-22T12:44:43.542Z"
   },
   {
    "duration": 432,
    "start_time": "2021-08-22T12:44:43.610Z"
   },
   {
    "duration": 350,
    "start_time": "2021-08-22T12:44:44.044Z"
   },
   {
    "duration": 73,
    "start_time": "2021-08-22T12:44:44.397Z"
   },
   {
    "duration": 119,
    "start_time": "2021-08-22T12:44:44.473Z"
   },
   {
    "duration": 20,
    "start_time": "2021-08-22T12:44:44.595Z"
   },
   {
    "duration": 6,
    "start_time": "2021-08-22T12:44:44.618Z"
   },
   {
    "duration": 83,
    "start_time": "2021-08-22T12:44:44.627Z"
   },
   {
    "duration": 20,
    "start_time": "2021-08-22T12:44:44.713Z"
   },
   {
    "duration": 126,
    "start_time": "2021-08-22T12:44:44.765Z"
   },
   {
    "duration": 6595,
    "start_time": "2021-08-22T12:44:44.895Z"
   },
   {
    "duration": 358,
    "start_time": "2021-08-22T12:44:51.492Z"
   },
   {
    "duration": 38,
    "start_time": "2021-08-22T12:44:51.852Z"
   },
   {
    "duration": 39,
    "start_time": "2021-08-22T12:44:51.892Z"
   },
   {
    "duration": 65,
    "start_time": "2021-08-22T12:44:51.933Z"
   },
   {
    "duration": 23,
    "start_time": "2021-08-22T12:44:52.001Z"
   },
   {
    "duration": 36,
    "start_time": "2021-08-22T12:44:52.027Z"
   },
   {
    "duration": 34,
    "start_time": "2021-08-22T12:44:52.066Z"
   },
   {
    "duration": 165,
    "start_time": "2021-08-22T12:44:52.102Z"
   },
   {
    "duration": 3,
    "start_time": "2021-08-22T12:44:52.270Z"
   },
   {
    "duration": 11,
    "start_time": "2021-08-22T12:44:52.275Z"
   },
   {
    "duration": 11,
    "start_time": "2021-08-22T12:44:52.288Z"
   },
   {
    "duration": 7503,
    "start_time": "2021-08-22T12:44:52.302Z"
   },
   {
    "duration": 167,
    "start_time": "2021-08-22T12:44:59.807Z"
   },
   {
    "duration": 238,
    "start_time": "2021-08-22T12:44:59.976Z"
   },
   {
    "duration": 1235,
    "start_time": "2021-08-22T12:45:00.216Z"
   },
   {
    "duration": 41,
    "start_time": "2021-08-22T12:45:01.453Z"
   },
   {
    "duration": 254,
    "start_time": "2021-08-22T12:45:01.497Z"
   },
   {
    "duration": 1246,
    "start_time": "2021-08-22T12:45:01.753Z"
   },
   {
    "duration": 3645,
    "start_time": "2021-08-22T12:45:03.003Z"
   },
   {
    "duration": 27218,
    "start_time": "2021-08-22T12:45:06.651Z"
   },
   {
    "duration": 210,
    "start_time": "2021-08-22T12:45:33.871Z"
   },
   {
    "duration": 28306,
    "start_time": "2021-08-22T12:45:34.163Z"
   },
   {
    "duration": 8001,
    "start_time": "2021-08-22T12:46:02.472Z"
   },
   {
    "duration": 345,
    "start_time": "2021-08-22T12:46:10.475Z"
   },
   {
    "duration": 95191,
    "start_time": "2021-08-22T12:46:10.823Z"
   },
   {
    "duration": 294,
    "start_time": "2021-08-22T12:47:46.017Z"
   },
   {
    "duration": -121,
    "start_time": "2021-08-22T12:47:46.435Z"
   },
   {
    "duration": -124,
    "start_time": "2021-08-22T12:47:46.440Z"
   },
   {
    "duration": -130,
    "start_time": "2021-08-22T12:47:46.447Z"
   },
   {
    "duration": -133,
    "start_time": "2021-08-22T12:47:46.452Z"
   },
   {
    "duration": -142,
    "start_time": "2021-08-22T12:47:46.462Z"
   },
   {
    "duration": 5117,
    "start_time": "2021-08-22T12:51:09.707Z"
   },
   {
    "duration": 1180,
    "start_time": "2021-08-22T12:51:14.827Z"
   },
   {
    "duration": 8,
    "start_time": "2021-08-22T12:51:16.010Z"
   },
   {
    "duration": 175,
    "start_time": "2021-08-22T12:51:16.021Z"
   },
   {
    "duration": 192,
    "start_time": "2021-08-22T12:51:16.200Z"
   },
   {
    "duration": 622,
    "start_time": "2021-08-22T12:51:16.394Z"
   },
   {
    "duration": 45,
    "start_time": "2021-08-22T12:51:17.019Z"
   },
   {
    "duration": 366,
    "start_time": "2021-08-22T12:51:17.068Z"
   },
   {
    "duration": 3,
    "start_time": "2021-08-22T12:51:17.437Z"
   },
   {
    "duration": 579,
    "start_time": "2021-08-22T12:51:17.442Z"
   },
   {
    "duration": 64,
    "start_time": "2021-08-22T12:51:18.023Z"
   },
   {
    "duration": 75,
    "start_time": "2021-08-22T12:51:18.089Z"
   },
   {
    "duration": 65,
    "start_time": "2021-08-22T12:51:18.167Z"
   },
   {
    "duration": 71,
    "start_time": "2021-08-22T12:51:18.235Z"
   },
   {
    "duration": 483,
    "start_time": "2021-08-22T12:51:18.308Z"
   },
   {
    "duration": 368,
    "start_time": "2021-08-22T12:51:18.794Z"
   },
   {
    "duration": 54,
    "start_time": "2021-08-22T12:51:19.165Z"
   },
   {
    "duration": 153,
    "start_time": "2021-08-22T12:51:19.222Z"
   },
   {
    "duration": 31,
    "start_time": "2021-08-22T12:51:19.379Z"
   },
   {
    "duration": 21,
    "start_time": "2021-08-22T12:51:19.413Z"
   },
   {
    "duration": 77,
    "start_time": "2021-08-22T12:51:19.436Z"
   },
   {
    "duration": 20,
    "start_time": "2021-08-22T12:51:19.515Z"
   },
   {
    "duration": 114,
    "start_time": "2021-08-22T12:51:19.561Z"
   },
   {
    "duration": 5011,
    "start_time": "2021-08-22T12:51:19.678Z"
   },
   {
    "duration": 370,
    "start_time": "2021-08-22T12:51:24.692Z"
   },
   {
    "duration": 36,
    "start_time": "2021-08-22T12:51:25.064Z"
   },
   {
    "duration": 63,
    "start_time": "2021-08-22T12:51:25.102Z"
   },
   {
    "duration": 45,
    "start_time": "2021-08-22T12:51:25.168Z"
   },
   {
    "duration": 50,
    "start_time": "2021-08-22T12:51:25.216Z"
   },
   {
    "duration": 7,
    "start_time": "2021-08-22T12:51:25.268Z"
   },
   {
    "duration": 28,
    "start_time": "2021-08-22T12:51:25.278Z"
   },
   {
    "duration": 207,
    "start_time": "2021-08-22T12:51:25.309Z"
   },
   {
    "duration": 3,
    "start_time": "2021-08-22T12:51:25.519Z"
   },
   {
    "duration": 11,
    "start_time": "2021-08-22T12:51:25.525Z"
   },
   {
    "duration": 27,
    "start_time": "2021-08-22T12:51:25.539Z"
   },
   {
    "duration": 7389,
    "start_time": "2021-08-22T12:51:25.569Z"
   },
   {
    "duration": 245,
    "start_time": "2021-08-22T12:51:32.961Z"
   },
   {
    "duration": 259,
    "start_time": "2021-08-22T12:51:33.209Z"
   },
   {
    "duration": 1260,
    "start_time": "2021-08-22T12:51:33.471Z"
   },
   {
    "duration": 40,
    "start_time": "2021-08-22T12:51:34.734Z"
   },
   {
    "duration": 246,
    "start_time": "2021-08-22T12:51:34.777Z"
   },
   {
    "duration": 1122,
    "start_time": "2021-08-22T12:51:35.026Z"
   },
   {
    "duration": 2951,
    "start_time": "2021-08-22T12:51:36.151Z"
   },
   {
    "duration": 36404,
    "start_time": "2021-08-22T12:51:39.104Z"
   },
   {
    "duration": 254,
    "start_time": "2021-08-22T12:52:15.510Z"
   },
   {
    "duration": 30597,
    "start_time": "2021-08-22T12:52:15.767Z"
   },
   {
    "duration": 8092,
    "start_time": "2021-08-22T12:52:46.370Z"
   },
   {
    "duration": 242044,
    "start_time": "2021-08-22T12:52:54.464Z"
   },
   {
    "duration": 99592,
    "start_time": "2021-08-22T12:56:56.511Z"
   },
   {
    "duration": 587,
    "start_time": "2021-08-22T12:58:36.105Z"
   },
   {
    "duration": -96,
    "start_time": "2021-08-22T12:58:36.791Z"
   },
   {
    "duration": -106,
    "start_time": "2021-08-22T12:58:36.802Z"
   },
   {
    "duration": -114,
    "start_time": "2021-08-22T12:58:36.812Z"
   },
   {
    "duration": -118,
    "start_time": "2021-08-22T12:58:36.817Z"
   },
   {
    "duration": -122,
    "start_time": "2021-08-22T12:58:36.823Z"
   },
   {
    "duration": -125,
    "start_time": "2021-08-22T12:58:36.827Z"
   },
   {
    "duration": 4941,
    "start_time": "2021-08-22T13:00:36.101Z"
   },
   {
    "duration": 1135,
    "start_time": "2021-08-22T13:00:41.046Z"
   },
   {
    "duration": 9,
    "start_time": "2021-08-22T13:00:42.184Z"
   },
   {
    "duration": 178,
    "start_time": "2021-08-22T13:00:42.196Z"
   },
   {
    "duration": 190,
    "start_time": "2021-08-22T13:00:42.377Z"
   },
   {
    "duration": 667,
    "start_time": "2021-08-22T13:00:42.569Z"
   },
   {
    "duration": 33,
    "start_time": "2021-08-22T13:00:43.239Z"
   },
   {
    "duration": 385,
    "start_time": "2021-08-22T13:00:43.276Z"
   },
   {
    "duration": 3,
    "start_time": "2021-08-22T13:00:43.665Z"
   },
   {
    "duration": 575,
    "start_time": "2021-08-22T13:00:43.671Z"
   },
   {
    "duration": 54,
    "start_time": "2021-08-22T13:00:44.249Z"
   },
   {
    "duration": 79,
    "start_time": "2021-08-22T13:00:44.306Z"
   },
   {
    "duration": 84,
    "start_time": "2021-08-22T13:00:44.387Z"
   },
   {
    "duration": 43,
    "start_time": "2021-08-22T13:00:44.473Z"
   },
   {
    "duration": 449,
    "start_time": "2021-08-22T13:00:44.519Z"
   },
   {
    "duration": 360,
    "start_time": "2021-08-22T13:00:44.971Z"
   },
   {
    "duration": 46,
    "start_time": "2021-08-22T13:00:45.334Z"
   },
   {
    "duration": 124,
    "start_time": "2021-08-22T13:00:45.383Z"
   },
   {
    "duration": 21,
    "start_time": "2021-08-22T13:00:45.510Z"
   },
   {
    "duration": 20,
    "start_time": "2021-08-22T13:00:45.533Z"
   },
   {
    "duration": 67,
    "start_time": "2021-08-22T13:00:45.556Z"
   },
   {
    "duration": 37,
    "start_time": "2021-08-22T13:00:45.625Z"
   },
   {
    "duration": 124,
    "start_time": "2021-08-22T13:00:45.668Z"
   },
   {
    "duration": 4280,
    "start_time": "2021-08-22T13:00:45.796Z"
   },
   {
    "duration": 365,
    "start_time": "2021-08-22T13:00:50.078Z"
   },
   {
    "duration": 41,
    "start_time": "2021-08-22T13:00:50.446Z"
   },
   {
    "duration": 39,
    "start_time": "2021-08-22T13:00:50.490Z"
   },
   {
    "duration": 71,
    "start_time": "2021-08-22T13:00:50.531Z"
   },
   {
    "duration": 29,
    "start_time": "2021-08-22T13:00:50.604Z"
   },
   {
    "duration": 11,
    "start_time": "2021-08-22T13:00:50.635Z"
   },
   {
    "duration": 27,
    "start_time": "2021-08-22T13:00:50.662Z"
   },
   {
    "duration": 174,
    "start_time": "2021-08-22T13:00:50.691Z"
   },
   {
    "duration": 4,
    "start_time": "2021-08-22T13:00:50.867Z"
   },
   {
    "duration": 9,
    "start_time": "2021-08-22T13:00:50.874Z"
   },
   {
    "duration": 18,
    "start_time": "2021-08-22T13:00:50.885Z"
   },
   {
    "duration": 7698,
    "start_time": "2021-08-22T13:00:50.905Z"
   },
   {
    "duration": 176,
    "start_time": "2021-08-22T13:00:58.606Z"
   },
   {
    "duration": 358,
    "start_time": "2021-08-22T13:00:58.786Z"
   },
   {
    "duration": 1172,
    "start_time": "2021-08-22T13:00:59.147Z"
   },
   {
    "duration": 41,
    "start_time": "2021-08-22T13:01:00.321Z"
   },
   {
    "duration": 240,
    "start_time": "2021-08-22T13:01:00.367Z"
   },
   {
    "duration": 1070,
    "start_time": "2021-08-22T13:01:00.609Z"
   },
   {
    "duration": 2929,
    "start_time": "2021-08-22T13:01:01.681Z"
   },
   {
    "duration": 36451,
    "start_time": "2021-08-22T13:01:04.612Z"
   },
   {
    "duration": 297,
    "start_time": "2021-08-22T13:01:41.066Z"
   },
   {
    "duration": 27803,
    "start_time": "2021-08-22T13:01:41.366Z"
   },
   {
    "duration": 7894,
    "start_time": "2021-08-22T13:02:09.171Z"
   },
   {
    "duration": 63426,
    "start_time": "2021-08-22T13:02:17.067Z"
   },
   {
    "duration": 105233,
    "start_time": "2021-08-22T13:03:20.496Z"
   },
   {
    "duration": 12,
    "start_time": "2021-08-22T13:05:05.731Z"
   },
   {
    "duration": 11,
    "start_time": "2021-08-22T13:05:05.763Z"
   },
   {
    "duration": 18,
    "start_time": "2021-08-22T13:05:05.777Z"
   },
   {
    "duration": 11,
    "start_time": "2021-08-22T13:05:05.797Z"
   },
   {
    "duration": 54,
    "start_time": "2021-08-22T13:05:05.811Z"
   },
   {
    "duration": 12,
    "start_time": "2021-08-22T13:05:05.868Z"
   },
   {
    "duration": 728,
    "start_time": "2021-08-22T13:05:05.883Z"
   }
  ],
  "kernelspec": {
   "display_name": "Python 3",
   "language": "python",
   "name": "python3"
  },
  "language_info": {
   "codemirror_mode": {
    "name": "ipython",
    "version": 3
   },
   "file_extension": ".py",
   "mimetype": "text/x-python",
   "name": "python",
   "nbconvert_exporter": "python",
   "pygments_lexer": "ipython3",
   "version": "3.8.5"
  },
  "toc": {
   "base_numbering": 1,
   "nav_menu": {},
   "number_sections": true,
   "sideBar": true,
   "skip_h1_title": true,
   "title_cell": "Table of Contents",
   "title_sidebar": "Contents",
   "toc_cell": false,
   "toc_position": {},
   "toc_section_display": true,
   "toc_window_display": false
  }
 },
 "nbformat": 4,
 "nbformat_minor": 2
}
