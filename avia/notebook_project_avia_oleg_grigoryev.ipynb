{
 "cells": [
  {
   "cell_type": "markdown",
   "metadata": {
    "toc": true
   },
   "source": [
    "<h1>Содержание<span class=\"tocSkip\"></span></h1>\n",
    "<div class=\"toc\"><ul class=\"toc-item\"><li><ul class=\"toc-item\"><li><span><a href=\"#Данные\" data-toc-modified-id=\"Данные-0.1\"><span class=\"toc-item-num\">0.1&nbsp;&nbsp;</span>Данные</a></span></li><li><span><a href=\"#План-на-проект\" data-toc-modified-id=\"План-на-проект-0.2\"><span class=\"toc-item-num\">0.2&nbsp;&nbsp;</span>План на проект</a></span></li></ul></li><li><span><a href=\"#Аналитика\" data-toc-modified-id=\"Аналитика-1\"><span class=\"toc-item-num\">1&nbsp;&nbsp;</span>Аналитика</a></span><ul class=\"toc-item\"><li><span><a href=\"#Импортирую-библиотеки:\" data-toc-modified-id=\"Импортирую-библиотеки:-1.1\"><span class=\"toc-item-num\">1.1&nbsp;&nbsp;</span>Импортирую библиотеки:</a></span></li><li><span><a href=\"#Прочитаю-данные\" data-toc-modified-id=\"Прочитаю-данные-1.2\"><span class=\"toc-item-num\">1.2&nbsp;&nbsp;</span>Прочитаю данные</a></span></li><li><span><a href=\"#Выберу-топ-10-городов-по-количеству-рейсов\" data-toc-modified-id=\"Выберу-топ-10-городов-по-количеству-рейсов-1.3\"><span class=\"toc-item-num\">1.3&nbsp;&nbsp;</span>Выберу топ-10 городов по количеству рейсов</a></span></li><li><span><a href=\"#Построю-графики:\" data-toc-modified-id=\"Построю-графики:-1.4\"><span class=\"toc-item-num\">1.4&nbsp;&nbsp;</span>Построю графики:</a></span><ul class=\"toc-item\"><li><span><a href=\"#Модели-самолётов-и-количество-рейсов\" data-toc-modified-id=\"Модели-самолётов-и-количество-рейсов-1.4.1\"><span class=\"toc-item-num\">1.4.1&nbsp;&nbsp;</span>Модели самолётов и количество рейсов</a></span></li><li><span><a href=\"#Города-и-количество-рейсов\" data-toc-modified-id=\"Города-и-количество-рейсов-1.4.2\"><span class=\"toc-item-num\">1.4.2&nbsp;&nbsp;</span>Города и количество рейсов</a></span></li><li><span><a href=\"#Топ-10-говородов-по-количеству-рейсов\" data-toc-modified-id=\"Топ-10-говородов-по-количеству-рейсов-1.4.3\"><span class=\"toc-item-num\">1.4.3&nbsp;&nbsp;</span>Топ-10 говородов по количеству рейсов</a></span></li></ul></li><li><span><a href=\"#Общий-вывод\" data-toc-modified-id=\"Общий-вывод-1.5\"><span class=\"toc-item-num\">1.5&nbsp;&nbsp;</span>Общий вывод</a></span></li></ul></li><li><span><a href=\"#Чек-лист-проверки\" data-toc-modified-id=\"Чек-лист-проверки-2\"><span class=\"toc-item-num\">2&nbsp;&nbsp;</span>Чек-лист проверки</a></span></li></ul></div>"
   ]
  },
  {
   "cell_type": "markdown",
   "metadata": {},
   "source": [
    "# Описание проекта"
   ]
  },
  {
   "cell_type": "markdown",
   "metadata": {},
   "source": [
    "Есть авиакомпания, выполняющая внутренние пассажирские перевозки. Нужно определить предпочтения пользователей, покупающих билеты на разные направления. Проверить зависимость продаж билетов и расположения крупнейших культурных фестивалей."
   ]
  },
  {
   "cell_type": "markdown",
   "metadata": {},
   "source": [
    "### Данные"
   ]
  },
  {
   "cell_type": "markdown",
   "metadata": {},
   "source": [
    "Есть файлы:\n",
    "\n",
    "**query_1.csv**:\n",
    "\n",
    "- *model* — модель самолета;\n",
    "- *flights_amount* — количество рейсов для каждой модели самолетов *model* в сентябре 2018 года.\n",
    "\n",
    "**query_3.csv**:\n",
    "\n",
    "- *city* — город;\n",
    "- *average_flights* — среднее количество рейсов, прибывающих в город (*city*) за день в сентябре 2018 года."
   ]
  },
  {
   "cell_type": "markdown",
   "metadata": {},
   "source": [
    "### План на проект"
   ]
  },
  {
   "cell_type": "markdown",
   "metadata": {},
   "source": [
    "- импортирую файлы;\n",
    "- изучу данные в них;\n",
    "- проверю типы данных на корректность;\n",
    "- выберу топ-10 городов по количеству рейсов;\n",
    "- построю графики: модели самолётов и количество рейсов, города и количество рейсов, топ-10 городов и количество рейсов;\n",
    "- сделаю выводы."
   ]
  },
  {
   "cell_type": "markdown",
   "metadata": {},
   "source": [
    "## Аналитика"
   ]
  },
  {
   "cell_type": "markdown",
   "metadata": {},
   "source": [
    "### Импортирую библиотеки:"
   ]
  },
  {
   "cell_type": "code",
   "execution_count": 1,
   "metadata": {},
   "outputs": [
    {
     "name": "stdout",
     "output_type": "stream",
     "text": [
      "Defaulting to user installation because normal site-packages is not writeable\n",
      "Collecting matplotlib\n",
      "  Downloading matplotlib-3.4.3-cp37-cp37m-manylinux1_x86_64.whl (10.3 MB)\n",
      "\u001b[K     |████████████████████████████████| 10.3 MB 1.2 MB/s eta 0:00:01\n",
      "\u001b[?25hRequirement already satisfied, skipping upgrade: pyparsing>=2.2.1 in /opt/conda/lib/python3.7/site-packages (from matplotlib) (2.4.7)\n",
      "Requirement already satisfied, skipping upgrade: python-dateutil>=2.7 in /opt/conda/lib/python3.7/site-packages (from matplotlib) (2.8.1)\n",
      "Requirement already satisfied, skipping upgrade: cycler>=0.10 in /opt/conda/lib/python3.7/site-packages (from matplotlib) (0.10.0)\n",
      "Requirement already satisfied, skipping upgrade: kiwisolver>=1.0.1 in /opt/conda/lib/python3.7/site-packages (from matplotlib) (1.3.1)\n",
      "Requirement already satisfied, skipping upgrade: pillow>=6.2.0 in /opt/conda/lib/python3.7/site-packages (from matplotlib) (7.0.0)\n",
      "Requirement already satisfied, skipping upgrade: numpy>=1.16 in /opt/conda/lib/python3.7/site-packages (from matplotlib) (1.19.5)\n",
      "Requirement already satisfied, skipping upgrade: six>=1.5 in /opt/conda/lib/python3.7/site-packages (from python-dateutil>=2.7->matplotlib) (1.15.0)\n",
      "Installing collected packages: matplotlib\n",
      "Successfully installed matplotlib-3.4.3\n"
     ]
    }
   ],
   "source": [
    "import pandas as pd\n",
    "!pip3 install --upgrade matplotlib\n",
    "import matplotlib.pyplot as plt"
   ]
  },
  {
   "cell_type": "markdown",
   "metadata": {},
   "source": [
    "### Прочитаю данные"
   ]
  },
  {
   "cell_type": "code",
   "execution_count": 2,
   "metadata": {},
   "outputs": [],
   "source": [
    "df1 = pd.read_csv('/datasets/query_1.csv')\n",
    "df3 = pd.read_csv('/datasets/query_3.csv')"
   ]
  },
  {
   "cell_type": "code",
   "execution_count": 3,
   "metadata": {},
   "outputs": [
    {
     "name": "stdout",
     "output_type": "stream",
     "text": [
      "<class 'pandas.core.frame.DataFrame'>\n",
      "RangeIndex: 8 entries, 0 to 7\n",
      "Data columns (total 2 columns):\n",
      "model             8 non-null object\n",
      "flights_amount    8 non-null int64\n",
      "dtypes: int64(1), object(1)\n",
      "memory usage: 256.0+ bytes\n"
     ]
    }
   ],
   "source": [
    "df1.info()"
   ]
  },
  {
   "cell_type": "code",
   "execution_count": 4,
   "metadata": {
    "scrolled": true
   },
   "outputs": [
    {
     "data": {
      "text/html": [
       "<div>\n",
       "<style scoped>\n",
       "    .dataframe tbody tr th:only-of-type {\n",
       "        vertical-align: middle;\n",
       "    }\n",
       "\n",
       "    .dataframe tbody tr th {\n",
       "        vertical-align: top;\n",
       "    }\n",
       "\n",
       "    .dataframe thead th {\n",
       "        text-align: right;\n",
       "    }\n",
       "</style>\n",
       "<table border=\"1\" class=\"dataframe\">\n",
       "  <thead>\n",
       "    <tr style=\"text-align: right;\">\n",
       "      <th></th>\n",
       "      <th>model</th>\n",
       "      <th>flights_amount</th>\n",
       "    </tr>\n",
       "  </thead>\n",
       "  <tbody>\n",
       "    <tr>\n",
       "      <td>0</td>\n",
       "      <td>Airbus A319-100</td>\n",
       "      <td>607</td>\n",
       "    </tr>\n",
       "    <tr>\n",
       "      <td>1</td>\n",
       "      <td>Airbus A321-200</td>\n",
       "      <td>960</td>\n",
       "    </tr>\n",
       "    <tr>\n",
       "      <td>2</td>\n",
       "      <td>Boeing 737-300</td>\n",
       "      <td>630</td>\n",
       "    </tr>\n",
       "  </tbody>\n",
       "</table>\n",
       "</div>"
      ],
      "text/plain": [
       "             model  flights_amount\n",
       "0  Airbus A319-100             607\n",
       "1  Airbus A321-200             960\n",
       "2   Boeing 737-300             630"
      ]
     },
     "execution_count": 4,
     "metadata": {},
     "output_type": "execute_result"
    }
   ],
   "source": [
    "df1.head(3)"
   ]
  },
  {
   "cell_type": "code",
   "execution_count": 5,
   "metadata": {},
   "outputs": [
    {
     "name": "stdout",
     "output_type": "stream",
     "text": [
      "<class 'pandas.core.frame.DataFrame'>\n",
      "RangeIndex: 101 entries, 0 to 100\n",
      "Data columns (total 2 columns):\n",
      "city               101 non-null object\n",
      "average_flights    101 non-null float64\n",
      "dtypes: float64(1), object(1)\n",
      "memory usage: 1.7+ KB\n"
     ]
    }
   ],
   "source": [
    "df3.info()"
   ]
  },
  {
   "cell_type": "code",
   "execution_count": 6,
   "metadata": {
    "scrolled": true
   },
   "outputs": [
    {
     "data": {
      "text/html": [
       "<div>\n",
       "<style scoped>\n",
       "    .dataframe tbody tr th:only-of-type {\n",
       "        vertical-align: middle;\n",
       "    }\n",
       "\n",
       "    .dataframe tbody tr th {\n",
       "        vertical-align: top;\n",
       "    }\n",
       "\n",
       "    .dataframe thead th {\n",
       "        text-align: right;\n",
       "    }\n",
       "</style>\n",
       "<table border=\"1\" class=\"dataframe\">\n",
       "  <thead>\n",
       "    <tr style=\"text-align: right;\">\n",
       "      <th></th>\n",
       "      <th>city</th>\n",
       "      <th>average_flights</th>\n",
       "    </tr>\n",
       "  </thead>\n",
       "  <tbody>\n",
       "    <tr>\n",
       "      <td>0</td>\n",
       "      <td>Абакан</td>\n",
       "      <td>3.870968</td>\n",
       "    </tr>\n",
       "    <tr>\n",
       "      <td>1</td>\n",
       "      <td>Анадырь</td>\n",
       "      <td>1.000000</td>\n",
       "    </tr>\n",
       "    <tr>\n",
       "      <td>2</td>\n",
       "      <td>Анапа</td>\n",
       "      <td>2.161290</td>\n",
       "    </tr>\n",
       "  </tbody>\n",
       "</table>\n",
       "</div>"
      ],
      "text/plain": [
       "      city  average_flights\n",
       "0   Абакан         3.870968\n",
       "1  Анадырь         1.000000\n",
       "2    Анапа         2.161290"
      ]
     },
     "execution_count": 6,
     "metadata": {},
     "output_type": "execute_result"
    }
   ],
   "source": [
    "df3.head(3)"
   ]
  },
  {
   "cell_type": "markdown",
   "metadata": {},
   "source": [
    "Данные чистые, типы данных корректные."
   ]
  },
  {
   "cell_type": "markdown",
   "metadata": {},
   "source": [
    "### Выберу топ-10 городов по количеству рейсов"
   ]
  },
  {
   "cell_type": "code",
   "execution_count": 7,
   "metadata": {
    "scrolled": true
   },
   "outputs": [
    {
     "data": {
      "text/html": [
       "<div>\n",
       "<style scoped>\n",
       "    .dataframe tbody tr th:only-of-type {\n",
       "        vertical-align: middle;\n",
       "    }\n",
       "\n",
       "    .dataframe tbody tr th {\n",
       "        vertical-align: top;\n",
       "    }\n",
       "\n",
       "    .dataframe thead th {\n",
       "        text-align: right;\n",
       "    }\n",
       "</style>\n",
       "<table border=\"1\" class=\"dataframe\">\n",
       "  <thead>\n",
       "    <tr style=\"text-align: right;\">\n",
       "      <th></th>\n",
       "      <th>city</th>\n",
       "      <th>average_flights</th>\n",
       "    </tr>\n",
       "  </thead>\n",
       "  <tbody>\n",
       "    <tr>\n",
       "      <td>43</td>\n",
       "      <td>Москва</td>\n",
       "      <td>129.774194</td>\n",
       "    </tr>\n",
       "    <tr>\n",
       "      <td>70</td>\n",
       "      <td>Санкт-Петербург</td>\n",
       "      <td>31.161290</td>\n",
       "    </tr>\n",
       "    <tr>\n",
       "      <td>54</td>\n",
       "      <td>Новосибирск</td>\n",
       "      <td>17.322581</td>\n",
       "    </tr>\n",
       "    <tr>\n",
       "      <td>33</td>\n",
       "      <td>Красноярск</td>\n",
       "      <td>11.580645</td>\n",
       "    </tr>\n",
       "    <tr>\n",
       "      <td>20</td>\n",
       "      <td>Екатеринбург</td>\n",
       "      <td>11.322581</td>\n",
       "    </tr>\n",
       "    <tr>\n",
       "      <td>67</td>\n",
       "      <td>Ростов-на-Дону</td>\n",
       "      <td>10.193548</td>\n",
       "    </tr>\n",
       "    <tr>\n",
       "      <td>63</td>\n",
       "      <td>Пермь</td>\n",
       "      <td>10.129032</td>\n",
       "    </tr>\n",
       "    <tr>\n",
       "      <td>10</td>\n",
       "      <td>Брянск</td>\n",
       "      <td>10.000000</td>\n",
       "    </tr>\n",
       "    <tr>\n",
       "      <td>74</td>\n",
       "      <td>Сочи</td>\n",
       "      <td>9.612903</td>\n",
       "    </tr>\n",
       "    <tr>\n",
       "      <td>84</td>\n",
       "      <td>Ульяновск</td>\n",
       "      <td>9.580645</td>\n",
       "    </tr>\n",
       "  </tbody>\n",
       "</table>\n",
       "</div>"
      ],
      "text/plain": [
       "               city  average_flights\n",
       "43           Москва       129.774194\n",
       "70  Санкт-Петербург        31.161290\n",
       "54      Новосибирск        17.322581\n",
       "33       Красноярск        11.580645\n",
       "20     Екатеринбург        11.322581\n",
       "67   Ростов-на-Дону        10.193548\n",
       "63            Пермь        10.129032\n",
       "10           Брянск        10.000000\n",
       "74             Сочи         9.612903\n",
       "84        Ульяновск         9.580645"
      ]
     },
     "execution_count": 7,
     "metadata": {},
     "output_type": "execute_result"
    }
   ],
   "source": [
    "df3.sort_values(by='average_flights', ascending=False).head(10)"
   ]
  },
  {
   "cell_type": "markdown",
   "metadata": {},
   "source": [
    "Москва закономерно лидирует, так как является туристическим и деловым центром, а так же авиахабом."
   ]
  },
  {
   "cell_type": "markdown",
   "metadata": {},
   "source": [
    "### Построю графики:"
   ]
  },
  {
   "cell_type": "markdown",
   "metadata": {},
   "source": [
    "#### Модели самолётов и количество рейсов"
   ]
  },
  {
   "cell_type": "code",
   "execution_count": 8,
   "metadata": {
    "scrolled": false
   },
   "outputs": [
    {
     "data": {
      "text/plain": [
       "Text(0.5, 0, 'Модель самолёта')"
      ]
     },
     "execution_count": 8,
     "metadata": {},
     "output_type": "execute_result"
    },
    {
     "data": {
      "image/png": "[encoded data removed]",
      "text/plain": [
       "<Figure size 432x288 with 1 Axes>"
      ]
     },
     "metadata": {
      "needs_background": "light"
     },
     "output_type": "display_data"
    }
   ],
   "source": [
    "ax = df1.sort_values(\n",
    "    by='flights_amount', ascending=True).plot(kind='bar',\n",
    "                                              x='model',\n",
    "                                              y='flights_amount',\n",
    "                                              title='Модели самолётов и количество рейсов',\n",
    "                                              rot=45)\n",
    "ax.set_ylabel('Количество рейсов')\n",
    "ax.set_xlabel('Модель самолёта')"
   ]
  },
  {
   "cell_type": "markdown",
   "metadata": {},
   "source": [
    "__Вывод:__ наиболее популярны самолёты малой вместимости и дальности полёта."
   ]
  },
  {
   "cell_type": "markdown",
   "metadata": {},
   "source": [
    "#### Города и количество рейсов"
   ]
  },
  {
   "cell_type": "code",
   "execution_count": 9,
   "metadata": {
    "scrolled": true
   },
   "outputs": [
    {
     "data": {
      "text/plain": [
       "Text(0.5, 0, 'Города')"
      ]
     },
     "execution_count": 9,
     "metadata": {},
     "output_type": "execute_result"
    },
    {
     "data": {
      "image/png": "[encoded data removed]",
      "text/plain": [
       "<Figure size 1440x216 with 1 Axes>"
      ]
     },
     "metadata": {
      "needs_background": "light"
     },
     "output_type": "display_data"
    }
   ],
   "source": [
    "sorted_cities = df3.sort_values(by='average_flights', ascending=False)\n",
    "ax = sorted_cities.plot(kind='bar',\n",
    "                       x='city',\n",
    "                       y='average_flights',\n",
    "                       title='Города и количество рейсов',\n",
    "                       rot=90,\n",
    "                       figsize=(20,3))\n",
    "ax.set_ylabel('Количество рейсов')\n",
    "ax.set_xlabel('Города')"
   ]
  },
  {
   "cell_type": "code",
   "execution_count": 10,
   "metadata": {
    "scrolled": true
   },
   "outputs": [
    {
     "data": {
      "text/html": [
       "<div>\n",
       "<style scoped>\n",
       "    .dataframe tbody tr th:only-of-type {\n",
       "        vertical-align: middle;\n",
       "    }\n",
       "\n",
       "    .dataframe tbody tr th {\n",
       "        vertical-align: top;\n",
       "    }\n",
       "\n",
       "    .dataframe thead th {\n",
       "        text-align: right;\n",
       "    }\n",
       "</style>\n",
       "<table border=\"1\" class=\"dataframe\">\n",
       "  <thead>\n",
       "    <tr style=\"text-align: right;\">\n",
       "      <th></th>\n",
       "      <th>average_flights</th>\n",
       "    </tr>\n",
       "  </thead>\n",
       "  <tbody>\n",
       "    <tr>\n",
       "      <td>count</td>\n",
       "      <td>101.000000</td>\n",
       "    </tr>\n",
       "    <tr>\n",
       "      <td>mean</td>\n",
       "      <td>5.494189</td>\n",
       "    </tr>\n",
       "    <tr>\n",
       "      <td>std</td>\n",
       "      <td>13.119790</td>\n",
       "    </tr>\n",
       "    <tr>\n",
       "      <td>min</td>\n",
       "      <td>1.000000</td>\n",
       "    </tr>\n",
       "    <tr>\n",
       "      <td>25%</td>\n",
       "      <td>2.000000</td>\n",
       "    </tr>\n",
       "    <tr>\n",
       "      <td>50%</td>\n",
       "      <td>3.000000</td>\n",
       "    </tr>\n",
       "    <tr>\n",
       "      <td>75%</td>\n",
       "      <td>5.870968</td>\n",
       "    </tr>\n",
       "    <tr>\n",
       "      <td>max</td>\n",
       "      <td>129.774194</td>\n",
       "    </tr>\n",
       "  </tbody>\n",
       "</table>\n",
       "</div>"
      ],
      "text/plain": [
       "       average_flights\n",
       "count       101.000000\n",
       "mean          5.494189\n",
       "std          13.119790\n",
       "min           1.000000\n",
       "25%           2.000000\n",
       "50%           3.000000\n",
       "75%           5.870968\n",
       "max         129.774194"
      ]
     },
     "execution_count": 10,
     "metadata": {},
     "output_type": "execute_result"
    }
   ],
   "source": [
    "df3.describe()"
   ]
  },
  {
   "cell_type": "code",
   "execution_count": 11,
   "metadata": {
    "scrolled": true
   },
   "outputs": [
    {
     "data": {
      "text/plain": [
       "<matplotlib.axes._subplots.AxesSubplot at 0x7f3bd64ddd50>"
      ]
     },
     "execution_count": 11,
     "metadata": {},
     "output_type": "execute_result"
    },
    {
     "data": {
      "image/png": "[encoded data removed]",
      "text/plain": [
       "<Figure size 216x216 with 1 Axes>"
      ]
     },
     "metadata": {
      "needs_background": "light"
     },
     "output_type": "display_data"
    }
   ],
   "source": [
    "sorted_cities.plot(kind='box', figsize=(3,3))"
   ]
  },
  {
   "cell_type": "markdown",
   "metadata": {},
   "source": [
    "__Вывод:__ Драматически много рейсов в Москве, а так же в СПб и Новосибирске. Похоже, эти города очень популярны или просто выступают траспортными хабами при дальних перелётах (Москва и Новосибирск точно)."
   ]
  },
  {
   "cell_type": "markdown",
   "metadata": {},
   "source": [
    "#### Топ-10 говородов по количеству рейсов"
   ]
  },
  {
   "cell_type": "code",
   "execution_count": 12,
   "metadata": {
    "scrolled": true
   },
   "outputs": [
    {
     "data": {
      "text/plain": [
       "Text(0.5, 17.19999999999999, 'Города')"
      ]
     },
     "execution_count": 12,
     "metadata": {},
     "output_type": "execute_result"
    },
    {
     "data": {
      "image/png": "[encoded data removed]",
      "text/plain": [
       "<Figure size 288x216 with 1 Axes>"
      ]
     },
     "metadata": {
      "needs_background": "light"
     },
     "output_type": "display_data"
    }
   ],
   "source": [
    "sorted_cities.head(10).plot(kind='bar',\n",
    "                            x='city',\n",
    "                            y='average_flights',\n",
    "                            title='Топ-10 говородов по количеству рейсов',\n",
    "                            rot=90,\n",
    "                            figsize=(4,3))\n",
    "ax.set_ylabel('Количество рейсов')\n",
    "ax.set_xlabel('Города')"
   ]
  },
  {
   "cell_type": "markdown",
   "metadata": {},
   "source": [
    "__Вывод:__ Драматически много рейсов в Москве, а так же в СПб и Новосибирске. Похоже, эти города очень популярны или просто выступают траспортными хабами при дальних перелётах (Москва и Новосибирск точно)."
   ]
  },
  {
   "cell_type": "markdown",
   "metadata": {},
   "source": [
    "### Общий вывод\n",
    "Наиболее популярные направления — города крупнейшие города, которые привлекают гостей и связывают территории. Учитывая популярность небольших самолётов, я бы проверил долю  внутренних рейсов не небольшие расстояния — похоже, их будет большинство."
   ]
  },
  {
   "attachments": {
    "image.png": {
     "image/png": "[encoded data removed]"
    }
   },
   "cell_type": "markdown",
   "metadata": {},
   "source": [
    "![image.png](attachment:image.png)"
   ]
  }
 ],
 "metadata": {
  "ExecuteTimeLog": [
   {
    "duration": 488,
    "start_time": "2021-10-11T19:37:21.252Z"
   },
   {
    "duration": 1111,
    "start_time": "2021-10-11T19:37:21.742Z"
   },
   {
    "duration": 351,
    "start_time": "2021-10-11T19:37:22.504Z"
   },
   {
    "duration": 346,
    "start_time": "2021-10-11T19:37:22.510Z"
   },
   {
    "duration": 344,
    "start_time": "2021-10-11T19:37:22.513Z"
   },
   {
    "duration": 340,
    "start_time": "2021-10-11T19:37:22.518Z"
   },
   {
    "duration": 337,
    "start_time": "2021-10-11T19:37:22.522Z"
   },
   {
    "duration": 134,
    "start_time": "2021-10-11T19:37:23.275Z"
   },
   {
    "duration": 137,
    "start_time": "2021-10-11T19:37:23.791Z"
   },
   {
    "duration": 135,
    "start_time": "2021-10-11T19:37:24.255Z"
   },
   {
    "duration": 997,
    "start_time": "2021-10-11T19:37:44.602Z"
   },
   {
    "duration": 393,
    "start_time": "2021-10-11T19:37:45.208Z"
   },
   {
    "duration": 27,
    "start_time": "2021-10-11T19:37:50.183Z"
   },
   {
    "duration": 7,
    "start_time": "2021-10-11T19:37:50.365Z"
   },
   {
    "duration": 12,
    "start_time": "2021-10-11T19:37:50.554Z"
   },
   {
    "duration": 6,
    "start_time": "2021-10-11T19:37:50.727Z"
   },
   {
    "duration": 7,
    "start_time": "2021-10-11T19:37:50.895Z"
   },
   {
    "duration": 8,
    "start_time": "2021-10-11T19:37:51.389Z"
   },
   {
    "duration": 348,
    "start_time": "2021-10-11T19:37:52.007Z"
   },
   {
    "duration": 315,
    "start_time": "2021-10-11T19:37:52.471Z"
   },
   {
    "duration": 389,
    "start_time": "2021-10-11T19:37:52.399Z"
   },
   {
    "duration": 132,
    "start_time": "2021-10-11T19:37:52.789Z"
   },
   {
    "duration": 318,
    "start_time": "2021-10-11T19:37:53.305Z"
   },
   {
    "duration": 625,
    "start_time": "2021-10-11T21:13:26.119Z"
   },
   {
    "duration": 32,
    "start_time": "2021-10-11T21:13:26.746Z"
   },
   {
    "duration": 11,
    "start_time": "2021-10-11T21:13:26.780Z"
   },
   {
    "duration": 18,
    "start_time": "2021-10-11T21:13:26.793Z"
   },
   {
    "duration": 12,
    "start_time": "2021-10-11T21:13:26.813Z"
   },
   {
    "duration": 24,
    "start_time": "2021-10-11T21:13:26.827Z"
   },
   {
    "duration": 15,
    "start_time": "2021-10-11T21:13:26.853Z"
   },
   {
    "duration": 496,
    "start_time": "2021-10-11T21:13:26.871Z"
   },
   {
    "duration": -40,
    "start_time": "2021-10-11T21:13:27.410Z"
   },
   {
    "duration": -40,
    "start_time": "2021-10-11T21:13:27.412Z"
   },
   {
    "duration": -64,
    "start_time": "2021-10-11T21:13:27.437Z"
   },
   {
    "duration": -64,
    "start_time": "2021-10-11T21:13:27.439Z"
   },
   {
    "duration": 345,
    "start_time": "2021-10-11T21:13:47.748Z"
   },
   {
    "duration": 374,
    "start_time": "2021-10-11T21:14:00.444Z"
   },
   {
    "duration": 3,
    "start_time": "2021-10-11T21:15:29.428Z"
   },
   {
    "duration": 400,
    "start_time": "2021-10-11T21:15:31.401Z"
   },
   {
    "duration": 78,
    "start_time": "2021-10-11T21:18:36.697Z"
   },
   {
    "duration": 4975,
    "start_time": "2021-10-11T21:18:40.529Z"
   },
   {
    "duration": 383,
    "start_time": "2021-10-11T21:18:52.258Z"
   },
   {
    "duration": 366,
    "start_time": "2021-10-11T21:19:56.064Z"
   },
   {
    "duration": 186,
    "start_time": "2021-10-11T21:20:04.563Z"
   },
   {
    "duration": 178,
    "start_time": "2021-10-11T21:24:46.459Z"
   },
   {
    "duration": 189,
    "start_time": "2021-10-11T21:25:17.095Z"
   },
   {
    "duration": 187,
    "start_time": "2021-10-11T21:25:34.842Z"
   },
   {
    "duration": 193,
    "start_time": "2021-10-11T21:25:51.245Z"
   },
   {
    "duration": 179,
    "start_time": "2021-10-11T21:25:54.691Z"
   },
   {
    "duration": 186,
    "start_time": "2021-10-11T21:26:20.616Z"
   },
   {
    "duration": 69,
    "start_time": "2021-10-11T21:28:54.241Z"
   },
   {
    "duration": 194,
    "start_time": "2021-10-11T21:28:58.886Z"
   },
   {
    "duration": 1526,
    "start_time": "2021-10-11T21:30:26.569Z"
   },
   {
    "duration": 1390,
    "start_time": "2021-10-11T21:31:17.805Z"
   },
   {
    "duration": 3310,
    "start_time": "2021-10-11T21:31:51.104Z"
   },
   {
    "duration": 31,
    "start_time": "2021-10-11T21:31:54.417Z"
   },
   {
    "duration": 7,
    "start_time": "2021-10-11T21:31:54.453Z"
   },
   {
    "duration": 10,
    "start_time": "2021-10-11T21:31:54.462Z"
   },
   {
    "duration": 5,
    "start_time": "2021-10-11T21:31:54.474Z"
   },
   {
    "duration": 9,
    "start_time": "2021-10-11T21:31:54.480Z"
   },
   {
    "duration": 11,
    "start_time": "2021-10-11T21:31:54.492Z"
   },
   {
    "duration": 389,
    "start_time": "2021-10-11T21:31:54.505Z"
   },
   {
    "duration": 1428,
    "start_time": "2021-10-11T21:31:54.897Z"
   },
   {
    "duration": 22,
    "start_time": "2021-10-11T21:31:56.328Z"
   },
   {
    "duration": 210,
    "start_time": "2021-10-11T21:31:56.352Z"
   },
   {
    "duration": 272,
    "start_time": "2021-10-11T21:31:56.564Z"
   },
   {
    "duration": 3162,
    "start_time": "2021-10-11T21:33:03.267Z"
   },
   {
    "duration": 31,
    "start_time": "2021-10-11T21:33:06.431Z"
   },
   {
    "duration": 9,
    "start_time": "2021-10-11T21:33:06.464Z"
   },
   {
    "duration": 11,
    "start_time": "2021-10-11T21:33:06.475Z"
   },
   {
    "duration": 5,
    "start_time": "2021-10-11T21:33:06.487Z"
   },
   {
    "duration": 8,
    "start_time": "2021-10-11T21:33:06.494Z"
   },
   {
    "duration": 8,
    "start_time": "2021-10-11T21:33:06.504Z"
   },
   {
    "duration": 351,
    "start_time": "2021-10-11T21:33:06.514Z"
   },
   {
    "duration": 1395,
    "start_time": "2021-10-11T21:33:06.867Z"
   },
   {
    "duration": 11,
    "start_time": "2021-10-11T21:33:08.264Z"
   },
   {
    "duration": 206,
    "start_time": "2021-10-11T21:33:08.276Z"
   },
   {
    "duration": 277,
    "start_time": "2021-10-11T21:33:08.483Z"
   },
   {
    "duration": 9157,
    "start_time": "2021-10-12T05:59:16.024Z"
   },
   {
    "duration": 29,
    "start_time": "2021-10-12T05:59:25.184Z"
   },
   {
    "duration": 12,
    "start_time": "2021-10-12T05:59:25.216Z"
   },
   {
    "duration": 16,
    "start_time": "2021-10-12T05:59:25.230Z"
   },
   {
    "duration": 19,
    "start_time": "2021-10-12T05:59:25.248Z"
   },
   {
    "duration": 9,
    "start_time": "2021-10-12T05:59:25.270Z"
   },
   {
    "duration": 14,
    "start_time": "2021-10-12T05:59:25.281Z"
   },
   {
    "duration": 368,
    "start_time": "2021-10-12T05:59:25.299Z"
   },
   {
    "duration": 2436,
    "start_time": "2021-10-12T05:59:25.669Z"
   },
   {
    "duration": 17,
    "start_time": "2021-10-12T05:59:28.108Z"
   },
   {
    "duration": 282,
    "start_time": "2021-10-12T05:59:28.127Z"
   },
   {
    "duration": 323,
    "start_time": "2021-10-12T05:59:28.412Z"
   }
  ],
  "kernelspec": {
   "display_name": "Python 3 (ipykernel)",
   "language": "python",
   "name": "python3"
  },
  "language_info": {
   "codemirror_mode": {
    "name": "ipython",
    "version": 3
   },
   "file_extension": ".py",
   "mimetype": "text/x-python",
   "name": "python",
   "nbconvert_exporter": "python",
   "pygments_lexer": "ipython3",
   "version": "3.8.8"
  },
  "toc": {
   "base_numbering": 1,
   "nav_menu": {},
   "number_sections": true,
   "sideBar": true,
   "skip_h1_title": true,
   "title_cell": "Содержание",
   "title_sidebar": "Contents",
   "toc_cell": true,
   "toc_position": {},
   "toc_section_display": true,
   "toc_window_display": true
  }
 },
 "nbformat": 4,
 "nbformat_minor": 2
}
